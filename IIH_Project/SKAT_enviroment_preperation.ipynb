{
 "cells": [
  {
   "cell_type": "markdown",
   "metadata": {},
   "source": [
    "# SKAT Enviroment Preperation"
   ]
  },
  {
   "cell_type": "markdown",
   "metadata": {},
   "source": [
    "## Descpreription\n",
    "this notebook prepares the neccesary files and scripts to run the SKAT analysis for a given phenotype (in csv file) and plink format genetic files "
   ]
  },
  {
   "cell_type": "code",
   "execution_count": 18,
   "metadata": {},
   "outputs": [],
   "source": [
    "import pandas as pd\n",
    "import pandas_plink as pdp\n",
    "from ipywidgets import IntProgress\n",
    "from IPython import display\n",
    "import os"
   ]
  },
  {
   "cell_type": "code",
   "execution_count": 2,
   "metadata": {},
   "outputs": [],
   "source": [
    "PROJECT_PATH = \"/cs/labs/michall/roeizucker/SKAT_experiments/SetID\"\n",
    "FILE_CONTAINING_PARTICIPANTS = PROJECT_PATH + \"/data_participant.csv\"\n",
    "OLD_PHENOTYPE_FILE = '/cs/labs/michall/roeizucker/10krun/runs/48:59/ukbb_dataset.csv'\n",
    "PHENOTYPE_FILE_NAME = PROJECT_PATH + \"/phens.csv\"\n",
    "SET_ID_FILE_MAX_LENGTH = 5000\n",
    "GENE_FILE_PATH = '/cs/labs/michall/roeizucker/virt_env_install_test/genes_hg19.csv'\n",
    "# temp covar /cs/labs/michall/roeizucker/phewas_run/runs1/1000:1009/GWAS/covariates.txt"
   ]
  },
  {
   "cell_type": "code",
   "execution_count": 32,
   "metadata": {},
   "outputs": [
    {
     "data": {
      "text/plain": [
       "0         0.0\n",
       "1         0.0\n",
       "2         0.0\n",
       "3         0.0\n",
       "4         0.0\n",
       "         ... \n",
       "333410    0.0\n",
       "333411    0.0\n",
       "333412    0.0\n",
       "333413    0.0\n",
       "333414    0.0\n",
       "Name: IIH_mod, Length: 333415, dtype: float64"
      ]
     },
     "execution_count": 32,
     "metadata": {},
     "output_type": "execute_result"
    }
   ],
   "source": [
    "curr_df = pd.read_csv(\"/cs/labs/michall/roeizucker/SKAT_experiments/SetID/ukbb_dataset_withIIH.csv\")\n"
   ]
  },
  {
   "cell_type": "code",
   "execution_count": 33,
   "metadata": {},
   "outputs": [
    {
     "data": {
      "text/plain": [
       "0.0    333242\n",
       "1.0       173\n",
       "Name: IIH_mod, dtype: int64"
      ]
     },
     "execution_count": 33,
     "metadata": {},
     "output_type": "execute_result"
    }
   ],
   "source": [
    "curr_df[\"IIH_mod\"].value_counts()"
   ]
  },
  {
   "cell_type": "markdown",
   "metadata": {},
   "source": [
    "## create basic SetID file \n",
    "the SKAT program uses a SetID file that defines which gene contains which variant."
   ]
  },
  {
   "cell_type": "code",
   "execution_count": 4,
   "metadata": {},
   "outputs": [],
   "source": [
    "GENES_FILE_PATH = \"/cs/usr/roeizucker/my_storage/virt_env_install_test/genes_hg19.csv\""
   ]
  },
  {
   "cell_type": "markdown",
   "metadata": {},
   "source": [
    "### load genes file\n",
    "this file is part of the PWAS pipeline, it defines the location and size of each gene"
   ]
  },
  {
   "cell_type": "code",
   "execution_count": 5,
   "metadata": {},
   "outputs": [],
   "source": [
    "gene_file_dataframe = pd.read_csv(GENES_FILE_PATH)[[\"uniprot_id\",\"chr\",\"cds_start\",\"cds_end\"]]"
   ]
  },
  {
   "cell_type": "markdown",
   "metadata": {},
   "source": [
    "### load PLINK format genetic files"
   ]
  },
  {
   "cell_type": "code",
   "execution_count": 6,
   "metadata": {},
   "outputs": [],
   "source": [
    "PLINK_FILE_BASE_PATH = \"/cs/labs/michall/roeizucker/plink_results/reduced_snps2/small_ch\""
   ]
  },
  {
   "cell_type": "code",
   "execution_count": 7,
   "metadata": {},
   "outputs": [],
   "source": [
    "plink_results = []\n",
    "for i in range(1,23):\n",
    "    df = pdp.read_plink(PLINK_FILE_BASE_PATH + str(i),verbose=False)[0][[\"snp\",\"pos\"]]\n",
    "    result = [(x, y) for x, y in zip(df['snp'], df['pos'])]\n",
    "    plink_results.append((i,result))"
   ]
  },
  {
   "cell_type": "code",
   "execution_count": 8,
   "metadata": {},
   "outputs": [
    {
     "name": "stdout",
     "output_type": "stream",
     "text": [
      "22\n"
     ]
    }
   ],
   "source": [
    "print(len(plink_results))"
   ]
  },
  {
   "cell_type": "code",
   "execution_count": 9,
   "metadata": {},
   "outputs": [
    {
     "name": "stdout",
     "output_type": "stream",
     "text": [
      "chr is: 22\n"
     ]
    }
   ],
   "source": [
    "print(\"chr is:\",i)\n",
    "val = pdp.read_plink(PLINK_FILE_BASE_PATH + str(i),verbose=False)\n"
   ]
  },
  {
   "cell_type": "code",
   "execution_count": 10,
   "metadata": {},
   "outputs": [
    {
     "data": {
      "text/html": [
       "<table>\n",
       "    <tr>\n",
       "        <td>\n",
       "            <table>\n",
       "                <thead>\n",
       "                    <tr>\n",
       "                        <td> </td>\n",
       "                        <th> Array </th>\n",
       "                        <th> Chunk </th>\n",
       "                    </tr>\n",
       "                </thead>\n",
       "                <tbody>\n",
       "                    \n",
       "                    <tr>\n",
       "                        <th> Bytes </th>\n",
       "                        <td> 27.24 GiB </td>\n",
       "                        <td> 4.00 MiB </td>\n",
       "                    </tr>\n",
       "                    \n",
       "                    <tr>\n",
       "                        <th> Shape </th>\n",
       "                        <td> (15002, 487409) </td>\n",
       "                        <td> (1024, 1024) </td>\n",
       "                    </tr>\n",
       "                    <tr>\n",
       "                        <th> Count </th>\n",
       "                        <td> 42840 Tasks </td>\n",
       "                        <td> 7140 Chunks </td>\n",
       "                    </tr>\n",
       "                    <tr>\n",
       "                    <th> Type </th>\n",
       "                    <td> float32 </td>\n",
       "                    <td> numpy.ndarray </td>\n",
       "                    </tr>\n",
       "                </tbody>\n",
       "            </table>\n",
       "        </td>\n",
       "        <td>\n",
       "        <svg width=\"170\" height=\"81\" style=\"stroke:rgb(0,0,0);stroke-width:1\" >\n",
       "\n",
       "  <!-- Horizontal lines -->\n",
       "  <line x1=\"0\" y1=\"0\" x2=\"120\" y2=\"0\" style=\"stroke-width:2\" />\n",
       "  <line x1=\"0\" y1=\"2\" x2=\"120\" y2=\"2\" />\n",
       "  <line x1=\"0\" y1=\"4\" x2=\"120\" y2=\"4\" />\n",
       "  <line x1=\"0\" y1=\"6\" x2=\"120\" y2=\"6\" />\n",
       "  <line x1=\"0\" y1=\"8\" x2=\"120\" y2=\"8\" />\n",
       "  <line x1=\"0\" y1=\"10\" x2=\"120\" y2=\"10\" />\n",
       "  <line x1=\"0\" y1=\"12\" x2=\"120\" y2=\"12\" />\n",
       "  <line x1=\"0\" y1=\"15\" x2=\"120\" y2=\"15\" />\n",
       "  <line x1=\"0\" y1=\"17\" x2=\"120\" y2=\"17\" />\n",
       "  <line x1=\"0\" y1=\"19\" x2=\"120\" y2=\"19\" />\n",
       "  <line x1=\"0\" y1=\"21\" x2=\"120\" y2=\"21\" />\n",
       "  <line x1=\"0\" y1=\"23\" x2=\"120\" y2=\"23\" />\n",
       "  <line x1=\"0\" y1=\"25\" x2=\"120\" y2=\"25\" />\n",
       "  <line x1=\"0\" y1=\"27\" x2=\"120\" y2=\"27\" />\n",
       "  <line x1=\"0\" y1=\"30\" x2=\"120\" y2=\"30\" />\n",
       "  <line x1=\"0\" y1=\"31\" x2=\"120\" y2=\"31\" style=\"stroke-width:2\" />\n",
       "\n",
       "  <!-- Vertical lines -->\n",
       "  <line x1=\"0\" y1=\"0\" x2=\"0\" y2=\"31\" style=\"stroke-width:2\" />\n",
       "  <line x1=\"6\" y1=\"0\" x2=\"6\" y2=\"31\" />\n",
       "  <line x1=\"12\" y1=\"0\" x2=\"12\" y2=\"31\" />\n",
       "  <line x1=\"18\" y1=\"0\" x2=\"18\" y2=\"31\" />\n",
       "  <line x1=\"25\" y1=\"0\" x2=\"25\" y2=\"31\" />\n",
       "  <line x1=\"31\" y1=\"0\" x2=\"31\" y2=\"31\" />\n",
       "  <line x1=\"37\" y1=\"0\" x2=\"37\" y2=\"31\" />\n",
       "  <line x1=\"44\" y1=\"0\" x2=\"44\" y2=\"31\" />\n",
       "  <line x1=\"50\" y1=\"0\" x2=\"50\" y2=\"31\" />\n",
       "  <line x1=\"56\" y1=\"0\" x2=\"56\" y2=\"31\" />\n",
       "  <line x1=\"63\" y1=\"0\" x2=\"63\" y2=\"31\" />\n",
       "  <line x1=\"69\" y1=\"0\" x2=\"69\" y2=\"31\" />\n",
       "  <line x1=\"75\" y1=\"0\" x2=\"75\" y2=\"31\" />\n",
       "  <line x1=\"81\" y1=\"0\" x2=\"81\" y2=\"31\" />\n",
       "  <line x1=\"88\" y1=\"0\" x2=\"88\" y2=\"31\" />\n",
       "  <line x1=\"94\" y1=\"0\" x2=\"94\" y2=\"31\" />\n",
       "  <line x1=\"100\" y1=\"0\" x2=\"100\" y2=\"31\" />\n",
       "  <line x1=\"107\" y1=\"0\" x2=\"107\" y2=\"31\" />\n",
       "  <line x1=\"113\" y1=\"0\" x2=\"113\" y2=\"31\" />\n",
       "  <line x1=\"120\" y1=\"0\" x2=\"120\" y2=\"31\" style=\"stroke-width:2\" />\n",
       "\n",
       "  <!-- Colored Rectangle -->\n",
       "  <polygon points=\"0.0,0.0 120.0,0.0 120.0,31.544031670163466 0.0,31.544031670163466\" style=\"fill:#8B4903A0;stroke-width:0\"/>\n",
       "\n",
       "  <!-- Text -->\n",
       "  <text x=\"60.000000\" y=\"51.544032\" font-size=\"1.0rem\" font-weight=\"100\" text-anchor=\"middle\" >487409</text>\n",
       "  <text x=\"140.000000\" y=\"15.772016\" font-size=\"1.0rem\" font-weight=\"100\" text-anchor=\"middle\" transform=\"rotate(-90,140.000000,15.772016)\">15002</text>\n",
       "</svg>\n",
       "        </td>\n",
       "    </tr>\n",
       "</table>"
      ],
      "text/plain": [
       "dask.array<transpose, shape=(15002, 487409), dtype=float32, chunksize=(1024, 1024), chunktype=numpy.ndarray>"
      ]
     },
     "execution_count": 10,
     "metadata": {},
     "output_type": "execute_result"
    }
   ],
   "source": [
    "res = val[2]\n",
    "res"
   ]
  },
  {
   "cell_type": "markdown",
   "metadata": {},
   "source": [
    "### create gene-variant associations"
   ]
  },
  {
   "cell_type": "code",
   "execution_count": 11,
   "metadata": {},
   "outputs": [
    {
     "name": "stdout",
     "output_type": "stream",
     "text": [
      "10\n",
      "24.434941967012826\n"
     ]
    },
    {
     "ename": "KeyboardInterrupt",
     "evalue": "",
     "output_type": "error",
     "traceback": [
      "\u001b[0;31m---------------------------------------------------------------------------\u001b[0m",
      "\u001b[0;31mKeyboardInterrupt\u001b[0m                         Traceback (most recent call last)",
      "\u001b[0;32m/tmp/ipykernel_22233/818815658.py\u001b[0m in \u001b[0;36m<module>\u001b[0;34m\u001b[0m\n\u001b[1;32m      9\u001b[0m         \u001b[0mpos\u001b[0m \u001b[0;34m=\u001b[0m \u001b[0mval\u001b[0m\u001b[0;34m[\u001b[0m\u001b[0;36m1\u001b[0m\u001b[0;34m]\u001b[0m\u001b[0;34m\u001b[0m\u001b[0;34m\u001b[0m\u001b[0m\n\u001b[1;32m     10\u001b[0m         \u001b[0mname\u001b[0m\u001b[0;34m=\u001b[0m \u001b[0mval\u001b[0m\u001b[0;34m[\u001b[0m\u001b[0;36m0\u001b[0m\u001b[0;34m]\u001b[0m\u001b[0;34m\u001b[0m\u001b[0;34m\u001b[0m\u001b[0m\n\u001b[0;32m---> 11\u001b[0;31m         \u001b[0mgenes\u001b[0m \u001b[0;34m=\u001b[0m \u001b[0mlist\u001b[0m\u001b[0;34m(\u001b[0m\u001b[0mreduced_gene_dataframe\u001b[0m\u001b[0;34m[\u001b[0m\u001b[0;34m(\u001b[0m\u001b[0mreduced_gene_dataframe\u001b[0m\u001b[0;34m[\u001b[0m\u001b[0;34m\"cds_start\"\u001b[0m\u001b[0;34m]\u001b[0m \u001b[0;34m<=\u001b[0m \u001b[0mpos\u001b[0m\u001b[0;34m)\u001b[0m \u001b[0;34m&\u001b[0m \u001b[0;34m(\u001b[0m\u001b[0mreduced_gene_dataframe\u001b[0m\u001b[0;34m[\u001b[0m\u001b[0;34m\"cds_end\"\u001b[0m\u001b[0;34m]\u001b[0m \u001b[0;34m>=\u001b[0m \u001b[0mpos\u001b[0m\u001b[0;34m)\u001b[0m\u001b[0;34m]\u001b[0m\u001b[0;34m[\u001b[0m\u001b[0;34m\"uniprot_id\"\u001b[0m\u001b[0;34m]\u001b[0m\u001b[0;34m)\u001b[0m\u001b[0;34m\u001b[0m\u001b[0;34m\u001b[0m\u001b[0m\n\u001b[0m\u001b[1;32m     12\u001b[0m         \u001b[0;32mfor\u001b[0m \u001b[0mgene\u001b[0m \u001b[0;32min\u001b[0m \u001b[0mgenes\u001b[0m\u001b[0;34m:\u001b[0m\u001b[0;34m\u001b[0m\u001b[0;34m\u001b[0m\u001b[0m\n\u001b[1;32m     13\u001b[0m             \u001b[0mgene_association_result\u001b[0m\u001b[0;34m.\u001b[0m\u001b[0mappend\u001b[0m\u001b[0;34m(\u001b[0m\u001b[0;34m(\u001b[0m\u001b[0mname\u001b[0m\u001b[0;34m,\u001b[0m\u001b[0mgene\u001b[0m\u001b[0;34m)\u001b[0m\u001b[0;34m)\u001b[0m\u001b[0;34m\u001b[0m\u001b[0;34m\u001b[0m\u001b[0m\n",
      "\u001b[0;31mKeyboardInterrupt\u001b[0m: "
     ]
    }
   ],
   "source": [
    "gene_association_result = []\n",
    "\n",
    "for (chrom, vals) in plink_results:\n",
    "    reduced_gene_dataframe = gene_file_dataframe[gene_file_dataframe[\"chr\"] == str(chrom)]\n",
    "    display.clear_output()\n",
    "    print(chrom)\n",
    "    counter = 0\n",
    "    for val in vals:\n",
    "        pos = val[1]\n",
    "        name= val[0]\n",
    "        genes = list(reduced_gene_dataframe[(reduced_gene_dataframe[\"cds_start\"] <= pos) & (reduced_gene_dataframe[\"cds_end\"] >= pos)][\"uniprot_id\"])\n",
    "        for gene in genes:\n",
    "            gene_association_result.append((name,gene))\n",
    "        counter +=1\n",
    "        if counter %3000 == 0:\n",
    "            display.clear_output()\n",
    "            print(chrom)\n",
    "            print(counter/len(vals) * 100)\n",
    "gene_association_result = sorted(gene_association_result,key= lambda x:x[1])"
   ]
  },
  {
   "cell_type": "code",
   "execution_count": null,
   "metadata": {},
   "outputs": [],
   "source": []
  },
  {
   "cell_type": "code",
   "execution_count": null,
   "metadata": {},
   "outputs": [],
   "source": [
    "print(len(gene_association_result))"
   ]
  },
  {
   "cell_type": "markdown",
   "metadata": {},
   "source": [
    "### write variant-gene associations to SetID file"
   ]
  },
  {
   "cell_type": "code",
   "execution_count": null,
   "metadata": {},
   "outputs": [],
   "source": [
    "set_id_file_path = PROJECT_PATH + \"/\" + \"genes.SetID\"\n",
    "counter = 0\n",
    "lines_seen = set()\n",
    "counter = 0\n",
    "with open(set_id_file_path,\"w\") as file:\n",
    "    for (variant,gene) in gene_association_result[0:len(gene_association_result) // 2]:\n",
    "        if counter %10000 == 0:\n",
    "            display.clear_output()\n",
    "            print(counter/len(gene_association_result) * 100)\n",
    "        if f\"{gene} {variant}\" not in lines_seen:\n",
    "            file.write(f\"{gene} {variant}\\n\")\n",
    "            lines_seen.add(f\"{gene} {variant}\")  \n",
    "        counter +=1"
   ]
  },
  {
   "cell_type": "code",
   "execution_count": null,
   "metadata": {},
   "outputs": [],
   "source": [
    "PROJECT_PATH"
   ]
  },
  {
   "cell_type": "markdown",
   "metadata": {},
   "source": [
    "### write variant-gene associations to multiple SetID files"
   ]
  },
  {
   "cell_type": "code",
   "execution_count": null,
   "metadata": {},
   "outputs": [],
   "source": [
    "def get_variants_for_genes(counter,gene_association_result):\n",
    "    new_counter = counter\n",
    "    curr_gene = gene_association_result[new_counter][1]    \n",
    "    gene_vars = []\n",
    "    while new_counter < len(gene_association_result) and gene_association_result[new_counter][1] == curr_gene:\n",
    "        gene_vars.append(gene_association_result[new_counter])\n",
    "        new_counter+=1\n",
    "        if new_counter %10000 == 0:\n",
    "            display.clear_output()\n",
    "            print(new_counter/len(gene_association_result) * 100)\n",
    "    return gene_vars,new_counter\n",
    "\n",
    "\n",
    "set_id_file_path = PROJECT_PATH + \"/\" + \"genes.SetID\"\n",
    "counter = 0\n",
    "lines_seen = set()\n",
    "counter = 0\n",
    "curr_file = 0\n",
    "add_to_curr_file = []\n",
    "while counter < len(gene_association_result):\n",
    "    curr_gene = gene_association_result[counter][1]\n",
    "    add_to_curr_file,counter = get_variants_for_genes(counter,gene_association_result)\n",
    "    new_counter = counter\n",
    "    gene_vars = []\n",
    "    while len(add_to_curr_file) + len(gene_vars) < SET_ID_FILE_MAX_LENGTH and new_counter < len(gene_association_result):\n",
    "        \n",
    "        add_to_curr_file.extend(gene_vars)\n",
    "        counter = new_counter\n",
    "        if new_counter >= len(gene_association_result):\n",
    "            print(\"aaaa\")\n",
    "        gene_vars,new_counter = get_variants_for_genes(counter,gene_association_result)\n",
    "        \n",
    "#     set_id_file_path = PROJECT_PATH + \"/\" + \"genes.SetID\"\n",
    "    set_id_file_path = f\"{PROJECT_PATH}/genes_{curr_file}.SetID\"\n",
    "    with open(set_id_file_path,\"w\") as file:\n",
    "        for (variant,gene) in add_to_curr_file:\n",
    "            if f\"{gene} {variant}\" not in lines_seen:\n",
    "                file.write(f\"{gene} {variant}\\n\")\n",
    "                lines_seen.add(f\"{gene} {variant}\")  \n",
    "    \n",
    "    curr_file+=1"
   ]
  },
  {
   "cell_type": "markdown",
   "metadata": {},
   "source": [
    "### create slurm scripts for generating SSD from setID"
   ]
  },
  {
   "cell_type": "code",
   "execution_count": null,
   "metadata": {},
   "outputs": [],
   "source": [
    "# only for a single chromosome:\n",
    "CHROM = 4\n",
    "SET_ID_PATH = \"/cs/labs/michall/roeizucker/SKAT_experiments/SetID\"\n",
    "R_FILE = f\"/cs/labs/michall/roeizucker/IIH/scripts/create_SSD_{CHROM}.R\"\n",
    "PYTHON_FILE = f\"/cs/labs/michall/roeizucker/IIH/scripts/create_SSD_{CHROM}.py\"\n",
    "CSV_FILE = f\"/cs/labs/michall/roeizucker/IIH/scripts/create_SSD_{CHROM}.csv\"\n",
    "BASH_FILE = f\"/cs/labs/michall/roeizucker/IIH/scripts/create_SSD_{CHROM}.sh\"\n",
    "BASE_PATH = \"/cs/labs/michall/roeizucker/IIH\"\n",
    "CURR_BED = f\"/cs/labs/michall/roeizucker/SKAT_experiments/mydata_filtered_{CHROM}.bed\"\n",
    "CURR_BIM = f\"/cs/labs/michall/roeizucker/SKAT_experiments/mydata_filtered_{CHROM}.bim\"\n",
    "CURR_FAM = f\"/cs/labs/michall/roeizucker/SKAT_experiments/mydata_filtered_{CHROM}.fam\"\n",
    "with open(R_FILE,\"w\") as file:\n",
    "        file.write('''require(SKAT)\n",
    "args = commandArgs(trailingOnly=TRUE)\n",
    "File.Bed<-args[1]\n",
    "File.Bim<-args[2]\n",
    "File.Fam<-args[3]\n",
    "File.SetID<-args[4]\n",
    "File.SSD<-args[5]\n",
    "File.Info<-args[6]\n",
    "Generate_SSD_SetID(File.Bed, File.Bim, File.Fam, File.SetID, File.SSD, File.Info)\n",
    "print(\"Done\")\n",
    "''')\n"
   ]
  },
  {
   "cell_type": "code",
   "execution_count": null,
   "metadata": {},
   "outputs": [],
   "source": [
    "with open(CSV_FILE,\"w\") as file:\n",
    "    file.write(\"bed,bim,fam,SetID,SSD,info\\n\")\n",
    "    for i in range(curr_file):\n",
    "        file.write(f\"{CURR_BED},{CURR_BIM},{CURR_FAM},{SET_ID_PATH}/genes_{i}.SetID,{BASE_PATH}/genes_{CHROM}_{i}.SSD,{BASE_PATH}/genes_{CHROM}_{i}.SSD.info\\n\")\n",
    "    "
   ]
  },
  {
   "cell_type": "code",
   "execution_count": null,
   "metadata": {},
   "outputs": [],
   "source": [
    "import pandas as pd\n",
    "import sys\n",
    "import os\n",
    "df = pd.read_csv(CSV_FILE)\n",
    "line = df.iloc[int(sys.argv[1]),]\n",
    "# line = df.iloc[3,]\n",
    "os.system('/cs/cbio/netanel/lib/R4/bin/Rscript ' + R_FILE + ' ' + line.bed + ' ' + line.bim + ' ' + line.fam + ' ' + line.SetID + ' ' + line.SSD + ' ' + line.info)"
   ]
  },
  {
   "cell_type": "code",
   "execution_count": null,
   "metadata": {},
   "outputs": [],
   "source": [
    "with open(PYTHON_FILE,\"w\") as file:\n",
    "    file.write(\"import pandas as pd\\n\")\n",
    "    file.write(\"import sys\\n\")\n",
    "    file.write(\"import os\\n\")\n",
    "    file.write(\"df = pd.read_csv('\"+CSV_FILE+\"')\\n\")\n",
    "    file.write(\"line = df.iloc[int(sys.argv[1]),]\\n\")\n",
    "    file.write(\"os.system('/cs/cbio/netanel/lib/R4/bin/Rscript \" + R_FILE + \" ' + line.bed + ' ' + line.bim + ' ' + line.fam + ' ' + line.SetID + ' ' + line.SSD + ' ' + line.info)\\n\")\n",
    "    file.write(\"\\n\")\n",
    "    \n"
   ]
  },
  {
   "cell_type": "code",
   "execution_count": null,
   "metadata": {},
   "outputs": [],
   "source": [
    "with open(BASH_FILE,\"w\") as file:\n",
    "    file.write(f\"python {PYTHON_FILE} $SLURM_ARRAY_TASK_ID\\n\")\n"
   ]
  },
  {
   "cell_type": "code",
   "execution_count": null,
   "metadata": {},
   "outputs": [],
   "source": [
    "!chmod 744 {BASH_FILE}"
   ]
  },
  {
   "cell_type": "code",
   "execution_count": null,
   "metadata": {},
   "outputs": [],
   "source": [
    "!echo {BASH_FILE}"
   ]
  },
  {
   "cell_type": "markdown",
   "metadata": {},
   "source": [
    "### create SETId files for multiple chromosomes"
   ]
  },
  {
   "cell_type": "code",
   "execution_count": null,
   "metadata": {},
   "outputs": [],
   "source": [
    "for chrom in range(0,23):\n",
    "    SET_ID_PATH = \"/cs/labs/michall/roeizucker/SKAT_experiments/SetID\"\n",
    "    R_FILE = f\"/cs/labs/michall/roeizucker/IIH/scripts/create_SSD_{chrom}.R\"\n",
    "    PYTHON_FILE = f\"/cs/labs/michall/roeizucker/IIH/scripts/create_SSD_{chrom}.py\"\n",
    "    CSV_FILE = f\"/cs/labs/michall/roeizucker/IIH/scripts/create_SSD_{chrom}.csv\"\n",
    "    BASH_FILE = f\"/cs/labs/michall/roeizucker/IIH/scripts/create_SSD_{chrom}.sh\"\n",
    "    BASE_PATH = \"/cs/labs/michall/roeizucker/IIH\"\n",
    "    CURR_BED = f\"/cs/labs/michall/roeizucker/SKAT_experiments/mydata_filtered_{chrom}.bed\"\n",
    "    CURR_BIM = f\"/cs/labs/michall/roeizucker/SKAT_experiments/mydata_filtered_{chrom}.bim\"\n",
    "    CURR_FAM = f\"/cs/labs/michall/roeizucker/SKAT_experiments/mydata_filtered_{chrom}.fam\"\n",
    "    with open(R_FILE,\"w\") as file:\n",
    "        file.write('''require(SKAT)\n",
    "    args = commandArgs(trailingOnly=TRUE)\n",
    "    File.Bed<-args[1]\n",
    "    File.Bim<-args[2]\n",
    "    File.Fam<-args[3]\n",
    "    File.SetID<-args[4]\n",
    "    File.SSD<-args[5]\n",
    "    File.Info<-args[6]\n",
    "    Generate_SSD_SetID(File.Bed, File.Bim, File.Fam, File.SetID, File.SSD, File.Info)\n",
    "    print(\"abcd\")\n",
    "    ''')\n",
    "    with open(CSV_FILE,\"w\") as file:\n",
    "        file.write(\"bed,bim,fam,SetID,SSD,info\\n\")\n",
    "        for i in range(curr_file):\n",
    "            file.write(f\"{CURR_BED},{CURR_BIM},{CURR_FAM},{SET_ID_PATH}/genes_{i}.SetID,{BASE_PATH}/genes_{chrom}_{i}.SSD,{BASE_PATH}/genes_{chrom}_{i}.SSD.info\\n\")\n",
    "    with open(PYTHON_FILE,\"w\") as file:\n",
    "        file.write(\"import pandas as pd\\n\")\n",
    "        file.write(\"import sys\\n\")\n",
    "        file.write(\"import os\\n\")\n",
    "        file.write(\"df = pd.read_csv('\"+CSV_FILE+\"')\\n\")\n",
    "        file.write(\"line = df.iloc[int(sys.argv[1]),]\\n\")\n",
    "        file.write(\"os.system('/cs/cbio/netanel/lib/R4/bin/Rscript \" + R_FILE + \" ' + line.bed + ' ' + line.bim + ' ' + line.fam + ' ' + line.SetID + ' ' + line.SSD + ' ' + line.info)\\n\")\n",
    "        file.write(\"\\n\")\n",
    "    \n",
    "    with open(BASH_FILE,\"w\") as file:\n",
    "        file.write(f\"python {PYTHON_FILE} $SLURM_ARRAY_TASK_ID\\n\")\n",
    "\n",
    "    !chmod 744 {BASH_FILE}\n",
    "    !echo {BASH_FILE}"
   ]
  },
  {
   "cell_type": "code",
   "execution_count": null,
   "metadata": {},
   "outputs": [],
   "source": [
    "for chrom in range(0,5):\n",
    "    BASH_FILE = f\"/cs/labs/michall/roeizucker/IIH/scripts/create_SSD_{chrom}.sh\"\n",
    "    print(f'sbatch --array=0-150 --mem=15g -c1 --time=1-0 --killable --requeue --wrap=\"{BASH_FILE}\"')\n",
    "    print(\"sleep 1m\")\n",
    "    print(f\"echo {BASH_FILE} running\")\n",
    "#     print(\"sleep 24m\")"
   ]
  },
  {
   "cell_type": "markdown",
   "metadata": {},
   "source": [
    "### create output files from SSD for all chromosomes"
   ]
  },
  {
   "cell_type": "code",
   "execution_count": null,
   "metadata": {},
   "outputs": [],
   "source": [
    "for chrom in range(1,23):\n",
    "    SET_ID_PATH = \"/cs/labs/michall/roeizucker/IIH\"\n",
    "    CSV_FILE = f\"/cs/labs/michall/roeizucker/IIH/scripts/create_SSD_{chrom}.csv\"\n",
    "    BASE_PATH = \"/cs/labs/michall/roeizucker/IIH\"\n",
    "    CURR_BED = f\"/cs/labs/michall/roeizucker/SKAT_experiments/mydata_filtered_{chrom}.bed\"\n",
    "    CURR_BIM = f\"/cs/labs/michall/roeizucker/SKAT_experiments/mydata_filtered_{chrom}.bim\"\n",
    "    CURR_FAM = f\"/cs/labs/michall/roeizucker/SKAT_experiments/mydata_filtered_{chrom}.fam\"\n",
    "    \n",
    "    R_FILE = f\"/cs/labs/michall/roeizucker/hackton_meno/scripts/create_out_{chrom}.R\"\n",
    "    PYTHON_FILE = f\"/cs/labs/michall/roeizucker/hackton_meno/scripts/create_out_{chrom}.py\"\n",
    "    # CSV_FILE = \"/cs/usr/roeizucker/Desktop/temp/SKAT_delete_me/scripts/create_SSD.csv\"\n",
    "    BASH_FILE = f\"/cs/labs/michall/roeizucker/hackton_meno/scripts/create_out_{chrom}.sh\"\n",
    "    with open(R_FILE,\"w\") as file:\n",
    "        file.write('''require(SKAT)\n",
    "args = commandArgs(trailingOnly=TRUE)\n",
    "File.Bed<-args[1]\n",
    "File.Bim<-args[2]\n",
    "File.Fam<-args[3]\n",
    "File.SetID<-args[4]\n",
    "File.SSD<-args[5]\n",
    "File.Info<-args[6]\n",
    "File.Cov<-\"/cs/labs/michall/roeizucker/phewas_run/runs1/1000:1009/GWAS/covariates.txt\"\n",
    "\n",
    "FAM_Cov<-Read_Plink_FAM_Cov(File.Fam, File.Cov, Is.binary=FALSE, cov_header=FALSE)\n",
    "\n",
    "X2 = FAM_Cov$Sex\n",
    "X1 = FAM_Cov$COV1\n",
    "\n",
    "SSD.INFO<-Open_SSD(File.SSD, File.Info)\n",
    "\n",
    "test_phenotypes = read.csv(file = \"/cs/usr/roeizucker/Desktop/temp/SKAT_delete_me/phens.csv\")\n",
    "obj<-SKAT_Null_Model(test_phenotypes$IIH_mod ~ data.matrix(FAM_Cov[,7:14]), out_type=\"C\")\n",
    "\n",
    "SSD.INFO<-Open_SSD(File.SSD, File.Info)\n",
    "out<-SKAT.SSD.All(SSD.INFO, obj)\n",
    "\n",
    "write.table(out$results,args[7])\n",
    "''')\n",
    "    with open(PYTHON_FILE,\"w\") as file:\n",
    "        file.write(\"import pandas as pd\\n\")\n",
    "        file.write(\"import sys\\n\")\n",
    "        file.write(\"import os\\n\")\n",
    "        file.write(\"df = pd.read_csv('\"+CSV_FILE+\"')\\n\")\n",
    "        file.write(\"out_file = '\" + BASE_PATH + \"/out_'+  str(sys.argv[1]) +'_\"+str(chrom)+\".csv'\\n\")\n",
    "        file.write(\"line = df.iloc[int(sys.argv[1]),]\\n\")\n",
    "        file.write(\"os.system('/cs/cbio/netanel/lib/R4/bin/Rscript \" + R_FILE + \" ' + line.bed + ' ' + line.bim + ' ' + line.fam + ' ' + line.SetID + ' ' + line.SSD + ' ' + line.info+ ' ' + out_file)\\n\")\n",
    "        file.write(\"\\n\")\n",
    "    with open(BASH_FILE,\"w\") as file:\n",
    "        file.write(f\"python {PYTHON_FILE} $SLURM_ARRAY_TASK_ID\\n\")\n",
    "    !chmod 744 {BASH_FILE}\n",
    "    !echo {BASH_FILE}"
   ]
  },
  {
   "cell_type": "code",
   "execution_count": null,
   "metadata": {},
   "outputs": [],
   "source": [
    "for chrom in range(0,23):\n",
    "    BASH_FILE = f\"/cs/labs/michall/roeizucker/hackton_meno/scripts/create_out_{chrom}.sh\"\n",
    "    print(f'sbatch --array=0-150 --mem=15g -c1 --time=1-0 --killable --requeue --wrap=\"{BASH_FILE}\"')\n",
    "    print(\"sleep 1m\")\n",
    "    print(f\"echo {BASH_FILE} running\")\n",
    "    print(\"sleep 5m\")\n"
   ]
  },
  {
   "cell_type": "markdown",
   "metadata": {},
   "source": [
    "### create output files from SSD"
   ]
  },
  {
   "cell_type": "code",
   "execution_count": null,
   "metadata": {},
   "outputs": [],
   "source": [
    "CHROM = 2\n",
    "# SET_ID_PATH = \"/cs/usr/roeizucker/Desktop/temp/SKAT_delete_me\"\n",
    "CSV_FILE = f\"/cs/labs/michall/roeizucker/IIH/scripts/create_SSD_{CHROM}.csv\"\n",
    "BASE_PATH = \"/cs/labs/michall/roeizucker/IIH\"\n",
    "CURR_BED = f\"/cs/labs/michall/roeizucker/SKAT_experiments/mydata_filtered_{CHROM}.bed\"\n",
    "CURR_BIM = f\"/cs/labs/michall/roeizucker/SKAT_experiments/mydata_filtered_{CHROM}.bim\"\n",
    "CURR_FAM = f\"/cs/labs/michall/roeizucker/SKAT_experiments/mydata_filtered_{CHROM}.fam\"\n",
    "\n",
    "R_FILE = f\"/cs/labs/michall/roeizucker/IIH/scripts/create_out_{CHROM}.R\"\n",
    "PYTHON_FILE = f\"/cs/labs/michall/roeizucker/IIH/scripts/create_out_{CHROM}.py\"\n",
    "# CSV_FILE = \"/cs/usr/roeizucker/Desktop/temp/SKAT_delete_me/scripts/create_SSD.csv\"\n",
    "BASH_FILE = f\"/cs/labs/michall/roeizucker/IIH/scripts/create_out_{CHROM}.sh\"\n",
    "with open(R_FILE,\"w\") as file:\n",
    "    file.write('''require(SKAT)\n",
    "args = commandArgs(trailingOnly=TRUE)\n",
    "File.Bed<-args[1]\n",
    "File.Bim<-args[2]\n",
    "File.Fam<-args[3]\n",
    "File.SetID<-args[4]\n",
    "File.SSD<-args[5]\n",
    "File.Info<-args[6]\n",
    "\n",
    "SSD.INFO<-Open_SSD(File.SSD, File.Info)\n",
    "\n",
    "test_phenotypes = read.csv(file = \"/cs/usr/roeizucker/Desktop/temp/SKAT_delete_me/phens.csv\")\n",
    "obj<-SKAT_Null_Model(test_phenotypes$IIH_mod ~ 1, out_type=\"C\")\n",
    "SSD.INFO<-Open_SSD(File.SSD, File.Info)\n",
    "out<-SKAT.SSD.All(SSD.INFO, obj)\n",
    "print(args[7])\n",
    "write.table(out$results,args[7])\n",
    "''')"
   ]
  },
  {
   "cell_type": "code",
   "execution_count": null,
   "metadata": {},
   "outputs": [],
   "source": [
    "with open(PYTHON_FILE,\"w\") as file:\n",
    "    file.write(\"import pandas as pd\\n\")\n",
    "    file.write(\"import sys\\n\")\n",
    "    file.write(\"import os\\n\")\n",
    "    file.write(\"df = pd.read_csv('\"+CSV_FILE+\"')\\n\")\n",
    "    file.write(\"out_file = '\" + BASE_PATH + \"/out_'+  str(sys.argv[1]) +'_\"+str(CHROM)+\".csv'\\n\")\n",
    "    file.write(\"line = df.iloc[int(sys.argv[1]),]\\n\")\n",
    "    file.write(\"os.system('/cs/cbio/netanel/lib/R4/bin/Rscript \" + R_FILE + \" ' + line.bed + ' ' + line.bim + ' ' + line.fam + ' ' + line.SetID + ' ' + line.SSD + ' ' + line.info+ ' ' + out_file)\\n\")\n",
    "    file.write(\"\\n\")\n"
   ]
  },
  {
   "cell_type": "code",
   "execution_count": null,
   "metadata": {},
   "outputs": [],
   "source": [
    "with open(BASH_FILE,\"w\") as file:\n",
    "    file.write(f\"python {PYTHON_FILE} $SLURM_ARRAY_TASK_ID\\n\")\n"
   ]
  },
  {
   "cell_type": "code",
   "execution_count": null,
   "metadata": {},
   "outputs": [],
   "source": [
    "!chmod 744 {BASH_FILE}"
   ]
  },
  {
   "cell_type": "code",
   "execution_count": null,
   "metadata": {},
   "outputs": [],
   "source": [
    "!ls \"/cs/labs/michall/roeizucker/IIH/scripts/create_out_2.sh\""
   ]
  },
  {
   "cell_type": "code",
   "execution_count": null,
   "metadata": {},
   "outputs": [],
   "source": [
    "!ls /cs/usr/roeizucker/Desktop/temp/SKAT_delete_me/scripts/"
   ]
  },
  {
   "cell_type": "code",
   "execution_count": null,
   "metadata": {},
   "outputs": [],
   "source": [
    "print(counter)"
   ]
  },
  {
   "cell_type": "markdown",
   "metadata": {},
   "source": [
    "## create new phenotype file"
   ]
  },
  {
   "cell_type": "code",
   "execution_count": 29,
   "metadata": {},
   "outputs": [
    {
     "name": "stdout",
     "output_type": "stream",
     "text": [
      "333415\n"
     ]
    }
   ],
   "source": [
    "participants_dataframe = pd.read_csv(FILE_CONTAINING_PARTICIPANTS)\n",
    "participants_dataframe\n",
    "participants_dataframe[\"IIH_mod\"] = 1\n",
    "participants_dataframe[\"eid2\"] = participants_dataframe[\"eid\"]\n",
    "participants_dataframe.set_index(\"eid2\",inplace=True)\n",
    "participants_dataframe\n",
    "# print(len(old_phenotype_dataframe))\n",
    "old_phenotype_dataframe = pd.read_csv(OLD_PHENOTYPE_FILE)\n",
    "old_phenotype_dataframe[\"eid2\"] = old_phenotype_dataframe[\"eid\"]\n",
    "old_phenotype_dataframe.set_index(\"eid2\",inplace=True)\n",
    "old_phenotype_dataframe[\"IIH_mod\"] = participants_dataframe[\"IIH_mod\"]\n",
    "old_phenotype_dataframe[\"IIH_mod\"] = old_phenotype_dataframe[\"IIH_mod\"].fillna(0)\n",
    "print(len(old_phenotype_dataframe))\n"
   ]
  },
  {
   "cell_type": "code",
   "execution_count": 30,
   "metadata": {},
   "outputs": [
    {
     "data": {
      "text/plain": [
       "0.0    333242\n",
       "1.0       173\n",
       "Name: IIH_mod, dtype: int64"
      ]
     },
     "execution_count": 30,
     "metadata": {},
     "output_type": "execute_result"
    }
   ],
   "source": [
    "old_phenotype_dataframe[\"IIH_mod\"].value_counts()"
   ]
  },
  {
   "cell_type": "code",
   "execution_count": 17,
   "metadata": {},
   "outputs": [
    {
     "data": {
      "text/html": [
       "<div>\n",
       "<style scoped>\n",
       "    .dataframe tbody tr th:only-of-type {\n",
       "        vertical-align: middle;\n",
       "    }\n",
       "\n",
       "    .dataframe tbody tr th {\n",
       "        vertical-align: top;\n",
       "    }\n",
       "\n",
       "    .dataframe thead th {\n",
       "        text-align: right;\n",
       "    }\n",
       "</style>\n",
       "<table border=\"1\" class=\"dataframe\">\n",
       "  <thead>\n",
       "    <tr style=\"text-align: right;\">\n",
       "      <th></th>\n",
       "      <th>sample_index</th>\n",
       "      <th>eid</th>\n",
       "      <th>F329</th>\n",
       "      <th>F329_F</th>\n",
       "      <th>F329_M</th>\n",
       "      <th>H26</th>\n",
       "      <th>H26_F</th>\n",
       "      <th>H26_M</th>\n",
       "      <th>H269</th>\n",
       "      <th>H269_F</th>\n",
       "      <th>...</th>\n",
       "      <th>batch_UKBiLEVEAX_b10</th>\n",
       "      <th>batch_UKBiLEVEAX_b11</th>\n",
       "      <th>batch_UKBiLEVEAX_b3</th>\n",
       "      <th>batch_UKBiLEVEAX_b4</th>\n",
       "      <th>batch_UKBiLEVEAX_b5</th>\n",
       "      <th>batch_UKBiLEVEAX_b6</th>\n",
       "      <th>batch_UKBiLEVEAX_b7</th>\n",
       "      <th>batch_UKBiLEVEAX_b8</th>\n",
       "      <th>batch_UKBiLEVEAX_b9</th>\n",
       "      <th>IIH_mod</th>\n",
       "    </tr>\n",
       "    <tr>\n",
       "      <th>eid2</th>\n",
       "      <th></th>\n",
       "      <th></th>\n",
       "      <th></th>\n",
       "      <th></th>\n",
       "      <th></th>\n",
       "      <th></th>\n",
       "      <th></th>\n",
       "      <th></th>\n",
       "      <th></th>\n",
       "      <th></th>\n",
       "      <th></th>\n",
       "      <th></th>\n",
       "      <th></th>\n",
       "      <th></th>\n",
       "      <th></th>\n",
       "      <th></th>\n",
       "      <th></th>\n",
       "      <th></th>\n",
       "      <th></th>\n",
       "      <th></th>\n",
       "      <th></th>\n",
       "    </tr>\n",
       "  </thead>\n",
       "  <tbody>\n",
       "    <tr>\n",
       "      <th>5580060</th>\n",
       "      <td>4625</td>\n",
       "      <td>5580060</td>\n",
       "      <td>0.0</td>\n",
       "      <td>0.0</td>\n",
       "      <td>NaN</td>\n",
       "      <td>0.0</td>\n",
       "      <td>0.0</td>\n",
       "      <td>NaN</td>\n",
       "      <td>0.0</td>\n",
       "      <td>0.0</td>\n",
       "      <td>...</td>\n",
       "      <td>0</td>\n",
       "      <td>0</td>\n",
       "      <td>0</td>\n",
       "      <td>0</td>\n",
       "      <td>0</td>\n",
       "      <td>0</td>\n",
       "      <td>0</td>\n",
       "      <td>0</td>\n",
       "      <td>0</td>\n",
       "      <td>1.0</td>\n",
       "    </tr>\n",
       "    <tr>\n",
       "      <th>4357780</th>\n",
       "      <td>5332</td>\n",
       "      <td>4357780</td>\n",
       "      <td>NaN</td>\n",
       "      <td>NaN</td>\n",
       "      <td>NaN</td>\n",
       "      <td>NaN</td>\n",
       "      <td>NaN</td>\n",
       "      <td>NaN</td>\n",
       "      <td>NaN</td>\n",
       "      <td>NaN</td>\n",
       "      <td>...</td>\n",
       "      <td>0</td>\n",
       "      <td>0</td>\n",
       "      <td>0</td>\n",
       "      <td>0</td>\n",
       "      <td>0</td>\n",
       "      <td>0</td>\n",
       "      <td>0</td>\n",
       "      <td>0</td>\n",
       "      <td>0</td>\n",
       "      <td>1.0</td>\n",
       "    </tr>\n",
       "    <tr>\n",
       "      <th>4994919</th>\n",
       "      <td>7895</td>\n",
       "      <td>4994919</td>\n",
       "      <td>0.0</td>\n",
       "      <td>0.0</td>\n",
       "      <td>NaN</td>\n",
       "      <td>0.0</td>\n",
       "      <td>0.0</td>\n",
       "      <td>NaN</td>\n",
       "      <td>0.0</td>\n",
       "      <td>0.0</td>\n",
       "      <td>...</td>\n",
       "      <td>0</td>\n",
       "      <td>0</td>\n",
       "      <td>0</td>\n",
       "      <td>0</td>\n",
       "      <td>0</td>\n",
       "      <td>0</td>\n",
       "      <td>0</td>\n",
       "      <td>0</td>\n",
       "      <td>0</td>\n",
       "      <td>1.0</td>\n",
       "    </tr>\n",
       "    <tr>\n",
       "      <th>4556922</th>\n",
       "      <td>8337</td>\n",
       "      <td>4556922</td>\n",
       "      <td>0.0</td>\n",
       "      <td>0.0</td>\n",
       "      <td>NaN</td>\n",
       "      <td>0.0</td>\n",
       "      <td>0.0</td>\n",
       "      <td>NaN</td>\n",
       "      <td>0.0</td>\n",
       "      <td>0.0</td>\n",
       "      <td>...</td>\n",
       "      <td>0</td>\n",
       "      <td>0</td>\n",
       "      <td>0</td>\n",
       "      <td>0</td>\n",
       "      <td>0</td>\n",
       "      <td>0</td>\n",
       "      <td>0</td>\n",
       "      <td>0</td>\n",
       "      <td>0</td>\n",
       "      <td>1.0</td>\n",
       "    </tr>\n",
       "    <tr>\n",
       "      <th>1243359</th>\n",
       "      <td>8460</td>\n",
       "      <td>1243359</td>\n",
       "      <td>0.0</td>\n",
       "      <td>0.0</td>\n",
       "      <td>NaN</td>\n",
       "      <td>0.0</td>\n",
       "      <td>0.0</td>\n",
       "      <td>NaN</td>\n",
       "      <td>0.0</td>\n",
       "      <td>0.0</td>\n",
       "      <td>...</td>\n",
       "      <td>0</td>\n",
       "      <td>0</td>\n",
       "      <td>0</td>\n",
       "      <td>0</td>\n",
       "      <td>0</td>\n",
       "      <td>0</td>\n",
       "      <td>0</td>\n",
       "      <td>1</td>\n",
       "      <td>0</td>\n",
       "      <td>1.0</td>\n",
       "    </tr>\n",
       "    <tr>\n",
       "      <th>...</th>\n",
       "      <td>...</td>\n",
       "      <td>...</td>\n",
       "      <td>...</td>\n",
       "      <td>...</td>\n",
       "      <td>...</td>\n",
       "      <td>...</td>\n",
       "      <td>...</td>\n",
       "      <td>...</td>\n",
       "      <td>...</td>\n",
       "      <td>...</td>\n",
       "      <td>...</td>\n",
       "      <td>...</td>\n",
       "      <td>...</td>\n",
       "      <td>...</td>\n",
       "      <td>...</td>\n",
       "      <td>...</td>\n",
       "      <td>...</td>\n",
       "      <td>...</td>\n",
       "      <td>...</td>\n",
       "      <td>...</td>\n",
       "      <td>...</td>\n",
       "    </tr>\n",
       "    <tr>\n",
       "      <th>4722410</th>\n",
       "      <td>482630</td>\n",
       "      <td>4722410</td>\n",
       "      <td>0.0</td>\n",
       "      <td>0.0</td>\n",
       "      <td>NaN</td>\n",
       "      <td>0.0</td>\n",
       "      <td>0.0</td>\n",
       "      <td>NaN</td>\n",
       "      <td>0.0</td>\n",
       "      <td>0.0</td>\n",
       "      <td>...</td>\n",
       "      <td>0</td>\n",
       "      <td>0</td>\n",
       "      <td>0</td>\n",
       "      <td>0</td>\n",
       "      <td>0</td>\n",
       "      <td>0</td>\n",
       "      <td>0</td>\n",
       "      <td>0</td>\n",
       "      <td>0</td>\n",
       "      <td>1.0</td>\n",
       "    </tr>\n",
       "    <tr>\n",
       "      <th>5899992</th>\n",
       "      <td>484212</td>\n",
       "      <td>5899992</td>\n",
       "      <td>0.0</td>\n",
       "      <td>0.0</td>\n",
       "      <td>NaN</td>\n",
       "      <td>0.0</td>\n",
       "      <td>0.0</td>\n",
       "      <td>NaN</td>\n",
       "      <td>0.0</td>\n",
       "      <td>0.0</td>\n",
       "      <td>...</td>\n",
       "      <td>0</td>\n",
       "      <td>0</td>\n",
       "      <td>0</td>\n",
       "      <td>0</td>\n",
       "      <td>0</td>\n",
       "      <td>0</td>\n",
       "      <td>0</td>\n",
       "      <td>0</td>\n",
       "      <td>0</td>\n",
       "      <td>1.0</td>\n",
       "    </tr>\n",
       "    <tr>\n",
       "      <th>1101465</th>\n",
       "      <td>488092</td>\n",
       "      <td>1101465</td>\n",
       "      <td>0.0</td>\n",
       "      <td>0.0</td>\n",
       "      <td>NaN</td>\n",
       "      <td>0.0</td>\n",
       "      <td>0.0</td>\n",
       "      <td>NaN</td>\n",
       "      <td>0.0</td>\n",
       "      <td>0.0</td>\n",
       "      <td>...</td>\n",
       "      <td>0</td>\n",
       "      <td>0</td>\n",
       "      <td>0</td>\n",
       "      <td>0</td>\n",
       "      <td>0</td>\n",
       "      <td>0</td>\n",
       "      <td>0</td>\n",
       "      <td>0</td>\n",
       "      <td>1</td>\n",
       "      <td>1.0</td>\n",
       "    </tr>\n",
       "    <tr>\n",
       "      <th>1515332</th>\n",
       "      <td>495484</td>\n",
       "      <td>1515332</td>\n",
       "      <td>0.0</td>\n",
       "      <td>0.0</td>\n",
       "      <td>NaN</td>\n",
       "      <td>0.0</td>\n",
       "      <td>0.0</td>\n",
       "      <td>NaN</td>\n",
       "      <td>0.0</td>\n",
       "      <td>0.0</td>\n",
       "      <td>...</td>\n",
       "      <td>0</td>\n",
       "      <td>0</td>\n",
       "      <td>0</td>\n",
       "      <td>0</td>\n",
       "      <td>0</td>\n",
       "      <td>0</td>\n",
       "      <td>0</td>\n",
       "      <td>0</td>\n",
       "      <td>0</td>\n",
       "      <td>1.0</td>\n",
       "    </tr>\n",
       "    <tr>\n",
       "      <th>1251347</th>\n",
       "      <td>496515</td>\n",
       "      <td>1251347</td>\n",
       "      <td>0.0</td>\n",
       "      <td>0.0</td>\n",
       "      <td>NaN</td>\n",
       "      <td>0.0</td>\n",
       "      <td>0.0</td>\n",
       "      <td>NaN</td>\n",
       "      <td>0.0</td>\n",
       "      <td>0.0</td>\n",
       "      <td>...</td>\n",
       "      <td>1</td>\n",
       "      <td>0</td>\n",
       "      <td>0</td>\n",
       "      <td>0</td>\n",
       "      <td>0</td>\n",
       "      <td>0</td>\n",
       "      <td>0</td>\n",
       "      <td>0</td>\n",
       "      <td>0</td>\n",
       "      <td>1.0</td>\n",
       "    </tr>\n",
       "  </tbody>\n",
       "</table>\n",
       "<p>103 rows × 188 columns</p>\n",
       "</div>"
      ],
      "text/plain": [
       "         sample_index      eid  F329  F329_F  F329_M  H26  H26_F  H26_M  H269  \\\n",
       "eid2                                                                            \n",
       "5580060          4625  5580060   0.0     0.0     NaN  0.0    0.0    NaN   0.0   \n",
       "4357780          5332  4357780   NaN     NaN     NaN  NaN    NaN    NaN   NaN   \n",
       "4994919          7895  4994919   0.0     0.0     NaN  0.0    0.0    NaN   0.0   \n",
       "4556922          8337  4556922   0.0     0.0     NaN  0.0    0.0    NaN   0.0   \n",
       "1243359          8460  1243359   0.0     0.0     NaN  0.0    0.0    NaN   0.0   \n",
       "...               ...      ...   ...     ...     ...  ...    ...    ...   ...   \n",
       "4722410        482630  4722410   0.0     0.0     NaN  0.0    0.0    NaN   0.0   \n",
       "5899992        484212  5899992   0.0     0.0     NaN  0.0    0.0    NaN   0.0   \n",
       "1101465        488092  1101465   0.0     0.0     NaN  0.0    0.0    NaN   0.0   \n",
       "1515332        495484  1515332   0.0     0.0     NaN  0.0    0.0    NaN   0.0   \n",
       "1251347        496515  1251347   0.0     0.0     NaN  0.0    0.0    NaN   0.0   \n",
       "\n",
       "         H269_F  ...  batch_UKBiLEVEAX_b10  batch_UKBiLEVEAX_b11  \\\n",
       "eid2             ...                                               \n",
       "5580060     0.0  ...                     0                     0   \n",
       "4357780     NaN  ...                     0                     0   \n",
       "4994919     0.0  ...                     0                     0   \n",
       "4556922     0.0  ...                     0                     0   \n",
       "1243359     0.0  ...                     0                     0   \n",
       "...         ...  ...                   ...                   ...   \n",
       "4722410     0.0  ...                     0                     0   \n",
       "5899992     0.0  ...                     0                     0   \n",
       "1101465     0.0  ...                     0                     0   \n",
       "1515332     0.0  ...                     0                     0   \n",
       "1251347     0.0  ...                     1                     0   \n",
       "\n",
       "         batch_UKBiLEVEAX_b3  batch_UKBiLEVEAX_b4  batch_UKBiLEVEAX_b5  \\\n",
       "eid2                                                                     \n",
       "5580060                    0                    0                    0   \n",
       "4357780                    0                    0                    0   \n",
       "4994919                    0                    0                    0   \n",
       "4556922                    0                    0                    0   \n",
       "1243359                    0                    0                    0   \n",
       "...                      ...                  ...                  ...   \n",
       "4722410                    0                    0                    0   \n",
       "5899992                    0                    0                    0   \n",
       "1101465                    0                    0                    0   \n",
       "1515332                    0                    0                    0   \n",
       "1251347                    0                    0                    0   \n",
       "\n",
       "         batch_UKBiLEVEAX_b6  batch_UKBiLEVEAX_b7  batch_UKBiLEVEAX_b8  \\\n",
       "eid2                                                                     \n",
       "5580060                    0                    0                    0   \n",
       "4357780                    0                    0                    0   \n",
       "4994919                    0                    0                    0   \n",
       "4556922                    0                    0                    0   \n",
       "1243359                    0                    0                    1   \n",
       "...                      ...                  ...                  ...   \n",
       "4722410                    0                    0                    0   \n",
       "5899992                    0                    0                    0   \n",
       "1101465                    0                    0                    0   \n",
       "1515332                    0                    0                    0   \n",
       "1251347                    0                    0                    0   \n",
       "\n",
       "         batch_UKBiLEVEAX_b9  IIH_mod  \n",
       "eid2                                   \n",
       "5580060                    0      1.0  \n",
       "4357780                    0      1.0  \n",
       "4994919                    0      1.0  \n",
       "4556922                    0      1.0  \n",
       "1243359                    0      1.0  \n",
       "...                      ...      ...  \n",
       "4722410                    0      1.0  \n",
       "5899992                    0      1.0  \n",
       "1101465                    1      1.0  \n",
       "1515332                    0      1.0  \n",
       "1251347                    0      1.0  \n",
       "\n",
       "[103 rows x 188 columns]"
      ]
     },
     "execution_count": 17,
     "metadata": {},
     "output_type": "execute_result"
    }
   ],
   "source": [
    "old_phenotype_dataframe[(old_phenotype_dataframe[\"IIH_mod\"] == 1) & (old_phenotype_dataframe[\"sex\"] == 0)]"
   ]
  },
  {
   "cell_type": "code",
   "execution_count": 19,
   "metadata": {},
   "outputs": [],
   "source": [
    "old_phenotype_dataframe.to_csv(os.path.join(PROJECT_PATH,\"ukbb_dataset_withIIH.csv\"))"
   ]
  },
  {
   "cell_type": "code",
   "execution_count": 26,
   "metadata": {},
   "outputs": [
    {
     "data": {
      "text/plain": [
       "'/cs/labs/michall/roeizucker/SKAT_experiments/SetID/ukbb_dataset_withIIH.csv'"
      ]
     },
     "execution_count": 26,
     "metadata": {},
     "output_type": "execute_result"
    }
   ],
   "source": [
    "os.path.join(PROJECT_PATH,\"ukbb_dataset_withIIH.csv\")"
   ]
  },
  {
   "cell_type": "markdown",
   "metadata": {},
   "source": [
    "### sort new dataframe - change, only for presentation"
   ]
  },
  {
   "cell_type": "code",
   "execution_count": 20,
   "metadata": {},
   "outputs": [],
   "source": [
    "TEST_BIM_PATH = \"/cs/labs/michall/roeizucker/SKAT_experiments/mydata_filtered.bim\"\n",
    "TEST_BED_PATH = \"/cs/labs/michall/roeizucker/SKAT_experiments/mydata_filtered.bed\"\n",
    "TEST_FAM_PATH = \"/cs/labs/michall/roeizucker/SKAT_experiments/mydata_filtered.fam\"\n",
    "PLINK_PATH = \"/cs/usr/nadavb/third_party/plink2\"\n"
   ]
  },
  {
   "cell_type": "code",
   "execution_count": null,
   "metadata": {},
   "outputs": [],
   "source": [
    "a = pdp.read_plink1_bin(TEST_BED_PATH,TEST_BIM_PATH,TEST_FAM_PATH,verbose=False)\n"
   ]
  },
  {
   "cell_type": "code",
   "execution_count": null,
   "metadata": {},
   "outputs": [],
   "source": [
    "eid_vals_in_files =  list(a['iid'].values)\n",
    "eid_vals_in_files_set = set(eid_vals_in_files)\n"
   ]
  },
  {
   "cell_type": "code",
   "execution_count": null,
   "metadata": {},
   "outputs": [],
   "source": [
    "old_phenotype_dataframe = old_phenotype_dataframe[old_phenotype_dataframe['eid'].isin(eid_vals_in_files)]\n"
   ]
  },
  {
   "cell_type": "code",
   "execution_count": null,
   "metadata": {},
   "outputs": [],
   "source": [
    "print(len(old_phenotype_dataframe))\n",
    "print(len(eid_vals_in_files))\n"
   ]
  },
  {
   "cell_type": "code",
   "execution_count": null,
   "metadata": {},
   "outputs": [],
   "source": [
    "old_phenotype_dataframe['sort_key'] = old_phenotype_dataframe['eid'].astype(\"str\").apply(lambda x: eid_vals_in_files.index(x) if x in eid_vals_in_files_set else float('inf'))\n"
   ]
  },
  {
   "cell_type": "code",
   "execution_count": null,
   "metadata": {},
   "outputs": [],
   "source": []
  },
  {
   "cell_type": "code",
   "execution_count": null,
   "metadata": {},
   "outputs": [],
   "source": [
    "old_phenotype_dataframe = old_phenotype_dataframe.sort_values(by='sort_key')\n"
   ]
  },
  {
   "cell_type": "code",
   "execution_count": null,
   "metadata": {},
   "outputs": [],
   "source": [
    "old_phenotype_dataframe[[\"eid\",\"IIH_mod\"]].to_csv(PHENOTYPE_FILE_NAME)"
   ]
  },
  {
   "cell_type": "code",
   "execution_count": null,
   "metadata": {},
   "outputs": [],
   "source": [
    "print(PHENOTYPE_FILE_NAME)"
   ]
  },
  {
   "cell_type": "code",
   "execution_count": null,
   "metadata": {},
   "outputs": [],
   "source": [
    "old_phenotype_dataframe"
   ]
  },
  {
   "cell_type": "markdown",
   "metadata": {},
   "source": [
    "## create compatible Plink and phenotype files\n",
    "for SKAT to work the phenotype and genotype files need to be the same length, and have the same order. Participants that appear in only one dataset need to be removed."
   ]
  },
  {
   "cell_type": "code",
   "execution_count": null,
   "metadata": {},
   "outputs": [],
   "source": [
    "BASE_PLINK_FORMAT_PATH = \"/cs/labs/michall/roeizucker/plink_results/reduced_snps2/small_ch\"\n",
    "PLINK_PATH = \"/cs/usr/nadavb/third_party/plink2\"\n"
   ]
  },
  {
   "cell_type": "code",
   "execution_count": null,
   "metadata": {},
   "outputs": [],
   "source": [
    "for i in range(1,2):\n",
    "    bim_path = BASE_PLINK_FORMAT_PATH + str(i) + \".bim\"\n",
    "    fam_path = BASE_PLINK_FORMAT_PATH + str(i) + \".fam\"\n",
    "    bed_path = BASE_PLINK_FORMAT_PATH + str(i) + \".bed\"\n",
    "    ! {PLINK_PATH} --bim {bim_path} --fam {fam_path} --bed {bed_path} --keep-fam /cs/labs/michall/roeizucker/SKAT_experiments/I10_eid_notNA.txt --make-bed --out /cs/labs/michall/roeizucker/SKAT_experiments/mydata_filtered_{i}"
   ]
  },
  {
   "cell_type": "code",
   "execution_count": null,
   "metadata": {},
   "outputs": [],
   "source": [
    "! {PLINK_PATH} --bim {TEST_BIM_PATH} --fam {TEST_FAM_PATH} --bed {TEST_BED_PATH} --keep-fam /cs/labs/michall/roeizucker/SKAT_experiments/I10_eid_notNA.txt --make-bed --out /cs/labs/michall/roeizucker/SKAT_experiments/mydata_filtered_{i}"
   ]
  },
  {
   "cell_type": "markdown",
   "metadata": {},
   "source": [
    "## Create phenotype files\n",
    "Phenotype files must be the same order and lenght as the genotype files"
   ]
  },
  {
   "cell_type": "code",
   "execution_count": null,
   "metadata": {},
   "outputs": [],
   "source": [
    "BASIC_PHENOTYPE_FILE = \"/cs/usr/roeizucker/Desktop/temp/SKAT_delete_me/phens.csv\""
   ]
  },
  {
   "cell_type": "code",
   "execution_count": null,
   "metadata": {},
   "outputs": [],
   "source": [
    "basic_phenotype_df = pd.read_csv(BASIC_PHENOTYPE_FILE) # we will use this DF to determine order and length of phenotypes\n",
    "other_phenotype_df = pd.read_csv(\"/cs/labs/michall/roeizucker/ukb_files/menapause_with_outcomes.csv\")"
   ]
  },
  {
   "cell_type": "code",
   "execution_count": null,
   "metadata": {},
   "outputs": [],
   "source": [
    "other_phenotype_df[\"eid\"] = other_phenotype_df[\"Participant ID\"]\n"
   ]
  },
  {
   "cell_type": "code",
   "execution_count": null,
   "metadata": {},
   "outputs": [],
   "source": [
    "other_phenotype_df[\"eid2\"] = other_phenotype_df[\"eid\"]\n",
    "other_phenotype_df = other_phenotype_df[other_phenotype_df['eid2'].isin(list(basic_phenotype_df[\"eid2\"]))]"
   ]
  },
  {
   "cell_type": "code",
   "execution_count": null,
   "metadata": {},
   "outputs": [],
   "source": [
    "len(basic_phenotype_df)"
   ]
  },
  {
   "cell_type": "code",
   "execution_count": null,
   "metadata": {},
   "outputs": [],
   "source": [
    "basic_phenotype_df.set_index(['eid2'], inplace=True)\n",
    "other_phenotype_df.set_index(['eid2'], inplace=True)"
   ]
  },
  {
   "cell_type": "code",
   "execution_count": null,
   "metadata": {},
   "outputs": [],
   "source": [
    "other_phenotype_df[\"osteoporosis\"] = other_phenotype_df[\"M81.9 Osteoporosis, unspecified_Label\"]\n",
    "other_phenotype_df[\"fatty_liver\"] = other_phenotype_df[\"K76.0 Fatty (change of) liver, not elsewhere classified_Label\"]\n",
    "basic_phenotype_df[\"osteoporosis\"] = other_phenotype_df[\"osteoporosis\"]\n",
    "basic_phenotype_df[\"fatty_liver\"] = other_phenotype_df[\"fatty_liver\"]"
   ]
  },
  {
   "cell_type": "code",
   "execution_count": null,
   "metadata": {},
   "outputs": [],
   "source": [
    "basic_phenotype_df[basic_phenotype_df[\"fatty_liver\"] == -1] = 0\n",
    "basic_phenotype_df[basic_phenotype_df[\"osteoporosis\"] == -1] = 0"
   ]
  },
  {
   "cell_type": "code",
   "execution_count": null,
   "metadata": {},
   "outputs": [],
   "source": [
    "basic_phenotype_df[\"osteoporosis\"] = basic_phenotype_df[\"osteoporosis\"].fillna(0)\n",
    "basic_phenotype_df[\"fatty_liver\"] = basic_phenotype_df[\"fatty_liver\"].fillna(0)"
   ]
  },
  {
   "cell_type": "code",
   "execution_count": null,
   "metadata": {},
   "outputs": [],
   "source": [
    "basic_phenotype_df.to_csv(\"/cs/labs/michall/roeizucker/hackton_meno/labels_1.csv\",index=False)"
   ]
  },
  {
   "cell_type": "code",
   "execution_count": null,
   "metadata": {},
   "outputs": [],
   "source": [
    "print(PROJECT_PATH)"
   ]
  },
  {
   "cell_type": "code",
   "execution_count": null,
   "metadata": {
    "scrolled": false
   },
   "outputs": [],
   "source": [
    "# find files for a specific gene\n",
    "import os, glob\n",
    "path = \"/cs/labs/michall/roeizucker/IIH\"\n",
    "for filename in glob.glob(os.path.join(path, '*.SetID')):\n",
    "    with open(os.path.join(os.getcwd(), filename), 'r') as f: # open in readonly mode\n",
    "        val = f.read()\n",
    "        if \"Q9UNW9\" in val:\n",
    "            print(filename)\n",
    "#             print(val)"
   ]
  },
  {
   "cell_type": "code",
   "execution_count": null,
   "metadata": {},
   "outputs": [],
   "source": [
    "# find files for a specific gene\n",
    "import os, glob\n",
    "path = \"~\"\n",
    "for filename in glob.glob(os.path.join(path, '*.csv')):\n",
    "    with open(os.path.join(os.getcwd(), filename), 'r') as f: # open in readonly mode\n",
    "        if \"Q9UN\" in f.read():\n",
    "            print(filename)"
   ]
  },
  {
   "cell_type": "code",
   "execution_count": null,
   "metadata": {},
   "outputs": [],
   "source": [
    "# create GWAS phenotype file:\n",
    "# f'sbatch --array=0-150 --mem=15g -c1 --time=1-0 --killable --requeue --wrap=\"{BASH_FILE}\"')\n",
    "for i in range(1,23):\n",
    "    inner_command = (f\"/cs/usr/nadavb/third_party/plink2 --bed /cs/labs/michall/roeizucker/plink_results/reduced_snps2/small_ch{i}.bed --bim /cs/labs/michall/roeizucker/plink_results/reduced_snps2/small_ch{i}.bim --fam /cs/labs/michall/roeizucker/plink_results/reduced_snps2/small_ch{i}.fam --pheno /cs/labs/michall/roeizucker/IIH/GWAS/phenotypes/iih_mod.txt --covar /cs/labs/michall/roeizucker/amos/continuous_run/GWAS/covariates.txt  --out  /cs/labs/michall/roeizucker/IIH/GWAS/results/iih_mod_chr{i} --1 --glm hide-covar --mac 20 --covar-variance-standardize --freq --threads 10 --memory 10000\")\n",
    "    print(f'sbatch --mem=15g -c1 --time=1-0 --killable --requeue --wrap=\"{inner_command}\"')"
   ]
  },
  {
   "cell_type": "code",
   "execution_count": null,
   "metadata": {},
   "outputs": [],
   "source": [
    "# small covariates /cs/labs/michall/roeizucker/IIH/GWAS/covariates.txt \n",
    "# create GWAS phenotype file:\n",
    "# f'sbatch --array=0-150 --mem=15g -c1 --time=1-0 --killable --requeue --wrap=\"{BASH_FILE}\"')\n",
    "for i in range(1,23):\n",
    "    inner_command = (f\"/cs/usr/nadavb/third_party/plink2 --bed /cs/labs/michall/roeizucker/plink_results/reduced_snps2/small_ch{i}.bed --bim /cs/labs/michall/roeizucker/plink_results/reduced_snps2/small_ch{i}.bim --fam /cs/labs/michall/roeizucker/plink_results/reduced_snps2/small_ch{i}.fam --pheno /cs/labs/michall/roeizucker/IIH/GWAS/phenotypes/iih_mod.txt --covar /cs/labs/michall/roeizucker/IIH/GWAS/covariates.txt  --out  /cs/labs/michall/roeizucker/IIH/GWAS/results/iih_mod_small_cov_chr{i} --1 --glm hide-covar --mac 20 --covar-variance-standardize --freq --threads 10 --memory 10000\")\n",
    "    print(f'sbatch --mem=15g -c1 --time=1-0 --killable --requeue --wrap=\"{inner_command}\"')"
   ]
  },
  {
   "cell_type": "code",
   "execution_count": 23,
   "metadata": {},
   "outputs": [
    {
     "name": "stdout",
     "output_type": "stream",
     "text": [
      "Done.\n"
     ]
    }
   ],
   "source": [
    "# create smaller covariats file:\n",
    "path = '/cs/labs/michall/roeizucker/10krun/runs/0:11'\n",
    "PHEN_PATH = path + \"/ukbb_dataset.csv\"\n",
    "GWAS_PATH = \"/cs/labs/michall/roeizucker/IIH/GWAS\"\n",
    "cancer_dataset = pd.read_csv(PHEN_PATH)\n",
    "# FAM_Cov[,7:14]\n",
    "\n",
    "covariate_cols = list(cancer_dataset)[15:23]\n",
    "covariate_values = cancer_dataset[['eid', 'eid'] + [covariate_col for covariate_col in covariate_cols if \\\n",
    "        covariate_col != 'const']].dropna()\n",
    "covariate_values.to_csv(f\"{GWAS_PATH}/covariates.txt\", header = False, index = False, sep = '\\t')\n",
    "print('Done.')"
   ]
  },
  {
   "cell_type": "code",
   "execution_count": 24,
   "metadata": {},
   "outputs": [
    {
     "data": {
      "text/plain": [
       "'/cs/labs/michall/roeizucker/IIH/GWAS/covariates.txt'"
      ]
     },
     "execution_count": 24,
     "metadata": {},
     "output_type": "execute_result"
    }
   ],
   "source": [
    "f\"{GWAS_PATH}/covariates.txt\""
   ]
  },
  {
   "cell_type": "code",
   "execution_count": 22,
   "metadata": {},
   "outputs": [
    {
     "data": {
      "text/plain": [
       "'/cs/labs/michall/roeizucker/IIH/GWAS'"
      ]
     },
     "execution_count": 22,
     "metadata": {},
     "output_type": "execute_result"
    }
   ],
   "source": [
    "GWAS_PATH"
   ]
  },
  {
   "cell_type": "code",
   "execution_count": null,
   "metadata": {},
   "outputs": [],
   "source": [
    "# combine plink results\n",
    "all_dfs = []\n",
    "for i in range(1,23):\n",
    "    df = pd.read_csv(f\"/cs/labs/michall/roeizucker/IIH/GWAS/results/iih_mod_chr{i}.PHENO1.glm.logistic\", sep=\"\\t\")\n",
    "    all_dfs.append(df)\n",
    "\n"
   ]
  },
  {
   "cell_type": "code",
   "execution_count": null,
   "metadata": {},
   "outputs": [],
   "source": [
    "# combine small covariates plink results\n",
    "all_small_covar_dfs = []\n",
    "for i in range(1,23):\n",
    "    df = pd.read_csv(f\"/cs/labs/michall/roeizucker/IIH/GWAS/results/iih_mod_small_cov_chr{i}.PHENO1.glm.logistic\", sep=\"\\t\")\n",
    "    all_dfs.append(df)\n",
    "\n",
    "# save file\n",
    "small_cover_result = pd.concat(all_dfs)\n",
    "small_cover_result = small_cover_result.reset_index()\n"
   ]
  },
  {
   "cell_type": "code",
   "execution_count": null,
   "metadata": {},
   "outputs": [],
   "source": [
    "result = pd.concat(all_dfs)\n",
    "result = result.reset_index()\n"
   ]
  },
  {
   "cell_type": "code",
   "execution_count": null,
   "metadata": {},
   "outputs": [],
   "source": [
    "result"
   ]
  },
  {
   "cell_type": "code",
   "execution_count": null,
   "metadata": {},
   "outputs": [],
   "source": [
    "# add gene to result:\n",
    "def add_genes_for_snps(df,genes_csv):\n",
    "    sig_genes = set()\n",
    "    for i in range(len(df)):\n",
    "        if i % 10000 == 0:\n",
    "            print(i/len(df) * 100)\n",
    "        row = df.loc[i]\n",
    "        curr = (genes_csv.query(\"chr == '\" + str(row[\"#CHROM\"]) + \"' and cds_start <= \" + str(row[\"POS\"]) + \"and cds_end >= \" + str(row[\"POS\"])))\n",
    "        if len(list(curr[\"uniprot_id\"]))> 0:\n",
    "            df.loc[i,\"GENE\"] = list(curr[\"uniprot_id\"])[0]\n",
    "#         row[\"GENE\"] = list(curr[\"uniprot_id\"])[0]\n",
    "#         sig_genes.add(list(curr[\"uniprot_id\"])[0])\n",
    "    return sig_genes\n",
    "genes_csv = pd.read_csv(GENE_FILE_PATH)\n",
    "small_cover_result[\"GENE\"] = None\n",
    "# add_genes_for_snps(result,genes_csv)\n",
    "add_genes_for_snps(small_cover_result,genes_csv)\n",
    "\n",
    "# result.loc[3,\"GENE\"] = \"bob\" small_cover_result\n",
    "# print(result.loc[3])"
   ]
  },
  {
   "cell_type": "code",
   "execution_count": null,
   "metadata": {},
   "outputs": [],
   "source": [
    "result.to_csv(\"/cs/labs/michall/roeizucker/IIH/GWAS/results/iih_mod_gwas.csv\")"
   ]
  },
  {
   "cell_type": "code",
   "execution_count": null,
   "metadata": {},
   "outputs": [],
   "source": [
    "small_cover_result"
   ]
  },
  {
   "cell_type": "code",
   "execution_count": null,
   "metadata": {},
   "outputs": [],
   "source": [
    "result"
   ]
  },
  {
   "cell_type": "code",
   "execution_count": null,
   "metadata": {},
   "outputs": [],
   "source": [
    "import pandas as pd\n",
    "import dash_bio\n",
    "\n",
    "# df = pd.read_csv('https://raw.githubusercontent.com/plotly/dash-bio-docs-files/master/manhattan_data.csv')\n",
    "\n",
    "result[\"CHR\"] = result[\"#CHROM\"]\n",
    "result[\"BP\"] = result[\"POS\"]\n",
    "result[\"SNP\"] = result[\"ID\"]\n",
    "\n",
    "dash_bio.ManhattanPlot(\n",
    "    dataframe=result,\n",
    ")\n"
   ]
  }
 ],
 "metadata": {
  "kernelspec": {
   "display_name": "Python 3 (ipykernel)",
   "language": "python",
   "name": "python3"
  },
  "language_info": {
   "codemirror_mode": {
    "name": "ipython",
    "version": 3
   },
   "file_extension": ".py",
   "mimetype": "text/x-python",
   "name": "python",
   "nbconvert_exporter": "python",
   "pygments_lexer": "ipython3",
   "version": "3.7.3"
  }
 },
 "nbformat": 4,
 "nbformat_minor": 2
}
