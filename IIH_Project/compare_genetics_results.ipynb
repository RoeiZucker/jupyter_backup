{
 "cells": [
  {
   "cell_type": "code",
   "execution_count": 12,
   "id": "e8ce329c",
   "metadata": {},
   "outputs": [],
   "source": [
    "import pandas as pd\n",
    "import matplotlib.pyplot as plt\n",
    "from statsmodels.stats.multitest import multipletests\n"
   ]
  },
  {
   "cell_type": "code",
   "execution_count": 21,
   "id": "64a9d8bb",
   "metadata": {},
   "outputs": [],
   "source": [
    "GWAS_RESULTS_FILE = \"/cs/labs/michall/roeizucker/IIH/GWAS/results/iih_mod_gwas_with_genes.csv\"\n",
    "PWAS_RESULTS_FILE = \"/cs/labs/michall/roeizucker/IIH/PWAS/results/updated_Both.csv\"\n",
    "SKAT_RESULTS_FILE = \"/cs/labs/michall/roeizucker/IIH/IIH_results_full.csv\"\n",
    "GWAS_PVAL_THREASHOLD = 5e-7\n",
    "SKAT_PVAL_THREASHOLD = 5e-5\n",
    "SKAT_QVAL_THREASHOLD = 0.05\n",
    "SKAT_USE_FDR = True"
   ]
  },
  {
   "cell_type": "code",
   "execution_count": 22,
   "id": "5f60621d",
   "metadata": {},
   "outputs": [],
   "source": [
    "gwas_df = pd.read_csv(GWAS_RESULTS_FILE)\n",
    "pwas_df = pd.read_csv(PWAS_RESULTS_FILE)\n",
    "skat_df = pd.read_csv(SKAT_RESULTS_FILE)\n",
    "skat_df['q_values'] = None\n",
    "p_values = skat_df['P.value'].values\n",
    "\n",
    "# Apply FDR correction\n",
    "_, q_values, _, _ = multipletests(p_values, method='fdr_bh')\n",
    "\n",
    "# Assign the corrected q-values back to the DataFrame\n",
    "skat_df['q_values'] = q_values\n",
    "\n",
    "# Print the DataFrame with the corrected q-values"
   ]
  },
  {
   "cell_type": "code",
   "execution_count": null,
   "id": "6416dcf9",
   "metadata": {},
   "outputs": [],
   "source": []
  },
  {
   "cell_type": "code",
   "execution_count": 23,
   "id": "2432bd57",
   "metadata": {},
   "outputs": [],
   "source": [
    "gwas_df_filtered = gwas_df[gwas_df[\"P\"] < GWAS_PVAL_THREASHOLD]\n",
    "gwas_genes = set(gwas_df_filtered[\"gene_symbol\"].unique())\n",
    "pwas_genes = set(pwas_df[pwas_df[\"fdr_significance\"]][\"symbol\"].dropna().unique())\n",
    "if SKAT_USE_FDR:\n",
    "    skat_genes = set(skat_df[skat_df[\"q_values\"] < SKAT_QVAL_THREASHOLD][\"symbol\"].unique())\n",
    "else:\n",
    "    skat_genes = set(skat_df[skat_df[\"P.value\"] < SKAT_PVAL_THREASHOLD][\"symbol\"].unique())"
   ]
  },
  {
   "cell_type": "code",
   "execution_count": 26,
   "id": "f68528dc",
   "metadata": {},
   "outputs": [
    {
     "name": "stdout",
     "output_type": "stream",
     "text": [
      "all intersection:\t {'FOXF1', 'RGCC'}\n",
      "gwas,pwas intersection:\t {'FOXF1', 'RGCC'}\n",
      "pwas,skat intersection:\t {'FOXF1', 'PMM2', 'RGCC', 'NME2', 'BARHL1', 'CLDN25', 'MFSD14C', 'BARX2', 'NOVA2', 'LYPD1', 'OASL'}\n",
      "gwas,skat intersection:\t {'FOXF1', 'PEX11A', 'TRMT5', 'RGCC', 'FGFR1', 'IRGQ', 'EEF2K', 'NUSAP1', 'SLC28A3', 'TPO', 'MAPK15', 'LSM11'}\n"
     ]
    }
   ],
   "source": [
    "print(\"all intersection:\\t\",gwas_genes.intersection(pwas_genes).intersection(skat_genes))\n",
    "print(\"gwas,pwas intersection:\\t\",gwas_genes.intersection(pwas_genes))\n",
    "print(\"pwas,skat intersection:\\t\",pwas_genes.intersection(skat_genes))\n",
    "print(\"gwas,skat intersection:\\t\",gwas_genes.intersection(skat_genes))"
   ]
  },
  {
   "cell_type": "code",
   "execution_count": null,
   "id": "fa151b08",
   "metadata": {},
   "outputs": [],
   "source": []
  }
 ],
 "metadata": {
  "kernelspec": {
   "display_name": "Python 3 (ipykernel)",
   "language": "python",
   "name": "python3"
  },
  "language_info": {
   "codemirror_mode": {
    "name": "ipython",
    "version": 3
   },
   "file_extension": ".py",
   "mimetype": "text/x-python",
   "name": "python",
   "nbconvert_exporter": "python",
   "pygments_lexer": "ipython3",
   "version": "3.7.3"
  }
 },
 "nbformat": 4,
 "nbformat_minor": 5
}
