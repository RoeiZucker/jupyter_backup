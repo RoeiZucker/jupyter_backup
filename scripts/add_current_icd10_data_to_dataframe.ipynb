{
 "cells": [
  {
   "cell_type": "code",
   "execution_count": 1,
   "id": "1dc7dce3",
   "metadata": {},
   "outputs": [],
   "source": [
    "import pandas as pd"
   ]
  },
  {
   "cell_type": "code",
   "execution_count": 15,
   "id": "9b1304df",
   "metadata": {},
   "outputs": [],
   "source": [
    "# PARTICIPANT_DATA_WITH_DATES = \"/cs/labs/michall/roeizucker/ukb_files/diagnosis.csv\"\n",
    "PARTICIPANT_DATA_WITH_DATES = \"/cs/usr/roeizucker/my_storage/IIH/updated_phenotypes/diagnosis_ethnicity_25_11_24_participant_participant.csv\"\n",
    "\n",
    "# requested_phenotypes_list = [([\"H47.1 Papilloedema, unspecified\"],\"updated_PAP\",\"B\"),\n",
    "#                              ([\"G93.2 Benign intracranial hypertension\"],\"updated_IIH\",\"B\"),\n",
    "#                             ([\"H47.1 Papilloedema, unspecified\",\"G93.2 Benign intracranial hypertension\"],\"updated_Both\",\"B\"),\n",
    "                             \n",
    "#                             ([\"H47.1 Papilloedema, unspecified\"],\"updated_PAP_F\",\"Female\"),\n",
    "#                             ([\"G93.2 Benign intracranial hypertension\"],\"updated_IIH_F\",\"Female\"),\n",
    "#                             ([\"H47.1 Papilloedema, unspecified\",\"G93.2 Benign intracranial hypertension\"],\"updated_Both_F\",\"Female\"),\n",
    "                             \n",
    "#                             ([\"H47.1 Papilloedema, unspecified\"],\"updated_PAP_M\",\"Male\"),\n",
    "#                             ([\"G93.2 Benign intracranial hypertension\"],\"updated_IIH_M\",\"Male\"),\n",
    "#                             ([\"H47.1 Papilloedema, unspecified\",\"G93.2 Benign intracranial hypertension\"],\"updated_Both_M\",\"Male\")]\n",
    "# requested_phenotypes_list = [\n",
    "#     ([\"L63\",\"L64\",\"L65\"],\"L63-5\",\"B\"),\n",
    "#     ([\"L63\",\"L64\"],\"L63-4\",\"B\"),\n",
    "#     ([\"L63\"],\"L63\",\"B\"),\n",
    "#     ([\"L65\"],\"L65\",\"B\")\n",
    "# ]\n",
    "requested_phenotypes_list = [\n",
    "    ([\"H47.1\"],\"H47.1\",\"B\"),\n",
    "    ([\"G93.2\"],\"G93.2\",\"B\"),\n",
    "    ([\"H47.1\",\"G93.2\"],\"both_phen\",\"B\"),\n",
    "]\n",
    "# PAP,IIH,both,PAP_F,IIH_F,both_F,PAP_M,IIH_M,both_M\n",
    "OLD_FILE = \"/cs/labs/michall/roeizucker/IIH/PWAS/ukbb_dataset.csv\"\n",
    "RESULT_PATH = \"~/my_storage/IIH/updated_phenotypes/ukbb_dataset_updated_11.csv\"\n"
   ]
  },
  {
   "cell_type": "code",
   "execution_count": 3,
   "id": "9e03bdcd",
   "metadata": {},
   "outputs": [],
   "source": [
    "DIAGNOSES_FIELD_NAME = \"Diagnoses - ICD10\"\n",
    "# REQUIRED_FILEDS = ['Participant ID','Sex','Year of birth(participant - p34)',DIAGNOSES_FIELD_NAME]\n",
    "REQUIRED_FILEDS = ['Participant ID','Sex','Year of birth',DIAGNOSES_FIELD_NAME]\n",
    "SEPERETOR = \"|\""
   ]
  },
  {
   "cell_type": "code",
   "execution_count": 4,
   "id": "2f132db1",
   "metadata": {},
   "outputs": [],
   "source": [
    "old_df = pd.read_csv(OLD_FILE)"
   ]
  },
  {
   "cell_type": "code",
   "execution_count": 5,
   "id": "9b165b51",
   "metadata": {},
   "outputs": [],
   "source": [
    "df = pd.read_csv(PARTICIPANT_DATA_WITH_DATES,low_memory=False,usecols=REQUIRED_FILEDS)"
   ]
  },
  {
   "cell_type": "code",
   "execution_count": null,
   "id": "cbb347d0",
   "metadata": {},
   "outputs": [],
   "source": []
  },
  {
   "cell_type": "code",
   "execution_count": 6,
   "id": "4eed99ec",
   "metadata": {},
   "outputs": [],
   "source": [
    "def find_phen(value,requested_diags,sex=\"B\"):\n",
    "\n",
    "    if not isinstance(value[DIAGNOSES_FIELD_NAME], str):\n",
    "        return None\n",
    "    diags = (value[DIAGNOSES_FIELD_NAME].strip('][').split(SEPERETOR))\n",
    "    new_diags = []\n",
    "    for diag in diags:\n",
    "        diag = diag.replace(\"\\\"\",\"\")\n",
    "        new_diags.append(diag)\n",
    "    for req_diag in requested_diags:\n",
    "        for participant_diag in new_diags:\n",
    "            if req_diag in participant_diag and (sex==\"B\" or sex==value[\"Sex\"]):\n",
    "                return 1\n",
    "    if sex==\"B\" or sex==value[\"Sex\"]:\n",
    "        return 0\n",
    "    else:\n",
    "        return None\n",
    "    \n",
    "    \n"
   ]
  },
  {
   "cell_type": "code",
   "execution_count": 7,
   "id": "678b2f2f",
   "metadata": {},
   "outputs": [
    {
     "name": "stdout",
     "output_type": "stream",
     "text": [
      "sample_index,eid,PAP,IIH,both,PAP_F,IIH_F,both_F,PAP_M,IIH_M,both_M,const,sex,year_of_birth,PC1,PC2,PC3,PC4,PC5,PC6,PC7,PC8,PC9,PC10,PC11,PC12,PC13,PC14,PC15,PC16,PC17,PC18,PC19,PC20,PC21,PC22,PC23,PC24,PC25,PC26,PC27,PC28,PC29,PC30,PC31,PC32,PC33,PC34,PC35,PC36,PC37,PC38,PC39,PC40,AC_stockport_pilot,AC_manchester,AC_oxford,AC_cardiff,AC_glasgow,AC_edinburgh,AC_stoke,AC_reading,AC_bury,AC_newcastle,AC_bristol,AC_barts,AC_nottingham,AC_sheffield,AC_liverpool,AC_middlesborough,AC_hounslow,AC_croydon,AC_birmingham,AC_swansea,AC_wrexham,AC_cheadle_revisit,AC_cheadle_imaging,AC_reading_imaging,AC_newcastle_imaging,batch_Batch_b001,batch_Batch_b002,batch_Batch_b003,batch_Batch_b004,batch_Batch_b005,batch_Batch_b006,batch_Batch_b007,batch_Batch_b008,batch_Batch_b009,batch_Batch_b010,batch_Batch_b011,batch_Batch_b012,batch_Batch_b013,batch_Batch_b014,batch_Batch_b015,batch_Batch_b016,batch_Batch_b017,batch_Batch_b018,batch_Batch_b019,batch_Batch_b020,batch_Batch_b021,batch_Batch_b022,batch_Batch_b023,batch_Batch_b024,batch_Batch_b025,batch_Batch_b026,batch_Batch_b027,batch_Batch_b028,batch_Batch_b029,batch_Batch_b030,batch_Batch_b031,batch_Batch_b032,batch_Batch_b033,batch_Batch_b034,batch_Batch_b035,batch_Batch_b036,batch_Batch_b037,batch_Batch_b038,batch_Batch_b039,batch_Batch_b040,batch_Batch_b041,batch_Batch_b042,batch_Batch_b043,batch_Batch_b044,batch_Batch_b045,batch_Batch_b046,batch_Batch_b047,batch_Batch_b048,batch_Batch_b049,batch_Batch_b050,batch_Batch_b051,batch_Batch_b052,batch_Batch_b053,batch_Batch_b054,batch_Batch_b055,batch_Batch_b056,batch_Batch_b057,batch_Batch_b058,batch_Batch_b059,batch_Batch_b060,batch_Batch_b061,batch_Batch_b062,batch_Batch_b063,batch_Batch_b064,batch_Batch_b065,batch_Batch_b066,batch_Batch_b067,batch_Batch_b068,batch_Batch_b069,batch_Batch_b070,batch_Batch_b071,batch_Batch_b072,batch_Batch_b073,batch_Batch_b074,batch_Batch_b075,batch_Batch_b076,batch_Batch_b077,batch_Batch_b078,batch_Batch_b079,batch_Batch_b080,batch_Batch_b081,batch_Batch_b082,batch_Batch_b083,batch_Batch_b084,batch_Batch_b085,batch_Batch_b086,batch_Batch_b087,batch_Batch_b088,batch_Batch_b089,batch_Batch_b090,batch_Batch_b091,batch_Batch_b092,batch_Batch_b093,batch_Batch_b094,batch_Batch_b095,batch_UKBiLEVEAX_b1,batch_UKBiLEVEAX_b10,batch_UKBiLEVEAX_b11,batch_UKBiLEVEAX_b3,batch_UKBiLEVEAX_b4,batch_UKBiLEVEAX_b5,batch_UKBiLEVEAX_b6,batch_UKBiLEVEAX_b7,batch_UKBiLEVEAX_b8,batch_UKBiLEVEAX_b9,updated_PAP,updated_IIH,updated_Both,updated_PAP_F,updated_IIH_F,updated_Both_F,updated_PAP_M,updated_IIH_M,updated_Both_M\n",
      "0,5895328,0.0,0.0,0.0,,,,0.0,0.0,0.0,1.0,1.0,1942.0,-12.5327,4.23522,0.179931,-1.61647,-4.98576,-0.7598689999999999,-0.113473,0.186582,-0.384236,-0.488657,-1.48737,0.587804,2.25847,-6.00507,-3.3261300000000005,-3.22154,-2.72591,-1.17418,-2.78253,-4.7469800000000015,-5.33592,0.519907,2.09636,3.66928,0.590669,-0.00976455,-0.186151,-0.25832,-0.21618,-1.4265,-1.03428,0.20172,2.04728,-4.50041,-0.419695,-1.41219,5.0116,-2.04177,-0.329472,-0.6102310000000001,0.0,0.0,1.0,0.0,0.0,0.0,0.0,0.0,0.0,0.0,0.0,0.0,0.0,0.0,0.0,0.0,0.0,0.0,0.0,0.0,0.0,0.0,0.0,0.0,0.0,0.0,0.0,0.0,0.0,0.0,0.0,0.0,0.0,0.0,0.0,0.0,0.0,0.0,0.0,0.0,0.0,0.0,0.0,0.0,0.0,0.0,0.0,0.0,0.0,0.0,0.0,0.0,0.0,0.0,0.0,0.0,0.0,0.0,0.0,0.0,0.0,0.0,0.0,0.0,0.0,0.0,0.0,1.0,0.0,0.0,0.0,0.0,0.0,0.0,0.0,0.0,0.0,0.0,0.0,0.0,0.0,0.0,0.0,0.0,0.0,0.0,0.0,0.0,0.0,0.0,0.0,0.0,0.0,0.0,0.0,0.0,0.0,0.0,0.0,0.0,0.0,0.0,0.0,0.0,0.0,0.0,0.0,0.0,0.0,0.0,0.0,0.0,0.0,0.0,0.0,0.0,0.0,0.0,0.0,0.0,0.0,0.0,0.0,0.0,0.0,0.0,0.0,0.0,0.0,0.0,0.0,0.0,0.0,,,,0.0,0.0,0.0\n"
     ]
    }
   ],
   "source": [
    "!head -n 2 /cs/labs/michall/roeizucker/IIH/PWAS/ukbb_dataset_updated.csv"
   ]
  },
  {
   "cell_type": "code",
   "execution_count": 8,
   "id": "8912ed0a",
   "metadata": {},
   "outputs": [],
   "source": [
    "for phen in requested_phenotypes_list:\n",
    "    df[phen[1]] = df.apply(lambda x: find_phen(x,phen[0],phen[2]),axis=1)\n",
    "df[\"eid\"] = df[\"Participant ID\"]"
   ]
  },
  {
   "cell_type": "code",
   "execution_count": 9,
   "id": "d2c395c6",
   "metadata": {},
   "outputs": [],
   "source": [
    "small_df = df[[\"eid\"] + list(map(lambda x:x[1],requested_phenotypes_list))]"
   ]
  },
  {
   "cell_type": "code",
   "execution_count": 10,
   "id": "4498aa51",
   "metadata": {},
   "outputs": [],
   "source": [
    "updated_df = pd.merge(old_df,small_df,on=\"eid\",how=\"left\")"
   ]
  },
  {
   "cell_type": "code",
   "execution_count": 13,
   "id": "e02878b9",
   "metadata": {},
   "outputs": [
    {
     "data": {
      "text/html": [
       "<div>\n",
       "<style scoped>\n",
       "    .dataframe tbody tr th:only-of-type {\n",
       "        vertical-align: middle;\n",
       "    }\n",
       "\n",
       "    .dataframe tbody tr th {\n",
       "        vertical-align: top;\n",
       "    }\n",
       "\n",
       "    .dataframe thead th {\n",
       "        text-align: right;\n",
       "    }\n",
       "</style>\n",
       "<table border=\"1\" class=\"dataframe\">\n",
       "  <thead>\n",
       "    <tr style=\"text-align: right;\">\n",
       "      <th></th>\n",
       "      <th>Participant ID</th>\n",
       "      <th>Diagnoses - ICD10</th>\n",
       "      <th>Sex</th>\n",
       "      <th>Year of birth</th>\n",
       "      <th>H47.1</th>\n",
       "      <th>G93.2</th>\n",
       "      <th>both_phen</th>\n",
       "      <th>eid</th>\n",
       "    </tr>\n",
       "  </thead>\n",
       "  <tbody>\n",
       "    <tr>\n",
       "      <th>401708</th>\n",
       "      <td>2745120</td>\n",
       "      <td>A09.9 Gastroenteritis and colitis of unspecifi...</td>\n",
       "      <td>Male</td>\n",
       "      <td>1945</td>\n",
       "      <td>0.0</td>\n",
       "      <td>0.0</td>\n",
       "      <td>0.0</td>\n",
       "      <td>2745120</td>\n",
       "    </tr>\n",
       "  </tbody>\n",
       "</table>\n",
       "</div>"
      ],
      "text/plain": [
       "        Participant ID                                  Diagnoses - ICD10  \\\n",
       "401708         2745120  A09.9 Gastroenteritis and colitis of unspecifi...   \n",
       "\n",
       "         Sex  Year of birth  H47.1  G93.2  both_phen      eid  \n",
       "401708  Male           1945    0.0    0.0        0.0  2745120  "
      ]
     },
     "execution_count": 13,
     "metadata": {},
     "output_type": "execute_result"
    }
   ],
   "source": [
    "df[df[\"eid\"] == 2745120]"
   ]
  },
  {
   "cell_type": "code",
   "execution_count": 14,
   "id": "ed60e717-7dc9-4e76-b611-279dbc9a664c",
   "metadata": {},
   "outputs": [
    {
     "data": {
      "text/plain": [
       "'roeizucker@chaperone-02:~/my_storage/IIH/updated_phenotypes/ukbb_dataset_updated_11.csv'"
      ]
     },
     "execution_count": 14,
     "metadata": {},
     "output_type": "execute_result"
    }
   ],
   "source": [
    "RESULT_PATH"
   ]
  },
  {
   "cell_type": "code",
   "execution_count": 20,
   "id": "90c540ef",
   "metadata": {},
   "outputs": [],
   "source": [
    "updated_df.to_csv(RESULT_PATH,index=False)"
   ]
  },
  {
   "cell_type": "code",
   "execution_count": null,
   "id": "33a0065a",
   "metadata": {},
   "outputs": [],
   "source": [
    "updated_df[(updated_df[\"both\"] ==1 )& (updated_df[\"updated_Both\"] ==0)][[\"eid\",\"updated_Both\",\"both\"]]"
   ]
  },
  {
   "cell_type": "code",
   "execution_count": null,
   "id": "4ffbf281",
   "metadata": {},
   "outputs": [],
   "source": [
    "list(map(lambda x:x[1],requested_phenotypes_list))"
   ]
  },
  {
   "cell_type": "code",
   "execution_count": 18,
   "id": "82fba678-5831-4d78-bea0-f90b15953c1d",
   "metadata": {},
   "outputs": [
    {
     "data": {
      "text/plain": [
       "'~/my_storage/IIH/updated_phenotypes/ukbb_dataset_updated_11.csv'"
      ]
     },
     "execution_count": 18,
     "metadata": {},
     "output_type": "execute_result"
    }
   ],
   "source": [
    "RESULT_PATH"
   ]
  },
  {
   "cell_type": "code",
   "execution_count": 22,
   "id": "67002d04-bb64-4b31-9b54-c01addf60484",
   "metadata": {},
   "outputs": [
    {
     "ename": "IntCastingNaNError",
     "evalue": "Cannot convert non-finite values (NA or inf) to integer",
     "output_type": "error",
     "traceback": [
      "\u001b[0;31m---------------------------------------------------------------------------\u001b[0m",
      "\u001b[0;31mIntCastingNaNError\u001b[0m                        Traceback (most recent call last)",
      "Cell \u001b[0;32mIn[22], line 1\u001b[0m\n\u001b[0;32m----> 1\u001b[0m \u001b[43mupdated_df\u001b[49m\u001b[43m[\u001b[49m\u001b[38;5;124;43m\"\u001b[39;49m\u001b[38;5;124;43mboth_phen\u001b[39;49m\u001b[38;5;124;43m\"\u001b[39;49m\u001b[43m]\u001b[49m\u001b[38;5;241;43m.\u001b[39;49m\u001b[43mastype\u001b[49m\u001b[43m(\u001b[49m\u001b[38;5;28;43mint\u001b[39;49m\u001b[43m)\u001b[49m\n",
      "File \u001b[0;32m/sci/nosnap/michall/roeizucker/new_python_env/lib/python3.11/site-packages/pandas/core/generic.py:6643\u001b[0m, in \u001b[0;36mNDFrame.astype\u001b[0;34m(self, dtype, copy, errors)\u001b[0m\n\u001b[1;32m   6637\u001b[0m     results \u001b[38;5;241m=\u001b[39m [\n\u001b[1;32m   6638\u001b[0m         ser\u001b[38;5;241m.\u001b[39mastype(dtype, copy\u001b[38;5;241m=\u001b[39mcopy, errors\u001b[38;5;241m=\u001b[39merrors) \u001b[38;5;28;01mfor\u001b[39;00m _, ser \u001b[38;5;129;01min\u001b[39;00m \u001b[38;5;28mself\u001b[39m\u001b[38;5;241m.\u001b[39mitems()\n\u001b[1;32m   6639\u001b[0m     ]\n\u001b[1;32m   6641\u001b[0m \u001b[38;5;28;01melse\u001b[39;00m:\n\u001b[1;32m   6642\u001b[0m     \u001b[38;5;66;03m# else, only a single dtype is given\u001b[39;00m\n\u001b[0;32m-> 6643\u001b[0m     new_data \u001b[38;5;241m=\u001b[39m \u001b[38;5;28;43mself\u001b[39;49m\u001b[38;5;241;43m.\u001b[39;49m\u001b[43m_mgr\u001b[49m\u001b[38;5;241;43m.\u001b[39;49m\u001b[43mastype\u001b[49m\u001b[43m(\u001b[49m\u001b[43mdtype\u001b[49m\u001b[38;5;241;43m=\u001b[39;49m\u001b[43mdtype\u001b[49m\u001b[43m,\u001b[49m\u001b[43m \u001b[49m\u001b[43mcopy\u001b[49m\u001b[38;5;241;43m=\u001b[39;49m\u001b[43mcopy\u001b[49m\u001b[43m,\u001b[49m\u001b[43m \u001b[49m\u001b[43merrors\u001b[49m\u001b[38;5;241;43m=\u001b[39;49m\u001b[43merrors\u001b[49m\u001b[43m)\u001b[49m\n\u001b[1;32m   6644\u001b[0m     res \u001b[38;5;241m=\u001b[39m \u001b[38;5;28mself\u001b[39m\u001b[38;5;241m.\u001b[39m_constructor_from_mgr(new_data, axes\u001b[38;5;241m=\u001b[39mnew_data\u001b[38;5;241m.\u001b[39maxes)\n\u001b[1;32m   6645\u001b[0m     \u001b[38;5;28;01mreturn\u001b[39;00m res\u001b[38;5;241m.\u001b[39m__finalize__(\u001b[38;5;28mself\u001b[39m, method\u001b[38;5;241m=\u001b[39m\u001b[38;5;124m\"\u001b[39m\u001b[38;5;124mastype\u001b[39m\u001b[38;5;124m\"\u001b[39m)\n",
      "File \u001b[0;32m/sci/nosnap/michall/roeizucker/new_python_env/lib/python3.11/site-packages/pandas/core/internals/managers.py:430\u001b[0m, in \u001b[0;36mBaseBlockManager.astype\u001b[0;34m(self, dtype, copy, errors)\u001b[0m\n\u001b[1;32m    427\u001b[0m \u001b[38;5;28;01melif\u001b[39;00m using_copy_on_write():\n\u001b[1;32m    428\u001b[0m     copy \u001b[38;5;241m=\u001b[39m \u001b[38;5;28;01mFalse\u001b[39;00m\n\u001b[0;32m--> 430\u001b[0m \u001b[38;5;28;01mreturn\u001b[39;00m \u001b[38;5;28;43mself\u001b[39;49m\u001b[38;5;241;43m.\u001b[39;49m\u001b[43mapply\u001b[49m\u001b[43m(\u001b[49m\n\u001b[1;32m    431\u001b[0m \u001b[43m    \u001b[49m\u001b[38;5;124;43m\"\u001b[39;49m\u001b[38;5;124;43mastype\u001b[39;49m\u001b[38;5;124;43m\"\u001b[39;49m\u001b[43m,\u001b[49m\n\u001b[1;32m    432\u001b[0m \u001b[43m    \u001b[49m\u001b[43mdtype\u001b[49m\u001b[38;5;241;43m=\u001b[39;49m\u001b[43mdtype\u001b[49m\u001b[43m,\u001b[49m\n\u001b[1;32m    433\u001b[0m \u001b[43m    \u001b[49m\u001b[43mcopy\u001b[49m\u001b[38;5;241;43m=\u001b[39;49m\u001b[43mcopy\u001b[49m\u001b[43m,\u001b[49m\n\u001b[1;32m    434\u001b[0m \u001b[43m    \u001b[49m\u001b[43merrors\u001b[49m\u001b[38;5;241;43m=\u001b[39;49m\u001b[43merrors\u001b[49m\u001b[43m,\u001b[49m\n\u001b[1;32m    435\u001b[0m \u001b[43m    \u001b[49m\u001b[43musing_cow\u001b[49m\u001b[38;5;241;43m=\u001b[39;49m\u001b[43musing_copy_on_write\u001b[49m\u001b[43m(\u001b[49m\u001b[43m)\u001b[49m\u001b[43m,\u001b[49m\n\u001b[1;32m    436\u001b[0m \u001b[43m\u001b[49m\u001b[43m)\u001b[49m\n",
      "File \u001b[0;32m/sci/nosnap/michall/roeizucker/new_python_env/lib/python3.11/site-packages/pandas/core/internals/managers.py:363\u001b[0m, in \u001b[0;36mBaseBlockManager.apply\u001b[0;34m(self, f, align_keys, **kwargs)\u001b[0m\n\u001b[1;32m    361\u001b[0m         applied \u001b[38;5;241m=\u001b[39m b\u001b[38;5;241m.\u001b[39mapply(f, \u001b[38;5;241m*\u001b[39m\u001b[38;5;241m*\u001b[39mkwargs)\n\u001b[1;32m    362\u001b[0m     \u001b[38;5;28;01melse\u001b[39;00m:\n\u001b[0;32m--> 363\u001b[0m         applied \u001b[38;5;241m=\u001b[39m \u001b[38;5;28;43mgetattr\u001b[39;49m\u001b[43m(\u001b[49m\u001b[43mb\u001b[49m\u001b[43m,\u001b[49m\u001b[43m \u001b[49m\u001b[43mf\u001b[49m\u001b[43m)\u001b[49m\u001b[43m(\u001b[49m\u001b[38;5;241;43m*\u001b[39;49m\u001b[38;5;241;43m*\u001b[39;49m\u001b[43mkwargs\u001b[49m\u001b[43m)\u001b[49m\n\u001b[1;32m    364\u001b[0m     result_blocks \u001b[38;5;241m=\u001b[39m extend_blocks(applied, result_blocks)\n\u001b[1;32m    366\u001b[0m out \u001b[38;5;241m=\u001b[39m \u001b[38;5;28mtype\u001b[39m(\u001b[38;5;28mself\u001b[39m)\u001b[38;5;241m.\u001b[39mfrom_blocks(result_blocks, \u001b[38;5;28mself\u001b[39m\u001b[38;5;241m.\u001b[39maxes)\n",
      "File \u001b[0;32m/sci/nosnap/michall/roeizucker/new_python_env/lib/python3.11/site-packages/pandas/core/internals/blocks.py:758\u001b[0m, in \u001b[0;36mBlock.astype\u001b[0;34m(self, dtype, copy, errors, using_cow, squeeze)\u001b[0m\n\u001b[1;32m    755\u001b[0m         \u001b[38;5;28;01mraise\u001b[39;00m \u001b[38;5;167;01mValueError\u001b[39;00m(\u001b[38;5;124m\"\u001b[39m\u001b[38;5;124mCan not squeeze with more than one column.\u001b[39m\u001b[38;5;124m\"\u001b[39m)\n\u001b[1;32m    756\u001b[0m     values \u001b[38;5;241m=\u001b[39m values[\u001b[38;5;241m0\u001b[39m, :]  \u001b[38;5;66;03m# type: ignore[call-overload]\u001b[39;00m\n\u001b[0;32m--> 758\u001b[0m new_values \u001b[38;5;241m=\u001b[39m \u001b[43mastype_array_safe\u001b[49m\u001b[43m(\u001b[49m\u001b[43mvalues\u001b[49m\u001b[43m,\u001b[49m\u001b[43m \u001b[49m\u001b[43mdtype\u001b[49m\u001b[43m,\u001b[49m\u001b[43m \u001b[49m\u001b[43mcopy\u001b[49m\u001b[38;5;241;43m=\u001b[39;49m\u001b[43mcopy\u001b[49m\u001b[43m,\u001b[49m\u001b[43m \u001b[49m\u001b[43merrors\u001b[49m\u001b[38;5;241;43m=\u001b[39;49m\u001b[43merrors\u001b[49m\u001b[43m)\u001b[49m\n\u001b[1;32m    760\u001b[0m new_values \u001b[38;5;241m=\u001b[39m maybe_coerce_values(new_values)\n\u001b[1;32m    762\u001b[0m refs \u001b[38;5;241m=\u001b[39m \u001b[38;5;28;01mNone\u001b[39;00m\n",
      "File \u001b[0;32m/sci/nosnap/michall/roeizucker/new_python_env/lib/python3.11/site-packages/pandas/core/dtypes/astype.py:237\u001b[0m, in \u001b[0;36mastype_array_safe\u001b[0;34m(values, dtype, copy, errors)\u001b[0m\n\u001b[1;32m    234\u001b[0m     dtype \u001b[38;5;241m=\u001b[39m dtype\u001b[38;5;241m.\u001b[39mnumpy_dtype\n\u001b[1;32m    236\u001b[0m \u001b[38;5;28;01mtry\u001b[39;00m:\n\u001b[0;32m--> 237\u001b[0m     new_values \u001b[38;5;241m=\u001b[39m \u001b[43mastype_array\u001b[49m\u001b[43m(\u001b[49m\u001b[43mvalues\u001b[49m\u001b[43m,\u001b[49m\u001b[43m \u001b[49m\u001b[43mdtype\u001b[49m\u001b[43m,\u001b[49m\u001b[43m \u001b[49m\u001b[43mcopy\u001b[49m\u001b[38;5;241;43m=\u001b[39;49m\u001b[43mcopy\u001b[49m\u001b[43m)\u001b[49m\n\u001b[1;32m    238\u001b[0m \u001b[38;5;28;01mexcept\u001b[39;00m (\u001b[38;5;167;01mValueError\u001b[39;00m, \u001b[38;5;167;01mTypeError\u001b[39;00m):\n\u001b[1;32m    239\u001b[0m     \u001b[38;5;66;03m# e.g. _astype_nansafe can fail on object-dtype of strings\u001b[39;00m\n\u001b[1;32m    240\u001b[0m     \u001b[38;5;66;03m#  trying to convert to float\u001b[39;00m\n\u001b[1;32m    241\u001b[0m     \u001b[38;5;28;01mif\u001b[39;00m errors \u001b[38;5;241m==\u001b[39m \u001b[38;5;124m\"\u001b[39m\u001b[38;5;124mignore\u001b[39m\u001b[38;5;124m\"\u001b[39m:\n",
      "File \u001b[0;32m/sci/nosnap/michall/roeizucker/new_python_env/lib/python3.11/site-packages/pandas/core/dtypes/astype.py:182\u001b[0m, in \u001b[0;36mastype_array\u001b[0;34m(values, dtype, copy)\u001b[0m\n\u001b[1;32m    179\u001b[0m     values \u001b[38;5;241m=\u001b[39m values\u001b[38;5;241m.\u001b[39mastype(dtype, copy\u001b[38;5;241m=\u001b[39mcopy)\n\u001b[1;32m    181\u001b[0m \u001b[38;5;28;01melse\u001b[39;00m:\n\u001b[0;32m--> 182\u001b[0m     values \u001b[38;5;241m=\u001b[39m \u001b[43m_astype_nansafe\u001b[49m\u001b[43m(\u001b[49m\u001b[43mvalues\u001b[49m\u001b[43m,\u001b[49m\u001b[43m \u001b[49m\u001b[43mdtype\u001b[49m\u001b[43m,\u001b[49m\u001b[43m \u001b[49m\u001b[43mcopy\u001b[49m\u001b[38;5;241;43m=\u001b[39;49m\u001b[43mcopy\u001b[49m\u001b[43m)\u001b[49m\n\u001b[1;32m    184\u001b[0m \u001b[38;5;66;03m# in pandas we don't store numpy str dtypes, so convert to object\u001b[39;00m\n\u001b[1;32m    185\u001b[0m \u001b[38;5;28;01mif\u001b[39;00m \u001b[38;5;28misinstance\u001b[39m(dtype, np\u001b[38;5;241m.\u001b[39mdtype) \u001b[38;5;129;01mand\u001b[39;00m \u001b[38;5;28missubclass\u001b[39m(values\u001b[38;5;241m.\u001b[39mdtype\u001b[38;5;241m.\u001b[39mtype, \u001b[38;5;28mstr\u001b[39m):\n",
      "File \u001b[0;32m/sci/nosnap/michall/roeizucker/new_python_env/lib/python3.11/site-packages/pandas/core/dtypes/astype.py:101\u001b[0m, in \u001b[0;36m_astype_nansafe\u001b[0;34m(arr, dtype, copy, skipna)\u001b[0m\n\u001b[1;32m     96\u001b[0m     \u001b[38;5;28;01mreturn\u001b[39;00m lib\u001b[38;5;241m.\u001b[39mensure_string_array(\n\u001b[1;32m     97\u001b[0m         arr, skipna\u001b[38;5;241m=\u001b[39mskipna, convert_na_value\u001b[38;5;241m=\u001b[39m\u001b[38;5;28;01mFalse\u001b[39;00m\n\u001b[1;32m     98\u001b[0m     )\u001b[38;5;241m.\u001b[39mreshape(shape)\n\u001b[1;32m    100\u001b[0m \u001b[38;5;28;01melif\u001b[39;00m np\u001b[38;5;241m.\u001b[39missubdtype(arr\u001b[38;5;241m.\u001b[39mdtype, np\u001b[38;5;241m.\u001b[39mfloating) \u001b[38;5;129;01mand\u001b[39;00m dtype\u001b[38;5;241m.\u001b[39mkind \u001b[38;5;129;01min\u001b[39;00m \u001b[38;5;124m\"\u001b[39m\u001b[38;5;124miu\u001b[39m\u001b[38;5;124m\"\u001b[39m:\n\u001b[0;32m--> 101\u001b[0m     \u001b[38;5;28;01mreturn\u001b[39;00m \u001b[43m_astype_float_to_int_nansafe\u001b[49m\u001b[43m(\u001b[49m\u001b[43marr\u001b[49m\u001b[43m,\u001b[49m\u001b[43m \u001b[49m\u001b[43mdtype\u001b[49m\u001b[43m,\u001b[49m\u001b[43m \u001b[49m\u001b[43mcopy\u001b[49m\u001b[43m)\u001b[49m\n\u001b[1;32m    103\u001b[0m \u001b[38;5;28;01melif\u001b[39;00m arr\u001b[38;5;241m.\u001b[39mdtype \u001b[38;5;241m==\u001b[39m \u001b[38;5;28mobject\u001b[39m:\n\u001b[1;32m    104\u001b[0m     \u001b[38;5;66;03m# if we have a datetime/timedelta array of objects\u001b[39;00m\n\u001b[1;32m    105\u001b[0m     \u001b[38;5;66;03m# then coerce to datetime64[ns] and use DatetimeArray.astype\u001b[39;00m\n\u001b[1;32m    107\u001b[0m     \u001b[38;5;28;01mif\u001b[39;00m lib\u001b[38;5;241m.\u001b[39mis_np_dtype(dtype, \u001b[38;5;124m\"\u001b[39m\u001b[38;5;124mM\u001b[39m\u001b[38;5;124m\"\u001b[39m):\n",
      "File \u001b[0;32m/sci/nosnap/michall/roeizucker/new_python_env/lib/python3.11/site-packages/pandas/core/dtypes/astype.py:145\u001b[0m, in \u001b[0;36m_astype_float_to_int_nansafe\u001b[0;34m(values, dtype, copy)\u001b[0m\n\u001b[1;32m    141\u001b[0m \u001b[38;5;250m\u001b[39m\u001b[38;5;124;03m\"\"\"\u001b[39;00m\n\u001b[1;32m    142\u001b[0m \u001b[38;5;124;03mastype with a check preventing converting NaN to an meaningless integer value.\u001b[39;00m\n\u001b[1;32m    143\u001b[0m \u001b[38;5;124;03m\"\"\"\u001b[39;00m\n\u001b[1;32m    144\u001b[0m \u001b[38;5;28;01mif\u001b[39;00m \u001b[38;5;129;01mnot\u001b[39;00m np\u001b[38;5;241m.\u001b[39misfinite(values)\u001b[38;5;241m.\u001b[39mall():\n\u001b[0;32m--> 145\u001b[0m     \u001b[38;5;28;01mraise\u001b[39;00m IntCastingNaNError(\n\u001b[1;32m    146\u001b[0m         \u001b[38;5;124m\"\u001b[39m\u001b[38;5;124mCannot convert non-finite values (NA or inf) to integer\u001b[39m\u001b[38;5;124m\"\u001b[39m\n\u001b[1;32m    147\u001b[0m     )\n\u001b[1;32m    148\u001b[0m \u001b[38;5;28;01mif\u001b[39;00m dtype\u001b[38;5;241m.\u001b[39mkind \u001b[38;5;241m==\u001b[39m \u001b[38;5;124m\"\u001b[39m\u001b[38;5;124mu\u001b[39m\u001b[38;5;124m\"\u001b[39m:\n\u001b[1;32m    149\u001b[0m     \u001b[38;5;66;03m# GH#45151\u001b[39;00m\n\u001b[1;32m    150\u001b[0m     \u001b[38;5;28;01mif\u001b[39;00m \u001b[38;5;129;01mnot\u001b[39;00m (values \u001b[38;5;241m>\u001b[39m\u001b[38;5;241m=\u001b[39m \u001b[38;5;241m0\u001b[39m)\u001b[38;5;241m.\u001b[39mall():\n",
      "\u001b[0;31mIntCastingNaNError\u001b[0m: Cannot convert non-finite values (NA or inf) to integer"
     ]
    }
   ],
   "source": []
  }
 ],
 "metadata": {
  "kernelspec": {
   "display_name": "Python 3 (ipykernel)",
   "language": "python",
   "name": "python3"
  },
  "language_info": {
   "codemirror_mode": {
    "name": "ipython",
    "version": 3
   },
   "file_extension": ".py",
   "mimetype": "text/x-python",
   "name": "python",
   "nbconvert_exporter": "python",
   "pygments_lexer": "ipython3",
   "version": "3.11.2"
  }
 },
 "nbformat": 4,
 "nbformat_minor": 5
}
