{
 "cells": [
  {
   "cell_type": "code",
   "execution_count": 1,
   "id": "177fd69c",
   "metadata": {},
   "outputs": [],
   "source": [
    "import pandas as pd\n",
    "import os"
   ]
  },
  {
   "cell_type": "code",
   "execution_count": 2,
   "id": "4242a22f",
   "metadata": {},
   "outputs": [],
   "source": [
    "PROJECT_PATH = \"/sci/nosnap/michall/roeizucker/Hypothyroidism_hackaton\"\n",
    "FILE_NAME = \"ukbb_dataset_filtered.csv\"\n",
    "PHENS_TO_RUN = [\"E03_reduced\",\"E03_F_reduced\",\"E03_M_reduced\",\"E04_reduced\",\"E04_F_reduced\",\"E04_M_reduced\",\"E05_reduced\",\"E05_F_reduced\",\"E05_M_reduced\",\"E06_reduced\",\"E06_F_reduced\",\"E06_M_reduced\",\"E07_reduced\",\"E07_F_reduced\",\"E07_M_reduced\",]\n",
    "REDUCED_COVARIATES = False"
   ]
  },
  {
   "cell_type": "code",
   "execution_count": 3,
   "id": "6361927e",
   "metadata": {},
   "outputs": [],
   "source": [
    "RESULTS_FOLDER = \"results\""
   ]
  },
  {
   "cell_type": "code",
   "execution_count": 4,
   "id": "7712f2e4",
   "metadata": {},
   "outputs": [],
   "source": [
    "for phen in PHENS_TO_RUN:\n",
    "    !mkdir {os.path.join(PROJECT_PATH,phen)}"
   ]
  },
  {
   "cell_type": "code",
   "execution_count": 5,
   "id": "3b8002e0",
   "metadata": {},
   "outputs": [
    {
     "name": "stdout",
     "output_type": "stream",
     "text": [
      "sbatch --array=0-49 --mem=15g -c1 --time=1-0 --killable --requeue --wrap=\"/sci/archive/michall/roeizucker/thesis/resampling/run_K409_M_resampled.sh\"\n",
      "sbatch --array=0-49 --mem=15g -c1 --time=1-0 --killable --requeue --wrap=\"/sci/archive/michall/roeizucker/thesis/resampling/run_Phecode_244.1_F_resampled.sh\"\n",
      "sbatch --array=0-49 --mem=15g -c1 --time=1-0 --killable --requeue --wrap=\"/sci/archive/michall/roeizucker/thesis/resampling/run_Phecode_332.0_M_resampled.sh\"\n",
      "sbatch --array=0-49 --mem=15g -c1 --time=1-0 --killable --requeue --wrap=\"/sci/archive/michall/roeizucker/thesis/resampling/run_Phecode_426.21_M_resampled.sh\"\n",
      "sbatch --array=0-49 --mem=15g -c1 --time=1-0 --killable --requeue --wrap=\"/sci/archive/michall/roeizucker/thesis/resampling/run_Phecode_443.9_M_resampled.sh\"\n",
      "sbatch --array=0-49 --mem=15g -c1 --time=1-0 --killable --requeue --wrap=\"/sci/archive/michall/roeizucker/thesis/resampling/run_Phecode_473.0_M_resampled.sh\"\n",
      "sbatch --array=0-49 --mem=15g -c1 --time=1-0 --killable --requeue --wrap=\"/sci/archive/michall/roeizucker/thesis/resampling/run_Phecode_594.8_M_resampled.sh\"\n",
      "sbatch --array=0-49 --mem=15g -c1 --time=1-0 --killable --requeue --wrap=\"/sci/archive/michall/roeizucker/thesis/resampling/run_Phecode_594.3_M_resampled.sh\"\n",
      "sbatch --array=0-49 --mem=15g -c1 --time=1-0 --killable --requeue --wrap=\"/sci/archive/michall/roeizucker/thesis/resampling/run_Phecode_735.2_F_resampled.sh\"\n",
      "sbatch --array=0-49 --mem=15g -c1 --time=1-0 --killable --requeue --wrap=\"/sci/archive/michall/roeizucker/thesis/resampling/run_Phecode_737.3_F_resampled.sh\"\n",
      "sbatch --array=0-49 --mem=15g -c1 --time=1-0 --killable --requeue --wrap=\"/sci/archive/michall/roeizucker/thesis/resampling/run_Phecode_738.4_F_resampled.sh\"\n",
      "sbatch --array=0-49 --mem=15g -c1 --time=1-0 --killable --requeue --wrap=\"/sci/archive/michall/roeizucker/thesis/resampling/run_Phecode_965.1_F_resampled.sh\"\n"
     ]
    }
   ],
   "source": [
    "dataset_file = os.path.join(PROJECT_PATH,FILE_NAME)\n",
    "for phen in PHENS_TO_RUN:\n",
    "    script_name =  os.path.join(PROJECT_PATH,f\"run_{phen}.sh\")\n",
    "    with open(script_name,\"w\") as script:\n",
    "        if REDUCED_COVARIATES:\n",
    "            script.write(f'''source ~/my_storage/temp_virt_env/bin/activate\n",
    "pwas_test_genes --resolve-quasi-complete-covariate-separation --remove-multicollinear-covariate --dataset-file={dataset_file} --gene-effect-scores-dir=/cs/labs/michall/roeizucker/virt_env_install_test/ukbb_imputation_gene_effect_scores/ --per-gene-pwas-results-dir={os.path.join(PROJECT_PATH,phen)} --sample-id-col=eid --phenotype-col='{phen}' --covariate-cols-json-file={PROJECT_PATH}/ukbb_covariate_columns_reduced.json --task-index-env-variable=SLURM_ARRAY_TASK_ID --total-tasks-env-variable=SLURM_ARRAY_TASK_COUNT\n",
    "''')\n",
    "        else:\n",
    "            script.write(f'''source ~/my_storage/temp_virt_env/bin/activate\n",
    "pwas_test_genes --resolve-quasi-complete-covariate-separation --remove-multicollinear-covariate --dataset-file={dataset_file} --gene-effect-scores-dir=/cs/labs/michall/roeizucker/virt_env_install_test/ukbb_imputation_gene_effect_scores/ --per-gene-pwas-results-dir={os.path.join(PROJECT_PATH,phen)} --sample-id-col=eid --phenotype-col='{phen}' --covariate-cols-json-file={PROJECT_PATH}/ukbb_covariate_columns.json --task-index-env-variable=SLURM_ARRAY_TASK_ID --total-tasks-env-variable=SLURM_ARRAY_TASK_COUNT\n",
    "''')\n",
    "        !chmod 744 {script_name}\n",
    "        print(f'sbatch --array=0-49 --mem=15g -c1 --time=1-0 --killable --requeue --wrap=\"{script_name}\"')"
   ]
  },
  {
   "cell_type": "code",
   "execution_count": 6,
   "id": "5b5ec70d",
   "metadata": {},
   "outputs": [
    {
     "name": "stdout",
     "output_type": "stream",
     "text": [
      "combine_pwas_results --genes-file=~/my_storage/virt_env_install_test/genes_hg19.csv --per-gene-pwas-results-dir=/sci/archive/michall/roeizucker/thesis/resampling/K409_M_resampled --results-file=/sci/archive/michall/roeizucker/thesis/resampling/results/K409_M_resampled.csv\n",
      "combine_pwas_results --genes-file=~/my_storage/virt_env_install_test/genes_hg19.csv --per-gene-pwas-results-dir=/sci/archive/michall/roeizucker/thesis/resampling/Phecode_244.1_F_resampled --results-file=/sci/archive/michall/roeizucker/thesis/resampling/results/Phecode_244.1_F_resampled.csv\n",
      "combine_pwas_results --genes-file=~/my_storage/virt_env_install_test/genes_hg19.csv --per-gene-pwas-results-dir=/sci/archive/michall/roeizucker/thesis/resampling/Phecode_332.0_M_resampled --results-file=/sci/archive/michall/roeizucker/thesis/resampling/results/Phecode_332.0_M_resampled.csv\n",
      "combine_pwas_results --genes-file=~/my_storage/virt_env_install_test/genes_hg19.csv --per-gene-pwas-results-dir=/sci/archive/michall/roeizucker/thesis/resampling/Phecode_426.21_M_resampled --results-file=/sci/archive/michall/roeizucker/thesis/resampling/results/Phecode_426.21_M_resampled.csv\n",
      "combine_pwas_results --genes-file=~/my_storage/virt_env_install_test/genes_hg19.csv --per-gene-pwas-results-dir=/sci/archive/michall/roeizucker/thesis/resampling/Phecode_443.9_M_resampled --results-file=/sci/archive/michall/roeizucker/thesis/resampling/results/Phecode_443.9_M_resampled.csv\n",
      "combine_pwas_results --genes-file=~/my_storage/virt_env_install_test/genes_hg19.csv --per-gene-pwas-results-dir=/sci/archive/michall/roeizucker/thesis/resampling/Phecode_473.0_M_resampled --results-file=/sci/archive/michall/roeizucker/thesis/resampling/results/Phecode_473.0_M_resampled.csv\n",
      "combine_pwas_results --genes-file=~/my_storage/virt_env_install_test/genes_hg19.csv --per-gene-pwas-results-dir=/sci/archive/michall/roeizucker/thesis/resampling/Phecode_594.8_M_resampled --results-file=/sci/archive/michall/roeizucker/thesis/resampling/results/Phecode_594.8_M_resampled.csv\n",
      "combine_pwas_results --genes-file=~/my_storage/virt_env_install_test/genes_hg19.csv --per-gene-pwas-results-dir=/sci/archive/michall/roeizucker/thesis/resampling/Phecode_594.3_M_resampled --results-file=/sci/archive/michall/roeizucker/thesis/resampling/results/Phecode_594.3_M_resampled.csv\n",
      "combine_pwas_results --genes-file=~/my_storage/virt_env_install_test/genes_hg19.csv --per-gene-pwas-results-dir=/sci/archive/michall/roeizucker/thesis/resampling/Phecode_735.2_F_resampled --results-file=/sci/archive/michall/roeizucker/thesis/resampling/results/Phecode_735.2_F_resampled.csv\n",
      "combine_pwas_results --genes-file=~/my_storage/virt_env_install_test/genes_hg19.csv --per-gene-pwas-results-dir=/sci/archive/michall/roeizucker/thesis/resampling/Phecode_737.3_F_resampled --results-file=/sci/archive/michall/roeizucker/thesis/resampling/results/Phecode_737.3_F_resampled.csv\n",
      "combine_pwas_results --genes-file=~/my_storage/virt_env_install_test/genes_hg19.csv --per-gene-pwas-results-dir=/sci/archive/michall/roeizucker/thesis/resampling/Phecode_738.4_F_resampled --results-file=/sci/archive/michall/roeizucker/thesis/resampling/results/Phecode_738.4_F_resampled.csv\n",
      "combine_pwas_results --genes-file=~/my_storage/virt_env_install_test/genes_hg19.csv --per-gene-pwas-results-dir=/sci/archive/michall/roeizucker/thesis/resampling/Phecode_965.1_F_resampled --results-file=/sci/archive/michall/roeizucker/thesis/resampling/results/Phecode_965.1_F_resampled.csv\n"
     ]
    }
   ],
   "source": [
    "results_path = os.path.join(PROJECT_PATH,RESULTS_FOLDER)\n",
    "!mkdir {results_path}\n",
    "for phen in PHENS_TO_RUN:\n",
    "    phen_result_file_path = os.path.join(results_path,phen + \".csv\")\n",
    "    print(f'combine_pwas_results --genes-file=~/my_storage/virt_env_install_test/genes_hg19.csv --per-gene-pwas-results-dir={os.path.join(PROJECT_PATH,phen)} --results-file={phen_result_file_path}')"
   ]
  },
  {
   "cell_type": "code",
   "execution_count": null,
   "id": "aae4ab8f",
   "metadata": {},
   "outputs": [],
   "source": []
  },
  {
   "cell_type": "code",
   "execution_count": 7,
   "id": "14edb835",
   "metadata": {},
   "outputs": [],
   "source": [
    "# df1 = pd.read_csv(\"/cs/labs/michall/roeizucker/Ofer_is_the_Queen/new_ukbb_dataset.csv\")\n",
    "# print(df1[\"test_2\"].value_counts())\n",
    "# print(df1[\"test_1\"].value_counts())"
   ]
  },
  {
   "cell_type": "code",
   "execution_count": 8,
   "id": "cc04a407",
   "metadata": {},
   "outputs": [],
   "source": [
    "# df1[\"sex\"] = 1\n",
    "# df1[[\"test_2\",\"sex\"]].corr()\n",
    "# df1.to_csv(\"/cs/labs/michall/roeizucker/Ofer_is_the_Queen/new_ukbb_dataset.csv\")"
   ]
  },
  {
   "cell_type": "code",
   "execution_count": 9,
   "id": "5849b1ba",
   "metadata": {},
   "outputs": [],
   "source": [
    "# df2 = pd.read_csv(\"/cs/labs/michall/roeizucker/Ofer_is_the_Queen/results/test_2.csv\")"
   ]
  },
  {
   "cell_type": "code",
   "execution_count": null,
   "id": "7a8cabdb",
   "metadata": {},
   "outputs": [],
   "source": []
  },
  {
   "cell_type": "code",
   "execution_count": null,
   "id": "52a8eaaf",
   "metadata": {},
   "outputs": [],
   "source": []
  }
 ],
 "metadata": {
  "kernelspec": {
   "display_name": "Python 3 (ipykernel)",
   "language": "python",
   "name": "python3"
  },
  "language_info": {
   "codemirror_mode": {
    "name": "ipython",
    "version": 3
   },
   "file_extension": ".py",
   "mimetype": "text/x-python",
   "name": "python",
   "nbconvert_exporter": "python",
   "pygments_lexer": "ipython3",
   "version": "3.7.3"
  }
 },
 "nbformat": 4,
 "nbformat_minor": 5
}
