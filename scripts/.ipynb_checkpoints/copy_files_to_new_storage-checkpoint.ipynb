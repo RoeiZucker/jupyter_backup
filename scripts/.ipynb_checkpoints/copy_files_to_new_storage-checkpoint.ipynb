{
 "cells": [
  {
   "cell_type": "code",
   "execution_count": 1,
   "id": "d254d1ad",
   "metadata": {},
   "outputs": [],
   "source": [
    "import os\n",
    "import glob\n",
    "from statsmodels.stats.multitest import multipletests\n"
   ]
  },
  {
   "cell_type": "code",
   "execution_count": 5,
   "id": "aa07b5d0",
   "metadata": {},
   "outputs": [],
   "source": [
    "ORIG_DIR = \"/cs/labs/michall/idomarg\"\n",
    "DEST_DIR = \"/sci/archive/michall/roeizucker/backup/idomarg\""
   ]
  },
  {
   "cell_type": "code",
   "execution_count": 6,
   "id": "a89d99e0",
   "metadata": {},
   "outputs": [],
   "source": [
    "# glob.glob(ORIG_DIR+\"/*\")\n",
    "for (dirpath, dirnames, filenames) in os.walk(ORIG_DIR):\n",
    "    break\n",
    "# print(dirpath,dirnames,filenames)\n",
    "for file in filenames:\n",
    "    if not os.path.exists(os.path.join(DEST_DIR,file)):\n",
    "        print(f\"cp {os.path.join(ORIG_DIR,file)} {os.path.join(DEST_DIR,file)}\")\n",
    "for dir_name in dirnames:\n",
    "    if not os.path.exists(os.path.join(DEST_DIR,dir_name + \".tar.gz\")):\n",
    "        print(f\"tar -zcvf {os.path.join(DEST_DIR,dir_name + '.tar.gz')} {os.path.join(ORIG_DIR,dir_name)} > {os.path.join(DEST_DIR,dir_name + '.log')}\")"
   ]
  },
  {
   "cell_type": "code",
   "execution_count": 10,
   "id": "408d9c1d",
   "metadata": {},
   "outputs": [
    {
     "name": "stdout",
     "output_type": "stream",
     "text": [
      "source\tdestination\n",
      "/cs/labs/michall/ronirasnic/.ipynb_checkpoints\t/sci/archive/michall/roeizucker/backup/ronirasnic/.ipynb_checkpoints.tar.gz\n",
      "/cs/labs/michall/ronirasnic/TCGA_chromoth_annotations\t/sci/archive/michall/roeizucker/backup/ronirasnic/TCGA_chromoth_annotations.tar.gz\n",
      "/cs/labs/michall/ronirasnic/.Trash-187491\t/sci/archive/michall/roeizucker/backup/ronirasnic/.Trash-187491.tar.gz\n",
      "/cs/labs/michall/ronirasnic/temp\t/sci/archive/michall/roeizucker/backup/ronirasnic/temp.tar.gz\n",
      "/cs/labs/michall/ronirasnic/tcgaBatchArticle\t/sci/archive/michall/roeizucker/backup/ronirasnic/tcgaBatchArticle.tar.gz\n",
      "/cs/labs/michall/ronirasnic/local\t/sci/archive/michall/roeizucker/backup/ronirasnic/local.tar.gz\n",
      "/cs/labs/michall/ronirasnic/lib64\t/sci/archive/michall/roeizucker/backup/ronirasnic/lib64.tar.gz\n",
      "/cs/labs/michall/ronirasnic/samtools-1.5\t/sci/archive/michall/roeizucker/backup/ronirasnic/samtools-1.5.tar.gz\n",
      "/cs/labs/michall/ronirasnic/GWAS_association\t/sci/archive/michall/roeizucker/backup/ronirasnic/GWAS_association.tar.gz\n",
      "/cs/labs/michall/ronirasnic/share\t/sci/archive/michall/roeizucker/backup/ronirasnic/share.tar.gz\n",
      "/cs/labs/michall/ronirasnic/my_python\t/sci/archive/michall/roeizucker/backup/ronirasnic/my_python.tar.gz\n",
      "/cs/labs/michall/ronirasnic/include\t/sci/archive/michall/roeizucker/backup/ronirasnic/include.tar.gz\n",
      "/cs/labs/michall/ronirasnic/roni2015\t/sci/archive/michall/roeizucker/backup/ronirasnic/roni2015.tar.gz\n"
     ]
    }
   ],
   "source": [
    "# glob.glob(ORIG_DIR+\"/*\")\n",
    "for (dirpath, dirnames, filenames) in os.walk(ORIG_DIR):\n",
    "    break\n",
    "# print(dirpath,dirnames,filenames)\n",
    "# for file in filenames:\n",
    "#     if not os.path.exists(os.path.join(DEST_DIR,file)):\n",
    "#         print(f\"cp {os.path.join(ORIG_DIR,file)} {os.path.join(DEST_DIR,file)}\")\n",
    "print(\"source\\tdestination\")\n",
    "for dir_name in dirnames:\n",
    "    if not os.path.exists(os.path.join(DEST_DIR,dir_name + \".tar.gz\")):\n",
    "        print(f\"{os.path.join(ORIG_DIR,dir_name)}\\t{os.path.join(DEST_DIR,dir_name + '.tar.gz')}\")"
   ]
  }
 ],
 "metadata": {
  "kernelspec": {
   "display_name": "Python 3 (ipykernel)",
   "language": "python",
   "name": "python3"
  },
  "language_info": {
   "codemirror_mode": {
    "name": "ipython",
    "version": 3
   },
   "file_extension": ".py",
   "mimetype": "text/x-python",
   "name": "python",
   "nbconvert_exporter": "python",
   "pygments_lexer": "ipython3",
   "version": "3.7.3"
  }
 },
 "nbformat": 4,
 "nbformat_minor": 5
}
