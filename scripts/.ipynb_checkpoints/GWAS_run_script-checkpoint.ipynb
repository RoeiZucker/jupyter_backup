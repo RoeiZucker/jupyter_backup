{
 "cells": [
  {
   "cell_type": "code",
   "execution_count": 1,
   "id": "ddc7edb2",
   "metadata": {},
   "outputs": [],
   "source": [
    "import pandas as pd\n",
    "import os\n"
   ]
  },
  {
   "cell_type": "code",
   "execution_count": null,
   "id": "a2d5b8ca",
   "metadata": {},
   "outputs": [],
   "source": []
  },
  {
   "cell_type": "code",
   "execution_count": 2,
   "id": "da0e7813",
   "metadata": {},
   "outputs": [],
   "source": [
    "# script consts\n",
    "PHEN_START = 2\n",
    "VALUE_AT_END_OF_PHENOTYPES = 'const'\n",
    "PLINK_PATH = \"/sci/nosnap/michall/roeizucker/plink2\"\n",
    "BATCH_LENGTH = 250\n",
    "MAX_JOBS_BEFORE_SUBMITTING_NEW_ARRAY = 200\n"
   ]
  },
  {
   "cell_type": "code",
   "execution_count": 3,
   "id": "74e1f06a",
   "metadata": {},
   "outputs": [],
   "source": [
    "# # input files\n",
    "# PHEN_PATH = \"/sci/nosnap/michall/roeizucker/Hypothyroidism_hackaton/ukbb_dataset_filtered.csv\"\n",
    "# GWAS_PATH = \"/sci/nosnap/michall/roeizucker/Hypothyroidism_hackaton/GWAS_FOR_PRS\"\n",
    "# PHENOTYPES = [\"E03_F_reduced\",\"E03_M_reduced\",\"E03_reduced\",\n",
    "#              \"E04_F_reduced\",\"E04_M_reduced\",\"E04_reduced\",\n",
    "#              \"E05_F_reduced\",\"E05_M_reduced\",\"E05_reduced\",\n",
    "#              \"E06_F_reduced\",\"E06_M_reduced\",\"E06_reduced\"\n",
    "#              \"E07_F_reduced\",\"E07_M_reduced\",\"E07_reduced\"]\n",
    "# RESULT_SUFFIX = \"PHENO1.glm.logistic\"\n",
    "# COVARS = []\n",
    "# SPLIT_TO_TRAIN_TEST = True\n",
    "# CREATE_PHENOTYPE_FILES = False\n",
    "# CREATE_COVAR_FILE = True\n",
    "# TRAIN_RATIO = 0.8\n",
    "# input files\n",
    "PHEN_PATH = \"/cs/labs/michall/roeizucker/IIH/PWAS/ukbb_dataset_reduced.csv\"\n",
    "GWAS_PATH = \"/cs/labs/michall/roeizucker/IIH/GWAS_hadassa\"\n",
    "PHENOTYPES = [\"updated_PAP\",\"updated_IIH\",\"updated_Both\"]\n",
    "RESULT_SUFFIX = \"PHENO1.glm.logistic.hybrid\"\n",
    "COVARS = []\n",
    "SPLIT_TO_TRAIN_TEST = False\n",
    "CREATE_PHENOTYPE_FILES = True\n",
    "CREATE_COVAR_FILE = True\n",
    "TRAIN_RATIO = 0.8\n",
    "NUMBER_OF_THREADS = 30\n",
    "MEMORY_AMOUNT = 24\n",
    "HADASSA_PLINK = \"hadassa\"\n",
    "REDUCED_PLINK = \"reduced\"\n",
    "ALL_PLINK = \"all\"\n",
    "plink_format = HADASSA_PLINK"
   ]
  },
  {
   "cell_type": "code",
   "execution_count": 4,
   "id": "f0c32be3",
   "metadata": {},
   "outputs": [
    {
     "name": "stdout",
     "output_type": "stream",
     "text": [
      "mkdir: cannot create directory ‘/cs/labs/michall/roeizucker/IIH/GWAS_hadassa’: File exists\r\n"
     ]
    }
   ],
   "source": [
    "!mkdir {GWAS_PATH}\n"
   ]
  },
  {
   "cell_type": "code",
   "execution_count": 5,
   "id": "eaab1023",
   "metadata": {},
   "outputs": [],
   "source": [
    "# !head /cs/labs/michall/roeizucker/SKAT_experiments/SetID/ukbb_dataset_withIIH.csv"
   ]
  },
  {
   "cell_type": "code",
   "execution_count": 6,
   "id": "cbcf39bb",
   "metadata": {},
   "outputs": [],
   "source": [
    "def create_files(gwas_path,phen_path,phenotypes):\n",
    "    !mkdir {gwas_path}\n",
    "    !mkdir {gwas_path}/results\n",
    "    !mkdir {gwas_path}/phenotypes\n",
    "    !cp /cs/labs/michall/roeizucker/10krun/runs/0:11/GWAS_delete_me/covariates.txt {gwas_path}/covariates.txt\n",
    "    !cd {gwas_path}\n",
    "    dataset = pd.read_csv(phen_path)\n",
    "    if not CREATE_PHENOTYPE_FILES:\n",
    "        return\n",
    "    for phenotype_col in phenotypes:\n",
    "        print(phenotype_col)\n",
    "        file_name = phenotype_col.lower().replace(' ', '_').replace('-', '_') + '.txt'\n",
    "        # use eid as fid, because we take one representitive of each family\n",
    "        values = dataset[['eid', 'eid', phenotype_col]].dropna()\n",
    "        if SPLIT_TO_TRAIN_TEST:\n",
    "            values_case = values[values[phenotype_col] == 1]\n",
    "            values_control = values[values[phenotype_col]== 0] \n",
    "            values_case = values_case.sample(int(len(values_case) * TRAIN_RATIO))\n",
    "            values_control = values_control.sample(int(len(values_control) * TRAIN_RATIO))\n",
    "            values = pd.concat([values_case,values_control])\n",
    "        values.to_csv(os.path.join(f\"{gwas_path}/phenotypes\", file_name), \\\n",
    "            header = False, index = False, sep = '\\t')\n",
    "\n",
    "        # An array is created with all the values needed for running GWAS.\n",
    "# The array will be sorted in batches for better file accessing\n",
    "def create_the_data_file(phenotype_cols,gwas_path,data_file_path):\n",
    "    values = []\n",
    "    last_counter = 0\n",
    "    cur_phen_counter = 0\n",
    "    counter = 0\n",
    "    for phen in phenotype_cols:\n",
    "        base_path =  gwas_path\n",
    "        for j in range(1,23):\n",
    "            if os.path.exists(os.path.join(base_path ,f\"results/{phen.lower()}_chr{j}.PHENO1.glm.linear\")) or \\\n",
    "            os.path.exists(os.path.join(base_path ,f\"results/{phen.lower()}_chr{j}.PHENO1.glm.logistic\")) or \\\n",
    "            os.path.exists(os.path.join(base_path ,f\"results/{phen.lower()}_chr{j}.{RESULT_SUFFIX}\")):\n",
    "#                 print(\"a\")\n",
    "                continue\n",
    "            \n",
    "            # TODO: change location of plink files to be const\n",
    "            if plink_format == HADASSA_PLINK:\n",
    "                values.append([counter,os.path.join(base_path, \"phenotypes/\"+ phen.lower() + \".txt\"),\n",
    "                               os.path.join(base_path, f\"results/{phen.lower()}_chr{j}\"),\n",
    "                               f\"/cs/snapless/michall/hadasak/improve_PRS/bed_files/chr{j}_imputed_snp_id_filtered\"\n",
    "                               ,os.path.join(base_path ,\"covariates.txt\"),j])\n",
    "            elif plink_format == REDUCED_PLINK:\n",
    "                values.append([counter,os.path.join(base_path, \"phenotypes/\"+ phen.lower() + \".txt\"),\n",
    "                               os.path.join(base_path, f\"results/{phen.lower()}_chr{j}\"),\n",
    "                               f\"/cs/labs/michall/roeizucker/plink_results/reduced_snps2/small_ch{j}\"\n",
    "                               ,os.path.join(base_path ,\"covariates.txt\"),j])\n",
    "            elif plink_format == ALL_PLINK:\n",
    "                values.append([counter,os.path.join(base_path, \"phenotypes/\"+ phen.lower() + \".txt\"),\n",
    "                               os.path.join(base_path, f\"results/{phen.lower()}_chr{j}\"),\n",
    "                               f\"/cs/biobank-genetics/EGAD00010001226/001/ukb_snp_chr{j}_v2\"\n",
    "                               ,os.path.join(base_path ,\"covariates.txt\"),j])\n",
    "            counter+=1\n",
    "        cur_phen_counter+=1\n",
    "        if cur_phen_counter%BATCH_LENGTH == 0:\n",
    "            values[last_counter:counter] = sorted(values[last_counter:counter],key = lambda x:x[-1])\n",
    "            last_counter = counter\n",
    "    values[last_counter:counter] = sorted(values[last_counter:counter],key = lambda x:x[-1])\n",
    "    df = pd.DataFrame(values, columns=[\"unsorted_counter\",\"phenotype_path\",\"output_path\",\"partial_chromosome_file_path\", \"covariates\",\"chr\"])\n",
    "    df.to_csv(data_file_path)\n",
    "\n",
    "\n",
    "def write_mediator_script(mediator_script_path,data_file_path,gwas_path):\n",
    "    with open(mediator_script_path, \"w\") as mediator_file:\n",
    "        mediator_file.write(f'''import pandas as pd\n",
    "import sys\n",
    "import os\n",
    "import os.path\n",
    "butch_num = int(sys.argv[1]) \n",
    "curr_task = int(sys.argv[2])\n",
    "BATCH_LENGTH = {BATCH_LENGTH}\n",
    "SKIP_POINT = {MAX_JOBS_BEFORE_SUBMITTING_NEW_ARRAY}\n",
    "PLINK_PATH = \"{PLINK_PATH}\"\n",
    "plink_format = \"{plink_format}\"\n",
    "data_file_path = \"{data_file_path}\"\n",
    "NUMBER_OF_THREADS = {NUMBER_OF_THREADS}\n",
    "MEMORY_AMOUNT = {MEMORY_AMOUNT}\n",
    "df = pd.read_csv(data_file_path)\n",
    "print(df.loc[butch_num * BATCH_LENGTH + curr_task])\n",
    "val = df.loc[butch_num * BATCH_LENGTH + curr_task]\n",
    "location = butch_num * BATCH_LENGTH + curr_task\n",
    "if curr_task == SKIP_POINT and location < 30500:\n",
    "    new_batch  = butch_num + 1\n",
    "    if not os.path.isfile(\"{gwas_path}_\" + str(new_batch) + \"_flag\"):\n",
    "        os.system(\"sbatch --array=0-\"+str(BATCH_LENGTH - 1)+\" --mem=\"+str(MEMORY_AMOUNT + 1)+\" -c10 --time=3-0 --killable --requeue --wrap=\\\\\"{os.path.join( gwas_path,\"master.sh\")} \"+str(new_batch)+\"\\\\\"\")\n",
    "if location < 30500:\n",
    "    if plink_format == \"{ALL_PLINK}\":\n",
    "        print(PLINK_PATH + \" --bed \" + str(df.loc[location].partial_chromosome_file_path).replace(\"snp\",\"cal\") + \".bed --bim \" + df.loc[location].partial_chromosome_file_path + \".bim --fam /cs/labs/michall/roeizucker/plink_results/reduced_snps2/small_ch9.fam --pheno \" + df.loc[location].phenotype_path + \" --covar \" + df.loc[location].covariates + \"  --out  \" + df.loc[location].output_path + \" --1 --glm hide-covar --mac 20 --covar-variance-standardize --freq --threads {NUMBER_OF_THREADS} --memory \" + str(MEMORY_AMOUNT * 1000),flush=True)\n",
    "        os.system(PLINK_PATH + \" --bed \" + str(df.loc[location].partial_chromosome_file_path).replace(\"snp\",\"cal\") + \".bed --bim \" + df.loc[location].partial_chromosome_file_path + \".bim --fam /cs/labs/michall/roeizucker/plink_results/reduced_snps2/small_ch9.fam --pheno \" + df.loc[location].phenotype_path + \" --covar \" + df.loc[location].covariates + \"  --out  \" + df.loc[location].output_path + \" --1 --glm hide-covar --mac 20 --covar-variance-standardize --freq --threads {NUMBER_OF_THREADS} --memory \" +str(MEMORY_AMOUNT * 1000))\n",
    "    else:\n",
    "        print(PLINK_PATH + \" --bed \" + df.loc[location].partial_chromosome_file_path + \".bed --bim \" + df.loc[location].partial_chromosome_file_path + \".bim --fam \"+df.loc[location].partial_chromosome_file_path + \".fam --pheno \" + df.loc[location].phenotype_path + \" --covar \" + df.loc[location].covariates + \"  --out  \" + df.loc[location].output_path + \" --1 --glm hide-covar --mac 20 --covar-variance-standardize --freq --threads 10 --memory \" + str(MEMORY_AMOUNT * 1000),flush=True)\n",
    "        os.system(PLINK_PATH + \" --bed \" + df.loc[location].partial_chromosome_file_path + \".bed --bim \" + df.loc[location].partial_chromosome_file_path + \".bim --fam \"+df.loc[location].partial_chromosome_file_path + \".fam --pheno \" + df.loc[location].phenotype_path + \" --covar \" + df.loc[location].covariates + \"  --out  \" + df.loc[location].output_path + \" --1 --glm hide-covar --mac 20 --covar-variance-standardize --freq --threads 10 --memory \" + str(MEMORY_AMOUNT * 1000))\n",
    "    print(\"done!\")\n",
    "''')\n",
    "\n",
    "def write_master_script(master_script_path,mediator_script_path,gwas_path):\n",
    "    with open(master_script_path, \"w\") as master_file:\n",
    "        master_file.write(f'''\n",
    "FILE={gwas_path}_$1_flag\n",
    "if ! test \"$FILE\" \n",
    "then \n",
    "    touch {gwas_path}_$1_flag\n",
    "fi\n",
    "python {mediator_script_path} $1 $SLURM_ARRAY_TASK_ID\n",
    "''')\n",
    "    !chmod 744 {master_script_path}\n"
   ]
  },
  {
   "cell_type": "code",
   "execution_count": 7,
   "id": "1fdb47fb",
   "metadata": {},
   "outputs": [],
   "source": [
    "# # data_file_path = os.path.join(GWAS_PATH, \"data_file.csv\")\n",
    "# # create_the_data_file(PHENOTYPES,GWAS_PATH,data_file_path)\n",
    "# var = \"/cs/biobank-genetics/EGAD00010001226/001/ukb_snp_chr1_v2.bed\"\n",
    "# print(var)\n",
    "# print(str(var).replace(\"snp\",\"cal\"))"
   ]
  },
  {
   "cell_type": "code",
   "execution_count": 8,
   "id": "0694cfea",
   "metadata": {},
   "outputs": [],
   "source": [
    "# master_script_path = os.path.join(GWAS_PATH , \"master.sh\")\n",
    "# print(f'''how to run:\n",
    "# sbatch --array=0-263 --mem=12g -c10 --time=3-0 --requeue --killable --wrap=\"{master_script_path} 0\"''')"
   ]
  },
  {
   "cell_type": "code",
   "execution_count": 9,
   "id": "790c772e",
   "metadata": {},
   "outputs": [
    {
     "name": "stdout",
     "output_type": "stream",
     "text": [
      "mkdir: cannot create directory ‘/cs/labs/michall/roeizucker/IIH/GWAS_hadassa’: File exists\n",
      "mkdir: cannot create directory ‘/cs/labs/michall/roeizucker/IIH/GWAS_hadassa/results’: File exists\n",
      "mkdir: cannot create directory ‘/cs/labs/michall/roeizucker/IIH/GWAS_hadassa/phenotypes’: File exists\n",
      "updated_both\n"
     ]
    },
    {
     "ename": "KeyError",
     "evalue": "\"['updated_both'] not in index\"",
     "output_type": "error",
     "traceback": [
      "\u001b[0;31m---------------------------------------------------------------------------\u001b[0m",
      "\u001b[0;31mKeyError\u001b[0m                                  Traceback (most recent call last)",
      "\u001b[0;32m/tmp/ipykernel_30458/32616563.py\u001b[0m in \u001b[0;36m<module>\u001b[0;34m\u001b[0m\n\u001b[1;32m     22\u001b[0m \u001b[0mmaster_script_path\u001b[0m \u001b[0;34m=\u001b[0m \u001b[0mos\u001b[0m\u001b[0;34m.\u001b[0m\u001b[0mpath\u001b[0m\u001b[0;34m.\u001b[0m\u001b[0mjoin\u001b[0m\u001b[0;34m(\u001b[0m\u001b[0mgwas_path\u001b[0m \u001b[0;34m,\u001b[0m \u001b[0;34m\"master.sh\"\u001b[0m\u001b[0;34m)\u001b[0m\u001b[0;34m\u001b[0m\u001b[0;34m\u001b[0m\u001b[0m\n\u001b[1;32m     23\u001b[0m \u001b[0;34m\u001b[0m\u001b[0m\n\u001b[0;32m---> 24\u001b[0;31m \u001b[0mcreate_files\u001b[0m\u001b[0;34m(\u001b[0m\u001b[0mgwas_path\u001b[0m\u001b[0;34m,\u001b[0m\u001b[0mphen_path\u001b[0m\u001b[0;34m,\u001b[0m\u001b[0mphenotype_cols\u001b[0m\u001b[0;34m)\u001b[0m\u001b[0;34m\u001b[0m\u001b[0;34m\u001b[0m\u001b[0m\n\u001b[0m\u001b[1;32m     25\u001b[0m \u001b[0mcreate_the_data_file\u001b[0m\u001b[0;34m(\u001b[0m\u001b[0mphenotype_cols\u001b[0m\u001b[0;34m,\u001b[0m\u001b[0mgwas_path\u001b[0m\u001b[0;34m,\u001b[0m\u001b[0mdata_file_path\u001b[0m\u001b[0;34m)\u001b[0m\u001b[0;34m\u001b[0m\u001b[0;34m\u001b[0m\u001b[0m\n\u001b[1;32m     26\u001b[0m \u001b[0mwrite_mediator_script\u001b[0m\u001b[0;34m(\u001b[0m\u001b[0mmediator_script_path\u001b[0m\u001b[0;34m,\u001b[0m\u001b[0mdata_file_path\u001b[0m\u001b[0;34m,\u001b[0m\u001b[0mgwas_path\u001b[0m\u001b[0;34m)\u001b[0m\u001b[0;34m\u001b[0m\u001b[0;34m\u001b[0m\u001b[0m\n",
      "\u001b[0;32m/tmp/ipykernel_30458/2917225934.py\u001b[0m in \u001b[0;36mcreate_files\u001b[0;34m(gwas_path, phen_path, phenotypes)\u001b[0m\n\u001b[1;32m     12\u001b[0m         \u001b[0mfile_name\u001b[0m \u001b[0;34m=\u001b[0m \u001b[0mphenotype_col\u001b[0m\u001b[0;34m.\u001b[0m\u001b[0mlower\u001b[0m\u001b[0;34m(\u001b[0m\u001b[0;34m)\u001b[0m\u001b[0;34m.\u001b[0m\u001b[0mreplace\u001b[0m\u001b[0;34m(\u001b[0m\u001b[0;34m' '\u001b[0m\u001b[0;34m,\u001b[0m \u001b[0;34m'_'\u001b[0m\u001b[0;34m)\u001b[0m\u001b[0;34m.\u001b[0m\u001b[0mreplace\u001b[0m\u001b[0;34m(\u001b[0m\u001b[0;34m'-'\u001b[0m\u001b[0;34m,\u001b[0m \u001b[0;34m'_'\u001b[0m\u001b[0;34m)\u001b[0m \u001b[0;34m+\u001b[0m \u001b[0;34m'.txt'\u001b[0m\u001b[0;34m\u001b[0m\u001b[0;34m\u001b[0m\u001b[0m\n\u001b[1;32m     13\u001b[0m         \u001b[0;31m# use eid as fid, because we take one representitive of each family\u001b[0m\u001b[0;34m\u001b[0m\u001b[0;34m\u001b[0m\u001b[0;34m\u001b[0m\u001b[0m\n\u001b[0;32m---> 14\u001b[0;31m         \u001b[0mvalues\u001b[0m \u001b[0;34m=\u001b[0m \u001b[0mdataset\u001b[0m\u001b[0;34m[\u001b[0m\u001b[0;34m[\u001b[0m\u001b[0;34m'eid'\u001b[0m\u001b[0;34m,\u001b[0m \u001b[0;34m'eid'\u001b[0m\u001b[0;34m,\u001b[0m \u001b[0mphenotype_col\u001b[0m\u001b[0;34m]\u001b[0m\u001b[0;34m]\u001b[0m\u001b[0;34m.\u001b[0m\u001b[0mdropna\u001b[0m\u001b[0;34m(\u001b[0m\u001b[0;34m)\u001b[0m\u001b[0;34m\u001b[0m\u001b[0;34m\u001b[0m\u001b[0m\n\u001b[0m\u001b[1;32m     15\u001b[0m         \u001b[0;32mif\u001b[0m \u001b[0mSPLIT_TO_TRAIN_TEST\u001b[0m\u001b[0;34m:\u001b[0m\u001b[0;34m\u001b[0m\u001b[0;34m\u001b[0m\u001b[0m\n\u001b[1;32m     16\u001b[0m             \u001b[0mvalues_case\u001b[0m \u001b[0;34m=\u001b[0m \u001b[0mvalues\u001b[0m\u001b[0;34m[\u001b[0m\u001b[0mvalues\u001b[0m\u001b[0;34m[\u001b[0m\u001b[0mphenotype_col\u001b[0m\u001b[0;34m]\u001b[0m \u001b[0;34m==\u001b[0m \u001b[0;36m1\u001b[0m\u001b[0;34m]\u001b[0m\u001b[0;34m\u001b[0m\u001b[0;34m\u001b[0m\u001b[0m\n",
      "\u001b[0;32m/cs/labs/michall/roeizucker/fml_virt_env/lib/python3.7/site-packages/pandas/core/frame.py\u001b[0m in \u001b[0;36m__getitem__\u001b[0;34m(self, key)\u001b[0m\n\u001b[1;32m   3462\u001b[0m             \u001b[0;32mif\u001b[0m \u001b[0mis_iterator\u001b[0m\u001b[0;34m(\u001b[0m\u001b[0mkey\u001b[0m\u001b[0;34m)\u001b[0m\u001b[0;34m:\u001b[0m\u001b[0;34m\u001b[0m\u001b[0;34m\u001b[0m\u001b[0m\n\u001b[1;32m   3463\u001b[0m                 \u001b[0mkey\u001b[0m \u001b[0;34m=\u001b[0m \u001b[0mlist\u001b[0m\u001b[0;34m(\u001b[0m\u001b[0mkey\u001b[0m\u001b[0;34m)\u001b[0m\u001b[0;34m\u001b[0m\u001b[0;34m\u001b[0m\u001b[0m\n\u001b[0;32m-> 3464\u001b[0;31m             \u001b[0mindexer\u001b[0m \u001b[0;34m=\u001b[0m \u001b[0mself\u001b[0m\u001b[0;34m.\u001b[0m\u001b[0mloc\u001b[0m\u001b[0;34m.\u001b[0m\u001b[0m_get_listlike_indexer\u001b[0m\u001b[0;34m(\u001b[0m\u001b[0mkey\u001b[0m\u001b[0;34m,\u001b[0m \u001b[0maxis\u001b[0m\u001b[0;34m=\u001b[0m\u001b[0;36m1\u001b[0m\u001b[0;34m)\u001b[0m\u001b[0;34m[\u001b[0m\u001b[0;36m1\u001b[0m\u001b[0;34m]\u001b[0m\u001b[0;34m\u001b[0m\u001b[0;34m\u001b[0m\u001b[0m\n\u001b[0m\u001b[1;32m   3465\u001b[0m \u001b[0;34m\u001b[0m\u001b[0m\n\u001b[1;32m   3466\u001b[0m         \u001b[0;31m# take() does not accept boolean indexers\u001b[0m\u001b[0;34m\u001b[0m\u001b[0;34m\u001b[0m\u001b[0;34m\u001b[0m\u001b[0m\n",
      "\u001b[0;32m/cs/labs/michall/roeizucker/fml_virt_env/lib/python3.7/site-packages/pandas/core/indexing.py\u001b[0m in \u001b[0;36m_get_listlike_indexer\u001b[0;34m(self, key, axis)\u001b[0m\n\u001b[1;32m   1312\u001b[0m             \u001b[0mkeyarr\u001b[0m\u001b[0;34m,\u001b[0m \u001b[0mindexer\u001b[0m\u001b[0;34m,\u001b[0m \u001b[0mnew_indexer\u001b[0m \u001b[0;34m=\u001b[0m \u001b[0max\u001b[0m\u001b[0;34m.\u001b[0m\u001b[0m_reindex_non_unique\u001b[0m\u001b[0;34m(\u001b[0m\u001b[0mkeyarr\u001b[0m\u001b[0;34m)\u001b[0m\u001b[0;34m\u001b[0m\u001b[0;34m\u001b[0m\u001b[0m\n\u001b[1;32m   1313\u001b[0m \u001b[0;34m\u001b[0m\u001b[0m\n\u001b[0;32m-> 1314\u001b[0;31m         \u001b[0mself\u001b[0m\u001b[0;34m.\u001b[0m\u001b[0m_validate_read_indexer\u001b[0m\u001b[0;34m(\u001b[0m\u001b[0mkeyarr\u001b[0m\u001b[0;34m,\u001b[0m \u001b[0mindexer\u001b[0m\u001b[0;34m,\u001b[0m \u001b[0maxis\u001b[0m\u001b[0;34m)\u001b[0m\u001b[0;34m\u001b[0m\u001b[0;34m\u001b[0m\u001b[0m\n\u001b[0m\u001b[1;32m   1315\u001b[0m \u001b[0;34m\u001b[0m\u001b[0m\n\u001b[1;32m   1316\u001b[0m         if needs_i8_conversion(ax.dtype) or isinstance(\n",
      "\u001b[0;32m/cs/labs/michall/roeizucker/fml_virt_env/lib/python3.7/site-packages/pandas/core/indexing.py\u001b[0m in \u001b[0;36m_validate_read_indexer\u001b[0;34m(self, key, indexer, axis)\u001b[0m\n\u001b[1;32m   1375\u001b[0m \u001b[0;34m\u001b[0m\u001b[0m\n\u001b[1;32m   1376\u001b[0m             \u001b[0mnot_found\u001b[0m \u001b[0;34m=\u001b[0m \u001b[0mlist\u001b[0m\u001b[0;34m(\u001b[0m\u001b[0mensure_index\u001b[0m\u001b[0;34m(\u001b[0m\u001b[0mkey\u001b[0m\u001b[0;34m)\u001b[0m\u001b[0;34m[\u001b[0m\u001b[0mmissing_mask\u001b[0m\u001b[0;34m.\u001b[0m\u001b[0mnonzero\u001b[0m\u001b[0;34m(\u001b[0m\u001b[0;34m)\u001b[0m\u001b[0;34m[\u001b[0m\u001b[0;36m0\u001b[0m\u001b[0;34m]\u001b[0m\u001b[0;34m]\u001b[0m\u001b[0;34m.\u001b[0m\u001b[0munique\u001b[0m\u001b[0;34m(\u001b[0m\u001b[0;34m)\u001b[0m\u001b[0;34m)\u001b[0m\u001b[0;34m\u001b[0m\u001b[0;34m\u001b[0m\u001b[0m\n\u001b[0;32m-> 1377\u001b[0;31m             \u001b[0;32mraise\u001b[0m \u001b[0mKeyError\u001b[0m\u001b[0;34m(\u001b[0m\u001b[0;34mf\"{not_found} not in index\"\u001b[0m\u001b[0;34m)\u001b[0m\u001b[0;34m\u001b[0m\u001b[0;34m\u001b[0m\u001b[0m\n\u001b[0m\u001b[1;32m   1378\u001b[0m \u001b[0;34m\u001b[0m\u001b[0m\n\u001b[1;32m   1379\u001b[0m \u001b[0;34m\u001b[0m\u001b[0m\n",
      "\u001b[0;31mKeyError\u001b[0m: \"['updated_both'] not in index\""
     ]
    }
   ],
   "source": [
    "# script body (will be transferred to another file)\n",
    "\n",
    "\n",
    "# TODO: add verbous argument, and better explain the output\n",
    "\n",
    "# set input \n",
    "# TODO: change so it is accepted as params\n",
    "phen_path = PHEN_PATH\n",
    "gwas_path = GWAS_PATH\n",
    "\n",
    "# do stuff\n",
    "phenotype_cols = list(pd.read_csv(PHEN_PATH))\n",
    "phenotype_cols = phenotype_cols[2:phenotype_cols.index(VALUE_AT_END_OF_PHENOTYPES)]\n",
    "\n",
    "# we will use the phenotypes parameter only if it exists\n",
    "if len (PHENOTYPES) > 0:\n",
    "    phenotype_cols = PHENOTYPES\n",
    "    \n",
    "# TODO: chnage so names are consts\n",
    "data_file_path = os.path.join(gwas_path, \"data_file.csv\")\n",
    "mediator_script_path = os.path.join(gwas_path , \"mediator.py\")\n",
    "master_script_path = os.path.join(gwas_path , \"master.sh\")\n",
    "\n",
    "create_files(gwas_path,phen_path,phenotype_cols)\n",
    "create_the_data_file(phenotype_cols,gwas_path,data_file_path)\n",
    "write_mediator_script(mediator_script_path,data_file_path,gwas_path)\n",
    "write_master_script(master_script_path,mediator_script_path,gwas_path)\n",
    "\n",
    "# TODO: add output folder\n",
    "print(f'''how to run:\n",
    "sbatch --array=0-263 --mem={MEMORY_AMOUNT + 1}g -c{NUMBER_OF_THREADS} --time=5-0 --requeue --killable --wrap=\"{master_script_path} 0\"''')"
   ]
  },
  {
   "cell_type": "code",
   "execution_count": null,
   "id": "b93e79b5",
   "metadata": {},
   "outputs": [],
   "source": [
    "# sbatch --array=0-33 --mem=12g -c10 --time=3-0 --requeue --killable --wrap=\"/cs/labs/michall/roeizucker/IIH/GWAS2/master.sh 0\"\n",
    "sbatch --array=0-5 --mem=25g -c30 --time=5-0 --requeue --killable --wrap=\"/sci/nosnap/michall/roeizucker/Hypothyroidism_hackaton/GWAS_hadassa2/master.sh 0\"\n"
   ]
  },
  {
   "cell_type": "code",
   "execution_count": null,
   "id": "23ce5358",
   "metadata": {},
   "outputs": [],
   "source": [
    "# master_script_path = priority_gwas_dir + \"master.sh\"\n",
    "\n",
    "# (mediator_script_path,data_file_path,gwas_path)\n",
    "master_script_path"
   ]
  },
  {
   "cell_type": "code",
   "execution_count": null,
   "id": "0d5e6785",
   "metadata": {},
   "outputs": [],
   "source": [
    "pd.read_csv(data_file_path)"
   ]
  },
  {
   "cell_type": "code",
   "execution_count": null,
   "id": "2c1521cd",
   "metadata": {},
   "outputs": [],
   "source": [
    "print(f'''how to run:\n",
    "sbatch --array=0-263 --mem=12g -c10 --time=3-0 --requeue --killable --wrap=\"{master_script_path} 0\"''')"
   ]
  },
  {
   "cell_type": "markdown",
   "id": "921fbfbb",
   "metadata": {},
   "source": [
    "## combines GWAS results"
   ]
  },
  {
   "cell_type": "code",
   "execution_count": null,
   "id": "71878eb2",
   "metadata": {},
   "outputs": [],
   "source": [
    "import glob, os\n",
    "# path = \"/cs/labs/michall/roeizucker/10krun/runs/48:59/GWAS/results\"\n",
    "# os.chdir(path)\n",
    "path = os.path.join(GWAS_PATH,\"results\")\n",
    "# files = []\n",
    "# for file in glob.glob(\"*.glm.*\"):\n",
    "#     files.append(file)\n",
    "phens = PHENOTYPES\n",
    "for phen in phens:\n",
    "    dataframes = []\n",
    "    for j in range(1,23):\n",
    "#         change so logistic/liner is detrmined generically\n",
    "        file_name = os.path.join(path,f\"{phen.lower()}_chr{j}.{RESULT_SUFFIX}\")\n",
    "        try:\n",
    "            df = pd.read_csv(file_name,sep=\"\\t\")\n",
    "            dataframes.append(df)\n",
    "        except pd.errors.EmptyDataError:\n",
    "            print(file_name)\n",
    "            continue\n",
    "        except FileNotFoundError:\n",
    "            print(file_name)\n",
    "            continue\n",
    "    if len(dataframes) == 0:\n",
    "        continue\n",
    "    master_df = pd.concat(dataframes)\n",
    "    master_df.to_csv(f\"{os.path.join(path,phen)}.csv\",index=False)\n",
    "    print(f\"{os.path.join(path,phen)}.csv\")"
   ]
  },
  {
   "cell_type": "code",
   "execution_count": null,
   "id": "0735f821",
   "metadata": {},
   "outputs": [],
   "source": [
    "os.path.join(path,phen)"
   ]
  },
  {
   "cell_type": "code",
   "execution_count": null,
   "id": "38fe86dc",
   "metadata": {},
   "outputs": [],
   "source": [
    "!head /sci/nosnap/michall/roeizucker/Hypothyroidism_hackaton/GWAS_hadassa2/results/e03_reduced_chr1.PHENO1.glm.logistic\n"
   ]
  }
 ],
 "metadata": {
  "kernelspec": {
   "display_name": "Python 3 (ipykernel)",
   "language": "python",
   "name": "python3"
  },
  "language_info": {
   "codemirror_mode": {
    "name": "ipython",
    "version": 3
   },
   "file_extension": ".py",
   "mimetype": "text/x-python",
   "name": "python",
   "nbconvert_exporter": "python",
   "pygments_lexer": "ipython3",
   "version": "3.7.3"
  }
 },
 "nbformat": 4,
 "nbformat_minor": 5
}
