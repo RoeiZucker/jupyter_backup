{
 "cells": [
  {
   "cell_type": "code",
   "execution_count": 1,
   "id": "ddc7edb2",
   "metadata": {},
   "outputs": [],
   "source": [
    "import pandas as pd\n",
    "import os\n"
   ]
  },
  {
   "cell_type": "code",
   "execution_count": null,
   "id": "a2d5b8ca",
   "metadata": {},
   "outputs": [],
   "source": []
  },
  {
   "cell_type": "code",
   "execution_count": 2,
   "id": "da0e7813",
   "metadata": {},
   "outputs": [],
   "source": [
    "# script consts\n",
    "PHEN_START = 2\n",
    "VALUE_AT_END_OF_PHENOTYPES = 'const'\n",
    "PLINK_PATH = \"/cs/usr/nadavb/third_party/plink2\"\n",
    "BATCH_LENGTH = 250\n",
    "MAX_JOBS_BEFORE_SUBMITTING_NEW_ARRAY = 200\n"
   ]
  },
  {
   "cell_type": "code",
   "execution_count": 3,
   "id": "74e1f06a",
   "metadata": {},
   "outputs": [],
   "source": [
    "# # input files\n",
    "# PHEN_PATH = \"/sci/nosnap/michall/roeizucker/Hypothyroidism_hackaton/ukbb_dataset_filtered.csv\"\n",
    "# GWAS_PATH = \"/sci/nosnap/michall/roeizucker/Hypothyroidism_hackaton/GWAS_FOR_PRS\"\n",
    "# PHENOTYPES = [\"E03_F_reduced\",\"E03_M_reduced\",\"E03_reduced\",\n",
    "#              \"E04_F_reduced\",\"E04_M_reduced\",\"E04_reduced\",\n",
    "#              \"E05_F_reduced\",\"E05_M_reduced\",\"E05_reduced\",\n",
    "#              \"E06_F_reduced\",\"E06_M_reduced\",\"E06_reduced\"\n",
    "#              \"E07_F_reduced\",\"E07_M_reduced\",\"E07_reduced\"]\n",
    "# RESULT_SUFFIX = \"PHENO1.glm.logistic\"\n",
    "# COVARS = []\n",
    "# SPLIT_TO_TRAIN_TEST = True\n",
    "# CREATE_PHENOTYPE_FILES = False\n",
    "# CREATE_COVAR_FILE = True\n",
    "# TRAIN_RATIO = 0.8\n",
    "# input files\n",
    "PHEN_PATH = \"/cs/labs/michall/roeizucker/IIH/PWAS/ukbb_dataset_updated.csv\"\n",
    "GWAS_PATH = \"/cs/labs/michall/roeizucker/IIH/GWAS4\"\n",
    "PHENOTYPES = [\"updated_Both\",\"updated_PAP\",\"updated_IIH\"]\n",
    "RESULT_SUFFIX = \"PHENO1.glm.logistic\"\n",
    "COVARS = []\n",
    "SPLIT_TO_TRAIN_TEST = False\n",
    "CREATE_PHENOTYPE_FILES = True\n",
    "CREATE_COVAR_FILE = True\n",
    "TRAIN_RATIO = 0.8"
   ]
  },
  {
   "cell_type": "code",
   "execution_count": 4,
   "id": "f0c32be3",
   "metadata": {},
   "outputs": [],
   "source": [
    "!mkdir {GWAS_PATH}"
   ]
  },
  {
   "cell_type": "code",
   "execution_count": 5,
   "id": "eaab1023",
   "metadata": {},
   "outputs": [
    {
     "name": "stdout",
     "output_type": "stream",
     "text": [
      "eid2,sample_index,eid,F329,F329_F,F329_M,H26,H26_F,H26_M,H269,H269_F,H269_M,I10,I10_F,I10_M,const,sex,year_of_birth,PC1,PC2,PC3,PC4,PC5,PC6,PC7,PC8,PC9,PC10,PC11,PC12,PC13,PC14,PC15,PC16,PC17,PC18,PC19,PC20,PC21,PC22,PC23,PC24,PC25,PC26,PC27,PC28,PC29,PC30,PC31,PC32,PC33,PC34,PC35,PC36,PC37,PC38,PC39,PC40,AC_stockport_pilot,AC_manchester,AC_oxford,AC_cardiff,AC_glasgow,AC_edinburgh,AC_stoke,AC_reading,AC_bury,AC_newcastle,AC_bristol,AC_barts,AC_nottingham,AC_sheffield,AC_liverpool,AC_middlesborough,AC_hounslow,AC_croydon,AC_birmingham,AC_swansea,AC_wrexham,AC_cheadle_revisit,AC_cheadle_imaging,AC_reading_imaging,AC_newcastle_imaging,batch_Batch_b001,batch_Batch_b002,batch_Batch_b003,batch_Batch_b004,batch_Batch_b005,batch_Batch_b006,batch_Batch_b007,batch_Batch_b008,batch_Batch_b009,batch_Batch_b010,batch_Batch_b011,batch_Batch_b012,batch_Batch_b013,batch_Batch_b014,batch_Batch_b015,batch_Batch_b016,batch_Batch_b017,batch_Batch_b018,batch_Batch_b019,batch_Batch_b020,batch_Batch_b021,batch_Batch_b022,batch_Batch_b023,batch_Batch_b024,batch_Batch_b025,batch_Batch_b026,batch_Batch_b027,batch_Batch_b028,batch_Batch_b029,batch_Batch_b030,batch_Batch_b031,batch_Batch_b032,batch_Batch_b033,batch_Batch_b034,batch_Batch_b035,batch_Batch_b036,batch_Batch_b037,batch_Batch_b038,batch_Batch_b039,batch_Batch_b040,batch_Batch_b041,batch_Batch_b042,batch_Batch_b043,batch_Batch_b044,batch_Batch_b045,batch_Batch_b046,batch_Batch_b047,batch_Batch_b048,batch_Batch_b049,batch_Batch_b050,batch_Batch_b051,batch_Batch_b052,batch_Batch_b053,batch_Batch_b054,batch_Batch_b055,batch_Batch_b056,batch_Batch_b057,batch_Batch_b058,batch_Batch_b059,batch_Batch_b060,batch_Batch_b061,batch_Batch_b062,batch_Batch_b063,batch_Batch_b064,batch_Batch_b065,batch_Batch_b066,batch_Batch_b067,batch_Batch_b068,batch_Batch_b069,batch_Batch_b070,batch_Batch_b071,batch_Batch_b072,batch_Batch_b073,batch_Batch_b074,batch_Batch_b075,batch_Batch_b076,batch_Batch_b077,batch_Batch_b078,batch_Batch_b079,batch_Batch_b080,batch_Batch_b081,batch_Batch_b082,batch_Batch_b083,batch_Batch_b084,batch_Batch_b085,batch_Batch_b086,batch_Batch_b087,batch_Batch_b088,batch_Batch_b089,batch_Batch_b090,batch_Batch_b091,batch_Batch_b092,batch_Batch_b093,batch_Batch_b094,batch_Batch_b095,batch_UKBiLEVEAX_b1,batch_UKBiLEVEAX_b10,batch_UKBiLEVEAX_b11,batch_UKBiLEVEAX_b3,batch_UKBiLEVEAX_b4,batch_UKBiLEVEAX_b5,batch_UKBiLEVEAX_b6,batch_UKBiLEVEAX_b7,batch_UKBiLEVEAX_b8,batch_UKBiLEVEAX_b9,IIH_mod\r\n",
      "5895328,0,5895328,0.0,,0.0,0.0,,0.0,0.0,,0.0,0.0,,0.0,1.0,1.0,1942.0,-12.5327,4.23522,0.179931,-1.61647,-4.98576,-0.7598689999999999,-0.113473,0.186582,-0.384236,-0.4886569999999999,-1.48737,0.587804,2.25847,-6.00507,-3.3261300000000005,-3.22154,-2.72591,-1.17418,-2.78253,-4.746980000000001,-5.33592,0.519907,2.09636,3.66928,0.590669,-0.00976455,-0.186151,-0.25832,-0.21618,-1.4265,-1.03428,0.20172,2.04728,-4.50041,-0.419695,-1.41219,5.0116,-2.04177,-0.329472,-0.6102310000000001,0.0,0.0,1.0,0.0,0.0,0.0,0.0,0.0,0.0,0.0,0.0,0.0,0.0,0.0,0.0,0.0,0.0,0.0,0.0,0.0,0.0,0.0,0.0,0.0,0.0,0,0,0,0,0,0,0,0,0,0,0,0,0,0,0,0,0,0,0,0,0,0,0,0,0,0,0,0,0,0,0,0,0,0,0,0,0,0,0,0,0,0,1,0,0,0,0,0,0,0,0,0,0,0,0,0,0,0,0,0,0,0,0,0,0,0,0,0,0,0,0,0,0,0,0,0,0,0,0,0,0,0,0,0,0,0,0,0,0,0,0,0,0,0,0,0,0,0,0,0,0,0,0,0,0,0.0\r\n",
      "5764375,1,5764375,0.0,0.0,,0.0,0.0,,0.0,0.0,,0.0,0.0,,1.0,0.0,1951.0,-12.3379,3.0611200000000003,-3.05359,2.52044,6.5294300000000005,-1.4298799999999998,1.86529,-0.172279,1.47821,-0.839189,-0.0926968,-0.143799,-0.5055,-1.34705,-1.43077,0.2344099999999999,-0.342701,-6.349069999999999,2.40365,-2.75391,-3.80391,4.60536,5.08526,-3.2769,-7.75902,-1.81207,1.71656,-1.8357,0.0968465,-0.8316790000000001,-0.295831,-2.82019,-0.478521,1.31829,-3.07608,0.282474,1.7120099999999998,-1.72341,-0.14092,1.83463,0.0,0.0,1.0,0.0,0.0,0.0,0.0,0.0,0.0,0.0,0.0,0.0,0.0,0.0,0.0,0.0,0.0,0.0,0.0,0.0,0.0,0.0,0.0,0.0,0.0,0,0,0,0,0,0,0,0,0,0,0,0,0,0,0,0,0,0,0,0,0,0,0,0,0,0,0,0,0,0,0,0,1,0,0,0,0,0,0,0,0,0,0,0,0,0,0,0,0,0,0,0,0,0,0,0,0,0,0,0,0,0,0,0,0,0,0,0,0,0,0,0,0,0,0,0,0,0,0,0,0,0,0,0,0,0,0,0,0,0,0,0,0,0,0,0,0,0,0,0,0,0,0,0,0,0.0\r\n",
      "5503073,2,5503073,0.0,,0.0,1.0,,1.0,1.0,,1.0,1.0,,1.0,1.0,1.0,1944.0,-11.8505,5.194030000000001,-2.35335,1.17626,3.82838,-0.5019600000000001,1.20711,0.221484,-6.14846,-0.915752,-0.641152,1.0568,-3.2494,-1.16308,3.8842,5.10959,1.10051,-0.341337,3.47657,2.9491400000000003,0.166389,-3.04199,0.995706,3.68192,2.87153,2.76435,3.4749800000000004,-0.469429,-5.75117,-1.62704,6.14844,0.491127,-3.37267,3.27808,6.917619999999999,3.79778,-0.783315,-1.7143400000000002,4.74674,-0.425447,0.0,0.0,0.0,1.0,0.0,0.0,0.0,0.0,0.0,0.0,0.0,0.0,0.0,0.0,0.0,0.0,0.0,0.0,0.0,0.0,0.0,0.0,0.0,0.0,0.0,0,0,0,0,0,0,0,0,0,0,0,0,0,0,0,0,0,0,0,0,0,0,0,0,0,0,0,0,0,0,0,0,0,0,0,0,0,0,0,0,0,0,0,0,0,0,0,1,0,0,0,0,0,0,0,0,0,0,0,0,0,0,0,0,0,0,0,0,0,0,0,0,0,0,0,0,0,0,0,0,0,0,0,0,0,0,0,0,0,0,0,0,0,0,0,0,0,0,0,0,0,0,0,0,0,0.0\r\n",
      "2563626,3,2563626,0.0,,0.0,1.0,,1.0,1.0,,1.0,1.0,,1.0,1.0,1.0,1950.0,-11.9749,3.4778,-1.49043,-0.272294,-8.48126,-4.50288,4.06982,-0.142852,-0.952921,0.8842479999999999,1.25902,-0.084209,-0.990201,0.372951,-0.847145,-2.78131,1.41848,-2.64006,-0.145095,1.04437,-1.77446,-2.8859,-1.29574,3.74483,-0.214907,1.22631,6.20184,3.10326,-2.05681,1.62114,1.99772,-0.8568870000000001,-0.948315,-4.148680000000001,0.180031,0.908227,-1.48897,-2.5071,-2.02575,7.023560000000001,0.0,0.0,0.0,0.0,0.0,0.0,0.0,0.0,0.0,0.0,0.0,0.0,0.0,1.0,0.0,0.0,0.0,0.0,0.0,0.0,0.0,0.0,0.0,0.0,0.0,0,0,0,0,0,0,0,0,0,0,0,0,0,0,0,0,0,0,0,0,0,0,0,0,0,0,0,0,0,0,0,0,0,0,0,0,0,0,0,0,0,0,0,0,0,1,0,0,0,0,0,0,0,0,0,0,0,0,0,0,0,0,0,0,0,0,0,0,0,0,0,0,0,0,0,0,0,0,0,0,0,0,0,0,0,0,0,0,0,0,0,0,0,0,0,0,0,0,0,0,0,0,0,0,0,0.0\r\n",
      "4980832,4,4980832,0.0,,0.0,0.0,,0.0,0.0,,0.0,0.0,,0.0,1.0,1.0,1948.0,-8.735489999999999,4.98005,-1.68565,0.680946,-3.21188,-0.54957,-0.175166,0.2314139999999999,0.775442,-1.11805,-2.78698,2.19289,2.27435,0.92344,-1.82059,1.55637,2.38587,-0.659396,-1.45979,-1.10626,-1.40374,-6.20286,3.38153,4.1098,-2.7054,-0.523623,1.36998,1.7868700000000002,3.36309,-1.94795,-1.98524,0.833725,0.216503,-0.696663,3.0000400000000003,1.88009,0.433608,-2.29162,-2.46182,-3.44518,0.0,0.0,0.0,0.0,0.0,0.0,0.0,0.0,0.0,0.0,0.0,1.0,0.0,0.0,0.0,0.0,0.0,0.0,0.0,0.0,0.0,0.0,0.0,0.0,0.0,0,0,0,0,0,0,0,0,0,0,0,0,0,0,0,0,0,0,0,0,0,0,0,0,0,0,0,0,0,0,0,0,0,0,0,0,0,0,0,0,0,0,0,0,0,0,0,0,0,0,0,0,0,0,0,0,0,0,0,0,1,0,0,0,0,0,0,0,0,0,0,0,0,0,0,0,0,0,0,0,0,0,0,0,0,0,0,0,0,0,0,0,0,0,0,0,0,0,0,0,0,0,0,0,0,0.0\r\n",
      "1269595,6,1269595,0.0,,0.0,0.0,,0.0,0.0,,0.0,0.0,,0.0,1.0,1.0,1952.0,-12.4914,5.79128,-2.2677400000000003,1.24174,-4.48268,0.772534,0.2290559999999999,-3.2882800000000003,-2.32357,1.87558,3.4643,-2.49831,-0.0120013,1.56276,-1.08131,-3.889,2.9222,3.99482,-4.75134,-1.48668,5.63525,-0.237275,0.441841,0.0563195,3.57472,-3.64879,-0.718842,-0.94589,1.46452,0.502488,5.60653,-4.00939,-0.666199,-3.2460000000000004,0.469759,-2.6266700000000003,0.3367159999999999,5.52003,0.744892,1.05336,0.0,0.0,0.0,0.0,0.0,0.0,0.0,0.0,1.0,0.0,0.0,0.0,0.0,0.0,0.0,0.0,0.0,0.0,0.0,0.0,0.0,0.0,1.0,0.0,0.0,0,0,0,0,0,0,0,0,0,0,0,0,0,0,0,0,0,0,0,0,0,0,0,0,0,0,0,0,0,0,0,0,0,0,0,0,0,0,0,0,0,0,0,0,0,0,0,0,0,0,0,0,0,0,0,0,0,0,0,0,0,0,0,0,0,0,0,0,0,0,0,0,0,0,0,0,0,0,0,0,0,0,0,0,0,0,0,0,0,0,0,0,0,0,0,0,0,0,0,0,0,0,0,0,1,0.0\r\n",
      "3373257,7,3373257,0.0,,0.0,0.0,,0.0,0.0,,0.0,0.0,,0.0,1.0,1.0,1941.0,-11.2654,3.79709,0.7408560000000001,-0.822076,-0.390226,0.0395153,-0.670773,0.632312,2.78972,-3.01046,-1.31821,-0.1078109999999999,-0.113724,3.60375,-1.65101,0.907473,-1.17556,3.55669,-4.44963,8.88832,-0.0915738999999999,-4.57966,1.69287,2.30412,-0.193089,0.169988,-2.20156,-0.410622,2.7636700000000003,-1.88029,-1.2709700000000002,1.08195,1.82269,-2.73291,-2.12776,-1.75699,3.4969300000000003,-0.639663,1.73398,-3.82943,0.0,0.0,0.0,0.0,0.0,0.0,0.0,0.0,0.0,0.0,0.0,0.0,0.0,0.0,0.0,1.0,0.0,0.0,0.0,0.0,0.0,0.0,0.0,0.0,0.0,0,0,0,0,0,0,0,0,0,0,0,0,0,0,0,0,0,0,0,0,0,0,0,0,0,0,0,0,0,0,0,0,0,0,0,0,0,0,0,0,0,0,0,0,0,0,0,0,0,0,0,0,0,0,0,0,0,0,0,0,0,0,0,0,0,1,0,0,0,0,0,0,0,0,0,0,0,0,0,0,0,0,0,0,0,0,0,0,0,0,0,0,0,0,0,0,0,0,0,0,0,0,0,0,0,0.0\r\n",
      "5187890,9,5187890,0.0,0.0,,0.0,0.0,,0.0,0.0,,0.0,0.0,,1.0,0.0,1951.0,-12.7496,3.11668,-2.5225,3.38811,0.7862520000000001,0.8438399999999999,0.77471,2.20265,1.33426,-2.92774,-3.5564400000000003,2.92714,-0.406521,4.55464,-1.79872,0.263758,-1.85465,3.71062,-0.0997604,5.65231,2.14302,-6.2367,2.20434,1.30124,0.313567,-3.52736,-2.38312,-0.8496809999999999,-2.52825,1.33592,0.0554585,-4.827369999999999,2.01497,-1.97739,6.2207300000000005,-1.58319,1.71072,5.03057,-0.315855,3.15367,0.0,0.0,0.0,0.0,0.0,0.0,0.0,0.0,0.0,1.0,0.0,0.0,0.0,0.0,0.0,0.0,0.0,0.0,0.0,0.0,0.0,0.0,0.0,0.0,0.0,0,0,0,0,0,0,0,0,0,0,0,0,0,0,0,0,0,0,0,0,0,0,0,0,0,0,0,0,0,0,0,0,0,0,0,0,0,0,0,0,0,0,0,0,0,0,0,0,0,0,0,0,0,0,0,0,0,0,1,0,0,0,0,0,0,0,0,0,0,0,0,0,0,0,0,0,0,0,0,0,0,0,0,0,0,0,0,0,0,0,0,0,0,0,0,0,0,0,0,0,0,0,0,0,0,0.0\r\n",
      "5266598,14,5266598,0.0,0.0,,0.0,0.0,,0.0,0.0,,0.0,0.0,,1.0,0.0,1944.0,-12.6762,3.3265,-0.4557779999999999,-0.941842,-6.99218,-3.12973,0.199505,-3.01545,0.742658,2.02226,3.12696,-3.80972,-1.6681099999999998,2.31745,1.73364,-1.1584,-0.141111,0.404057,0.97289,-0.6189520000000001,1.5699299999999998,4.53746,0.127903,-0.042914,-1.38036,0.721815,1.56914,0.184945,-0.676909,0.0796936,-6.12697,4.014390000000001,-3.38619,-3.39162,-0.8344719999999999,0.00855488,-3.73163,-1.87829,0.682765,0.502012,0.0,0.0,0.0,0.0,0.0,0.0,0.0,0.0,0.0,0.0,0.0,0.0,0.0,0.0,1.0,0.0,0.0,0.0,0.0,0.0,0.0,0.0,0.0,0.0,0.0,0,0,0,0,0,0,0,0,0,0,0,0,0,0,0,0,0,0,0,0,0,0,0,0,0,0,0,1,0,0,0,0,0,0,0,0,0,0,0,0,0,0,0,0,0,0,0,0,0,0,0,0,0,0,0,0,0,0,0,0,0,0,0,0,0,0,0,0,0,0,0,0,0,0,0,0,0,0,0,0,0,0,0,0,0,0,0,0,0,0,0,0,0,0,0,0,0,0,0,0,0,0,0,0,0,0.0\r\n"
     ]
    }
   ],
   "source": [
    "!head /cs/labs/michall/roeizucker/SKAT_experiments/SetID/ukbb_dataset_withIIH.csv"
   ]
  },
  {
   "cell_type": "code",
   "execution_count": 6,
   "id": "cbcf39bb",
   "metadata": {},
   "outputs": [],
   "source": [
    "def create_files(gwas_path,phen_path,phenotypes):\n",
    "    !mkdir {gwas_path}\n",
    "    !mkdir {gwas_path}/results\n",
    "    !mkdir {gwas_path}/phenotypes\n",
    "    !cp /cs/labs/michall/roeizucker/10krun/runs/0:11/GWAS_delete_me/covariates.txt {gwas_path}/covariates.txt\n",
    "    !cd {gwas_path}\n",
    "    dataset = pd.read_csv(phen_path)\n",
    "    if not CREATE_PHENOTYPE_FILES:\n",
    "        return\n",
    "    for phenotype_col in phenotypes:\n",
    "        print(phenotype_col)\n",
    "        file_name = phenotype_col.lower().replace(' ', '_').replace('-', '_') + '.txt'\n",
    "        # use eid as fid, because we take one representitive of each family\n",
    "        values = dataset[['eid', 'eid', phenotype_col]].dropna()\n",
    "        if SPLIT_TO_TRAIN_TEST:\n",
    "            values_case = values[values[phenotype_col] == 1]\n",
    "            values_control = values[values[phenotype_col]== 0] \n",
    "            values_case = values_case.sample(int(len(values_case) * TRAIN_RATIO))\n",
    "            values_control = values_control.sample(int(len(values_control) * TRAIN_RATIO))\n",
    "            values = pd.concat([values_case,values_control])\n",
    "        values.to_csv(os.path.join(f\"{gwas_path}/phenotypes\", file_name), \\\n",
    "            header = False, index = False, sep = '\\t')\n",
    "\n",
    "        # An array is created with all the values needed for running GWAS.\n",
    "# The array will be sorted in batches for better file accessing\n",
    "def create_the_data_file(phenotype_cols,gwas_path,data_file_path):\n",
    "    values = []\n",
    "    last_counter = 0\n",
    "    cur_phen_counter = 0\n",
    "    counter = 0\n",
    "    for phen in phenotype_cols:\n",
    "        base_path =  gwas_path\n",
    "        for j in range(1,23):\n",
    "            if os.path.exists(os.path.join(base_path ,f\"results/{phen.lower()}_chr{j}.PHENO1.glm.linear\")) or \\\n",
    "            os.path.exists(os.path.join(base_path ,f\"results/{phen.lower()}_chr{j}.PHENO1.glm.logistic\")):\n",
    "#                 print(\"a\")\n",
    "                continue\n",
    "            \n",
    "            # TODO: change location of plink files to be const\n",
    "            values.append([counter,os.path.join(base_path, \"phenotypes/\"+ phen.lower() + \".txt\"),\n",
    "                           os.path.join(base_path, f\"results/{phen.lower()}_chr{j}\"),\n",
    "                           f\"/cs/labs/michall/roeizucker/plink_results/reduced_snps2/small_ch{j}\"\n",
    "                           ,os.path.join(base_path ,\"covariates.txt\"),j])\n",
    "            counter+=1\n",
    "        cur_phen_counter+=1\n",
    "        if cur_phen_counter%BATCH_LENGTH == 0:\n",
    "            values[last_counter:counter] = sorted(values[last_counter:counter],key = lambda x:x[-1])\n",
    "            last_counter = counter\n",
    "    values[last_counter:counter] = sorted(values[last_counter:counter],key = lambda x:x[-1])\n",
    "    df = pd.DataFrame(values, columns=[\"unsorted_counter\",\"phenotype_path\",\"output_path\",\"partial_chromosome_file_path\", \"covariates\",\"chr\"])\n",
    "    df.to_csv(data_file_path)\n",
    "\n",
    "\n",
    "def write_mediator_script(mediator_script_path,data_file_path,gwas_path):\n",
    "    with open(mediator_script_path, \"w\") as mediator_file:\n",
    "        mediator_file.write(f'''import pandas as pd\n",
    "import sys\n",
    "import os\n",
    "import os.path\n",
    "butch_num = int(sys.argv[1]) \n",
    "curr_task = int(sys.argv[2])\n",
    "BATCH_LENGTH = {BATCH_LENGTH}\n",
    "SKIP_POINT = {MAX_JOBS_BEFORE_SUBMITTING_NEW_ARRAY}\n",
    "PLINK_PATH = \"/cs/usr/nadavb/third_party/plink2\"\n",
    "\n",
    "data_file_path = \"{data_file_path}\"\n",
    "df = pd.read_csv(data_file_path)\n",
    "print(df.loc[butch_num * BATCH_LENGTH + curr_task])\n",
    "val = df.loc[butch_num * BATCH_LENGTH + curr_task]\n",
    "location = butch_num * BATCH_LENGTH + curr_task\n",
    "if curr_task == SKIP_POINT and location < 30500:\n",
    "    new_batch  = butch_num + 1\n",
    "    if not os.path.isfile(\"{gwas_path}_\" + str(new_batch) + \"_flag\"):\n",
    "        os.system(\"sbatch --array=0-\"+str(BATCH_LENGTH - 1)+\" --mem=12g -c10 --time=3-0 --killable --requeue --wrap=\\\\\"{gwas_path}master.sh \"+str(new_batch)+\"\\\\\"\")\n",
    "if location < 30500:\n",
    "    print(PLINK_PATH + \" --bed \" + df.loc[location].partial_chromosome_file_path + \".bed --bim \" + df.loc[location].partial_chromosome_file_path + \".bim --fam \"+df.loc[location].partial_chromosome_file_path + \".fam --pheno \" + df.loc[location].phenotype_path + \" --covar \" + df.loc[location].covariates + \"  --out  \" + df.loc[location].output_path + \" --1 --glm hide-covar --mac 20 --covar-variance-standardize --freq --threads 10 --memory 10000\")\n",
    "    os.system(PLINK_PATH + \" --bed \" + df.loc[location].partial_chromosome_file_path + \".bed --bim \" + df.loc[location].partial_chromosome_file_path + \".bim --fam \"+df.loc[location].partial_chromosome_file_path + \".fam --pheno \" + df.loc[location].phenotype_path + \" --covar \" + df.loc[location].covariates + \"  --out  \" + df.loc[location].output_path + \" --1 --glm hide-covar --mac 20 --covar-variance-standardize --freq --threads 10 --memory 10000\")\n",
    "    print(\"done!\")\n",
    "''')\n",
    "\n",
    "def write_master_script(master_script_path,mediator_script_path,gwas_path):\n",
    "    with open(master_script_path, \"w\") as master_file:\n",
    "        master_file.write(f'''\n",
    "FILE={gwas_path}_$1_flag\n",
    "if ! test \"$FILE\" \n",
    "then \n",
    "    touch {gwas_path}_$1_flag\n",
    "fi\n",
    "python {mediator_script_path} $1 $SLURM_ARRAY_TASK_ID\n",
    "''')\n",
    "    !chmod 744 {master_script_path}\n"
   ]
  },
  {
   "cell_type": "code",
   "execution_count": 7,
   "id": "1fdb47fb",
   "metadata": {},
   "outputs": [],
   "source": [
    "# data_file_path = os.path.join(GWAS_PATH, \"data_file.csv\")\n",
    "# create_the_data_file(PHENOTYPES,GWAS_PATH,data_file_path)"
   ]
  },
  {
   "cell_type": "code",
   "execution_count": 8,
   "id": "0694cfea",
   "metadata": {},
   "outputs": [],
   "source": [
    "# master_script_path = os.path.join(GWAS_PATH , \"master.sh\")\n",
    "# print(f'''how to run:\n",
    "# sbatch --array=0-263 --mem=12g -c10 --time=3-0 --requeue --killable --wrap=\"{master_script_path} 0\"''')"
   ]
  },
  {
   "cell_type": "code",
   "execution_count": 9,
   "id": "790c772e",
   "metadata": {},
   "outputs": [
    {
     "name": "stdout",
     "output_type": "stream",
     "text": [
      "mkdir: cannot create directory ‘/cs/labs/michall/roeizucker/IIH/GWAS4’: File exists\n",
      "updated_Both\n",
      "updated_PAP\n",
      "updated_IIH\n",
      "how to run:\n",
      "sbatch --array=0-263 --mem=12g -c10 --time=3-0 --requeue --killable --wrap=\"/cs/labs/michall/roeizucker/IIH/GWAS4/master.sh 0\"\n"
     ]
    }
   ],
   "source": [
    "# script body (will be transferred to another file)\n",
    "\n",
    "\n",
    "# TODO: add verbous argument, and better explain the output\n",
    "\n",
    "# set input \n",
    "# TODO: change so it is accepted as params\n",
    "phen_path = PHEN_PATH\n",
    "gwas_path = GWAS_PATH\n",
    "\n",
    "# do stuff\n",
    "phenotype_cols = list(pd.read_csv(PHEN_PATH))\n",
    "phenotype_cols = phenotype_cols[2:phenotype_cols.index(VALUE_AT_END_OF_PHENOTYPES)]\n",
    "\n",
    "# we will use the phenotypes parameter only if it exists\n",
    "if len (PHENOTYPES) > 0:\n",
    "    phenotype_cols = PHENOTYPES\n",
    "    \n",
    "# TODO: chnage so names are consts\n",
    "data_file_path = os.path.join(gwas_path, \"data_file.csv\")\n",
    "mediator_script_path = os.path.join(gwas_path , \"mediator.py\")\n",
    "master_script_path = os.path.join(gwas_path , \"master.sh\")\n",
    "\n",
    "create_files(gwas_path,phen_path,phenotype_cols)\n",
    "create_the_data_file(phenotype_cols,gwas_path,data_file_path)\n",
    "write_mediator_script(mediator_script_path,data_file_path,gwas_path)\n",
    "write_master_script(master_script_path,mediator_script_path,gwas_path)\n",
    "\n",
    "# TODO: add output folder\n",
    "print(f'''how to run:\n",
    "sbatch --array=0-263 --mem=12g -c10 --time=3-0 --requeue --killable --wrap=\"{master_script_path} 0\"''')"
   ]
  },
  {
   "cell_type": "code",
   "execution_count": 10,
   "id": "b93e79b5",
   "metadata": {},
   "outputs": [
    {
     "ename": "SyntaxError",
     "evalue": "invalid syntax (2859877951.py, line 2)",
     "output_type": "error",
     "traceback": [
      "\u001b[0;36m  File \u001b[0;32m\"/tmp/ipykernel_24172/2859877951.py\"\u001b[0;36m, line \u001b[0;32m2\u001b[0m\n\u001b[0;31m    sbatch --array=0-60 --mem=12g -c10 --time=3-0 --requeue --killable --wrap=\"/cs/labs/michall/roeizucker/IIH/GWAS3/master.sh 0\"\u001b[0m\n\u001b[0m                                ^\u001b[0m\n\u001b[0;31mSyntaxError\u001b[0m\u001b[0;31m:\u001b[0m invalid syntax\n"
     ]
    }
   ],
   "source": [
    "# sbatch --array=0-33 --mem=12g -c10 --time=3-0 --requeue --killable --wrap=\"/cs/labs/michall/roeizucker/IIH/GWAS2/master.sh 0\"\n",
    "sbatch --array=0-60 --mem=12g -c10 --time=3-0 --requeue --killable --wrap=\"/cs/labs/michall/roeizucker/IIH/GWAS3/master.sh 0\"\n"
   ]
  },
  {
   "cell_type": "code",
   "execution_count": null,
   "id": "23ce5358",
   "metadata": {},
   "outputs": [],
   "source": [
    "# master_script_path = priority_gwas_dir + \"master.sh\"\n",
    "\n",
    "# (mediator_script_path,data_file_path,gwas_path)\n",
    "master_script_path"
   ]
  },
  {
   "cell_type": "code",
   "execution_count": null,
   "id": "0d5e6785",
   "metadata": {},
   "outputs": [],
   "source": [
    "pd.read_csv(data_file_path)"
   ]
  },
  {
   "cell_type": "code",
   "execution_count": null,
   "id": "2c1521cd",
   "metadata": {},
   "outputs": [],
   "source": [
    "print(f'''how to run:\n",
    "sbatch --array=0-263 --mem=12g -c10 --time=3-0 --requeue --killable --wrap=\"{master_script_path} 0\"''')"
   ]
  },
  {
   "cell_type": "markdown",
   "id": "921fbfbb",
   "metadata": {},
   "source": [
    "## combines GWAS results"
   ]
  },
  {
   "cell_type": "code",
   "execution_count": null,
   "id": "71878eb2",
   "metadata": {},
   "outputs": [],
   "source": [
    "import glob, os\n",
    "# path = \"/cs/labs/michall/roeizucker/10krun/runs/48:59/GWAS/results\"\n",
    "# os.chdir(path)\n",
    "path = os.path.join(GWAS_PATH,\"results\")\n",
    "# files = []\n",
    "# for file in glob.glob(\"*.glm.*\"):\n",
    "#     files.append(file)\n",
    "phens = PHENOTYPES\n",
    "for phen in phens:\n",
    "    dataframes = []\n",
    "    for j in range(1,23):\n",
    "#         change so logistic/liner is detrmined generically\n",
    "        file_name = os.path.join(path,f\"{phen.lower()}_chr{j}.{RESULT_SUFFIX}\")\n",
    "        try:\n",
    "            df = pd.read_csv(file_name,sep=\"\\t\")\n",
    "            dataframes.append(df)\n",
    "        except pd.errors.EmptyDataError:\n",
    "            print(file_name)\n",
    "            continue\n",
    "        except FileNotFoundError:\n",
    "            print(file_name)\n",
    "            continue\n",
    "    if len(dataframes) == 0:\n",
    "        continue\n",
    "    master_df = pd.concat(dataframes)\n",
    "    master_df.to_csv(f\"{os.path.join(path,phen)}.csv\",index=False)\n",
    "    print(f\"{os.path.join(path,phen)}.csv\")"
   ]
  },
  {
   "cell_type": "code",
   "execution_count": null,
   "id": "0735f821",
   "metadata": {},
   "outputs": [],
   "source": [
    "os.path.join(path,phen)"
   ]
  }
 ],
 "metadata": {
  "kernelspec": {
   "display_name": "Python 3 (ipykernel)",
   "language": "python",
   "name": "python3"
  },
  "language_info": {
   "codemirror_mode": {
    "name": "ipython",
    "version": 3
   },
   "file_extension": ".py",
   "mimetype": "text/x-python",
   "name": "python",
   "nbconvert_exporter": "python",
   "pygments_lexer": "ipython3",
   "version": "3.7.3"
  }
 },
 "nbformat": 4,
 "nbformat_minor": 5
}
