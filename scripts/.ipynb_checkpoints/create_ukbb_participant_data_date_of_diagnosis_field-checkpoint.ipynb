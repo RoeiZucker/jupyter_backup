{
 "cells": [
  {
   "cell_type": "code",
   "execution_count": 1,
   "id": "6f67e499",
   "metadata": {},
   "outputs": [],
   "source": [
    "import pandas as pd\n",
    "import numpy as np"
   ]
  },
  {
   "cell_type": "code",
   "execution_count": 3,
   "id": "5be48f9d",
   "metadata": {},
   "outputs": [],
   "source": [
    "# script parameters\n",
    "PARTICIPANT_DATA_WITH_DATES = \"/cs/labs/michall/roeizucker/ukb_files/diagnosis.csv\"\n",
    "requested_phenotypes_list = ['E05.0',\n",
    " 'E06.9',\n",
    " 'E06.4',\n",
    " 'E06',\n",
    " 'E10.8',\n",
    " 'E10.6',\n",
    " 'E10.0',\n",
    " 'E10',\n",
    " 'E10.9',\n",
    " 'E10.7',\n",
    " 'G35',\n",
    " 'G70.0',\n",
    " 'J45',\n",
    " 'J45.0',\n",
    " 'J45.1',\n",
    " 'J45.8',\n",
    " 'J45.9',\n",
    " 'K50.8',\n",
    " 'K50.0',\n",
    " 'K50.9',\n",
    " 'K50',\n",
    " 'K50.1',\n",
    " 'K90.1',\n",
    " 'K90.0',\n",
    " 'L80',\n",
    " 'L81.7',\n",
    " 'L81.8',\n",
    " 'L81.9',\n",
    " 'L81',\n",
    " 'L81.0',\n",
    " 'L81.1',\n",
    " 'L57.3',\n",
    " 'L81.2',\n",
    " 'L81.6',\n",
    " 'L81.5',\n",
    " 'L81.4',\n",
    " 'L81.3',\n",
    " 'M32',\n",
    " 'M32.1',\n",
    " 'M32.8',\n",
    " 'M32.9',\n",
    " 'M32.0',\n",
    " 'L40.9',\n",
    " 'L40',\n",
    " 'L66.9',\n",
    " 'L66.2',\n",
    " 'L66.0',\n",
    " 'L66',\n",
    " 'L65.9',\n",
    " 'L65.8',\n",
    " 'L65.2',\n",
    " 'L63.0',\n",
    " 'L64.9',\n",
    " 'L64.8',\n",
    " 'L64.0',\n",
    " 'L64',\n",
    " 'L63.1',\n",
    " 'L65.1',\n",
    " 'L66.8',\n",
    " 'M35.0',\n",
    " 'J99.0',\n",
    " 'M05.1',\n",
    " 'M06.3',\n",
    " 'M06.2',\n",
    " 'M06.1',\n",
    " 'M06.0',\n",
    " 'M05.9',\n",
    " 'M05.3',\n",
    " 'M05.2',\n",
    " 'M06.8',\n",
    " 'M06.9',\n",
    " 'M05.0']\n",
    "\n",
    "RESULT_PATH = \"/sci/nosnap/michall/roeizucker/jupyter_notebooks/ISF_AID/test.csv\"\n"
   ]
  },
  {
   "cell_type": "code",
   "execution_count": 4,
   "id": "92c68e55",
   "metadata": {},
   "outputs": [],
   "source": [
    "DIAGNOSES_FIELD_NAME = \"Diagnoses - ICD10\"\n",
    "DIAGNOSES_DATE_PREFIX = \"Date of first in-patient diagnosis - ICD10 | Array \"\n",
    "DIAGNOSES_DATE_SUFFIX = \"\"\n",
    "REQUIRED_FILEDS = ['Participant ID','Sex','Year of birth(participant - p34)']\n",
    "SEPERETOR = \"|\"\n",
    "DATE_FIELD_SUFFIX = \"_date\""
   ]
  },
  {
   "cell_type": "code",
   "execution_count": 5,
   "id": "34666de2",
   "metadata": {},
   "outputs": [],
   "source": [
    "df = pd.read_csv(PARTICIPANT_DATA_WITH_DATES,low_memory=False)\n"
   ]
  },
  {
   "cell_type": "code",
   "execution_count": 9,
   "id": "820442d6",
   "metadata": {},
   "outputs": [],
   "source": [
    "# list(df)"
   ]
  },
  {
   "cell_type": "code",
   "execution_count": 6,
   "id": "29965669",
   "metadata": {},
   "outputs": [],
   "source": [
    "def find_phen_location(value,phen):\n",
    "\n",
    "    if not isinstance(value[DIAGNOSES_FIELD_NAME], str):\n",
    "        return None\n",
    "    diags = (value[DIAGNOSES_FIELD_NAME].strip('][').split(SEPERETOR))\n",
    "#     print(value['Diagnoses - ICD10'])\n",
    "    new_diags = []\n",
    "    for diag in diags:\n",
    "        diag = diag.replace(\"\\\"\",\"\")\n",
    "        new_diags.append(diag)\n",
    "    for i in range(len(new_diags)):\n",
    "        if phen in new_diags[i]:\n",
    "            return value[DIAGNOSES_DATE_PREFIX + str(i) + DIAGNOSES_DATE_SUFFIX]  \n",
    "#     if phen in new_diags:\n",
    "#         return value[DIAGNOSES_DATE_PREFIX + str(new_diags.index(phen)) + DIAGNOSES_DATE_SUFFIX]\n",
    "    \n",
    "        "
   ]
  },
  {
   "cell_type": "code",
   "execution_count": 7,
   "id": "162ec68d",
   "metadata": {},
   "outputs": [
    {
     "name": "stdout",
     "output_type": "stream",
     "text": [
      "CPU times: user 6.88 s, sys: 307 ms, total: 7.19 s\n",
      "Wall time: 7.19 s\n"
     ]
    }
   ],
   "source": [
    "%%time\n",
    "requested_phens = REQUIRED_FILEDS[:]\n",
    "for phen in requested_phenotypes_list:\n",
    "    requested_phens.append(phen+DATE_FIELD_SUFFIX)\n",
    "    df[phen+DATE_FIELD_SUFFIX] = df.apply(lambda x: find_phen_location(x,phen),axis=1)\n"
   ]
  },
  {
   "cell_type": "code",
   "execution_count": 26,
   "id": "c804ead0",
   "metadata": {},
   "outputs": [],
   "source": [
    "df[requested_phens].to_csv(RESULT_PATH,index=False)"
   ]
  },
  {
   "cell_type": "code",
   "execution_count": null,
   "id": "42b2f671",
   "metadata": {},
   "outputs": [],
   "source": []
  },
  {
   "cell_type": "code",
   "execution_count": 34,
   "id": "ae25faa9",
   "metadata": {},
   "outputs": [
    {
     "name": "stdout",
     "output_type": "stream",
     "text": [
      "502411 /cs/labs/michall/roeizucker/ukb_files/diagnosis.csv\r\n"
     ]
    }
   ],
   "source": [
    "!wc -l /cs/labs/michall/roeizucker/ukb_files/diagnosis.csv"
   ]
  }
 ],
 "metadata": {
  "kernelspec": {
   "display_name": "Python 3 (ipykernel)",
   "language": "python",
   "name": "python3"
  },
  "language_info": {
   "codemirror_mode": {
    "name": "ipython",
    "version": 3
   },
   "file_extension": ".py",
   "mimetype": "text/x-python",
   "name": "python",
   "nbconvert_exporter": "python",
   "pygments_lexer": "ipython3",
   "version": "3.7.3"
  }
 },
 "nbformat": 4,
 "nbformat_minor": 5
}
