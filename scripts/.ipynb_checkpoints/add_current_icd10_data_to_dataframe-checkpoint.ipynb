{
 "cells": [
  {
   "cell_type": "code",
   "execution_count": 1,
   "id": "1dc7dce3",
   "metadata": {},
   "outputs": [],
   "source": [
    "import pandas as pd"
   ]
  },
  {
   "cell_type": "code",
   "execution_count": 2,
   "id": "9b1304df",
   "metadata": {},
   "outputs": [],
   "source": [
    "# PARTICIPANT_DATA_WITH_DATES = \"/cs/labs/michall/roeizucker/ukb_files/diagnosis.csv\"\n",
    "PARTICIPANT_DATA_WITH_DATES = \"/cs/usr/roeizucker/my_storage/IIH/updated_phenotypes/diagnosis_ethnicity_25_11_24_participant_participant.csv\"\n",
    "\n",
    "# requested_phenotypes_list = [([\"H47.1 Papilloedema, unspecified\"],\"updated_PAP\",\"B\"),\n",
    "#                              ([\"G93.2 Benign intracranial hypertension\"],\"updated_IIH\",\"B\"),\n",
    "#                             ([\"H47.1 Papilloedema, unspecified\",\"G93.2 Benign intracranial hypertension\"],\"updated_Both\",\"B\"),\n",
    "                             \n",
    "#                             ([\"H47.1 Papilloedema, unspecified\"],\"updated_PAP_F\",\"Female\"),\n",
    "#                             ([\"G93.2 Benign intracranial hypertension\"],\"updated_IIH_F\",\"Female\"),\n",
    "#                             ([\"H47.1 Papilloedema, unspecified\",\"G93.2 Benign intracranial hypertension\"],\"updated_Both_F\",\"Female\"),\n",
    "                             \n",
    "#                             ([\"H47.1 Papilloedema, unspecified\"],\"updated_PAP_M\",\"Male\"),\n",
    "#                             ([\"G93.2 Benign intracranial hypertension\"],\"updated_IIH_M\",\"Male\"),\n",
    "#                             ([\"H47.1 Papilloedema, unspecified\",\"G93.2 Benign intracranial hypertension\"],\"updated_Both_M\",\"Male\")]\n",
    "# requested_phenotypes_list = [\n",
    "#     ([\"L63\",\"L64\",\"L65\"],\"L63-5\",\"B\"),\n",
    "#     ([\"L63\",\"L64\"],\"L63-4\",\"B\"),\n",
    "#     ([\"L63\"],\"L63\",\"B\"),\n",
    "#     ([\"L65\"],\"L65\",\"B\")\n",
    "# ]\n",
    "requested_phenotypes_list = [\n",
    "    ([\"H47.1\"],\"H47.1\",\"B\"),\n",
    "    ([\"G93.2\"],\"G93.2\",\"B\"),\n",
    "    ([\"H47.1\",\"G93.2\"],\"both_phen\",\"B\"),\n",
    "]\n",
    "# PAP,IIH,both,PAP_F,IIH_F,both_F,PAP_M,IIH_M,both_M\n",
    "OLD_FILE = \"/cs/labs/michall/roeizucker/IIH/PWAS/ukbb_dataset.csv\"\n",
    "RESULT_PATH = \"roeizucker@chaperone-02:~/my_storage/IIH/updated_phenotypes/ukbb_dataset_updated_11.csv\"\n"
   ]
  },
  {
   "cell_type": "code",
   "execution_count": 3,
   "id": "9e03bdcd",
   "metadata": {},
   "outputs": [],
   "source": [
    "DIAGNOSES_FIELD_NAME = \"Diagnoses - ICD10\"\n",
    "# REQUIRED_FILEDS = ['Participant ID','Sex','Year of birth(participant - p34)',DIAGNOSES_FIELD_NAME]\n",
    "REQUIRED_FILEDS = ['Participant ID','Sex','Year of birth',DIAGNOSES_FIELD_NAME]\n",
    "SEPERETOR = \"|\""
   ]
  },
  {
   "cell_type": "code",
   "execution_count": 4,
   "id": "2f132db1",
   "metadata": {},
   "outputs": [],
   "source": [
    "old_df = pd.read_csv(OLD_FILE)"
   ]
  },
  {
   "cell_type": "code",
   "execution_count": 5,
   "id": "9b165b51",
   "metadata": {},
   "outputs": [
    {
     "ename": "ValueError",
     "evalue": "Usecols do not match columns, columns expected but not found: ['Year of birth(participant - p34)']",
     "output_type": "error",
     "traceback": [
      "\u001b[0;31m---------------------------------------------------------------------------\u001b[0m",
      "\u001b[0;31mValueError\u001b[0m                                Traceback (most recent call last)",
      "Cell \u001b[0;32mIn[5], line 1\u001b[0m\n\u001b[0;32m----> 1\u001b[0m df \u001b[38;5;241m=\u001b[39m \u001b[43mpd\u001b[49m\u001b[38;5;241;43m.\u001b[39;49m\u001b[43mread_csv\u001b[49m\u001b[43m(\u001b[49m\u001b[43mPARTICIPANT_DATA_WITH_DATES\u001b[49m\u001b[43m,\u001b[49m\u001b[43mlow_memory\u001b[49m\u001b[38;5;241;43m=\u001b[39;49m\u001b[38;5;28;43;01mFalse\u001b[39;49;00m\u001b[43m,\u001b[49m\u001b[43musecols\u001b[49m\u001b[38;5;241;43m=\u001b[39;49m\u001b[43mREQUIRED_FILEDS\u001b[49m\u001b[43m)\u001b[49m\n",
      "File \u001b[0;32m/sci/nosnap/michall/roeizucker/new_python_env/lib/python3.11/site-packages/pandas/io/parsers/readers.py:1026\u001b[0m, in \u001b[0;36mread_csv\u001b[0;34m(filepath_or_buffer, sep, delimiter, header, names, index_col, usecols, dtype, engine, converters, true_values, false_values, skipinitialspace, skiprows, skipfooter, nrows, na_values, keep_default_na, na_filter, verbose, skip_blank_lines, parse_dates, infer_datetime_format, keep_date_col, date_parser, date_format, dayfirst, cache_dates, iterator, chunksize, compression, thousands, decimal, lineterminator, quotechar, quoting, doublequote, escapechar, comment, encoding, encoding_errors, dialect, on_bad_lines, delim_whitespace, low_memory, memory_map, float_precision, storage_options, dtype_backend)\u001b[0m\n\u001b[1;32m   1013\u001b[0m kwds_defaults \u001b[38;5;241m=\u001b[39m _refine_defaults_read(\n\u001b[1;32m   1014\u001b[0m     dialect,\n\u001b[1;32m   1015\u001b[0m     delimiter,\n\u001b[0;32m   (...)\u001b[0m\n\u001b[1;32m   1022\u001b[0m     dtype_backend\u001b[38;5;241m=\u001b[39mdtype_backend,\n\u001b[1;32m   1023\u001b[0m )\n\u001b[1;32m   1024\u001b[0m kwds\u001b[38;5;241m.\u001b[39mupdate(kwds_defaults)\n\u001b[0;32m-> 1026\u001b[0m \u001b[38;5;28;01mreturn\u001b[39;00m \u001b[43m_read\u001b[49m\u001b[43m(\u001b[49m\u001b[43mfilepath_or_buffer\u001b[49m\u001b[43m,\u001b[49m\u001b[43m \u001b[49m\u001b[43mkwds\u001b[49m\u001b[43m)\u001b[49m\n",
      "File \u001b[0;32m/sci/nosnap/michall/roeizucker/new_python_env/lib/python3.11/site-packages/pandas/io/parsers/readers.py:620\u001b[0m, in \u001b[0;36m_read\u001b[0;34m(filepath_or_buffer, kwds)\u001b[0m\n\u001b[1;32m    617\u001b[0m _validate_names(kwds\u001b[38;5;241m.\u001b[39mget(\u001b[38;5;124m\"\u001b[39m\u001b[38;5;124mnames\u001b[39m\u001b[38;5;124m\"\u001b[39m, \u001b[38;5;28;01mNone\u001b[39;00m))\n\u001b[1;32m    619\u001b[0m \u001b[38;5;66;03m# Create the parser.\u001b[39;00m\n\u001b[0;32m--> 620\u001b[0m parser \u001b[38;5;241m=\u001b[39m \u001b[43mTextFileReader\u001b[49m\u001b[43m(\u001b[49m\u001b[43mfilepath_or_buffer\u001b[49m\u001b[43m,\u001b[49m\u001b[43m \u001b[49m\u001b[38;5;241;43m*\u001b[39;49m\u001b[38;5;241;43m*\u001b[39;49m\u001b[43mkwds\u001b[49m\u001b[43m)\u001b[49m\n\u001b[1;32m    622\u001b[0m \u001b[38;5;28;01mif\u001b[39;00m chunksize \u001b[38;5;129;01mor\u001b[39;00m iterator:\n\u001b[1;32m    623\u001b[0m     \u001b[38;5;28;01mreturn\u001b[39;00m parser\n",
      "File \u001b[0;32m/sci/nosnap/michall/roeizucker/new_python_env/lib/python3.11/site-packages/pandas/io/parsers/readers.py:1620\u001b[0m, in \u001b[0;36mTextFileReader.__init__\u001b[0;34m(self, f, engine, **kwds)\u001b[0m\n\u001b[1;32m   1617\u001b[0m     \u001b[38;5;28mself\u001b[39m\u001b[38;5;241m.\u001b[39moptions[\u001b[38;5;124m\"\u001b[39m\u001b[38;5;124mhas_index_names\u001b[39m\u001b[38;5;124m\"\u001b[39m] \u001b[38;5;241m=\u001b[39m kwds[\u001b[38;5;124m\"\u001b[39m\u001b[38;5;124mhas_index_names\u001b[39m\u001b[38;5;124m\"\u001b[39m]\n\u001b[1;32m   1619\u001b[0m \u001b[38;5;28mself\u001b[39m\u001b[38;5;241m.\u001b[39mhandles: IOHandles \u001b[38;5;241m|\u001b[39m \u001b[38;5;28;01mNone\u001b[39;00m \u001b[38;5;241m=\u001b[39m \u001b[38;5;28;01mNone\u001b[39;00m\n\u001b[0;32m-> 1620\u001b[0m \u001b[38;5;28mself\u001b[39m\u001b[38;5;241m.\u001b[39m_engine \u001b[38;5;241m=\u001b[39m \u001b[38;5;28;43mself\u001b[39;49m\u001b[38;5;241;43m.\u001b[39;49m\u001b[43m_make_engine\u001b[49m\u001b[43m(\u001b[49m\u001b[43mf\u001b[49m\u001b[43m,\u001b[49m\u001b[43m \u001b[49m\u001b[38;5;28;43mself\u001b[39;49m\u001b[38;5;241;43m.\u001b[39;49m\u001b[43mengine\u001b[49m\u001b[43m)\u001b[49m\n",
      "File \u001b[0;32m/sci/nosnap/michall/roeizucker/new_python_env/lib/python3.11/site-packages/pandas/io/parsers/readers.py:1898\u001b[0m, in \u001b[0;36mTextFileReader._make_engine\u001b[0;34m(self, f, engine)\u001b[0m\n\u001b[1;32m   1895\u001b[0m     \u001b[38;5;28;01mraise\u001b[39;00m \u001b[38;5;167;01mValueError\u001b[39;00m(msg)\n\u001b[1;32m   1897\u001b[0m \u001b[38;5;28;01mtry\u001b[39;00m:\n\u001b[0;32m-> 1898\u001b[0m     \u001b[38;5;28;01mreturn\u001b[39;00m \u001b[43mmapping\u001b[49m\u001b[43m[\u001b[49m\u001b[43mengine\u001b[49m\u001b[43m]\u001b[49m\u001b[43m(\u001b[49m\u001b[43mf\u001b[49m\u001b[43m,\u001b[49m\u001b[43m \u001b[49m\u001b[38;5;241;43m*\u001b[39;49m\u001b[38;5;241;43m*\u001b[39;49m\u001b[38;5;28;43mself\u001b[39;49m\u001b[38;5;241;43m.\u001b[39;49m\u001b[43moptions\u001b[49m\u001b[43m)\u001b[49m\n\u001b[1;32m   1899\u001b[0m \u001b[38;5;28;01mexcept\u001b[39;00m \u001b[38;5;167;01mException\u001b[39;00m:\n\u001b[1;32m   1900\u001b[0m     \u001b[38;5;28;01mif\u001b[39;00m \u001b[38;5;28mself\u001b[39m\u001b[38;5;241m.\u001b[39mhandles \u001b[38;5;129;01mis\u001b[39;00m \u001b[38;5;129;01mnot\u001b[39;00m \u001b[38;5;28;01mNone\u001b[39;00m:\n",
      "File \u001b[0;32m/sci/nosnap/michall/roeizucker/new_python_env/lib/python3.11/site-packages/pandas/io/parsers/c_parser_wrapper.py:140\u001b[0m, in \u001b[0;36mCParserWrapper.__init__\u001b[0;34m(self, src, **kwds)\u001b[0m\n\u001b[1;32m    136\u001b[0m \u001b[38;5;28;01massert\u001b[39;00m \u001b[38;5;28mself\u001b[39m\u001b[38;5;241m.\u001b[39morig_names \u001b[38;5;129;01mis\u001b[39;00m \u001b[38;5;129;01mnot\u001b[39;00m \u001b[38;5;28;01mNone\u001b[39;00m\n\u001b[1;32m    137\u001b[0m \u001b[38;5;28;01mif\u001b[39;00m \u001b[38;5;28mself\u001b[39m\u001b[38;5;241m.\u001b[39musecols_dtype \u001b[38;5;241m==\u001b[39m \u001b[38;5;124m\"\u001b[39m\u001b[38;5;124mstring\u001b[39m\u001b[38;5;124m\"\u001b[39m \u001b[38;5;129;01mand\u001b[39;00m \u001b[38;5;129;01mnot\u001b[39;00m \u001b[38;5;28mset\u001b[39m(usecols)\u001b[38;5;241m.\u001b[39missubset(\n\u001b[1;32m    138\u001b[0m     \u001b[38;5;28mself\u001b[39m\u001b[38;5;241m.\u001b[39morig_names\n\u001b[1;32m    139\u001b[0m ):\n\u001b[0;32m--> 140\u001b[0m     \u001b[38;5;28;43mself\u001b[39;49m\u001b[38;5;241;43m.\u001b[39;49m\u001b[43m_validate_usecols_names\u001b[49m\u001b[43m(\u001b[49m\u001b[43musecols\u001b[49m\u001b[43m,\u001b[49m\u001b[43m \u001b[49m\u001b[38;5;28;43mself\u001b[39;49m\u001b[38;5;241;43m.\u001b[39;49m\u001b[43morig_names\u001b[49m\u001b[43m)\u001b[49m\n\u001b[1;32m    142\u001b[0m \u001b[38;5;66;03m# error: Cannot determine type of 'names'\u001b[39;00m\n\u001b[1;32m    143\u001b[0m \u001b[38;5;28;01mif\u001b[39;00m \u001b[38;5;28mlen\u001b[39m(\u001b[38;5;28mself\u001b[39m\u001b[38;5;241m.\u001b[39mnames) \u001b[38;5;241m>\u001b[39m \u001b[38;5;28mlen\u001b[39m(usecols):  \u001b[38;5;66;03m# type: ignore[has-type]\u001b[39;00m\n\u001b[1;32m    144\u001b[0m     \u001b[38;5;66;03m# error: Cannot determine type of 'names'\u001b[39;00m\n",
      "File \u001b[0;32m/sci/nosnap/michall/roeizucker/new_python_env/lib/python3.11/site-packages/pandas/io/parsers/base_parser.py:979\u001b[0m, in \u001b[0;36mParserBase._validate_usecols_names\u001b[0;34m(self, usecols, names)\u001b[0m\n\u001b[1;32m    977\u001b[0m missing \u001b[38;5;241m=\u001b[39m [c \u001b[38;5;28;01mfor\u001b[39;00m c \u001b[38;5;129;01min\u001b[39;00m usecols \u001b[38;5;28;01mif\u001b[39;00m c \u001b[38;5;129;01mnot\u001b[39;00m \u001b[38;5;129;01min\u001b[39;00m names]\n\u001b[1;32m    978\u001b[0m \u001b[38;5;28;01mif\u001b[39;00m \u001b[38;5;28mlen\u001b[39m(missing) \u001b[38;5;241m>\u001b[39m \u001b[38;5;241m0\u001b[39m:\n\u001b[0;32m--> 979\u001b[0m     \u001b[38;5;28;01mraise\u001b[39;00m \u001b[38;5;167;01mValueError\u001b[39;00m(\n\u001b[1;32m    980\u001b[0m         \u001b[38;5;124mf\u001b[39m\u001b[38;5;124m\"\u001b[39m\u001b[38;5;124mUsecols do not match columns, columns expected but not found: \u001b[39m\u001b[38;5;124m\"\u001b[39m\n\u001b[1;32m    981\u001b[0m         \u001b[38;5;124mf\u001b[39m\u001b[38;5;124m\"\u001b[39m\u001b[38;5;132;01m{\u001b[39;00mmissing\u001b[38;5;132;01m}\u001b[39;00m\u001b[38;5;124m\"\u001b[39m\n\u001b[1;32m    982\u001b[0m     )\n\u001b[1;32m    984\u001b[0m \u001b[38;5;28;01mreturn\u001b[39;00m usecols\n",
      "\u001b[0;31mValueError\u001b[0m: Usecols do not match columns, columns expected but not found: ['Year of birth(participant - p34)']"
     ]
    }
   ],
   "source": [
    "df = pd.read_csv(PARTICIPANT_DATA_WITH_DATES,low_memory=False,usecols=REQUIRED_FILEDS)"
   ]
  },
  {
   "cell_type": "code",
   "execution_count": null,
   "id": "cbb347d0",
   "metadata": {},
   "outputs": [],
   "source": []
  },
  {
   "cell_type": "code",
   "execution_count": null,
   "id": "4eed99ec",
   "metadata": {},
   "outputs": [],
   "source": [
    "def find_phen(value,requested_diags,sex=\"B\"):\n",
    "\n",
    "    if not isinstance(value[DIAGNOSES_FIELD_NAME], str):\n",
    "        return None\n",
    "    diags = (value[DIAGNOSES_FIELD_NAME].strip('][').split(SEPERETOR))\n",
    "    new_diags = []\n",
    "    for diag in diags:\n",
    "        diag = diag.replace(\"\\\"\",\"\")\n",
    "        new_diags.append(diag)\n",
    "    for req_diag in requested_diags:\n",
    "        for participant_diag in new_diags:\n",
    "            if req_diag in participant_diag and (sex==\"B\" or sex==value[\"Sex\"]):\n",
    "                return 1\n",
    "    if sex==\"B\" or sex==value[\"Sex\"]:\n",
    "        return 0\n",
    "    else:\n",
    "        return None\n",
    "    \n",
    "    \n"
   ]
  },
  {
   "cell_type": "code",
   "execution_count": null,
   "id": "678b2f2f",
   "metadata": {},
   "outputs": [],
   "source": [
    "!head -n 2 /cs/labs/michall/roeizucker/IIH/PWAS/ukbb_dataset_updated.csv"
   ]
  },
  {
   "cell_type": "code",
   "execution_count": null,
   "id": "8912ed0a",
   "metadata": {},
   "outputs": [],
   "source": [
    "for phen in requested_phenotypes_list:\n",
    "    df[phen[1]] = df.apply(lambda x: find_phen(x,phen[0],phen[2]),axis=1)\n",
    "df[\"eid\"] = df[\"Participant ID\"]"
   ]
  },
  {
   "cell_type": "code",
   "execution_count": null,
   "id": "d2c395c6",
   "metadata": {},
   "outputs": [],
   "source": [
    "small_df = df[[\"eid\"] + list(map(lambda x:x[1],requested_phenotypes_list))]"
   ]
  },
  {
   "cell_type": "code",
   "execution_count": null,
   "id": "4498aa51",
   "metadata": {},
   "outputs": [],
   "source": [
    "updated_df = pd.merge(old_df,small_df,on=\"eid\",how=\"left\")"
   ]
  },
  {
   "cell_type": "code",
   "execution_count": null,
   "id": "e02878b9",
   "metadata": {},
   "outputs": [],
   "source": [
    "df[df[\"eid\"] == 2745120]"
   ]
  },
  {
   "cell_type": "code",
   "execution_count": null,
   "id": "90c540ef",
   "metadata": {},
   "outputs": [],
   "source": [
    "updated_df.to_csv(RESULT_PATH,index=False)"
   ]
  },
  {
   "cell_type": "code",
   "execution_count": null,
   "id": "33a0065a",
   "metadata": {},
   "outputs": [],
   "source": [
    "updated_df[(updated_df[\"both\"] ==1 )& (updated_df[\"updated_Both\"] ==0)][[\"eid\",\"updated_Both\",\"both\"]]"
   ]
  },
  {
   "cell_type": "code",
   "execution_count": null,
   "id": "4ffbf281",
   "metadata": {},
   "outputs": [],
   "source": [
    "list(map(lambda x:x[1],requested_phenotypes_list))"
   ]
  }
 ],
 "metadata": {
  "kernelspec": {
   "display_name": "Python 3 (ipykernel)",
   "language": "python",
   "name": "python3"
  },
  "language_info": {
   "codemirror_mode": {
    "name": "ipython",
    "version": 3
   },
   "file_extension": ".py",
   "mimetype": "text/x-python",
   "name": "python",
   "nbconvert_exporter": "python",
   "pygments_lexer": "ipython3",
   "version": "3.11.2"
  }
 },
 "nbformat": 4,
 "nbformat_minor": 5
}
