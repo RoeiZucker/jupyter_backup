{
 "cells": [
  {
   "cell_type": "code",
   "execution_count": 1,
   "id": "cc112860",
   "metadata": {},
   "outputs": [],
   "source": [
    "import pandas as pd"
   ]
  },
  {
   "cell_type": "code",
   "execution_count": 63,
   "id": "35938bab",
   "metadata": {},
   "outputs": [],
   "source": [
    "PARTICIPANT_DATA_WITH_DATES = \"/cs/labs/michall/roeizucker/ukb_files/diagnosis.csv\"\n",
    "requested_phenotypes_list = [([\"H47.1 Papilloedema, unspecified\"],\"updated_PAP\",\"B\"),\n",
    "                             ([\"G93.2 Benign intracranial hypertension\"],\"updated_IIH\",\"B\"),\n",
    "                            ([\"H47.1 Papilloedema, unspecified\",\"G93.2 Benign intracranial hypertension\"],\"updated_Both\",\"B\"),\n",
    "                             \n",
    "                            ([\"H47.1 Papilloedema, unspecified\"],\"updated_PAP_F\",\"Female\"),\n",
    "                            ([\"G93.2 Benign intracranial hypertension\"],\"updated_IIH_F\",\"Female\"),\n",
    "                            ([\"H47.1 Papilloedema, unspecified\",\"G93.2 Benign intracranial hypertension\"],\"updated_Both_F\",\"Female\"),\n",
    "                             \n",
    "                            ([\"H47.1 Papilloedema, unspecified\"],\"updated_PAP_M\",\"Male\"),\n",
    "                            ([\"G93.2 Benign intracranial hypertension\"],\"updated_IIH_M\",\"Male\"),\n",
    "                            ([\"H47.1 Papilloedema, unspecified\",\"G93.2 Benign intracranial hypertension\"],\"updated_Both_M\",\"Male\")]\n",
    "# PAP,IIH,both,PAP_F,IIH_F,both_F,PAP_M,IIH_M,both_M\n",
    "OLD_FILE = \"/cs/labs/michall/roeizucker/IIH/PWAS/ukbb_dataset.csv\"\n",
    "RESULT_PATH = \"/cs/labs/michall/roeizucker/IIH/PWAS/ukbb_dataset_updated.csv\"\n"
   ]
  },
  {
   "cell_type": "code",
   "execution_count": 64,
   "id": "5902e0f1",
   "metadata": {},
   "outputs": [],
   "source": [
    "DIAGNOSES_FIELD_NAME = \"Diagnoses - ICD10\"\n",
    "REQUIRED_FILEDS = ['Participant ID','Sex','Year of birth(participant - p34)',DIAGNOSES_FIELD_NAME]\n",
    "SEPERETOR = \"|\""
   ]
  },
  {
   "cell_type": "code",
   "execution_count": 65,
   "id": "12f2a2b0",
   "metadata": {},
   "outputs": [],
   "source": [
    "old_df = pd.read_csv(OLD_FILE)"
   ]
  },
  {
   "cell_type": "code",
   "execution_count": 66,
   "id": "7b7307de",
   "metadata": {},
   "outputs": [],
   "source": [
    "df = pd.read_csv(PARTICIPANT_DATA_WITH_DATES,low_memory=False,usecols=REQUIRED_FILEDS)"
   ]
  },
  {
   "cell_type": "code",
   "execution_count": null,
   "id": "b053e6e6",
   "metadata": {},
   "outputs": [],
   "source": []
  },
  {
   "cell_type": "code",
   "execution_count": 67,
   "id": "c2a57f92",
   "metadata": {},
   "outputs": [],
   "source": [
    "def find_phen(value,requested_diags,sex=\"B\"):\n",
    "\n",
    "    if not isinstance(value[DIAGNOSES_FIELD_NAME], str):\n",
    "        return None\n",
    "    diags = (value[DIAGNOSES_FIELD_NAME].strip('][').split(SEPERETOR))\n",
    "    new_diags = []\n",
    "    for diag in diags:\n",
    "        diag = diag.replace(\"\\\"\",\"\")\n",
    "        new_diags.append(diag)\n",
    "    for diag in requested_diags:\n",
    "        if diag in new_diags and (sex==\"B\" or sex==value[\"Sex\"]):\n",
    "            return 1\n",
    "    if sex==\"B\" or sex==value[\"Sex\"]:\n",
    "        return 0\n",
    "    else:\n",
    "        return None\n",
    "    \n",
    "    \n"
   ]
  },
  {
   "cell_type": "code",
   "execution_count": 77,
   "id": "dabf7748",
   "metadata": {},
   "outputs": [
    {
     "name": "stdout",
     "output_type": "stream",
     "text": [
      "sample_index,eid,PAP,IIH,both,PAP_F,IIH_F,both_F,PAP_M,IIH_M,both_M,const,sex,year_of_birth,PC1,PC2,PC3,PC4,PC5,PC6,PC7,PC8,PC9,PC10,PC11,PC12,PC13,PC14,PC15,PC16,PC17,PC18,PC19,PC20,PC21,PC22,PC23,PC24,PC25,PC26,PC27,PC28,PC29,PC30,PC31,PC32,PC33,PC34,PC35,PC36,PC37,PC38,PC39,PC40,AC_stockport_pilot,AC_manchester,AC_oxford,AC_cardiff,AC_glasgow,AC_edinburgh,AC_stoke,AC_reading,AC_bury,AC_newcastle,AC_bristol,AC_barts,AC_nottingham,AC_sheffield,AC_liverpool,AC_middlesborough,AC_hounslow,AC_croydon,AC_birmingham,AC_swansea,AC_wrexham,AC_cheadle_revisit,AC_cheadle_imaging,AC_reading_imaging,AC_newcastle_imaging,batch_Batch_b001,batch_Batch_b002,batch_Batch_b003,batch_Batch_b004,batch_Batch_b005,batch_Batch_b006,batch_Batch_b007,batch_Batch_b008,batch_Batch_b009,batch_Batch_b010,batch_Batch_b011,batch_Batch_b012,batch_Batch_b013,batch_Batch_b014,batch_Batch_b015,batch_Batch_b016,batch_Batch_b017,batch_Batch_b018,batch_Batch_b019,batch_Batch_b020,batch_Batch_b021,batch_Batch_b022,batch_Batch_b023,batch_Batch_b024,batch_Batch_b025,batch_Batch_b026,batch_Batch_b027,batch_Batch_b028,batch_Batch_b029,batch_Batch_b030,batch_Batch_b031,batch_Batch_b032,batch_Batch_b033,batch_Batch_b034,batch_Batch_b035,batch_Batch_b036,batch_Batch_b037,batch_Batch_b038,batch_Batch_b039,batch_Batch_b040,batch_Batch_b041,batch_Batch_b042,batch_Batch_b043,batch_Batch_b044,batch_Batch_b045,batch_Batch_b046,batch_Batch_b047,batch_Batch_b048,batch_Batch_b049,batch_Batch_b050,batch_Batch_b051,batch_Batch_b052,batch_Batch_b053,batch_Batch_b054,batch_Batch_b055,batch_Batch_b056,batch_Batch_b057,batch_Batch_b058,batch_Batch_b059,batch_Batch_b060,batch_Batch_b061,batch_Batch_b062,batch_Batch_b063,batch_Batch_b064,batch_Batch_b065,batch_Batch_b066,batch_Batch_b067,batch_Batch_b068,batch_Batch_b069,batch_Batch_b070,batch_Batch_b071,batch_Batch_b072,batch_Batch_b073,batch_Batch_b074,batch_Batch_b075,batch_Batch_b076,batch_Batch_b077,batch_Batch_b078,batch_Batch_b079,batch_Batch_b080,batch_Batch_b081,batch_Batch_b082,batch_Batch_b083,batch_Batch_b084,batch_Batch_b085,batch_Batch_b086,batch_Batch_b087,batch_Batch_b088,batch_Batch_b089,batch_Batch_b090,batch_Batch_b091,batch_Batch_b092,batch_Batch_b093,batch_Batch_b094,batch_Batch_b095,batch_UKBiLEVEAX_b1,batch_UKBiLEVEAX_b10,batch_UKBiLEVEAX_b11,batch_UKBiLEVEAX_b3,batch_UKBiLEVEAX_b4,batch_UKBiLEVEAX_b5,batch_UKBiLEVEAX_b6,batch_UKBiLEVEAX_b7,batch_UKBiLEVEAX_b8,batch_UKBiLEVEAX_b9,updated_PAP,updated_IIH,updated_Both,updated_PAP_F,updated_IIH_F,updated_Both_F,updated_PAP_M,updated_IIH_M,updated_Both_M\r\n",
      "0,5895328,0.0,0.0,0.0,,,,0.0,0.0,0.0,1.0,1.0,1942.0,-12.5327,4.23522,0.179931,-1.61647,-4.98576,-0.7598689999999999,-0.113473,0.186582,-0.384236,-0.488657,-1.48737,0.587804,2.25847,-6.00507,-3.3261300000000005,-3.22154,-2.72591,-1.17418,-2.78253,-4.7469800000000015,-5.33592,0.519907,2.09636,3.66928,0.590669,-0.00976455,-0.186151,-0.25832,-0.21618,-1.4265,-1.03428,0.20172,2.04728,-4.50041,-0.419695,-1.41219,5.0116,-2.04177,-0.329472,-0.6102310000000001,0.0,0.0,1.0,0.0,0.0,0.0,0.0,0.0,0.0,0.0,0.0,0.0,0.0,0.0,0.0,0.0,0.0,0.0,0.0,0.0,0.0,0.0,0.0,0.0,0.0,0.0,0.0,0.0,0.0,0.0,0.0,0.0,0.0,0.0,0.0,0.0,0.0,0.0,0.0,0.0,0.0,0.0,0.0,0.0,0.0,0.0,0.0,0.0,0.0,0.0,0.0,0.0,0.0,0.0,0.0,0.0,0.0,0.0,0.0,0.0,0.0,0.0,0.0,0.0,0.0,0.0,0.0,1.0,0.0,0.0,0.0,0.0,0.0,0.0,0.0,0.0,0.0,0.0,0.0,0.0,0.0,0.0,0.0,0.0,0.0,0.0,0.0,0.0,0.0,0.0,0.0,0.0,0.0,0.0,0.0,0.0,0.0,0.0,0.0,0.0,0.0,0.0,0.0,0.0,0.0,0.0,0.0,0.0,0.0,0.0,0.0,0.0,0.0,0.0,0.0,0.0,0.0,0.0,0.0,0.0,0.0,0.0,0.0,0.0,0.0,0.0,0.0,0.0,0.0,0.0,0.0,0.0,0.0,,,,0.0,0.0,0.0\r\n"
     ]
    }
   ],
   "source": [
    "!head -n 2 /cs/labs/michall/roeizucker/IIH/PWAS/ukbb_dataset_updated.csv"
   ]
  },
  {
   "cell_type": "code",
   "execution_count": 68,
   "id": "ee5f11ee",
   "metadata": {},
   "outputs": [],
   "source": [
    "for phen in requested_phenotypes_list:\n",
    "    df[phen[1]] = df.apply(lambda x: find_phen(x,phen[0],phen[2]),axis=1)\n",
    "df[\"eid\"] = df[\"Participant ID\"]"
   ]
  },
  {
   "cell_type": "code",
   "execution_count": 71,
   "id": "500946fe",
   "metadata": {},
   "outputs": [],
   "source": [
    "small_df = df[[\"eid\"] + list(map(lambda x:x[1],requested_phenotypes_list))]"
   ]
  },
  {
   "cell_type": "code",
   "execution_count": 73,
   "id": "4e33a745",
   "metadata": {},
   "outputs": [],
   "source": [
    "updated_df = pd.merge(old_df,small_df,on=\"eid\",how=\"left\")"
   ]
  },
  {
   "cell_type": "code",
   "execution_count": 98,
   "id": "83568833",
   "metadata": {},
   "outputs": [
    {
     "data": {
      "text/html": [
       "<div>\n",
       "<style scoped>\n",
       "    .dataframe tbody tr th:only-of-type {\n",
       "        vertical-align: middle;\n",
       "    }\n",
       "\n",
       "    .dataframe tbody tr th {\n",
       "        vertical-align: top;\n",
       "    }\n",
       "\n",
       "    .dataframe thead th {\n",
       "        text-align: right;\n",
       "    }\n",
       "</style>\n",
       "<table border=\"1\" class=\"dataframe\">\n",
       "  <thead>\n",
       "    <tr style=\"text-align: right;\">\n",
       "      <th></th>\n",
       "      <th>Participant ID</th>\n",
       "      <th>Year of birth(participant - p34)</th>\n",
       "      <th>Sex</th>\n",
       "      <th>Diagnoses - ICD10</th>\n",
       "      <th>updated_PAP</th>\n",
       "      <th>updated_IIH</th>\n",
       "      <th>updated_Both</th>\n",
       "      <th>updated_PAP_F</th>\n",
       "      <th>updated_IIH_F</th>\n",
       "      <th>updated_Both_F</th>\n",
       "      <th>updated_PAP_M</th>\n",
       "      <th>updated_IIH_M</th>\n",
       "      <th>updated_Both_M</th>\n",
       "      <th>eid</th>\n",
       "    </tr>\n",
       "  </thead>\n",
       "  <tbody>\n",
       "    <tr>\n",
       "      <th>135602</th>\n",
       "      <td>2745120</td>\n",
       "      <td>1945.0</td>\n",
       "      <td>Male</td>\n",
       "      <td>A09.9 Gastroenteritis and colitis of unspecifi...</td>\n",
       "      <td>0.0</td>\n",
       "      <td>0.0</td>\n",
       "      <td>0.0</td>\n",
       "      <td>NaN</td>\n",
       "      <td>NaN</td>\n",
       "      <td>NaN</td>\n",
       "      <td>0.0</td>\n",
       "      <td>0.0</td>\n",
       "      <td>0.0</td>\n",
       "      <td>2745120</td>\n",
       "    </tr>\n",
       "  </tbody>\n",
       "</table>\n",
       "</div>"
      ],
      "text/plain": [
       "        Participant ID  Year of birth(participant - p34)   Sex  \\\n",
       "135602         2745120                            1945.0  Male   \n",
       "\n",
       "                                        Diagnoses - ICD10  updated_PAP  \\\n",
       "135602  A09.9 Gastroenteritis and colitis of unspecifi...          0.0   \n",
       "\n",
       "        updated_IIH  updated_Both  updated_PAP_F  updated_IIH_F  \\\n",
       "135602          0.0           0.0            NaN            NaN   \n",
       "\n",
       "        updated_Both_F  updated_PAP_M  updated_IIH_M  updated_Both_M      eid  \n",
       "135602             NaN            0.0            0.0             0.0  2745120  "
      ]
     },
     "execution_count": 98,
     "metadata": {},
     "output_type": "execute_result"
    }
   ],
   "source": [
    "df[df[\"eid\"] == 2745120]"
   ]
  },
  {
   "cell_type": "code",
   "execution_count": 76,
   "id": "7f503d90",
   "metadata": {},
   "outputs": [],
   "source": [
    "updated_df.to_csv(RESULT_PATH,index=False)"
   ]
  },
  {
   "cell_type": "code",
   "execution_count": 97,
   "id": "4a5645c3",
   "metadata": {},
   "outputs": [
    {
     "data": {
      "text/html": [
       "<div>\n",
       "<style scoped>\n",
       "    .dataframe tbody tr th:only-of-type {\n",
       "        vertical-align: middle;\n",
       "    }\n",
       "\n",
       "    .dataframe tbody tr th {\n",
       "        vertical-align: top;\n",
       "    }\n",
       "\n",
       "    .dataframe thead th {\n",
       "        text-align: right;\n",
       "    }\n",
       "</style>\n",
       "<table border=\"1\" class=\"dataframe\">\n",
       "  <thead>\n",
       "    <tr style=\"text-align: right;\">\n",
       "      <th></th>\n",
       "      <th>eid</th>\n",
       "      <th>updated_Both</th>\n",
       "      <th>both</th>\n",
       "    </tr>\n",
       "  </thead>\n",
       "  <tbody>\n",
       "    <tr>\n",
       "      <th>40966</th>\n",
       "      <td>2745120</td>\n",
       "      <td>0.0</td>\n",
       "      <td>1.0</td>\n",
       "    </tr>\n",
       "    <tr>\n",
       "      <th>88091</th>\n",
       "      <td>4285638</td>\n",
       "      <td>0.0</td>\n",
       "      <td>1.0</td>\n",
       "    </tr>\n",
       "    <tr>\n",
       "      <th>121994</th>\n",
       "      <td>1593285</td>\n",
       "      <td>0.0</td>\n",
       "      <td>1.0</td>\n",
       "    </tr>\n",
       "    <tr>\n",
       "      <th>139326</th>\n",
       "      <td>3174622</td>\n",
       "      <td>0.0</td>\n",
       "      <td>1.0</td>\n",
       "    </tr>\n",
       "    <tr>\n",
       "      <th>140119</th>\n",
       "      <td>5091310</td>\n",
       "      <td>0.0</td>\n",
       "      <td>1.0</td>\n",
       "    </tr>\n",
       "  </tbody>\n",
       "</table>\n",
       "</div>"
      ],
      "text/plain": [
       "            eid  updated_Both  both\n",
       "40966   2745120           0.0   1.0\n",
       "88091   4285638           0.0   1.0\n",
       "121994  1593285           0.0   1.0\n",
       "139326  3174622           0.0   1.0\n",
       "140119  5091310           0.0   1.0"
      ]
     },
     "execution_count": 97,
     "metadata": {},
     "output_type": "execute_result"
    }
   ],
   "source": [
    "updated_df[(updated_df[\"both\"] ==1 )& (updated_df[\"updated_Both\"] ==0)][[\"eid\",\"updated_Both\",\"both\"]]"
   ]
  },
  {
   "cell_type": "code",
   "execution_count": 99,
   "id": "9c11a7ca",
   "metadata": {},
   "outputs": [
    {
     "data": {
      "text/plain": [
       "['updated_PAP',\n",
       " 'updated_IIH',\n",
       " 'updated_Both',\n",
       " 'updated_PAP_F',\n",
       " 'updated_IIH_F',\n",
       " 'updated_Both_F',\n",
       " 'updated_PAP_M',\n",
       " 'updated_IIH_M',\n",
       " 'updated_Both_M']"
      ]
     },
     "execution_count": 99,
     "metadata": {},
     "output_type": "execute_result"
    }
   ],
   "source": [
    "list(map(lambda x:x[1],requested_phenotypes_list))"
   ]
  }
 ],
 "metadata": {
  "kernelspec": {
   "display_name": "myenv",
   "language": "python",
   "name": "myenv"
  },
  "language_info": {
   "codemirror_mode": {
    "name": "ipython",
    "version": 3
   },
   "file_extension": ".py",
   "mimetype": "text/x-python",
   "name": "python",
   "nbconvert_exporter": "python",
   "pygments_lexer": "ipython3",
   "version": "3.7.3"
  }
 },
 "nbformat": 4,
 "nbformat_minor": 5
}
