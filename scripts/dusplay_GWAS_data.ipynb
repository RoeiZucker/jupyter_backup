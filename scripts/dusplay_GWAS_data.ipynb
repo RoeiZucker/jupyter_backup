{
 "cells": [
  {
   "cell_type": "code",
   "execution_count": 2,
   "id": "19c73593",
   "metadata": {},
   "outputs": [],
   "source": [
    "import pandas as pd"
   ]
  },
  {
   "cell_type": "code",
   "execution_count": 4,
   "id": "bef95561",
   "metadata": {
    "scrolled": false
   },
   "outputs": [],
   "source": [
    "df_african = pd.read_csv(\"/cs/labs/michall/roeizucker/non_caucasian_run_2/GWAS/results/I10_african_with_genes.csv\")\n",
    "df_regular = pd.read_csv(\"/cs/labs/michall/roeizucker/10krun/runs/48:59/GWAS/results/I10_with_genes.csv\")\n",
    "# pd.set_option('display.max_rows', 1000)\n",
    "\n",
    "other_set = set(df_asian[df_asian[\"P\"] < 5*(10**-7)].sort_values(by=['P'])[\"name\"].unique())\n",
    "regular_set = set(df_regular[df_regular[\"P\"] < 5*(10**-7)].sort_values(by=['P'])[\"name\"].unique())"
   ]
  },
  {
   "cell_type": "code",
   "execution_count": 7,
   "id": "628ef6c3",
   "metadata": {},
   "outputs": [
    {
     "data": {
      "text/plain": [
       "15451"
      ]
     },
     "execution_count": 7,
     "metadata": {},
     "output_type": "execute_result"
    }
   ],
   "source": [
    "len(df_african[\"uniprot_id\"].unique())"
   ]
  },
  {
   "cell_type": "code",
   "execution_count": 29,
   "id": "2ea7f3d2",
   "metadata": {},
   "outputs": [
    {
     "name": "stdout",
     "output_type": "stream",
     "text": [
      "19\n",
      "67\n",
      "{'calpain 7', 'MAU2 sister chromatid cohesion factor', 'solute carrier family 4 member 4', 'family with sequence similarity 169 member A', 'tolloid like 2', 'tumor suppressing subtransferable candidate 4', 'nuclear receptor coactivator 3', 'cytochrome c oxidase copper chaperone COX11', 'RHO family interacting cell polarization regulator 2', 'adaptor related protein complex 1 subunit mu 2', 'plakophilin 3', 'USH1 protein network component harmonin', 'collectin subfamily member 10', 'doublesex and mab-3 related transcription factor 1', 'neurogenin 3', 'solute carrier organic anion transporter family member 1B1', 'mitochondrial ribosomal protein S18B', 'SPT16 homolog, facilitates chromatin remodeling subunit', 'alpha 1,3-galactosyltransferase 2'}\n",
      "##############################\n",
      "{'calpain 7', 'MAU2 sister chromatid cohesion factor', 'SET binding protein 1', 'SNRPN upstream open reading frame', 'malignant fibrous histiocytoma amplified sequence 1', 'solute carrier family 4 member 4', 'telomere maintenance 2', 'family with sequence similarity 169 member A', 'gap junction protein alpha 3', 'tolloid like 2', 'tumor suppressing subtransferable candidate 4', 'WASH complex subunit 2C', 'SEC23 interacting protein', 'WD repeat and SOCS box containing 1', 'nuclear receptor coactivator 3', 'cytochrome c oxidase copper chaperone COX11', 'DNA methyltransferase 3 alpha', 'mitotic arrest deficient 1 like 1', 'peroxisomal membrane protein 4', 'ubiquitin specific peptidase 18', 'methionine sulfoxide reductase B2', 'theg spermatid protein', 'solute carrier family 12 member 7', 'RHO family interacting cell polarization regulator 2', 'MT-RNR2 like 13', 'ADAM metallopeptidase with thrombospondin type 1 motif 5', 'mediator complex subunit 16', 'adaptor related protein complex 1 subunit mu 2', 'ribosomal protein S6 kinase like 1', 'serine protease 21', 'sperm flagellar 1', 'stonin 1', 'translocase of inner mitochondrial membrane 13', 'trafficking protein particle complex subunit 1', 'tubulin tyrosine ligase like 3', 'USH1 protein network component harmonin', 'plakophilin 3', 'olfactory receptor family 4 subfamily Q member 3', 'stress associated endoplasmic reticulum protein 1', 'spindlin 1', 'ectonucleotide pyrophosphatase/phosphodiesterase 4', 'collectin subfamily member 10', 'inducible T cell costimulator', 'transforming acidic coiled-coil containing protein 3', 'ADP ribosylation factor guanine nucleotide exchange factor 1', 'doublesex and mab-3 related transcription factor 1', 'scinderin', 'ZFP37 zinc finger protein', 'neurogenin 3', 'TNF receptor superfamily member 18', 'MORC family CW-type zinc finger 2', 'lymphocyte antigen 96', 'ssu-2 homolog', 'olfactory receptor family 1 subfamily A member 2', 'sorting nexin 5', 'cadherin 10', 'ubiquitin specific peptidase 16', 'calcineurin binding protein 1', 'sulfide quinone oxidoreductase', 'lysyl oxidase like 2', 'solute carrier organic anion transporter family member 1B1', 'mitochondrial ribosomal protein S18B', 'family with sequence similarity 50 member B', 'RNA polymerase III subunit K', 'SPT16 homolog, facilitates chromatin remodeling subunit', 'alpha 1,3-galactosyltransferase 2', 'piccolo presynaptic cytomatrix protein'}\n"
     ]
    }
   ],
   "source": [
    "print(len(regular_set))\n",
    "print(len(other_set))\n",
    "print((regular_set.intersection(other_set)))\n",
    "print(\"#\"*30)\n",
    "print(other_set)"
   ]
  }
 ],
 "metadata": {
  "kernelspec": {
   "display_name": "myenv",
   "language": "python",
   "name": "myenv"
  },
  "language_info": {
   "codemirror_mode": {
    "name": "ipython",
    "version": 3
   },
   "file_extension": ".py",
   "mimetype": "text/x-python",
   "name": "python",
   "nbconvert_exporter": "python",
   "pygments_lexer": "ipython3",
   "version": "3.7.3"
  }
 },
 "nbformat": 4,
 "nbformat_minor": 5
}
