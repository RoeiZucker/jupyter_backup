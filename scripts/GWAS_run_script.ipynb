{
 "cells": [
  {
   "cell_type": "code",
   "execution_count": 1,
   "id": "ddc7edb2",
   "metadata": {},
   "outputs": [],
   "source": [
    "import pandas as pd\n",
    "import os\n"
   ]
  },
  {
   "cell_type": "code",
   "execution_count": null,
   "id": "a2d5b8ca",
   "metadata": {},
   "outputs": [],
   "source": []
  },
  {
   "cell_type": "code",
   "execution_count": 24,
   "id": "da0e7813",
   "metadata": {},
   "outputs": [],
   "source": [
    "# script consts\n",
    "PHEN_START = 2\n",
    "VALUE_AT_END_OF_PHENOTYPES = 'const'\n",
    "PLINK_PATH = \"/sci/nosnap/michall/roeizucker/plink2\"\n",
    "BATCH_LENGTH = 250\n",
    "MAX_JOBS_BEFORE_SUBMITTING_NEW_ARRAY = 200\n"
   ]
  },
  {
   "cell_type": "code",
   "execution_count": 28,
   "id": "74e1f06a",
   "metadata": {},
   "outputs": [],
   "source": [
    "# # input files\n",
    "# PHEN_PATH = \"/sci/nosnap/michall/roeizucker/Hypothyroidism_hackaton/ukbb_dataset_filtered.csv\"\n",
    "# GWAS_PATH = \"/sci/nosnap/michall/roeizucker/Hypothyroidism_hackaton/GWAS_FOR_PRS\"\n",
    "# PHENOTYPES = [\"E03_F_reduced\",\"E03_M_reduced\",\"E03_reduced\",\n",
    "#              \"E04_F_reduced\",\"E04_M_reduced\",\"E04_reduced\",\n",
    "#              \"E05_F_reduced\",\"E05_M_reduced\",\"E05_reduced\",\n",
    "#              \"E06_F_reduced\",\"E06_M_reduced\",\"E06_reduced\"\n",
    "#              \"E07_F_reduced\",\"E07_M_reduced\",\"E07_reduced\"]\n",
    "# RESULT_SUFFIX = \"PHENO1.glm.logistic\"\n",
    "# COVARS = []\n",
    "# SPLIT_TO_TRAIN_TEST = True\n",
    "# CREATE_PHENOTYPE_FILES = False\n",
    "# CREATE_COVAR_FILE = True\n",
    "# TRAIN_RATIO = 0.8\n",
    "# input files\n",
    "PHEN_PATH = \"/cs/labs/michall/roeizucker/IIH/PWAS/ukbb_dataset_reduced.csv\"\n",
    "GWAS_PATH = \"/sci/archive/michall/roeizucker/IIH/GWAS_standart\"\n",
    "COVAR_FILE = \"/cs/labs/michall/roeizucker/IIH/GWAS3/covariates.txt\"\n",
    "PHENOTYPES = [\"updated_PAP\",\"updated_IIH\",\"updated_Both\"]\n",
    "RESULT_SUFFIX = \"PHENO1.glm.logistic.hybrid\"\n",
    "COVARS = []\n",
    "SPLIT_TO_TRAIN_TEST = False\n",
    "CREATE_PHENOTYPE_FILES = True\n",
    "CREATE_COVAR_FILE = True\n",
    "TRAIN_RATIO = 0.8\n",
    "NUMBER_OF_THREADS = 30\n",
    "MEMORY_AMOUNT = 24\n",
    "HADASSA_PLINK = \"hadassa\"\n",
    "REDUCED_PLINK = \"reduced\"\n",
    "ALL_PLINK = \"all\"\n",
    "WHOLE_GENOME_STANDART = \"standart\"\n",
    "plink_format = WHOLE_GENOME_STANDART\n",
    "\n",
    "MAF = 1e-3"
   ]
  },
  {
   "cell_type": "code",
   "execution_count": 4,
   "id": "f0c32be3",
   "metadata": {},
   "outputs": [],
   "source": [
    "!mkdir {GWAS_PATH}\n"
   ]
  },
  {
   "cell_type": "code",
   "execution_count": 5,
   "id": "eaab1023",
   "metadata": {},
   "outputs": [],
   "source": [
    "# !head /cs/labs/michall/roeizucker/SKAT_experiments/SetID/ukbb_dataset_withIIH.csv"
   ]
  },
  {
   "cell_type": "code",
   "execution_count": 29,
   "id": "cbcf39bb",
   "metadata": {},
   "outputs": [],
   "source": [
    "def create_files(gwas_path,phen_path,phenotypes):\n",
    "    !mkdir {gwas_path}\n",
    "    !mkdir {gwas_path}/results\n",
    "    !mkdir {gwas_path}/phenotypes\n",
    "#     !cp /cs/labs/michall/roeizucker/10krun/runs/0:11/GWAS_delete_me/covariates.txt {gwas_path}/covariates.txt\n",
    "    !cd {gwas_path}\n",
    "    dataset = pd.read_csv(phen_path)\n",
    "    if not CREATE_PHENOTYPE_FILES:\n",
    "        return\n",
    "    for phenotype_col in phenotypes:\n",
    "        print(phenotype_col)\n",
    "        file_name = phenotype_col.lower().replace(' ', '_').replace('-', '_') + '.txt'\n",
    "        # use eid as fid, because we take one representitive of each family\n",
    "        values = dataset[['eid', 'eid', phenotype_col]].dropna()\n",
    "        if SPLIT_TO_TRAIN_TEST:\n",
    "            values_case = values[values[phenotype_col] == 1]\n",
    "            values_control = values[values[phenotype_col]== 0] \n",
    "            values_case = values_case.sample(int(len(values_case) * TRAIN_RATIO))\n",
    "            values_control = values_control.sample(int(len(values_control) * TRAIN_RATIO))\n",
    "            values = pd.concat([values_case,values_control])\n",
    "        values.to_csv(os.path.join(f\"{gwas_path}/phenotypes\", file_name), \\\n",
    "            header = False, index = False, sep = '\\t')\n",
    "    if COVAR_FILE:\n",
    "        ! cp {COVAR_FILE} {gwas_path}/covariates.txt\n",
    "        # An array is created with all the values needed for running GWAS.\n",
    "# The array will be sorted in batches for better file accessing\n",
    "def create_the_data_file(phenotype_cols,gwas_path,data_file_path):\n",
    "    values = []\n",
    "    last_counter = 0\n",
    "    cur_phen_counter = 0\n",
    "    counter = 0\n",
    "    for phen in phenotype_cols:\n",
    "        base_path =  gwas_path\n",
    "        for j in range(1,23):\n",
    "            if os.path.exists(os.path.join(base_path ,f\"results/{phen.lower()}_chr{j}.PHENO1.glm.linear\")) or \\\n",
    "            os.path.exists(os.path.join(base_path ,f\"results/{phen.lower()}_chr{j}.PHENO1.glm.logistic\")) or \\\n",
    "            os.path.exists(os.path.join(base_path ,f\"results/{phen.lower()}_chr{j}.{RESULT_SUFFIX}\")):\n",
    "#                 print(\"a\")\n",
    "                continue\n",
    "            \n",
    "            # TODO: change location of plink files to be const\n",
    "            if plink_format == HADASSA_PLINK:\n",
    "                values.append([counter,os.path.join(base_path, \"phenotypes/\"+ phen.lower() + \".txt\"),\n",
    "                               os.path.join(base_path, f\"results/{phen.lower()}_chr{j}\"),\n",
    "                               f\"/cs/snapless/michall/hadasak/improve_PRS/bed_files/chr{j}_imputed_snp_id_filtered\"\n",
    "                               ,os.path.join(base_path ,\"covariates.txt\"),j])\n",
    "            elif plink_format == REDUCED_PLINK:\n",
    "                values.append([counter,os.path.join(base_path, \"phenotypes/\"+ phen.lower() + \".txt\"),\n",
    "                               os.path.join(base_path, f\"results/{phen.lower()}_chr{j}\"),\n",
    "                               f\"/cs/labs/michall/roeizucker/plink_results/reduced_snps2/small_ch{j}\"\n",
    "                               ,os.path.join(base_path ,\"covariates.txt\"),j])\n",
    "            elif plink_format == ALL_PLINK:\n",
    "                values.append([counter,os.path.join(base_path, \"phenotypes/\"+ phen.lower() + \".txt\"),\n",
    "                               os.path.join(base_path, f\"results/{phen.lower()}_chr{j}\"),\n",
    "                               f\"/cs/biobank-genetics/EGAD00010001226/001/ukb_snp_chr{j}_v2\"\n",
    "                               ,os.path.join(base_path ,\"covariates.txt\"),j])\n",
    "            elif plink_format == WHOLE_GENOME_STANDART:\n",
    "                values.append([counter,os.path.join(base_path, \"phenotypes/\"+ phen.lower() + \".txt\"),\n",
    "                               os.path.join(base_path, f\"results/{phen.lower()}_chr{j}\"),\n",
    "                               f\"/sci/archive/michall/roeizucker/standart_genetics/chr{j}_filtered_mafe-6_hwee-5_geno_02\"\n",
    "                               ,os.path.join(base_path ,\"covariates.txt\"),j])\n",
    "                \n",
    "            counter+=1\n",
    "        cur_phen_counter+=1\n",
    "        if cur_phen_counter%BATCH_LENGTH == 0:\n",
    "            values[last_counter:counter] = sorted(values[last_counter:counter],key = lambda x:x[-1])\n",
    "            last_counter = counter\n",
    "    values[last_counter:counter] = sorted(values[last_counter:counter],key = lambda x:x[-1])\n",
    "    df = pd.DataFrame(values, columns=[\"unsorted_counter\",\"phenotype_path\",\"output_path\",\"partial_chromosome_file_path\", \"covariates\",\"chr\"])\n",
    "    df.to_csv(data_file_path)\n",
    "\n",
    "\n",
    "def write_mediator_script(mediator_script_path,data_file_path,gwas_path):\n",
    "    with open(mediator_script_path, \"w\") as mediator_file:\n",
    "        mediator_file.write(f'''import pandas as pd\n",
    "import sys\n",
    "import os\n",
    "import os.path\n",
    "butch_num = int(sys.argv[1]) \n",
    "curr_task = int(sys.argv[2])\n",
    "BATCH_LENGTH = {BATCH_LENGTH}\n",
    "SKIP_POINT = {MAX_JOBS_BEFORE_SUBMITTING_NEW_ARRAY}\n",
    "PLINK_PATH = \"{PLINK_PATH}\"\n",
    "plink_format = \"{plink_format}\"\n",
    "data_file_path = \"{data_file_path}\"\n",
    "NUMBER_OF_THREADS = {NUMBER_OF_THREADS}\n",
    "MEMORY_AMOUNT = {MEMORY_AMOUNT}\n",
    "df = pd.read_csv(data_file_path)\n",
    "print(df.loc[butch_num * BATCH_LENGTH + curr_task])\n",
    "val = df.loc[butch_num * BATCH_LENGTH + curr_task]\n",
    "location = butch_num * BATCH_LENGTH + curr_task\n",
    "if curr_task == SKIP_POINT and location < 30500:\n",
    "    new_batch  = butch_num + 1\n",
    "    if not os.path.isfile(\"{gwas_path}_\" + str(new_batch) + \"_flag\"):\n",
    "        os.system(\"sbatch --array=0-\"+str(BATCH_LENGTH - 1)+\" --mem=\"+str(MEMORY_AMOUNT + 1)+\" -c{NUMBER_OF_THREADS}--time=3-0 --killable --requeue --wrap=\\\\\"{os.path.join( gwas_path,\"master.sh\")} \"+str(new_batch)+\"\\\\\"\")\n",
    "if location < 30500:\n",
    "    if plink_format == \"{ALL_PLINK}\":\n",
    "        print(PLINK_PATH + \" --bed \" + str(df.loc[location].partial_chromosome_file_path).replace(\"snp\",\"cal\") + \".bed --bim \" + df.loc[location].partial_chromosome_file_path + \".bim --fam /cs/labs/michall/roeizucker/plink_results/reduced_snps2/small_ch9.fam --pheno \" + df.loc[location].phenotype_path + \" --covar \" + df.loc[location].covariates + \"  --out  \" + df.loc[location].output_path + \" --1 --glm hide-covar --covar-variance-standardize --freq --threads {NUMBER_OF_THREADS} --maf {MAF} --hwe 1e-6 --geno 0.1 --memory \" + str(MEMORY_AMOUNT * 1000) ,flush=True)\n",
    "        os.system(PLINK_PATH + \" --bed \" + str(df.loc[location].partial_chromosome_file_path).replace(\"snp\",\"cal\") + \".bed --bim \" + df.loc[location].partial_chromosome_file_path + \".bim --fam /cs/labs/michall/roeizucker/plink_results/reduced_snps2/small_ch9.fam --pheno \" + df.loc[location].phenotype_path + \" --covar \" + df.loc[location].covariates + \"  --out  \" + df.loc[location].output_path + \" --1 --glm hide-covar --covar-variance-standardize --freq --threads {NUMBER_OF_THREADS} --maf {MAF} --hwe 1e-6 --geno 0.1 --memory \" +str(MEMORY_AMOUNT * 1000))\n",
    "    else:\n",
    "        print(PLINK_PATH + \" --bed \" + df.loc[location].partial_chromosome_file_path + \".bed --bim \" + df.loc[location].partial_chromosome_file_path + \".bim --fam \"+df.loc[location].partial_chromosome_file_path + \".fam --pheno \" + df.loc[location].phenotype_path + \" --covar \" + df.loc[location].covariates + \"  --out  \" + df.loc[location].output_path + \" --1 --glm hide-covar --covar-variance-standardize --freq --threads {NUMBER_OF_THREADS} --maf {MAF} --hwe 1e-6 --geno 0.1 --memory \" + str(MEMORY_AMOUNT * 1000),flush=True)\n",
    "        os.system(PLINK_PATH + \" --bed \" + df.loc[location].partial_chromosome_file_path + \".bed --bim \" + df.loc[location].partial_chromosome_file_path + \".bim --fam \"+df.loc[location].partial_chromosome_file_path + \".fam --pheno \" + df.loc[location].phenotype_path + \" --covar \" + df.loc[location].covariates + \"  --out  \" + df.loc[location].output_path + \" --1 --glm hide-covar --covar-variance-standardize --freq --threads {NUMBER_OF_THREADS} --maf {MAF} --hwe 1e-6 --geno 0.1 --memory \" + str(MEMORY_AMOUNT * 1000))\n",
    "    print(\"done!\")\n",
    "''')\n",
    "\n",
    "def write_master_script(master_script_path,mediator_script_path,gwas_path):\n",
    "    with open(master_script_path, \"w\") as master_file:\n",
    "        master_file.write(f'''\n",
    "FILE={gwas_path}_$1_flag\n",
    "if ! test \"$FILE\" \n",
    "then \n",
    "    touch {gwas_path}_$1_flag\n",
    "fi\n",
    "python {mediator_script_path} $1 $SLURM_ARRAY_TASK_ID\n",
    "''')\n",
    "    !chmod 744 {master_script_path}\n"
   ]
  },
  {
   "cell_type": "code",
   "execution_count": 7,
   "id": "1fdb47fb",
   "metadata": {},
   "outputs": [],
   "source": [
    "# # data_file_path = os.path.join(GWAS_PATH, \"data_file.csv\")\n",
    "# # create_the_data_file(PHENOTYPES,GWAS_PATH,data_file_path)\n",
    "# var = \"/cs/biobank-genetics/EGAD00010001226/001/ukb_snp_chr1_v2.bed\"\n",
    "# print(var)\n",
    "# print(str(var).replace(\"snp\",\"cal\"))"
   ]
  },
  {
   "cell_type": "code",
   "execution_count": 8,
   "id": "0694cfea",
   "metadata": {},
   "outputs": [],
   "source": [
    "# master_script_path = os.path.join(GWAS_PATH , \"master.sh\")\n",
    "# print(f'''how to run:\n",
    "# sbatch --array=0-263 --mem=12g -c10 --time=3-0 --requeue --killable --wrap=\"{master_script_path} 0\"''')"
   ]
  },
  {
   "cell_type": "code",
   "execution_count": 30,
   "id": "790c772e",
   "metadata": {},
   "outputs": [
    {
     "name": "stdout",
     "output_type": "stream",
     "text": [
      "mkdir: cannot create directory ‘/sci/archive/michall/roeizucker/IIH/GWAS_standart’: File exists\n",
      "mkdir: cannot create directory ‘/sci/archive/michall/roeizucker/IIH/GWAS_standart/results’: File exists\n",
      "mkdir: cannot create directory ‘/sci/archive/michall/roeizucker/IIH/GWAS_standart/phenotypes’: File exists\n",
      "updated_PAP\n",
      "updated_IIH\n",
      "updated_Both\n",
      "how to run:\n",
      "sbatch --array=0-263 --mem=25g -c30 --time=5-0 --requeue --killable --wrap=\"/sci/archive/michall/roeizucker/IIH/GWAS_standart/master.sh 0\"\n"
     ]
    }
   ],
   "source": [
    "# script body (will be transferred to another file)\n",
    "\n",
    "\n",
    "# TODO: add verbous argument, and better explain the output\n",
    "\n",
    "# set input \n",
    "# TODO: change so it is accepted as params\n",
    "phen_path = PHEN_PATH\n",
    "gwas_path = GWAS_PATH\n",
    "\n",
    "# do stuff\n",
    "phenotype_cols = list(pd.read_csv(PHEN_PATH))\n",
    "phenotype_cols = phenotype_cols[2:phenotype_cols.index(VALUE_AT_END_OF_PHENOTYPES)]\n",
    "\n",
    "# we will use the phenotypes parameter only if it exists\n",
    "if len (PHENOTYPES) > 0:\n",
    "    phenotype_cols = PHENOTYPES\n",
    "    \n",
    "# TODO: chnage so names are consts\n",
    "data_file_path = os.path.join(gwas_path, \"data_file.csv\")\n",
    "mediator_script_path = os.path.join(gwas_path , \"mediator.py\")\n",
    "master_script_path = os.path.join(gwas_path , \"master.sh\")\n",
    "\n",
    "create_files(gwas_path,phen_path,phenotype_cols)\n",
    "create_the_data_file(phenotype_cols,gwas_path,data_file_path)\n",
    "write_mediator_script(mediator_script_path,data_file_path,gwas_path)\n",
    "write_master_script(master_script_path,mediator_script_path,gwas_path)\n",
    "\n",
    "# TODO: add output folder\n",
    "print(f'''how to run:\n",
    "sbatch --array=0-263 --mem={MEMORY_AMOUNT + 1}g -c{NUMBER_OF_THREADS} --time=5-0 --requeue --killable --wrap=\"{master_script_path} 0\"''')"
   ]
  },
  {
   "cell_type": "code",
   "execution_count": 31,
   "id": "a1376003",
   "metadata": {},
   "outputs": [],
   "source": [
    "create_the_data_file(phenotype_cols,gwas_path,data_file_path)"
   ]
  },
  {
   "cell_type": "code",
   "execution_count": 10,
   "id": "b93e79b5",
   "metadata": {},
   "outputs": [
    {
     "ename": "SyntaxError",
     "evalue": "invalid syntax (320769369.py, line 1)",
     "output_type": "error",
     "traceback": [
      "\u001b[0;36m  File \u001b[0;32m\"/var/tmp/ipykernel_9282/320769369.py\"\u001b[0;36m, line \u001b[0;32m1\u001b[0m\n\u001b[0;31m    sbatch --array=0-68 --mem=25g -c30 --time=5-0 --requeue --killable --wrap=\"/cs/labs/michall/roeizucker/IIH/GWAS_coding/master.sh 0\"\u001b[0m\n\u001b[0m                                ^\u001b[0m\n\u001b[0;31mSyntaxError\u001b[0m\u001b[0;31m:\u001b[0m invalid syntax\n"
     ]
    }
   ],
   "source": [
    "\n",
    "sbatch --array=0-3 --mem=25g -c30 --time=5-0 --requeue --killable --wrap=\"/sci/archive/michall/roeizucker/IIH/GWAS_standart/master.sh 0\"\n"
   ]
  },
  {
   "cell_type": "code",
   "execution_count": null,
   "id": "23ce5358",
   "metadata": {},
   "outputs": [],
   "source": [
    "# master_script_path = priority_gwas_dir + \"master.sh\"\n",
    "\n",
    "# (mediator_script_path,data_file_path,gwas_path)\n",
    "master_script_path"
   ]
  },
  {
   "cell_type": "code",
   "execution_count": null,
   "id": "0d5e6785",
   "metadata": {},
   "outputs": [],
   "source": [
    "pd.read_csv(data_file_path)"
   ]
  },
  {
   "cell_type": "code",
   "execution_count": null,
   "id": "2c1521cd",
   "metadata": {},
   "outputs": [],
   "source": [
    "print(f'''how to run:\n",
    "sbatch --array=0-263 --mem=12g -c10 --time=3-0ס --wrap=\"{master_script_path} 0\"''')"
   ]
  },
  {
   "cell_type": "markdown",
   "id": "921fbfbb",
   "metadata": {},
   "source": [
    "## combines GWAS results"
   ]
  },
  {
   "cell_type": "code",
   "execution_count": 32,
   "id": "71878eb2",
   "metadata": {},
   "outputs": [
    {
     "name": "stdout",
     "output_type": "stream",
     "text": [
      "/sci/archive/michall/roeizucker/IIH/GWAS_standart/results/updated_PAP.csv\n",
      "/sci/archive/michall/roeizucker/IIH/GWAS_standart/results/updated_IIH.csv\n",
      "/sci/archive/michall/roeizucker/IIH/GWAS_standart/results/updated_Both.csv\n"
     ]
    }
   ],
   "source": [
    "import glob, os\n",
    "# path = \"/cs/labs/michall/roeizucker/10krun/runs/48:59/GWAS/results\"\n",
    "# os.chdir(path)\n",
    "path = os.path.join(GWAS_PATH,\"results\")\n",
    "# files = []\n",
    "# for file in glob.glob(\"*.glm.*\"):\n",
    "#     files.append(file)\n",
    "phens = PHENOTYPES\n",
    "for phen in phens:\n",
    "    dataframes = []\n",
    "    for j in range(1,23):\n",
    "#         change so logistic/liner is detrmined generically\n",
    "        file_name = os.path.join(path,f\"{phen.lower()}_chr{j}.{RESULT_SUFFIX}\")\n",
    "        try:\n",
    "            df = pd.read_csv(file_name,sep=\"\\t\")\n",
    "            dataframes.append(df)\n",
    "        except pd.errors.EmptyDataError:\n",
    "            print(file_name)\n",
    "            continue\n",
    "        except FileNotFoundError:\n",
    "            print(file_name)\n",
    "            continue\n",
    "    if len(dataframes) == 0:\n",
    "        continue\n",
    "    master_df = pd.concat(dataframes)\n",
    "    master_df.to_csv(f\"{os.path.join(path,phen)}.csv\",index=False)\n",
    "    print(f\"{os.path.join(path,phen)}.csv\")"
   ]
  },
  {
   "cell_type": "code",
   "execution_count": null,
   "id": "0735f821",
   "metadata": {},
   "outputs": [],
   "source": [
    "os.path.join(path,phen)"
   ]
  },
  {
   "cell_type": "code",
   "execution_count": 44,
   "id": "38fe86dc",
   "metadata": {},
   "outputs": [],
   "source": [
    "#delete this\n",
    "df = pd.read_csv(\"/sci/archive/michall/roeizucker/IIH/GWAS_standart/results/updated_PAP_genes1.csv\")\n",
    "df = df[df[\"P\"] < 5*10**-5]\n",
    "df.to_csv(\"/sci/archive/michall/roeizucker/IIH/GWAS_standart/results/updated_PAP_with_genes_e-5.csv\")"
   ]
  },
  {
   "cell_type": "code",
   "execution_count": 48,
   "id": "8e0f8929",
   "metadata": {
    "scrolled": true
   },
   "outputs": [
    {
     "data": {
      "text/plain": [
       "no_gene_found    1987\n",
       "NXPH1              53\n",
       "SLC27A6            20\n",
       "TMEM132D           19\n",
       "MROH2B             11\n",
       "                 ... \n",
       "SNRNP48             1\n",
       "FARS2               1\n",
       "SLC22A23            1\n",
       "ADAMTS2             1\n",
       "TBC1D22A            1\n",
       "Name: gene_symbol, Length: 629, dtype: int64"
      ]
     },
     "execution_count": 48,
     "metadata": {},
     "output_type": "execute_result"
    }
   ],
   "source": [
    "df = pd.read_csv(\"/sci/archive/michall/roeizucker/IIH/GWAS_standart/results/updated_Both_with_genes_e-5.csv\")\n",
    "df[\"gene_symbol\"].value_counts()"
   ]
  },
  {
   "cell_type": "code",
   "execution_count": null,
   "id": "3065aeb6",
   "metadata": {},
   "outputs": [],
   "source": [
    "/sci/archive/michall/roeizucker/IIH/GWAS_standart/results/*_genes_e-5.csv"
   ]
  }
 ],
 "metadata": {
  "kernelspec": {
   "display_name": "Python 3 (ipykernel)",
   "language": "python",
   "name": "python3"
  },
  "language_info": {
   "codemirror_mode": {
    "name": "ipython",
    "version": 3
   },
   "file_extension": ".py",
   "mimetype": "text/x-python",
   "name": "python",
   "nbconvert_exporter": "python",
   "pygments_lexer": "ipython3",
   "version": "3.7.3"
  }
 },
 "nbformat": 4,
 "nbformat_minor": 5
}
