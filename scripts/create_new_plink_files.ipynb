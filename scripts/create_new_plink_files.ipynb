{
 "cells": [
  {
   "cell_type": "code",
   "execution_count": 6,
   "id": "ef2b9eba",
   "metadata": {},
   "outputs": [],
   "source": [
    "import pandas as pd\n",
    "import numpy as np\n",
    "import os"
   ]
  },
  {
   "cell_type": "code",
   "execution_count": 5,
   "id": "73f7a107",
   "metadata": {},
   "outputs": [],
   "source": [
    "ORIG_GENETICS_FILE_PATH= \"/cs/biobank-genetics/EGAD00010001474\"\n",
    "DEST = \"/sci/archive/michall/roeizucker/standart_genetics\"\n",
    "#   --maf 0.000001 --geno 0.2 --hwe 1e-5\n",
    "MAF = 1e-6\n",
    "GENO = 0.2\n",
    "HWE = 1e-10\n",
    "CHROMOSOMES = list(range(1,23)) + [\"X\",\"XY\"]"
   ]
  },
  {
   "cell_type": "code",
   "execution_count": null,
   "id": "e544ac0d",
   "metadata": {},
   "outputs": [],
   "source": []
  },
  {
   "cell_type": "code",
   "execution_count": 8,
   "id": "fb89bcce",
   "metadata": {},
   "outputs": [
    {
     "name": "stdout",
     "output_type": "stream",
     "text": [
      "sbatch --mem=55g -c40 --time=5-0 --requeue --killable --wrap=\"/sci/archive/michall/roeizucker/standart_genetics/make22.sh\"\n"
     ]
    }
   ],
   "source": [
    "# /cs/usr/hadasak/apps/plink2 --bgen /cs/biobank-genetics/EGAD00010001474/ukb_imp_chr19_v3.bgen ref-first --sample /cs/biobank-genetics/EGAD00010001474/ukb26664_imp_chr19_v3.sample  --maf 0.000001 --geno 0.2 --hwe 1e-5 --make-bed --out /cs/labs/michall/roeizucker/standart_genetics/chr19_filtered_mafe-6_hwee-5_geno_02\n",
    "for chrom in CHROMOSOMES:\n",
    "    out_file_name = f'{DEST}/chr{chrom}_filtered_mafe-6_hwee-5_geno_{str(GENO).replace(\".\",\"\")}'\n",
    "    if not os.path.exists(out_file_name + \".bed\"):\n",
    "        command =f'/cs/usr/hadasak/apps/plink2 --bgen {ORIG_GENETICS_FILE_PATH}/ukb_imp_chr{chrom}_v3.bgen ref-first --sample {ORIG_GENETICS_FILE_PATH}/ukb26664_imp_chr{chrom}_v3.sample  --maf {MAF} --geno {GENO} --hwe {HWE} --make-bed --out {out_file_name} --memory 54000 --threads 39'\n",
    "        script_path = os.path.join(DEST,f\"make{chrom}.sh\")\n",
    "        with open(script_path,\"w\") as f:\n",
    "            f.write(command + \"\\n\")\n",
    "        \n",
    "        !chmod 744 {script_path}\n",
    "        print(f'sbatch --mem=55g -c40 --time=5-0 --requeue --killable --wrap=\"{script_path}\"')"
   ]
  },
  {
   "cell_type": "code",
   "execution_count": null,
   "id": "245f4396",
   "metadata": {},
   "outputs": [],
   "source": []
  }
 ],
 "metadata": {
  "kernelspec": {
   "display_name": "Python 3 (ipykernel)",
   "language": "python",
   "name": "python3"
  },
  "language_info": {
   "codemirror_mode": {
    "name": "ipython",
    "version": 3
   },
   "file_extension": ".py",
   "mimetype": "text/x-python",
   "name": "python",
   "nbconvert_exporter": "python",
   "pygments_lexer": "ipython3",
   "version": "3.7.3"
  }
 },
 "nbformat": 4,
 "nbformat_minor": 5
}
