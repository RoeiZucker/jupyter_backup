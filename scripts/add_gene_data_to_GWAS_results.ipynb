{
 "cells": [
  {
   "cell_type": "code",
   "execution_count": 1,
   "id": "1d12f97a",
   "metadata": {},
   "outputs": [],
   "source": [
    "# jupyter imports\n",
    "from IPython.display import clear_output\n"
   ]
  },
  {
   "cell_type": "code",
   "execution_count": 2,
   "id": "8f7182b4",
   "metadata": {},
   "outputs": [],
   "source": [
    "import pandas as pd"
   ]
  },
  {
   "cell_type": "code",
   "execution_count": 3,
   "id": "6074619f",
   "metadata": {},
   "outputs": [],
   "source": [
    "FILE_TO_ADD_PATH =  '/cs/labs/michall/roeizucker/IIH/GWAS_coding/results/updated_Both.csv'\n",
    "FILE_TO_CREATE_PATH = '/cs/labs/michall/roeizucker/IIH/GWAS_coding/results/updated_Both_with_genes.csv'\n",
    "GENE_FILE_PATH = '/cs/labs/michall/roeizucker/virt_env_install_test/genes_hg19.csv'\n",
    "WORK_ONLY_FOR_RES_VARIANTS = True"
   ]
  },
  {
   "cell_type": "code",
   "execution_count": 4,
   "id": "c806ffac",
   "metadata": {},
   "outputs": [],
   "source": [
    "CHR_SYMBOL = \"#CHROM\"\n",
    "POS_SYMBOL = \"POS\"\n",
    "PVAL_SYMBOL = \"P\""
   ]
  },
  {
   "cell_type": "code",
   "execution_count": 5,
   "id": "7ca745aa",
   "metadata": {},
   "outputs": [],
   "source": [
    "    # def add_genes_for_snps_symbol(df,genes_csv):\n",
    "#     df_length = len(df)\n",
    "#     sig_genes = set()\n",
    "#     for index, row in df.iterrows():\n",
    "#         if index % 1000 == 0:\n",
    "#             print(f\"{index}/{df_length}\")\n",
    "#         curr = (genes_csv.query(\"chr == '\" + str(row[CHR_SYMBOL]) + \"' and cds_start <= \" + str(row[POS_SYMBOL]) + \"and cds_end >= \" + str(row[POS_SYMBOL])))\n",
    "#         if len(list(curr[\"symbol\"])) == 0:\n",
    "#             df.loc[index,\"gene\"] = \"no gene found\"\n",
    "#             df.loc[index,\"length\"] = -1\n",
    "#         else:\n",
    "#             df.loc[index,\"gene_symbol\"] = str(list(curr[\"symbol\"])[0])\n",
    "#             df.loc[index,\"uniprot_id\"] = str(list(curr[\"uniprot_id\"])[0])\n",
    "#             df.loc[index,\"length\"] = int(list(curr[\"cds_end\"])[0]) - int(list(curr[\"cds_start\"])[0])\n",
    "#             df.loc[index,\"name\"] = str(list(curr[\"name\"])[0])\n"
   ]
  },
  {
   "cell_type": "code",
   "execution_count": 6,
   "id": "c00258de",
   "metadata": {},
   "outputs": [],
   "source": [
    "def add_genes_for_snps_symbol(df,genes_csv):\n",
    "    df_length = len(genes_csv)\n",
    "    df[\"gene_symbol\"] = \"no_gene_found\"\n",
    "    df[\"length\"] = -1\n",
    "    for index, row in genes_csv.iterrows():\n",
    "        if index % 100 == 0:\n",
    "            clear_output(wait=True)\n",
    "            print(str(int(index/df_length * 100)) + \"%\")\n",
    "        condition = (df[\"#CHROM\"].astype(str) == str(row['chr'])) & (df[\"POS\"].astype(int) >= int(row[\"cds_start\"]))  & (df[\"POS\"].astype(int) <= int(row[\"cds_end\"]))\n",
    "        df.loc[condition, \"gene_symbol\"] = row[\"symbol\"]\n",
    "        df.loc[condition, \"uniprot_id\"] = row[\"uniprot_id\"]\n",
    "        df.loc[condition, \"length\"] = int( int(row[\"cds_end\"] - row[\"cds_start\"]))\n",
    "        df.loc[condition, \"name\"] = row[\"name\"]\n",
    "        \n"
   ]
  },
  {
   "cell_type": "code",
   "execution_count": null,
   "id": "81b32bb9",
   "metadata": {
    "scrolled": true
   },
   "outputs": [
    {
     "name": "stdout",
     "output_type": "stream",
     "text": [
      "44%\n"
     ]
    }
   ],
   "source": [
    "df = pd.read_csv(FILE_TO_ADD_PATH)\n",
    "if WORK_ONLY_FOR_RES_VARIANTS:\n",
    "    df = df[df[PVAL_SYMBOL].notnull()]\n",
    "genes_df = pd.read_csv(GENE_FILE_PATH)\n",
    "add_genes_for_snps_symbol(df,genes_df)\n",
    "df[\"length\"] = df[\"length\"].astype(int)\n",
    "df.to_csv(FILE_TO_CREATE_PATH)"
   ]
  },
  {
   "cell_type": "code",
   "execution_count": null,
   "id": "81e480b1",
   "metadata": {},
   "outputs": [],
   "source": [
    "df[df[\"P\"] < 0.00005]"
   ]
  },
  {
   "cell_type": "code",
   "execution_count": null,
   "id": "1b0883ca",
   "metadata": {},
   "outputs": [],
   "source": [
    "# df = df.drop(\"GENE\",axis='columns')\n",
    "# df.to_csv(FILE_TO_CREATE_PATH)"
   ]
  },
  {
   "cell_type": "code",
   "execution_count": null,
   "id": "5481824a",
   "metadata": {},
   "outputs": [],
   "source": [
    "genes_df[(genes_df[\"chr\"] == \"1\") & (genes_df[\"cds_start\"] < 11253684) & (genes_df[\"cds_end\"] > 11253684)]"
   ]
  },
  {
   "cell_type": "code",
   "execution_count": null,
   "id": "c15acc73",
   "metadata": {},
   "outputs": [],
   "source": [
    "df"
   ]
  }
 ],
 "metadata": {
  "kernelspec": {
   "display_name": "Python 3 (ipykernel)",
   "language": "python",
   "name": "python3"
  },
  "language_info": {
   "codemirror_mode": {
    "name": "ipython",
    "version": 3
   },
   "file_extension": ".py",
   "mimetype": "text/x-python",
   "name": "python",
   "nbconvert_exporter": "python",
   "pygments_lexer": "ipython3",
   "version": "3.7.3"
  }
 },
 "nbformat": 4,
 "nbformat_minor": 5
}
