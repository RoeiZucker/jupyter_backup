{
 "cells": [
  {
   "cell_type": "code",
   "execution_count": 1,
   "id": "177fd69c",
   "metadata": {},
   "outputs": [],
   "source": [
    "import pandas as pd\n",
    "import os"
   ]
  },
  {
   "cell_type": "code",
   "execution_count": 2,
   "id": "4242a22f",
   "metadata": {},
   "outputs": [],
   "source": [
    "PROJECT_PATH = \"/cs/usr/roeizucker/my_storage/IIH/updated_phenotypes\"\n",
    "FILE_NAME = \"ukbb_dataset_updated_11.csv\"\n",
    "PHENS_TO_RUN = [\"H47.1\",\"G93.2\",\"both_phen\"]\n",
    "REDUCED_COVARIATES = False"
   ]
  },
  {
   "cell_type": "code",
   "execution_count": 3,
   "id": "6361927e",
   "metadata": {},
   "outputs": [],
   "source": [
    "RESULTS_FOLDER = \"results\""
   ]
  },
  {
   "cell_type": "code",
   "execution_count": 4,
   "id": "7712f2e4",
   "metadata": {},
   "outputs": [
    {
     "name": "stdout",
     "output_type": "stream",
     "text": [
      "mkdir: cannot create directory ‘/cs/usr/roeizucker/my_storage/IIH/updated_phenotypes/H47.1’: File exists\n",
      "mkdir: cannot create directory ‘/cs/usr/roeizucker/my_storage/IIH/updated_phenotypes/G93.2’: File exists\n",
      "mkdir: cannot create directory ‘/cs/usr/roeizucker/my_storage/IIH/updated_phenotypes/both_phen’: File exists\n"
     ]
    }
   ],
   "source": [
    "for phen in PHENS_TO_RUN:\n",
    "    !mkdir {os.path.join(PROJECT_PATH,phen)}"
   ]
  },
  {
   "cell_type": "code",
   "execution_count": 5,
   "id": "f85ea414",
   "metadata": {},
   "outputs": [],
   "source": [
    "dataset_file = os.path.join(PROJECT_PATH,FILE_NAME)\n"
   ]
  },
  {
   "cell_type": "code",
   "execution_count": 6,
   "id": "90273c52",
   "metadata": {},
   "outputs": [],
   "source": [
    "main_df = pd.read_csv(dataset_file)\n",
    "for phen in PHENS_TO_RUN:\n",
    "    main_df[phen] = main_df[phen].map({True:1,False:0})\n",
    "main_df.to_csv(dataset_file)"
   ]
  },
  {
   "cell_type": "code",
   "execution_count": null,
   "id": "22adab35",
   "metadata": {},
   "outputs": [],
   "source": []
  },
  {
   "cell_type": "code",
   "execution_count": null,
   "id": "ff01e16f",
   "metadata": {},
   "outputs": [],
   "source": []
  },
  {
   "cell_type": "code",
   "execution_count": null,
   "id": "e92ca9b3",
   "metadata": {},
   "outputs": [],
   "source": []
  },
  {
   "cell_type": "code",
   "execution_count": 13,
   "id": "3b8002e0",
   "metadata": {},
   "outputs": [
    {
     "name": "stdout",
     "output_type": "stream",
     "text": [
      "sbatch --array=0-49 --mem=15g -c1 --time=1-0 --killable --requeue --wrap=\"/cs/usr/roeizucker/my_storage/IIH/updated_phenotypes/run_H47.1.sh\"\n",
      "sbatch --array=0-49 --mem=15g -c1 --time=1-0 --killable --requeue --wrap=\"/cs/usr/roeizucker/my_storage/IIH/updated_phenotypes/run_G93.2.sh\"\n",
      "sbatch --array=0-49 --mem=15g -c1 --time=1-0 --killable --requeue --wrap=\"/cs/usr/roeizucker/my_storage/IIH/updated_phenotypes/run_both_phen.sh\"\n"
     ]
    }
   ],
   "source": [
    "# for phen in PHENS_TO_RUN:\n",
    "#     script_name =  os.path.join(PROJECT_PATH,f\"run_{phen}.sh\")\n",
    "#     with open(script_name,\"w\") as script:\n",
    "#         if REDUCED_COVARIATES:\n",
    "#             script.write(f'''source ~/my_storage/temp_virt_env/bin/activate\n",
    "# pwas_test_genes --resolve-quasi-complete-covariate-separation --remove-multicollinear-covariate --dataset-file={dataset_file} --gene-effect-scores-dir=/cs/labs/michall/roeizucker/virt_env_install_test/ukbb_imputation_gene_effect_scores/ --per-gene-pwas-results-dir={os.path.join(PROJECT_PATH,phen)} --sample-id-col=eid --phenotype-col='{phen}' --covariate-cols-json-file={PROJECT_PATH}/ukbb_covariate_columns_reduced.json --task-index-env-variable=SLURM_ARRAY_TASK_ID --total-tasks-env-variable=SLURM_ARRAY_TASK_COUNT\n",
    "# ''')\n",
    "#         else:\n",
    "#             script.write(f'''source ~/my_storage/temp_virt_env/bin/activate\n",
    "# pwas_test_genes --resolve-quasi-complete-covariate-separation --remove-multicollinear-covariate --dataset-file={dataset_file} --gene-effect-scores-dir=/cs/labs/michall/roeizucker/virt_env_install_test/ukbb_imputation_gene_effect_scores/ --per-gene-pwas-results-dir={os.path.join(PROJECT_PATH,phen)} --sample-id-col=eid --phenotype-col='{phen}' --covariate-cols-json-file={PROJECT_PATH}/ukbb_covariate_columns.json --task-index-env-variable=SLURM_ARRAY_TASK_ID --total-tasks-env-variable=SLURM_ARRAY_TASK_COUNT\n",
    "# ''')\n",
    "#         !chmod 744 {script_name}\n",
    "#         print(f'sbatch --array=0-49 --mem=15g -c1 --time=1-0 --killable --requeue --wrap=\"{script_name}\"')\n",
    "for phen in PHENS_TO_RUN:\n",
    "    script_name =  os.path.join(PROJECT_PATH,f\"run_{phen}.sh\")\n",
    "    with open(script_name,\"w\") as script:\n",
    "        if REDUCED_COVARIATES:\n",
    "            script.write(f'''. /sci/nosnap/michall/roeizucker/new_python_env/bin/activate\n",
    "pwas_test_genes --resolve-quasi-complete-covariate-separation --remove-multicollinear-covariate --dataset-file={dataset_file} --gene-effect-scores-dir=/cs/labs/michall/roeizucker/virt_env_install_test/ukbb_imputation_gene_effect_scores/ --per-gene-pwas-results-dir={os.path.join(PROJECT_PATH,phen)} --sample-id-col=eid --phenotype-col='{phen}' --covariate-cols-json-file={PROJECT_PATH}/ukbb_covariate_columns_reduced.json --task-index-env-variable=SLURM_ARRAY_TASK_ID --total-tasks-env-variable=SLURM_ARRAY_TASK_COUNT\n",
    "''')\n",
    "        else:\n",
    "            script.write(f'''. /sci/nosnap/michall/roeizucker/new_python_env/bin/activate\n",
    "pwas_test_genes --resolve-quasi-complete-covariate-separation --remove-multicollinear-covariate --dataset-file={dataset_file} --gene-effect-scores-dir=/cs/labs/michall/roeizucker/virt_env_install_test/ukbb_imputation_gene_effect_scores/ --per-gene-pwas-results-dir={os.path.join(PROJECT_PATH,phen)} --sample-id-col=eid --phenotype-col='{phen}' --covariate-cols-json-file={PROJECT_PATH}/ukbb_covariate_columns.json --task-index-env-variable=SLURM_ARRAY_TASK_ID --total-tasks-env-variable=SLURM_ARRAY_TASK_COUNT\n",
    "''')\n",
    "        !chmod 744 {script_name}\n",
    "        print(f'sbatch --array=0-49 --mem=15g -c1 --time=1-0 --killable --requeue --wrap=\"{script_name}\"')"
   ]
  },
  {
   "cell_type": "code",
   "execution_count": 8,
   "id": "5b5ec70d",
   "metadata": {},
   "outputs": [
    {
     "name": "stdout",
     "output_type": "stream",
     "text": [
      "mkdir: cannot create directory ‘/cs/usr/roeizucker/my_storage/IIH/updated_phenotypes/results’: File exists\n",
      "combine_pwas_results --genes-file=~/my_storage/virt_env_install_test/genes_hg19.csv --per-gene-pwas-results-dir=/cs/usr/roeizucker/my_storage/IIH/updated_phenotypes/H47.1 --results-file=/cs/usr/roeizucker/my_storage/IIH/updated_phenotypes/results/H47.1.csv\n",
      "combine_pwas_results --genes-file=~/my_storage/virt_env_install_test/genes_hg19.csv --per-gene-pwas-results-dir=/cs/usr/roeizucker/my_storage/IIH/updated_phenotypes/G93.2 --results-file=/cs/usr/roeizucker/my_storage/IIH/updated_phenotypes/results/G93.2.csv\n",
      "combine_pwas_results --genes-file=~/my_storage/virt_env_install_test/genes_hg19.csv --per-gene-pwas-results-dir=/cs/usr/roeizucker/my_storage/IIH/updated_phenotypes/both_phen --results-file=/cs/usr/roeizucker/my_storage/IIH/updated_phenotypes/results/both_phen.csv\n"
     ]
    }
   ],
   "source": [
    "results_path = os.path.join(PROJECT_PATH,RESULTS_FOLDER)\n",
    "!mkdir {results_path}\n",
    "for phen in PHENS_TO_RUN:\n",
    "    phen_result_file_path = os.path.join(results_path,phen + \".csv\")\n",
    "    command = f'combine_pwas_results --genes-file=~/my_storage/virt_env_install_test/genes_hg19.csv --per-gene-pwas-results-dir={os.path.join(PROJECT_PATH,phen)} --results-file={phen_result_file_path}'\n",
    "    print(command)\n",
    "#     ! {command}"
   ]
  },
  {
   "cell_type": "code",
   "execution_count": null,
   "id": "aae4ab8f",
   "metadata": {},
   "outputs": [],
   "source": []
  },
  {
   "cell_type": "code",
   "execution_count": 9,
   "id": "14edb835",
   "metadata": {},
   "outputs": [],
   "source": [
    "# df1 = pd.read_csv(\"/cs/labs/michall/roeizucker/Ofer_is_the_Queen/new_ukbb_dataset.csv\")\n",
    "# print(df1[\"test_2\"].value_counts())\n",
    "# print(df1[\"test_1\"].value_counts())"
   ]
  },
  {
   "cell_type": "code",
   "execution_count": 10,
   "id": "cc04a407",
   "metadata": {},
   "outputs": [],
   "source": [
    "# df1[\"sex\"] = 1\n",
    "# df1[[\"test_2\",\"sex\"]].corr()\n",
    "# df1.to_csv(\"/cs/labs/michall/roeizucker/Ofer_is_the_Queen/new_ukbb_dataset.csv\")"
   ]
  },
  {
   "cell_type": "code",
   "execution_count": 11,
   "id": "5849b1ba",
   "metadata": {},
   "outputs": [],
   "source": [
    "# df2 = pd.read_csv(\"/cs/labs/michall/roeizucker/Ofer_is_the_Queen/results/test_2.csv\")"
   ]
  },
  {
   "cell_type": "code",
   "execution_count": null,
   "id": "7a8cabdb",
   "metadata": {},
   "outputs": [],
   "source": []
  },
  {
   "cell_type": "code",
   "execution_count": null,
   "id": "52a8eaaf",
   "metadata": {},
   "outputs": [],
   "source": []
  }
 ],
 "metadata": {
  "kernelspec": {
   "display_name": "Python 3 (ipykernel)",
   "language": "python",
   "name": "python3"
  },
  "language_info": {
   "codemirror_mode": {
    "name": "ipython",
    "version": 3
   },
   "file_extension": ".py",
   "mimetype": "text/x-python",
   "name": "python",
   "nbconvert_exporter": "python",
   "pygments_lexer": "ipython3",
   "version": "3.11.2"
  }
 },
 "nbformat": 4,
 "nbformat_minor": 5
}
