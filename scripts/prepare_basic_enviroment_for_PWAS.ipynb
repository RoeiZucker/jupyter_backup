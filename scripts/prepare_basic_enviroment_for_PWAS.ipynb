{
 "cells": [
  {
   "cell_type": "code",
   "execution_count": 1,
   "id": "177fd69c",
   "metadata": {},
   "outputs": [],
   "source": [
    "import pandas as pd\n",
    "import os"
   ]
  },
  {
   "cell_type": "code",
   "execution_count": 2,
   "id": "4242a22f",
   "metadata": {},
   "outputs": [],
   "source": [
    "PROJECT_PATH = \"/sci/nosnap/michall/roeizucker/Hypothyroidism_hackaton\"\n",
    "FILE_NAME = \"ukbb_dataset_filtered.csv\"\n",
    "PHENS_TO_RUN = [\"E03_reduced\",\"E03_F_reduced\",\"E03_M_reduced\",\"E04_reduced\",\"E04_F_reduced\",\"E04_M_reduced\",\"E05_reduced\",\"E05_F_reduced\",\"E05_M_reduced\",\"E06_reduced\",\"E06_F_reduced\",\"E06_M_reduced\",\"E07_reduced\",\"E07_F_reduced\",\"E07_M_reduced\",]\n",
    "REDUCED_COVARIATES = False"
   ]
  },
  {
   "cell_type": "code",
   "execution_count": 3,
   "id": "6361927e",
   "metadata": {},
   "outputs": [],
   "source": [
    "RESULTS_FOLDER = \"results\""
   ]
  },
  {
   "cell_type": "code",
   "execution_count": 4,
   "id": "7712f2e4",
   "metadata": {},
   "outputs": [
    {
     "name": "stdout",
     "output_type": "stream",
     "text": [
      "mkdir: cannot create directory ‘/sci/nosnap/michall/roeizucker/Hypothyroidism_hackaton/E03_reduced’: File exists\n",
      "mkdir: cannot create directory ‘/sci/nosnap/michall/roeizucker/Hypothyroidism_hackaton/E03_F_reduced’: File exists\n",
      "mkdir: cannot create directory ‘/sci/nosnap/michall/roeizucker/Hypothyroidism_hackaton/E03_M_reduced’: File exists\n",
      "mkdir: cannot create directory ‘/sci/nosnap/michall/roeizucker/Hypothyroidism_hackaton/E04_reduced’: File exists\n",
      "mkdir: cannot create directory ‘/sci/nosnap/michall/roeizucker/Hypothyroidism_hackaton/E04_F_reduced’: File exists\n",
      "mkdir: cannot create directory ‘/sci/nosnap/michall/roeizucker/Hypothyroidism_hackaton/E04_M_reduced’: File exists\n",
      "mkdir: cannot create directory ‘/sci/nosnap/michall/roeizucker/Hypothyroidism_hackaton/E05_reduced’: File exists\n",
      "mkdir: cannot create directory ‘/sci/nosnap/michall/roeizucker/Hypothyroidism_hackaton/E05_F_reduced’: File exists\n",
      "mkdir: cannot create directory ‘/sci/nosnap/michall/roeizucker/Hypothyroidism_hackaton/E05_M_reduced’: File exists\n",
      "mkdir: cannot create directory ‘/sci/nosnap/michall/roeizucker/Hypothyroidism_hackaton/E06_reduced’: File exists\n",
      "mkdir: cannot create directory ‘/sci/nosnap/michall/roeizucker/Hypothyroidism_hackaton/E06_F_reduced’: File exists\n",
      "mkdir: cannot create directory ‘/sci/nosnap/michall/roeizucker/Hypothyroidism_hackaton/E06_M_reduced’: File exists\n",
      "mkdir: cannot create directory ‘/sci/nosnap/michall/roeizucker/Hypothyroidism_hackaton/E07_reduced’: File exists\n",
      "mkdir: cannot create directory ‘/sci/nosnap/michall/roeizucker/Hypothyroidism_hackaton/E07_F_reduced’: File exists\n",
      "mkdir: cannot create directory ‘/sci/nosnap/michall/roeizucker/Hypothyroidism_hackaton/E07_M_reduced’: File exists\n"
     ]
    }
   ],
   "source": [
    "for phen in PHENS_TO_RUN:\n",
    "    !mkdir {os.path.join(PROJECT_PATH,phen)}"
   ]
  },
  {
   "cell_type": "code",
   "execution_count": 5,
   "id": "3b8002e0",
   "metadata": {},
   "outputs": [
    {
     "name": "stdout",
     "output_type": "stream",
     "text": [
      "sbatch --array=0-100 --mem=15g -c1 --time=1-0 --killable --requeue --wrap=\"/sci/nosnap/michall/roeizucker/Hypothyroidism_hackaton/run_E03_reduced.sh\"\n",
      "sbatch --array=0-100 --mem=15g -c1 --time=1-0 --killable --requeue --wrap=\"/sci/nosnap/michall/roeizucker/Hypothyroidism_hackaton/run_E03_F_reduced.sh\"\n",
      "sbatch --array=0-100 --mem=15g -c1 --time=1-0 --killable --requeue --wrap=\"/sci/nosnap/michall/roeizucker/Hypothyroidism_hackaton/run_E03_M_reduced.sh\"\n",
      "sbatch --array=0-100 --mem=15g -c1 --time=1-0 --killable --requeue --wrap=\"/sci/nosnap/michall/roeizucker/Hypothyroidism_hackaton/run_E04_reduced.sh\"\n",
      "sbatch --array=0-100 --mem=15g -c1 --time=1-0 --killable --requeue --wrap=\"/sci/nosnap/michall/roeizucker/Hypothyroidism_hackaton/run_E04_F_reduced.sh\"\n",
      "sbatch --array=0-100 --mem=15g -c1 --time=1-0 --killable --requeue --wrap=\"/sci/nosnap/michall/roeizucker/Hypothyroidism_hackaton/run_E04_M_reduced.sh\"\n",
      "sbatch --array=0-100 --mem=15g -c1 --time=1-0 --killable --requeue --wrap=\"/sci/nosnap/michall/roeizucker/Hypothyroidism_hackaton/run_E05_reduced.sh\"\n",
      "sbatch --array=0-100 --mem=15g -c1 --time=1-0 --killable --requeue --wrap=\"/sci/nosnap/michall/roeizucker/Hypothyroidism_hackaton/run_E05_F_reduced.sh\"\n",
      "sbatch --array=0-100 --mem=15g -c1 --time=1-0 --killable --requeue --wrap=\"/sci/nosnap/michall/roeizucker/Hypothyroidism_hackaton/run_E05_M_reduced.sh\"\n",
      "sbatch --array=0-100 --mem=15g -c1 --time=1-0 --killable --requeue --wrap=\"/sci/nosnap/michall/roeizucker/Hypothyroidism_hackaton/run_E06_reduced.sh\"\n",
      "sbatch --array=0-100 --mem=15g -c1 --time=1-0 --killable --requeue --wrap=\"/sci/nosnap/michall/roeizucker/Hypothyroidism_hackaton/run_E06_F_reduced.sh\"\n",
      "sbatch --array=0-100 --mem=15g -c1 --time=1-0 --killable --requeue --wrap=\"/sci/nosnap/michall/roeizucker/Hypothyroidism_hackaton/run_E06_M_reduced.sh\"\n",
      "sbatch --array=0-100 --mem=15g -c1 --time=1-0 --killable --requeue --wrap=\"/sci/nosnap/michall/roeizucker/Hypothyroidism_hackaton/run_E07_reduced.sh\"\n",
      "sbatch --array=0-100 --mem=15g -c1 --time=1-0 --killable --requeue --wrap=\"/sci/nosnap/michall/roeizucker/Hypothyroidism_hackaton/run_E07_F_reduced.sh\"\n",
      "sbatch --array=0-100 --mem=15g -c1 --time=1-0 --killable --requeue --wrap=\"/sci/nosnap/michall/roeizucker/Hypothyroidism_hackaton/run_E07_M_reduced.sh\"\n"
     ]
    }
   ],
   "source": [
    "dataset_file = os.path.join(PROJECT_PATH,FILE_NAME)\n",
    "for phen in PHENS_TO_RUN:\n",
    "    script_name =  os.path.join(PROJECT_PATH,f\"run_{phen}.sh\")\n",
    "    with open(script_name,\"w\") as script:\n",
    "        if REDUCED_COVARIATES:\n",
    "            script.write(f'''source ~/my_storage/temp_virt_env/bin/activate\n",
    "pwas_test_genes --resolve-quasi-complete-covariate-separation --remove-multicollinear-covariate --dataset-file={dataset_file} --gene-effect-scores-dir=/cs/labs/michall/roeizucker/virt_env_install_test/ukbb_imputation_gene_effect_scores/ --per-gene-pwas-results-dir={os.path.join(PROJECT_PATH,phen)} --sample-id-col=eid --phenotype-col='{phen}' --covariate-cols-json-file={PROJECT_PATH}/ukbb_covariate_columns_reduced.json --task-index-env-variable=SLURM_ARRAY_TASK_ID --total-tasks-env-variable=SLURM_ARRAY_TASK_COUNT\n",
    "''')\n",
    "        else:\n",
    "            script.write(f'''source ~/my_storage/temp_virt_env/bin/activate\n",
    "pwas_test_genes --resolve-quasi-complete-covariate-separation --remove-multicollinear-covariate --dataset-file={dataset_file} --gene-effect-scores-dir=/cs/labs/michall/roeizucker/virt_env_install_test/ukbb_imputation_gene_effect_scores/ --per-gene-pwas-results-dir={os.path.join(PROJECT_PATH,phen)} --sample-id-col=eid --phenotype-col='{phen}' --covariate-cols-json-file={PROJECT_PATH}/ukbb_covariate_columns.json --task-index-env-variable=SLURM_ARRAY_TASK_ID --total-tasks-env-variable=SLURM_ARRAY_TASK_COUNT\n",
    "''')\n",
    "        !chmod 744 {script_name}\n",
    "        print(f'sbatch --array=0-100 --mem=15g -c1 --time=1-0 --killable --requeue --wrap=\"{script_name}\"')"
   ]
  },
  {
   "cell_type": "code",
   "execution_count": 6,
   "id": "5b5ec70d",
   "metadata": {},
   "outputs": [
    {
     "name": "stdout",
     "output_type": "stream",
     "text": [
      "mkdir: cannot create directory ‘/sci/nosnap/michall/roeizucker/Hypothyroidism_hackaton/results’: File exists\n",
      "combine_pwas_results --genes-file=~/my_storage/virt_env_install_test/genes_hg19.csv --per-gene-pwas-results-dir=/sci/nosnap/michall/roeizucker/Hypothyroidism_hackaton/E03_reduced --results-file=/sci/nosnap/michall/roeizucker/Hypothyroidism_hackaton/results/E03_reduced.csv\n",
      "combine_pwas_results --genes-file=~/my_storage/virt_env_install_test/genes_hg19.csv --per-gene-pwas-results-dir=/sci/nosnap/michall/roeizucker/Hypothyroidism_hackaton/E03_F_reduced --results-file=/sci/nosnap/michall/roeizucker/Hypothyroidism_hackaton/results/E03_F_reduced.csv\n",
      "combine_pwas_results --genes-file=~/my_storage/virt_env_install_test/genes_hg19.csv --per-gene-pwas-results-dir=/sci/nosnap/michall/roeizucker/Hypothyroidism_hackaton/E03_M_reduced --results-file=/sci/nosnap/michall/roeizucker/Hypothyroidism_hackaton/results/E03_M_reduced.csv\n",
      "combine_pwas_results --genes-file=~/my_storage/virt_env_install_test/genes_hg19.csv --per-gene-pwas-results-dir=/sci/nosnap/michall/roeizucker/Hypothyroidism_hackaton/E04_reduced --results-file=/sci/nosnap/michall/roeizucker/Hypothyroidism_hackaton/results/E04_reduced.csv\n",
      "combine_pwas_results --genes-file=~/my_storage/virt_env_install_test/genes_hg19.csv --per-gene-pwas-results-dir=/sci/nosnap/michall/roeizucker/Hypothyroidism_hackaton/E04_F_reduced --results-file=/sci/nosnap/michall/roeizucker/Hypothyroidism_hackaton/results/E04_F_reduced.csv\n",
      "combine_pwas_results --genes-file=~/my_storage/virt_env_install_test/genes_hg19.csv --per-gene-pwas-results-dir=/sci/nosnap/michall/roeizucker/Hypothyroidism_hackaton/E04_M_reduced --results-file=/sci/nosnap/michall/roeizucker/Hypothyroidism_hackaton/results/E04_M_reduced.csv\n",
      "combine_pwas_results --genes-file=~/my_storage/virt_env_install_test/genes_hg19.csv --per-gene-pwas-results-dir=/sci/nosnap/michall/roeizucker/Hypothyroidism_hackaton/E05_reduced --results-file=/sci/nosnap/michall/roeizucker/Hypothyroidism_hackaton/results/E05_reduced.csv\n",
      "combine_pwas_results --genes-file=~/my_storage/virt_env_install_test/genes_hg19.csv --per-gene-pwas-results-dir=/sci/nosnap/michall/roeizucker/Hypothyroidism_hackaton/E05_F_reduced --results-file=/sci/nosnap/michall/roeizucker/Hypothyroidism_hackaton/results/E05_F_reduced.csv\n",
      "combine_pwas_results --genes-file=~/my_storage/virt_env_install_test/genes_hg19.csv --per-gene-pwas-results-dir=/sci/nosnap/michall/roeizucker/Hypothyroidism_hackaton/E05_M_reduced --results-file=/sci/nosnap/michall/roeizucker/Hypothyroidism_hackaton/results/E05_M_reduced.csv\n",
      "combine_pwas_results --genes-file=~/my_storage/virt_env_install_test/genes_hg19.csv --per-gene-pwas-results-dir=/sci/nosnap/michall/roeizucker/Hypothyroidism_hackaton/E06_reduced --results-file=/sci/nosnap/michall/roeizucker/Hypothyroidism_hackaton/results/E06_reduced.csv\n",
      "combine_pwas_results --genes-file=~/my_storage/virt_env_install_test/genes_hg19.csv --per-gene-pwas-results-dir=/sci/nosnap/michall/roeizucker/Hypothyroidism_hackaton/E06_F_reduced --results-file=/sci/nosnap/michall/roeizucker/Hypothyroidism_hackaton/results/E06_F_reduced.csv\n",
      "combine_pwas_results --genes-file=~/my_storage/virt_env_install_test/genes_hg19.csv --per-gene-pwas-results-dir=/sci/nosnap/michall/roeizucker/Hypothyroidism_hackaton/E06_M_reduced --results-file=/sci/nosnap/michall/roeizucker/Hypothyroidism_hackaton/results/E06_M_reduced.csv\n",
      "combine_pwas_results --genes-file=~/my_storage/virt_env_install_test/genes_hg19.csv --per-gene-pwas-results-dir=/sci/nosnap/michall/roeizucker/Hypothyroidism_hackaton/E07_reduced --results-file=/sci/nosnap/michall/roeizucker/Hypothyroidism_hackaton/results/E07_reduced.csv\n",
      "combine_pwas_results --genes-file=~/my_storage/virt_env_install_test/genes_hg19.csv --per-gene-pwas-results-dir=/sci/nosnap/michall/roeizucker/Hypothyroidism_hackaton/E07_F_reduced --results-file=/sci/nosnap/michall/roeizucker/Hypothyroidism_hackaton/results/E07_F_reduced.csv\n",
      "combine_pwas_results --genes-file=~/my_storage/virt_env_install_test/genes_hg19.csv --per-gene-pwas-results-dir=/sci/nosnap/michall/roeizucker/Hypothyroidism_hackaton/E07_M_reduced --results-file=/sci/nosnap/michall/roeizucker/Hypothyroidism_hackaton/results/E07_M_reduced.csv\n"
     ]
    }
   ],
   "source": [
    "results_path = os.path.join(PROJECT_PATH,RESULTS_FOLDER)\n",
    "!mkdir {results_path}\n",
    "for phen in PHENS_TO_RUN:\n",
    "    phen_result_file_path = os.path.join(results_path,phen + \".csv\")\n",
    "    print(f'combine_pwas_results --genes-file=~/my_storage/virt_env_install_test/genes_hg19.csv --per-gene-pwas-results-dir={os.path.join(PROJECT_PATH,phen)} --results-file={phen_result_file_path}')"
   ]
  },
  {
   "cell_type": "code",
   "execution_count": null,
   "id": "aae4ab8f",
   "metadata": {},
   "outputs": [],
   "source": []
  },
  {
   "cell_type": "code",
   "execution_count": 7,
   "id": "14edb835",
   "metadata": {},
   "outputs": [],
   "source": [
    "# df1 = pd.read_csv(\"/cs/labs/michall/roeizucker/Ofer_is_the_Queen/new_ukbb_dataset.csv\")\n",
    "# print(df1[\"test_2\"].value_counts())\n",
    "# print(df1[\"test_1\"].value_counts())"
   ]
  },
  {
   "cell_type": "code",
   "execution_count": 8,
   "id": "cc04a407",
   "metadata": {},
   "outputs": [],
   "source": [
    "# df1[\"sex\"] = 1\n",
    "# df1[[\"test_2\",\"sex\"]].corr()\n",
    "# df1.to_csv(\"/cs/labs/michall/roeizucker/Ofer_is_the_Queen/new_ukbb_dataset.csv\")"
   ]
  },
  {
   "cell_type": "code",
   "execution_count": 9,
   "id": "5849b1ba",
   "metadata": {},
   "outputs": [
    {
     "ename": "NameError",
     "evalue": "name 'n' is not defined",
     "output_type": "error",
     "traceback": [
      "\u001b[0;31m---------------------------------------------------------------------------\u001b[0m",
      "\u001b[0;31mNameError\u001b[0m                                 Traceback (most recent call last)",
      "\u001b[0;32m/tmp/ipykernel_817/3731183234.py\u001b[0m in \u001b[0;36m<module>\u001b[0;34m\u001b[0m\n\u001b[0;32m----> 1\u001b[0;31m \u001b[0mn\u001b[0m\u001b[0;31m# df2 = pd.read_csv(\"/cs/labs/michall/roeizucker/Ofer_is_the_Queen/results/test_2.csv\")\u001b[0m\u001b[0;34m\u001b[0m\u001b[0;34m\u001b[0m\u001b[0m\n\u001b[0m",
      "\u001b[0;31mNameError\u001b[0m: name 'n' is not defined"
     ]
    }
   ],
   "source": [
    "# df2 = pd.read_csv(\"/cs/labs/michall/roeizucker/Ofer_is_the_Queen/results/test_2.csv\")"
   ]
  },
  {
   "cell_type": "code",
   "execution_count": null,
   "id": "7a8cabdb",
   "metadata": {},
   "outputs": [],
   "source": []
  },
  {
   "cell_type": "code",
   "execution_count": null,
   "id": "52a8eaaf",
   "metadata": {},
   "outputs": [],
   "source": []
  }
 ],
 "metadata": {
  "kernelspec": {
   "display_name": "Python 3 (ipykernel)",
   "language": "python",
   "name": "python3"
  },
  "language_info": {
   "codemirror_mode": {
    "name": "ipython",
    "version": 3
   },
   "file_extension": ".py",
   "mimetype": "text/x-python",
   "name": "python",
   "nbconvert_exporter": "python",
   "pygments_lexer": "ipython3",
   "version": "3.7.3"
  }
 },
 "nbformat": 4,
 "nbformat_minor": 5
}
