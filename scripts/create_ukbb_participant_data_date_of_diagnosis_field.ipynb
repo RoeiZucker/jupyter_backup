{
 "cells": [
  {
   "cell_type": "code",
   "execution_count": 2,
   "id": "6f67e499",
   "metadata": {},
   "outputs": [],
   "source": [
    "import pandas as pd\n",
    "import numpy as np"
   ]
  },
  {
   "cell_type": "code",
   "execution_count": 3,
   "id": "5be48f9d",
   "metadata": {},
   "outputs": [],
   "source": [
    "# script parameters\n",
    "PARTICIPANT_DATA_WITH_DATES = \"/cs/labs/michall/roeizucker/ukb_files/diagnosis.csv\"\n",
    "requested_phenotypes_list = [\"C50.0 Nipple and areola\",\"C50.1 Central portion of breast\",\"C50.2 Upper-inner quadrant of breast\",\n",
    "                            \"C50.3 Lower-inner quadrant of breast\",\"C50.4 Upper-outer quadrant of breast\",\n",
    "                            \"C50.5 Lower-outer quadrant of breast\",\"C50.6 Axillary tail of breast\",\"C50.8 Overlapping lesion of breast\",\n",
    "                            \"C50.9 Breast, unspecified\"]\n",
    "RESULT_PATH = \"/cs/labs/michall/roeizucker/Ofer_is_the_Queen/diag_dates.csv\"\n"
   ]
  },
  {
   "cell_type": "code",
   "execution_count": 21,
   "id": "92c68e55",
   "metadata": {},
   "outputs": [],
   "source": [
    "DIAGNOSES_FIELD_NAME = \"Diagnoses - ICD10\"\n",
    "DIAGNOSES_DATE_PREFIX = \"Date of first in-patient diagnosis - ICD10 | Array \"\n",
    "DIAGNOSES_DATE_SUFFIX = \"\"\n",
    "REQUIRED_FILEDS = ['Participant ID','Sex','Year of birth(participant - p34)']\n",
    "SEPERETOR = \"|\"\n",
    "DATE_FIELD_SUFFIX = \"_date\""
   ]
  },
  {
   "cell_type": "code",
   "execution_count": 5,
   "id": "34666de2",
   "metadata": {},
   "outputs": [],
   "source": [
    "df = pd.read_csv(PARTICIPANT_DATA_WITH_DATES,low_memory=False)\n"
   ]
  },
  {
   "cell_type": "code",
   "execution_count": 22,
   "id": "820442d6",
   "metadata": {},
   "outputs": [],
   "source": [
    "# list(df)"
   ]
  },
  {
   "cell_type": "code",
   "execution_count": 23,
   "id": "29965669",
   "metadata": {},
   "outputs": [],
   "source": [
    "def find_phen_location(value,phen):\n",
    "\n",
    "    if not isinstance(value[DIAGNOSES_FIELD_NAME], str):\n",
    "        return None\n",
    "    diags = (value[DIAGNOSES_FIELD_NAME].strip('][').split(SEPERETOR))\n",
    "#     print(value['Diagnoses - ICD10'])\n",
    "    new_diags = []\n",
    "    for diag in diags:\n",
    "        diag = diag.replace(\"\\\"\",\"\")\n",
    "        new_diags.append(diag)\n",
    "    if phen in new_diags:\n",
    "        return value[DIAGNOSES_DATE_PREFIX + str(new_diags.index(phen)) + DIAGNOSES_DATE_SUFFIX]\n",
    "    \n",
    "        "
   ]
  },
  {
   "cell_type": "code",
   "execution_count": 24,
   "id": "162ec68d",
   "metadata": {},
   "outputs": [
    {
     "name": "stdout",
     "output_type": "stream",
     "text": [
      "CPU times: user 51.2 s, sys: 5.15 s, total: 56.3 s\n",
      "Wall time: 56.4 s\n"
     ]
    }
   ],
   "source": [
    "%%time\n",
    "requested_phens = REQUIRED_FILEDS[:]\n",
    "for phen in requested_phenotypes_list:\n",
    "    requested_phens.append(phen+DATE_FIELD_SUFFIX)\n",
    "    df[phen+DATE_FIELD_SUFFIX] = df.apply(lambda x: find_phen_location(x,phen),axis=1)\n"
   ]
  },
  {
   "cell_type": "code",
   "execution_count": 26,
   "id": "c804ead0",
   "metadata": {},
   "outputs": [],
   "source": [
    "df[requested_phens].to_csv(RESULT_PATH,index=False)"
   ]
  },
  {
   "cell_type": "code",
   "execution_count": null,
   "id": "06080165",
   "metadata": {},
   "outputs": [],
   "source": []
  },
  {
   "cell_type": "code",
   "execution_count": 34,
   "id": "ae25faa9",
   "metadata": {},
   "outputs": [
    {
     "name": "stdout",
     "output_type": "stream",
     "text": [
      "502411 /cs/labs/michall/roeizucker/ukb_files/diagnosis.csv\r\n"
     ]
    }
   ],
   "source": [
    "!wc -l /cs/labs/michall/roeizucker/ukb_files/diagnosis.csv"
   ]
  }
 ],
 "metadata": {
  "kernelspec": {
   "display_name": "myenv",
   "language": "python",
   "name": "myenv"
  },
  "language_info": {
   "codemirror_mode": {
    "name": "ipython",
    "version": 3
   },
   "file_extension": ".py",
   "mimetype": "text/x-python",
   "name": "python",
   "nbconvert_exporter": "python",
   "pygments_lexer": "ipython3",
   "version": "3.7.3"
  }
 },
 "nbformat": 4,
 "nbformat_minor": 5
}
