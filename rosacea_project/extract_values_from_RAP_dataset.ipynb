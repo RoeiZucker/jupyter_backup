{
 "cells": [
  {
   "cell_type": "code",
   "execution_count": 3,
   "id": "5f0a6dd7",
   "metadata": {},
   "outputs": [],
   "source": [
    "import pandas as pd\n",
    "import numpy as np\n",
    "import os"
   ]
  },
  {
   "cell_type": "code",
   "execution_count": 77,
   "id": "98fa510a",
   "metadata": {},
   "outputs": [],
   "source": [
    "OLD_DATA_PATH = \"/cs/labs/michall/roeizucker/phewas_run/runs1/3630:3639/ukbb_dataset.csv\"\n",
    "PROJECT_PATH = \"/sci/nosnap/michall/roeizucker/rosacea\"\n",
    "NEW_DATA_FILE = \"data_participant.csv\"\n",
    "NEW_FILE_NAME = \"ukbb_dataset.csv\"\n",
    "FIELD_NAME = \"p131792\"\n",
    "NEW_PHEN_NAME = \"rosacea\""
   ]
  },
  {
   "cell_type": "code",
   "execution_count": 4,
   "id": "4716f158",
   "metadata": {},
   "outputs": [],
   "source": [
    "old_df = pd.read_csv(OLD_DATA_PATH)\n",
    "new_data_path = os.path.join(PROJECT_PATH,NEW_DATA_FILE)\n",
    "new_df = pd.read_csv(new_data_path)"
   ]
  },
  {
   "cell_type": "code",
   "execution_count": 19,
   "id": "883fe80a",
   "metadata": {},
   "outputs": [],
   "source": [
    "# new_df[\"p131793\"].value_counts()\n",
    "# result = pd.merge(new_df, old_df, how=\"cross\",on=\"eid\")\n",
    "combined_df = old_df.merge(new_df,on=\"eid\")\n",
    "# old_df"
   ]
  },
  {
   "cell_type": "code",
   "execution_count": 59,
   "id": "43877115",
   "metadata": {},
   "outputs": [],
   "source": [
    "# set phenotypes\n",
    "combined_df.loc[(combined_df[FIELD_NAME].isna()),\"rosacea\"] = 0\n",
    "combined_df.loc[~(combined_df[FIELD_NAME].isna()),\"rosacea\"] = 1"
   ]
  },
  {
   "cell_type": "code",
   "execution_count": 56,
   "id": "8320c97e",
   "metadata": {},
   "outputs": [],
   "source": []
  },
  {
   "cell_type": "code",
   "execution_count": 72,
   "id": "54ef96d2",
   "metadata": {},
   "outputs": [],
   "source": [
    "combined_df.loc[(combined_df[\"p31\"] == \"Male\") & (combined_df[\"rosacea\"] == 1),\"rosacea_M\"] = 1\n",
    "combined_df.loc[(combined_df[\"p31\"] == \"Male\") & (combined_df[\"rosacea\"] == 0),\"rosacea_M\"] = 0\n",
    "combined_df.loc[(combined_df[\"p31\"] == \"Female\") & (combined_df[\"rosacea\"] == 1),\"rosacea_F\"] = 1\n",
    "combined_df.loc[(combined_df[\"p31\"] == \"Female\") & (combined_df[\"rosacea\"] == 0),\"rosacea_F\"] = 0\n"
   ]
  },
  {
   "cell_type": "code",
   "execution_count": 91,
   "id": "de45a91f",
   "metadata": {},
   "outputs": [
    {
     "data": {
      "text/plain": [
       "Primary care only                               2901\n",
       "Self-report only                                 668\n",
       "Hospital admissions data only                    460\n",
       "Self-report and other source(s)                   98\n",
       "Primary care and other source(s)                  71\n",
       "Hospital admissions data and other source(s)       7\n",
       "Name: p131793, dtype: int64"
      ]
     },
     "execution_count": 91,
     "metadata": {},
     "output_type": "execute_result"
    }
   ],
   "source": [
    "combined_df[\"p131793\"].value_counts()"
   ]
  },
  {
   "cell_type": "code",
   "execution_count": 89,
   "id": "00efa4b3",
   "metadata": {},
   "outputs": [
    {
     "data": {
      "text/plain": [
       "Hospital admissions data only                   241\n",
       "Primary care and other source(s)                 37\n",
       "Self-report and other source(s)                  25\n",
       "Hospital admissions data and other source(s)      6\n",
       "Name: p131793, dtype: int64"
      ]
     },
     "execution_count": 89,
     "metadata": {},
     "output_type": "execute_result"
    }
   ],
   "source": [
    "combined_df[(combined_df[\"Phecode_695.3\"] == 1) & (combined_df[\"rosacea\"] == 1)][\"p131793\"].value_counts()"
   ]
  },
  {
   "cell_type": "code",
   "execution_count": 92,
   "id": "cbd1f0c1",
   "metadata": {},
   "outputs": [],
   "source": [
    "combined_df[\"rosacea_extended\"] = 0"
   ]
  },
  {
   "cell_type": "code",
   "execution_count": 102,
   "id": "3c475f0a",
   "metadata": {},
   "outputs": [],
   "source": [
    "combined_df.loc[(combined_df[\"Phecode_695.3\"] == 1 )| (combined_df[\"p131793\"] == \"Hospital admissions data only\"),\"rosacea_extended\"] = 1\n",
    "\n",
    "\n",
    "combined_df.loc[(combined_df[\"p31\"] == \"Male\") & (combined_df[\"rosacea_extended\"] == 1),\"rosacea_extended_M\"] = 1\n",
    "combined_df.loc[(combined_df[\"p31\"] == \"Male\") & (combined_df[\"rosacea_extended\"] == 0),\"rosacea_extended_M\"] = 0\n",
    "combined_df.loc[(combined_df[\"p31\"] == \"Female\") & (combined_df[\"rosacea_extended\"] == 1),\"rosacea_extended_F\"] = 1\n",
    "combined_df.loc[(combined_df[\"p31\"] == \"Female\") & (combined_df[\"rosacea_extended\"] == 0),\"rosacea_extended_F\"] = 0\n"
   ]
  },
  {
   "cell_type": "code",
   "execution_count": 103,
   "id": "1a8474f9",
   "metadata": {},
   "outputs": [],
   "source": [
    "combined_df.to_csv(os.path.join(PROJECT_PATH,NEW_FILE_NAME))"
   ]
  },
  {
   "cell_type": "code",
   "execution_count": 104,
   "id": "30be414c",
   "metadata": {},
   "outputs": [
    {
     "name": "stdout",
     "output_type": "stream",
     "text": [
      "/sci/nosnap/michall/roeizucker/rosacea/ukbb_dataset.csv\n"
     ]
    }
   ],
   "source": [
    "print(os.path.join(PROJECT_PATH,NEW_FILE_NAME))"
   ]
  },
  {
   "cell_type": "code",
   "execution_count": 107,
   "id": "f26f2c8c",
   "metadata": {},
   "outputs": [
    {
     "data": {
      "text/plain": [
       "0.0    154290\n",
       "1.0       279\n",
       "Name: rosacea_extended_M, dtype: int64"
      ]
     },
     "execution_count": 107,
     "metadata": {},
     "output_type": "execute_result"
    }
   ],
   "source": [
    "combined_df[\"rosacea_extended_M\"].value_counts()"
   ]
  }
 ],
 "metadata": {
  "kernelspec": {
   "display_name": "Python 3 (ipykernel)",
   "language": "python",
   "name": "python3"
  },
  "language_info": {
   "codemirror_mode": {
    "name": "ipython",
    "version": 3
   },
   "file_extension": ".py",
   "mimetype": "text/x-python",
   "name": "python",
   "nbconvert_exporter": "python",
   "pygments_lexer": "ipython3",
   "version": "3.7.3"
  }
 },
 "nbformat": 4,
 "nbformat_minor": 5
}
