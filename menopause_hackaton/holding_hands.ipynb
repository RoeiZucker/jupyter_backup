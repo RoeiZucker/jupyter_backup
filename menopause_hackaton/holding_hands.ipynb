{
 "cells": [
  {
   "cell_type": "code",
   "execution_count": 1,
   "id": "debe495f",
   "metadata": {},
   "outputs": [],
   "source": [
    "MATRIX_FILE_PATH = \"/cs/labs/michall/michael.k/jupyter_notebooks/PWAS analysis/feature_matrix_meno_correct_data_but_missing_genes.csv\""
   ]
  },
  {
   "cell_type": "code",
   "execution_count": 4,
   "id": "6a6aa6d4",
   "metadata": {},
   "outputs": [
    {
     "name": "stdout",
     "output_type": "stream",
     "text": [
      "head: cannot open '/cs/labs/michall/michael.k/jupyter_notebooks/PWAS analysis/feature_matrix_meno_correct_data_but_missing_genes.csv' for reading: Permission denied\r\n"
     ]
    }
   ],
   "source": [
    "!head '{MATRIX_FILE_PATH}'"
   ]
  }
 ],
 "metadata": {
  "kernelspec": {
   "display_name": "myenv",
   "language": "python",
   "name": "myenv"
  },
  "language_info": {
   "codemirror_mode": {
    "name": "ipython",
    "version": 3
   },
   "file_extension": ".py",
   "mimetype": "text/x-python",
   "name": "python",
   "nbconvert_exporter": "python",
   "pygments_lexer": "ipython3",
   "version": "3.7.3"
  }
 },
 "nbformat": 4,
 "nbformat_minor": 5
}
