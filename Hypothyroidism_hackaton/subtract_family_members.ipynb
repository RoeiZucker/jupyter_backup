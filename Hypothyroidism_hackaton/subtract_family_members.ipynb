{
 "cells": [
  {
   "cell_type": "code",
   "execution_count": 1,
   "id": "a54bdbe0",
   "metadata": {},
   "outputs": [],
   "source": [
    "import pandas as pd"
   ]
  },
  {
   "cell_type": "code",
   "execution_count": 11,
   "id": "c34e04e5",
   "metadata": {},
   "outputs": [],
   "source": [
    "WITH_FAMILY_MEMBERS = \"/sci/nosnap/michall/roeizucker/Hypothyroidism_hackaton/with_family/ukbb_dataset.csv\"\n",
    "WITHOUT_FAMILY = \"/sci/nosnap/michall/roeizucker/Hypothyroidism_hackaton/ukbb_dataset_filtered.csv\"\n",
    "DEST_FILE = \"/sci/nosnap/michall/roeizucker/Hypothyroidism_hackaton/with_family/test_eids.txt\""
   ]
  },
  {
   "cell_type": "code",
   "execution_count": 3,
   "id": "057d2922",
   "metadata": {},
   "outputs": [],
   "source": [
    "df_fam = pd.read_csv(WITH_FAMILY_MEMBERS)\n",
    "df = pd.read_csv(WITHOUT_FAMILY)"
   ]
  },
  {
   "cell_type": "code",
   "execution_count": 13,
   "id": "f0924499",
   "metadata": {},
   "outputs": [],
   "source": [
    "eids = (set(df_fam[\"eid\"].astype(str)) - set(df[\"eid\"].astype(str)))"
   ]
  },
  {
   "cell_type": "code",
   "execution_count": 18,
   "id": "045e809a",
   "metadata": {},
   "outputs": [],
   "source": [
    "!rm {DEST_FILE}\n",
    "with open(DEST_FILE,\"a\") as res_file:\n",
    "    for eid in eids:\n",
    "        res_file.write(eid + \"\\n\")"
   ]
  },
  {
   "cell_type": "code",
   "execution_count": null,
   "id": "f1e93b23",
   "metadata": {},
   "outputs": [],
   "source": []
  }
 ],
 "metadata": {
  "kernelspec": {
   "display_name": "Python 3 (ipykernel)",
   "language": "python",
   "name": "python3"
  },
  "language_info": {
   "codemirror_mode": {
    "name": "ipython",
    "version": 3
   },
   "file_extension": ".py",
   "mimetype": "text/x-python",
   "name": "python",
   "nbconvert_exporter": "python",
   "pygments_lexer": "ipython3",
   "version": "3.7.3"
  }
 },
 "nbformat": 4,
 "nbformat_minor": 5
}
