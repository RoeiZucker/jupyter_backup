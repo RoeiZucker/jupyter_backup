{
 "cells": [
  {
   "cell_type": "code",
   "execution_count": 1,
   "id": "1d89e464",
   "metadata": {},
   "outputs": [],
   "source": [
    "import pandas as pd\n",
    "import os"
   ]
  },
  {
   "cell_type": "code",
   "execution_count": 2,
   "id": "16538135",
   "metadata": {},
   "outputs": [],
   "source": [
    "PROJECT_PATH = \"/sci/nosnap/michall/roeizucker/Hypothyroidism_hackaton\"\n",
    "SOURCE_DATASET_FILE = \"ukbb_dataset.csv\"\n",
    "RESULT_FILE = \"ukbb_dataset_filtered.csv\"\n",
    "PHENOTYPES = [\"E03\",\"E04\",\"E05\",\"E06\",\"E07\"]"
   ]
  },
  {
   "cell_type": "code",
   "execution_count": 4,
   "id": "c9eafed2",
   "metadata": {},
   "outputs": [
    {
     "data": {
      "text/plain": [
       "'/sci/nosnap/michall/roeizucker/Hypothyroidism_hackaton/ukbb_dataset_filtered.csv'"
      ]
     },
     "execution_count": 4,
     "metadata": {},
     "output_type": "execute_result"
    }
   ],
   "source": [
    "os.path.join(PROJECT_PATH,RESULT_FILE)"
   ]
  },
  {
   "cell_type": "code",
   "execution_count": 3,
   "id": "dc108067",
   "metadata": {},
   "outputs": [],
   "source": [
    "phens_with_sex = []\n",
    "for phen in PHENOTYPES:\n",
    "    phens_with_sex.append(phen)\n",
    "    phens_with_sex.append(phen + \"_F\" )\n",
    "    phens_with_sex.append(phen+\"_M\")"
   ]
  },
  {
   "cell_type": "code",
   "execution_count": 6,
   "id": "c41e82f5",
   "metadata": {},
   "outputs": [],
   "source": [
    "dataset_file = os.path.join(PROJECT_PATH,SOURCE_DATASET_FILE)\n",
    "phenotypes_dataset = pd.read_csv(dataset_file)"
   ]
  },
  {
   "cell_type": "code",
   "execution_count": 19,
   "id": "31ad2066",
   "metadata": {},
   "outputs": [],
   "source": [
    "phenotypes_dataset[\"sum\"] = 0\n",
    "for phen in PHENOTYPES:\n",
    "    phenotypes_dataset[\"sum\"] = phenotypes_dataset[\"sum\"] + phenotypes_dataset[phen]"
   ]
  },
  {
   "cell_type": "code",
   "execution_count": 41,
   "id": "37ae997f",
   "metadata": {},
   "outputs": [],
   "source": [
    "for phen in phens_with_sex:\n",
    "    phenotypes_dataset.loc[phenotypes_dataset[phen] & (phenotypes_dataset[\"sum\"] == 1),phen+\"_reduced\"] = 1\n",
    "    phenotypes_dataset.loc[(phenotypes_dataset[phen] == False) & (phenotypes_dataset[\"sum\"] == 0),phen+\"_reduced\"] = 0"
   ]
  },
  {
   "cell_type": "code",
   "execution_count": 44,
   "id": "88130e32",
   "metadata": {},
   "outputs": [],
   "source": [
    "phenotypes_daztaset.to_csv(os.path.join(PROJECT_PATH,RESULT_FILE))"
   ]
  },
  {
   "cell_type": "code",
   "execution_count": 43,
   "id": "54582611",
   "metadata": {},
   "outputs": [
    {
     "name": "stdout",
     "output_type": "stream",
     "text": [
      "[\"E03_reduced\",\"E03_F_reduced\",\"E03_M_reduced\",\"E04_reduced\",\"E04_F_reduced\",\"E04_M_reduced\",\"E05_reduced\",\"E05_F_reduced\",\"E05_M_reduced\",\"E06_reduced\",\"E06_F_reduced\",\"E06_M_reduced\",\"E07_reduced\",\"E07_F_reduced\",\"E07_M_reduced\",]\n"
     ]
    }
   ],
   "source": [
    "print(\"[\",end=\"\")\n",
    "for phen in phens_with_sex:\n",
    "    print(f'\"{phen}_reduced\",',end=\"\")\n",
    "print(\"]\")"
   ]
  },
  {
   "cell_type": "code",
   "execution_count": 4,
   "id": "eef83bc3",
   "metadata": {},
   "outputs": [
    {
     "ename": "NameError",
     "evalue": "name 'phenotypes_dataset' is not defined",
     "output_type": "error",
     "traceback": [
      "\u001b[0;31m---------------------------------------------------------------------------\u001b[0m",
      "\u001b[0;31mNameError\u001b[0m                                 Traceback (most recent call last)",
      "\u001b[0;32m/tmp/ipykernel_4043/1862140882.py\u001b[0m in \u001b[0;36m<module>\u001b[0;34m\u001b[0m\n\u001b[0;32m----> 1\u001b[0;31m \u001b[0mphenotypes_dataset\u001b[0m\u001b[0;34m\u001b[0m\u001b[0;34m\u001b[0m\u001b[0m\n\u001b[0m",
      "\u001b[0;31mNameError\u001b[0m: name 'phenotypes_dataset' is not defined"
     ]
    }
   ],
   "source": [
    "phenotypes_dataset"
   ]
  },
  {
   "cell_type": "code",
   "execution_count": 7,
   "id": "cae8e1f8",
   "metadata": {},
   "outputs": [
    {
     "data": {
      "text/plain": [
       "'/sci/nosnap/michall/roeizucker/Hypothyroidism_hackaton/ukbb_dataset.csv'"
      ]
     },
     "execution_count": 7,
     "metadata": {},
     "output_type": "execute_result"
    }
   ],
   "source": [
    "dataset_file"
   ]
  }
 ],
 "metadata": {
  "kernelspec": {
   "display_name": "Python 3 (ipykernel)",
   "language": "python",
   "name": "python3"
  },
  "language_info": {
   "codemirror_mode": {
    "name": "ipython",
    "version": 3
   },
   "file_extension": ".py",
   "mimetype": "text/x-python",
   "name": "python",
   "nbconvert_exporter": "python",
   "pygments_lexer": "ipython3",
   "version": "3.7.3"
  }
 },
 "nbformat": 4,
 "nbformat_minor": 5
}
