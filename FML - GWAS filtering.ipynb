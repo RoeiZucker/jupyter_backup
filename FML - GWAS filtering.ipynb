{
 "cells": [
  {
   "cell_type": "code",
   "execution_count": 1,
   "id": "ea9cd6c6",
   "metadata": {},
   "outputs": [],
   "source": [
    "import glob, os\n"
   ]
  },
  {
   "cell_type": "code",
   "execution_count": null,
   "id": "3c80bb7e",
   "metadata": {},
   "outputs": [],
   "source": [
    "path = \"/cs/labs/michall/roeizucker/plink_results/reduced_snps2\"\n",
    "os.chdir(path)\n",
    "count_loaded = 0\n",
    "count_remaining = 0\n",
    "for file_name in glob.glob(\"small*.log\"):\n",
    "    with open (path + \"/\" + file_name) as file:\n",
    "        print(file_name)\n"
   ]
  }
 ],
 "metadata": {
  "kernelspec": {
   "display_name": "myenv",
   "language": "python",
   "name": "myenv"
  },
  "language_info": {
   "codemirror_mode": {
    "name": "ipython",
    "version": 3
   },
   "file_extension": ".py",
   "mimetype": "text/x-python",
   "name": "python",
   "nbconvert_exporter": "python",
   "pygments_lexer": "ipython3",
   "version": "3.7.3"
  }
 },
 "nbformat": 4,
 "nbformat_minor": 5
}
