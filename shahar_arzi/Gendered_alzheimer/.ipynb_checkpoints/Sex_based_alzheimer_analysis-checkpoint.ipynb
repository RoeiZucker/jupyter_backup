{
 "cells": [
  {
   "cell_type": "markdown",
   "id": "c94bcb5c",
   "metadata": {},
   "source": [
    "# Sex Based Alzheimer Analysis\n",
    "this notbook is used for creating the scripts and data for a sex based Alzheimer's disease (ICD10 G30) analysis ."
   ]
  },
  {
   "cell_type": "code",
   "execution_count": 1,
   "id": "2586711f",
   "metadata": {},
   "outputs": [],
   "source": [
    "import pandas as pd"
   ]
  },
  {
   "cell_type": "code",
   "execution_count": 3,
   "id": "c459a8f6",
   "metadata": {},
   "outputs": [],
   "source": [
    "base_df = pd.read_csv(\"/cs/labs/michall/roeizucker/ukbb_files/alzhimers_24_1_23.csv\",low_memory=False)"
   ]
  },
  {
   "cell_type": "markdown",
   "id": "95ec5e8e",
   "metadata": {},
   "source": [
    "## PWAS Analysis"
   ]
  },
  {
   "cell_type": "code",
   "execution_count": 8,
   "id": "da9c93aa",
   "metadata": {},
   "outputs": [],
   "source": [
    "# load the previous PWAS analysis file to filter participants:\n",
    "pwas_df = pd.read_csv('/cs/labs/michall/roeizucker/10krun/runs/0:11/ukbb_dataset.csv')"
   ]
  },
  {
   "cell_type": "code",
   "execution_count": 60,
   "id": "40913ec2",
   "metadata": {},
   "outputs": [
    {
     "name": "stderr",
     "output_type": "stream",
     "text": [
      "/cs/usr/roeizucker/my_python/lib/python3.7/site-packages/ipykernel_launcher.py:3: SettingWithCopyWarning: \n",
      "A value is trying to be set on a copy of a slice from a DataFrame.\n",
      "Try using .loc[row_indexer,col_indexer] = value instead\n",
      "\n",
      "See the caveats in the documentation: https://pandas.pydata.org/pandas-docs/stable/user_guide/indexing.html#returning-a-view-versus-a-copy\n",
      "  This is separate from the ipykernel package so we can avoid doing imports until\n",
      "/cs/usr/roeizucker/my_python/lib/python3.7/site-packages/ipykernel_launcher.py:8: SettingWithCopyWarning: \n",
      "A value is trying to be set on a copy of a slice from a DataFrame.\n",
      "Try using .loc[row_indexer,col_indexer] = value instead\n",
      "\n",
      "See the caveats in the documentation: https://pandas.pydata.org/pandas-docs/stable/user_guide/indexing.html#returning-a-view-versus-a-copy\n",
      "  \n"
     ]
    }
   ],
   "source": [
    "# merge the two dataframes\n",
    "filtred_base_df = base_df[['eid','p41270']]\n",
    "filtred_base_df[\"eid2\"] = filtred_base_df['eid']\n",
    "filtred_base_df.set_index(\"eid2\", inplace=True)\n",
    "pwas_df[\"eid2\"] = pwas_df['eid']\n",
    "pwas_df.set_index(\"eid2\", inplace=True)\n",
    "\n",
    "filtred_base_df[\"has_G30\"] = filtred_base_df['p41270'].str.contains(\"G30\")\n",
    "pwas_df[\"G30\"] = filtred_base_df[\"has_G30\"]\n",
    "pwas_df[\"G30\"] = pwas_df[\"G30\"].fillna(0.0)\n",
    "pwas_df[\"G30\"] = pwas_df[\"G30\"].astype(float)\n",
    "\n",
    "# add gender based data\n",
    "pwas_df.loc[(pwas_df[\"G30\"] == 1.0) & (pwas_df[\"sex\"] == 0.0),\"G30_F\"] = 1.0\n",
    "pwas_df.loc[(pwas_df[\"G30\"] == 0.0) & (pwas_df[\"sex\"] == 0.0),\"G30_F\"] = 0.0\n",
    "pwas_df.loc[(pwas_df[\"G30\"] == 1.0) & (pwas_df[\"sex\"] == 1.0),\"G30_M\"] = 1.0\n",
    "pwas_df.loc[(pwas_df[\"G30\"] == 0.0) & (pwas_df[\"sex\"] == 1.0),\"G30_M\"] = 0.0\n",
    "# pwas_df\n",
    "pwas_df.to_csv(\"/cs/labs/michall/roeizucker/sex_based_alzheimer/ukbb_dataset.csv\")"
   ]
  },
  {
   "cell_type": "code",
   "execution_count": null,
   "id": "68e61ccb",
   "metadata": {},
   "outputs": [],
   "source": []
  }
 ],
 "metadata": {
  "kernelspec": {
   "display_name": "Python 3",
   "language": "python",
   "name": "python3"
  },
  "language_info": {
   "codemirror_mode": {
    "name": "ipython",
    "version": 3
   },
   "file_extension": ".py",
   "mimetype": "text/x-python",
   "name": "python",
   "nbconvert_exporter": "python",
   "pygments_lexer": "ipython3",
   "version": "3.7.3"
  }
 },
 "nbformat": 4,
 "nbformat_minor": 5
}
