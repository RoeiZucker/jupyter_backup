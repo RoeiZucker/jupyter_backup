{
 "cells": [
  {
   "cell_type": "code",
   "execution_count": 2,
   "id": "076ccc32",
   "metadata": {},
   "outputs": [],
   "source": [
    "import pandas as pd\n",
    "from os import walk\n",
    "from shutil import copyfile\n"
   ]
  },
  {
   "cell_type": "code",
   "execution_count": 18,
   "id": "a6ffefe7",
   "metadata": {},
   "outputs": [
    {
     "name": "stdout",
     "output_type": "stream",
     "text": [
      "P55075\n"
     ]
    }
   ],
   "source": [
    "col_list = [\"gene_index\",\"uniprot_id\"]\n",
    "\n",
    "dict_frame = pd.read_csv('/cs/labs/michall/roeizucker/virt_env_install_test/results/Stroke.csv',usecols=col_list)\n",
    "translator = dict_frame.set_index('gene_index').T.to_dict('list')\n",
    "print(translator[5416][0])"
   ]
  },
  {
   "cell_type": "code",
   "execution_count": 31,
   "id": "db737b82",
   "metadata": {},
   "outputs": [],
   "source": [
    "mypath = '/cs/labs/michall/roeizucker/virt_env_install_test/ukbb_imputation_variants_per_gene'\n",
    "new_path = '/cs/labs/michall/roeizucker/pwas_catalog'\n",
    "file_names = next(walk(mypath), (None, None, []))[2]  # [] if no file\n",
    "for name in file_names:\n",
    "    num = int(name.replace('.csv',''))\n",
    "    new_name = translator[num][0] + '.csv'\n",
    "#     print((mypath + \"/\" + name, new_path + \"/\" + new_name))\n",
    "    copyfile(mypath + \"/\" + name, new_path + \"/\" + new_name)\n",
    "    "
   ]
  },
  {
   "cell_type": "code",
   "execution_count": 6,
   "id": "9c4c1760",
   "metadata": {},
   "outputs": [],
   "source": [
    "excell_file = pd.ExcelFile('/cs/labs/michall/roeizucker/pwas_catalog/Datasets used in Figure 3.xlsx')\n",
    "\n",
    "\n"
   ]
  },
  {
   "cell_type": "code",
   "execution_count": 12,
   "id": "3fdd1eeb",
   "metadata": {},
   "outputs": [
    {
     "data": {
      "text/html": [
       "<div>\n",
       "<style scoped>\n",
       "    .dataframe tbody tr th:only-of-type {\n",
       "        vertical-align: middle;\n",
       "    }\n",
       "\n",
       "    .dataframe tbody tr th {\n",
       "        vertical-align: top;\n",
       "    }\n",
       "\n",
       "    .dataframe thead th {\n",
       "        text-align: right;\n",
       "    }\n",
       "</style>\n",
       "<table border=\"1\" class=\"dataframe\">\n",
       "  <thead>\n",
       "    <tr style=\"text-align: right;\">\n",
       "      <th></th>\n",
       "      <th>Indel</th>\n",
       "      <th>Relative indel location</th>\n",
       "    </tr>\n",
       "  </thead>\n",
       "  <tbody>\n",
       "    <tr>\n",
       "      <th>0</th>\n",
       "      <td>1 1115544 rs568320285 A AC</td>\n",
       "      <td>0.222076</td>\n",
       "    </tr>\n",
       "    <tr>\n",
       "      <th>1</th>\n",
       "      <td>1 1168239 rs533071750 C CG</td>\n",
       "      <td>0.221625</td>\n",
       "    </tr>\n",
       "    <tr>\n",
       "      <th>2</th>\n",
       "      <td>1 1181944 rs571313759 T TG</td>\n",
       "      <td>0.152510</td>\n",
       "    </tr>\n",
       "    <tr>\n",
       "      <th>3</th>\n",
       "      <td>1 1219362 rs574817957 CCA C</td>\n",
       "      <td>0.191524</td>\n",
       "    </tr>\n",
       "    <tr>\n",
       "      <th>4</th>\n",
       "      <td>1 1221488 rs555847974 CAA C</td>\n",
       "      <td>0.401151</td>\n",
       "    </tr>\n",
       "    <tr>\n",
       "      <th>...</th>\n",
       "      <td>...</td>\n",
       "      <td>...</td>\n",
       "    </tr>\n",
       "    <tr>\n",
       "      <th>3521</th>\n",
       "      <td>X 152957656 rs199498083 C CA</td>\n",
       "      <td>0.964072</td>\n",
       "    </tr>\n",
       "    <tr>\n",
       "      <th>3522</th>\n",
       "      <td>X 153247946 . CT C</td>\n",
       "      <td>0.628723</td>\n",
       "    </tr>\n",
       "    <tr>\n",
       "      <th>3523</th>\n",
       "      <td>X 153533349 . TG T</td>\n",
       "      <td>0.123794</td>\n",
       "    </tr>\n",
       "    <tr>\n",
       "      <th>3524</th>\n",
       "      <td>X 153880603 . GC G</td>\n",
       "      <td>0.639476</td>\n",
       "    </tr>\n",
       "    <tr>\n",
       "      <th>3525</th>\n",
       "      <td>X 155231142 . GT G</td>\n",
       "      <td>0.075787</td>\n",
       "    </tr>\n",
       "  </tbody>\n",
       "</table>\n",
       "<p>3526 rows × 2 columns</p>\n",
       "</div>"
      ],
      "text/plain": [
       "                             Indel  Relative indel location\n",
       "0       1 1115544 rs568320285 A AC                 0.222076\n",
       "1       1 1168239 rs533071750 C CG                 0.221625\n",
       "2       1 1181944 rs571313759 T TG                 0.152510\n",
       "3      1 1219362 rs574817957 CCA C                 0.191524\n",
       "4      1 1221488 rs555847974 CAA C                 0.401151\n",
       "...                            ...                      ...\n",
       "3521  X 152957656 rs199498083 C CA                 0.964072\n",
       "3522            X 153247946 . CT C                 0.628723\n",
       "3523            X 153533349 . TG T                 0.123794\n",
       "3524            X 153880603 . GC G                 0.639476\n",
       "3525            X 155231142 . GT G                 0.075787\n",
       "\n",
       "[3526 rows x 2 columns]"
      ]
     },
     "execution_count": 12,
     "metadata": {},
     "output_type": "execute_result"
    }
   ],
   "source": [
    "df1 = pd.read_excel(excell_file, 'Figure 3 (C)_1000GP')\n",
    "df1"
   ]
  },
  {
   "cell_type": "code",
   "execution_count": null,
   "id": "d428948c",
   "metadata": {},
   "outputs": [],
   "source": []
  }
 ],
 "metadata": {
  "kernelspec": {
   "display_name": "myenv",
   "language": "python",
   "name": "myenv"
  },
  "language_info": {
   "codemirror_mode": {
    "name": "ipython",
    "version": 3
   },
   "file_extension": ".py",
   "mimetype": "text/x-python",
   "name": "python",
   "nbconvert_exporter": "python",
   "pygments_lexer": "ipython3",
   "version": "3.7.3"
  }
 },
 "nbformat": 4,
 "nbformat_minor": 5
}
