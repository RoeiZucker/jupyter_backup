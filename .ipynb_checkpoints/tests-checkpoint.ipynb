{
 "cells": [
  {
   "cell_type": "code",
   "execution_count": 88,
   "id": "94928a07",
   "metadata": {},
   "outputs": [
    {
     "data": {
      "text/plain": [
       "[['a', 'a', 'b', 'c', 'b'],\n",
       " ['a', 'a', 'bcb'],\n",
       " ['aa', 'b', 'c', 'b'],\n",
       " ['aa', 'bcb']]"
      ]
     },
     "execution_count": 88,
     "metadata": {},
     "output_type": "execute_result"
    }
   ],
   "source": [
    "def is_palindrom(val):\n",
    "    return val == val[::-1]\n",
    "\n",
    "def palindrome_partition(val):\n",
    "    if len(val) == 0:\n",
    "        return [[]]\n",
    "    values = []\n",
    "    for i in range(1,len(val) + 1):\n",
    "        if is_palindrom(val[:i]):\n",
    "            for pal in palindrome_partition(val[i:]):\n",
    "                to_add = [val[:i]]\n",
    "                to_add.extend(pal)\n",
    "                values.append(to_add)\n",
    "    return values\n",
    "\n",
    "palindrome_partition(\"aabcb\")"
   ]
  },
  {
   "cell_type": "code",
   "execution_count": 100,
   "id": "5c561388",
   "metadata": {},
   "outputs": [
    {
     "data": {
      "text/plain": [
       "4"
      ]
     },
     "execution_count": 100,
     "metadata": {},
     "output_type": "execute_result"
    }
   ],
   "source": [
    "class TreeNode:\n",
    "    def __init__(self, val=0, left=None, right=None):\n",
    "        self.val = val\n",
    "        self.left = left\n",
    "        self.right = right\n",
    "\n",
    "        \n",
    "def is_unival(root):\n",
    "    if root == None:\n",
    "        return True\n",
    "    if root.left and root.left.val != root.val:\n",
    "        return False\n",
    "    if root.right and root.right.val != root.val:\n",
    "        return False\n",
    "    return is_unival(root.left) and is_unival(root.right)\n",
    "\n",
    "def count_unival_subtrees(root):\n",
    "    if root == None:\n",
    "        return 0\n",
    "    left_count = count_unival_subtrees(root.left)\n",
    "    right_count = count_unival_subtrees(root.right)\n",
    "    if not is_unival(root.left) or not is_unival(root.left) or \\\n",
    "    (root.left and root.left.val != root.val) or  \\\n",
    "    (root.right and root.right.val != root.val):\n",
    "        return left_count + right_count\n",
    "    return left_count + right_count + 1\n",
    "        \n",
    "    \n",
    "# Example 1\n",
    "root = TreeNode(5)\n",
    "root.left = TreeNode(1)\n",
    "root.right = TreeNode(5)\n",
    "root.left.left = TreeNode(5)\n",
    "root.left.right = TreeNode(5)\n",
    "root.right.right = TreeNode(5)\n",
    "count_unival_subtrees(root)"
   ]
  },
  {
   "cell_type": "code",
   "execution_count": 106,
   "id": "9a672025",
   "metadata": {},
   "outputs": [
    {
     "name": "stdout",
     "output_type": "stream",
     "text": [
      "1\n",
      "2\n",
      "None\n",
      "4\n",
      "1\n",
      "2\n",
      "4\n"
     ]
    }
   ],
   "source": [
    "class Node:\n",
    "    def __init__(self, val=None, next=None, child=None):\n",
    "        self.val = val\n",
    "        self.next = next\n",
    "        self.child = child\n",
    "\n",
    "def remove_na(lst):\n",
    "    while lst.next is not None:\n",
    "        if lst.next.val is None:\n",
    "            lst.next = lst.next.next\n",
    "        lst = lst.next\n",
    "        \n",
    "\n",
    "def print_nodes(lst):\n",
    "    while lst is not None:\n",
    "        print(lst.val)\n",
    "        lst=lst.next\n",
    "    \n",
    "def remove_None(lst):\n",
    "    while ____(1)____:\n",
    "        if ____(2)____ is None:\n",
    "            ____(3)____ = ____(4)____\n",
    "        ____(5)____\n",
    "\n",
    "node10 = Node(10)\n",
    "node8 = Node(8, child=node10)\n",
    "node7 = Node(7, next=node8)\n",
    "\n",
    "node4 = Node(4)\n",
    "node3 = Node(None, next=node4)\n",
    "\n",
    "node2 = Node(2, next=node3, child=node7)\n",
    "node1 = Node(1, next=node2)\n",
    "print_nodes(node1)\n",
    "remove_na(node1)\n",
    "print_nodes(node1)\n"
   ]
  },
  {
   "cell_type": "code",
   "execution_count": null,
   "id": "cea177ce",
   "metadata": {},
   "outputs": [],
   "source": [
    "import math\n",
    "def f3(n):\n",
    "    s = (n/2) * (n/3) * (n/4) * (n/5)\n",
    "    for i in range (int(s * math.log(n^2))):\n",
    "        if i < math.log(n):\n",
    "            print (n)\n",
    "        else:\n",
    "            break\n",
    "    for j in range(2 * n):\n",
    "        for t in range(j):\n",
    "            print(n)\n"
   ]
  }
 ],
 "metadata": {
  "kernelspec": {
   "display_name": "Python 3 (ipykernel)",
   "language": "python",
   "name": "python3"
  },
  "language_info": {
   "codemirror_mode": {
    "name": "ipython",
    "version": 3
   },
   "file_extension": ".py",
   "mimetype": "text/x-python",
   "name": "python",
   "nbconvert_exporter": "python",
   "pygments_lexer": "ipython3",
   "version": "3.7.3"
  }
 },
 "nbformat": 4,
 "nbformat_minor": 5
}
