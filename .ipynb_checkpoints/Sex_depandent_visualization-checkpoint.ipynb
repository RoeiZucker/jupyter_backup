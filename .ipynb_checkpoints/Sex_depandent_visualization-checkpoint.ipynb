{
 "cells": [
  {
   "cell_type": "code",
   "execution_count": 1,
   "id": "a5752724",
   "metadata": {},
   "outputs": [
    {
     "name": "stderr",
     "output_type": "stream",
     "text": [
      "/cs/labs/michall/roeizucker/fml_virt_env/lib/python3.7/site-packages/ipykernel_launcher.py:5: DeprecationWarning: the imp module is deprecated in favour of importlib; see the module's documentation for alternative uses\n",
      "  \"\"\"\n"
     ]
    }
   ],
   "source": [
    "import pandas as pd\n",
    "import numpy as np\n",
    "import matplotlib.pyplot as plt\n",
    "from scipy import stats\n",
    "import imp\n",
    "import importlib\n",
    "import os\n",
    "from os import listdir\n",
    "from os.path import isfile, join\n",
    "import statsmodels.stats.multitest as smm\n",
    "from pwas.shared_utils.util import get_parser_file_type, get_parser_directory_type, multipletests_with_nulls\n",
    "import time \n",
    "from IPython.display import clear_output\n"
   ]
  },
  {
   "cell_type": "code",
   "execution_count": 38,
   "id": "266a6b01",
   "metadata": {},
   "outputs": [],
   "source": [
    "#Import libraries\n",
    "from matplotlib_venn import venn2, venn2_circles, venn2_unweighted\n",
    "from matplotlib_venn import venn3, venn3_circles\n",
    "from matplotlib import pyplot as plt\n",
    "%matplotlib inline"
   ]
  },
  {
   "cell_type": "markdown",
   "id": "d3634394",
   "metadata": {},
   "source": [
    "# Definitions"
   ]
  },
  {
   "cell_type": "markdown",
   "id": "661b3d85",
   "metadata": {},
   "source": [
    "## basic definitions"
   ]
  },
  {
   "cell_type": "code",
   "execution_count": 3,
   "id": "11cc765f",
   "metadata": {},
   "outputs": [],
   "source": [
    "plt.rcParams['axes.facecolor'] = 'white'\n",
    "SPECIFIC_PHENOTYPE = \"I10\""
   ]
  },
  {
   "cell_type": "code",
   "execution_count": 4,
   "id": "71cdc0a3",
   "metadata": {},
   "outputs": [],
   "source": [
    "# GWAS_CONSTANTS\n",
    "base_dir = \"/cs/labs/michall/roeizucker/10krun/runs/48:59/GWAS/results\"\n",
    "# base_dir = \"/cs/labs/michall/roeizucker/10krun/runs/12:23/GWAS/results\"\n",
    "phen = SPECIFIC_PHENOTYPE\n",
    "WORK_PATH = '/cs/labs/michall/roeizucker/10krun/runs/'\n",
    "PHEN_PER_DIR = 12\n",
    "GENE_FILE_PATH = '/cs/labs/michall/roeizucker/virt_env_install_test/genes_hg19.csv'"
   ]
  },
  {
   "cell_type": "code",
   "execution_count": 5,
   "id": "03739eb4",
   "metadata": {},
   "outputs": [],
   "source": [
    "# for i in range(200):\n",
    "#     df_aaa = pd.read_csv(f\"/cs/labs/michall/roeizucker/virt_env_install_test/ukbb_imputation_gene_effect_scores/{i}.csv\")\n",
    "#     print(np.var(np.array(df_aaa[\"dominant\"])))\n",
    "# file_path = \"/cs/labs/michall/roeizucker/remote_test/testush\"\n",
    "# with open(file_path) as file:\n",
    "#     output = file.read()\n",
    "# file_set = set(output.split(\"\\n\"))\n",
    "# df = pd.read_csv(\"/cs/labs/michall/roeizucker/virt_env_install_test/genes_hg19.csv\")\n",
    "# our_genes = set(df[\"uniprot_id\"])\n",
    "# reduced_set = file_set - our_genes\n",
    "# with open(r'/cs/labs/michall/roeizucker/not_viewd_by_PWAS', 'w') as fp:\n",
    "#     for item in sorted(list(reduced_set)):\n",
    "#         # write each item on a new line\n",
    "#         fp.write(\"%s\\n\" % item)\n",
    "#     print('Done')\n",
    "\n",
    "# sorted(list(reduced_set))"
   ]
  },
  {
   "cell_type": "code",
   "execution_count": 6,
   "id": "1a39e03d",
   "metadata": {},
   "outputs": [],
   "source": [
    "def set_plot_lims(start,end,color='red'):\n",
    "    plt.gca().set_xlim([start,end])\n",
    "    plt.gca().set_ylim([start,end])\n",
    "    x = list((plt.gca().get_xlim()))\n",
    "    y = list((plt.gca().get_ylim()))\n",
    "    plt.plot(x,y,linestyle='dashed',dashes=(5, 3),color=color,linewidth=1)\n",
    "#     x = [0,end]\n",
    "#     y = [5,5]\n",
    "#     plt.plot(x,y,color='blue',linestyle='dashed')\n",
    "\n",
    "#     y = [0,end]\n",
    "#     x = [5,5]\n",
    "#     plt.plot(x,y,color='blue',linestyle='dashed')\n"
   ]
  },
  {
   "cell_type": "markdown",
   "id": "030fc6b9",
   "metadata": {},
   "source": [
    "## GWAS definitions"
   ]
  },
  {
   "cell_type": "code",
   "execution_count": 7,
   "id": "b6b89c8c",
   "metadata": {},
   "outputs": [],
   "source": [
    "def handle_df(df):\n",
    "#     df['-logP'] = df['Z_STAT']\n",
    "    df['-logP'] = -np.log10(df['P'])\n",
    "    df['ind'] = df['POS']\n",
    "    df = df.set_index(['#CHROM','POS','REF','ALT'])\n",
    "    return df\n",
    "    "
   ]
  },
  {
   "cell_type": "code",
   "execution_count": 8,
   "id": "a89f0be6",
   "metadata": {},
   "outputs": [],
   "source": [
    "def create_combined_gwas_datafrmes(base_dir,phen,chrom,female_p_range=4,male_p_range=4,all_p_range=4):\n",
    "    try:\n",
    "#         print(f\"{base_dir}/{phen}_chr{chrom}.PHENO1.glm.logistic\")\n",
    "        male_df = pd.read_csv(f\"{base_dir}/{phen}_M_chr{chrom}.PHENO1.glm.logistic\",sep=\"\\t\")\n",
    "        # male_df['-logP'] = -np.log10(male_df['P'])\n",
    "        male_df = handle_df(male_df)\n",
    "\n",
    "        female_df = pd.read_csv(f\"{base_dir}/{phen}_F_chr{chrom}.PHENO1.glm.logistic\",sep=\"\\t\")\n",
    "        female_df = handle_df(female_df)\n",
    "\n",
    "        both_df = pd.read_csv(f\"{base_dir}/{phen}_chr{chrom}.PHENO1.glm.logistic\",sep=\"\\t\")\n",
    "    #     print(\"#\" * 30)\n",
    "    #     print(f\"{base_dir}/{phen}_chr{chrom}.PHENO1.glm.logistic\")\n",
    "    #     print(both_df)\n",
    "    #     print(\"#\" * 30)\n",
    "        both_df = handle_df(both_df)\n",
    "    except pd.errors.EmptyDataError:\n",
    "        return -1,-1,-1,-1\n",
    "    except FileNotFoundError:\n",
    "        return -1,-1,-1,-1\n",
    "        \n",
    "#     print(both_df.loc[(1,901922)])\n",
    " \n",
    "    comb_df = pd.DataFrame()\n",
    "    comb_df[\"male_neg_logP\"] = male_df['-logP']\n",
    "    comb_df[\"female_neg_logP\"] = female_df['-logP']\n",
    "    comb_df[\"both_neg_logP\"] = both_df['-logP']\n",
    "    \n",
    "    comb_df[\"malez\"] = male_df['Z_STAT']\n",
    "    comb_df[\"femalez\"] = female_df['Z_STAT']\n",
    "    comb_df[\"bothz\"] = both_df['Z_STAT']\n",
    "    comb_df[\"ID\"] =female_df[\"ID\"]\n",
    "    comb_df['ind'] = female_df['ind']\n",
    "    comb_df = comb_df.dropna()\n",
    "    x_labels.append(str(chrom))\n",
    "#     x_labels_pos.append((comb_df['ind'].iloc[-1] - (comb_df['ind'].iloc[-1] - comb_df['ind'].iloc[0])/2))\n",
    "#     comb_df = comb_df.query('female_neg_logP >=4 | male_neg_logP >=4')\n",
    "    comb_df = comb_df.query('both_neg_logP >=3') #removed to bring everything\n",
    "\n",
    "#     comb_df = comb_df.query('female_neg_logP >= both_neg_logP | male_neg_logP >=both_neg_logP')\n",
    "    return male_df,female_df,both_df,comb_df\n"
   ]
  },
  {
   "cell_type": "code",
   "execution_count": 9,
   "id": "99da03db",
   "metadata": {},
   "outputs": [
    {
     "name": "stdout",
     "output_type": "stream",
     "text": [
      "N92\n"
     ]
    }
   ],
   "source": [
    "GWAS_outputs_path = \"/cs/labs/michall/roeizucker/phewas_run/GWAS_results\"\n",
    "def create_multiple_GWAS_files():\n",
    "    spec = importlib.util.spec_from_file_location(\"module.name\", \"/cs/labs/michall/roeizucker/10krun/phenotype_specs.py\")\n",
    "    foo = importlib.util.module_from_spec(spec)\n",
    "    spec.loader.exec_module(foo)\n",
    "    old_specs = foo.specs\n",
    "    new_specs = []\n",
    "    for spec in old_specs:\n",
    "    #     print(spec)\n",
    "        new_specs.append(spec)\n",
    "        spec_f = spec.copy()\n",
    "        spec_f['name']+=\"_F\"\n",
    "        spec_f['sex_filter'] = 'F'\n",
    "        spec_m = spec.copy()\n",
    "        spec_m['name']+=\"_M\"\n",
    "        spec_m['sex_filter'] = 'M'\n",
    "        new_specs.append(spec_f)\n",
    "        new_specs.append(spec_m)\n",
    "\n",
    "    counter = 0\n",
    "    # print(new_specs)\n",
    "    while counter < len(new_specs):\n",
    "    #     create dir for current batch of phenotypes\n",
    "        curr_counter = counter\n",
    "        dir_name = WORK_PATH + str(counter) + \":\" + str(counter + PHEN_PER_DIR - 1)\n",
    "    #     print(dir_name)\n",
    "        if not os.path.exists(dir_name):\n",
    "            os.mkdir(dir_name)\n",
    "        specs_file = dir_name + \"/phenotype_specs.py\"\n",
    "        spec = importlib.util.spec_from_file_location(\"module.name\", specs_file)\n",
    "        foo = importlib.util.module_from_spec(spec)\n",
    "        spec.loader.exec_module(foo)\n",
    "        for spec in foo.specs:\n",
    "            phen = spec[\"name\"]\n",
    "            if \"_\" not in spec[\"name\"] and not os.path.isfile(f\"{GWAS_outputs_path}/{phen}_gwas_results.csv\"):\n",
    "                clear_output(wait=True)\n",
    "                print(phen)\n",
    "                base_dir = dir_name + \"/GWAS/results\"\n",
    "                dataframes = []\n",
    "                for chrom in range(1,23):\n",
    "                    male_df,female_df,both_df,comb_df = create_combined_gwas_datafrmes(base_dir,phen,chrom)\n",
    "                    if  type(male_df) is int:\n",
    "                        continue\n",
    "                    dataframes.append(comb_df)\n",
    "                if len(dataframes) > 0:\n",
    "                    result = pd.concat(dataframes)\n",
    "                    result.to_csv(f\"{GWAS_outputs_path}/{phen}_gwas_results.csv\")\n",
    "#                 create_graphs_for_phenotype(dir_name + \"/GWAS/results\",spec[\"name\"])\n",
    "\n",
    "            counter+=1\n",
    "create_multiple_GWAS_files()"
   ]
  },
  {
   "cell_type": "code",
   "execution_count": 63,
   "id": "b4ef9e69",
   "metadata": {},
   "outputs": [],
   "source": [
    "def pie_formater(pct, allvals):\n",
    "    absolute = int(np.round(pct/100.*np.sum(allvals)))\n",
    "    return \"{:.1f}% ({:d})\".format(pct, absolute)\n",
    "\n",
    "def find_sex_depandent_genes_for_snps(alpha, res):\n",
    "    reg_sig, female_sig, male_sig = get_sig_snps_gendered(alpha,res)\n",
    "    female_sig_genes = find_genes_for_snps(female_sig,genes_csv)\n",
    "    male_sig_genes = find_genes_for_snps(male_sig,genes_csv)\n",
    "    reg_sig_genes = find_genes_for_snps(reg_sig,genes_csv)\n",
    "    return female_sig_genes, male_sig_genes, reg_sig_genes\n",
    "\n",
    "def create_GWAS_to_gene_intersection_pie_chart(alpha,res,genes_csv):\n",
    "    reg_sig, female_sig, male_sig = get_sig_snps_gendered(alpha,res)\n",
    "    female_sig_genes, male_sig_genes, reg_sig_genes = find_sex_depandent_genes_for_snps(alpha, res)\n",
    "    labels,values = create_intersection_groups(reg_sig_genes,female_sig_genes,male_sig_genes)\n",
    "    plt.pie(values,labels=labels,autopct=lambda pct: pie_formater(pct, values))\n",
    "    plt.title(\"GWAS gene distribution of relevant genes by sex, alpha=\" + str(alpha))\n",
    "    plt.show()\n",
    "\n",
    "def create_GWAS_to_gene_intersection_venn_diagram(alpha,res,genes_csv):\n",
    "    reg_sig, female_sig, male_sig = get_sig_snps_gendered(alpha,res)\n",
    "    female_sig_genes, male_sig_genes, reg_sig_genes = find_sex_depandent_genes_for_snps(alpha, res)\n",
    "    labels,values = create_intersection_groups(reg_sig_genes,female_sig_genes,male_sig_genes)\n",
    "    venn3(subsets = (20, 10, 12, 10, 9, 4, 3), set_labels = ('Group A', 'Group B', 'Group C'), alpha = 0.5);\n",
    "#     plt.pie(values,labels=labels,autopct=lambda pct: pie_formater(pct, values))\n",
    "    \n",
    "    plt.title(\"GWAS gene distribution of relevant genes by sex, alpha=\" + str(alpha))\n",
    "    plt.show()"
   ]
  },
  {
   "cell_type": "code",
   "execution_count": 11,
   "id": "9303ff9f",
   "metadata": {},
   "outputs": [],
   "source": [
    "def get_sig_snps_gendered(alpha,res):\n",
    "    alpha = str(alpha)\n",
    "    male_sig = res.query(' malep >=' + alpha)\n",
    "    female_sig = res.query(' femalep >=' + alpha)\n",
    "    reg_sig = res.query(' regp >=' + alpha)\n",
    "    return reg_sig, female_sig, male_sig"
   ]
  },
  {
   "cell_type": "code",
   "execution_count": 12,
   "id": "18ea8a11",
   "metadata": {},
   "outputs": [],
   "source": [
    "def create_intersection_groups(reg_sig_genes,female_sig_genes,male_sig_genes):\n",
    "    combined_only = reg_sig_genes.difference(female_sig_genes).difference(male_sig_genes)\n",
    "    female_only = female_sig_genes.difference(reg_sig_genes).difference(male_sig_genes)\n",
    "    male_only = female_sig_genes.difference(reg_sig_genes).difference(female_sig_genes)\n",
    "    female_combined = female_sig_genes.intersection(reg_sig_genes).difference(male_sig_genes)\n",
    "    male_combined = male_sig_genes.intersection(reg_sig_genes).difference(female_sig_genes)\n",
    "    male_female = male_sig_genes.intersection(female_sig_genes).difference(reg_sig_genes)\n",
    "    male_female_combined = male_sig_genes.intersection(female_sig_genes).intersection(reg_sig_genes)\n",
    "    lables = [\"combined only\", \"female only\", \"male only\", \"female-combined\",\n",
    "              \"male-combined\",\"male-female\",\"male-female-combined\"]\n",
    "    values = [len(combined_only), len(female_only),len(male_only),len(female_combined),\n",
    "             len(male_combined),len(male_female),len(male_female_combined)]\n",
    "    new_labels = []\n",
    "    new_values = []\n",
    "    for ind ,val in enumerate(values):\n",
    "        if val == 0:\n",
    "#             lables[ind] = \"\"\n",
    "            continue\n",
    "        new_labels.append(lables[ind])\n",
    "        new_values.append(val)\n",
    "    return new_labels, new_values\n"
   ]
  },
  {
   "cell_type": "code",
   "execution_count": 13,
   "id": "128339ed",
   "metadata": {},
   "outputs": [],
   "source": [
    "def find_genes_for_snps(df,genes_csv):\n",
    "    sig_genes = set()\n",
    "    for index, row in df.iterrows():\n",
    "        curr = (genes_csv.query(\"chr == '\" + str(row[\"chr\"]) + \"' and cds_start <= \" + str(row[\"ind\"]) + \"and cds_end >= \" + str(row[\"ind\"])))\n",
    "        sig_genes.add(list(curr[\"uniprot_id\"])[0])\n",
    "    return sig_genes\n",
    "\n",
    "def find_genes_for_snps_symbol(df,genes_csv):\n",
    "    sig_genes = set()\n",
    "    for index, row in df.iterrows():\n",
    "        curr = (genes_csv.query(\"chr == '\" + str(row[\"chr\"]) + \"' and cds_start <= \" + str(row[\"ind\"]) + \"and cds_end >= \" + str(row[\"ind\"])))\n",
    "        sig_genes.add(list(curr[\"symbol\"])[0])\n",
    "    return sig_genes"
   ]
  },
  {
   "cell_type": "code",
   "execution_count": 14,
   "id": "3872ba48",
   "metadata": {},
   "outputs": [],
   "source": [
    "def create_graphs_for_phenotype(base_dir,phen):\n",
    "    dataframes = []\n",
    "    for chrom in range(1,23):\n",
    "        male_df = pd.read_csv(f\"{base_dir}/{phen}_M_chr{chrom}.PHENO1.glm.logistic\",sep=\"\\t\")\n",
    "        # male_df['-logP'] = -np.log10(male_df['P'])\n",
    "        male_df = handle_df(male_df)\n",
    "\n",
    "        female_df = pd.read_csv(f\"{base_dir}/{phen}_F_chr{chrom}.PHENO1.glm.logistic\",sep=\"\\t\")\n",
    "        female_df = handle_df(female_df)\n",
    "\n",
    "        comb_df = pd.DataFrame()\n",
    "        comb_df[\"malep\"] = male_df['-logP']\n",
    "        comb_df[\"femalep\"] = female_df['-logP']\n",
    "\n",
    "        comb_df[\"malez\"] = male_df['Z_STAT']\n",
    "        comb_df[\"femalez\"] = female_df['Z_STAT']\n",
    "        comb_df['ind'] = female_df['ind']\n",
    "        comb_df = comb_df.dropna()\n",
    "        comb_df = comb_df.query('femalep >= 6 | malep >=6')\n",
    "        dataframes.append(comb_df)\n",
    "    #     comb_df.plot.scatter(x='male',y='female')\n",
    "    #     plt.title(str( f\"phen {phen} chr {chrom}\"))\n",
    "    #     plt.show()\n",
    "    result = pd.concat(dataframes)\n",
    "    # result = result.query('female >= 2 | male >=2')\n",
    "    result.plot.scatter(x='malez',y='femalez')\n",
    "    plt.title(phen + \" Z scatter\")\n",
    "    set_plot_lims(-10,10)\n",
    "    plt.show()\n",
    "    result = pd.concat(dataframes)\n",
    "\n",
    "    result.plot.scatter(x='malep',y='femalep')\n",
    "    plt.title(phen + \" P scatter\")\n",
    "#     plt.title(str( f\"phen {phen} chr {chrom}\"))\n",
    "    set_plot_lims(0,20)\n",
    "\n",
    "    plt.show()\n",
    "\n",
    "    delta = np.array(result['malez']) / np.array(result['femalez'])\n",
    "    plt.hist(delta)\n",
    "    plt.title(phen + \" Z hist\")\n",
    "    plt.show()"
   ]
  },
  {
   "cell_type": "code",
   "execution_count": 15,
   "id": "4b43ee48",
   "metadata": {},
   "outputs": [],
   "source": [
    "def create_full_dataframe(base_dir,phen):\n",
    "    dataframes = []\n",
    "    for chrom in range(1,23):\n",
    "        male_df = pd.read_csv(f\"{base_dir}/{phen}_M_chr{chrom}.PHENO1.glm.logistic\",sep=\"\\t\")\n",
    "        # male_df['-logP'] = -np.log10(male_df['P'])\n",
    "        male_df = handle_df(male_df)\n",
    "\n",
    "        female_df = pd.read_csv(f\"{base_dir}/{phen}_F_chr{chrom}.PHENO1.glm.logistic\",sep=\"\\t\")\n",
    "        female_df = handle_df(female_df)\n",
    "        \n",
    "        reg_df = pd.read_csv(f\"{base_dir}/{phen}_chr{chrom}.PHENO1.glm.logistic\",sep=\"\\t\")\n",
    "        reg_df = handle_df(reg_df)\n",
    "        \n",
    "        comb_df = pd.DataFrame()\n",
    "        comb_df[\"malep\"] = male_df['-logP']\n",
    "        comb_df[\"femalep\"] = female_df['-logP']\n",
    "        comb_df[\"regp\"]  = reg_df['-logP']\n",
    "        comb_df[\"malez\"] = male_df['Z_STAT']\n",
    "        comb_df[\"femalez\"] = female_df['Z_STAT']\n",
    "        comb_df[\"regz\"]  = reg_df['Z_STAT']\n",
    "        \n",
    "        comb_df['ind'] = female_df['ind']\n",
    "        comb_df[\"ID\"] =female_df[\"ID\"]\n",
    "        comb_df[\"chr\"] = chrom\n",
    "        \n",
    "#         comb_df = comb_df.dropna()\n",
    "#         comb_df = comb_df.query('femalep >= 6 | malep >=6')\n",
    "        dataframes.append(comb_df)\n",
    "    #     comb_df.plot.scatter(x='male',y='female')\n",
    "    #     plt.title(str( f\"phen {phen} chr {chrom}\"))\n",
    "    #     plt.show()\n",
    "    result = pd.concat(dataframes)\n",
    "    return result"
   ]
  },
  {
   "cell_type": "markdown",
   "id": "5792bd2a",
   "metadata": {},
   "source": [
    "## PWAS functions"
   ]
  },
  {
   "cell_type": "code",
   "execution_count": 16,
   "id": "096e10a7",
   "metadata": {},
   "outputs": [],
   "source": [
    "def add_nans_to_fdr(df,rej,pval_corr):    \n",
    "    a = list(pval_corr)\n",
    "    rej = list(rej)\n",
    "    \n",
    "    for i in range(len(df) - len(pval_corr)):\n",
    "        a.append(float(\"nan\"))\n",
    "        rej.append(False)\n",
    "    \n",
    "    return rej,a\n",
    "\n",
    "def add_fdr_to_df(df,inharitance_type,alpha,fdr_leval,master_df,phen):\n",
    "    rej, pval_corr = smm.multipletests(list(df[inharitance_type + \"_pval\"].dropna()), alpha=alpha, method='fdr_bh')[:2]\n",
    "    rej,pval_corr = add_nans_to_fdr(df,rej,pval_corr)\n",
    "    df[phen + \"_\" + inharitance_type + \"_qval_\" + fdr_leval] = pval_corr\n",
    "    df[phen + \"_\" + inharitance_type + \"_fdr_significance_\" + fdr_leval] = rej\n",
    "    master_df[phen + \"_\" + inharitance_type + \"_qval_\" + fdr_leval] = df[phen + \"_recessive_qval_\" + fdr_leval]\n",
    "    master_df[phen + \"_\" + inharitance_type + \"_fdr_significance_\" + fdr_leval] = df[phen + \"_recessive_fdr_significance_\" + fdr_leval]\n"
   ]
  },
  {
   "cell_type": "code",
   "execution_count": 17,
   "id": "06a626e8",
   "metadata": {},
   "outputs": [
    {
     "name": "stderr",
     "output_type": "stream",
     "text": [
      "/cs/labs/michall/roeizucker/fml_virt_env/lib/python3.7/site-packages/ipykernel_launcher.py:17: PerformanceWarning: DataFrame is highly fragmented.  This is usually the result of calling `frame.insert` many times, which has poor performance.  Consider joining all columns at once using pd.concat(axis=1) instead.  To get a de-fragmented frame, use `newframe = frame.copy()`\n",
      "  app.launch_new_instance()\n",
      "/cs/labs/michall/roeizucker/fml_virt_env/lib/python3.7/site-packages/ipykernel_launcher.py:16: PerformanceWarning: DataFrame is highly fragmented.  This is usually the result of calling `frame.insert` many times, which has poor performance.  Consider joining all columns at once using pd.concat(axis=1) instead.  To get a de-fragmented frame, use `newframe = frame.copy()`\n",
      "  \n",
      "/cs/labs/michall/roeizucker/fml_virt_env/lib/python3.7/site-packages/ipykernel_launcher.py:20: PerformanceWarning: DataFrame is highly fragmented.  This is usually the result of calling `frame.insert` many times, which has poor performance.  Consider joining all columns at once using pd.concat(axis=1) instead.  To get a de-fragmented frame, use `newframe = frame.copy()`\n",
      "/cs/labs/michall/roeizucker/fml_virt_env/lib/python3.7/site-packages/ipykernel_launcher.py:24: PerformanceWarning: DataFrame is highly fragmented.  This is usually the result of calling `frame.insert` many times, which has poor performance.  Consider joining all columns at once using pd.concat(axis=1) instead.  To get a de-fragmented frame, use `newframe = frame.copy()`\n",
      "/cs/labs/michall/roeizucker/fml_virt_env/lib/python3.7/site-packages/ipykernel_launcher.py:25: PerformanceWarning: DataFrame is highly fragmented.  This is usually the result of calling `frame.insert` many times, which has poor performance.  Consider joining all columns at once using pd.concat(axis=1) instead.  To get a de-fragmented frame, use `newframe = frame.copy()`\n",
      "/cs/labs/michall/roeizucker/fml_virt_env/lib/python3.7/site-packages/ipykernel_launcher.py:26: PerformanceWarning: DataFrame is highly fragmented.  This is usually the result of calling `frame.insert` many times, which has poor performance.  Consider joining all columns at once using pd.concat(axis=1) instead.  To get a de-fragmented frame, use `newframe = frame.copy()`\n",
      "/cs/labs/michall/roeizucker/fml_virt_env/lib/python3.7/site-packages/ipykernel_launcher.py:27: PerformanceWarning: DataFrame is highly fragmented.  This is usually the result of calling `frame.insert` many times, which has poor performance.  Consider joining all columns at once using pd.concat(axis=1) instead.  To get a de-fragmented frame, use `newframe = frame.copy()`\n",
      "/cs/labs/michall/roeizucker/fml_virt_env/lib/python3.7/site-packages/ipykernel_launcher.py:28: PerformanceWarning: DataFrame is highly fragmented.  This is usually the result of calling `frame.insert` many times, which has poor performance.  Consider joining all columns at once using pd.concat(axis=1) instead.  To get a de-fragmented frame, use `newframe = frame.copy()`\n",
      "/cs/labs/michall/roeizucker/fml_virt_env/lib/python3.7/site-packages/ipykernel_launcher.py:29: PerformanceWarning: DataFrame is highly fragmented.  This is usually the result of calling `frame.insert` many times, which has poor performance.  Consider joining all columns at once using pd.concat(axis=1) instead.  To get a de-fragmented frame, use `newframe = frame.copy()`\n"
     ]
    },
    {
     "name": "stdout",
     "output_type": "stream",
     "text": [
      "Done\n"
     ]
    }
   ],
   "source": [
    "pwas_base_dir = \"/cs/labs/michall/roeizucker/10krun/results\"\n",
    "onlyfiles = [f for f in listdir(pwas_base_dir) if isfile(join(pwas_base_dir, f))]\n",
    "master_df = pd.DataFrame()\n",
    "phenotypes = []\n",
    "alpha_reg = 0.05\n",
    "alpha_lax = 0.1\n",
    "for file in onlyfiles:\n",
    "#     break\n",
    "    phen = file.replace(\".csv\",\"\")\n",
    "    path = join(pwas_base_dir, file)\n",
    "    df = pd.read_csv(path)\n",
    "    df.set_index(\"uniprot_id\", inplace=True)\n",
    "#     df.set_index('uniprot_id')\n",
    "    \n",
    "    phenotypes.append(phen)\n",
    "    if len(df) > len(master_df):\n",
    "        df[phen + \"_fdr_qval\"] = df[\"fdr_qval\"]\n",
    "        master_df = pd.concat([master_df, df[phen + \"_fdr_qval\"]], axis=1)\n",
    "    else:\n",
    "        master_df[phen + \"_fdr_qval\"] = df[\"fdr_qval\"]\n",
    "#     qvals = df[phen + \"_fdr_qval\"]\n",
    "    \n",
    "#     if phen == 'I10':\n",
    "    master_df[phen + \"_dominant_cohen_d\"] = df[\"dominant_cohen_d\"]\n",
    "    master_df[phen + \"_recessive_cohen_d\"] = df[\"recessive_cohen_d\"]\n",
    "    master_df[phen + \"_combined_pval\"] = df[\"combined_pval\"]\n",
    "    master_df[phen + \"_fdr_significance\"] = df[\"fdr_significance\"]\n",
    "    master_df[phen + \"_recessive_pval\"] = df[\"recessive_pval\"]\n",
    "    master_df[phen + \"_dominant_pval\"] = df[\"dominant_pval\"]\n",
    "    add_fdr_to_df(df,\"recessive\",alpha_reg,\"reg\",master_df,phen)\n",
    "    add_fdr_to_df(df,\"recessive\",alpha_lax,\"lax\",master_df,phen)\n",
    "    add_fdr_to_df(df,\"dominant\",alpha_reg,\"reg\",master_df,phen)\n",
    "    add_fdr_to_df(df,\"dominant\",alpha_lax,\"lax\",master_df,phen)    \n",
    "print(\"Done\")"
   ]
  },
  {
   "cell_type": "markdown",
   "id": "a045ea8c",
   "metadata": {},
   "source": [
    "# GWAS RESULTS"
   ]
  },
  {
   "cell_type": "markdown",
   "id": "fb6f6e8a",
   "metadata": {},
   "source": [
    "## GWAS for a single chromosome, for a single phenotype (I10)"
   ]
  },
  {
   "cell_type": "markdown",
   "id": "142b06f5",
   "metadata": {},
   "source": [
    "### general data"
   ]
  },
  {
   "cell_type": "code",
   "execution_count": 18,
   "id": "c118e944",
   "metadata": {},
   "outputs": [],
   "source": [
    "res = create_full_dataframe(base_dir,\"I10\")\n",
    "# create_graphs_for_phenotype(base_dir,phen)"
   ]
  },
  {
   "cell_type": "code",
   "execution_count": 19,
   "id": "8113cde5",
   "metadata": {},
   "outputs": [
    {
     "data": {
      "text/html": [
       "<div>\n",
       "<style scoped>\n",
       "    .dataframe tbody tr th:only-of-type {\n",
       "        vertical-align: middle;\n",
       "    }\n",
       "\n",
       "    .dataframe tbody tr th {\n",
       "        vertical-align: top;\n",
       "    }\n",
       "\n",
       "    .dataframe thead th {\n",
       "        text-align: right;\n",
       "    }\n",
       "</style>\n",
       "<table border=\"1\" class=\"dataframe\">\n",
       "  <thead>\n",
       "    <tr style=\"text-align: right;\">\n",
       "      <th></th>\n",
       "      <th></th>\n",
       "      <th></th>\n",
       "      <th></th>\n",
       "      <th>malep</th>\n",
       "      <th>femalep</th>\n",
       "      <th>regp</th>\n",
       "      <th>malez</th>\n",
       "      <th>femalez</th>\n",
       "      <th>regz</th>\n",
       "      <th>ind</th>\n",
       "      <th>ID</th>\n",
       "      <th>chr</th>\n",
       "    </tr>\n",
       "    <tr>\n",
       "      <th>#CHROM</th>\n",
       "      <th>POS</th>\n",
       "      <th>REF</th>\n",
       "      <th>ALT</th>\n",
       "      <th></th>\n",
       "      <th></th>\n",
       "      <th></th>\n",
       "      <th></th>\n",
       "      <th></th>\n",
       "      <th></th>\n",
       "      <th></th>\n",
       "      <th></th>\n",
       "      <th></th>\n",
       "    </tr>\n",
       "  </thead>\n",
       "  <tbody>\n",
       "    <tr>\n",
       "      <th rowspan=\"5\" valign=\"top\">1</th>\n",
       "      <th>69428</th>\n",
       "      <th>G</th>\n",
       "      <th>T</th>\n",
       "      <td>1.481335</td>\n",
       "      <td>0.165642</td>\n",
       "      <td>1.133165</td>\n",
       "      <td>2.131940</td>\n",
       "      <td>0.408506</td>\n",
       "      <td>1.789140</td>\n",
       "      <td>69428</td>\n",
       "      <td>rs140739101</td>\n",
       "      <td>1</td>\n",
       "    </tr>\n",
       "    <tr>\n",
       "      <th>69487</th>\n",
       "      <th>A</th>\n",
       "      <th>G</th>\n",
       "      <td>NaN</td>\n",
       "      <td>0.077377</td>\n",
       "      <td>0.095114</td>\n",
       "      <td>NaN</td>\n",
       "      <td>0.205986</td>\n",
       "      <td>0.249058</td>\n",
       "      <td>69487</td>\n",
       "      <td>rs568226429</td>\n",
       "      <td>1</td>\n",
       "    </tr>\n",
       "    <tr>\n",
       "      <th>69496</th>\n",
       "      <th>A</th>\n",
       "      <th>G</th>\n",
       "      <td>NaN</td>\n",
       "      <td>NaN</td>\n",
       "      <td>NaN</td>\n",
       "      <td>NaN</td>\n",
       "      <td>NaN</td>\n",
       "      <td>NaN</td>\n",
       "      <td>69496</td>\n",
       "      <td>rs150690004</td>\n",
       "      <td>1</td>\n",
       "    </tr>\n",
       "    <tr>\n",
       "      <th>69521</th>\n",
       "      <th>A</th>\n",
       "      <th>T</th>\n",
       "      <td>0.103602</td>\n",
       "      <td>0.382838</td>\n",
       "      <td>0.173477</td>\n",
       "      <td>-0.269211</td>\n",
       "      <td>0.816606</td>\n",
       "      <td>0.425199</td>\n",
       "      <td>69521</td>\n",
       "      <td>rs553724620</td>\n",
       "      <td>1</td>\n",
       "    </tr>\n",
       "    <tr>\n",
       "      <th>69569</th>\n",
       "      <th>C</th>\n",
       "      <th>T</th>\n",
       "      <td>0.013846</td>\n",
       "      <td>0.438277</td>\n",
       "      <td>0.284416</td>\n",
       "      <td>0.039337</td>\n",
       "      <td>0.906785</td>\n",
       "      <td>0.644119</td>\n",
       "      <td>69569</td>\n",
       "      <td>rs2531267</td>\n",
       "      <td>1</td>\n",
       "    </tr>\n",
       "    <tr>\n",
       "      <th>...</th>\n",
       "      <th>...</th>\n",
       "      <th>...</th>\n",
       "      <th>...</th>\n",
       "      <td>...</td>\n",
       "      <td>...</td>\n",
       "      <td>...</td>\n",
       "      <td>...</td>\n",
       "      <td>...</td>\n",
       "      <td>...</td>\n",
       "      <td>...</td>\n",
       "      <td>...</td>\n",
       "      <td>...</td>\n",
       "    </tr>\n",
       "    <tr>\n",
       "      <th rowspan=\"5\" valign=\"top\">22</th>\n",
       "      <th>51183430</th>\n",
       "      <th>G</th>\n",
       "      <th>C</th>\n",
       "      <td>NaN</td>\n",
       "      <td>NaN</td>\n",
       "      <td>NaN</td>\n",
       "      <td>NaN</td>\n",
       "      <td>NaN</td>\n",
       "      <td>NaN</td>\n",
       "      <td>51183430</td>\n",
       "      <td>rs547756808</td>\n",
       "      <td>22</td>\n",
       "    </tr>\n",
       "    <tr>\n",
       "      <th>51183575</th>\n",
       "      <th>A</th>\n",
       "      <th>C</th>\n",
       "      <td>NaN</td>\n",
       "      <td>0.038292</td>\n",
       "      <td>0.064091</td>\n",
       "      <td>NaN</td>\n",
       "      <td>-0.105971</td>\n",
       "      <td>-0.172815</td>\n",
       "      <td>51183575</td>\n",
       "      <td>rs531270968</td>\n",
       "      <td>22</td>\n",
       "    </tr>\n",
       "    <tr>\n",
       "      <th>51183576</th>\n",
       "      <th>A</th>\n",
       "      <th>G</th>\n",
       "      <td>0.154610</td>\n",
       "      <td>0.246223</td>\n",
       "      <td>0.300552</td>\n",
       "      <td>-0.384687</td>\n",
       "      <td>-0.572101</td>\n",
       "      <td>-0.673623</td>\n",
       "      <td>51183576</td>\n",
       "      <td>rs201653264</td>\n",
       "      <td>22</td>\n",
       "    </tr>\n",
       "    <tr>\n",
       "      <th>51183608</th>\n",
       "      <th>C</th>\n",
       "      <th>G</th>\n",
       "      <td>NaN</td>\n",
       "      <td>0.000481</td>\n",
       "      <td>0.606860</td>\n",
       "      <td>NaN</td>\n",
       "      <td>0.001388</td>\n",
       "      <td>-1.157050</td>\n",
       "      <td>51183608</td>\n",
       "      <td>rs571073375</td>\n",
       "      <td>22</td>\n",
       "    </tr>\n",
       "    <tr>\n",
       "      <th>51216386</th>\n",
       "      <th>G</th>\n",
       "      <th>T</th>\n",
       "      <td>NaN</td>\n",
       "      <td>NaN</td>\n",
       "      <td>NaN</td>\n",
       "      <td>NaN</td>\n",
       "      <td>NaN</td>\n",
       "      <td>NaN</td>\n",
       "      <td>51216386</td>\n",
       "      <td>rs75855559</td>\n",
       "      <td>22</td>\n",
       "    </tr>\n",
       "  </tbody>\n",
       "</table>\n",
       "<p>290220 rows × 9 columns</p>\n",
       "</div>"
      ],
      "text/plain": [
       "                            malep   femalep      regp     malez   femalez  \\\n",
       "#CHROM POS      REF ALT                                                     \n",
       "1      69428    G   T    1.481335  0.165642  1.133165  2.131940  0.408506   \n",
       "       69487    A   G         NaN  0.077377  0.095114       NaN  0.205986   \n",
       "       69496    A   G         NaN       NaN       NaN       NaN       NaN   \n",
       "       69521    A   T    0.103602  0.382838  0.173477 -0.269211  0.816606   \n",
       "       69569    C   T    0.013846  0.438277  0.284416  0.039337  0.906785   \n",
       "...                           ...       ...       ...       ...       ...   \n",
       "22     51183430 G   C         NaN       NaN       NaN       NaN       NaN   \n",
       "       51183575 A   C         NaN  0.038292  0.064091       NaN -0.105971   \n",
       "       51183576 A   G    0.154610  0.246223  0.300552 -0.384687 -0.572101   \n",
       "       51183608 C   G         NaN  0.000481  0.606860       NaN  0.001388   \n",
       "       51216386 G   T         NaN       NaN       NaN       NaN       NaN   \n",
       "\n",
       "                             regz       ind           ID  chr  \n",
       "#CHROM POS      REF ALT                                        \n",
       "1      69428    G   T    1.789140     69428  rs140739101    1  \n",
       "       69487    A   G    0.249058     69487  rs568226429    1  \n",
       "       69496    A   G         NaN     69496  rs150690004    1  \n",
       "       69521    A   T    0.425199     69521  rs553724620    1  \n",
       "       69569    C   T    0.644119     69569    rs2531267    1  \n",
       "...                           ...       ...          ...  ...  \n",
       "22     51183430 G   C         NaN  51183430  rs547756808   22  \n",
       "       51183575 A   C   -0.172815  51183575  rs531270968   22  \n",
       "       51183576 A   G   -0.673623  51183576  rs201653264   22  \n",
       "       51183608 C   G   -1.157050  51183608  rs571073375   22  \n",
       "       51216386 G   T         NaN  51216386   rs75855559   22  \n",
       "\n",
       "[290220 rows x 9 columns]"
      ]
     },
     "execution_count": 19,
     "metadata": {},
     "output_type": "execute_result"
    }
   ],
   "source": [
    "res"
   ]
  },
  {
   "cell_type": "code",
   "execution_count": 20,
   "id": "86a10bde",
   "metadata": {},
   "outputs": [
    {
     "data": {
      "text/plain": [
       "0"
      ]
     },
     "execution_count": 20,
     "metadata": {},
     "output_type": "execute_result"
    }
   ],
   "source": [
    "# vals = (list(res[\"ID\"]))\n",
    "# counter = 0\n",
    "# for val in vals:\n",
    "#     if \"rs\" not in val:\n",
    "#         counter+=1\n",
    "# print(counter)\n",
    "# pd.set_option('display.max_rows', 1000)\n",
    "import collections\n",
    "\n",
    "# print(res.head(100))\n",
    "ls = list(res.index)\n",
    "len(([item for item, count in collections.Counter(ls).items() if count > 1]))\n"
   ]
  },
  {
   "cell_type": "markdown",
   "id": "869dccc0",
   "metadata": {},
   "source": [
    "### Numeric Data"
   ]
  },
  {
   "cell_type": "code",
   "execution_count": 21,
   "id": "044dd403",
   "metadata": {},
   "outputs": [
    {
     "name": "stdout",
     "output_type": "stream",
     "text": [
      "len 290220\n",
      "len male sig 2\n",
      "len female sig 7\n",
      "len reg sig 25\n"
     ]
    }
   ],
   "source": [
    "alpha = 7\n",
    "genes_csv = pd.read_csv(GENE_FILE_PATH)\n",
    "reg_sig, female_sig, male_sig = get_sig_snps_gendered(alpha,res)\n",
    "print(\"len\", len(res))\n",
    "print(\"len male sig\",len(male_sig))\n",
    "print(\"len female sig\",len(female_sig))\n",
    "print(\"len reg sig\",len(reg_sig))"
   ]
  },
  {
   "cell_type": "code",
   "execution_count": 22,
   "id": "9136f68d",
   "metadata": {},
   "outputs": [
    {
     "data": {
      "text/html": [
       "<div>\n",
       "<style scoped>\n",
       "    .dataframe tbody tr th:only-of-type {\n",
       "        vertical-align: middle;\n",
       "    }\n",
       "\n",
       "    .dataframe tbody tr th {\n",
       "        vertical-align: top;\n",
       "    }\n",
       "\n",
       "    .dataframe thead th {\n",
       "        text-align: right;\n",
       "    }\n",
       "</style>\n",
       "<table border=\"1\" class=\"dataframe\">\n",
       "  <thead>\n",
       "    <tr style=\"text-align: right;\">\n",
       "      <th></th>\n",
       "      <th>Unnamed: 0</th>\n",
       "      <th>uniprot_id</th>\n",
       "      <th>symbol</th>\n",
       "      <th>name</th>\n",
       "      <th>refseq_ids</th>\n",
       "      <th>chr</th>\n",
       "      <th>cds_start</th>\n",
       "      <th>cds_end</th>\n",
       "    </tr>\n",
       "  </thead>\n",
       "  <tbody>\n",
       "    <tr>\n",
       "      <th>0</th>\n",
       "      <td>0</td>\n",
       "      <td>A0A075B6H7</td>\n",
       "      <td>IGKV3-7</td>\n",
       "      <td>immunoglobulin kappa variable 3-7 (non-functio...</td>\n",
       "      <td>['NG_000834']</td>\n",
       "      <td>2</td>\n",
       "      <td>89277987</td>\n",
       "      <td>89278503</td>\n",
       "    </tr>\n",
       "    <tr>\n",
       "      <th>1</th>\n",
       "      <td>1</td>\n",
       "      <td>A0A075B6H9</td>\n",
       "      <td>IGLV4-69</td>\n",
       "      <td>immunoglobulin lambda variable 4-69</td>\n",
       "      <td>['NG_000002']</td>\n",
       "      <td>22</td>\n",
       "      <td>22385392</td>\n",
       "      <td>22385870</td>\n",
       "    </tr>\n",
       "    <tr>\n",
       "      <th>2</th>\n",
       "      <td>2</td>\n",
       "      <td>A0A075B6I0</td>\n",
       "      <td>IGLV8-61</td>\n",
       "      <td>immunoglobulin lambda variable 8-61</td>\n",
       "      <td>['NG_000002']</td>\n",
       "      <td>22</td>\n",
       "      <td>22453156</td>\n",
       "      <td>22453622</td>\n",
       "    </tr>\n",
       "    <tr>\n",
       "      <th>3</th>\n",
       "      <td>3</td>\n",
       "      <td>A0A075B6I1</td>\n",
       "      <td>IGLV4-60</td>\n",
       "      <td>immunoglobulin lambda variable 4-60</td>\n",
       "      <td>['NG_000002']</td>\n",
       "      <td>22</td>\n",
       "      <td>22516592</td>\n",
       "      <td>22517074</td>\n",
       "    </tr>\n",
       "    <tr>\n",
       "      <th>4</th>\n",
       "      <td>4</td>\n",
       "      <td>A0A075B6I4</td>\n",
       "      <td>IGLV10-54</td>\n",
       "      <td>immunoglobulin lambda variable 10-54</td>\n",
       "      <td>['NG_000002']</td>\n",
       "      <td>22</td>\n",
       "      <td>22569197</td>\n",
       "      <td>22569660</td>\n",
       "    </tr>\n",
       "    <tr>\n",
       "      <th>...</th>\n",
       "      <td>...</td>\n",
       "      <td>...</td>\n",
       "      <td>...</td>\n",
       "      <td>...</td>\n",
       "      <td>...</td>\n",
       "      <td>...</td>\n",
       "      <td>...</td>\n",
       "      <td>...</td>\n",
       "    </tr>\n",
       "    <tr>\n",
       "      <th>18130</th>\n",
       "      <td>18130</td>\n",
       "      <td>Q9Y6Z2</td>\n",
       "      <td>LINC01558</td>\n",
       "      <td>long intergenic non-protein coding RNA 1558</td>\n",
       "      <td>['NR_026773']</td>\n",
       "      <td>6</td>\n",
       "      <td>168188247</td>\n",
       "      <td>168191756</td>\n",
       "    </tr>\n",
       "    <tr>\n",
       "      <th>18131</th>\n",
       "      <td>18131</td>\n",
       "      <td>Q9Y6Z7</td>\n",
       "      <td>COLEC10</td>\n",
       "      <td>collectin subfamily member 10</td>\n",
       "      <td>['NM_001324095']</td>\n",
       "      <td>8</td>\n",
       "      <td>120079521</td>\n",
       "      <td>120118427</td>\n",
       "    </tr>\n",
       "    <tr>\n",
       "      <th>18132</th>\n",
       "      <td>18132</td>\n",
       "      <td>S4R3P1</td>\n",
       "      <td>MTRNR2L13</td>\n",
       "      <td>MT-RNR2 like 13</td>\n",
       "      <td>['NG_023160']</td>\n",
       "      <td>4</td>\n",
       "      <td>117220957</td>\n",
       "      <td>117221028</td>\n",
       "    </tr>\n",
       "    <tr>\n",
       "      <th>18133</th>\n",
       "      <td>18133</td>\n",
       "      <td>S4R3Y5</td>\n",
       "      <td>MTRNR2L11</td>\n",
       "      <td>MT-RNR2 like 11</td>\n",
       "      <td>['NG_023152']</td>\n",
       "      <td>1</td>\n",
       "      <td>238107555</td>\n",
       "      <td>238107626</td>\n",
       "    </tr>\n",
       "    <tr>\n",
       "      <th>18134</th>\n",
       "      <td>18134</td>\n",
       "      <td>U3KPV4</td>\n",
       "      <td>A3GALT2</td>\n",
       "      <td>alpha 1,3-galactosyltransferase 2</td>\n",
       "      <td>['NM_001080438']</td>\n",
       "      <td>1</td>\n",
       "      <td>33772370</td>\n",
       "      <td>33786699</td>\n",
       "    </tr>\n",
       "  </tbody>\n",
       "</table>\n",
       "<p>18135 rows × 8 columns</p>\n",
       "</div>"
      ],
      "text/plain": [
       "       Unnamed: 0  uniprot_id     symbol  \\\n",
       "0               0  A0A075B6H7    IGKV3-7   \n",
       "1               1  A0A075B6H9   IGLV4-69   \n",
       "2               2  A0A075B6I0   IGLV8-61   \n",
       "3               3  A0A075B6I1   IGLV4-60   \n",
       "4               4  A0A075B6I4  IGLV10-54   \n",
       "...           ...         ...        ...   \n",
       "18130       18130      Q9Y6Z2  LINC01558   \n",
       "18131       18131      Q9Y6Z7    COLEC10   \n",
       "18132       18132      S4R3P1  MTRNR2L13   \n",
       "18133       18133      S4R3Y5  MTRNR2L11   \n",
       "18134       18134      U3KPV4    A3GALT2   \n",
       "\n",
       "                                                    name        refseq_ids  \\\n",
       "0      immunoglobulin kappa variable 3-7 (non-functio...     ['NG_000834']   \n",
       "1                    immunoglobulin lambda variable 4-69     ['NG_000002']   \n",
       "2                    immunoglobulin lambda variable 8-61     ['NG_000002']   \n",
       "3                    immunoglobulin lambda variable 4-60     ['NG_000002']   \n",
       "4                   immunoglobulin lambda variable 10-54     ['NG_000002']   \n",
       "...                                                  ...               ...   \n",
       "18130        long intergenic non-protein coding RNA 1558     ['NR_026773']   \n",
       "18131                      collectin subfamily member 10  ['NM_001324095']   \n",
       "18132                                    MT-RNR2 like 13     ['NG_023160']   \n",
       "18133                                    MT-RNR2 like 11     ['NG_023152']   \n",
       "18134                  alpha 1,3-galactosyltransferase 2  ['NM_001080438']   \n",
       "\n",
       "      chr  cds_start    cds_end  \n",
       "0       2   89277987   89278503  \n",
       "1      22   22385392   22385870  \n",
       "2      22   22453156   22453622  \n",
       "3      22   22516592   22517074  \n",
       "4      22   22569197   22569660  \n",
       "...    ..        ...        ...  \n",
       "18130   6  168188247  168191756  \n",
       "18131   8  120079521  120118427  \n",
       "18132   4  117220957  117221028  \n",
       "18133   1  238107555  238107626  \n",
       "18134   1   33772370   33786699  \n",
       "\n",
       "[18135 rows x 8 columns]"
      ]
     },
     "execution_count": 22,
     "metadata": {},
     "output_type": "execute_result"
    }
   ],
   "source": [
    "genes_csv"
   ]
  },
  {
   "cell_type": "markdown",
   "id": "322365d8",
   "metadata": {},
   "source": [
    "### Gene Data"
   ]
  },
  {
   "cell_type": "code",
   "execution_count": 23,
   "id": "9371b220",
   "metadata": {},
   "outputs": [],
   "source": [
    "\n",
    "# print(genes_csv.head(2))\n",
    "female_sig_genes = find_genes_for_snps(female_sig,genes_csv)\n",
    "male_sig_genes = find_genes_for_snps(male_sig,genes_csv)\n",
    "reg_sig_genes = find_genes_for_snps(reg_sig,genes_csv)\n",
    "labels,values = create_intersection_groups(reg_sig_genes,female_sig_genes,male_sig_genes)"
   ]
  },
  {
   "cell_type": "code",
   "execution_count": 24,
   "id": "6f1ba1c6",
   "metadata": {
    "scrolled": true
   },
   "outputs": [
    {
     "name": "stdout",
     "output_type": "stream",
     "text": [
      "female count:  7\n",
      "male count:  2\n",
      "reg count:  23\n",
      "reg, female intersection:  6\n",
      "reg, male intersection:  2\n",
      "male, female intersection:  2\n",
      "all intersection:  2\n"
     ]
    }
   ],
   "source": [
    "\n",
    "print(\"female count: \",len((female_sig_genes)))\n",
    "print(\"male count: \",len((male_sig_genes)))\n",
    "print(\"reg count: \",len((reg_sig_genes)))\n",
    "print(\"reg, female intersection: \",len(reg_sig_genes.intersection(female_sig_genes)))\n",
    "print(\"reg, male intersection: \",len(reg_sig_genes.intersection(male_sig_genes)))\n",
    "print(\"male, female intersection: \",len(male_sig_genes.intersection(female_sig_genes)))\n",
    "print(\"all intersection: \",len(male_sig_genes.intersection(female_sig_genes).intersection(reg_sig_genes)))"
   ]
  },
  {
   "cell_type": "code",
   "execution_count": 88,
   "id": "84c5e4c3",
   "metadata": {},
   "outputs": [],
   "source": [
    "def create_intersection_groups_for_venn(reg_sig_genes,female_sig_genes,male_sig_genes):\n",
    "    combined_only = reg_sig_genes.difference(female_sig_genes).difference(male_sig_genes)\n",
    "    female_only = female_sig_genes.difference(reg_sig_genes).difference(male_sig_genes)\n",
    "    male_only = female_sig_genes.difference(reg_sig_genes).difference(female_sig_genes)\n",
    "    female_combined = female_sig_genes.intersection(reg_sig_genes).difference(male_sig_genes)\n",
    "    male_combined = male_sig_genes.intersection(reg_sig_genes).difference(female_sig_genes)\n",
    "    male_female = male_sig_genes.intersection(female_sig_genes).difference(reg_sig_genes)\n",
    "    male_female_combined = male_sig_genes.intersection(female_sig_genes).intersection(reg_sig_genes)\n",
    "    lables = [\"combined only\", \"female only\", \"male only\", \"female-combined\",\n",
    "              \"male-combined\",\"male-female\",\"male-female-combined\"]\n",
    "    values = [len(combined_only), len(female_only),len(female_combined),len(male_only),\n",
    "             len(male_combined),len(male_female),len(male_female_combined)]\n",
    "    return  values\n",
    "\n",
    "\n",
    "def create_GWAS_to_gene_intersection_venn_diagram(alpha,res,genes_csv):\n",
    "    reg_sig, female_sig, male_sig = get_sig_snps_gendered(alpha,res)\n",
    "    female_sig_genes, male_sig_genes, reg_sig_genes = find_sex_depandent_genes_for_snps(alpha, res)\n",
    "    values = create_intersection_groups_for_venn(reg_sig_genes,female_sig_genes,male_sig_genes)\n",
    "    venn3(subsets = values, set_labels = ('Group A', 'Group B', 'Group C'), alpha = 0.5);\n",
    "#     venn3(subsets = (1,2,3,4,5,6,7), set_labels = ('Group A', 'Group B', 'Group C'), alpha = 0.5);\n",
    "    \n",
    "#     plt.pie(values,labels=labels,autopct=lambda pct: pie_formater(pct, values))\n",
    "    print(values)\n",
    "    plt.title(\"GWAS gene distribution of relevant genes by sex, alpha=\" + str(alpha))\n",
    "    plt.show()"
   ]
  },
  {
   "cell_type": "code",
   "execution_count": 89,
   "id": "1b886731",
   "metadata": {},
   "outputs": [
    {
     "name": "stdout",
     "output_type": "stream",
     "text": [
      "[17, 1, 0, 4, 0, 0, 2]\n"
     ]
    },
    {
     "data": {
      "image/png": "[encoded data removed]",
      "text/plain": [
       "<Figure size 640x480 with 1 Axes>"
      ]
     },
     "metadata": {},
     "output_type": "display_data"
    }
   ],
   "source": [
    "# create_GWAS_to_gene_intersection_pie_chart(3,res,genes_csv)\n",
    "# create_GWAS_to_gene_intersection_pie_chart(5,res,genes_csv)\n",
    "# create_GWAS_to_gene_intersection_pie_chart(6,res,genes_csv)\n",
    "# create_GWAS_to_gene_intersection_pie_chart(7,res,genes_csv)\n",
    "create_GWAS_to_gene_intersection_venn_diagram(7,res,genes_csv)"
   ]
  },
  {
   "cell_type": "markdown",
   "id": "abc491a3",
   "metadata": {},
   "source": [
    "### gwas/pwas interaction"
   ]
  },
  {
   "cell_type": "code",
   "execution_count": 60,
   "id": "3584de22",
   "metadata": {},
   "outputs": [],
   "source": [
    "def create_pwas_sex_depandent_sig_genes_sets(master_df):\n",
    "    reg_pwas_set = set(master_df.query(\"I10_1_fdr_significance == True\").index.values)\n",
    "    male_pwas_set = set(master_df.query(\"I10_M_fdr_significance == True\").index.values)\n",
    "    female_pwas_set = set(master_df.query(\"I10_F_fdr_significance == True\").index.values)\n",
    "    return reg_pwas_set, male_pwas_set, female_pwas_set\n",
    "\n",
    "def create_GWAS_PWAS_intersection_pie_chart(gwas_set, pwas_set, sex,alpha):\n",
    "    intersection = gwas_set.intersection(pwas_set)\n",
    "    gwas_only = gwas_set.difference(pwas_set)\n",
    "    pwas_only = pwas_set.difference(gwas_set)\n",
    "    vals = [len(intersection),len(gwas_only),len(pwas_only)]\n",
    "    labels = [\"intersection\",\"gwas only\", \"pwas only\"]\n",
    "    plt.pie(vals,labels=labels,autopct=lambda pct: pie_formater(pct, vals))\n",
    "    plt.title(f\"{sex} PWAS GWAS significant gene intersection, alpha={alpha}\")\n",
    "    plt.show()\n",
    "    pass\n",
    "\n",
    "def create_GWAS_PWAS_intersection_venn(gwas_set, pwas_set):\n",
    "    intersection = gwas_set.intersection(pwas_set)\n",
    "    gwas_only = gwas_set.difference(pwas_set)\n",
    "    pwas_only = pwas_set.difference(gwas_set)\n",
    "    vals = [len(pwas_only),len(intersection),len(gwas_only)]\n",
    "\n",
    "#     labels = [\"intersection\",\"gwas only\", \"pwas only\"]\n",
    "#     plt.pie(vals,labels=labels,autopct=lambda pct: pie_formater(pct, vals))\n",
    "    out = venn2_unweighted(subsets = vals, set_labels = ('PWAS', 'GWAS'))\n",
    "    for text in out.subset_labels:\n",
    "        text.set_fontsize(20)\n",
    "    for text in out.set_labels:\n",
    "        text.set_fontsize(25)\n",
    "\n",
    "    plt.title(f\"PWAS-GWAS\\n gene intersection\",rotation='vertical',x=-0.1,y=0.1,fontsize=25)\n",
    "    plt.show()\n",
    "\n",
    "\n",
    "def print_GWAS_PWAS_intersection(gwas_set, pwas_set, sex,alpha):\n",
    "    intersection = gwas_set.intersection(pwas_set)\n",
    "    gwas_only = gwas_set.difference(pwas_set)  \n",
    "    pwas_only = pwas_set.difference(gwas_set)\n",
    "    print(\"sex:\",sex)\n",
    "    print(\"gwas_set:\",gwas_set)\n",
    "    print(\"pwas_set:\",pwas_set)\n",
    "#     print(\"intersection\",intersection)\n",
    "#     print(\"intersection:\")\n",
    "#     vals = [len(intersection),len(gwas_only),len(pwas_only)]\n",
    "#     labels = [\"intersection\",\"gwas only\", \"pwas only\"]\n",
    "#     plt.pie(vals,labels=labels,autopct=lambda pct: pie_formater(pct, vals))\n",
    "#     plt.title(f\"{sex} PWAS GWAS significant gene intersection, alpha={alpha}\")\n",
    "#     plt.show()"
   ]
  },
  {
   "cell_type": "code",
   "execution_count": 61,
   "id": "de672de9",
   "metadata": {
    "scrolled": false
   },
   "outputs": [
    {
     "data": {
      "image/png": "[encoded data removed]",
      "text/plain": [
       "<Figure size 640x480 with 1 Axes>"
      ]
     },
     "metadata": {},
     "output_type": "display_data"
    }
   ],
   "source": [
    "\n",
    "\n",
    "gwas_female_sig_genes, gwas_male_sig_genes, gwas_reg_sig_genes = find_sex_depandent_genes_for_snps(alpha, res)\n",
    "reg_pwas_set, male_pwas_set, female_pwas_set = create_pwas_sex_depandent_sig_genes_sets(master_df)\n",
    "# create_GWAS_PWAS_intersection_pie_chart(gwas_reg_sig_genes,reg_pwas_set, \"combined\",alpha)\n",
    "# create_GWAS_PWAS_intersection_pie_chart(gwas_female_sig_genes,female_pwas_set, \"female\",alpha)\n",
    "# create_GWAS_PWAS_intersection_pie_chart(gwas_male_sig_genes,male_pwas_set, \"male\",alpha)\n",
    "create_GWAS_PWAS_intersection_venn(gwas_reg_sig_genes,reg_pwas_set)\n",
    "# create_GWAS_PWAS_intersection_venn(gwas_female_sig_genes,female_pwas_set, \"female\",alpha)\n",
    "# create_GWAS_PWAS_intersection_venn(gwas_male_sig_genes,male_pwas_set, \"male\",alpha)\n",
    "\n",
    "# print_GWAS_PWAS_intersection(gwas_reg_sig_genes,reg_pwas_set, \"combined\",alpha)\n",
    "# print_GWAS_PWAS_intersection(gwas_female_sig_genes,female_pwas_set, \"female\",alpha)\n",
    "# print_GWAS_PWAS_intersection(gwas_male_sig_genes,male_pwas_set, \"male\",alpha)\n",
    "# input()\n",
    "# print(gwas_male_sig_genes,male_pwas_set)\n",
    "# create_GWAS_PWAS_intersection_pie_chart(gwas_male_sig_genes,male_pwas_set, \"male\",alpha)"
   ]
  },
  {
   "cell_type": "code",
   "execution_count": 28,
   "id": "2deab846",
   "metadata": {},
   "outputs": [
    {
     "data": {
      "text/plain": [
       "{'B2CW77', 'O60500', 'Q00056', 'Q96DD7'}"
      ]
     },
     "execution_count": 28,
     "metadata": {},
     "output_type": "execute_result"
    }
   ],
   "source": [
    "reg_pwas_set, male_pwas_set, female_pwas_set\n",
    "female_pwas_set - reg_pwas_set"
   ]
  },
  {
   "cell_type": "code",
   "execution_count": null,
   "id": "e97294a0",
   "metadata": {},
   "outputs": [],
   "source": [
    "\n",
    "reg_intersection_count = len(set(master_df.query(\"I10_1_fdr_significance == True\").index.values).intersection(reg_sig_genes))\n",
    "female_intersection_count = len(set(master_df.query(\"I10_F_fdr_significance == True\").index.values).intersection(female_sig_genes))\n",
    "male_intersection_count = len(set(master_df.query(\"I10_M_fdr_significance == True\").index.values).intersection(male_sig_genes))\n",
    "\n",
    "\n",
    "\n",
    "reg_pwas_count = len(set(master_df.query(\"I10_1_fdr_significance == True\").index.values))\n",
    "reg_gwas_count = len(reg_sig_genes)\n",
    "male_pwas_count = len(set(master_df.query(\"I10_M_fdr_significance == True\").index.values))\n",
    "male_gwas_count = len(male_sig_genes)\n",
    "print((male_intersection_count))\n",
    "female_pwas_count = len(set(master_df.query(\"I10_F_fdr_significance == True\").index.values))\n",
    "female_gwas_count = len(female_sig_genes)\n",
    "\n",
    "print(\"reg intersection count: \", reg_intersection_count)\n",
    "print(\"reg intersection PWAS rate: \", (reg_intersection_count / reg_pwas_count))\n",
    "print(\"reg intersection GWAS rate: \", (reg_intersection_count / reg_gwas_count))\n",
    "\n",
    "print(\"female intersection\",len(set(master_df.query(\"I10_F_fdr_significance == True\").index.values).intersection(female_sig_genes)))\n",
    "print(\"female intersection PWAS rate: \", (female_intersection_count / female_pwas_count))\n",
    "print(\"female intersection GWAS rate: \", (female_intersection_count / female_gwas_count))\n",
    "\n",
    "print(\"male intersection\", len(set(master_df.query(\"I10_M_fdr_significance == True\").index.values).intersection(male_sig_genes)))\n",
    "print(\"male intersection PWAS rate: \", (male_intersection_count / male_pwas_count))\n",
    "print(\"male intersection GWAS rate: \", (male_intersection_count / male_gwas_count))\n",
    "\n"
   ]
  },
  {
   "cell_type": "code",
   "execution_count": null,
   "id": "02e195d2",
   "metadata": {},
   "outputs": [],
   "source": [
    "print(PHEN_PER_DIR)"
   ]
  },
  {
   "cell_type": "markdown",
   "id": "81056e69",
   "metadata": {},
   "source": [
    "### manhattan plot"
   ]
  },
  {
   "cell_type": "code",
   "execution_count": null,
   "id": "02643296",
   "metadata": {},
   "outputs": [],
   "source": [
    "def add_genes_for_snps_symbol(df,genes_csv):\n",
    "#     sig_genes = set()\n",
    "#     for index, row in df.iterrows():\n",
    "#         curr = (genes_csv.query(\"chr == '\" + str(row[\"chr\"]) + \"' and cds_start <= \" + str(row[\"ind\"]) + \"and cds_end >= \" + str(row[\"ind\"])))\n",
    "#         row[\"gene\"] = list(curr[\"symbol\"])[0]\n",
    "# #         sig_genes.add(list(curr[\"symbol\"])[0])\n",
    "#     return sig_genes\n",
    "    sig_genes = set()\n",
    "    for index, row in df.iterrows():\n",
    "        curr = (genes_csv.query(\"chr == '\" + str(row[\"chr\"]) + \"' and cds_start <= \" + str(row[\"ind\"]) + \"and cds_end >= \" + str(row[\"ind\"])))\n",
    "#         sig_genes.add(list(curr[\"uniprot_id\"])[0])\n",
    "#         row[\"gene\"] = list(curr[\"symbol\"])[0]\n",
    "#         df.loc[index,\"gene\"] = list(curr[\"symbol\"])[0]\n",
    "#         print(index)\n",
    "        if len(list(curr[\"symbol\"])) == 0:\n",
    "            df.loc[index,\"gene\"] = \"no gene found\"\n",
    "            df.loc[index,\"length\"] = -1\n",
    "            \n",
    "        else:\n",
    "            df.loc[index,\"gene\"] = str(list(curr[\"symbol\"])[0])\n",
    "#     cds_start  cds_end\n",
    "            df.loc[index,\"length\"] = int(list(curr[\"cds_end\"])[0]) - int(list(curr[\"cds_start\"])[0])\n",
    "        \n",
    "colors = ['red','green','blue', 'yellow']\n",
    "x_labels = []\n",
    "x_labels_pos = []\n",
    "dataframes = []\n",
    "phen = SPECIFIC_PHENOTYPE\n",
    "for chrom in range(1,23):\n",
    "# for chrom in range(1,3):\n",
    "    fig = plt.figure()\n",
    "    ax = fig.add_subplot(111)\n",
    "    male_df,female_df,both_df,comb_df = create_combined_gwas_datafrmes(base_dir,phen,chrom)\n",
    "    comb_df.plot(kind='scatter', x='ind', y='male_neg_logP',color=\"blue\", ax=ax)\n",
    "    comb_df.plot(kind='scatter', x='ind', y='female_neg_logP',color=\"red\", ax=ax)\n",
    "    comb_df.plot(kind='scatter', x='ind', y='both_neg_logP',color=\"lightgray\", ax=ax)\n",
    "    comb_df[\"chr\"] = chrom\n",
    "    dataframes.append(comb_df)\n",
    "    plt.title(f\"chr {chrom}\")\n",
    "    plt.show()\n",
    "result = pd.concat(dataframes)\n",
    "result[\"gene\"] = \"\"\n",
    "result[\"length\"] = 0\n",
    "add_genes_for_snps_symbol(result,genes_csv)\n",
    "result.to_csv(f\"{base_dir}/{phen}_gwas_results.csv\")\n",
    "print(\"path:\", f\"{base_dir}/{phen}_gwas_results.csv\")"
   ]
  },
  {
   "cell_type": "code",
   "execution_count": null,
   "id": "83ab29fb",
   "metadata": {},
   "outputs": [],
   "source": []
  },
  {
   "cell_type": "code",
   "execution_count": null,
   "id": "aabce600",
   "metadata": {},
   "outputs": [],
   "source": [
    "df2 = result.groupby(['gene'])['gene'].count()\n",
    "# wanted_genes = list(pd.DataFrame(df2).query(\"gene > 5\").index)\n",
    "wanted_genes = list(pd.DataFrame(df2).index)\n",
    "\n",
    "# print(wanted_genes)\n",
    "pd.set_option('display.max_rows', 400)\n",
    "df2\n",
    "# result[result['gene']]\n",
    "# result[result[\"gene\"].isin(wanted_genes)].sort_values(\"length\")"
   ]
  },
  {
   "cell_type": "code",
   "execution_count": null,
   "id": "c11c9af7",
   "metadata": {},
   "outputs": [],
   "source": [
    "len(result.gene.unique())"
   ]
  },
  {
   "cell_type": "code",
   "execution_count": null,
   "id": "876d2adf",
   "metadata": {},
   "outputs": [],
   "source": []
  },
  {
   "cell_type": "markdown",
   "id": "5ef969e5",
   "metadata": {},
   "source": [
    "### I10 chr 19 study"
   ]
  },
  {
   "cell_type": "code",
   "execution_count": null,
   "id": "16610ba1",
   "metadata": {},
   "outputs": [],
   "source": [
    "chrom = 19\n",
    "male_df,female_df,both_df,comb_df = create_combined_gwas_datafrmes(base_dir,phen,chrom)\n",
    "\n",
    "print(result.sort_values(by='both_neg_logP',ascending=False).head(10))"
   ]
  },
  {
   "cell_type": "markdown",
   "id": "289efd40",
   "metadata": {},
   "source": [
    "## General data for multiple chromosomes, and all phenotypes"
   ]
  },
  {
   "cell_type": "code",
   "execution_count": null,
   "id": "82430f86",
   "metadata": {},
   "outputs": [],
   "source": [
    "spec = importlib.util.spec_from_file_location(\"module.name\", \"/cs/labs/michall/roeizucker/10krun/phenotype_specs.py\")\n",
    "foo = importlib.util.module_from_spec(spec)\n",
    "spec.loader.exec_module(foo)\n",
    "old_specs = foo.specs\n",
    "new_specs = []\n",
    "for spec in old_specs:\n",
    "#     print(spec)\n",
    "    new_specs.append(spec)\n",
    "    spec_f = spec.copy()\n",
    "    spec_f['name']+=\"_F\"\n",
    "    spec_f['sex_filter'] = 'F'\n",
    "    spec_m = spec.copy()\n",
    "    spec_m['name']+=\"_M\"\n",
    "    spec_m['sex_filter'] = 'M'\n",
    "    new_specs.append(spec_f)\n",
    "    new_specs.append(spec_m)\n",
    "\n",
    "counter = 0\n",
    "# print(new_specs)\n",
    "while counter < len(new_specs):\n",
    "#     create dir for current batch of phenotypes\n",
    "    curr_counter = counter\n",
    "    dir_name = WORK_PATH + str(counter) + \":\" + str(counter + PHEN_PER_DIR - 1)\n",
    "#     print(dir_name)\n",
    "    if not os.path.exists(dir_name):\n",
    "        os.mkdir(dir_name)\n",
    "    specs_file = dir_name + \"/phenotype_specs.py\"\n",
    "    spec = importlib.util.spec_from_file_location(\"module.name\", specs_file)\n",
    "    foo = importlib.util.module_from_spec(spec)\n",
    "    spec.loader.exec_module(foo)\n",
    "    for spec in foo.specs:\n",
    "        if \"_\" not in spec[\"name\"]:\n",
    "            create_graphs_for_phenotype(dir_name + \"/GWAS/results\",spec[\"name\"])\n",
    "\n",
    "        counter+=1"
   ]
  },
  {
   "cell_type": "markdown",
   "id": "a220d1f4",
   "metadata": {},
   "source": [
    "# PWAS RESULTS"
   ]
  },
  {
   "cell_type": "markdown",
   "id": "64489703",
   "metadata": {},
   "source": [
    "## Create Dataset"
   ]
  },
  {
   "cell_type": "code",
   "execution_count": null,
   "id": "830fe3ef",
   "metadata": {},
   "outputs": [],
   "source": []
  },
  {
   "cell_type": "code",
   "execution_count": null,
   "id": "f611cca1",
   "metadata": {},
   "outputs": [],
   "source": [
    "pwas_base_dir = \"/cs/labs/michall/roeizucker/10krun/results\"\n",
    "onlyfiles = [f for f in listdir(pwas_base_dir) if isfile(join(pwas_base_dir, f))]\n",
    "master_df = pd.DataFrame()\n",
    "phenotypes = []\n",
    "alpha_reg = 0.05\n",
    "alpha_lax = 0.1\n",
    "for file in onlyfiles:\n",
    "    phen = file.replace(\".csv\",\"\")\n",
    "    path = join(pwas_base_dir, file)\n",
    "    df = pd.read_csv(path)\n",
    "    df.set_index(\"uniprot_id\", inplace=True)\n",
    "#     df.set_index('uniprot_id')\n",
    "    \n",
    "    phenotypes.append(phen)\n",
    "    if len(df) > len(master_df):\n",
    "        df[phen + \"_fdr_qval\"] = df[\"fdr_qval\"]\n",
    "        master_df = pd.concat([master_df, df[phen + \"_fdr_qval\"]], axis=1)\n",
    "    else:\n",
    "        master_df[phen + \"_fdr_qval\"] = df[\"fdr_qval\"]\n",
    "#     qvals = df[phen + \"_fdr_qval\"]\n",
    "    \n",
    "#     if phen == 'I10':\n",
    "    master_df[phen + \"_dominant_cohen_d\"] = df[\"dominant_cohen_d\"]\n",
    "    master_df[phen + \"_recessive_cohen_d\"] = df[\"recessive_cohen_d\"]\n",
    "    master_df[phen + \"_combined_pval\"] = df[\"combined_pval\"]\n",
    "    master_df[phen + \"_fdr_significance\"] = df[\"fdr_significance\"]\n",
    "    master_df[phen + \"_recessive_pval\"] = df[\"recessive_pval\"]\n",
    "    master_df[phen + \"_dominant_pval\"] = df[\"dominant_pval\"]\n",
    "#     rej, pval_corr = smm.multipletests(list(df.dropna()[\"combined_pval\"]), alpha=alpha_reg, method='fdr_i')[:2]\n",
    "#     rej,pval_corr = add_nans_to_fdr(df,rej,pval_corr)\n",
    "#     df[\"rej\"] = rej\n",
    "#     df[\"pval_corr\"] = pval_corr\n",
    "    \n",
    "#     print(df.head())\n",
    "#     input()\n",
    "#     print(smm.fdrcorrection(list(df[\"combined_pval\"]), alpha=alpha_lax, method='i'))\n",
    "#     inharitance_type = \"recessive\"\n",
    "#     alpha = alpha_reg\n",
    "#     fdr_leval = \"reg\"\n",
    "    add_fdr_to_df(df,\"recessive\",alpha_reg,\"reg\",master_df,phen)\n",
    "    add_fdr_to_df(df,\"recessive\",alpha_lax,\"lax\",master_df,phen)\n",
    "    add_fdr_to_df(df,\"dominant\",alpha_reg,\"reg\",master_df,phen)\n",
    "    add_fdr_to_df(df,\"dominant\",alpha_lax,\"lax\",master_df,phen)    \n",
    "print(\"Done\")"
   ]
  },
  {
   "cell_type": "markdown",
   "id": "12dac261",
   "metadata": {},
   "source": [
    "## compare old with new calculations"
   ]
  },
  {
   "cell_type": "code",
   "execution_count": null,
   "id": "6831f30e",
   "metadata": {},
   "outputs": [],
   "source": [
    "\n",
    "df = pd.read_csv(\"/cs/labs/michall/roeizucker/10krun/results/I10.csv\")\n",
    "df.set_index(\"uniprot_id\", inplace=True)\n",
    "\n",
    "print((df[\"fdr_qval\"])[0:5])\n",
    "print((master_df[\"I10_fdr_qval\"][\"Q9UQQ2\"]))\n",
    "print((master_df[\"I10_1_fdr_qval\"][\"Q9UQQ2\"]))\n",
    "# rej, pval_corr = smm.multipletests(sorted(master_df[\"I10_combined_pval\"].dropna()), alpha=0.05, method='fdr_n')[:2]\n",
    "rej, pval_corr = smm.multipletests(list(master_df[\"I10_combined_pval\"].dropna()), alpha=0.05, method='fdr_bh')[:2]"
   ]
  },
  {
   "cell_type": "code",
   "execution_count": null,
   "id": "74d98acf",
   "metadata": {},
   "outputs": [],
   "source": [
    "onlyfiles = [f for f in listdir(pwas_base_dir) if isfile(join(pwas_base_dir, f))]\n",
    "master_df_cohen_d_dom = pd.DataFrame()\n",
    "for file in onlyfiles:\n",
    "    path = join(pwas_base_dir, file)\n",
    "    df = pd.read_csv(path)\n",
    "    df.set_index(\"uniprot_id\", inplace=True)\n",
    "#     df.set_index('uniprot_id')\n",
    "    master_df_cohen_d_dom[file] = df[\"dominant_cohen_d\"]\n",
    "print(\"Done\")"
   ]
  },
  {
   "cell_type": "code",
   "execution_count": null,
   "id": "8c60c2c0",
   "metadata": {},
   "outputs": [],
   "source": [
    "pairs = []\n",
    "for key in master_df_cohen_d_dom.columns:\n",
    "    if \"_\" not in key and key.replace(\".csv\",\"_1.csv\") in master_df_cohen_d_dom.columns:\n",
    "        pairs.append((key,key.replace(\".csv\",\"_1.csv\")))\n",
    "        master_df_cohen_d_dom[key.replace(\".csv\",\"\") + \"_log\"] = -np.log10(master_df_cohen_d_dom[key])\n",
    "        master_df_cohen_d_dom[key.replace(\".csv\",\"_1\") + \"_log\"] = -np.log10(master_df_cohen_d_dom[key.replace(\".csv\",\"_1.csv\")])\n",
    "print(\"Done\")"
   ]
  },
  {
   "cell_type": "code",
   "execution_count": null,
   "id": "ad980cc8",
   "metadata": {},
   "outputs": [],
   "source": [
    "pairs = []\n",
    "for key in master_df.columns:\n",
    "    if \"_\" not in key and key.replace(\".csv\",\"_1.csv\") in master_df.columns:\n",
    "        pairs.append((key,key.replace(\".csv\",\"_1.csv\")))\n",
    "        print(key)\n",
    "        master_df[key.replace(\".csv\",\"\") + \"_log\"] = -np.log10(master_df[key])\n",
    "        master_df[key.replace(\".csv\",\"_1\") + \"_log\"] = -np.log10(master_df[key.replace(\".csv\",\"_1.csv\")])\n",
    "print(\"Done\")"
   ]
  },
  {
   "cell_type": "code",
   "execution_count": null,
   "id": "a664c2af",
   "metadata": {},
   "outputs": [],
   "source": [
    "# master_df_cohen_d_dom[master_df_cohen_d_dom.isnull().any(axis=1)]\n",
    "# print([x for x in list(master_df.columns) if \"C50\" in x])"
   ]
  },
  {
   "cell_type": "markdown",
   "id": "44f97114",
   "metadata": {},
   "source": [
    "## Compare Old and new combined sex by P-value"
   ]
  },
  {
   "cell_type": "code",
   "execution_count": null,
   "id": "5e99ce7f",
   "metadata": {},
   "outputs": [],
   "source": [
    "# key = \"H26.csv\"\n",
    "# pairs.append((\"\",key.replace(\".csv\",\"_1.csv\")))\n",
    "# master_df[key.replace(\".csv\",\"_2\") + \"_log\"] = -np.log10(master_df[key.replace(\".csv\",\"_2.csv\")])\n",
    "# master_df[key.replace(\".csv\",\"_1\") + \"_log\"] = -np.log10(master_df[key.replace(\".csv\",\"_1.csv\")])\n"
   ]
  },
  {
   "cell_type": "code",
   "execution_count": null,
   "id": "9744406a",
   "metadata": {},
   "outputs": [],
   "source": [
    "# print((master_df[\"C50_log\"].sort_values(ascending=False)))\n",
    "# # print(master_df[\"C50.csv\"])"
   ]
  },
  {
   "cell_type": "code",
   "execution_count": null,
   "id": "f46656d2",
   "metadata": {},
   "outputs": [],
   "source": []
  },
  {
   "cell_type": "code",
   "execution_count": null,
   "id": "49e5655a",
   "metadata": {},
   "outputs": [],
   "source": [
    "# # print(master_df.columns)\n",
    "# for pair in pairs:\n",
    "#     print(pair[0])\n",
    "#     master_df.plot.scatter(x=pair[0].replace(\".csv\",\"\") + \"_log\",y=pair[1].replace(\".csv\",\"\") + \"_log\")\n",
    "#     plt.xlim([0, 10])\n",
    "#     plt.ylim([0, 10])\n",
    "#     plt.show()\n",
    "# #     reg = -np.log(master_df[pair[0]])\n",
    "# #     new = -np.log(master_df[pair[1]])\n",
    "# #     plt.title(pair[0])\n",
    "# #     plt.scatter(reg,new)\n",
    "# #     plt.show()"
   ]
  },
  {
   "cell_type": "markdown",
   "id": "23896d3a",
   "metadata": {},
   "source": [
    "### rerun comparrison "
   ]
  },
  {
   "cell_type": "code",
   "execution_count": null,
   "id": "8336c091",
   "metadata": {},
   "outputs": [],
   "source": [
    "\n",
    "# pair = (\"H26_1.csv\",\"H26_2.csv\")\n",
    "# master_df.plot.scatter(x=pair[0].replace(\".csv\",\"\") + \"_log\",y=pair[1].replace(\".csv\",\"\") + \"_log\")\n",
    "# plt.show()\n"
   ]
  },
  {
   "cell_type": "markdown",
   "id": "160370ea",
   "metadata": {},
   "source": [
    "## Compare Old and new combined sex by P-value - sig only"
   ]
  },
  {
   "cell_type": "code",
   "execution_count": null,
   "id": "fb340889",
   "metadata": {},
   "outputs": [],
   "source": [
    "# for pair in pairs:\n",
    "    \n",
    "#     print(pair[0])\n",
    "# #     new_master = master_df.query(\"(\" + pair[0].replace(\".csv\",\"\") + \"_log > 3) or (\"+ pair[1].replace(\".csv\",\"\") + \"_log > 3)\")\n",
    "#     new_master = master_df\n",
    "#     new_master.plot.scatter(x=pair[0].replace(\".csv\",\"\") + \"_log\",y=pair[1].replace(\".csv\",\"\") + \"_log\")\n",
    "#     plt.xlim([0, 10])\n",
    "#     plt.ylim([0, 10])\n",
    "# #     plt.gca().set_xlim(left=0)\n",
    "# #     plt.gca().set_ylim(bottom=0)\n",
    "#     plt.show()"
   ]
  },
  {
   "cell_type": "markdown",
   "id": "717b1950",
   "metadata": {},
   "source": [
    "## Compare Old and new combined sex by cohen D dom"
   ]
  },
  {
   "cell_type": "code",
   "execution_count": null,
   "id": "5a5736fc",
   "metadata": {},
   "outputs": [],
   "source": [
    "# for pair in pairs:\n",
    "    \n",
    "#     print(pair[0])\n",
    "# #     new_master = master_df.query(\"(\" + pair[0].replace(\".csv\",\"\") + \"_log > 3) or (\"+ pair[1].replace(\".csv\",\"\") + \"_log > 3)\")\n",
    "#     new_master = master_df.query(\"(\" + pair[0].replace(\".csv\",\"\") + \"_log > 3) or (\"+ pair[1].replace(\".csv\",\"\") + \"_log > 3)\")\n",
    "#     new_master.plot.scatter(x=pair[0],y=pair[1])\n",
    "#     plt.xlim([-1, 1])\n",
    "#     plt.ylim([-1, 1])\n",
    "# #     plt.gca().set_xlim(left=0)\n",
    "# #     plt.gca().set_ylim(bottom=0)\n",
    "#     plt.show()"
   ]
  },
  {
   "cell_type": "markdown",
   "id": "52c64485",
   "metadata": {},
   "source": [
    "## Compare males and females by P-value"
   ]
  },
  {
   "cell_type": "code",
   "execution_count": null,
   "id": "4620b2e9",
   "metadata": {},
   "outputs": [],
   "source": [
    "pairs = []\n",
    "alpha = \"0.05\"\n",
    "for key in phenotypes:\n",
    "    if key + \"_M_fdr_significance\" in master_df.columns and key+ \"_F_fdr_significance\" in master_df.columns:\n",
    "        pairs.append((key + \"_M\",key + \"_F\"))\n",
    "        master_df[key +\"_M_combined_pval\" + \"_minus_log\"] = -np.log10(master_df[key +\"_M_combined_pval\"])\n",
    "        master_df[key +\"_F_combined_pval\" + \"_minus_log\"] = -np.log10(master_df[key +\"_F_combined_pval\"])\n",
    "for pair in pairs:\n",
    "    \n",
    "    if SPECIFIC_PHENOTYPE is not None and pair[0] != SPECIFIC_PHENOTYPE + \"_M\":\n",
    "        continue\n",
    "    print(pair[0][:-2])\n",
    "#     new_master = master_df.query(\"(\" + pair[0] + \"_fdr_significance == True) or (\"+ pair[1] + \"_fdr_significance == True)\")\n",
    "    new_master = master_df.query(\"(\" + pair[0] + \"_fdr_qval <=\"+alpha+\") or (\"+ pair[1] + \"_fdr_qval <=\"+alpha+\")\")\n",
    "    \n",
    "    new_master.plot.scatter(x=pair[0]+\"_combined_pval\" + \"_minus_log\",y=pair[1]+\"_combined_pval\" + \"_minus_log\",color=\"blue\",s=50, alpha=0.5)\n",
    "    set_plot_lims(0,40)\n",
    "    plt.title(f\"{pair[0]} Male/Female\\noverall genes:{len(new_master)} (alpha=\"+alpha+\")\")\n",
    "    plt.xlabel(f\"{pair[0]}: -log10 hybrid p-val\")\n",
    "    plt.ylabel(f\"{pair[1]}: -log10 hybrid p-val\")\n",
    "#     plt.gca().set_xlim(left=0)\n",
    "#     plt.gca().set_ylim(bottom=0)\n",
    "#     plt.gca().set_xlim([0,10])\n",
    "#     plt.gca().set_ylim([0,10])\n",
    "#     x = list((plt.gca().get_xlim()))\n",
    "#     y = list((plt.gca().get_ylim()))\n",
    "#     plt.plot(x,y,color='red')\n",
    "#     set_plot_lims(0,10)\n",
    "    plt.show()\n",
    "    "
   ]
  },
  {
   "cell_type": "markdown",
   "id": "1fd187c9",
   "metadata": {},
   "source": [
    "## Compare males and females by Q-value"
   ]
  },
  {
   "cell_type": "markdown",
   "id": "8ee59f84",
   "metadata": {},
   "source": [
    "### regular"
   ]
  },
  {
   "cell_type": "code",
   "execution_count": null,
   "id": "cfc08e5a",
   "metadata": {},
   "outputs": [],
   "source": [
    "pairs = []\n",
    "for key in phenotypes:\n",
    "    if key + \"_M_fdr_significance\" in master_df.columns and key+ \"_F_fdr_significance\" in master_df.columns:\n",
    "        pairs.append((key + \"_M\",key + \"_F\"))\n",
    "        master_df[key +\"_M_fdr_qval\" + \"_minus_log\"] = -np.log10(master_df[key +\"_M_fdr_qval\"])\n",
    "        master_df[key +\"_F_fdr_qval\" + \"_minus_log\"] = -np.log10(master_df[key +\"_F_fdr_qval\"])\n",
    "for pair in pairs:\n",
    "    if SPECIFIC_PHENOTYPE is not None and pair[0] != SPECIFIC_PHENOTYPE + \"_M\":\n",
    "        continue\n",
    "    print(pair[0])\n",
    "    new_master = master_df.query(\"(\" + pair[0] + \"_fdr_significance == True) or (\"+ pair[1] + \"_fdr_significance == True)\")\n",
    "    new_master.plot.scatter(x=pair[0]+\"_fdr_qval\" + \"_minus_log\",y=pair[1]+\"_fdr_qval\" + \"_minus_log\",color=\"blue\",s=50, alpha=0.5)\n",
    "#     plt.gca().set_xlim(left=0)\n",
    "#     plt.gca().set_ylim(bottom=0)\n",
    "#     plt.gca().set_xlim([0,10])\n",
    "#     plt.gca().set_ylim([0,10])\n",
    "#     x = list((plt.gca().get_xlim()))\n",
    "#     y = list((plt.gca().get_ylim()))\n",
    "#     plt.plot(x,y,color='red')\n",
    "    set_plot_lims(0,10)\n",
    "    plt.show()"
   ]
  },
  {
   "cell_type": "markdown",
   "id": "d2f7bb00",
   "metadata": {},
   "source": [
    "### dominant-reg"
   ]
  },
  {
   "cell_type": "code",
   "execution_count": null,
   "id": "e80de7dc",
   "metadata": {},
   "outputs": [],
   "source": [
    "# N390_F_dominant_fdr_significance_reg  \n",
    "# N390_F_dominant_qval_reg\n",
    "# print(master_df.columns)\n",
    "# input()\n",
    "pairs = []\n",
    "for key in phenotypes:\n",
    "    if key + \"_M_dominant_fdr_significance_reg\" in master_df.columns and key+ \"_F_dominant_fdr_significance_reg\" in master_df.columns:\n",
    "        pairs.append((key + \"_M\",key + \"_F\"))\n",
    "        master_df[key +\"_M_dominant_qval_reg\" + \"_minus_log\"] = -np.log10(master_df[key +\"_M_dominant_qval_reg\"])\n",
    "        master_df[key +\"_F_dominant_qval_reg\" + \"_minus_log\"] = -np.log10(master_df[key +\"_F_dominant_qval_reg\"])\n",
    "for pair in pairs:\n",
    "    if SPECIFIC_PHENOTYPE is not None and pair[0] != SPECIFIC_PHENOTYPE + \"_M\":\n",
    "        continue\n",
    "        \n",
    "    print(pair[0]+\"-dom-reg\")\n",
    "    new_master = master_df.query(\"(\" + pair[0] + \"_fdr_significance == True) or (\"+ pair[1] + \"_fdr_significance == True)\")\n",
    "    new_master.plot.scatter(x=pair[0]+\"_dominant_qval_reg\" + \"_minus_log\",y=pair[1]+\"_dominant_qval_reg\" + \"_minus_log\",color=\"blue\",s=50, alpha=0.5)\n",
    "    set_plot_lims(0,5)\n",
    "    plt.show()"
   ]
  },
  {
   "cell_type": "markdown",
   "id": "0d2a5b15",
   "metadata": {},
   "source": [
    "## Compare males and females by Cohen-D"
   ]
  },
  {
   "cell_type": "markdown",
   "id": "7a9b13ec",
   "metadata": {},
   "source": [
    "### dominant"
   ]
  },
  {
   "cell_type": "code",
   "execution_count": null,
   "id": "26b09198",
   "metadata": {},
   "outputs": [],
   "source": [
    "pairs = []\n",
    "for key in phenotypes:\n",
    "    if key + \"_M_fdr_significance\" in master_df.columns and key+ \"_F_fdr_significance\" in master_df.columns:\n",
    "        pairs.append((key + \"_M\",key + \"_F\"))\n",
    "for pair in pairs:\n",
    "    if SPECIFIC_PHENOTYPE is not None and pair[0] != SPECIFIC_PHENOTYPE + \"_M\":\n",
    "        continue\n",
    "    print(pair[0][:-2])\n",
    "    new_master = master_df.query(\"(\" + pair[0] + \"_fdr_significance == True) or (\"+ pair[1] + \"_fdr_significance == True)\")\n",
    "    new_master.plot.scatter(x=pair[0] + \"_dominant_cohen_d\",y=pair[1] + \"_dominant_cohen_d\",color=\"blue\",s=50, alpha=0.5)\n",
    "    plt.gca().set_xlim([-0.05,0.05])\n",
    "    plt.gca().set_ylim([-0.05,0.05])\n",
    "    x = list((plt.gca().get_xlim()))\n",
    "    y = list((plt.gca().get_ylim()))\n",
    "    plt.plot(x,y,color='red')\n",
    "\n",
    "    plt.show()"
   ]
  },
  {
   "cell_type": "markdown",
   "id": "27788a00",
   "metadata": {},
   "source": [
    "### recessive"
   ]
  },
  {
   "cell_type": "code",
   "execution_count": null,
   "id": "01017a3f",
   "metadata": {},
   "outputs": [],
   "source": [
    "pairs = []\n",
    "for key in phenotypes:\n",
    "    if key + \"_M_fdr_significance\" in master_df.columns and key+ \"_F_fdr_significance\" in master_df.columns:\n",
    "        pairs.append((key + \"_M\",key + \"_F\"))\n",
    "for pair in pairs:\n",
    "    if SPECIFIC_PHENOTYPE is not None and pair[0] != SPECIFIC_PHENOTYPE + \"_M\":\n",
    "        continue\n",
    "    print(pair[0][:-2])\n",
    "    new_master = master_df.query(\"(\" + pair[0] + \"_fdr_significance == True) or (\"+ pair[1] + \"_fdr_significance == True)\")\n",
    "    new_master.plot.scatter(x=pair[0] + \"_recessive_cohen_d\",y=pair[1] + \"_recessive_cohen_d\",color=\"blue\",s=50, alpha=0.5)\n",
    "    plt.gca().set_xlim([-0.05,0.05])\n",
    "    plt.gca().set_ylim([-0.05,0.05])\n",
    "    x = list((plt.gca().get_xlim()))\n",
    "    y = list((plt.gca().get_ylim()))\n",
    "    plt.plot(x,y,color='red')\n",
    "    plt.show()"
   ]
  },
  {
   "cell_type": "code",
   "execution_count": null,
   "id": "5ca44b0e",
   "metadata": {},
   "outputs": [],
   "source": [
    "numpy_array = master_df.to_numpy()\n",
    "for row in numpy_array:\n",
    "    k2, p = stats.normaltest(row)\n",
    "    print(\"p = {:g}\".format(p))"
   ]
  },
  {
   "cell_type": "markdown",
   "id": "37c14b0d",
   "metadata": {},
   "source": [
    "## compare sex specific to all - p value"
   ]
  },
  {
   "cell_type": "markdown",
   "id": "e31f42da",
   "metadata": {},
   "source": [
    "### compare female"
   ]
  },
  {
   "cell_type": "code",
   "execution_count": null,
   "id": "329dd222",
   "metadata": {},
   "outputs": [],
   "source": [
    "sex = \"F\"\n",
    "pairs = []\n",
    "for key in phenotypes:\n",
    "    if key + \"_1_fdr_significance\" in master_df.columns and key+ \"_\" + sex + \"_fdr_significance\" in master_df.columns:\n",
    "        pairs.append((key,key + \"_F\"))\n",
    "        master_df[key +\"_1_combined_pval\" + \"_minus_log\"] = -np.log10(master_df[key +\"_1_combined_pval\"])\n",
    "        master_df[key +\"_\" + sex + \"_combined_pval\" + \"_minus_log\"] = -np.log10(master_df[key +\"_\" + sex + \"_combined_pval\"])\n",
    "\n",
    "for pair in pairs:\n",
    "    if SPECIFIC_PHENOTYPE is not None and pair[0] != SPECIFIC_PHENOTYPE:\n",
    "        continue\n",
    "    print(pair[0])\n",
    "    new_master = master_df.query(\"(\" + pair[0] + \"_1_fdr_significance == True) or (\"+ pair[1] + \"_fdr_significance == True)\")\n",
    "    new_master.plot.scatter(x=pair[0] + \"_1_combined_pval\" + \"_minus_log\",y=pair[1] + \"_combined_pval\" + \"_minus_log\",color=\"blue\",s=50, alpha=0.5)\n",
    "    \n",
    "    \n",
    "#     print(new_master[[pair[0] + \"_1_combined_pval\" + \"_minus_log\",pair[1] + \"_combined_pval\" + \"_minus_log\",pair[0] + \"_1_fdr_significance\"]])\n",
    "    \n",
    "    \n",
    "    a = max(master_df[pair[0] +\"_1_combined_pval\" + \"_minus_log\"])\n",
    "    b = max(master_df[pair[1] + \"_combined_pval\" + \"_minus_log\"])\n",
    "#     print(a)\n",
    "    set_plot_lims(0,50)\n",
    "    plt.title(f\"{pair[0]} {sex}/all sexes\\noverall genes:{len(new_master)}\")\n",
    "    plt.xlabel(f\"{pair[0]}: -log10 hybrid p-val\")\n",
    "    plt.ylabel(f\"{pair[0]}_{sex}: -log10 hybrid p-val\")\n",
    "    \n",
    "    plt.show()"
   ]
  },
  {
   "cell_type": "markdown",
   "id": "55fb122f",
   "metadata": {},
   "source": [
    "### compare male"
   ]
  },
  {
   "cell_type": "code",
   "execution_count": null,
   "id": "1cbf003f",
   "metadata": {
    "scrolled": false
   },
   "outputs": [],
   "source": [
    "sex = \"M\"\n",
    "pairs = []\n",
    "for key in phenotypes:\n",
    "    if key + \"_1_fdr_significance\" in master_df.columns and key+ \"_\" + sex + \"_fdr_significance\" in master_df.columns:\n",
    "        pairs.append((key,key + \"_\" + sex))\n",
    "        master_df[key +\"_1_combined_pval\" + \"_minus_log\"] = -np.log10(master_df[key +\"_1_combined_pval\"])\n",
    "        master_df[key +\"_\" + sex + \"_combined_pval\" + \"_minus_log\"] = -np.log10(master_df[key +\"_\" + sex + \"_combined_pval\"])\n",
    "\n",
    "for pair in pairs:    \n",
    "    if SPECIFIC_PHENOTYPE is not None and pair[0] != SPECIFIC_PHENOTYPE:\n",
    "        continue\n",
    "#     new_master = master_df\n",
    "    new_master = master_df.query(\"(\" + pair[0] + \"_1_fdr_significance == True) or (\"+ pair[1] + \"_fdr_significance == True)\")\n",
    "    new_master.plot.scatter(x=pair[0] + \"_1_combined_pval\" + \"_minus_log\",y=pair[1] + \"_combined_pval\" + \"_minus_log\",color=\"blue\",s=50, alpha=0.5)\n",
    "    a = max(master_df[pair[0] +\"_1_combined_pval\" + \"_minus_log\"])\n",
    "    b = max(master_df[pair[1] + \"_combined_pval\" + \"_minus_log\"])\n",
    "#     print(a)\n",
    "#     set_plot_lims(0,max(a,b) + 1)\n",
    "    set_plot_lims(0,50)\n",
    "    print(len(new_master))\n",
    "    plt.title(f\"{pair[0]} {sex}/all sexes\\noverall genes:{len(new_master)}\")\n",
    "    plt.xlabel(f\"{pair[0]}: -log10 hybrid p-val\")\n",
    "    plt.ylabel(f\"{pair[0]}_{sex}: -log10 hybrid p-val\")\n",
    "\n",
    "    plt.show()"
   ]
  },
  {
   "cell_type": "markdown",
   "id": "e5991d80",
   "metadata": {},
   "source": [
    "## compare both"
   ]
  },
  {
   "cell_type": "code",
   "execution_count": null,
   "id": "a8d84a6b",
   "metadata": {},
   "outputs": [],
   "source": [
    "import seaborn as sns \n",
    "sexs = [\"F\",\"M\"]\n",
    "pairs = []\n",
    "for key in phenotypes:\n",
    "    if f\"{key}_1_fdr_significance\" in master_df.columns and f\"{key}_{sexs[0]}_fdr_significance\" in master_df.columns\\\n",
    "    and f\"{key}_{sexs[1]}_fdr_significance\" in master_df.columns:\n",
    "        pairs.append((key,key +\"_\"+ sexs[0],key +\"_\"+ sexs[1]))\n",
    "        master_df[key +\"_1_combined_pval\" + \"_minus_log\"] = -np.log10(master_df[key +\"_1_combined_pval\"])\n",
    "        master_df[key +\"_\" + sexs[0] + \"_combined_pval\" + \"_minus_log\"] = -np.log10(master_df[key +\"_\" + sexs[0] + \"_combined_pval\"])\n",
    "        master_df[key +\"_\" + sexs[1] + \"_combined_pval\" + \"_minus_log\"] = -np.log10(master_df[key +\"_\" + sexs[1] + \"_combined_pval\"])\n",
    "        \n",
    "for pair in pairs:\n",
    "    if SPECIFIC_PHENOTYPE is not None and pair[0] != SPECIFIC_PHENOTYPE:\n",
    "        continue\n",
    "    print(pair[0])\n",
    "    new_master = master_df.query(\"(\" + pair[0] + \"_1_fdr_significance == True) or (\"+ pair[1] + \"_fdr_significance == True) or (\"+ pair[2] + \"_fdr_significance == True)\")\n",
    "    \n",
    "    ax1 = new_master.plot(kind='scatter', x=pair[0] + \"_1_combined_pval\" + \"_minus_log\", y=pair[1] + \"_combined_pval\" + \"_minus_log\", color=\"red\",s=50, alpha=0.5)    \n",
    "    ax2 = new_master.plot(kind='scatter', x=pair[0] + \"_1_combined_pval\" + \"_minus_log\", y=pair[2] + \"_combined_pval\" + \"_minus_log\", color=\"blue\",s=50, alpha=0.5,ax=ax1)    \n",
    "    plt.legend([\"female\",\"male\"])\n",
    "    \n",
    "#     print(a)\n",
    "    set_plot_lims(0,15,'black')\n",
    "    \n",
    "    plt.title(f\"{pair[0]} Sex dependant/all sexes\\noverall genes:{len(new_master)} (alpha=0.05)\")\n",
    "    plt.xlabel(f\"{pair[0]} All sexes: -log10 hybrid p-val\")\n",
    "    plt.ylabel(f\"{pair[0]} Sex dependant: -log10 hybrid p-val\")\n",
    "# #     Adding regression\n",
    "#     x=new_master[pair[0] + \"_1_combined_pval\" + \"_minus_log\"]\n",
    "#     y=new_master[pair[1] + \"_combined_pval\" + \"_minus_log\"]\n",
    "#     t= np.arange(0,13,0.1)\n",
    "#     m, b = np.polyfit(x, y, 1)\n",
    "#     plt.plot(t, m*t + b, color='red')\n",
    "#     x=new_master[pair[0] + \"_1_combined_pval\" + \"_minus_log\"]\n",
    "#     y=new_master[pair[2] + \"_combined_pval\" + \"_minus_log\"]\n",
    "#     m, b = np.polyfit(x, y, 1)\n",
    "#     plt.plot(t, m*t + b)\n",
    "#     plt.legend([\"x=y\",\"female regression\",\"male regression\",\"female\",\"male\"])\n",
    "    \n",
    "    print(ax1 == ax2)\n",
    "    plt.show()\n"
   ]
  },
  {
   "cell_type": "code",
   "execution_count": null,
   "id": "5e7b637c",
   "metadata": {},
   "outputs": [],
   "source": []
  },
  {
   "cell_type": "markdown",
   "id": "6f834e63",
   "metadata": {},
   "source": [
    "## sig intersectio ncount:"
   ]
  },
  {
   "cell_type": "code",
   "execution_count": null,
   "id": "14ba04f7",
   "metadata": {},
   "outputs": [],
   "source": [
    "import seaborn as sns \n",
    "sexs = [\"F\",\"M\"]\n",
    "pairs = []\n",
    "for key in phenotypes:\n",
    "    if f\"{key}_1_fdr_significance\" in master_df.columns and f\"{key}_{sexs[0]}_fdr_significance\" in master_df.columns\\\n",
    "    and f\"{key}_{sexs[1]}_fdr_significance\" in master_df.columns:\n",
    "        pairs.append((key,key +\"_\"+ sexs[0],key +\"_\"+ sexs[1]))\n",
    "        master_df[key +\"_1_combined_pval\" + \"_minus_log\"] = -np.log10(master_df[key +\"_1_combined_pval\"])\n",
    "        master_df[key +\"_\" + sexs[0] + \"_combined_pval\" + \"_minus_log\"] = -np.log10(master_df[key +\"_\" + sexs[0] + \"_combined_pval\"])\n",
    "        master_df[key +\"_\" + sexs[1] + \"_combined_pval\" + \"_minus_log\"] = -np.log10(master_df[key +\"_\" + sexs[1] + \"_combined_pval\"])\n",
    "        \n",
    "for pair in pairs:\n",
    "    if SPECIFIC_PHENOTYPE is not None and pair[0] != SPECIFIC_PHENOTYPE:\n",
    "        continue\n",
    "# phenotypes\n",
    "#     print(pair[0])\n",
    "    new_master = master_df.query(\"(\" + pair[0] + \"_1_fdr_significance == True) or (\"+ pair[1] + \"_fdr_significance == True) or (\"+ pair[2] + \"_fdr_significance == True)\")\n",
    "    all_sexes_genes = set(new_master.query(\"(\" + pair[0] + \"_1_fdr_significance == True)\").index)\n",
    "#     F_genes = set(new_master.query(\"(\" + pair[1] + \"_1_fdr_significance == True)\").index)\n",
    "#     M_genes = set(new_master.query(\"(\" + pair[2] + \"_1_fdr_significance == True)\").index)\n",
    "    F_genes = set(new_master.query(\"(\" + pair[1] + \"_fdr_significance == True)\").index)\n",
    "    M_genes = set(new_master.query(\"(\" + pair[2] + \"_fdr_significance == True)\").index)\n",
    "    all_F_intersection = all_sexes_genes.intersection(F_genes)\n",
    "    all_M_intersection = all_sexes_genes.intersection(M_genes)\n",
    "    F_M_intersection = all_sexes_genes.intersection(F_genes.intersection(M_genes))\n",
    "    all_F_M_intersection = F_genes.intersection(M_genes)\n",
    "    \n",
    "    print(\"all -\", len(all_sexes_genes),\"-\",all_sexes_genes)\n",
    "    print(\"F -\", len(F_genes),\"-\",F_genes)\n",
    "    print(\"M -\", len(M_genes),\"-\",M_genes)\n",
    "    \n",
    "    print(\"all_F_intersection -\", len(all_F_intersection),\"-\",all_F_intersection)\n",
    "    print(\"all_M_intersection -\", len(all_M_intersection),\"-\",all_M_intersection)\n",
    "    print(\"F_M_intersection -\", len(F_M_intersection),\"-\",F_M_intersection)\n",
    "    print(\"all_F_M_intersection -\", len(all_F_M_intersection),\"-\",all_F_M_intersection)\n",
    "    \n",
    "#     ax1 = new_master.plot(kind='scatter', x=pair[0] + \"_1_combined_pval\" + \"_minus_log\", y=pair[1] + \"_combined_pval\" + \"_minus_log\", color=\"red\",s=50, alpha=0.5)    \n",
    "#     ax2 = new_master.plot(kind='scatter', x=pair[0] + \"_1_combined_pval\" + \"_minus_log\", y=pair[2] + \"_combined_pval\" + \"_minus_log\", color=\"blue\",s=50, alpha=0.5,ax=ax1)    \n",
    "#     plt.legend([\"female\",\"male\"])\n",
    "    \n",
    "# #     print(a)\n",
    "#     set_plot_lims(0,12.5,'black')\n",
    "    \n",
    "#     plt.title(f\"{pair[0]} Sex dependant/all sexes\\noverall genes:{len(new_master)} (alpha=0.05)\")\n",
    "#     plt.xlabel(f\"{pair[0]} All sexes: -log10 hybrid p-val\")\n",
    "#     plt.ylabel(f\"{pair[0]} Sex dependant: -log10 hybrid p-val\")    \n",
    "#     print(ax1 == ax2)\n",
    "#     plt.show()\n"
   ]
  },
  {
   "cell_type": "code",
   "execution_count": null,
   "id": "fc3f261f",
   "metadata": {},
   "outputs": [],
   "source": [
    "new_master[[pair[1] + \"_combined_pval\" + \"_minus_log\",pair[2] + \"_combined_pval\" + \"_minus_log\"]]"
   ]
  },
  {
   "cell_type": "markdown",
   "id": "b055d46b",
   "metadata": {},
   "source": [
    "# genetic phenotype data"
   ]
  },
  {
   "cell_type": "markdown",
   "id": "70ffec2d",
   "metadata": {},
   "source": [
    "## Numeric data"
   ]
  },
  {
   "cell_type": "code",
   "execution_count": null,
   "id": "e01ca35b",
   "metadata": {},
   "outputs": [],
   "source": [
    "raw_phen_df = pd.read_csv(\"/cs/labs/michall/roeizucker/temp_icd10_delete.csv\",low_memory=False)"
   ]
  },
  {
   "cell_type": "code",
   "execution_count": null,
   "id": "659721da",
   "metadata": {},
   "outputs": [],
   "source": []
  },
  {
   "cell_type": "code",
   "execution_count": null,
   "id": "467aabf0",
   "metadata": {},
   "outputs": [],
   "source": [
    "I10_df = pd.read_csv(\"/cs/labs/michall/roeizucker/10krun/runs/48:59/ukbb_dataset.csv\")"
   ]
  },
  {
   "cell_type": "code",
   "execution_count": null,
   "id": "efd3ded2",
   "metadata": {},
   "outputs": [],
   "source": [
    "eids = list(I10_df[\"eid\"])\n",
    "reduced_phen_df = raw_phen_df[raw_phen_df['eid'].isin(eids)]\n"
   ]
  },
  {
   "cell_type": "code",
   "execution_count": null,
   "id": "db6a55a9",
   "metadata": {},
   "outputs": [],
   "source": [
    "pd.set_option('display.max_columns', None)\n",
    "# reduced_phen_df[reduced_phen_df.isin([\"I10\"]).any(axis=1)]\n",
    "phenotype_cols = list(reduced_phen_df.columns[2:])"
   ]
  },
  {
   "cell_type": "code",
   "execution_count": null,
   "id": "c3d16205",
   "metadata": {},
   "outputs": [],
   "source": [
    "phenotypes = list(pd.unique(reduced_phen_df[phenotype_cols].values.ravel('K')))"
   ]
  },
  {
   "cell_type": "code",
   "execution_count": null,
   "id": "9622d968",
   "metadata": {},
   "outputs": [],
   "source": [
    "counter = 0\n",
    "vals = []\n",
    "start = time.time()\n",
    "with open(\"phen_counts_delete_me.txt\",\"w\") as output_file:\n",
    "    for phen in phenotypes:\n",
    "        counter+=1\n",
    "        if counter%100 == 0:\n",
    "            end = time.time()\n",
    "            print(f\"{counter}/{len(phenotypes)}, {end - start}\")\n",
    "            start = time.time()\n",
    "        phen_sex_list = list(reduced_phen_df[reduced_phen_df.isin([phen]).any(axis=1)][\"31-0.0\"])\n",
    "    #     print(phen_sex_list)\n",
    "        female_count = phen_sex_list.count(0)\n",
    "        male_count = phen_sex_list.count(1)\n",
    "        vals.append((phen,male_count,female_count))\n",
    "        output_file.write(f\"{(phen,male_count,female_count)}\\n\")\n",
    "        output_file.flush()"
   ]
  },
  {
   "cell_type": "code",
   "execution_count": null,
   "id": "f129f781",
   "metadata": {},
   "outputs": [],
   "source": []
  },
  {
   "cell_type": "code",
   "execution_count": null,
   "id": "6efaf63d",
   "metadata": {},
   "outputs": [],
   "source": [
    "def f(val):\n",
    "    return str(val[0])\n",
    "vals.sort(key = lambda x: f(x))\n",
    "df = pd.DataFrame(vals,columns =['phen', 'male_count','female_count'])\n",
    "df[\"combined_count\"] = df[\"male_count\"] + df[\"female_count\"]\n",
    "df.to_csv(\"icd_primary_secondery_count.csv\")"
   ]
  },
  {
   "cell_type": "markdown",
   "id": "555a3f0b",
   "metadata": {},
   "source": [
    "# Manhattan plot example"
   ]
  },
  {
   "cell_type": "code",
   "execution_count": null,
   "id": "196c9e84",
   "metadata": {},
   "outputs": [],
   "source": [
    "from pandas import DataFrame\n",
    "from scipy.stats import uniform\n",
    "from scipy.stats import randint\n",
    "import numpy as np\n",
    "import matplotlib.pyplot as plt\n",
    "\n",
    "# some sample data\n",
    "df = DataFrame({'gene' : ['gene-%i' % i for i in np.arange(10000)],\n",
    "'pvalue' : uniform.rvs(size=10000),\n",
    "'chromosome' : ['ch-%i' % i for i in randint.rvs(0,12,size=10000)]})\n",
    "\n",
    "# -log_10(pvalue)\n",
    "df['minuslog10pvalue'] = -np.log10(df.pvalue)\n",
    "df.chromosome = df.chromosome.astype('category')\n",
    "df.chromosome = df.chromosome.cat.set_categories(['ch-%i' % i for i in range(12)], ordered=True)\n",
    "df = df.sort_values('chromosome')\n",
    "\n",
    "# How to plot gene vs. -log10(pvalue) and colour it by chromosome?\n",
    "df['ind'] = range(len(df))\n",
    "df_grouped = df.groupby(('chromosome'))\n",
    "fig = plt.figure()\n",
    "ax = fig.add_subplot(111)\n",
    "colors = ['red','green','blue', 'yellow']\n",
    "x_labels = []\n",
    "x_labels_pos = []\n",
    "for num, (name, group) in enumerate(df_grouped):\n",
    "    group.plot(kind='scatter', x='ind', y='minuslog10pvalue',color=colors[num % len(colors)], ax=ax)\n",
    "    x_labels.append(name)\n",
    "    x_labels_pos.append((group['ind'].iloc[-1] - (group['ind'].iloc[-1] - group['ind'].iloc[0])/2))\n",
    "ax.set_xticks(x_labels_pos)\n",
    "ax.set_xticklabels(x_labels)\n",
    "ax.set_xlim([0, len(df)])\n",
    "ax.set_ylim([0, 3.5])\n",
    "ax.set_xlabel('Chromosome')\n"
   ]
  },
  {
   "cell_type": "markdown",
   "id": "9e71eb11",
   "metadata": {},
   "source": [
    "## Open Targets experiments"
   ]
  },
  {
   "cell_type": "code",
   "execution_count": null,
   "id": "3237264b",
   "metadata": {},
   "outputs": [],
   "source": [
    "open_targets_data = {\n",
    "  \"data\": {\n",
    "    \"disease\": {\n",
    "      \"id\": \"EFO_0000537\",\n",
    "      \"name\": \"hypertension\",\n",
    "      \"associatedTargets\": {\n",
    "        \"count\": 5171,\n",
    "        \"rows\": [\n",
    "          {\n",
    "            \"target\": {\n",
    "              \"id\": \"ENSG00000196712\",\n",
    "              \"approvedSymbol\": \"NF1\"\n",
    "            },\n",
    "            \"score\": 0.8933433977297895\n",
    "          },\n",
    "          {\n",
    "            \"target\": {\n",
    "              \"id\": \"ENSG00000091262\",\n",
    "              \"approvedSymbol\": \"ABCC6\"\n",
    "            },\n",
    "            \"score\": 0.8610003237059541\n",
    "          },\n",
    "          {\n",
    "            \"target\": {\n",
    "              \"id\": \"ENSG00000204217\",\n",
    "              \"approvedSymbol\": \"BMPR2\"\n",
    "            },\n",
    "            \"score\": 0.8504379392582906\n",
    "          },\n",
    "          {\n",
    "            \"target\": {\n",
    "              \"id\": \"ENSG00000146021\",\n",
    "              \"approvedSymbol\": \"KLHL3\"\n",
    "            },\n",
    "            \"score\": 0.8417819224305927\n",
    "          },\n",
    "          {\n",
    "            \"target\": {\n",
    "              \"id\": \"ENSG00000171303\",\n",
    "              \"approvedSymbol\": \"KCNK3\"\n",
    "            },\n",
    "            \"score\": 0.8083509025523236\n",
    "          },\n",
    "          {\n",
    "            \"target\": {\n",
    "              \"id\": \"ENSG00000126562\",\n",
    "              \"approvedSymbol\": \"WNK4\"\n",
    "            },\n",
    "            \"score\": 0.8022994098064701\n",
    "          },\n",
    "          {\n",
    "            \"target\": {\n",
    "              \"id\": \"ENSG00000128829\",\n",
    "              \"approvedSymbol\": \"EIF2AK4\"\n",
    "            },\n",
    "            \"score\": 0.80200723324329\n",
    "          },\n",
    "          {\n",
    "            \"target\": {\n",
    "              \"id\": \"ENSG00000151623\",\n",
    "              \"approvedSymbol\": \"NR3C2\"\n",
    "            },\n",
    "            \"score\": 0.7874732655057632\n",
    "          },\n",
    "          {\n",
    "            \"target\": {\n",
    "              \"id\": \"ENSG00000176387\",\n",
    "              \"approvedSymbol\": \"HSD11B2\"\n",
    "            },\n",
    "            \"score\": 0.7872552527739525\n",
    "          },\n",
    "          {\n",
    "            \"target\": {\n",
    "              \"id\": \"ENSG00000144891\",\n",
    "              \"approvedSymbol\": \"AGTR1\"\n",
    "            },\n",
    "            \"score\": 0.7863144431282612\n",
    "          },\n",
    "          {\n",
    "            \"target\": {\n",
    "              \"id\": \"ENSG00000111319\",\n",
    "              \"approvedSymbol\": \"SCNN1A\"\n",
    "            },\n",
    "            \"score\": 0.7760975164746229\n",
    "          },\n",
    "          {\n",
    "            \"target\": {\n",
    "              \"id\": \"ENSG00000060237\",\n",
    "              \"approvedSymbol\": \"WNK1\"\n",
    "            },\n",
    "            \"score\": 0.7720652327358766\n",
    "          },\n",
    "          {\n",
    "            \"target\": {\n",
    "              \"id\": \"ENSG00000165409\",\n",
    "              \"approvedSymbol\": \"TSHR\"\n",
    "            },\n",
    "            \"score\": 0.7692849081028509\n",
    "          },\n",
    "          {\n",
    "            \"target\": {\n",
    "              \"id\": \"ENSG00000036257\",\n",
    "              \"approvedSymbol\": \"CUL3\"\n",
    "            },\n",
    "            \"score\": 0.7673039416444668\n",
    "          },\n",
    "          {\n",
    "            \"target\": {\n",
    "              \"id\": \"ENSG00000172572\",\n",
    "              \"approvedSymbol\": \"PDE3A\"\n",
    "            },\n",
    "            \"score\": 0.7619305702980745\n",
    "          },\n",
    "          {\n",
    "            \"target\": {\n",
    "              \"id\": \"ENSG00000120693\",\n",
    "              \"approvedSymbol\": \"SMAD9\"\n",
    "            },\n",
    "            \"score\": 0.7599242309570229\n",
    "          },\n",
    "          {\n",
    "            \"target\": {\n",
    "              \"id\": \"ENSG00000104835\",\n",
    "              \"approvedSymbol\": \"SARS2\"\n",
    "            },\n",
    "            \"score\": 0.7595309119355496\n",
    "          },\n",
    "          {\n",
    "            \"target\": {\n",
    "              \"id\": \"ENSG00000168447\",\n",
    "              \"approvedSymbol\": \"SCNN1B\"\n",
    "            },\n",
    "            \"score\": 0.7553918562834597\n",
    "          },\n",
    "          {\n",
    "            \"target\": {\n",
    "              \"id\": \"ENSG00000121075\",\n",
    "              \"approvedSymbol\": \"TBX4\"\n",
    "            },\n",
    "            \"score\": 0.7432022033407671\n",
    "          },\n",
    "          {\n",
    "            \"target\": {\n",
    "              \"id\": \"ENSG00000135744\",\n",
    "              \"approvedSymbol\": \"AGT\"\n",
    "            },\n",
    "            \"score\": 0.7387490712560908\n",
    "          },\n",
    "          {\n",
    "            \"target\": {\n",
    "              \"id\": \"ENSG00000043591\",\n",
    "              \"approvedSymbol\": \"ADRB1\"\n",
    "            },\n",
    "            \"score\": 0.7259426710212034\n",
    "          },\n",
    "          {\n",
    "            \"target\": {\n",
    "              \"id\": \"ENSG00000157388\",\n",
    "              \"approvedSymbol\": \"CACNA1D\"\n",
    "            },\n",
    "            \"score\": 0.7149370919466332\n",
    "          },\n",
    "          {\n",
    "            \"target\": {\n",
    "              \"id\": \"ENSG00000159640\",\n",
    "              \"approvedSymbol\": \"ACE\"\n",
    "            },\n",
    "            \"score\": 0.7095714783992337\n",
    "          },\n",
    "          {\n",
    "            \"target\": {\n",
    "              \"id\": \"ENSG00000166828\",\n",
    "              \"approvedSymbol\": \"SCNN1G\"\n",
    "            },\n",
    "            \"score\": 0.7062207152245555\n",
    "          },\n",
    "          {\n",
    "            \"target\": {\n",
    "              \"id\": \"ENSG00000164116\",\n",
    "              \"approvedSymbol\": \"GUCY1A1\"\n",
    "            },\n",
    "            \"score\": 0.7003579724059448\n",
    "          }\n",
    "        ]\n",
    "      }\n",
    "    }\n",
    "  }\n",
    "}\n"
   ]
  },
  {
   "cell_type": "code",
   "execution_count": null,
   "id": "acc345d8",
   "metadata": {},
   "outputs": [],
   "source": [
    "open_targets_data[\"data\"][\"disease\"][\"associatedTargets\"][\"rows\"]"
   ]
  },
  {
   "cell_type": "code",
   "execution_count": null,
   "id": "e44d89c3",
   "metadata": {},
   "outputs": [],
   "source": [
    "supp_table = pd.read_csv(\"/cs/usr/roeizucker/Hypertension-Suppl.csv\")"
   ]
  },
  {
   "cell_type": "code",
   "execution_count": null,
   "id": "6b956149",
   "metadata": {},
   "outputs": [],
   "source": [
    "supp_set = set(supp_table.iloc[:, 0])"
   ]
  },
  {
   "cell_type": "code",
   "execution_count": null,
   "id": "7247ff9d",
   "metadata": {},
   "outputs": [],
   "source": [
    "reg_sig_genes_symbol = set(pd.read_csv(\"/cs/labs/michall/roeizucker/10krun/results/I10_1.csv\").query(\"fdr_qval <= 0.1\")[\"symbol\"])"
   ]
  },
  {
   "cell_type": "code",
   "execution_count": null,
   "id": "cfa96942",
   "metadata": {},
   "outputs": [],
   "source": [
    "print(\"supp len\", len(supp_set))\n",
    "\n",
    "print(\"orig len\", len(reg_sig_genes_symbol))\n",
    "\n",
    "print(\"difference len\", len(reg_sig_genes_symbol.difference(supp_set)))\n"
   ]
  },
  {
   "cell_type": "code",
   "execution_count": null,
   "id": "7ae35457",
   "metadata": {},
   "outputs": [],
   "source": [
    "not_combined = reg_sig_genes_symbol.difference(supp_set)"
   ]
  },
  {
   "cell_type": "code",
   "execution_count": null,
   "id": "e1a1a4d9",
   "metadata": {},
   "outputs": [],
   "source": [
    "i10_df = pd.read_csv(\"/cs/labs/michall/roeizucker/10krun/results/I10_1.csv\")\n",
    "# i10_df\n",
    "shortened_table = i10_df[ i10_df['symbol'].isin(list(not_combined))][[\"name\",\"symbol\",\"recessive_pval\",\"dominant_pval\",\"combined_pval\"]]\n",
    "       "
   ]
  },
  {
   "cell_type": "code",
   "execution_count": null,
   "id": "155151a2",
   "metadata": {},
   "outputs": [],
   "source": [
    "print(len(shortened_table.query('recessive_pval < dominant_pval ')))\n",
    "print(len(shortened_table))\n",
    "\n",
    "lax_fdr = pd.read_csv(\"/cs/labs/michall/roeizucker/10krun/results/I10_1.csv\").query(\"fdr_qval <= 0.1\")\n",
    "lax_fdr_recessive = pd.read_csv(\"/cs/labs/michall/roeizucker/10krun/results/I10_1.csv\").query(\"fdr_qval <= 0.1 and (recessive_pval < dominant_pval)\")\n",
    "\n",
    "print(len(lax_fdr_recessive))\n",
    "print(len(lax_fdr))"
   ]
  },
  {
   "cell_type": "code",
   "execution_count": null,
   "id": "1765530e",
   "metadata": {},
   "outputs": [],
   "source": [
    "print(28/63)\n",
    "print(50/127)"
   ]
  },
  {
   "cell_type": "code",
   "execution_count": null,
   "id": "3aa659b7",
   "metadata": {},
   "outputs": [],
   "source": [
    "i10_df[i10_df['symbol'].isin(list([\"NACA\"]))]"
   ]
  },
  {
   "cell_type": "code",
   "execution_count": null,
   "id": "5502cdfb",
   "metadata": {},
   "outputs": [],
   "source": [
    "pd.read_csv(\"/cs/labs/michall/roeizucker/10krun/results/I10_1.csv\").head(71)"
   ]
  },
  {
   "cell_type": "markdown",
   "id": "983692f0",
   "metadata": {},
   "source": [
    "# risk score permutation tests"
   ]
  },
  {
   "cell_type": "code",
   "execution_count": null,
   "id": "7b2b8c3e",
   "metadata": {},
   "outputs": [],
   "source": []
  },
  {
   "cell_type": "markdown",
   "id": "fb2dc80d",
   "metadata": {},
   "source": [
    "# tests - delete after me"
   ]
  },
  {
   "cell_type": "code",
   "execution_count": null,
   "id": "4431939d",
   "metadata": {},
   "outputs": [],
   "source": [
    "venn2(subsets = (30, 10, 5), set_labels = ('Group A', 'Group B'))\n",
    "plt.show()"
   ]
  }
 ],
 "metadata": {
  "kernelspec": {
   "display_name": "Python 3 (ipykernel)",
   "language": "python",
   "name": "python3"
  },
  "language_info": {
   "codemirror_mode": {
    "name": "ipython",
    "version": 3
   },
   "file_extension": ".py",
   "mimetype": "text/x-python",
   "name": "python",
   "nbconvert_exporter": "python",
   "pygments_lexer": "ipython3",
   "version": "3.7.3"
  }
 },
 "nbformat": 4,
 "nbformat_minor": 5
}
