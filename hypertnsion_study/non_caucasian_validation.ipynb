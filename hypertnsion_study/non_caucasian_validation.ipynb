{
 "cells": [
  {
   "cell_type": "code",
   "execution_count": 21,
   "id": "3532dcde",
   "metadata": {},
   "outputs": [],
   "source": [
    "import pandas as pd\n",
    "import os"
   ]
  },
  {
   "cell_type": "code",
   "execution_count": 51,
   "id": "5ebdbc13",
   "metadata": {},
   "outputs": [],
   "source": [
    "PROJECT_PATH = \"/cs/labs/michall/roeizucker/non_caucasian_run_2\"\n",
    "FILE_NAME = \"ukbb_dataset.csv\"\n",
    "NEW_FILE_NAME = \"ukbb_dataset3.csv\"\n",
    "BACKROUNDS = [3001,3002]"
   ]
  },
  {
   "cell_type": "code",
   "execution_count": 23,
   "id": "cae0bcb3",
   "metadata": {},
   "outputs": [],
   "source": [
    "file_path = os.path.join(PROJECT_PATH,FILE_NAME)\n",
    "df = pd.read_csv(file_path)"
   ]
  },
  {
   "cell_type": "code",
   "execution_count": 55,
   "id": "9fa13fdf",
   "metadata": {},
   "outputs": [
    {
     "data": {
      "text/plain": [
       "1001.0    349323\n",
       "1003.0     14836\n",
       "1002.0     10476\n",
       "3001.0      5215\n",
       "6.0         4090\n",
       "4001.0      3778\n",
       "4002.0      3100\n",
       "3004.0      1640\n",
       "3002.0      1593\n",
       "5.0         1391\n",
       "2004.0       890\n",
       "2003.0       711\n",
       "2001.0       522\n",
       "1.0          455\n",
       "2002.0       360\n",
       "3003.0       213\n",
       "4003.0       107\n",
       "3.0           40\n",
       "2.0           38\n",
       "4.0           20\n",
       "Name: ehtnic_background, dtype: int64"
      ]
     },
     "execution_count": 55,
     "metadata": {},
     "output_type": "execute_result"
    }
   ],
   "source": [
    "df[\"ehtnic_background\"].value_counts()"
   ]
  },
  {
   "cell_type": "code",
   "execution_count": 36,
   "id": "d84c32c8",
   "metadata": {},
   "outputs": [],
   "source": [
    "df[\"I10_3001\"] = None\n",
    "df[\"I10_M_3001\"] = None\n",
    "df[\"I10_F_3001\"] = None\n",
    "df[\"I10_300X\"] = None\n",
    "df[\"I10_M_300X\"] = None\n",
    "df[\"I10_F_300X\"] = None\n"
   ]
  },
  {
   "cell_type": "code",
   "execution_count": 47,
   "id": "ea3584aa",
   "metadata": {},
   "outputs": [
    {
     "name": "stdout",
     "output_type": "stream",
     "text": [
      "numer of indian ancestry 5215\n",
      "numer of males 2667\n",
      "numer of females 2548\n"
     ]
    }
   ],
   "source": [
    "indian_df = df[df[\"ehtnic_background\"] == 3001.0]\n",
    "indian_count = len(indian_df)\n",
    "indian_male_count = len(indian_df[indian_df[\"sex\"] == 1])\n",
    "indian_female_count = len(indian_df[indian_df[\"sex\"] == 0])\n",
    "print(\"numer of indian ancestry\",indian_count)\n",
    "print(\"numer of males\",indian_male_count)\n",
    "print(\"numer of females\",indian_female_count)\n",
    "\n",
    "\n"
   ]
  },
  {
   "cell_type": "code",
   "execution_count": 41,
   "id": "7662126e",
   "metadata": {},
   "outputs": [],
   "source": [
    "# df[\"ehtnic_background\"].value_counts()\n",
    "df.loc[(df[\"ehtnic_background\"] == 3001.0) & (df[\"I10\"] == 1.0), \"I10_3001\"] = 1.0\n",
    "df.loc[(df[\"ehtnic_background\"] == 3001.0) & (df[\"I10\"] == 0.0), \"I10_3001\"] = 0.0\n",
    "\n",
    "df.loc[(df[\"ehtnic_background\"] == 3001.0) & (df[\"I10_M\"] == 1.0), \"I10_M_3001\"] = 1.0\n",
    "df.loc[(df[\"ehtnic_background\"] == 3001.0) & (df[\"I10_M\"] == 0.0), \"I10_M_3001\"] = 0.0\n",
    "\n",
    "df.loc[(df[\"ehtnic_background\"] == 3001.0) & (df[\"I10_F\"] == 1.0), \"I10_F_3001\"] = 1.0\n",
    "df.loc[(df[\"ehtnic_background\"] == 3001.0) & (df[\"I10_F\"] == 0.0), \"I10_F_3001\"] = 0.0\n",
    "\n",
    "file_path = os.path.join(PROJECT_PATH,NEW_FILE_NAME)\n",
    "df.to_csv(file_path)\n",
    "# df[(df[\"ehtnic_background\"] == 3001.0) & (df[\"I10\"] == 1.0)][\"I10_3001\"] = 1.0\n",
    "# df\n",
    "# df[df[\"ehtnic_background\"] == 3001.0]\n"
   ]
  },
  {
   "cell_type": "code",
   "execution_count": 53,
   "id": "bf7915ac",
   "metadata": {},
   "outputs": [
    {
     "name": "stdout",
     "output_type": "stream",
     "text": [
      "numer of indian ancestry 5215\n",
      "numer of males 2667\n",
      "numer of females 2548\n",
      "prevalence 0.29415148609779485\n"
     ]
    }
   ],
   "source": [
    "indian_df = df[df[\"ehtnic_background\"] == 3001.0]\n",
    "indian_count = len(indian_df)\n",
    "indian_male_count = len(indian_df[indian_df[\"sex\"] == 1])\n",
    "indian_female_count = len(indian_df[indian_df[\"sex\"] == 0])\n",
    "indian_prevalence = len(indian_df[indian_df[\"I10_3001\"] == 1]) / indian_count\n",
    "print(\"numer of indian ancestry\",indian_count)\n",
    "print(\"numer of males\",indian_male_count)\n",
    "print(\"numer of females\",indian_female_count)\n",
    "print(\"prevalence\",indian_prevalence)\n"
   ]
  },
  {
   "cell_type": "code",
   "execution_count": null,
   "id": "ab8aa7c8",
   "metadata": {},
   "outputs": [],
   "source": []
  }
 ],
 "metadata": {
  "kernelspec": {
   "display_name": "myenv",
   "language": "python",
   "name": "myenv"
  },
  "language_info": {
   "codemirror_mode": {
    "name": "ipython",
    "version": 3
   },
   "file_extension": ".py",
   "mimetype": "text/x-python",
   "name": "python",
   "nbconvert_exporter": "python",
   "pygments_lexer": "ipython3",
   "version": "3.7.3"
  }
 },
 "nbformat": 4,
 "nbformat_minor": 5
}
