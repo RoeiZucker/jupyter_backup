{
 "cells": [
  {
   "cell_type": "code",
   "execution_count": 1,
   "id": "5b6969f5",
   "metadata": {},
   "outputs": [
    {
     "name": "stdout",
     "output_type": "stream",
     "text": [
      " 41588_2016_BFng3654_MOESM74_ESM.csv\r\n",
      " Diastolic_blood_pressure.csv\r\n",
      " Diastolic_blood_pressure_F.csv\r\n",
      " Diastolic_blood_pressure_M.csv\r\n",
      " E03_M_19\r\n",
      " E03_M_2\r\n",
      " E03_M_20\r\n",
      " E03_M_21\r\n",
      " E03_M_22\r\n",
      " E03_M_23\r\n",
      " E03_M_24\r\n",
      " E03_M_25\r\n",
      " E03_M_26\r\n",
      " E03_M_27\r\n",
      " E03_M_28\r\n",
      " E03_M_29\r\n",
      " E03_M_3\r\n",
      " E03_M_30\r\n",
      " E03_M_31\r\n",
      " E03_M_32\r\n",
      " E03_M_33\r\n",
      " E03_M_34\r\n",
      " E03_M_35\r\n",
      " E03_M_36\r\n",
      " E03_M_37\r\n",
      " E03_M_38\r\n",
      " E03_M_39\r\n",
      " E03_M_4\r\n",
      " E03_M_40\r\n",
      " E03_M_41\r\n",
      " E03_M_42\r\n",
      " E03_M_43\r\n",
      " E03_M_44\r\n",
      " E03_M_45\r\n",
      " E03_M_46\r\n",
      " E03_M_47\r\n",
      " E03_M_48\r\n",
      " E03_M_49\r\n",
      " E03_M_5\r\n",
      " E03_M_50\r\n",
      " E03_M_51\r\n",
      " E03_M_52\r\n",
      " E03_M_53\r\n",
      " E03_M_54\r\n",
      " E03_M_55\r\n",
      " E03_M_56\r\n",
      " E03_M_57\r\n",
      " E03_M_58\r\n",
      " E03_M_59\r\n",
      " E03_M_6\r\n",
      " E03_M_60\r\n",
      " E03_M_61\r\n",
      " E03_M_62\r\n",
      " E03_M_63\r\n",
      " E03_M_64\r\n",
      " E03_M_65\r\n",
      " E03_M_66\r\n",
      " E03_M_67\r\n",
      " E03_M_68\r\n",
      " E03_M_69\r\n",
      " E03_M_7\r\n",
      " E03_M_70\r\n",
      " E03_M_71\r\n",
      " E03_M_72\r\n",
      " E03_M_73\r\n",
      " E03_M_74\r\n",
      " E03_M_75\r\n",
      " E03_M_76\r\n",
      " E03_M_77\r\n",
      " E03_M_78\r\n",
      " E03_M_79\r\n",
      " E03_M_8\r\n",
      " E03_M_80\r\n",
      " E03_M_81\r\n",
      " E03_M_82\r\n",
      " E03_M_83\r\n",
      " E03_M_84\r\n",
      " E03_M_85\r\n",
      " E03_M_86\r\n",
      " E03_M_87\r\n",
      " E03_M_88\r\n",
      " E03_M_89\r\n",
      " E03_M_9\r\n",
      " E03_M_90\r\n",
      " E03_M_91\r\n",
      " E03_M_92\r\n",
      " E03_M_93\r\n",
      " E03_M_94\r\n",
      " E03_M_95\r\n",
      " E03_M_96\r\n",
      " E03_M_97\r\n",
      " E03_M_98\r\n",
      " E03_M_99\r\n",
      " finngen_R5_I9_HYPTENS_lead.tsv\r\n",
      " finngen_R6_I9_HYPTENS_autorep.tsv\r\n",
      " finngen_R7_I9_HYPTENS_autorep.tsv\r\n",
      "'hypertnsion validation.ipynb'\r\n",
      " I10_1.csv\r\n",
      " I10_F_1.csv\r\n",
      " I10_M_1.csv\r\n",
      " NIHMS80726-supplement-Supplementary_tables_1-25.csv\r\n",
      " non_caucasian_validation.ipynb\r\n",
      " Systolic_blood_pressure_F.csv\r\n",
      " Systolic_blood_pressure_M.csv\r\n",
      " Untitled.ipynb\r\n"
     ]
    }
   ],
   "source": [
    "# !ls"
   ]
  },
  {
   "cell_type": "code",
   "execution_count": 2,
   "id": "bc00885c",
   "metadata": {},
   "outputs": [],
   "source": [
    "import pandas as pd\n",
    "from matplotlib_venn import venn2, venn2_circles, venn2_unweighted\n",
    "from matplotlib_venn import venn3, venn3_circles, venn3_unweighted\n",
    "from matplotlib import pyplot as plt\n",
    "%matplotlib inline"
   ]
  },
  {
   "cell_type": "code",
   "execution_count": 3,
   "id": "97e55553",
   "metadata": {},
   "outputs": [
    {
     "ename": "FileNotFoundError",
     "evalue": "[Errno 2] No such file or directory: 'Systolic_blood_pressure.csv'",
     "output_type": "error",
     "traceback": [
      "\u001b[0;31m---------------------------------------------------------------------------\u001b[0m",
      "\u001b[0;31mFileNotFoundError\u001b[0m                         Traceback (most recent call last)",
      "\u001b[0;32m/tmp/ipykernel_31550/845446583.py\u001b[0m in \u001b[0;36m<module>\u001b[0;34m\u001b[0m\n\u001b[1;32m     15\u001b[0m \u001b[0mDiastolic_blood_pressure_F\u001b[0m \u001b[0;34m=\u001b[0m \u001b[0mpd\u001b[0m\u001b[0;34m.\u001b[0m\u001b[0mread_csv\u001b[0m\u001b[0;34m(\u001b[0m\u001b[0;34m\"Diastolic_blood_pressure_F.csv\"\u001b[0m\u001b[0;34m)\u001b[0m\u001b[0;34m\u001b[0m\u001b[0;34m\u001b[0m\u001b[0m\n\u001b[1;32m     16\u001b[0m \u001b[0;34m\u001b[0m\u001b[0m\n\u001b[0;32m---> 17\u001b[0;31m \u001b[0mSystolic_blood_pressure\u001b[0m \u001b[0;34m=\u001b[0m \u001b[0mpd\u001b[0m\u001b[0;34m.\u001b[0m\u001b[0mread_csv\u001b[0m\u001b[0;34m(\u001b[0m\u001b[0;34m\"Systolic_blood_pressure.csv\"\u001b[0m\u001b[0;34m)\u001b[0m\u001b[0;34m\u001b[0m\u001b[0;34m\u001b[0m\u001b[0m\n\u001b[0m\u001b[1;32m     18\u001b[0m \u001b[0mSystolic_blood_pressure_M\u001b[0m \u001b[0;34m=\u001b[0m \u001b[0mpd\u001b[0m\u001b[0;34m.\u001b[0m\u001b[0mread_csv\u001b[0m\u001b[0;34m(\u001b[0m\u001b[0;34m\"Systolic_blood_pressure_M.csv\"\u001b[0m\u001b[0;34m)\u001b[0m\u001b[0;34m\u001b[0m\u001b[0;34m\u001b[0m\u001b[0m\n\u001b[1;32m     19\u001b[0m \u001b[0mSystolic_blood_pressure_F\u001b[0m \u001b[0;34m=\u001b[0m \u001b[0mpd\u001b[0m\u001b[0;34m.\u001b[0m\u001b[0mread_csv\u001b[0m\u001b[0;34m(\u001b[0m\u001b[0;34m\"Systolic_blood_pressure_F.csv\"\u001b[0m\u001b[0;34m)\u001b[0m\u001b[0;34m\u001b[0m\u001b[0;34m\u001b[0m\u001b[0m\n",
      "\u001b[0;32m/cs/labs/michall/roeizucker/fml_virt_env/lib/python3.7/site-packages/pandas/util/_decorators.py\u001b[0m in \u001b[0;36mwrapper\u001b[0;34m(*args, **kwargs)\u001b[0m\n\u001b[1;32m    309\u001b[0m                     \u001b[0mstacklevel\u001b[0m\u001b[0;34m=\u001b[0m\u001b[0mstacklevel\u001b[0m\u001b[0;34m,\u001b[0m\u001b[0;34m\u001b[0m\u001b[0;34m\u001b[0m\u001b[0m\n\u001b[1;32m    310\u001b[0m                 )\n\u001b[0;32m--> 311\u001b[0;31m             \u001b[0;32mreturn\u001b[0m \u001b[0mfunc\u001b[0m\u001b[0;34m(\u001b[0m\u001b[0;34m*\u001b[0m\u001b[0margs\u001b[0m\u001b[0;34m,\u001b[0m \u001b[0;34m**\u001b[0m\u001b[0mkwargs\u001b[0m\u001b[0;34m)\u001b[0m\u001b[0;34m\u001b[0m\u001b[0;34m\u001b[0m\u001b[0m\n\u001b[0m\u001b[1;32m    312\u001b[0m \u001b[0;34m\u001b[0m\u001b[0m\n\u001b[1;32m    313\u001b[0m         \u001b[0;32mreturn\u001b[0m \u001b[0mwrapper\u001b[0m\u001b[0;34m\u001b[0m\u001b[0;34m\u001b[0m\u001b[0m\n",
      "\u001b[0;32m/cs/labs/michall/roeizucker/fml_virt_env/lib/python3.7/site-packages/pandas/io/parsers/readers.py\u001b[0m in \u001b[0;36mread_csv\u001b[0;34m(filepath_or_buffer, sep, delimiter, header, names, index_col, usecols, squeeze, prefix, mangle_dupe_cols, dtype, engine, converters, true_values, false_values, skipinitialspace, skiprows, skipfooter, nrows, na_values, keep_default_na, na_filter, verbose, skip_blank_lines, parse_dates, infer_datetime_format, keep_date_col, date_parser, dayfirst, cache_dates, iterator, chunksize, compression, thousands, decimal, lineterminator, quotechar, quoting, doublequote, escapechar, comment, encoding, encoding_errors, dialect, error_bad_lines, warn_bad_lines, on_bad_lines, delim_whitespace, low_memory, memory_map, float_precision, storage_options)\u001b[0m\n\u001b[1;32m    584\u001b[0m     \u001b[0mkwds\u001b[0m\u001b[0;34m.\u001b[0m\u001b[0mupdate\u001b[0m\u001b[0;34m(\u001b[0m\u001b[0mkwds_defaults\u001b[0m\u001b[0;34m)\u001b[0m\u001b[0;34m\u001b[0m\u001b[0;34m\u001b[0m\u001b[0m\n\u001b[1;32m    585\u001b[0m \u001b[0;34m\u001b[0m\u001b[0m\n\u001b[0;32m--> 586\u001b[0;31m     \u001b[0;32mreturn\u001b[0m \u001b[0m_read\u001b[0m\u001b[0;34m(\u001b[0m\u001b[0mfilepath_or_buffer\u001b[0m\u001b[0;34m,\u001b[0m \u001b[0mkwds\u001b[0m\u001b[0;34m)\u001b[0m\u001b[0;34m\u001b[0m\u001b[0;34m\u001b[0m\u001b[0m\n\u001b[0m\u001b[1;32m    587\u001b[0m \u001b[0;34m\u001b[0m\u001b[0m\n\u001b[1;32m    588\u001b[0m \u001b[0;34m\u001b[0m\u001b[0m\n",
      "\u001b[0;32m/cs/labs/michall/roeizucker/fml_virt_env/lib/python3.7/site-packages/pandas/io/parsers/readers.py\u001b[0m in \u001b[0;36m_read\u001b[0;34m(filepath_or_buffer, kwds)\u001b[0m\n\u001b[1;32m    480\u001b[0m \u001b[0;34m\u001b[0m\u001b[0m\n\u001b[1;32m    481\u001b[0m     \u001b[0;31m# Create the parser.\u001b[0m\u001b[0;34m\u001b[0m\u001b[0;34m\u001b[0m\u001b[0;34m\u001b[0m\u001b[0m\n\u001b[0;32m--> 482\u001b[0;31m     \u001b[0mparser\u001b[0m \u001b[0;34m=\u001b[0m \u001b[0mTextFileReader\u001b[0m\u001b[0;34m(\u001b[0m\u001b[0mfilepath_or_buffer\u001b[0m\u001b[0;34m,\u001b[0m \u001b[0;34m**\u001b[0m\u001b[0mkwds\u001b[0m\u001b[0;34m)\u001b[0m\u001b[0;34m\u001b[0m\u001b[0;34m\u001b[0m\u001b[0m\n\u001b[0m\u001b[1;32m    483\u001b[0m \u001b[0;34m\u001b[0m\u001b[0m\n\u001b[1;32m    484\u001b[0m     \u001b[0;32mif\u001b[0m \u001b[0mchunksize\u001b[0m \u001b[0;32mor\u001b[0m \u001b[0miterator\u001b[0m\u001b[0;34m:\u001b[0m\u001b[0;34m\u001b[0m\u001b[0;34m\u001b[0m\u001b[0m\n",
      "\u001b[0;32m/cs/labs/michall/roeizucker/fml_virt_env/lib/python3.7/site-packages/pandas/io/parsers/readers.py\u001b[0m in \u001b[0;36m__init__\u001b[0;34m(self, f, engine, **kwds)\u001b[0m\n\u001b[1;32m    809\u001b[0m             \u001b[0mself\u001b[0m\u001b[0;34m.\u001b[0m\u001b[0moptions\u001b[0m\u001b[0;34m[\u001b[0m\u001b[0;34m\"has_index_names\"\u001b[0m\u001b[0;34m]\u001b[0m \u001b[0;34m=\u001b[0m \u001b[0mkwds\u001b[0m\u001b[0;34m[\u001b[0m\u001b[0;34m\"has_index_names\"\u001b[0m\u001b[0;34m]\u001b[0m\u001b[0;34m\u001b[0m\u001b[0;34m\u001b[0m\u001b[0m\n\u001b[1;32m    810\u001b[0m \u001b[0;34m\u001b[0m\u001b[0m\n\u001b[0;32m--> 811\u001b[0;31m         \u001b[0mself\u001b[0m\u001b[0;34m.\u001b[0m\u001b[0m_engine\u001b[0m \u001b[0;34m=\u001b[0m \u001b[0mself\u001b[0m\u001b[0;34m.\u001b[0m\u001b[0m_make_engine\u001b[0m\u001b[0;34m(\u001b[0m\u001b[0mself\u001b[0m\u001b[0;34m.\u001b[0m\u001b[0mengine\u001b[0m\u001b[0;34m)\u001b[0m\u001b[0;34m\u001b[0m\u001b[0;34m\u001b[0m\u001b[0m\n\u001b[0m\u001b[1;32m    812\u001b[0m \u001b[0;34m\u001b[0m\u001b[0m\n\u001b[1;32m    813\u001b[0m     \u001b[0;32mdef\u001b[0m \u001b[0mclose\u001b[0m\u001b[0;34m(\u001b[0m\u001b[0mself\u001b[0m\u001b[0;34m)\u001b[0m\u001b[0;34m:\u001b[0m\u001b[0;34m\u001b[0m\u001b[0;34m\u001b[0m\u001b[0m\n",
      "\u001b[0;32m/cs/labs/michall/roeizucker/fml_virt_env/lib/python3.7/site-packages/pandas/io/parsers/readers.py\u001b[0m in \u001b[0;36m_make_engine\u001b[0;34m(self, engine)\u001b[0m\n\u001b[1;32m   1038\u001b[0m             )\n\u001b[1;32m   1039\u001b[0m         \u001b[0;31m# error: Too many arguments for \"ParserBase\"\u001b[0m\u001b[0;34m\u001b[0m\u001b[0;34m\u001b[0m\u001b[0;34m\u001b[0m\u001b[0m\n\u001b[0;32m-> 1040\u001b[0;31m         \u001b[0;32mreturn\u001b[0m \u001b[0mmapping\u001b[0m\u001b[0;34m[\u001b[0m\u001b[0mengine\u001b[0m\u001b[0;34m]\u001b[0m\u001b[0;34m(\u001b[0m\u001b[0mself\u001b[0m\u001b[0;34m.\u001b[0m\u001b[0mf\u001b[0m\u001b[0;34m,\u001b[0m \u001b[0;34m**\u001b[0m\u001b[0mself\u001b[0m\u001b[0;34m.\u001b[0m\u001b[0moptions\u001b[0m\u001b[0;34m)\u001b[0m  \u001b[0;31m# type: ignore[call-arg]\u001b[0m\u001b[0;34m\u001b[0m\u001b[0;34m\u001b[0m\u001b[0m\n\u001b[0m\u001b[1;32m   1041\u001b[0m \u001b[0;34m\u001b[0m\u001b[0m\n\u001b[1;32m   1042\u001b[0m     \u001b[0;32mdef\u001b[0m \u001b[0m_failover_to_python\u001b[0m\u001b[0;34m(\u001b[0m\u001b[0mself\u001b[0m\u001b[0;34m)\u001b[0m\u001b[0;34m:\u001b[0m\u001b[0;34m\u001b[0m\u001b[0;34m\u001b[0m\u001b[0m\n",
      "\u001b[0;32m/cs/labs/michall/roeizucker/fml_virt_env/lib/python3.7/site-packages/pandas/io/parsers/c_parser_wrapper.py\u001b[0m in \u001b[0;36m__init__\u001b[0;34m(self, src, **kwds)\u001b[0m\n\u001b[1;32m     49\u001b[0m \u001b[0;34m\u001b[0m\u001b[0m\n\u001b[1;32m     50\u001b[0m         \u001b[0;31m# open handles\u001b[0m\u001b[0;34m\u001b[0m\u001b[0;34m\u001b[0m\u001b[0;34m\u001b[0m\u001b[0m\n\u001b[0;32m---> 51\u001b[0;31m         \u001b[0mself\u001b[0m\u001b[0;34m.\u001b[0m\u001b[0m_open_handles\u001b[0m\u001b[0;34m(\u001b[0m\u001b[0msrc\u001b[0m\u001b[0;34m,\u001b[0m \u001b[0mkwds\u001b[0m\u001b[0;34m)\u001b[0m\u001b[0;34m\u001b[0m\u001b[0;34m\u001b[0m\u001b[0m\n\u001b[0m\u001b[1;32m     52\u001b[0m         \u001b[0;32massert\u001b[0m \u001b[0mself\u001b[0m\u001b[0;34m.\u001b[0m\u001b[0mhandles\u001b[0m \u001b[0;32mis\u001b[0m \u001b[0;32mnot\u001b[0m \u001b[0;32mNone\u001b[0m\u001b[0;34m\u001b[0m\u001b[0;34m\u001b[0m\u001b[0m\n\u001b[1;32m     53\u001b[0m \u001b[0;34m\u001b[0m\u001b[0m\n",
      "\u001b[0;32m/cs/labs/michall/roeizucker/fml_virt_env/lib/python3.7/site-packages/pandas/io/parsers/base_parser.py\u001b[0m in \u001b[0;36m_open_handles\u001b[0;34m(self, src, kwds)\u001b[0m\n\u001b[1;32m    227\u001b[0m             \u001b[0mmemory_map\u001b[0m\u001b[0;34m=\u001b[0m\u001b[0mkwds\u001b[0m\u001b[0;34m.\u001b[0m\u001b[0mget\u001b[0m\u001b[0;34m(\u001b[0m\u001b[0;34m\"memory_map\"\u001b[0m\u001b[0;34m,\u001b[0m \u001b[0;32mFalse\u001b[0m\u001b[0;34m)\u001b[0m\u001b[0;34m,\u001b[0m\u001b[0;34m\u001b[0m\u001b[0;34m\u001b[0m\u001b[0m\n\u001b[1;32m    228\u001b[0m             \u001b[0mstorage_options\u001b[0m\u001b[0;34m=\u001b[0m\u001b[0mkwds\u001b[0m\u001b[0;34m.\u001b[0m\u001b[0mget\u001b[0m\u001b[0;34m(\u001b[0m\u001b[0;34m\"storage_options\"\u001b[0m\u001b[0;34m,\u001b[0m \u001b[0;32mNone\u001b[0m\u001b[0;34m)\u001b[0m\u001b[0;34m,\u001b[0m\u001b[0;34m\u001b[0m\u001b[0;34m\u001b[0m\u001b[0m\n\u001b[0;32m--> 229\u001b[0;31m             \u001b[0merrors\u001b[0m\u001b[0;34m=\u001b[0m\u001b[0mkwds\u001b[0m\u001b[0;34m.\u001b[0m\u001b[0mget\u001b[0m\u001b[0;34m(\u001b[0m\u001b[0;34m\"encoding_errors\"\u001b[0m\u001b[0;34m,\u001b[0m \u001b[0;34m\"strict\"\u001b[0m\u001b[0;34m)\u001b[0m\u001b[0;34m,\u001b[0m\u001b[0;34m\u001b[0m\u001b[0;34m\u001b[0m\u001b[0m\n\u001b[0m\u001b[1;32m    230\u001b[0m         )\n\u001b[1;32m    231\u001b[0m \u001b[0;34m\u001b[0m\u001b[0m\n",
      "\u001b[0;32m/cs/labs/michall/roeizucker/fml_virt_env/lib/python3.7/site-packages/pandas/io/common.py\u001b[0m in \u001b[0;36mget_handle\u001b[0;34m(path_or_buf, mode, encoding, compression, memory_map, is_text, errors, storage_options)\u001b[0m\n\u001b[1;32m    705\u001b[0m                 \u001b[0mencoding\u001b[0m\u001b[0;34m=\u001b[0m\u001b[0mioargs\u001b[0m\u001b[0;34m.\u001b[0m\u001b[0mencoding\u001b[0m\u001b[0;34m,\u001b[0m\u001b[0;34m\u001b[0m\u001b[0;34m\u001b[0m\u001b[0m\n\u001b[1;32m    706\u001b[0m                 \u001b[0merrors\u001b[0m\u001b[0;34m=\u001b[0m\u001b[0merrors\u001b[0m\u001b[0;34m,\u001b[0m\u001b[0;34m\u001b[0m\u001b[0;34m\u001b[0m\u001b[0m\n\u001b[0;32m--> 707\u001b[0;31m                 \u001b[0mnewline\u001b[0m\u001b[0;34m=\u001b[0m\u001b[0;34m\"\"\u001b[0m\u001b[0;34m,\u001b[0m\u001b[0;34m\u001b[0m\u001b[0;34m\u001b[0m\u001b[0m\n\u001b[0m\u001b[1;32m    708\u001b[0m             )\n\u001b[1;32m    709\u001b[0m         \u001b[0;32melse\u001b[0m\u001b[0;34m:\u001b[0m\u001b[0;34m\u001b[0m\u001b[0;34m\u001b[0m\u001b[0m\n",
      "\u001b[0;31mFileNotFoundError\u001b[0m: [Errno 2] No such file or directory: 'Systolic_blood_pressure.csv'"
     ]
    }
   ],
   "source": [
    "finn = pd.read_csv(\"./finngen_R5_I9_HYPTENS_lead.tsv\", sep='\\t')\n",
    "finn = pd.read_csv(\"./finngen_R7_I9_HYPTENS_autorep.tsv\", sep='\\t')\n",
    "\n",
    "I10_reg = pd.read_csv(\"./I10_1.csv\")\n",
    "I10_M = pd.read_csv(\"I10_M_1.csv\")\n",
    "I10_F = pd.read_csv(\"I10_F_1.csv\")\n",
    "\n",
    "a = pd.read_csv(\"./NIHMS80726-supplement-Supplementary_tables_1-25.csv\")\n",
    "b= pd.read_csv(\"./41588_2016_BFng3654_MOESM74_ESM.csv\")\n",
    "\n",
    "\n",
    "# b[\"Genes at locus (r2>0.4 of lead SNV)\"]\n",
    "Diastolic_blood_pressure = pd.read_csv(\"Diastolic_blood_pressure.csv\")\n",
    "Diastolic_blood_pressure_M = pd.read_csv(\"Diastolic_blood_pressure_M.csv\")\n",
    "Diastolic_blood_pressure_F = pd.read_csv(\"Diastolic_blood_pressure_F.csv\")\n",
    "\n",
    "Systolic_blood_pressure = pd.read_csv(\"Systolic_blood_pressure.csv\")\n",
    "Systolic_blood_pressure_M = pd.read_csv(\"Systolic_blood_pressure_M.csv\")\n",
    "Systolic_blood_pressure_F = pd.read_csv(\"Systolic_blood_pressure_F.csv\")"
   ]
  },
  {
   "cell_type": "markdown",
   "id": "428b2338",
   "metadata": {},
   "source": [
    "# validation from other studies"
   ]
  },
  {
   "cell_type": "code",
   "execution_count": null,
   "id": "04bbca7e",
   "metadata": {},
   "outputs": [],
   "source": [
    "set(a[\"Gene / Locus\"])"
   ]
  },
  {
   "cell_type": "code",
   "execution_count": null,
   "id": "0c282a54",
   "metadata": {},
   "outputs": [],
   "source": [
    "print(len(set(finn[\"lead_most_severe_gene\"]).intersection(set(I10_reg.query(\"fdr_significance\")[\"symbol\"]))))\n",
    "# print(len(set(finn[\"nearest_genes\"]).intersection(set(I10_reg.query(\"fdr_significance\")[\"symbol\"]))))\n",
    "print(\"finngen: \", set(finn[\"lead_most_severe_gene\"]).intersection(set(I10_reg.query(\"fdr_significance\")[\"symbol\"])))"
   ]
  },
  {
   "cell_type": "code",
   "execution_count": null,
   "id": "7ba2dc52",
   "metadata": {},
   "outputs": [],
   "source": [
    "print(len(set(a[\"Gene / Locus\"]).intersection(set(I10_reg.query(\"fdr_significance\")[\"symbol\"]))))\n",
    "print(\"one million\", set(a[\"Gene / Locus\"]).intersection(set(I10_reg.query(\"fdr_significance\")[\"symbol\"])))"
   ]
  },
  {
   "cell_type": "code",
   "execution_count": null,
   "id": "6444a231",
   "metadata": {},
   "outputs": [],
   "source": [
    "print(len(set(b[\"Genes at locus (r2>0.4 of lead SNV)\"]).intersection(set(I10_reg.query(\"fdr_significance\")[\"symbol\"]))))\n",
    "print(\"Trans-ancestry meta-analyses\", set(b[\"Genes at locus (r2>0.4 of lead SNV)\"]).intersection(set(I10_reg.query(\"fdr_significance\")[\"symbol\"])))"
   ]
  },
  {
   "cell_type": "markdown",
   "id": "212c2313",
   "metadata": {},
   "source": [
    "# validation using Blood pressure mesurments:"
   ]
  },
  {
   "cell_type": "markdown",
   "id": "e436dc65",
   "metadata": {},
   "source": [
    "### alpha of 0.05 "
   ]
  },
  {
   "cell_type": "code",
   "execution_count": null,
   "id": "67317496",
   "metadata": {},
   "outputs": [],
   "source": [
    "reg_set_Diastolic = set(Diastolic_blood_pressure.query(\"fdr_significance\")[\"symbol\"]).intersection(set(I10_reg.query(\"fdr_significance\")[\"symbol\"]))\n",
    "M_set_Diastolic = set(Diastolic_blood_pressure_M.query(\"fdr_significance\")[\"symbol\"]).intersection(set(I10_M.query(\"fdr_significance\")[\"symbol\"]))\n",
    "F_set_Diastolic = set(Diastolic_blood_pressure_F.query(\"fdr_significance\")[\"symbol\"]).intersection(set(I10_F.query(\"fdr_significance\")[\"symbol\"]))\n",
    "# print(len(the_set))\n",
    "print(f\"Diastolic_blood_pressure all sexs: ({len(reg_set_Diastolic)}), {reg_set_Diastolic}\")\n",
    "print(f\"Diastolic_blood_pressure (M): ({len(M_set_Diastolic)}), {M_set_Diastolic}\")\n",
    "print(f\"Diastolic_blood_pressure (F): ({len(F_set_Diastolic)}), {F_set_Diastolic}\")\n",
    "\n",
    "reg_set_Systolic = set(Systolic_blood_pressure.query(\"fdr_significance\")[\"symbol\"]).intersection(set(I10_reg.query(\"fdr_significance\")[\"symbol\"]))\n",
    "M_set_Systolic = set(Systolic_blood_pressure_M.query(\"fdr_significance\")[\"symbol\"]).intersection(set(I10_M.query(\"fdr_significance\")[\"symbol\"]))\n",
    "F_set_Systolic = set(Systolic_blood_pressure_F.query(\"fdr_significance\")[\"symbol\"]).intersection(set(I10_F.query(\"fdr_significance\")[\"symbol\"]))\n",
    "# print(len(the_set))\n",
    "print(f\"Systolic_blood_pressure all sexs: ({len(reg_set_Systolic)}), {reg_set_Systolic}\")\n",
    "print(f\"Systolic_blood_pressure (M): ({len(M_set_Systolic)}), {M_set_Systolic}\")\n",
    "print(f\"Systolic_blood_pressure (F): ({len(F_set_Systolic)}), {F_set_Systolic}\")"
   ]
  },
  {
   "cell_type": "code",
   "execution_count": null,
   "id": "8cc5d7fb",
   "metadata": {},
   "outputs": [],
   "source": [
    "sys_dis = set(Diastolic_blood_pressure.query(\"fdr_significance\")[\"symbol\"]).intersection(set(Systolic_blood_pressure.query(\"fdr_significance\")[\"symbol\"]))\n",
    "len(Systolic_blood_pressure.query(\"fdr_significance\")[\"symbol\"])"
   ]
  },
  {
   "cell_type": "code",
   "execution_count": null,
   "id": "c5aaa3e2",
   "metadata": {},
   "outputs": [],
   "source": [
    "Diastolic_blood_pressure[Diastolic_blood_pressure[\"symbol\"].isin(I10_reg.query(\"fdr_significance\")[\"symbol\"])].head(40)"
   ]
  },
  {
   "cell_type": "markdown",
   "id": "52830255",
   "metadata": {},
   "source": [
    "### alpha of 0.1"
   ]
  },
  {
   "cell_type": "code",
   "execution_count": null,
   "id": "d09b9d11",
   "metadata": {},
   "outputs": [],
   "source": [
    "reg_set_Diastolic = set(Diastolic_blood_pressure.query(\"fdr_qval < 0.1\")[\"symbol\"]).intersection(set(I10_reg.query(\"fdr_qval < 0.1\")[\"symbol\"]))\n",
    "M_set_Diastolic = set(Diastolic_blood_pressure_M.query(\"fdr_qval < 0.1\")[\"symbol\"]).intersection(set(I10_M.query(\"fdr_qval < 0.1\")[\"symbol\"]))\n",
    "F_set_Diastolic = set(Diastolic_blood_pressure_F.query(\"fdr_qval < 0.1\")[\"symbol\"]).intersection(set(I10_F.query(\"fdr_qval < 0.1\")[\"symbol\"]))\n",
    "# print(len(the_set))\n",
    "print(f\"Diastolic_blood_pressure all sexs: ({len(reg_set_Diastolic)}), {reg_set_Diastolic}\")\n",
    "print(f\"Diastolic_blood_pressure (M): ({len(M_set_Diastolic)}), {M_set_Diastolic}\")\n",
    "print(f\"Diastolic_blood_pressure (F): ({len(F_set_Diastolic)}), {F_set_Diastolic}\")\n",
    "\n",
    "reg_set_Systolic = set(Systolic_blood_pressure.query(\"fdr_qval < 0.1\")[\"symbol\"]).intersection(set(I10_reg.query(\"fdr_qval < 0.1\")[\"symbol\"]))\n",
    "M_set_Systolic = set(Systolic_blood_pressure_M.query(\"fdr_qval < 0.1\")[\"symbol\"]).intersection(set(I10_M.query(\"fdr_qval < 0.1\")[\"symbol\"]))\n",
    "F_set_Systolic = set(Systolic_blood_pressure_F.query(\"fdr_qval < 0.1\")[\"symbol\"]).intersection(set(I10_F.query(\"fdr_qval < 0.1\")[\"symbol\"]))\n",
    "# print(len(the_set))\n",
    "print(f\"Systolic_blood_pressure all sexs: ({len(reg_set_Systolic)}), {reg_set_Systolic}\")\n",
    "print(f\"Systolic_blood_pressure (M): ({len(M_set_Systolic)}), {M_set_Systolic}\")\n",
    "print(f\"Systolic_blood_pressure (F): ({len(F_set_Systolic)}), {F_set_Systolic}\")"
   ]
  },
  {
   "cell_type": "code",
   "execution_count": null,
   "id": "b35ba577",
   "metadata": {},
   "outputs": [],
   "source": [
    "reg_set_Diastolic = set(Diastolic_blood_pressure.query(\"fdr_qval < 0.1\")[\"symbol\"]).intersection(set(I10_reg.query(\"fdr_significance\")[\"symbol\"]))\n",
    "M_set_Diastolic = set(Diastolic_blood_pressure_M.query(\"fdr_qval < 0.1\")[\"symbol\"]).intersection(set(I10_M.query(\"fdr_significance\")[\"symbol\"]))\n",
    "F_set_Diastolic = set(Diastolic_blood_pressure_F.query(\"fdr_qval < 0.1\")[\"symbol\"]).intersection(set(I10_F.query(\"fdr_significance\")[\"symbol\"]))\n",
    "# print(len(the_set))\n",
    "print(f\"Diastolic_blood_pressure all sexs: ({len(reg_set_Diastolic)}), {reg_set_Diastolic}\")\n",
    "print(f\"Diastolic_blood_pressure (M): ({len(M_set_Diastolic)}), {M_set_Diastolic}\")\n",
    "print(f\"Diastolic_blood_pressure (F): ({len(F_set_Diastolic)}), {F_set_Diastolic}\")\n",
    "\n",
    "reg_set_Systolic = set(Systolic_blood_pressure.query(\"fdr_qval < 0.1\")[\"symbol\"]).intersection(set(I10_reg.query(\"fdr_significance\")[\"symbol\"]))\n",
    "M_set_Systolic = set(Systolic_blood_pressure_M.query(\"fdr_qval < 0.1\")[\"symbol\"]).intersection(set(I10_M.query(\"fdr_significance\")[\"symbol\"]))\n",
    "F_set_Systolic = set(Systolic_blood_pressure_F.query(\"fdr_qval < 0.1\")[\"symbol\"]).intersection(set(I10_F.query(\"fdr_significance\")[\"symbol\"]))\n",
    "# print(len(the_set))\n",
    "print(f\"Systolic_blood_pressure all sexs: ({len(reg_set_Systolic)}), {reg_set_Systolic}\")\n",
    "print(f\"Systolic_blood_pressure (M): ({len(M_set_Systolic)}), {M_set_Systolic}\")\n",
    "print(f\"Systolic_blood_pressure (F): ({len(F_set_Systolic)}), {F_set_Systolic}\")"
   ]
  },
  {
   "cell_type": "code",
   "execution_count": null,
   "id": "16ddffe7",
   "metadata": {},
   "outputs": [],
   "source": [
    "# def create_intersection_groups_for_venn(reg_sig_genes,female_sig_genes,male_sig_genes):\n",
    "#     combined_only = reg_sig_genes.difference(female_sig_genes).difference(male_sig_genes)\n",
    "#     female_only = female_sig_genes.difference(reg_sig_genes).difference(male_sig_genes)\n",
    "#     male_only = female_sig_genes.difference(reg_sig_genes).difference(female_sig_genes)\n",
    "#     female_combined = female_sig_genes.intersection(reg_sig_genes).difference(male_sig_genes)\n",
    "#     male_combined = male_sig_genes.intersection(reg_sig_genes).difference(female_sig_genes)\n",
    "#     male_female = male_sig_genes.intersection(female_sig_genes).difference(reg_sig_genes)\n",
    "#     male_female_combined = male_sig_genes.intersection(female_sig_genes).intersection(reg_sig_genes)\n",
    "#     lables = [\"combined only\", \"female only\", \"male only\", \"female-combined\",\n",
    "#               \"male-combined\",\"male-female\",\"male-female-combined\"]\n",
    "#     values = [len(combined_only), len(female_only),len(female_combined),len(male_only),\n",
    "#              len(male_combined),len(male_female),len(male_female_combined)]\n",
    "#     return  values\n",
    "\n",
    "def blood_pressure_diagram(both_BP, male_BP, female_BP):\n",
    "    both  = set(both_BP.query(\"fdr_qval < 0.05\")[\"symbol\"])\n",
    "    male = set(male_BP.query(\"fdr_qval < 0.05\")[\"symbol\"])\n",
    "    female = set(female_BP.query(\"fdr_qval < 0.05\")[\"symbol\"])\n",
    "    combined_only = (both - male) - female\n",
    "    male_only = (male-both) - female\n",
    "    female_only = (female-both) - male\n",
    "    male_female = male.intersection(female) - both\n",
    "    male_combined = male.intersection(both) - female\n",
    "    female_combined = female.intersection(both) - male\n",
    "    male_female_combined = both.intersection( male.intersection(female))\n",
    "    # len(female_only)\n",
    "    values = [len(combined_only), len(female_only),len(female_combined),len(male_only),\n",
    "             len(male_combined),len(male_female),len(male_female_combined)]\n",
    "\n",
    "    out = venn3_unweighted(subsets = values, set_labels = ('Combined', 'Female', 'Male'), alpha = 0.5);\n",
    "    for text in out.subset_labels:\n",
    "        text.set_fontsize(15)\n",
    "    for text in out.set_labels:\n",
    "        text.set_fontsize(15)\n",
    "    #     venn3(subsets = (1,2,3,4,5,6,7), set_labels = ('Group A', 'Group B', 'Group C'), alpha = 0.5);\n",
    "\n",
    "    #     plt.pie(values,labels=labels,autopct=lambda pct: pie_formater(pct, values))\n",
    "    #     print(values)\n",
    "    #     plt.title(\"GWAS gene distribution of relevant genes by sex, alpha=\" + str(alpha))\n",
    "    plt.title(f\"Unique PWAS diastolic\\ngenes intersection\",rotation='vertical',x=-0.15,y=0.1,fontsize=20)\n",
    "    plt.show()\n",
    "    "
   ]
  },
  {
   "cell_type": "code",
   "execution_count": null,
   "id": "ce7206b4",
   "metadata": {},
   "outputs": [],
   "source": [
    "blood_pressure_diagram(Diastolic_blood_pressure, Diastolic_blood_pressure_M, Diastolic_blood_pressure_F)\n",
    "blood_pressure_diagram(Siastolic_blood_pressure, Diastolic_blood_pressure_M, Diastolic_blood_pressure_F)"
   ]
  }
 ],
 "metadata": {
  "kernelspec": {
   "display_name": "Python 3 (ipykernel)",
   "language": "python",
   "name": "python3"
  },
  "language_info": {
   "codemirror_mode": {
    "name": "ipython",
    "version": 3
   },
   "file_extension": ".py",
   "mimetype": "text/x-python",
   "name": "python",
   "nbconvert_exporter": "python",
   "pygments_lexer": "ipython3",
   "version": "3.7.3"
  }
 },
 "nbformat": 4,
 "nbformat_minor": 5
}
