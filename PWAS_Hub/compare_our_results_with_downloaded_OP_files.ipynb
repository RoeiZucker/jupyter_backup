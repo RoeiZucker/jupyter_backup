{
 "cells": [
  {
   "cell_type": "code",
   "execution_count": 43,
   "id": "ee3e1dbf",
   "metadata": {},
   "outputs": [],
   "source": [
    "import pandas as pd\n",
    "import os\n",
    "import glob\n",
    "\n",
    "\n",
    "import numpy as np\n",
    "from scipy.stats import hypergeom\n",
    "import matplotlib.pyplot as plt\n"
   ]
  },
  {
   "cell_type": "code",
   "execution_count": 78,
   "id": "cd53a8c3",
   "metadata": {},
   "outputs": [],
   "source": [
    "ICD_FILES_PATH = \"/cs/labs/michall/roeizucker/10krun/results\"\n",
    "ESNG_CONVERSION_FILE = \"/sci/nosnap/michall/roeizucker/pwas_hub/gProfiler_hsapiens_5-20-2024_11-26-08AM.csv\"\n",
    "path = '/sci/nosnap/michall/roeizucker/jupyter_notebooks/PWAS_Hub'\n",
    "ICD_TRANSALTOR_PATH = \"/cs/labs/michall/roeizucker/10krun/ICD10_tree_filterd2.csv\"\n",
    "GLOBAL_THREASHOLD = 0.5\n",
    "GENETICS_THRESHOLD = 0.25"
   ]
  },
  {
   "cell_type": "code",
   "execution_count": 63,
   "id": "006cfcac",
   "metadata": {},
   "outputs": [
    {
     "name": "stdout",
     "output_type": "stream",
     "text": [
      "3.151452666160824e-17\n"
     ]
    }
   ],
   "source": [
    "[M, n, N] = [2000, 7, 12]\n",
    "rv = hypergeom(M, n, N)\n",
    "x = np.arange(0, n+1)\n",
    "pmf_dogs = rv.pmf([7])\n",
    "print(pmf_dogs[0])"
   ]
  },
  {
   "cell_type": "code",
   "execution_count": 74,
   "id": "40df53b8",
   "metadata": {},
   "outputs": [],
   "source": [
    "df_icd10_tree = pd.read_csv(ICD_TRANSALTOR_PATH)\n",
    "icd10_translator_dict = df_icd10_tree[[\"coding\",\"meaning\"]].set_index(\"coding\").to_dict(\"index\")"
   ]
  },
  {
   "cell_type": "code",
   "execution_count": 17,
   "id": "b6c2f90d",
   "metadata": {},
   "outputs": [],
   "source": [
    "\n",
    "extension = 'tsv'\n",
    "os.chdir(path)\n",
    "result = glob.glob('*.{}'.format(extension))\n",
    "print(result)"
   ]
  },
  {
   "cell_type": "code",
   "execution_count": 79,
   "id": "af9cb651",
   "metadata": {},
   "outputs": [],
   "source": [
    "def get_hypogeomertic_pval(our_genes,their_genes):\n",
    "    [M, n, N] = [18000, len(their_genes), (len(our_genes))]\n",
    "    sampled = [len(our_genes.intersection(their_genes))]\n",
    "    rv = hypergeom(M, n, N)\n",
    "    x = np.arange(0, n+1)\n",
    "    pmf_dogs = rv.pmf(sampled)\n",
    "    return pmf_dogs[0]\n",
    "results = []\n",
    "for icd_val in result:\n",
    "    symbol = icd_val.replace(\".tsv\",\"\")\n",
    "    val = symbol + \"_1.csv\"\n",
    "    val = os.path.join(ICD_FILES_PATH,val)\n",
    "    df_our = pd.read_csv(val)\n",
    "    df_their = pd.read_csv(os.path.join(path,icd_val),sep=\"\\t\")\n",
    "    our_genes = set(df_our[df_our[\"fdr_significance\"]][\"symbol\"])\n",
    "    their_genes_global = set(df_their[df_their[\"globalScore\"] > GLOBAL_THREASHOLD][\"symbol\"])\n",
    "    their_genes_genetics = set(df_their[df_their[\"otGeneticsPortal\"].replace('No data',0).astype(float) > GENETICS_THRESHOLD][\"symbol\"])\n",
    "    num_ours = len(our_genes)\n",
    "    num_global = len(their_genes_global)\n",
    "    num_genetics = len(their_genes_genetics)\n",
    "    \n",
    "    num_our_global = len(our_genes.intersection(their_genes_global))\n",
    "    num_our_genetics = len(our_genes.intersection(their_genes_genetics))\n",
    "    global_pval = get_hypogeomertic_pval(our_genes,their_genes_global)\n",
    "    genetics_pval = get_hypogeomertic_pval(our_genes,their_genes_genetics)\n",
    "    meaning = icd10_translator_dict[symbol][\"meaning\"]\n",
    "    results.append([symbol,meaning,num_ours,num_global,num_genetics,num_our_global,num_our_genetics,global_pval,genetics_pval])\n",
    "    "
   ]
  },
  {
   "cell_type": "code",
   "execution_count": 76,
   "id": "56b3f101",
   "metadata": {},
   "outputs": [
    {
     "data": {
      "text/plain": [
       "9"
      ]
     },
     "execution_count": 76,
     "metadata": {},
     "output_type": "execute_result"
    }
   ],
   "source": [
    "len(results[0])"
   ]
  },
  {
   "cell_type": "code",
   "execution_count": 80,
   "id": "af841454",
   "metadata": {},
   "outputs": [],
   "source": [
    "df = pd.DataFrame(results,columns=[\"Phen\",\"meaning\",\"our\",\"num_global\",\"num_genetics\",\"num_our_global\",\"num_our_genetics\",\"global_pval\",\"genetics_pval\"])\n",
    "df.to_csv(f\"/sci/nosnap/michall/roeizucker/jupyter_notebooks/PWAS_Hub/result_GLOBAL_THREASHOLD_{GLOBAL_THREASHOLD}_GENETICS_THRESHOLD_{GENETICS_THRESHOLD}.csv\")"
   ]
  },
  {
   "cell_type": "code",
   "execution_count": null,
   "id": "91187fce",
   "metadata": {},
   "outputs": [],
   "source": [
    "# find icd10 files\n",
    "SCORE_RANGE = 0.001\n",
    "    # Walk through the directory\n",
    "file_list = []\n",
    "for root, dirs, files in os.walk(ICD_FILES_PATH):\n",
    "    for file in files:\n",
    "        # Check if the file ends with '_1.csv'\n",
    "        if file.endswith('_1.csv'):\n",
    "            # Add each matching file's full path to the list\n",
    "            file_list.append(file.replace(\"_1.csv\",\"\"))\n",
    "def create_dataframe_for_association_file(association,score_range,datatype=None):\n",
    "    result = []\n",
    "    for val in diseases:\n",
    "        icd_vals = []\n",
    "        for ref in (diseases[val][\"dbXRefs\"]):\n",
    "\n",
    "            if \"ICD10\" in ref:\n",
    "                icd_vals.append(ref.split(\":\")[1].replace(\".\",\"\"))\n",
    "        if len(icd_vals) == 1:\n",
    "    #         check if there is an icd10 file that matches\n",
    "            if icd_vals[0] in file_list and val in association:\n",
    "                df = pd.read_csv(os.path.join(ICD_FILES_PATH,icd_vals[0] + \"_1.csv\"))\n",
    "    #             print(df)\n",
    "    #             print(icd_vals[0],val)\n",
    "                raw_genes = association[val]\n",
    "                gene_symbols = []\n",
    "                for raw_gene in raw_genes:\n",
    "                    \n",
    "                    if raw_gene[\"score\"] > score_range and (datatype is None or raw_gene[\"datatypeId\"] == datatype):\n",
    "                        gene_symbols.append(esng_translator[raw_gene[\"targetId\"]][\"name\"])\n",
    "\n",
    "                our_symbol = set(df[df[\"fdr_significance\"]][\"symbol\"])\n",
    "                their_symbol = set(gene_symbols)\n",
    "                intersection = our_symbol.intersection(their_symbol)\n",
    "                result.append([icd_vals[0] + \"-\" +val,len(intersection),len(our_symbol),len(their_symbol)])\n",
    "    df = pd.DataFrame(result,columns=[\"Phen\",\"intersection\",\"our_genes\",\"their_genes\"])\n",
    "    return df\n",
    "#     df.to_csv(\"/sci/nosnap/michall/roeizucker/pwas_hub/opentargets_PWAS_intersection_Score_range\" + str(SCORE_RANGE) + \".csv\")   \n",
    "df_genetic_association = create_dataframe_for_association_file(direct_by_source,SCORE_RANGE,\"genetic_association\")\n",
    "df_general = create_dataframe_for_association_file(direct,SCORE_RANGE)\n"
   ]
  }
 ],
 "metadata": {
  "kernelspec": {
   "display_name": "Python 3 (ipykernel)",
   "language": "python",
   "name": "python3"
  },
  "language_info": {
   "codemirror_mode": {
    "name": "ipython",
    "version": 3
   },
   "file_extension": ".py",
   "mimetype": "text/x-python",
   "name": "python",
   "nbconvert_exporter": "python",
   "pygments_lexer": "ipython3",
   "version": "3.7.3"
  }
 },
 "nbformat": 4,
 "nbformat_minor": 5
}
