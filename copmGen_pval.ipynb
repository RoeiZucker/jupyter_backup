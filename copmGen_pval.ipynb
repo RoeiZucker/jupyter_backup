{
 "cells": [
  {
   "cell_type": "code",
   "execution_count": 1,
   "id": "93cc32e5",
   "metadata": {},
   "outputs": [],
   "source": [
    "\n",
    "import scipy.stats as st\n",
    "import numpy as np\n",
    "import pandas as pd\n",
    "import matplotlib.pyplot as plt\n",
    "import statsmodels.stats.multitest as tests\n",
    "import pickle\n",
    "from matplotlib.pyplot import figure\n"
   ]
  },
  {
   "cell_type": "code",
   "execution_count": 2,
   "id": "1ee5a8d3",
   "metadata": {},
   "outputs": [],
   "source": [
    "ERROR_RATE = 0.001\n",
    "# filename = \"/cs/labs/michall/roeizucker/HomeWork/comp_gen/hackton/output_STL003.pickle\"\n",
    "filename = \"/cs/labs/michall/roeizucker/HomeWork/comp_gen/hackton/output_STL001.pickle\"\n",
    "# output_file = \"~/www/output_STL03_sig.csv\"\n",
    "TEST_FILE = False\n",
    "SIG_RATE = 0.05\n",
    "WRITE_OUTPUT = False\n",
    "SIZE = 1000\n",
    "RANGE = 1000\n"
   ]
  },
  {
   "cell_type": "code",
   "execution_count": 3,
   "id": "8b6cc250",
   "metadata": {},
   "outputs": [
    {
     "name": "stdout",
     "output_type": "stream",
     "text": [
      "done\n"
     ]
    }
   ],
   "source": [
    "\n",
    "\n",
    "\n",
    "\n",
    "def calculate_pval_for_snp_count(snp1_count, snp2_count,tested_perc,flip=True):\n",
    "    pval = 0\n",
    "    snp_sum = snp1_count + snp2_count\n",
    "    tested = snp1_count\n",
    "    if flip:\n",
    "        if snp2_count < snp1_count:\n",
    "            tested = snp2_count\n",
    "    for i in range(tested):\n",
    "        pval+=st.binom.pmf(i, snp_sum,tested_perc)\n",
    "    return pval\n",
    "    \n",
    "def calculate_pval_list(snp1_list, snp2_list, tested_perc, flip=True):\n",
    "    pvals = []\n",
    "    for i in range(len(snp1_list)):\n",
    "        pvals.append(calculate_pval_for_snp_count(int(snp1_list[i]),int(snp2_list[i]),tested_perc,flip))\n",
    "    return pvals\n",
    "\n",
    "print(\"done\")"
   ]
  },
  {
   "cell_type": "code",
   "execution_count": 4,
   "id": "cdffd205",
   "metadata": {},
   "outputs": [
    {
     "name": "stdout",
     "output_type": "stream",
     "text": [
      "1000\n",
      "done\n"
     ]
    }
   ],
   "source": [
    "value_list = [['name','snp1','snp2']]\n",
    "counter = 0\n",
    "import pickle\n",
    "if TEST_FILE:\n",
    "    infile = open(filename,'rb')\n",
    "    new_dict = pickle.load(infile)\n",
    "    infile.close()\n",
    "    for val in new_dict:\n",
    "        if len(new_dict[val]) == 2 and new_dict[val][0] !=0 and new_dict[val][1] !=0:\n",
    "            if new_dict[val][0] > new_dict[val][1]:\n",
    "                value_list.append([val,new_dict[val][0],new_dict[val][1]])\n",
    "            else:\n",
    "                value_list.append([val,new_dict[val][1],new_dict[val][0]])\n",
    "else:  \n",
    "    for i in np.random.randint(RANGE, size=(SIZE, 2)):\n",
    "        value_list.append([\"Row\" + str(counter),i[0],i[1]])\n",
    "        counter+=1\n",
    "\n",
    "\n",
    "data = np.array(value_list)\n",
    "frame = pd.DataFrame(data=data[1:,0:],\n",
    "#                   index=data[1:,0],\n",
    "                  columns=data[0,0:])\n",
    "# with pd.option_context('display.max_rows', None, 'display.max_columns', None):  # more options can be specified also\n",
    "#     print(frame)\n",
    "print(len(frame))\n",
    "\n",
    "print(\"done\")"
   ]
  },
  {
   "cell_type": "code",
   "execution_count": 5,
   "id": "9b88efef",
   "metadata": {},
   "outputs": [
    {
     "name": "stdout",
     "output_type": "stream",
     "text": [
      "done\n"
     ]
    }
   ],
   "source": [
    "frame[\"conf\"] = 1- np.array(calculate_pval_list(list(frame[\"snp1\"]),list(frame[\"snp2\"]),ERROR_RATE))\n",
    "conf_fixed = tests.multipletests(frame[\"conf\"], alpha=SIG_RATE, method='fdr_bh', is_sorted=False, returnsorted=False)\n",
    "frame[\"conf_fixed_sig\"] = conf_fixed[0]\n",
    "frame[\"conf_fixed_val\"] = conf_fixed[1]\n",
    "\n",
    "# keep only values that are significant \n",
    "frame = frame[frame[\"conf_fixed_sig\"]]\n",
    "\n",
    "frame[\"pvals\"] = calculate_pval_list(list(frame[\"snp1\"]),list(frame[\"snp2\"]),0.5)\n",
    "pval_fixed = tests.multipletests(frame[\"pvals\"], alpha=SIG_RATE, method='fdr_bh', is_sorted=False, returnsorted=False)\n",
    "frame[\"pval_fixed_sig\"] = pval_fixed[0]\n",
    "frame[\"pval_fixed_val\"] = pval_fixed[1]\n",
    "\n",
    "# keep only values that are significant \n",
    "frame = frame[frame[\"pval_fixed_sig\"]]\n",
    "print(\"done\")"
   ]
  },
  {
   "cell_type": "code",
   "execution_count": 6,
   "id": "dce630e3",
   "metadata": {
    "scrolled": false
   },
   "outputs": [
    {
     "data": {
      "image/png": "[encoded data removed]",
      "text/plain": [
       "<Figure size 800x640 with 1 Axes>"
      ]
     },
     "metadata": {
      "needs_background": "light"
     },
     "output_type": "display_data"
    }
   ],
   "source": [
    "num_of_subgroups = 100\n",
    "qvals = list(pd.to_numeric(frame[\"snp1\"]) / (pd.to_numeric(frame[\"snp1\"]) + pd.to_numeric(frame[\"snp2\"])))\n",
    "values = [0] * (num_of_subgroups + 1)\n",
    "qvals = np.round(np.array(qvals), decimals=int(np.log10(num_of_subgroups)))\n",
    "for i in qvals:\n",
    "    values[int(i*num_of_subgroups)]+=1\n",
    "names = []\n",
    "for i in range(num_of_subgroups + 1):\n",
    "    names.append(str(i/num_of_subgroups))\n",
    "\n",
    "\n",
    "#     names.append(str(i/num_of_subgroups))\n",
    "figure(figsize=(10, 8), dpi=80)\n",
    "\n",
    "ax = plt.subplot(111)\n",
    "bar_p = ax.bar(names,values)\n",
    "xticks = ax.xaxis.get_major_ticks()\n",
    "counter = 0\n",
    "for tic in xticks:\n",
    "    if counter%10 != 0:\n",
    "        tic.label1.set_visible(False)\n",
    "    counter+=1\n",
    "plt.title(\"Naive method, Size: \" + str(SIZE) + \" Range: \" + str(RANGE),fontsize=16)\n",
    "plt.show()"
   ]
  },
  {
   "cell_type": "code",
   "execution_count": 7,
   "id": "e051cf80",
   "metadata": {},
   "outputs": [
    {
     "name": "stdout",
     "output_type": "stream",
     "text": [
      "start calc pvals: \n",
      "done with pvals\n",
      "done\n"
     ]
    }
   ],
   "source": [
    "import numpy as np\n",
    "import pandas as pd\n",
    "import scipy.stats as sp\n",
    "import matplotlib.pyplot as plt\n",
    "import statsmodels.stats.multitest as tests\n",
    "import pickle\n",
    "\n",
    "new_frame = pd.DataFrame(data=data[1:,0:],\n",
    "                  columns=data[0,0:])\n",
    "\n",
    "p_vals = []\n",
    "conf_vals = []\n",
    "print(\"start calc pvals: \")\n",
    "for index, row in new_frame.iterrows():\n",
    "    val_1 = int(row['snp1'])\n",
    "    val_2 = int(row['snp2'])\n",
    "    reads_count = val_1+val_2\n",
    "    #######################################\n",
    "    #       bin(n, 0.5)     bin(n, else)  #\n",
    "    #  SNP-1    n/2          row['snp1']  #\n",
    "    #  SNP-2    n/2          row['snp2']  #\n",
    "    #######################################\n",
    "    if val_1 <= 5 or val_2<= 5:\n",
    "        oddsratio, pvalue = \\\n",
    "            sp.fisher_exact([[reads_count / 2, val_1], [reads_count / 2,val_2]])\n",
    "        p_vals.append(float(pvalue))\n",
    "\n",
    "    else:\n",
    "        oddsratio, pvalue = sp.chisquare([val_1, val_2], [reads_count/2, reads_count/2])\n",
    "        p_vals.append(float(pvalue))\n",
    "\n",
    "print(\"done with pvals\")\n",
    "new_frame[\"pvals\"] = p_vals\n",
    "new_frame[\"conf\"] = 1- np.array(calculate_pval_list(list(new_frame[\"snp1\"]),list(new_frame[\"snp2\"]),ERROR_RATE))\n",
    "\n",
    "conf_fixed = tests.multipletests(new_frame[\"conf\"], alpha=SIG_RATE, method='fdr_bh', is_sorted=False, returnsorted=False)\n",
    "new_frame[\"conf_fixed_sig\"] = conf_fixed[0]\n",
    "new_frame[\"conf_fixed_val\"] = conf_fixed[1]\n",
    "\n",
    "# keep only values that are significant\n",
    "new_frame = new_frame[new_frame[\"conf_fixed_sig\"]]\n",
    "\n",
    "pval_fixed = tests.multipletests(new_frame[\"pvals\"], alpha=SIG_RATE, method='fdr_bh', is_sorted=False, returnsorted=False)\n",
    "new_frame[\"pval_fixed_sig\"] = pval_fixed[0]\n",
    "new_frame[\"pval_fixed_val\"] = pval_fixed[1]\n",
    "\n",
    "# keep only values that are significant\n",
    "new_frame = new_frame[new_frame[\"pval_fixed_sig\"]]\n",
    "if WRITE_OUTPUT:\n",
    "    new_frame[\"name\"].str.split(pat=\":\",expand=True).to_csv(output_file)\n",
    "print(\"done\")\n"
   ]
  },
  {
   "cell_type": "code",
   "execution_count": 8,
   "id": "f003650d",
   "metadata": {},
   "outputs": [
    {
     "name": "stdout",
     "output_type": "stream",
     "text": [
      "done\n"
     ]
    },
    {
     "data": {
      "image/png": "[encoded data removed]",
      "text/plain": [
       "<Figure size 800x640 with 1 Axes>"
      ]
     },
     "metadata": {
      "needs_background": "light"
     },
     "output_type": "display_data"
    }
   ],
   "source": [
    "num_of_subgroups = 100\n",
    "qvals = list(pd.to_numeric(new_frame[\"snp1\"]) / (pd.to_numeric(new_frame[\"snp1\"]) + pd.to_numeric(new_frame[\"snp2\"])))\n",
    "values = [0] * (num_of_subgroups + 1)\n",
    "qvals = np.round(np.array(qvals), decimals=int(np.log10(num_of_subgroups)))\n",
    "for i in qvals:\n",
    "    values[int(i*num_of_subgroups)]+=1\n",
    "names = []\n",
    "for i in range(num_of_subgroups + 1):\n",
    "    names.append(str(i/num_of_subgroups))\n",
    "figure(figsize=(10, 8), dpi=80)\n",
    "\n",
    "ax = plt.subplot(111)\n",
    "bar_p = ax.bar(names,values)\n",
    "xticks = ax.xaxis.get_major_ticks()\n",
    "counter = 0\n",
    "for tic in xticks:\n",
    "    if counter%10 != 0:\n",
    "        tic.label1.set_visible(False)\n",
    "    counter+=1\n",
    "# plt.xticks([])\n",
    "\n",
    "plt.title(\"Chi Squered method, Size: \" + str(SIZE) + \" Range: \" + str(RANGE),fontsize=16)\n",
    "print(\"done\")"
   ]
  },
  {
   "cell_type": "code",
   "execution_count": null,
   "id": "88115711",
   "metadata": {},
   "outputs": [],
   "source": []
  }
 ],
 "metadata": {
  "kernelspec": {
   "display_name": "Python 3",
   "language": "python",
   "name": "python3"
  },
  "language_info": {
   "codemirror_mode": {
    "name": "ipython",
    "version": 3
   },
   "file_extension": ".py",
   "mimetype": "text/x-python",
   "name": "python",
   "nbconvert_exporter": "python",
   "pygments_lexer": "ipython3",
   "version": "3.7.3"
  }
 },
 "nbformat": 4,
 "nbformat_minor": 5
}
