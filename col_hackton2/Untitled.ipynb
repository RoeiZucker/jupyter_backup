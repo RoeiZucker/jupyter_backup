{
 "cells": [
  {
   "cell_type": "code",
   "execution_count": 3,
   "metadata": {},
   "outputs": [],
   "source": [
    "import pandas as pd"
   ]
  },
  {
   "cell_type": "code",
   "execution_count": 37,
   "metadata": {},
   "outputs": [],
   "source": [
    "FILES_LIST = [\"/sci/archive/michall/superk/ukbb_data/batch_sample_LDL_ids.aa_ac_1..515.g.vcf.gz\",\n",
    "             \"/sci/archive/michall/superk/ukbb_data/batch_sample_LDL_ids.aa_ab_1..534.g.vcf.gz\"]\n",
    "FILE = \"/sci/archive/michall/roeizucker/col_hackaton/joined_0.csv\"\n",
    "BATCH_SIZE = 100000"
   ]
  },
  {
   "cell_type": "code",
   "execution_count": 43,
   "metadata": {},
   "outputs": [],
   "source": [
    "df_0 = pd.read_csv(FILES_LIST[0],skiprows=list(range(3381)) + list(range(3382,3382)),nrows=BATCH_SIZE,sep=\"\\t\")\n",
    "df_1 = pd.read_csv(FILES_LIST[1],skiprows=list(range(3381)) + list(range(3382,3382)),nrows=BATCH_SIZE,sep=\"\\t\")\n",
    "df_a = pd.read_csv(FILE)"
   ]
  },
  {
   "cell_type": "code",
   "execution_count": 47,
   "metadata": {},
   "outputs": [
    {
     "name": "stdout",
     "output_type": "stream",
     "text": [
      "  #CHROM    POS UKB_2716281_0230796296\n",
      "0   chr1  68991       0/0:4:1:1:0,3,29\n",
      "1   chr1  68992            ./.:.:.:.:.\n",
      "2   chr1  68993            ./.:.:.:.:.\n",
      "3   chr1  68995            ./.:.:.:.:.\n",
      "4   chr1  68999            ./.:.:.:.:.\n",
      "5   chr1  69001            ./.:.:.:.:.\n",
      "6   chr1  69002            ./.:.:.:.:.\n",
      "7   chr1  69004            ./.:.:.:.:.\n",
      "8   chr1  69007            ./.:.:.:.:.\n",
      "9   chr1  69008            ./.:.:.:.:.\n",
      "  #CHROM    POS                             UKB_2716281_0230796296\n",
      "0   chr1  68991                                   0/0:4:1:1:0,3,29\n",
      "1   chr1  69081                                  ./.:.:.:.:.:.:.:.\n",
      "2   chr1  69270         1/1:22:7:0,7,0:1,0:40,22,0,990,990,990:.:.\n",
      "3   chr1  69418                                  ./.:.:.:.:.:.:.:.\n",
      "4   chr1  69422                                  ./.:.:.:.:.:.:.:.\n",
      "5   chr1  69428                                  ./.:.:.:.:.:.:.:.\n",
      "6   chr1  69463                                  ./.:.:.:.:.:.:.:.\n",
      "7   chr1  69468                                  ./.:.:.:.:.:.:.:.\n",
      "8   chr1  69511  1/1:32:29:0,28,0:0.965517,0:47,31,0,990,990,99...\n",
      "9   chr1  69552                                  ./.:.:.:.:.:.:.:.\n"
     ]
    }
   ],
   "source": [
    "# print(df_0[[\"#CHROM\",\"POS\",\"UKB_3281008_339856432\"]].head(10))\n",
    "print(df_1[[\"#CHROM\",\"POS\",\"UKB_2716281_0230796296\"]].head(10))\n",
    "print(df_a[[\"#CHROM\",\"POS\",\"UKB_2716281_0230796296\"]].head(10))"
   ]
  },
  {
   "cell_type": "code",
   "execution_count": 48,
   "metadata": {},
   "outputs": [
    {
     "data": {
      "text/plain": [
       "266    1/1:22:7:0,7,0:1,0:40,22,0,990,990,990:.:.\n",
       "Name: UKB_2716281_0230796296, dtype: object"
      ]
     },
     "execution_count": 48,
     "metadata": {},
     "output_type": "execute_result"
    }
   ],
   "source": [
    "df_1[(df_1[\"POS\"] == 69270)][\"UKB_2716281_0230796296\"]"
   ]
  }
 ],
 "metadata": {
  "kernelspec": {
   "display_name": "Python 3",
   "language": "python",
   "name": "python3"
  },
  "language_info": {
   "codemirror_mode": {
    "name": "ipython",
    "version": 3
   },
   "file_extension": ".py",
   "mimetype": "text/x-python",
   "name": "python",
   "nbconvert_exporter": "python",
   "pygments_lexer": "ipython3",
   "version": "3.7.3"
  }
 },
 "nbformat": 4,
 "nbformat_minor": 5
}
