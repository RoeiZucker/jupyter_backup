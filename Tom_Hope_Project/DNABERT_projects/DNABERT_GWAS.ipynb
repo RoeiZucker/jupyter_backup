{
 "cells": [
  {
   "cell_type": "markdown",
   "metadata": {},
   "source": [
    "# DNABERT GWAS replication"
   ]
  },
  {
   "cell_type": "code",
   "execution_count": 1,
   "metadata": {},
   "outputs": [],
   "source": [
    "import pandas as pd\n",
    "from sklearn.model_selection import train_test_split\n",
    "import os"
   ]
  },
  {
   "cell_type": "markdown",
   "metadata": {},
   "source": [
    "## convert CSV files to train and test files"
   ]
  },
  {
   "cell_type": "code",
   "execution_count": 2,
   "metadata": {},
   "outputs": [],
   "source": [
    "PHEN_NAME = \"3_utr_to_5_utr\"\n",
    "FILE_PATH = f\"/sci/nosnap/michall/roeizucker/DNABERT/examples/my_projects/{PHEN_NAME}.csv\"\n",
    "EXAMPLE_TRAINING_PATH = \"/sci/nosnap/michall/roeizucker/DNABERT/examples/sample_data/ft/6\"\n",
    "RESULT_PATH = f\"/sci/nosnap/michall/roeizucker/DNABERT/examples/sample_data/ft/{PHEN_NAME}\"\n"
   ]
  },
  {
   "cell_type": "code",
   "execution_count": null,
   "metadata": {},
   "outputs": [],
   "source": []
  },
  {
   "cell_type": "code",
   "execution_count": 3,
   "metadata": {},
   "outputs": [],
   "source": [
    "# df\n",
    "if not os.path.exists(RESULT_PATH):\n",
    "    !mkdir {RESULT_PATH}"
   ]
  },
  {
   "cell_type": "code",
   "execution_count": 4,
   "metadata": {},
   "outputs": [],
   "source": [
    "df = pd.read_csv(FILE_PATH)\n",
    "if \"Unnamed: 0\" in df.columns:\n",
    "    df = df.drop(\"Unnamed: 0\",axis=1)"
   ]
  },
  {
   "cell_type": "code",
   "execution_count": 5,
   "metadata": {},
   "outputs": [],
   "source": [
    "# df[\"key\"] = df[\"val\"]\n",
    "df_pos = df[df[\"key\"] == 1]\n",
    "df_neg = df[df[\"key\"] == 0]"
   ]
  },
  {
   "cell_type": "code",
   "execution_count": null,
   "metadata": {},
   "outputs": [],
   "source": []
  },
  {
   "cell_type": "code",
   "execution_count": 6,
   "metadata": {},
   "outputs": [],
   "source": [
    "y = df[\"key\"]\n",
    "X = df.drop(\"key\",axis = 1)\n"
   ]
  },
  {
   "cell_type": "code",
   "execution_count": 7,
   "metadata": {},
   "outputs": [],
   "source": [
    "X_train, X_test, y_train, y_test = train_test_split(X, y, test_size=0.33, random_state=42)"
   ]
  },
  {
   "cell_type": "code",
   "execution_count": 8,
   "metadata": {},
   "outputs": [
    {
     "name": "stdout",
     "output_type": "stream",
     "text": [
      "sequence\tlabel\r",
      "\r\n",
      "GTGGGG TGGGGA GGGGAG GGGAGG GGAGGG GAGGGA AGGGAG GGGAGG GGAGGC GAGGCC AGGCCG GGCCGC GCCGCC CCGCCC CGCCCC GCCCCA CCCCAC CCCACT CCACTG CACTGC ACTGCA CTGCAG TGCAGG GCAGGT CAGGTG AGGTGG GGTGGG GTGGGC TGGGCC GGGCCT GGCCTG GCCTGT CCTGTA CTGTAG TGTAGC GTAGCA TAGCAG AGCAGC GCAGCT CAGCTG AGCTGC GCTGCA CTGCAC TGCACC GCACCT CACCTG ACCTGA CCTGAG CTGAGG TGAGGC GAGGCA AGGCAG GGCAGG GCAGGG CAGGGC AGGGCT GGGCTG GGCTGG GCTGGC CTGGCA TGGCAG GGCAGC GCAGCC CAGCCC AGCCCC GCCCCT CCCCTG CCCTGT CCTGTG CTGTGG TGTGGG GTGGGG TGGGGA GGGGAG GGGAGG GGAGGG GAGGGA AGGGAG GGGAGG GGAGGC GAGGCC AGGCCG GGCCGC GCCGCC CCGCCC CGCCCC GCCCCA CCCCAC CCCACT CCACTG CACTGC ACTGCA CTGCAG TGCAGG GCAGGT CAGGTG\t0\r",
      "\r\n"
     ]
    }
   ],
   "source": [
    "!head -n 2 {EXAMPLE_TRAINING_PATH}/dev.tsv"
   ]
  },
  {
   "cell_type": "code",
   "execution_count": 9,
   "metadata": {},
   "outputs": [
    {
     "name": "stderr",
     "output_type": "stream",
     "text": [
      "/usr/lib/python3/dist-packages/pandas/core/frame.py:3781: SettingWithCopyWarning: \n",
      "A value is trying to be set on a copy of a slice from a DataFrame\n",
      "\n",
      "See the caveats in the documentation: http://pandas.pydata.org/pandas-docs/stable/indexing.html#indexing-view-versus-copy\n",
      "  return super(DataFrame, self).rename(**kwargs)\n",
      "/usr/lib/python3/dist-packages/ipykernel_launcher.py:6: SettingWithCopyWarning: \n",
      "A value is trying to be set on a copy of a slice from a DataFrame.\n",
      "Try using .loc[row_indexer,col_indexer] = value instead\n",
      "\n",
      "See the caveats in the documentation: http://pandas.pydata.org/pandas-docs/stable/indexing.html#indexing-view-versus-copy\n",
      "  \n"
     ]
    }
   ],
   "source": [
    "name = \"train.tsv\"\n",
    "def create_dataset(name,X,y):\n",
    "    file_path = os.path.join(RESULT_PATH,name)\n",
    "    train_df = X[[\"seq\"]]\n",
    "    train_df.rename(columns={\"seq\":\"sequence\"},inplace=True)\n",
    "    train_df[\"label\"] = y\n",
    "    train_df.to_csv(file_path,sep=\"\\t\",index=False)\n",
    "def print_dataset(name,X,y):\n",
    "    file_path = os.path.join(RESULT_PATH,name)\n",
    "    train_df = X[[\"seq\"]]\n",
    "    train_df.rename(columns={\"seq\":\"sequence\"},inplace=True)\n",
    "    train_df[\"label\"] = y\n",
    "    print(train_df)\n",
    "#     train_df.to_csv(file_path,sep=\"\\t\",index=False)\n",
    "create_dataset(\"dev.tsv\",X_test,y_test)\n",
    "create_dataset(\"train.tsv\",X_train,y_train)"
   ]
  },
  {
   "cell_type": "code",
   "execution_count": 10,
   "metadata": {},
   "outputs": [
    {
     "name": "stdout",
     "output_type": "stream",
     "text": [
      "                                              sequence  label\n",
      "361                                                NaN      1\n",
      "73   ATCCTG TCCTGT CCTGTG CTGTGG TGTGGC GTGGCA TGGC...      0\n",
      "374  ATAGTC TAGTCC AGTCCA GTCCAA TCCAAG CCAAGT CAAG...      1\n",
      "155                                                NaN      0\n",
      "104  AATTCT ATTCTG TTCTGT TCTGTC CTGTCA TGTCAC GTCA...      0\n",
      "394  ATTACA TTACAA TACAAA ACAAAA CAAAAA AAAAAT AAAA...      1\n",
      "377  GCATGA CATGAG ATGAGG TGAGGT GAGGTC AGGTCT GGTC...      1\n",
      "124  CCTCAA CTCAAA TCAAAG CAAAGA AAAGAT AAGATT AGAT...      0\n",
      "68   CGAACC GAACCG AACCGA ACCGAG CCGAGC CGAGCG GAGC...      0\n",
      "450  TGAATT GAATTT AATTTA ATTTAA TTTAAC TTAACT TAAC...      1\n",
      "9    CCAAAC CAAACA AAACAA AACAAA ACAAAA CAAAAG AAAA...      0\n",
      "194  CCCACG CCACGT CACGTC ACGTCC CGTCCT GTCCTG TCCT...      0\n",
      "406  TGCCCC GCCCCC CCCCCA CCCCAG CCCAGC CCAGCG CAGC...      1\n",
      "84   CCTTTC CTTTCC TTTCCC TTCCCG TCCCGG CCCGGG CCGG...      0\n",
      "371  GGCCAG GCCAGC CCAGCT CAGCTG AGCTGT GCTGTG CTGT...      1\n",
      "388  GTACTC TACTCC ACTCCT CTCCTC TCCTCT CCTCTC CTCT...      1\n",
      "495  TGGGAC GGGACT GGACTC GACTCT ACTCTG CTCTGC TCTG...      1\n",
      "30   ACCCTG CCCTGG CCTGGG CTGGGA TGGGAG GGGAGG GGAG...      0\n",
      "316  GCCGGG CCGGGA CGGGAG GGGAGG GGAGGC GAGGCA AGGC...      1\n",
      "408  GAGACT AGACTG GACTGG ACTGGA CTGGAT TGGATT GGAT...      1\n",
      "490  AATACT ATACTA TACTAA ACTAAG CTAAGA TAAGAA AAGA...      1\n",
      "491  TTGAGC TGAGCA GAGCAG AGCAGA GCAGAC CAGACA AGAC...      1\n",
      "280  CAAGGA AAGGAA AGGAAA GGAAAT GAAATT AAATTT AATT...      1\n",
      "356  AACATC ACATCT CATCTA ATCTAG TCTAGT CTAGTG TAGT...      1\n",
      "76   TCTTCG CTTCGA TTCGAT TCGATC CGATCG GATCGT ATCG...      0\n",
      "461                                                NaN      1\n",
      "497  CCGTGG CGTGGG GTGGGC TGGGCC GGGCCC GGCCCC GCCC...      1\n",
      "211  CTCCAG TCCAGC CCAGCG CAGCGC AGCGCA GCGCAG CGCA...      0\n",
      "101  ATTGCT TTGCTG TGCTGG GCTGGA CTGGAC TGGACT GGAC...      0\n",
      "334  GTAAAG TAAAGA AAAGAC AAGACA AGACAG GACAGA ACAG...      1\n",
      "..                                                 ...    ...\n",
      "57   CTGCAA TGCAAA GCAAAT CAAATC AAATCC AATCCT ATCC...      0\n",
      "192                                             TGTACA      0\n",
      "24   CCATAG CATAGT ATAGTA TAGTAC AGTACG GTACGG TACG...      0\n",
      "17   TCCAAG CCAAGA CAAGAG AAGAGG AGAGGC GAGGCC AGGC...      0\n",
      "265  AAGCCT AGCCTT GCCTTG CCTTGA CTTGAA TTGAAG TGAA...      1\n",
      "66   AGCCGC GCCGCC CCGCCG CGCCGC GCCGCC CCGCCA CGCC...      0\n",
      "208  CCCCCC CCCCCC CCCCCT CCCCTC CCCTCC CCTCCC CTCC...      0\n",
      "479  ATATGA TATGAG ATGAGG TGAGGA GAGGAT AGGATA GGAT...      1\n",
      "94   GGCCCG GCCCGA CCCGAG CCGAGG CGAGGT GAGGTC AGGT...      0\n",
      "253  AAATGT AATGTT ATGTTT TGTTTA GTTTAA TTTAAT TTAA...      1\n",
      "266  AGGTCC GGTCCC GTCCCC TCCCCA CCCCAA CCCAAA CCAA...      1\n",
      "23   TTCCCG TCCCGG CCCGGG CCGGGG CGGGGG GGGGGA GGGG...      0\n",
      "222  CCGATT CGATTC GATTCC ATTCCT TTCCTC TCCTCA CCTC...      0\n",
      "261  TCCTTT CCTTTT CTTTTT TTTTTG TTTTGT TTTGTA TTGT...      1\n",
      "426  ATCATG TCATGC CATGCA ATGCAT TGCATA GCATAC CATA...      1\n",
      "5    CTGCGG TGCGGC GCGGCG CGGCGG GGCGGG GCGGGA CGGG...      0\n",
      "116  CCAAGG CAAGGG AAGGGA AGGGAT GGGATC GGATCT GATC...      0\n",
      "45   TGGCAG GGCAGC GCAGCT CAGCTT AGCTTG GCTTGT CTTG...      0\n",
      "16   CGCTTT GCTTTC CTTTCC TTTCCT TTCCTT TCCTTT CCTT...      0\n",
      "462  GCTGTC CTGTCC TGTCCG GTCCGT TCCGTC CCGTCG CGTC...      1\n",
      "357  GTCATT TCATTT CATTTT ATTTTG TTTTGT TTTGTG TTGT...      1\n",
      "3    CGGAAA GGAAAC GAAACT AAACTG AACTGC ACTGCT CTGC...      0\n",
      "218  CTGTGA TGTGAT GTGATG TGATGG GATGGC ATGGCG TGGC...      0\n",
      "405  TACAGC ACAGCA CAGCAC AGCACA GCACAA CACAAG ACAA...      1\n",
      "60   GGCTGG GCTGGG CTGGGC TGGGCG GGGCGG GGCGGG GCGG...      0\n",
      "110  CTGGCC TGGCCT GGCCTC GCCTCC CCTCCC CTCCCG TCCC...      0\n",
      "318  TTAACT TAACTA AACTAC ACTACT CTACTG TACTGC ACTG...      1\n",
      "428  ATTTCA TTTCAA TTCAAT TCAATT CAATTT AATTTA ATTT...      1\n",
      "29   CTTCCT TTCCTT TCCTTC CCTTCC CTTCCC TTCCCC TCCC...      0\n",
      "437  AGAAAG GAAAGC AAAGCC AAGCCA AGCCAG GCCAGG CCAG...      1\n",
      "\n",
      "[165 rows x 2 columns]\n",
      "                                              sequence  label\n",
      "471  ATAGCT TAGCTG AGCTGG GCTGGA CTGGAA TGGAAG GGAA...      1\n",
      "26   CCTAGA CTAGAG TAGAGC AGAGCG GAGCGG AGCGGC GCGG...      0\n",
      "7    AAAAAG AAAAGG AAAGGG AAGGGC AGGGCG GGGCGG GGCG...      0\n",
      "453  TTTTTC TTTTCT TTTCTT TTCTTA TCTTAA CTTAAT TTAA...      1\n",
      "108  ATTCAC TTCACT TCACTG CACTGG ACTGGG CTGGGG TGGG...      0\n",
      "37   CTAGTC TAGTCT AGTCTC GTCTCC TCTCCC CTCCCA TCCC...      0\n",
      "157  CCTGTT CTGTTG TGTTGG GTTGGC TTGGCT TGGCTG GGCT...      0\n",
      "489  TCAGTG CAGTGT AGTGTG GTGTGT TGTGTG GTGTGG TGTG...      1\n",
      "118  TTGTCC TGTCCT GTCCTA TCCTAA CCTAAG CTAAGT TAAG...      0\n",
      "114  CACCAG ACCAGT CCAGTC CAGTCA AGTCAC GTCACG TCAC...      0\n",
      "175  TTTCTT TTCTTT TCTTTC CTTTCT TTTCTG TTCTGT TCTG...      0\n",
      "373  AAGGTC AGGTCA GGTCAA GTCAAA TCAAAT CAAATC AAAT...      1\n",
      "181  CCAACA CAACAA AACAAA ACAAAT CAAATG AAATGG AATG...      0\n",
      "144  AGTTTT GTTTTT TTTTTC TTTTCT TTTCTT TTCTTG TCTT...      0\n",
      "369  TTTTTT TTTTTT TTTTTT TTTTTT TTTTTT TTTTTT TTTT...      1\n",
      "390  GTCCTT TCCTTT CCTTTT CTTTTA TTTTAG TTTAGT TTAG...      1\n",
      "195                                                NaN      0\n",
      "404  TTTAAA TTAAAG TAAAGG AAAGGA AAGGAA AGGAAT GGAA...      1\n",
      "275  AAACAG AACAGC ACAGCA CAGCAG AGCAGA GCAGAA CAGA...      1\n",
      "454  CACCAT ACCATC CCATCA CATCAC ATCACT TCACTC CACT...      1\n",
      "141  TGTCTA GTCTAG TCTAGC CTAGCA TAGCAG AGCAGA GCAG...      0\n",
      "365  GAAGGG AAGGGC AGGGCC GGGCCC GGCCCC GCCCCC CCCC...      1\n",
      "67   TCTTCC CTTCCC TTCCCG TCCCGC CCCGCC CCGCCC CGCC...      0\n",
      "210  CATTCA ATTCAC TTCACA TCACAG CACAGC ACAGCC CAGC...      0\n",
      "168  CCTTGA CTTGAG TTGAGC TGAGCT GAGCTG AGCTGG GCTG...      0\n",
      "493  TTTGAG TTGAGG TGAGGC GAGGCA AGGCAC GGCACA GCAC...      1\n",
      "375  GCCCCG CCCCGT CCCGTC CCGTCA CGTCAC GTCACG TCAC...      1\n",
      "400  CTCCTA TCCTAT CCTATT CTATTT TATTTA ATTTAT TTTA...      1\n",
      "272  ACCTGC CCTGCT CTGCTT TGCTTC GCTTCC CTTCCT TTCC...      1\n",
      "109  GCTGGC CTGGCT TGGCTC GGCTCC GCTCCC CTCCCT TCCC...      0\n",
      "..                                                 ...    ...\n",
      "276                                                NaN      1\n",
      "443  AAGCTT AGCTTT GCTTTC CTTTCG TTTCGC TTCGCG TCGC...      1\n",
      "191  GGCCAG GCCAGC CCAGCG CAGCGG AGCGGC GCGGCG CGGC...      0\n",
      "385  CAGTCC AGTCCA GTCCAG TCCAGG CCAGGC CAGGCA AGGC...      1\n",
      "293  GTATCT TATCTG ATCTGC TCTGCA CTGCAT TGCATG GCAT...      1\n",
      "413  AACACT ACACTG CACTGC ACTGCA CTGCAA TGCAAA GCAA...      1\n",
      "343  GGAGGT GAGGTA AGGTAT GGTATG GTATGG TATGGG ATGG...      1\n",
      "257                                                NaN      1\n",
      "308  TCAAGA CAAGAA AAGAAG AGAAGC GAAGCT AAGCTC AGCT...      1\n",
      "149  CCTCAG CTCAGC TCAGCT CAGCTC AGCTCT GCTCTC CTCT...      0\n",
      "130  CAGAGG AGAGGA GAGGAA AGGAAG GGAAGA GAAGAA AAGA...      0\n",
      "151  GCGGAG CGGAGG GGAGGA GAGGAG AGGAGC GGAGCC GAGC...      0\n",
      "359  TGCGTA GCGTAG CGTAGC GTAGCG TAGCGC AGCGCG GCGC...      1\n",
      "99   GGGGTC GGGTCC GGTCCG GTCCGG TCCGGG CCGGGA CGGG...      0\n",
      "372  CTTGAT TTGATG TGATGT GATGTC ATGTCA TGTCAT GTCA...      1\n",
      "87   CCTATC CTATCA TATCAG ATCAGG TCAGGC CAGGCT AGGC...      0\n",
      "458  GAGGGC AGGGCT GGGCTG GGCTGT GCTGTC CTGTCA TGTC...      1\n",
      "330  ACCCTG CCCTGG CCTGGG CTGGGC TGGGCA GGGCAG GGCA...      1\n",
      "214  CCTGGA CTGGAG TGGAGA GGAGAC GAGACC AGACCG GACC...      0\n",
      "466  TGGTCA GGTCAT GTCATT TCATTG CATTGG ATTGGT TTGG...      1\n",
      "121  AGCCCC GCCCCC CCCCCT CCCCTC CCCTCG CCTCGG CTCG...      0\n",
      "499  TGAAAT GAAATC AAATCT AATCTT ATCTTA TCTTAT CTTA...      1\n",
      "20   GGATTC GATTCC ATTCCC TTCCCG TCCCGG CCCGGA CCGG...      0\n",
      "188  CCCCGC CCCGCT CCGCTG CGCTGA GCTGAG CTGAGC TGAG...      0\n",
      "71   GAGACC AGACCA GACCAG ACCAGA CCAGAT CAGATG AGAT...      0\n",
      "106  ACTTGC CTTGCA TTGCAT TGCATT GCATTT CATTTC ATTT...      0\n",
      "270  AATATT ATATTT TATTTA ATTTAA TTTAAC TTAACT TAAC...      1\n",
      "348  GACGTT ACGTTG CGTTGA GTTGAA TTGAAA TGAAAC GAAA...      1\n",
      "435  TGATGA GATGAG ATGAGG TGAGGA GAGGAA AGGAAG GGAA...      1\n",
      "102  CCTTAA CTTAAA TTAAAA TAAAAA AAAAAC AAAACA AAAC...      0\n",
      "\n",
      "[335 rows x 2 columns]\n"
     ]
    },
    {
     "name": "stderr",
     "output_type": "stream",
     "text": [
      "/usr/lib/python3/dist-packages/pandas/core/frame.py:3781: SettingWithCopyWarning: \n",
      "A value is trying to be set on a copy of a slice from a DataFrame\n",
      "\n",
      "See the caveats in the documentation: http://pandas.pydata.org/pandas-docs/stable/indexing.html#indexing-view-versus-copy\n",
      "  return super(DataFrame, self).rename(**kwargs)\n",
      "/usr/lib/python3/dist-packages/ipykernel_launcher.py:12: SettingWithCopyWarning: \n",
      "A value is trying to be set on a copy of a slice from a DataFrame.\n",
      "Try using .loc[row_indexer,col_indexer] = value instead\n",
      "\n",
      "See the caveats in the documentation: http://pandas.pydata.org/pandas-docs/stable/indexing.html#indexing-view-versus-copy\n",
      "  if sys.path[0] == '':\n"
     ]
    }
   ],
   "source": [
    "print_dataset(\"dev.tsv\",X_test,y_test)\n",
    "print_dataset(\"train.tsv\",X_train,y_train)"
   ]
  },
  {
   "cell_type": "markdown",
   "metadata": {},
   "source": [
    "### commends to run"
   ]
  },
  {
   "cell_type": "code",
   "execution_count": 12,
   "metadata": {},
   "outputs": [
    {
     "name": "stdout",
     "output_type": "stream",
     "text": [
      "cd /sci/nosnap/michall/roeizucker/DNABERT/examples\n",
      "set KMER=6\n",
      "set PATH_TO_THE_PRETRAINED_MODEL=/sci/nosnap/michall/roeizucker/DNABERT/examples/my_projects/pre_trained/6-new-12w-0\n",
      "set DATA_PATH=/sci/nosnap/michall/roeizucker/DNABERT/examples/sample_data/ft/3_utr_to_5_utr\n",
      "set OUTPUT_PATH=/sci/nosnap/michall/roeizucker/DNABERT/examples/ft/3_utr_to_5_utr\n",
      "short\n",
      "python run_finetune.py --model_type dna --tokenizer_name=dna$KMER --model_name_or_path $MODEL_PATH --task_name dnaprom --do_train --do_eval --data_dir $DATA_PATH --max_seq_length 200 --per_gpu_eval_batch_size=32 --per_gpu_train_batch_size=32 --learning_rate 2e-4 --num_train_epochs 15.0 --output_dir $OUTPUT_PATH --evaluate_during_training --logging_steps 100 --save_steps 4000 --warmup_percent 0.1 --hidden_dropout_prob 0.1 --overwrite_output --weight_decay 0.01 --n_process 8\n",
      "long\n",
      "python run_finetune.py --model_type dna --tokenizer_name=dna$KMER --model_name_or_path $MODEL_PATH --task_name dnaprom --do_train --do_eval --data_dir $DATA_PATH --max_seq_length 512 --per_gpu_eval_batch_size=10 --per_gpu_train_batch_size=10 --learning_rate 2e-4 --num_train_epochs 15.0 --output_dir $OUTPUT_PATH --evaluate_during_training --logging_steps 100 --save_steps 4000 --warmup_percent 0.1 --hidden_dropout_prob 0.1 --overwrite_output --weight_decay 0.01 --n_process 8 --model_type dnalong\n"
     ]
    }
   ],
   "source": [
    "result_path = os.path.join(\"/sci/nosnap/michall/roeizucker/DNABERT/examples/ft\",PHEN_NAME)\n",
    "if not os.path.exists(result_path):\n",
    "    !mkdir {result_path}\n",
    "# TODO: print model path\n",
    "print(\"cd /sci/nosnap/michall/roeizucker/DNABERT/examples\")\n",
    "print(\"set KMER=6\")\n",
    "print(\"set PATH_TO_THE_PRETRAINED_MODEL=/sci/nosnap/michall/roeizucker/DNABERT/examples/my_projects/pre_trained/6-new-12w-0\")\n",
    "print(f\"set DATA_PATH={RESULT_PATH}\")\n",
    "print(f\"set OUTPUT_PATH={result_path}\")\n",
    "print(f\"set MODEL_PATH={result_path}\")\n",
    "print(\"short\")\n",
    "print(f\"python run_finetune.py --model_type dna --tokenizer_name=dna$KMER --model_name_or_path $MODEL_PATH --task_name dnaprom --do_train --do_eval --data_dir $DATA_PATH --max_seq_length 200 --per_gpu_eval_batch_size=32 --per_gpu_train_batch_size=32 --learning_rate 2e-4 --num_train_epochs 15.0 --output_dir $OUTPUT_PATH --evaluate_during_training --logging_steps 100 --save_steps 4000 --warmup_percent 0.1 --hidden_dropout_prob 0.1 --overwrite_output --weight_decay 0.01 --n_process 8\")\n",
    "print(\"long\")\n",
    "print(f\"python run_finetune.py --model_type dna --tokenizer_name=dna$KMER --model_name_or_path $MODEL_PATH --task_name dnaprom --do_train --do_eval --data_dir $DATA_PATH --max_seq_length 512 --per_gpu_eval_batch_size=10 --per_gpu_train_batch_size=10 --learning_rate 2e-4 --num_train_epochs 15.0 --output_dir $OUTPUT_PATH --evaluate_during_training --logging_steps 100 --save_steps 4000 --warmup_percent 0.1 --hidden_dropout_prob 0.1 --overwrite_output --weight_decay 0.01 --n_process 8 --model_type dnalong\")"
   ]
  }
 ],
 "metadata": {
  "kernelspec": {
   "display_name": "Python 3 (ipykernel)",
   "language": "python",
   "name": "python3"
  },
  "language_info": {
   "codemirror_mode": {
    "name": "ipython",
    "version": 3
   },
   "file_extension": ".py",
   "mimetype": "text/x-python",
   "name": "python",
   "nbconvert_exporter": "python",
   "pygments_lexer": "ipython3",
   "version": "3.7.3"
  }
 },
 "nbformat": 4,
 "nbformat_minor": 2
}
