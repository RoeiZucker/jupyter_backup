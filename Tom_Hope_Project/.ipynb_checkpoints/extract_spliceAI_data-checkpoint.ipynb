{
 "cells": [
  {
   "cell_type": "code",
   "execution_count": 201,
   "id": "3d41ac05-b7ac-4014-bdde-427f681b8e6c",
   "metadata": {},
   "outputs": [],
   "source": [
    "import pandas as pd\n",
    "import numpy as np\n",
    "import h5py\n",
    "from IPython.display import clear_output"
   ]
  },
  {
   "cell_type": "code",
   "execution_count": 205,
   "id": "0b116859-a881-4de6-bc33-0686ffdb3629",
   "metadata": {},
   "outputs": [],
   "source": [
    "TRAIN_FILE_PATH = \"/sci/nosnap/michall/roeizucker/jupyter_notebooks/Tom_Hope_Project/spliceAI_data/datafile_train_all.h5\"\n",
    "TEST_FILE_PATH = \"/sci/nosnap/michall/roeizucker/jupyter_notebooks/Tom_Hope_Project/spliceAI_data/datafile_test_all.h5\"\n",
    "TRAIN_DF_PATH = \"/sci/nosnap/michall/roeizucker/token_classification/spliceai_train.csv\"\n",
    "TEST_DF_PATH = \"/sci/nosnap/michall/roeizucker/token_classification/spliceai_test.csv\"\n",
    "START_LABEL = \"start\"\n",
    "END_LABEL = \"end\"\n",
    "NONE_LABEL = \"none\"\n",
    "COLUMNS = [\"sequnces\",\"labels\",\"name\",\"pos_start\",\"pos_end\",\"chrom\",\"description\"]"
   ]
  },
  {
   "cell_type": "code",
   "execution_count": 198,
   "id": "056b9931-d3ef-4d7e-b78e-bde7f25eeb16",
   "metadata": {},
   "outputs": [],
   "source": [
    "general_data_dict = {\"df_train_path\" : TRAIN_DF_PATH, \"df_test_path\":TEST_DF_PATH, \"data_type\": \"splice_AI\",\"encoding\":\"hg19\"}"
   ]
  },
  {
   "cell_type": "code",
   "execution_count": 212,
   "id": "c3fcc07b-b596-489f-945c-a657a62012a1",
   "metadata": {},
   "outputs": [
    {
     "name": "stdout",
     "output_type": "stream",
     "text": [
      "datafile_test_all.h5\n",
      "98%\n"
     ]
    }
   ],
   "source": [
    "def create_df(filename):\n",
    "    with h5py.File(filename, \"r\") as f:\n",
    "        all_vals = []\n",
    "        # print(\"length\",len(f[\"NAME\"]))\n",
    "        file_length = len(f[\"NAME\"])\n",
    "        # file_length = 5000\n",
    "        # for index in range(len(f[\"NAME\"])):\n",
    "        for index in range(file_length):\n",
    "            if index % 100 == 0:\n",
    "                clear_output(wait=True)\n",
    "                print(filename.split(\"/\")[-1])\n",
    "                print(str(int(100*(index / file_length))) + \"%\")\n",
    "                \n",
    "            seq = f[\"SEQ\"][index].decode().upper()\n",
    "            name = f[\"NAME\"][index].decode()\n",
    "            chrom = f[\"CHROM\"][index].decode()\n",
    "            strand = f[\"STRAND\"][index].decode()\n",
    "            paralog = f[\"PARALOG\"][index]\n",
    "            \n",
    "            jn_start_raw = f[\"JN_START\"][index]\n",
    "            jn_end_raw = f[\"JN_END\"][index]\n",
    "            tx_start = int(f[\"TX_START\"][index].decode())\n",
    "            tx_end = int(f[\"TX_END\"][index].decode())\n",
    "            length = tx_end-tx_start\n",
    "            jn_end = np.array(jn_end_raw[0].decode().split(\",\")[:-1],dtype=int) - tx_start\n",
    "            jn_start = np.array(jn_start_raw[0].decode().split(\",\")[:-1],dtype=int) - tx_start\n",
    "            \n",
    "            jn_start = list(zip(jn_start,[START_LABEL]*len(jn_start)))\n",
    "            jn_end = list(zip(jn_end,[END_LABEL]*len(jn_start)))\n",
    "            all_pos = sorted(jn_start + jn_end)\n",
    "    \n",
    "            sequences = []\n",
    "            labels = []\n",
    "            \n",
    "            last_pos = 0\n",
    "            for pos,pos_type in all_pos:\n",
    "                sequences.append(seq[last_pos:pos])\n",
    "                labels.append(NONE_LABEL)\n",
    "                sequences.append(seq[pos:pos+1])\n",
    "                labels.append(pos_type)\n",
    "                last_pos = pos+1\n",
    "            sequences.append(seq[last_pos:length])\n",
    "            labels.append(NONE_LABEL)\n",
    "            # all_vals.append([sequences,labels,name,strand,chrom,\"paralog: \" + str(paralog)])\n",
    "            all_vals.append([sequences,labels,name,tx_start,tx_end,chrom,{\"paralog\":str(paralog), \"strand\":strand}])\n",
    "            # print(length)\n",
    "    df = pd.DataFrame(all_vals,columns=COLUMNS)\n",
    "    return df\n",
    "            # print()\n",
    "    # return all_vals\n",
    "        \n",
    "train_df = create_df(TRAIN_FILE_PATH)\n",
    "test_df = create_df(TEST_FILE_PATH)"
   ]
  },
  {
   "cell_type": "code",
   "execution_count": 215,
   "id": "8b94ea28-15df-4867-9d67-4c11f6b0ed90",
   "metadata": {},
   "outputs": [],
   "source": [
    "train_df.to_csv(TRAIN_DF_PATH)\n",
    "test_df.to_csv(TEST_DF_PATH)"
   ]
  },
  {
   "cell_type": "code",
   "execution_count": null,
   "id": "b869c967-0e1a-4123-94d5-bea41b2adaa9",
   "metadata": {},
   "outputs": [],
   "source": []
  },
  {
   "cell_type": "code",
   "execution_count": null,
   "id": "38870e6c-40e0-42e7-a7ec-932fd9486ace",
   "metadata": {},
   "outputs": [],
   "source": []
  }
 ],
 "metadata": {
  "kernelspec": {
   "display_name": "Python 3 (ipykernel)",
   "language": "python",
   "name": "python3"
  },
  "language_info": {
   "codemirror_mode": {
    "name": "ipython",
    "version": 3
   },
   "file_extension": ".py",
   "mimetype": "text/x-python",
   "name": "python",
   "nbconvert_exporter": "python",
   "pygments_lexer": "ipython3",
   "version": "3.11.2"
  }
 },
 "nbformat": 4,
 "nbformat_minor": 5
}
