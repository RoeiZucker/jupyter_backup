{
 "cells": [
  {
   "cell_type": "code",
   "execution_count": 1,
   "id": "760562b6-0265-449d-b994-61751053452e",
   "metadata": {},
   "outputs": [],
   "source": [
    "from transformers import AutoTokenizer, AutoModel\n",
    "import torch\n",
    "\n",
    "import pandas as pd\n",
    "import numpy as np"
   ]
  },
  {
   "cell_type": "code",
   "execution_count": 2,
   "id": "d99c72ab-ae3a-43be-b154-8f51116587e2",
   "metadata": {},
   "outputs": [],
   "source": [
    "# source: https://github.com/huggingface/notebooks/blob/main/examples/protein_language_modeling.ipynb"
   ]
  },
  {
   "cell_type": "code",
   "execution_count": 2,
   "id": "0ee54550-57f4-4b1b-a7a2-dd78482c6cb5",
   "metadata": {},
   "outputs": [],
   "source": [
    "TARGETSCAN_DATASET_PATH = \"/sci/nosnap/michall/roeizucker/token_classification/targetscan_RNA_combined_nrows_90000_hg38.csv\"\n",
    "\n",
    "model_name = \"InstaDeepAI/nucleotide-transformer-500m-1000g\"\n"
   ]
  },
  {
   "cell_type": "code",
   "execution_count": null,
   "id": "b308db59-99d1-4bda-a665-9cc925ebb26d",
   "metadata": {},
   "outputs": [],
   "source": []
  },
  {
   "cell_type": "code",
   "execution_count": 4,
   "id": "4ead6446-f0fc-4f04-af32-3c4cb9710297",
   "metadata": {},
   "outputs": [],
   "source": [
    "# model.config.features"
   ]
  },
  {
   "cell_type": "code",
   "execution_count": null,
   "id": "f1718326-d006-40cf-a53b-66a8bbb09978",
   "metadata": {},
   "outputs": [],
   "source": []
  },
  {
   "cell_type": "code",
   "execution_count": null,
   "id": "4513ae43-8855-49f7-a0de-c32643ea9d36",
   "metadata": {},
   "outputs": [],
   "source": []
  },
  {
   "cell_type": "code",
   "execution_count": 5,
   "id": "9b1cba41-da7b-48ab-bbba-49c4953c0629",
   "metadata": {},
   "outputs": [],
   "source": [
    "# predicted_tokens_classes"
   ]
  },
  {
   "cell_type": "code",
   "execution_count": 6,
   "id": "51f5bd15-9254-4730-bb7e-60a8f6cda088",
   "metadata": {},
   "outputs": [],
   "source": [
    "df = pd.read_csv(TARGETSCAN_DATASET_PATH)\n",
    "\n",
    "df[\"result\"] = df[\"result\"].str.replace(\"'\",\"\")\n",
    "df[\"result\"] = df[\"result\"].apply(lambda x:x.strip('][').split(', '))\n",
    "df[\"stags\"] = df[\"stags\"].apply(lambda x:x.strip('][').split(', '))\n",
    "df['stags'] = df['stags'].apply(lambda x: list(map(int, x)))\n"
   ]
  },
  {
   "cell_type": "code",
   "execution_count": null,
   "id": "d1563c07-4dad-49bc-b818-84b242494c2b",
   "metadata": {},
   "outputs": [],
   "source": []
  },
  {
   "cell_type": "code",
   "execution_count": 7,
   "id": "598fcf59-5d5e-45e4-8b8e-a0ac86f7eee3",
   "metadata": {},
   "outputs": [],
   "source": [
    "# # working\n",
    "# sequences = []\n",
    "# labels = []\n",
    "\n",
    "# for row_idx, row in df.iterrows():\n",
    "\n",
    "#     curr_label = []\n",
    "#     for i, seq in enumerate(row[\"result\"]):\n",
    "#         curr_label.extend([row[\"stags\"][i]]*len(seq))\n",
    "#     if len(curr_label) > 1000:\n",
    "#         continue\n",
    "#     if len(curr_label) %6 != 0:\n",
    "#         label = np.zeros(len(curr_label)//6,dtype=np.int64)\n",
    "#     else:\n",
    "#         continue\n",
    "        \n",
    "#     for i in range(0,len(curr_label),6):\n",
    "#         if i+6 <len(curr_label) and sum(curr_label[i:i+6]) > 1:\n",
    "#             label[i//6:i//6+1] = 1\n",
    "#         else: # unneeded\n",
    "#             label[i//6:i//6+1] = 0\n",
    "#     sequences.append( \"\".join(row[\"result\"]))\n",
    "#     labels.append(label)\n"
   ]
  },
  {
   "cell_type": "code",
   "execution_count": 8,
   "id": "133d2804-a00f-45c8-a752-da334ec37d2b",
   "metadata": {},
   "outputs": [],
   "source": [
    "# working\n",
    "sequences = []\n",
    "labels = []\n",
    "\n",
    "for row_idx, row in df.iterrows():\n",
    "\n",
    "    curr_label = []\n",
    "    for i, seq in enumerate(row[\"result\"]):\n",
    "        curr_label.extend([row[\"stags\"][i]]*len(seq))\n",
    "    if len(curr_label) > 1000:\n",
    "        curr_label = curr_label[:999] # TODO: change so even after the label it's added, split region to multiple spaces\n",
    "    if len(curr_label) %6 != 0:\n",
    "        label = np.zeros(len(curr_label)//6,dtype=np.int64)\n",
    "    else:\n",
    "        continue\n",
    "        \n",
    "    for i in range(0,len(curr_label),6):\n",
    "        if i+6 <len(curr_label) and sum(curr_label[i:i+6]) > 1:\n",
    "            label[i//6:i//6+1] = 1\n",
    "        else: # unneeded\n",
    "            label[i//6:i//6+1] = 0\n",
    "    sequences.append( \"\".join(row[\"result\"])[:len(curr_label)])\n",
    "    labels.append(label)\n"
   ]
  },
  {
   "cell_type": "code",
   "execution_count": null,
   "id": "a300a936-5376-46f7-a691-007f72cd7dac",
   "metadata": {},
   "outputs": [],
   "source": []
  },
  {
   "cell_type": "code",
   "execution_count": null,
   "id": "16b22a6d-7e13-4161-a63f-85066b51c210",
   "metadata": {},
   "outputs": [],
   "source": []
  },
  {
   "cell_type": "code",
   "execution_count": null,
   "id": "ee1dc356-3fd4-4ba5-8fdc-ad99c9f0a638",
   "metadata": {},
   "outputs": [],
   "source": []
  },
  {
   "cell_type": "code",
   "execution_count": 9,
   "id": "a9dc77a0-73cd-47a4-9d5c-15cb04670978",
   "metadata": {},
   "outputs": [],
   "source": [
    "from sklearn.model_selection import train_test_split\n",
    "train_sequences, test_sequences, train_labels, test_labels = train_test_split(sequences, labels, test_size=0.25, shuffle=False)"
   ]
  },
  {
   "cell_type": "code",
   "execution_count": 10,
   "id": "74520e6b-9f98-47de-9b82-fa1a44b637c1",
   "metadata": {},
   "outputs": [],
   "source": [
    "from transformers import AutoTokenizer\n",
    "\n",
    "tokenizer = AutoTokenizer.from_pretrained(model_name)\n",
    "train_tokenized = tokenizer(train_sequences)\n",
    "test_tokenized = tokenizer(test_sequences)"
   ]
  },
  {
   "cell_type": "code",
   "execution_count": null,
   "id": "472c797a-3da9-4b67-a593-2f4a896c964d",
   "metadata": {},
   "outputs": [],
   "source": []
  },
  {
   "cell_type": "code",
   "execution_count": null,
   "id": "b867b9e9-ca0b-4ebf-8e74-32bd3b07adf1",
   "metadata": {},
   "outputs": [],
   "source": []
  },
  {
   "cell_type": "code",
   "execution_count": null,
   "id": "d098d82f-75e9-4862-b6cb-aa6a5102c959",
   "metadata": {},
   "outputs": [],
   "source": []
  },
  {
   "cell_type": "code",
   "execution_count": null,
   "id": "a893387b-2cbd-47b5-8f5a-3e2ca10d5852",
   "metadata": {},
   "outputs": [],
   "source": []
  },
  {
   "cell_type": "code",
   "execution_count": 11,
   "id": "be730f0d-1a6b-4a8d-87c1-a4fd32286c59",
   "metadata": {},
   "outputs": [],
   "source": [
    "from datasets import Dataset\n",
    "\n",
    "train_dataset = Dataset.from_dict(train_tokenized)\n",
    "test_dataset = Dataset.from_dict(test_tokenized)\n",
    "\n",
    "train_dataset = train_dataset.add_column(\"labels\", train_labels)\n",
    "test_dataset = test_dataset.add_column(\"labels\", test_labels)"
   ]
  },
  {
   "cell_type": "code",
   "execution_count": null,
   "id": "31495f6e-d135-436e-a868-9befd7de5759",
   "metadata": {},
   "outputs": [],
   "source": []
  },
  {
   "cell_type": "code",
   "execution_count": 12,
   "id": "ca09737e-0a75-4577-801d-3ec8babf6126",
   "metadata": {
    "scrolled": true
   },
   "outputs": [
    {
     "name": "stdout",
     "output_type": "stream",
     "text": [
      "TAATTCAAAGTCAGAAAGATTTACGCCATGTTTTCTTTGAAGATACTTACAATATTAGCTCTTACATTTAGATCTTAGGTCAACTTTGAGTTAATTTTTATATGCAATATGAGGTA\n",
      "[0 0 0 0 0 0 0 0 0 0 0 0 0 0 0 0 0 0 1]\n",
      "116\n",
      "19\n"
     ]
    }
   ],
   "source": [
    "i = 9\n",
    "print(sequences[i])\n",
    "print(labels[i])\n",
    "print(len(sequences[i]))\n",
    "print(len(labels[i]))"
   ]
  },
  {
   "cell_type": "code",
   "execution_count": 13,
   "id": "362138ff-78a3-47f4-8fbc-5cc7e5c975d9",
   "metadata": {},
   "outputs": [],
   "source": [
    "# to_remove = []\n",
    "# for i,val in enumerate(train_dataset):\n",
    "#     if ((len(val[\"input_ids\"]) -len(val[\"labels\"]))!= 2):\n",
    "#         to_remove.append(i)\n",
    "# # what we don't want\n",
    "# exclude_idx = to_remove\n",
    "\n",
    "# # create new dataset exluding those idx\n",
    "# train_dataset = train_dataset.select(\n",
    "#     (\n",
    "#         i for i in range(len(train_dataset)) \n",
    "#         if i not in set(exclude_idx)\n",
    "#     )\n",
    "# )\n",
    "# a = 1/0"
   ]
  },
  {
   "cell_type": "code",
   "execution_count": 14,
   "id": "fba82117-b333-4cba-9570-5fbe2ed3d31f",
   "metadata": {},
   "outputs": [],
   "source": [
    "# print(to_remove[:10])"
   ]
  },
  {
   "cell_type": "code",
   "execution_count": 15,
   "id": "acd48cf4-e184-4745-887d-3bbe40e87b19",
   "metadata": {},
   "outputs": [],
   "source": [
    "# print(train_dataset[0])\n",
    "# print(sequences[0])\n",
    "# print(labels[0])\n",
    "# # print(train_dataset[1])\n"
   ]
  },
  {
   "cell_type": "code",
   "execution_count": 16,
   "id": "914198ed-8465-423b-a635-68998e530043",
   "metadata": {},
   "outputs": [
    {
     "name": "stdout",
     "output_type": "stream",
     "text": [
      "7999\n",
      "7999\n"
     ]
    }
   ],
   "source": [
    "to_remove = []\n",
    "print(len(train_dataset))\n",
    "\n",
    "for i,val in enumerate(train_dataset):\n",
    "    if ((len(val[\"input_ids\"]) -len(val[\"labels\"]))!= 2):\n",
    "        # if ((len(val[\"input_ids\"]) -len(val[\"labels\"]))!= 2) or val[\"labels\"][-2] == 1 or val[\"labels\"][-1] == 1:\n",
    "        to_remove.append(i)\n",
    "        # print(len(train_sequences[i]) % 6)\n",
    "# what we don't want\n",
    "exclude_idx = to_remove\n",
    "\n",
    "# create new dataset exluding those idx\n",
    "# train_dataset = train_dataset.select(\n",
    "#     (\n",
    "#         i for i in range(len(train_dataset)) \n",
    "#         if i not in set(exclude_idx)\n",
    "#     )\n",
    "# )\n",
    "print(len(train_dataset))\n",
    "# a = 1 / 0"
   ]
  },
  {
   "cell_type": "code",
   "execution_count": 17,
   "id": "2272977f-16a9-4441-94e4-3513d82fda48",
   "metadata": {},
   "outputs": [
    {
     "data": {
      "text/plain": [
       "[1, 3, 4, 5, 6, 7, 8, 9, 10, 11, 12, 13, 16, 17, 18, 19, 20, 21, 22, 23]"
      ]
     },
     "execution_count": 17,
     "metadata": {},
     "output_type": "execute_result"
    }
   ],
   "source": [
    "to_remove[:20]"
   ]
  },
  {
   "cell_type": "code",
   "execution_count": 18,
   "id": "d25e06e5-70be-4099-8f4e-b2c306e593ec",
   "metadata": {},
   "outputs": [
    {
     "name": "stdout",
     "output_type": "stream",
     "text": [
      "CTCCTGTGTGGTGGGGCTTGCCAGCGAGGGAGCAGGGAACAGACTGGGTTTGGAAAACAGTGGTCATCATGGACCCATTTCTGATTTATAACAAACTCATTCCCAATAAAGATGAAGGCTGCAGTCCACCAGGGTTATAATTATAAATAAATATACATGCAGCTAAAAGAGGATATTAGGTGAAAACAACTGACCTAGCATCTGCCCAAAGAAGTCCCCATTTTGTTGTTCATTATCAAAGTCCTGAAAATGAACCCTAGGTTTTTGGCTAAGAAGGTGGCCTCAGACCAGCCAAGCTGACCTTGGCACTTGGCTGGCTTCTGTGAGGCAGTAGAGTGCCCACACATAAGCTCACCACCTGTGCCCACCTCCTCCCTTCTCTCCCATGCCACCCCACTTGCTTCCAAGGGCTTGGTTTCCAAAGTGACATCCAGGGTGTAAGAGGTTGGGGAAAACGTCCTGCAAGGTGGCTCAGGGATCTGATTCCATCAGATGGTCTCATGAATACTGTGGGAGATTAAATCCATCTCAAAATAGGCAACCAATGCTATATTCTGAATGTTAGGTCTCTGGACTGAGTCCCACCCACCCACCCACTCAGGAGTGGGTTCTGAATGGCCCTCAGACCTCTCCTGGTGAGTCTTAATGGGGTGGGAGGCTGTTAGTTAAAAAATAAACACCTCTTCAGTAGGCTGGGGCCCTTTCCTTTTCCTCCACTTGGGGGGAAAATTGTGCTTCCAACTTGCAGGAGAATGAGCCGGATCACCACTAGAGAGCCCGGCTGGGCCAGGGGGTCAGAGCCCTTTCCAGTGGGCCCCAGAGGCCTGGGGAGGGCAGGAGTTTGAGGCACACTGTTCTTTCTCCAGGATGGAAAGTGGACAGCTGGACATGAGGTGGGCTAGCTCTGCATGCTCCTGACTTAGGGAGAAATAACATTTTCTTTCCCTTTTTTGTGTTTAGAATAATTTCCAAAGCAGTGTGCTCAGGCCTCCCTCCTGC\n",
      "[0 0 0 0 0 0 0 0 0 0 0 0 0 0 0 0 0 0 0 1 1 0 0 0 0 0 0 0 0 0 0 0 0 0 0 0 0\n",
      " 0 0 0 0 0 0 0 0 0 0 0 0 0 0 0 0 0 0 0 0 0 0 0 0 0 0 0 0 0 0 0 0 0 0 0 0 0\n",
      " 0 0 0 0 0 0 0 0 0 0 0 0 0 0 0 0 0 0 0 0 0 0 0 0 0 0 0 0 0 0 0 0 0 0 0 0 0\n",
      " 0 0 0 0 0 0 0 0 0 0 1 1 0 0 0 0 0 0 0 0 0 0 0 0 0 0 0 0 0 0 0 0 0 0 0 0 0\n",
      " 0 0 0 0 0 0 0 0 0 0 0 0 0 0 0 0 0 0]\n",
      "999\n",
      "166\n",
      "166.5\n",
      "166\n",
      "{'input_ids': [3, 2475, 1921, 4093, 1959, 2883, 915, 3111, 643, 1408, 39, 2012, 1571, 677, 1440, 1352, 518, 1562, 2568, 203, 253, 3642, 2215, 3925, 85, 20, 278, 487, 2308, 3317, 339, 1796, 2091, 663, 2155, 2692, 3130, 2697, 1499, 1417, 388, 3499, 11, 173, 985, 1533, 199, 3582, 1590, 2284, 928, 2659, 2203, 3714, 1441, 3324, 3383, 1964, 2184, 924, 2605, 3566, 670, 1705, 2462, 2174, 684, 2429, 1671, 3995, 3422, 59, 542, 1019, 1079, 3459, 3078, 3499, 2113, 3996, 4042, 1818, 2151, 506, 1568, 299, 2039, 324, 1674, 1540, 1276, 645, 3656, 1440, 472, 3946, 1997, 3294, 2220, 2702, 2204, 3899, 3933, 3107, 2716, 3242, 1699, 1850, 1291, 4067, 3325, 3409, 1028, 262, 669, 1592, 4003, 4013, 1449, 1450, 2203, 4096, 27, 1946, 2089, 3648, 3104, 3776, 1580, 2359, 943, 3715, 2627, 3943, 941, 1447, 2046, 2615, 3747, 3907, 2295, 1399, 3622, 1885, 1438, 971, 3089, 3879, 2550, 467, 2045, 925, 3618, 1696, 2387, 3268, 1061, 1385, 1705, 1377, 3415, 69, 1444, 913, 3562, 1005, 2718, 4101, 4103, 4102], 'attention_mask': [1, 1, 1, 1, 1, 1, 1, 1, 1, 1, 1, 1, 1, 1, 1, 1, 1, 1, 1, 1, 1, 1, 1, 1, 1, 1, 1, 1, 1, 1, 1, 1, 1, 1, 1, 1, 1, 1, 1, 1, 1, 1, 1, 1, 1, 1, 1, 1, 1, 1, 1, 1, 1, 1, 1, 1, 1, 1, 1, 1, 1, 1, 1, 1, 1, 1, 1, 1, 1, 1, 1, 1, 1, 1, 1, 1, 1, 1, 1, 1, 1, 1, 1, 1, 1, 1, 1, 1, 1, 1, 1, 1, 1, 1, 1, 1, 1, 1, 1, 1, 1, 1, 1, 1, 1, 1, 1, 1, 1, 1, 1, 1, 1, 1, 1, 1, 1, 1, 1, 1, 1, 1, 1, 1, 1, 1, 1, 1, 1, 1, 1, 1, 1, 1, 1, 1, 1, 1, 1, 1, 1, 1, 1, 1, 1, 1, 1, 1, 1, 1, 1, 1, 1, 1, 1, 1, 1, 1, 1, 1, 1, 1, 1, 1, 1, 1, 1, 1, 1, 1], 'labels': [0, 0, 0, 0, 0, 0, 0, 0, 0, 0, 0, 0, 0, 0, 0, 0, 0, 0, 0, 1, 1, 0, 0, 0, 0, 0, 0, 0, 0, 0, 0, 0, 0, 0, 0, 0, 0, 0, 0, 0, 0, 0, 0, 0, 0, 0, 0, 0, 0, 0, 0, 0, 0, 0, 0, 0, 0, 0, 0, 0, 0, 0, 0, 0, 0, 0, 0, 0, 0, 0, 0, 0, 0, 0, 0, 0, 0, 0, 0, 0, 0, 0, 0, 0, 0, 0, 0, 0, 0, 0, 0, 0, 0, 0, 0, 0, 0, 0, 0, 0, 0, 0, 0, 0, 0, 0, 0, 0, 0, 0, 0, 0, 0, 0, 0, 0, 0, 0, 0, 0, 0, 1, 1, 0, 0, 0, 0, 0, 0, 0, 0, 0, 0, 0, 0, 0, 0, 0, 0, 0, 0, 0, 0, 0, 0, 0, 0, 0, 0, 0, 0, 0, 0, 0, 0, 0, 0, 0, 0, 0, 0, 0, 0, 0, 0, 0]}\n",
      "170\n",
      "##############################\n",
      "TTTTAAGTAATGGATAAGCTGCGCTTTACTATGCAGAATTTGATAGCTTATTTTGGTGTTTGTCTCAGGGGACACCCTCTGCACCAGCAGCTGCAACCCTGTCTACAGTAACATCTGGGGATCTAGATTTATTCACTGAGCAAACTACAAAATCAGAAGAAGTGGCAAAGAAACAACTTTCCAAAGACTCCATCTTATCTCTGTATGGCACAGGAACCATTCAACAGCAAAGTACTCCTGGTAATGAATTTTGATATCTGCTTTCAGTGACATTACTAGAAGTACATCCTTTGTAATTATATAATAAGATCAATTATATATCTTTTATTGTTCCATGTAGTGAGTGCTTTTGTTGTTGCAGTTTATACAACTATGAAGCCGAAATGAATGAGCATTAGAATTAAAAAATTAAGAGGCATGTACAGGATTCACAGAACTTTATTTGGAATTAACAAGCTGTTCATAGATCACTAAATGTTGTTTCACAAGCTTATAGAACATGGATTATCTTTGATGAATTATTGAAACGATTTGCATGAAGTTTATGACTGCGTACAGTGTATTTTCTCTGCAGGTAAACAGTCTTGAGTTACCACATGGATTAAAAAAAATCTATGAATTTTTTTGTAATCATAACAAAATATTAGCATAAGCCTTATTGTTTACAGAGTTTTAATCTTTCACACCATTTCCTTTAAAATAATGAGCTGCATTTCACATGTGAGCTAAAATTGTTGGGCAGCCCACTACACCTATTGAAGCGAGATATAGTCAGCTCTCACTTCCCTGTTTCGTACTGGGGGACCAGTGGTACAAATCAGCAATAAAACAGTGTATGATGTCATGCTACATAGTTTGGTCTTCACAGTGGAAGATATTTTGTGTGGCTGTTGCATATGATTTACATTTCTTAATTAAATTTACTCAGGTTAATAACTGATTTGTCTGCATCCTAGAAACAACCAGCTCTCAGGGTTTAGGTGTGGGTTGGTCTGAGTA\n",
      "[0 0 0 0 0 0 0 0 0 0 0 0 0 0 0 0 1 1 0 0 0 0 0 0 0 0 0 0 0 0 0 0 0 1 1 0 0\n",
      " 0 0 0 0 0 0 0 0 0 0 0 0 0 0 0 0 0 0 0 0 0 0 0 0 0 0 0 0 0 0 0 0 0 0 0 0 0\n",
      " 0 0 0 0 0 0 0 0 0 0 0 0 0 0 0 0 0 0 0 0 0 0 0 0 0 0 0 0 0 0 0 0 0 0 0 0 0\n",
      " 0 0 0 0 0 0 0 0 0 0 0 0 0 0 0 0 0 0 0 0 0 0 0 0 0 0 0 0 0 0 0 0 0 0 0 0 0\n",
      " 0 0 0 0 0 0 0 0 0 0 0 0 0 0 0 0 0 0]\n",
      "999\n",
      "166\n",
      "166.5\n",
      "166\n",
      "{'input_ids': [3, 1364, 3339, 3143, 2546, 1357, 487, 91, 317, 1113, 3961, 1898, 1024, 2221, 2534, 2279, 2532, 2721, 2343, 1061, 2563, 407, 341, 1579, 900, 2340, 103, 199, 2020, 774, 153, 2567, 620, 1621, 2465, 508, 2292, 2586, 146, 56, 2475, 3339, 89, 3146, 1945, 2272, 2134, 1223, 1162, 2401, 85, 264, 796, 328, 1129, 1307, 1445, 3387, 893, 1401, 3452, 3413, 525, 455, 2756, 1803, 905, 777, 4, 1296, 3979, 1171, 358, 781, 1305, 3849, 135, 2522, 309, 2196, 475, 1382, 233, 308, 2176, 1309, 1483, 85, 1798, 3163, 2164, 3413, 3234, 3367, 1865, 1437, 3649, 39, 1632, 3406, 547, 324, 5, 2336, 345, 1492, 1556, 2053, 338, 274, 2377, 3414, 825, 1290, 1382, 649, 1689, 8, 466, 1929, 1573, 3538, 1029, 1891, 3646, 2198, 661, 1810, 3272, 1244, 3690, 606, 2521, 2893, 4096, 2619, 3364, 402, 68, 571, 1141, 3467, 2341, 859, 3482, 571, 3125, 347, 1922, 1890, 288, 1356, 1385, 84, 342, 1601, 1044, 2505, 1899, 2157, 774, 167, 2460, 4057, 993, 4059, 3488, 4103, 4101, 4100], 'attention_mask': [1, 1, 1, 1, 1, 1, 1, 1, 1, 1, 1, 1, 1, 1, 1, 1, 1, 1, 1, 1, 1, 1, 1, 1, 1, 1, 1, 1, 1, 1, 1, 1, 1, 1, 1, 1, 1, 1, 1, 1, 1, 1, 1, 1, 1, 1, 1, 1, 1, 1, 1, 1, 1, 1, 1, 1, 1, 1, 1, 1, 1, 1, 1, 1, 1, 1, 1, 1, 1, 1, 1, 1, 1, 1, 1, 1, 1, 1, 1, 1, 1, 1, 1, 1, 1, 1, 1, 1, 1, 1, 1, 1, 1, 1, 1, 1, 1, 1, 1, 1, 1, 1, 1, 1, 1, 1, 1, 1, 1, 1, 1, 1, 1, 1, 1, 1, 1, 1, 1, 1, 1, 1, 1, 1, 1, 1, 1, 1, 1, 1, 1, 1, 1, 1, 1, 1, 1, 1, 1, 1, 1, 1, 1, 1, 1, 1, 1, 1, 1, 1, 1, 1, 1, 1, 1, 1, 1, 1, 1, 1, 1, 1, 1, 1, 1, 1, 1, 1, 1, 1], 'labels': [0, 0, 0, 0, 0, 0, 0, 0, 0, 0, 0, 0, 0, 0, 0, 0, 1, 1, 0, 0, 0, 0, 0, 0, 0, 0, 0, 0, 0, 0, 0, 0, 0, 1, 1, 0, 0, 0, 0, 0, 0, 0, 0, 0, 0, 0, 0, 0, 0, 0, 0, 0, 0, 0, 0, 0, 0, 0, 0, 0, 0, 0, 0, 0, 0, 0, 0, 0, 0, 0, 0, 0, 0, 0, 0, 0, 0, 0, 0, 0, 0, 0, 0, 0, 0, 0, 0, 0, 0, 0, 0, 0, 0, 0, 0, 0, 0, 0, 0, 0, 0, 0, 0, 0, 0, 0, 0, 0, 0, 0, 0, 0, 0, 0, 0, 0, 0, 0, 0, 0, 0, 0, 0, 0, 0, 0, 0, 0, 0, 0, 0, 0, 0, 0, 0, 0, 0, 0, 0, 0, 0, 0, 0, 0, 0, 0, 0, 0, 0, 0, 0, 0, 0, 0, 0, 0, 0, 0, 0, 0, 0, 0, 0, 0, 0, 0]}\n",
      "170\n",
      "##############################\n",
      "GGCTCGACCTGTGCAGCAACAGGAGCCCACATCTGTAAGGATCAGAAAGCAAGAACCCAATGTAAGAAGCAAAGGAAAACAAGAGGCCCCTCCAGGTTGAGATTCTTTATTCTGGAGGTAGGAAGGGGGTCAGCATG\n",
      "[0 0 0 0 0 0 0 0 0 0 0 0 0 0 0 0 0 0 1 1 0 0]\n",
      "137\n",
      "22\n",
      "22.833333333333332\n",
      "22\n",
      "{'input_ids': [3, 3999, 673, 3644, 576, 3750, 417, 245, 2244, 3600, 676, 1863, 228, 964, 528, 4014, 1683, 1488, 1433, 363, 3320, 3859, 4060, 4103, 4102, 4100, 4101, 4103], 'attention_mask': [1, 1, 1, 1, 1, 1, 1, 1, 1, 1, 1, 1, 1, 1, 1, 1, 1, 1, 1, 1, 1, 1, 1, 1, 1, 1, 1, 1], 'labels': [0, 0, 0, 0, 0, 0, 0, 0, 0, 0, 0, 0, 0, 0, 0, 0, 0, 0, 1, 1, 0, 0]}\n",
      "28\n",
      "##############################\n"
     ]
    }
   ],
   "source": [
    "\n",
    "def do_print(i):\n",
    "    print(sequences[i])\n",
    "    print(labels[i])\n",
    "    print(len(sequences[i]))\n",
    "    print(len(labels[i]))\n",
    "    print(len(sequences[i])/6)\n",
    "    print(len(labels[i]))\n",
    "    print(train_dataset[i])\n",
    "    print(len(train_dataset[i][\"input_ids\"]))\n",
    "    print(\"#\"*30)\n",
    "do_print(819)\n",
    "do_print(820)\n",
    "do_print(821)\n"
   ]
  },
  {
   "cell_type": "code",
   "execution_count": null,
   "id": "8cb1833a-7097-4054-af0a-1242c30bb486",
   "metadata": {},
   "outputs": [],
   "source": []
  },
  {
   "cell_type": "code",
   "execution_count": 19,
   "id": "ed56e613-26ea-44b5-b945-06aaeeb2dac8",
   "metadata": {},
   "outputs": [
    {
     "name": "stdout",
     "output_type": "stream",
     "text": [
      "2667\n"
     ]
    }
   ],
   "source": [
    "to_remove = []\n",
    "print(len(test_dataset))\n",
    "\n",
    "for i,val in enumerate(test_dataset):\n",
    "    if ((len(val[\"input_ids\"]) -len(val[\"labels\"]))!= 2):\n",
    "    # if ((len(val[\"input_ids\"]) -len(val[\"labels\"]))!= 2) or val[\"labels\"][-2] == 1 or val[\"labels\"][-1] == 1:\n",
    "        to_remove.append(i)\n",
    "# what we don't want\n",
    "exclude_idx = to_remove\n",
    "\n",
    "# create new dataset exluding those idx\n",
    "# test_dataset = test_dataset.select(\n",
    "#     (\n",
    "#         i for i in range(len(test_dataset)) \n",
    "#         if i not in set(exclude_idx)\n",
    "#     )\n",
    "# )\n",
    "# print(len(test_dataset))"
   ]
  },
  {
   "cell_type": "code",
   "execution_count": null,
   "id": "6c77ceab-2385-494b-a600-7681b7620feb",
   "metadata": {},
   "outputs": [],
   "source": []
  },
  {
   "cell_type": "code",
   "execution_count": null,
   "id": "311d26d5-a3ad-4c6e-9d7f-c777025221d4",
   "metadata": {},
   "outputs": [],
   "source": []
  },
  {
   "cell_type": "code",
   "execution_count": 20,
   "id": "daddcd85-1178-4b3a-b939-e6e1a9260775",
   "metadata": {},
   "outputs": [],
   "source": [
    "# counter = 0\n",
    "# for val in train_dataset:\n",
    "#     print(counter,len(val[\"input_ids\"]),len(val[\"labels\"]))\n",
    "#     counter+=1"
   ]
  },
  {
   "cell_type": "code",
   "execution_count": 21,
   "id": "0763a73a-8764-410d-85fa-b5a8515e91f8",
   "metadata": {},
   "outputs": [
    {
     "name": "stderr",
     "output_type": "stream",
     "text": [
      "2024-11-10 13:23:19.179870: E external/local_xla/xla/stream_executor/cuda/cuda_fft.cc:485] Unable to register cuFFT factory: Attempting to register factory for plugin cuFFT when one has already been registered\n",
      "2024-11-10 13:23:19.191042: E external/local_xla/xla/stream_executor/cuda/cuda_dnn.cc:8454] Unable to register cuDNN factory: Attempting to register factory for plugin cuDNN when one has already been registered\n",
      "2024-11-10 13:23:19.194535: E external/local_xla/xla/stream_executor/cuda/cuda_blas.cc:1452] Unable to register cuBLAS factory: Attempting to register factory for plugin cuBLAS when one has already been registered\n",
      "2024-11-10 13:23:19.203520: I tensorflow/core/platform/cpu_feature_guard.cc:210] This TensorFlow binary is optimized to use available CPU instructions in performance-critical operations.\n",
      "To enable the following instructions: AVX2 FMA, in other operations, rebuild TensorFlow with the appropriate compiler flags.\n",
      "2024-11-10 13:23:24.398528: W tensorflow/compiler/tf2tensorrt/utils/py_utils.cc:38] TF-TRT Warning: Could not find TensorRT\n",
      "Some weights of EsmForTokenClassification were not initialized from the model checkpoint at InstaDeepAI/nucleotide-transformer-500m-1000g and are newly initialized: ['classifier.bias', 'classifier.weight']\n",
      "You should probably TRAIN this model on a down-stream task to be able to use it for predictions and inference.\n"
     ]
    }
   ],
   "source": [
    "from transformers import AutoModelForTokenClassification, TrainingArguments, Trainer\n",
    "\n",
    "num_labels = 2\n",
    "model = AutoModelForTokenClassification.from_pretrained(model_name,num_labels=num_labels, device_map=\"auto\")\n",
    "\n",
    "# model = AutoModelForTokenClassification.from_pretrained(model_checkpoint, num_labels=num_labels)"
   ]
  },
  {
   "cell_type": "code",
   "execution_count": 22,
   "id": "32d3d678-b636-43b4-a787-61447b98d4f4",
   "metadata": {},
   "outputs": [],
   "source": [
    "from transformers import DataCollatorForTokenClassification\n",
    "\n",
    "data_collator = DataCollatorForTokenClassification(tokenizer)"
   ]
  },
  {
   "cell_type": "code",
   "execution_count": 23,
   "id": "587bf142-599c-44eb-8933-0ac6f0d55767",
   "metadata": {},
   "outputs": [
    {
     "name": "stderr",
     "output_type": "stream",
     "text": [
      "/sci/nosnap/michall/roeizucker/new_python_env/lib/python3.11/site-packages/transformers/training_args.py:1525: FutureWarning: `evaluation_strategy` is deprecated and will be removed in version 4.46 of 🤗 Transformers. Use `eval_strategy` instead\n",
      "  warnings.warn(\n"
     ]
    }
   ],
   "source": [
    "batch_size = 1\n",
    "# TODO: USE their parameters and LORA. copy from them\n",
    "args = TrainingArguments(\n",
    "    f\"{model_name}-finetuned-secondary-structure\",\n",
    "    evaluation_strategy = \"epoch\",\n",
    "    save_strategy = \"epoch\",\n",
    "    learning_rate=1e-4,\n",
    "    per_device_train_batch_size=batch_size,\n",
    "    per_device_eval_batch_size=batch_size,\n",
    "    num_train_epochs=3,\n",
    "    weight_decay=0.001,\n",
    "    load_best_model_at_end=True,\n",
    "    metric_for_best_model=\"accuracy\",\n",
    "    push_to_hub=False,\n",
    ")"
   ]
  },
  {
   "cell_type": "code",
   "execution_count": 24,
   "id": "e66913ce-c096-4c11-bf5b-8636f1a0c612",
   "metadata": {},
   "outputs": [],
   "source": [
    "from evaluate import load\n",
    "import numpy as np\n",
    "\n",
    "metric = load(\"accuracy\")\n",
    "\n",
    "def compute_metrics(eval_pred):\n",
    "\n",
    "    predictions, labels = eval_pred\n",
    "    labels = labels.reshape((-1,))\n",
    "    predictions = np.argmax(predictions, axis=2)\n",
    "    predictions = predictions.reshape((-1,))\n",
    "    predictions = predictions[labels!=-100]\n",
    "    labels = labels[labels!=-100]\n",
    "    return metric.compute(predictions=predictions, references=labels)"
   ]
  },
  {
   "cell_type": "code",
   "execution_count": 25,
   "id": "8179f8cf-3f22-4450-92de-a45aaabf5d3c",
   "metadata": {},
   "outputs": [],
   "source": [
    "# !export CUDA_LAUNCH_BLOCKING=1\n"
   ]
  },
  {
   "cell_type": "code",
   "execution_count": 26,
   "id": "149fd0ca-e92d-4d03-94ee-77fcf748439a",
   "metadata": {},
   "outputs": [
    {
     "data": {
      "text/html": [
       "\n",
       "    <div>\n",
       "      \n",
       "      <progress value='23997' max='23997' style='width:300px; height:20px; vertical-align: middle;'></progress>\n",
       "      [23997/23997 1:22:32, Epoch 3/3]\n",
       "    </div>\n",
       "    <table border=\"1\" class=\"dataframe\">\n",
       "  <thead>\n",
       " <tr style=\"text-align: left;\">\n",
       "      <th>Epoch</th>\n",
       "      <th>Training Loss</th>\n",
       "      <th>Validation Loss</th>\n",
       "      <th>Accuracy</th>\n",
       "    </tr>\n",
       "  </thead>\n",
       "  <tbody>\n",
       "    <tr>\n",
       "      <td>1</td>\n",
       "      <td>0.152700</td>\n",
       "      <td>0.162393</td>\n",
       "      <td>0.953984</td>\n",
       "    </tr>\n",
       "    <tr>\n",
       "      <td>2</td>\n",
       "      <td>0.158100</td>\n",
       "      <td>0.160363</td>\n",
       "      <td>0.954051</td>\n",
       "    </tr>\n",
       "    <tr>\n",
       "      <td>3</td>\n",
       "      <td>0.123600</td>\n",
       "      <td>0.178986</td>\n",
       "      <td>0.952519</td>\n",
       "    </tr>\n",
       "  </tbody>\n",
       "</table><p>"
      ],
      "text/plain": [
       "<IPython.core.display.HTML object>"
      ]
     },
     "metadata": {},
     "output_type": "display_data"
    },
    {
     "data": {
      "text/plain": [
       "TrainOutput(global_step=23997, training_loss=0.15317582883412387, metrics={'train_runtime': 4953.2482, 'train_samples_per_second': 4.845, 'train_steps_per_second': 4.845, 'total_flos': 8025630739228872.0, 'train_loss': 0.15317582883412387, 'epoch': 3.0})"
      ]
     },
     "execution_count": 26,
     "metadata": {},
     "output_type": "execute_result"
    }
   ],
   "source": [
    "trainer = Trainer(\n",
    "    model,\n",
    "    args,\n",
    "    train_dataset=train_dataset,\n",
    "    eval_dataset=test_dataset,\n",
    "    tokenizer=tokenizer,\n",
    "    compute_metrics=compute_metrics,\n",
    "    data_collator=data_collator,\n",
    ")\n",
    "\n",
    "trainer.train()"
   ]
  },
  {
   "cell_type": "code",
   "execution_count": 27,
   "id": "1e0c3273-7580-4af7-b234-1dc5d81c9033",
   "metadata": {
    "scrolled": true
   },
   "outputs": [],
   "source": [
    "# !set PYTORCH_CUDA_ALLOC_CONF=\"expandable_segments:True\"\n",
    "# !echo $PYTORCH_CUDA_ALLOC_CONF\n",
    "# !echo 123\n",
    "# for i in range(len(train_dataset)):\n",
    "#     print(i,len(train_dataset[i][\"labels\"]),len(train_dataset[i][\"input_ids\"]))"
   ]
  },
  {
   "cell_type": "code",
   "execution_count": 28,
   "id": "3947f59c-3841-4ea8-8f5e-572b981e4339",
   "metadata": {},
   "outputs": [],
   "source": [
    "# for i in range(len(train_dataset)):\n",
    "#     if len(train_dataset[i][\"labels\"]) == 3260:\n",
    "#         print(i)\n",
    "#         print(len(train_dataset[i][\"input_ids\"]))\n",
    "#     # print(len(train_dataset[i][\"input_ids\"]))\n",
    "#     # print(len(train_dataset[i][\"labels\"]))\n",
    "#     # print(len(sequences[i]))"
   ]
  },
  {
   "cell_type": "code",
   "execution_count": 29,
   "id": "759039e5-7a9a-4570-b825-f03abf156c0a",
   "metadata": {},
   "outputs": [
    {
     "name": "stdout",
     "output_type": "stream",
     "text": [
      "166\n",
      "166\n"
     ]
    }
   ],
   "source": [
    "i = 5\n",
    "print(len(sequences[i]) // 6)\n",
    "print(len(labels[i]))"
   ]
  },
  {
   "cell_type": "code",
   "execution_count": 42,
   "id": "00a30c28-5084-4055-abc2-67acf4c14b39",
   "metadata": {},
   "outputs": [
    {
     "data": {
      "text/html": [],
      "text/plain": [
       "<IPython.core.display.HTML object>"
      ]
     },
     "metadata": {},
     "output_type": "display_data"
    },
    {
     "name": "stdout",
     "output_type": "stream",
     "text": [
      "[0 0 0 0 0 0 0 0 0 0 0 0 0 0 0 0 0 0 0 0 0 0 0 0 0 0 0 0 0 0 0 0 0 0 0 0 0\n",
      " 0 0 0 0 0 0 0 0 0 0 0 0 0 0 0 0 0 0 0 0 0 0 0 0 0 0 0 0 0 0 0 0 0 0 0 0 0\n",
      " 0 0 0 0 0 0 0 0 0 0 0 0 0 0 0 0 0 0 0 0 0 0 0 0 0 0 0 0 0 0 0 0 0 0 0 0 0\n",
      " 0 0 0 0 0 0 0 0 0 0 0 0 0 0 0 0 0 0 0 0 0 0 0 0 0 0 0 0 0 0 0 0 0 0 0 0 0\n",
      " 0 0 0 0 0 0 0 0 0 0 0 0 0 0 0 0 0 0 0 0 0 0]\n",
      "[0 0 0 0 0 0 0 0 0 0 0 0 0 0 0 0 0 0 0 0 0 0 0 0 1 1 0 0 0 0 0 0 0 0 0 0 0\n",
      " 1 1 0 0 0 0 0 0 0 0 0 0 0 0 0 0 0 0 1 1 0 0 0 0 0 0 0 0 0 0 0 0 0 0 0 0 0\n",
      " 0 0 0 0 0 0 0 0 0 0 0 0 0 0 0 0 0 0 0 0 0 0 0 0 0 0 0 0 0 0 0 0 0 0 0 0 0\n",
      " 0 0 0 0 0 0 0 0 0 0 0 0 0 0 0 0 0 0 0 0 0 0 0 0 0 0 0 0 0 0 0 0 0 0 1 1 1\n",
      " 1 0 0 0 0 0 0 0 0 0 0 0 0 0 0 0 0 0]\n",
      "*****************************************************************************\n"
     ]
    }
   ],
   "source": [
    "def show_for_num(num):\n",
    "    predict_dataset = Dataset.from_dict(test_dataset[num:num+1])\n",
    "    raw_pred, _, _ = trainer.predict(predict_dataset)\n",
    "    y_pred = np.argmax(raw_pred, axis=2)\n",
    "    print(y_pred[0])\n",
    "    print(np.array(test_dataset[num][\"labels\"]))\n",
    "    print(\"*******\"*11)\n",
    "show_for_num(9)"
   ]
  },
  {
   "cell_type": "code",
   "execution_count": 31,
   "id": "d458b517-1729-48f8-a16f-e8f5ca2b0330",
   "metadata": {},
   "outputs": [],
   "source": [
    "# y_pred[0]"
   ]
  },
  {
   "cell_type": "code",
   "execution_count": 32,
   "id": "c288d240-81c9-4f49-81c2-443b2fead1db",
   "metadata": {},
   "outputs": [
    {
     "data": {
      "text/plain": [
       "array([0, 0, 0, 0, 0, 0, 0, 0, 0, 0, 0, 0, 0, 0, 0, 0, 0, 0, 0, 0, 0, 0,\n",
       "       0, 0, 1, 1, 0, 0, 0, 0, 0, 0, 0, 0, 0, 0, 0, 0, 0, 0, 0, 0, 0, 0,\n",
       "       0, 0, 1, 0, 1, 1, 0, 1, 0, 0, 0, 0, 0, 0, 1, 1, 0, 0, 0, 0, 0, 0,\n",
       "       0, 0, 0, 1, 1, 0, 0, 0, 0, 0, 0, 0, 0, 0, 0, 0, 1])"
      ]
     },
     "execution_count": 32,
     "metadata": {},
     "output_type": "execute_result"
    }
   ],
   "source": [
    "np.array(test_dataset[2][\"labels\"])"
   ]
  },
  {
   "cell_type": "code",
   "execution_count": null,
   "id": "3ee89ecf-c58e-4c56-b6be-6281e0add1ba",
   "metadata": {},
   "outputs": [],
   "source": []
  },
  {
   "cell_type": "code",
   "execution_count": null,
   "id": "e2f8b9e1-6dbe-4df5-93e9-86d2e30aa343",
   "metadata": {},
   "outputs": [],
   "source": []
  },
  {
   "cell_type": "code",
   "execution_count": null,
   "id": "941d3a52-127f-4ed4-83a1-22e7dc7e4193",
   "metadata": {},
   "outputs": [],
   "source": []
  },
  {
   "cell_type": "code",
   "execution_count": 33,
   "id": "f4dd6f71-f57e-4c91-83c8-8ded13ab02fb",
   "metadata": {},
   "outputs": [
    {
     "ename": "NameError",
     "evalue": "name 'predictions' is not defined",
     "output_type": "error",
     "traceback": [
      "\u001b[0;31m---------------------------------------------------------------------------\u001b[0m",
      "\u001b[0;31mNameError\u001b[0m                                 Traceback (most recent call last)",
      "Cell \u001b[0;32mIn[33], line 1\u001b[0m\n\u001b[0;32m----> 1\u001b[0m \u001b[43mpredictions\u001b[49m \n\u001b[1;32m      2\u001b[0m predictions \u001b[38;5;241m=\u001b[39m np\u001b[38;5;241m.\u001b[39margmax(predictions, axis\u001b[38;5;241m=\u001b[39m\u001b[38;5;241m2\u001b[39m)\n",
      "\u001b[0;31mNameError\u001b[0m: name 'predictions' is not defined"
     ]
    }
   ],
   "source": [
    "predictions \n",
    "predictions = np.argmax(predictions, axis=2)"
   ]
  },
  {
   "cell_type": "code",
   "execution_count": null,
   "id": "f54ce0ab-db55-42f1-9be9-97e7be97eefa",
   "metadata": {},
   "outputs": [],
   "source": [
    "len(predict_dataset[\"input_ids\"])"
   ]
  },
  {
   "cell_type": "code",
   "execution_count": null,
   "id": "8cb27cb9-a249-455f-81c2-0e19030691e3",
   "metadata": {},
   "outputs": [],
   "source": [
    "len(predict_dataset[0][\"input_ids\"])"
   ]
  },
  {
   "cell_type": "code",
   "execution_count": null,
   "id": "7054ab4f-027d-4442-8b85-5fc77318ab25",
   "metadata": {},
   "outputs": [],
   "source": [
    "predictions, labels, metrics = trainer.predict(predict_dataset, metric_key_prefix=\"predict\")\n",
    "metrics[\"predict_samples\"] =  len(predict_dataset)\n",
    "\n",
    "trainer.log_metrics(\"predict\", metrics)\n",
    "trainer.save_metrics(\"predict\", metrics)\n",
    "\n",
    "# predictions = np.argmax(predictions, axis=1)"
   ]
  },
  {
   "cell_type": "code",
   "execution_count": null,
   "id": "b21352f7-0af2-4294-9dd6-fe759b22022e",
   "metadata": {},
   "outputs": [],
   "source": []
  },
  {
   "cell_type": "code",
   "execution_count": null,
   "id": "0d1f90a1-e707-4421-b9a3-93baa7d91b15",
   "metadata": {},
   "outputs": [],
   "source": [
    "\n",
    "\n",
    "\n",
    "# # output_predict_file = os.path.join(training_args.output_dir, \"predictions.txt\")\n",
    "# for index, item in enumerate(predictions):\n",
    "#     # item = label_list[item]\n",
    "#     print(f\"{index}\\t{item}\\n\")\n"
   ]
  }
 ],
 "metadata": {
  "kernelspec": {
   "display_name": "Python 3 (ipykernel)",
   "language": "python",
   "name": "python3"
  },
  "language_info": {
   "codemirror_mode": {
    "name": "ipython",
    "version": 3
   },
   "file_extension": ".py",
   "mimetype": "text/x-python",
   "name": "python",
   "nbconvert_exporter": "python",
   "pygments_lexer": "ipython3",
   "version": "3.11.2"
  }
 },
 "nbformat": 4,
 "nbformat_minor": 5
}
