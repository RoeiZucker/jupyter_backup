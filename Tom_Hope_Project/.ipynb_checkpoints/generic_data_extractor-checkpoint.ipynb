{
 "cells": [
  {
   "cell_type": "markdown",
   "id": "632ae826-af5d-4e52-8dfc-b66aa53f161d",
   "metadata": {},
   "source": [
    "# this will be used for all LLM based dataset creation"
   ]
  },
  {
   "cell_type": "code",
   "execution_count": 2,
   "id": "f5f3febc-61a5-4938-88a8-d23618b4660a",
   "metadata": {},
   "outputs": [],
   "source": [
    "import pandas as pd\n",
    "import numpy as np\n",
    "from Bio import SeqIO\n",
    "from random import randint\n",
    "from sklearn.model_selection import train_test_split\n",
    "import os"
   ]
  },
  {
   "cell_type": "markdown",
   "id": "fb5baa53-8e8e-4237-af2b-63d4e52d82a4",
   "metadata": {},
   "source": [
    "## constants"
   ]
  },
  {
   "cell_type": "code",
   "execution_count": 48,
   "id": "6ea20c74-fd47-42f1-92ed-51ca8a2758e1",
   "metadata": {},
   "outputs": [],
   "source": [
    "HG38_ENCODING = \"HG38\"\n",
    "BEND_CPG_NAME = \"bend_cpg\"\n",
    "UNMASKED_CPG_NAME = \"table_browser_hg38_unmasked_CpG\"\n",
    "MR_DNA_50_NAME = \"MR-DNA\"\n",
    "DATASET_TO_CTREATE = MR_DNA_50_NAME\n",
    "CPG_PATH = \"/sci/archive/michall/roeizucker/LLM_datasets/bend_benchmark/cpg_methylation.bed\"\n",
    "CPG_AMOUNT = 1\n",
    "# DATA_CLASSES = [CPG_DATA]\n",
    "HG19_PATH = \"/sci/archive/michall/roeizucker/reference_genome/hg38.fa\"\n",
    "\n",
    "SHUFFLE = False\n",
    "TRAIN_PATH = \"MR_DNA_50_train.csv\"\n",
    "TEST_PATH = \"MR_DNA_50_test.csv\""
   ]
  },
  {
   "cell_type": "code",
   "execution_count": 4,
   "id": "7272b1d4-9172-4940-b169-06318f7470da",
   "metadata": {},
   "outputs": [],
   "source": [
    "class DataTypeDescription:\n",
    "    def __init__(self,name,df,amount,extractor_function,encoding,train_amount,shuffle):\n",
    "        self.name=name\n",
    "        self.df=df\n",
    "        # TODO: make amount work\n",
    "        self.amount = amount\n",
    "        self.extractor_function = extractor_function\n",
    "        self.encoding = encoding\n",
    "        self.train_amount = train_amount\n",
    "        self.shuffle = shuffle\n",
    "        pass\n",
    "    def get_train_test(self):\n",
    "        return self.extractor_function(self.df,self.train_amount,self.shuffle)\n",
    "\n"
   ]
  },
  {
   "cell_type": "markdown",
   "id": "efca36f1-a9d7-42ee-9a10-19d4fd6c307e",
   "metadata": {},
   "source": [
    "## HG38 creation"
   ]
  },
  {
   "cell_type": "code",
   "execution_count": 4,
   "id": "36967b32-0e65-45bb-a258-c407a5632b90",
   "metadata": {},
   "outputs": [],
   "source": [
    "# Specify your file, chromosome, and positions\n",
    "# fasta_file = \"hg38.fa\"\n",
    "\n",
    "chromosome_seq = {}\n",
    "# Parse the FASTA file\n",
    "\n",
    "with open(HG19_PATH, \"r\") as file:\n",
    "    for record in SeqIO.parse(file, \"fasta\"):\n",
    "        # print(record.id)\n",
    "        chromosome_seq[record.id] = record.seq[:]\n",
    "        # if record.id == chromosome:\n",
    "        #     # Extract the sequence\n",
    "        #     sequence = record.seq[start-1:end]  # Biopython uses 0-based indexing\n",
    "        #     print(f\"Sequence from {chromosome}:{start}-{end}:\")\n",
    "        #     print(sequence)\n",
    "        #     break\n"
   ]
  },
  {
   "cell_type": "code",
   "execution_count": 1,
   "id": "19ad2b35-e9a7-45dc-907b-2c703eb88a4e",
   "metadata": {},
   "outputs": [
    {
     "name": "stdout",
     "output_type": "stream",
     "text": [
      "on\n"
     ]
    }
   ],
   "source": [
    "print(\"on\")"
   ]
  },
  {
   "cell_type": "markdown",
   "id": "100f1bfb-ad14-44f1-9c29-4a068f72d2f2",
   "metadata": {},
   "source": [
    "## Classes definitions"
   ]
  },
  {
   "cell_type": "markdown",
   "id": "d030af78-36eb-49db-9f15-79e99b722968",
   "metadata": {},
   "source": [
    "### table_browser_hg38_unmasked_CpG class"
   ]
  },
  {
   "cell_type": "code",
   "execution_count": 1,
   "id": "055cf461-7399-4ef0-a502-57779d591716",
   "metadata": {},
   "outputs": [],
   "source": [
    "RESULT_SEQ_SIZE = 6000\n",
    "UNMASKED_CPG_PATH = \"/sci/nosnap/michall/roeizucker/jupyter_notebooks_backup/Tom_Hope_Project/table_browser_hg38_unmasked_CpG.csv\"\n",
    "UNMASKED_CPG_TRAIN_AMOUNT = 0.75\n",
    "# sequence_length = \n",
    "def apply_add_pedding(row):\n",
    "    to_fill =  RESULT_SEQ_SIZE - row[\"length\"]\n",
    "    to_fill_left = randint(0,to_fill)\n",
    "    to_fill_right = to_fill - to_fill_left\n",
    "    return [row[\"chromStart\"] - to_fill_left,row[\"chromEnd\"] + to_fill_right]\n",
    "\n",
    "def apply_create_sequence(row):\n",
    "    return str(chromosome_seq[row[\"chrom\"]][row[\"new_start\"]:row[\"new_end\"]]).upper()\n",
    "    # pass\n",
    "\n",
    "def apply_create_labels(row):\n",
    "    # return ( row[\"chromStart\"] - row[\"new_start\"] ,row[\"new_end\"] - row[\"chromEnd\"])\n",
    "    return \"0\" * (row[\"chromStart\"] - row[\"new_start\"]) + \"1\" * row[\"length\"] + \"0\" * (row[\"new_end\"] - row[\"chromEnd\"] )\n",
    "    pass\n",
    "\n",
    "# Function to remove overlapping rows\n",
    "def remove_overlapping_rows(group):\n",
    "    result = []\n",
    "    for index, row in group.iterrows():\n",
    "        if not result or row['new_start'] > result[-1]['new_end']:\n",
    "            result.append(row)\n",
    "    return pd.DataFrame(result)\n",
    "\n",
    "\n",
    "def cpg_extractor(df,train_amount,shuffle):\n",
    "    df = df[df[\"length\"] < 4000]\n",
    "    df[[\"new_start\",\"new_end\"]] = df.apply(apply_add_pedding,axis=1, result_type=\"expand\")\n",
    "    df = df.sort_values(by=['chrom', 'new_start']).reset_index(drop=True)\n",
    "    df = df.groupby('chrom', group_keys=False).apply(remove_overlapping_rows)\n",
    "    if not shuffle:\n",
    "        df[\"seq\"] = df.apply(apply_create_sequence,axis=1)\n",
    "        df[\"labels\"] = df.apply(apply_create_labels,axis=1)\n",
    "        return train_test_split(df, test_size=(1-train_amount))\n",
    "        \n",
    "    train_df,test_df = train_test_split(df, test_size=(1-train_amount))\n",
    "    \n",
    "    expanded_rows = []\n",
    "    # TODO: change so that this is a parameter\n",
    "    for idx, row in train_df.iterrows():\n",
    "    # 1) Keep the original row\n",
    "        original_row = row.copy()\n",
    "        expanded_rows.append(original_row)\n",
    "    \n",
    "        # 2) Create 5 new “shifted” rows\n",
    "        for j in range(1, 6):\n",
    "            row_copy = row.copy()\n",
    "            row_copy['new_start'] = row['new_start'] + j\n",
    "            row_copy['new_end']   = row['new_end']   + j\n",
    "            \n",
    "            # Update chromStart if needed\n",
    "            if row_copy['new_start'] > row['chromStart']:\n",
    "                row_copy['chromStart'] = row_copy['new_start']\n",
    "            \n",
    "            expanded_rows.append(row_copy)\n",
    "\n",
    "    # Build the expanded DataFrame\n",
    "    expanded_train_df = pd.DataFrame(expanded_rows)\n",
    "\n",
    "    \n",
    "    expanded_train_df[\"seq\"] = expanded_train_df.apply(apply_create_sequence,axis=1)\n",
    "    expanded_train_df[\"labels\"] = expanded_train_df.apply(apply_create_labels,axis=1)\n",
    "    \n",
    "    test_df[\"seq\"] = test_df.apply(apply_create_sequence,axis=1)\n",
    "    test_df[\"labels\"] = test_df.apply(apply_create_labels,axis=1)\n",
    "\n",
    "    return expanded_train_df,test_df\n",
    "    # return train_test_split(df, test_size=(1-train_amount))\n",
    "    # print(train)\n",
    "# CPG_DATA = DataTypeDescription(\"table_browser_hg38_unmasked_CpG\",pd.read_csv(UNMASKED_CPG_PATH,sep=\",\"),CPG_AMOUNT,cpg_extractor,HG38_ENCODING,UNMASKED_CPG_TRAIN_AMOUNT)\n",
    "# train,test = CPG_DATA.get_train_test()"
   ]
  },
  {
   "cell_type": "markdown",
   "id": "b557b500-7c41-4055-84f9-f7c37189bce9",
   "metadata": {},
   "source": [
    "### MR-DNA50 class"
   ]
  },
  {
   "cell_type": "code",
   "execution_count": 85,
   "id": "adf35bc7-abd0-46a0-a000-387bd73e96ba",
   "metadata": {},
   "outputs": [],
   "source": [
    "MR_DNA_50_PATH = \"/sci/nosnap/michall/roeizucker/MR-DNA/database/MR-DNA-50\"\n",
    "train_name = \"train.txt\"\n",
    "test_name = \"test.txt\"\n",
    "MR_DNA_50_CPG_TRAIN_AMOUNT = 0.75\n",
    "\n",
    "def handle_df(df):\n",
    "    df[\"labels\"] = df.apply(apply_get_labels, axis=1)\n",
    "    df[\"seq\"] = df[\"text\"]\n",
    "    # print(df.columns)\n",
    "    df.drop([\"text\"],axis=1,inplace=True)\n",
    "    return df\n",
    "\n",
    "def apply_get_labels(row):\n",
    "    \n",
    "    positions = list(map(lambda x:int(x),row[\"methy_pos\"].strip(\"[]\").split(\", \")))\n",
    "    \n",
    "    labels = [\"0\"] * (len(row[\"text\"]))\n",
    "    for pos in positions:\n",
    "        labels[pos] = \"1\"\n",
    "    return ''.join(labels)\n",
    "    \n",
    "def mr_dna_50_dataset_extractor(df_values, train_amount,shuffle):\n",
    "    df_train = df_values[0]\n",
    "    df_test = df_values[1]\n",
    "    \n",
    "    df_test[\"text\"] = df_test[\"sequence\"]\n",
    "    df_test.drop([\"sequence\"],axis=1,inplace=True)\n",
    "    if not shuffle:\n",
    "        return handle_df(df_train), handle_df(df_test)\n",
    "    \n",
    "    pass\n"
   ]
  },
  {
   "cell_type": "code",
   "execution_count": 87,
   "id": "dba5e89b-9402-43e8-9f49-3ef22264e97c",
   "metadata": {},
   "outputs": [],
   "source": [
    "# df_train.head(30)[\"methy_pos\"].apply(lambda x : x[0],axis=1)\n",
    "# df_test.head(30)"
   ]
  },
  {
   "cell_type": "markdown",
   "id": "c60da6af-4db2-4fb8-8e1c-1e2c4c4691dc",
   "metadata": {},
   "source": [
    "## Create datasets"
   ]
  },
  {
   "cell_type": "code",
   "execution_count": 89,
   "id": "b41da405-6e68-44ec-90ba-4a2259823ed4",
   "metadata": {},
   "outputs": [],
   "source": [
    "if DATASET_TO_CTREATE == UNMASKED_CPG_NAME:\n",
    "    dataset_manager = DataTypeDescription(\"table_browser_hg38_unmasked_CpG\",pd.read_csv(UNMASKED_CPG_PATH,sep=\",\"),CPG_AMOUNT,cpg_extractor,HG38_ENCODING,UNMASKED_CPG_TRAIN_AMOUNT,False)\n",
    "elif DATASET_TO_CTREATE == MR_DNA_50_NAME:\n",
    "    df_train = pd.read_csv(os.path.join(MR_DNA_50_PATH,train_name),sep=\"\\t\")\n",
    "    df_test = pd.read_csv(os.path.join(MR_DNA_50_PATH,test_name),sep=\"\\t\")\n",
    "    dataset_manager = DataTypeDescription(\"MR-DNA-50\",[df_train,df_test],CPG_AMOUNT,mr_dna_50_dataset_extractor,HG38_ENCODING,MR_DNA_50_CPG_TRAIN_AMOUNT,False)\n",
    "train_df,test_df = dataset_manager.get_train_test()\n",
    "train_df.to_csv(TRAIN_PATH)\n",
    "test_df.to_csv(TEST_PATH)\n"
   ]
  },
  {
   "cell_type": "code",
   "execution_count": 8,
   "id": "54130793-5c23-468c-aa86-6206e36384c5",
   "metadata": {},
   "outputs": [],
   "source": [
    "# TODO: add saving to local files if not existing, like in segment_test"
   ]
  }
 ],
 "metadata": {
  "kernelspec": {
   "display_name": "Python 3 (ipykernel)",
   "language": "python",
   "name": "python3"
  },
  "language_info": {
   "codemirror_mode": {
    "name": "ipython",
    "version": 3
   },
   "file_extension": ".py",
   "mimetype": "text/x-python",
   "name": "python",
   "nbconvert_exporter": "python",
   "pygments_lexer": "ipython3",
   "version": "3.11.2"
  }
 },
 "nbformat": 4,
 "nbformat_minor": 5
}
