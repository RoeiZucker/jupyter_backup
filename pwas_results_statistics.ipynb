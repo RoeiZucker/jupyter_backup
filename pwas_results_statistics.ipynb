{
 "cells": [
  {
   "cell_type": "code",
   "execution_count": 10,
   "id": "df76f1a8",
   "metadata": {},
   "outputs": [],
   "source": [
    "import os\n",
    "import glob\n",
    "import pandas as pd"
   ]
  },
  {
   "cell_type": "code",
   "execution_count": 5,
   "id": "7257e8bb",
   "metadata": {},
   "outputs": [],
   "source": [
    "path = \"/cs/labs/michall/roeizucker/10krun/results\""
   ]
  },
  {
   "cell_type": "code",
   "execution_count": 57,
   "id": "5f572287",
   "metadata": {},
   "outputs": [
    {
     "name": "stdout",
     "output_type": "stream",
     "text": [
      "E039_M.csv-E03_M.csv:(9, 0.9, 1.0)\n",
      "E119_M.csv-E11_M.csv:(12, 1.0, 1.0)\n",
      "E669_M.csv-E66_M.csv:(1, 1.0, 1.0)\n",
      "E780_M.csv-E78_M.csv:(14, 0.875, 1.0)\n",
      "E780_M.csv-I209_M.csv:(2, 0.125, 1.0)\n",
      "E780_M.csv-I20_M.csv:(2, 0.125, 0.667)\n",
      "E78_M.csv-I209_M.csv:(2, 0.143, 1.0)\n",
      "E78_M.csv-I20_M.csv:(2, 0.143, 0.667)\n",
      "I209_M.csv-I20_M.csv:(2, 1.0, 0.667)\n",
      "I20_M.csv-I251_M.csv:(2, 0.667, 0.125)\n",
      "I20_M.csv-I25_M.csv:(2, 0.667, 0.105)\n",
      "I251_M.csv-I25_M.csv:(12, 0.75, 0.632)\n",
      "I251_M.csv-Z95_M.csv:(2, 0.125, 1.0)\n",
      "I25_M.csv-Z95_M.csv:(2, 0.105, 1.0)\n",
      "J459_M.csv-J45_M.csv:(9, 1.0, 1.0)\n",
      "K409_M.csv-K40_M.csv:(10, 1.0, 0.667)\n",
      "K409_M.csv-R31_M.csv:(5, 0.5, 0.625)\n",
      "K40_M.csv-R31_M.csv:(5, 0.333, 0.625)\n",
      "M17_M.csv-M23_M.csv:(3, 0.75, 0.375)\n",
      "N40_M.csv-R31_M.csv:(6, 0.429, 0.75)\n"
     ]
    }
   ],
   "source": [
    "extension = 'csv'\n",
    "os.chdir(path)\n",
    "file_names = glob.glob('*.{}'.format(extension))\n",
    "file_names.remove(\"ukbb_dataset.csv\")\n",
    "file_names.sort()\n",
    "gene_dict = {}\n",
    "gene_matches = {}\n",
    "for file in file_names:\n",
    "    df = pd.read_csv(f\"{path}/{file}\",nrows=100)\n",
    "    df = df[df[\"fdr_significance\"] == True]\n",
    "    genes = list(df[\"uniprot_id\"])\n",
    "    gene_dict[file] = genes\n",
    "\n",
    "for i in range(len(file_names)):\n",
    "    for j in range(i+1,len(file_names)):\n",
    "#         if i == j:\n",
    "#             continue\n",
    "        first_file = file_names[i]\n",
    "        second_file = file_names[j]\n",
    "        num_matches = len(set(gene_dict[first_file]) & set(gene_dict[second_file]))\n",
    "        if num_matches == 0:\n",
    "            gene_matches[f\"{first_file}-{second_file}\"] = (num_matches, -1, -1)\n",
    "            continue\n",
    "        first_percentile = round(num_matches / len(gene_dict[first_file]),3)\n",
    "        second_percentile = round(num_matches / len(gene_dict[second_file]),3)\n",
    "        gene_matches[f\"{first_file}-{second_file}\"] = (num_matches,first_percentile , second_percentile)\n",
    "\n",
    "\n",
    "for key in gene_matches.keys():\n",
    "    if (gene_matches[key][1] > 0.5 and gene_matches[key][2] > 0.1) or (gene_matches[key][2] > 0.5 and gene_matches[key][1] > 0.1):\n",
    "        if key.count(\"_M\") >=2:\n",
    "            print(f\"{key}:{gene_matches[key]}\")\n",
    "\n",
    "        \n"
   ]
  }
 ],
 "metadata": {
  "kernelspec": {
   "display_name": "myenv",
   "language": "python",
   "name": "myenv"
  },
  "language_info": {
   "codemirror_mode": {
    "name": "ipython",
    "version": 3
   },
   "file_extension": ".py",
   "mimetype": "text/x-python",
   "name": "python",
   "nbconvert_exporter": "python",
   "pygments_lexer": "ipython3",
   "version": "3.7.3"
  }
 },
 "nbformat": 4,
 "nbformat_minor": 5
}
