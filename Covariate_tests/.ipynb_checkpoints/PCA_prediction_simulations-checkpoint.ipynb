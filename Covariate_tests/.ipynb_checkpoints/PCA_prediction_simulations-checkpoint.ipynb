{
 "cells": [
  {
   "cell_type": "markdown",
   "id": "38a63d44-0965-4e51-b92f-8b9885559337",
   "metadata": {},
   "source": [
    "# PCA predictions using logistic regression\n",
    "to show that the added genetic data does not add much to the PCA we need to apply regression on the PCA values to the phenotype and show that the explenability is not too good"
   ]
  },
  {
   "cell_type": "markdown",
   "id": "c2ac27fa-8d5f-4968-aa14-fba14e033dae",
   "metadata": {},
   "source": [
    "perform analysis on phenotypes produced with:\n",
    "* 0%/10%/30%/50%/70% weight PCA\n",
    "* 0%/10%/30%/50%/70% heretability"
   ]
  },
  {
   "cell_type": "code",
   "execution_count": 1,
   "id": "a75ec316-066b-4f8b-a206-0ac7bc344d8f",
   "metadata": {},
   "outputs": [],
   "source": [
    "import pandas as pd\n",
    "import os\n",
    "import glob\n",
    "import re\n",
    "import re\n",
    "import statsmodels.api as sm\n",
    "import datetime\n"
   ]
  },
  {
   "cell_type": "code",
   "execution_count": 2,
   "id": "6977a091-a7f4-4ffe-9424-88ab79b8b2fc",
   "metadata": {},
   "outputs": [],
   "source": [
    "GENETICS_PATH = \"/sci/nosnap/michall/roeizucker/covar_tests/small_genetics\"\n",
    "COVARS_PATH = \"/sci/archive/michall/roeizucker/covar_tests_non_coding_HADASSA_PLINK\"\n",
    "PLINK_PATH = \"/sci/nosnap/michall/roeizucker/plink2\"\n",
    "TEST_COVAR = \"covariates_sex_year_of_birth_AC_batch_40_PC.txt\"\n",
    "COVAR_DF_PREFIX = \"temp_covar_df\"\n",
    "VERSION = \"multi_effect_score_0.5\"\n",
    "\n",
    "RELATIVE_EFFECT_OF_PC =  0.7347749803596619\n",
    "# TODO: try to add load json for parameters"
   ]
  },
  {
   "cell_type": "code",
   "execution_count": 3,
   "id": "acb18d43-9b69-4c17-9e36-25cd4999fc22",
   "metadata": {},
   "outputs": [],
   "source": [
    "covar_df = pd.read_csv(os.path.join(COVARS_PATH,TEST_COVAR),sep=\"\\t\",header=None)"
   ]
  },
  {
   "cell_type": "code",
   "execution_count": 4,
   "id": "4b0c996e-c4c9-4690-ab03-d9e2fa733958",
   "metadata": {},
   "outputs": [],
   "source": [
    "import pandas as pd\n",
    "import glob\n",
    "import re\n",
    "\n",
    "# Define the file pattern to match your CSV files.\n",
    "file_pattern = \"temp_covar_df_v=multi_effect_score_*_her=*_cov=*.csv\"\n",
    "file_list = glob.glob(file_pattern)\n",
    "\n",
    "# Compile a regular expression to extract the numbers from the filename.\n",
    "pattern = re.compile(\n",
    "    r\"temp_covar_df_v=multi_effect_score_([0-9\\.]+)_her=([0-9\\.]+)_cov=([0-9\\.]+)\\.csv\"\n",
    ")\n",
    "\n",
    "# Dictionary to store DataFrames keyed by (multi_effect_score, her, cov)\n",
    "dfs = {}\n",
    "\n",
    "# Loop over each file in the list\n",
    "for filename in file_list:\n",
    "    match = pattern.search(filename)\n",
    "    if match:\n",
    "        # Extract the numeric values and convert them to floats.\n",
    "        multi_effect_score = float(match.group(1))\n",
    "        her = float(match.group(2))\n",
    "        cov = float(match.group(3))\n",
    "    else:\n",
    "        print(f\"Filename {filename} did not match the expected pattern.\")\n",
    "        continue  # Skip files that do not match the pattern\n",
    "\n",
    "    # Read the CSV file into a DataFrame.\n",
    "    df = pd.read_csv(filename)\n",
    "\n",
    "    # (Optional) Add columns with the extracted parameter values.\n",
    "    df[\"multi_effect_score\"] = multi_effect_score\n",
    "    df[\"her\"] = her\n",
    "    df[\"cov\"] = cov\n",
    "\n",
    "    # Use a tuple of parameters as the dictionary key.\n",
    "    key = (multi_effect_score, her, cov)\n",
    "    dfs[key] = df\n",
    "\n",
    "# Example usage: Access the DataFrame for a specific set of parameter values.\n",
    "# example_key = (0.1, 0.1, 0.1)\n",
    "# if example_key in dfs:\n",
    "#     print(f\"DataFrame for parameters {example_key}:\")\n",
    "#     print(dfs[example_key].head())\n",
    "# else:\n",
    "#     print(f\"No DataFrame found for parameters {example_key}\")\n"
   ]
  },
  {
   "cell_type": "code",
   "execution_count": null,
   "id": "f72957bd-dae9-4a80-b72a-61c6cec65f16",
   "metadata": {},
   "outputs": [],
   "source": []
  },
  {
   "cell_type": "code",
   "execution_count": 34,
   "id": "81eba1ff-86d8-44c7-a7e9-f44f4eed3648",
   "metadata": {},
   "outputs": [],
   "source": [
    "regression_results = {}\n",
    "\n",
    "# Loop over each DataFrame in the dictionary.\n",
    "for key, df in dfs.items():\n",
    "    multi_effect_score, her, cov = key\n",
    "    # Check if her + cov is less than 1.\n",
    "    if her + cov <= 1:\n",
    "        # print(key)\n",
    "        # Define predictor column names: PC1, PC2, ..., PC40.\n",
    "        pc_columns = [f\"PC{i}\" for i in range(1, 41)]\n",
    "        # Extract predictors (X) and response (Y).\n",
    "        temp_df = df.dropna()\n",
    "        X = temp_df[pc_columns]\n",
    "        y = temp_df[\"disease_indicator\"]\n",
    "\n",
    "        # Add an intercept (constant) to the model.\n",
    "        X = sm.add_constant(X)\n",
    "\n",
    "        # Fit the linear regression model.\n",
    "        model = sm.OLS(y, X).fit()\n",
    "\n",
    "        # Store the fitted model in the results dictionary.\n",
    "        regression_results[key] = model\n",
    "\n",
    "# Example: Present the regression summary for each file that met the condition.\n"
   ]
  },
  {
   "cell_type": "code",
   "execution_count": null,
   "id": "8447211f-b861-46e1-a9c8-47752c61d596",
   "metadata": {},
   "outputs": [],
   "source": []
  },
  {
   "cell_type": "code",
   "execution_count": null,
   "id": "9402827a-9587-4b9e-aa23-a6fbdfdb54a1",
   "metadata": {},
   "outputs": [],
   "source": []
  },
  {
   "cell_type": "code",
   "execution_count": 39,
   "id": "2dee9350-51d3-468b-81e2-be59a4c7a92a",
   "metadata": {},
   "outputs": [
    {
     "name": "stdout",
     "output_type": "stream",
     "text": [
      "\n",
      "Regression results for parameters (multi_effect_score, her, cov) = (0.5, 0.3, 0.0):\n",
      "\n",
      "                            OLS Regression Results                            \n",
      "==============================================================================\n",
      "Dep. Variable:      disease_indicator   R-squared:                       0.000\n",
      "Model:                            OLS   Adj. R-squared:                  0.000\n",
      "Method:                 Least Squares   F-statistic:                     2.741\n",
      "Date:                Fri, 07 Feb 2025   Prob (F-statistic):           2.12e-08\n",
      "Time:                        16:45:27   Log-Likelihood:            -4.7246e+05\n",
      "No. Observations:              332645   AIC:                         9.450e+05\n",
      "Df Residuals:                  332604   BIC:                         9.454e+05\n",
      "Df Model:                          40                                         \n",
      "Covariance Type:            nonrobust                                         \n",
      "==============================================================================\n",
      "                 coef    std err          t      P>|t|      [0.025      0.975]\n",
      "------------------------------------------------------------------------------\n",
      "const       -123.8771      0.014  -8742.431      0.000    -123.905    -123.849\n",
      "PC1           -0.0005      0.001     -0.401      0.688      -0.003       0.002\n",
      "PC2            0.0024      0.001      2.028      0.043    8.08e-05       0.005\n",
      "PC3            0.0026      0.001      2.231      0.026       0.000       0.005\n",
      "PC4           -0.0011      0.001     -1.261      0.207      -0.003       0.001\n",
      "PC5            0.0002      0.000      0.480      0.631      -0.001       0.001\n",
      "PC6            0.0009      0.001      0.794      0.427      -0.001       0.003\n",
      "PC7           -0.0011      0.001     -1.121      0.262      -0.003       0.001\n",
      "PC8        -1.219e-05      0.001     -0.012      0.990      -0.002       0.002\n",
      "PC9           -0.0018      0.000     -4.459      0.000      -0.003      -0.001\n",
      "PC10          -0.0010      0.001     -1.017      0.309      -0.003       0.001\n",
      "PC11        8.557e-05      0.001      0.122      0.903      -0.001       0.001\n",
      "PC12          -0.0001      0.001     -0.140      0.889      -0.002       0.002\n",
      "PC13           0.0025      0.001      2.359      0.018       0.000       0.005\n",
      "PC14          -0.0010      0.001     -1.720      0.085      -0.002       0.000\n",
      "PC15           0.0006      0.001      0.642      0.521      -0.001       0.003\n",
      "PC16           0.0004      0.001      0.701      0.483      -0.001       0.002\n",
      "PC17        1.307e-05      0.001      0.015      0.988      -0.002       0.002\n",
      "PC18          -0.0004      0.001     -0.614      0.539      -0.002       0.001\n",
      "PC19           0.0003      0.001      0.577      0.564      -0.001       0.002\n",
      "PC20           0.0004      0.001      0.698      0.485      -0.001       0.002\n",
      "PC21        3.543e-05      0.001      0.056      0.955      -0.001       0.001\n",
      "PC22           0.0002      0.001      0.382      0.703      -0.001       0.001\n",
      "PC23          -0.0005      0.001     -0.884      0.377      -0.002       0.001\n",
      "PC24          -0.0007      0.001     -1.082      0.279      -0.002       0.001\n",
      "PC25           0.0011      0.001      1.736      0.083      -0.000       0.002\n",
      "PC26          -0.0011      0.001     -1.724      0.085      -0.002       0.000\n",
      "PC27          -0.0013      0.001     -2.093      0.036      -0.003    -8.4e-05\n",
      "PC28           0.0010      0.001      1.513      0.130      -0.000       0.002\n",
      "PC29           0.0018      0.001      2.773      0.006       0.001       0.003\n",
      "PC30           0.0023      0.001      3.700      0.000       0.001       0.004\n",
      "PC31           0.0008      0.001      1.234      0.217      -0.000       0.002\n",
      "PC32           0.0010      0.001      1.584      0.113      -0.000       0.002\n",
      "PC33        8.244e-05      0.001      0.132      0.895      -0.001       0.001\n",
      "PC34          -0.0010      0.001     -1.534      0.125      -0.002       0.000\n",
      "PC35          -0.0020      0.001     -3.209      0.001      -0.003      -0.001\n",
      "PC36          -0.0021      0.001     -3.427      0.001      -0.003      -0.001\n",
      "PC37           0.0005      0.001      0.796      0.426      -0.001       0.002\n",
      "PC38        4.231e-05      0.001      0.068      0.946      -0.001       0.001\n",
      "PC39           0.0005      0.001      0.886      0.375      -0.001       0.002\n",
      "PC40          -0.0001      0.001     -0.232      0.817      -0.001       0.001\n",
      "==============================================================================\n",
      "Omnibus:                       55.138   Durbin-Watson:                   2.003\n",
      "Prob(Omnibus):                  0.000   Jarque-Bera (JB):               55.168\n",
      "Skew:                           0.031   Prob(JB):                     1.05e-12\n",
      "Kurtosis:                       2.995   Cond. No.                         109.\n",
      "==============================================================================\n",
      "\n",
      "Notes:\n",
      "[1] Standard Errors assume that the covariance matrix of the errors is correctly specified.\n"
     ]
    }
   ],
   "source": [
    "for params, model in regression_results.items():\n",
    "    print(f\"\\nRegression results for parameters (multi_effect_score, her, cov) = {params}:\\n\")\n",
    "    print(model.summary())\n",
    "    # break\n"
   ]
  },
  {
   "cell_type": "code",
   "execution_count": 36,
   "id": "6924facb-1a32-4191-91d5-03fd0cb538dc",
   "metadata": {},
   "outputs": [],
   "source": [
    "results = []\n",
    "columns = [\"ver\",\"her\",\"cov\",\"r_sq\",'const'] + [\"PC\" + str(i) for i in range(1,41)] \n",
    "for params, model in regression_results.items():\n",
    "    # if params[0] == 0.2 and params[1] == 0.7:\n",
    "    # print(f\"For parameters (ver, her, cov) = {params}:\")\n",
    "    # print(f\"R-squared: {model.rsquared:.3f}\")\n",
    "    # print(f\"expected effect: {(RELATIVE_EFFECT_OF_PC * params[2])**2:.6f}\")\n",
    "    # print(model.params)\n",
    "    ver = params[0]\n",
    "    her = params[1]\n",
    "    cov = params[2]\n",
    "    r_sq = model.rsquared\n",
    "    coefs = list(model.params)\n",
    "    \n",
    "    values = [ver,her,cov,r_sq] + coefs\n",
    "    results.append(values)\n",
    "    # print(dir(model))"
   ]
  },
  {
   "cell_type": "code",
   "execution_count": 37,
   "id": "46ac05be-8a0d-4fe8-b7d9-7b0a4c0f4ba5",
   "metadata": {},
   "outputs": [],
   "source": [
    "df = pd.DataFrame(results,columns=columns)\n",
    "\n",
    "x = str(datetime.datetime.now())\n",
    "df.to_csv(f\"regression_results_{VERSION}_{x}.csv\")"
   ]
  },
  {
   "cell_type": "code",
   "execution_count": 38,
   "id": "c6e61b52-5cbc-48a6-8e79-29baefec0740",
   "metadata": {},
   "outputs": [
    {
     "name": "stdout",
     "output_type": "stream",
     "text": [
      "ver 0.1 cov 0 mean_rseq nan\n",
      "ver 0.1 cov 0.1 mean_rseq nan\n",
      "ver 0.1 cov 0.2 mean_rseq nan\n",
      "ver 0.1 cov 0.3 mean_rseq nan\n",
      "ver 0.1 cov 0.5 mean_rseq nan\n",
      "ver 0.1 cov 0.7 mean_rseq nan\n",
      "ver 0.2 cov 0 mean_rseq nan\n",
      "ver 0.2 cov 0.1 mean_rseq nan\n",
      "ver 0.2 cov 0.2 mean_rseq nan\n",
      "ver 0.2 cov 0.3 mean_rseq nan\n",
      "ver 0.2 cov 0.5 mean_rseq nan\n",
      "ver 0.2 cov 0.7 mean_rseq nan\n",
      "ver 0.3 cov 0 mean_rseq nan\n",
      "ver 0.3 cov 0.1 mean_rseq nan\n",
      "ver 0.3 cov 0.2 mean_rseq nan\n",
      "ver 0.3 cov 0.3 mean_rseq nan\n",
      "ver 0.3 cov 0.5 mean_rseq nan\n",
      "ver 0.3 cov 0.7 mean_rseq nan\n"
     ]
    }
   ],
   "source": [
    "versions = [0.1,0.2,0.3]\n",
    "COVARIATE_SCORES = [0,0.1,0.2,0.3,0.5,0.7]\n",
    "for ver in versions:\n",
    "    for cov in COVARIATE_SCORES:\n",
    "        print(\"ver\",ver,\"cov\",cov,\"mean_rseq\",df[(df[\"ver\"] == ver) & (df[\"cov\"] == cov)][\"r_sq\"].mean())"
   ]
  },
  {
   "cell_type": "code",
   "execution_count": 11,
   "id": "025567c2-29c5-4dd5-a1ff-583586c96a95",
   "metadata": {},
   "outputs": [
    {
     "name": "stdout",
     "output_type": "stream",
     "text": [
      "cov  0.0  0.1  0.2  0.3  0.5  0.7\n",
      "ver                              \n",
      "0.5  NaN  NaN  NaN  NaN  NaN  NaN\n"
     ]
    }
   ],
   "source": [
    "conf_matrix = df.groupby(['ver', 'cov'])['r_sq'].mean().unstack('cov')\n",
    "print(conf_matrix)"
   ]
  }
 ],
 "metadata": {
  "kernelspec": {
   "display_name": "Python 3 (ipykernel)",
   "language": "python",
   "name": "python3"
  },
  "language_info": {
   "codemirror_mode": {
    "name": "ipython",
    "version": 3
   },
   "file_extension": ".py",
   "mimetype": "text/x-python",
   "name": "python",
   "nbconvert_exporter": "python",
   "pygments_lexer": "ipython3",
   "version": "3.11.2"
  }
 },
 "nbformat": 4,
 "nbformat_minor": 5
}
