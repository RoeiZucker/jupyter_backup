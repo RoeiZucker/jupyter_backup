{
 "cells": [
  {
   "cell_type": "markdown",
   "id": "38a63d44-0965-4e51-b92f-8b9885559337",
   "metadata": {},
   "source": [
    "# PCA predictions using logistic regression\n",
    "to show that the added genetic data does not add much to the PCA we need to apply regression on the PCA values to the phenotype and show that the explenability is not too good"
   ]
  },
  {
   "cell_type": "markdown",
   "id": "c2ac27fa-8d5f-4968-aa14-fba14e033dae",
   "metadata": {},
   "source": [
    "perform analysis on phenotypes produced with:\n",
    "* 0%/10%/30%/50%/70% weight PCA\n",
    "* 0%/10%/30%/50%/70% heretability"
   ]
  },
  {
   "cell_type": "code",
   "execution_count": 6,
   "id": "a75ec316-066b-4f8b-a206-0ac7bc344d8f",
   "metadata": {},
   "outputs": [],
   "source": [
    "import pandas as pd\n",
    "import os"
   ]
  },
  {
   "cell_type": "code",
   "execution_count": 4,
   "id": "6977a091-a7f4-4ffe-9424-88ab79b8b2fc",
   "metadata": {},
   "outputs": [],
   "source": [
    "GENETICS_PATH = \"/sci/nosnap/michall/roeizucker/covar_tests/small_genetics\"\n",
    "COVARS_PATH = \"/sci/archive/michall/roeizucker/covar_tests_non_coding_HADASSA_PLINK\"\n",
    "PLINK_PATH = \"/sci/nosnap/michall/roeizucker/plink2\"\n",
    "TEST_COVAR = \"covariates_sex_year_of_birth_AC_batch_40_PC.txt\"\n",
    "\n",
    "COVAR_FILES_LIST = [\n",
    "    TEST_COVAR\n",
    "]"
   ]
  },
  {
   "cell_type": "code",
   "execution_count": 7,
   "id": "acb18d43-9b69-4c17-9e36-25cd4999fc22",
   "metadata": {},
   "outputs": [],
   "source": [
    "covar_df = pd.read_csv(os.path.join(COVARS_PATH,TEST_COVAR),sep=\"\\t\",header=None)"
   ]
  },
  {
   "cell_type": "code",
   "execution_count": null,
   "id": "4b0c996e-c4c9-4690-ab03-d9e2fa733958",
   "metadata": {},
   "outputs": [],
   "source": []
  }
 ],
 "metadata": {
  "kernelspec": {
   "display_name": "Python 3 (ipykernel)",
   "language": "python",
   "name": "python3"
  },
  "language_info": {
   "codemirror_mode": {
    "name": "ipython",
    "version": 3
   },
   "file_extension": ".py",
   "mimetype": "text/x-python",
   "name": "python",
   "nbconvert_exporter": "python",
   "pygments_lexer": "ipython3",
   "version": "3.11.2"
  }
 },
 "nbformat": 4,
 "nbformat_minor": 5
}
