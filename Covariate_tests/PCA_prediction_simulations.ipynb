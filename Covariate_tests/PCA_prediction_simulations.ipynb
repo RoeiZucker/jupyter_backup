{
 "cells": [
  {
   "cell_type": "markdown",
   "id": "38a63d44-0965-4e51-b92f-8b9885559337",
   "metadata": {},
   "source": [
    "# PCA predictions using logistic regression\n",
    "to show that the added genetic data does not add much to the PCA we need to apply regression on the PCA values to the phenotype and show that the explenability is not too good"
   ]
  },
  {
   "cell_type": "markdown",
   "id": "c2ac27fa-8d5f-4968-aa14-fba14e033dae",
   "metadata": {},
   "source": [
    "perform analysis on phenotypes produced with:\n",
    "* 0%/10%/30%/50%/70% weight PCA\n",
    "* 0%/10%/30%/50%/70% heretability"
   ]
  },
  {
   "cell_type": "code",
   "execution_count": 20,
   "id": "a75ec316-066b-4f8b-a206-0ac7bc344d8f",
   "metadata": {},
   "outputs": [],
   "source": [
    "import pandas as pd\n",
    "import os\n",
    "import glob\n",
    "import re\n",
    "import re\n",
    "import statsmodels.api as sm\n"
   ]
  },
  {
   "cell_type": "code",
   "execution_count": 50,
   "id": "6977a091-a7f4-4ffe-9424-88ab79b8b2fc",
   "metadata": {},
   "outputs": [],
   "source": [
    "GENETICS_PATH = \"/sci/nosnap/michall/roeizucker/covar_tests/small_genetics\"\n",
    "COVARS_PATH = \"/sci/archive/michall/roeizucker/covar_tests_non_coding_HADASSA_PLINK\"\n",
    "PLINK_PATH = \"/sci/nosnap/michall/roeizucker/plink2\"\n",
    "TEST_COVAR = \"covariates_sex_year_of_birth_AC_batch_40_PC.txt\"\n",
    "COVAR_DF_PREFIX = \"temp_covar_df\"\n",
    "RELATIVE_EFFECT_OF_PC =  0.7347749803596619\n",
    "# TODO: try to add load json for parameters"
   ]
  },
  {
   "cell_type": "code",
   "execution_count": 7,
   "id": "acb18d43-9b69-4c17-9e36-25cd4999fc22",
   "metadata": {},
   "outputs": [],
   "source": [
    "covar_df = pd.read_csv(os.path.join(COVARS_PATH,TEST_COVAR),sep=\"\\t\",header=None)"
   ]
  },
  {
   "cell_type": "code",
   "execution_count": 36,
   "id": "4b0c996e-c4c9-4690-ab03-d9e2fa733958",
   "metadata": {},
   "outputs": [],
   "source": [
    "import pandas as pd\n",
    "import glob\n",
    "import re\n",
    "\n",
    "# Define the file pattern to match your CSV files.\n",
    "file_pattern = \"temp_covar_df_v=multi_effect_score_*_her=*_cov=*.csv\"\n",
    "file_list = glob.glob(file_pattern)\n",
    "\n",
    "# Compile a regular expression to extract the numbers from the filename.\n",
    "pattern = re.compile(\n",
    "    r\"temp_covar_df_v=multi_effect_score_([0-9\\.]+)_her=([0-9\\.]+)_cov=([0-9\\.]+)\\.csv\"\n",
    ")\n",
    "\n",
    "# Dictionary to store DataFrames keyed by (multi_effect_score, her, cov)\n",
    "dfs = {}\n",
    "\n",
    "# Loop over each file in the list\n",
    "for filename in file_list:\n",
    "    match = pattern.search(filename)\n",
    "    if match:\n",
    "        # Extract the numeric values and convert them to floats.\n",
    "        multi_effect_score = float(match.group(1))\n",
    "        her = float(match.group(2))\n",
    "        cov = float(match.group(3))\n",
    "    else:\n",
    "        print(f\"Filename {filename} did not match the expected pattern.\")\n",
    "        continue  # Skip files that do not match the pattern\n",
    "\n",
    "    # Read the CSV file into a DataFrame.\n",
    "    df = pd.read_csv(filename)\n",
    "\n",
    "    # (Optional) Add columns with the extracted parameter values.\n",
    "    df[\"multi_effect_score\"] = multi_effect_score\n",
    "    df[\"her\"] = her\n",
    "    df[\"cov\"] = cov\n",
    "\n",
    "    # Use a tuple of parameters as the dictionary key.\n",
    "    key = (multi_effect_score, her, cov)\n",
    "    dfs[key] = df\n",
    "\n",
    "# Example usage: Access the DataFrame for a specific set of parameter values.\n",
    "# example_key = (0.1, 0.1, 0.1)\n",
    "# if example_key in dfs:\n",
    "#     print(f\"DataFrame for parameters {example_key}:\")\n",
    "#     print(dfs[example_key].head())\n",
    "# else:\n",
    "#     print(f\"No DataFrame found for parameters {example_key}\")\n"
   ]
  },
  {
   "cell_type": "code",
   "execution_count": 37,
   "id": "f72957bd-dae9-4a80-b72a-61c6cec65f16",
   "metadata": {},
   "outputs": [
    {
     "data": {
      "text/plain": [
       "['temp_covar_df_v=multi_effect_score_0.1_her=0.5_cov=0.2.csv',\n",
       " 'temp_covar_df_v=multi_effect_score_0.1_her=0.2_cov=0.csv',\n",
       " 'temp_covar_df_v=multi_effect_score_0.2_her=0.3_cov=0.2.csv',\n",
       " 'temp_covar_df_v=multi_effect_score_0.1_her=0.1_cov=0.5.csv',\n",
       " 'temp_covar_df_v=multi_effect_score_0.2_her=0.1_cov=0.1.csv',\n",
       " 'temp_covar_df_v=multi_effect_score_0.1_her=0_cov=0.3.csv',\n",
       " 'temp_covar_df_v=multi_effect_score_0.2_her=0.1_cov=0.2.csv',\n",
       " 'temp_covar_df_v=multi_effect_score_0.2_her=0.3_cov=0.1.csv',\n",
       " 'temp_covar_df_v=multi_effect_score_0.2_her=0.3_cov=0.5.csv',\n",
       " 'temp_covar_df_v=multi_effect_score_0.1_her=0_cov=0.7.csv',\n",
       " 'temp_covar_df_v=multi_effect_score_0.2_her=0.2_cov=0.1.csv',\n",
       " 'temp_covar_df_v=multi_effect_score_0.1_her=0.3_cov=0.2.csv',\n",
       " 'temp_covar_df_v=multi_effect_score_0.1_her=0.5_cov=0.5.csv',\n",
       " 'temp_covar_df_v=multi_effect_score_0.1_her=0.1_cov=0.1.csv',\n",
       " 'temp_covar_df_v=multi_effect_score_0.2_her=0.7_cov=0.1.csv',\n",
       " 'temp_covar_df_v=multi_effect_score_0.1_her=0.5_cov=0.csv',\n",
       " 'temp_covar_df_v=multi_effect_score_0.2_her=0.2_cov=0.csv',\n",
       " 'temp_covar_df_v=multi_effect_score_0.2_her=0.5_cov=0.2.csv',\n",
       " 'temp_covar_df_v=multi_effect_score_0.1_her=0.2_cov=0.3.csv',\n",
       " 'temp_covar_df_v=multi_effect_score_0.1_her=0_cov=0.5.csv',\n",
       " 'temp_covar_df_v=multi_effect_score_0.2_her=0_cov=0.csv',\n",
       " 'temp_covar_df_v=multi_effect_score_0.1_her=0.2_cov=0.7.csv',\n",
       " 'temp_covar_df_v=multi_effect_score_0.2_her=0.3_cov=0.3.csv',\n",
       " 'temp_covar_df_v=multi_effect_score_0.1_her=0.1_cov=0.2.csv',\n",
       " 'temp_covar_df_v=multi_effect_score_0.2_her=0_cov=0.3.csv',\n",
       " 'temp_covar_df_v=multi_effect_score_0.1_her=0.7_cov=0.2.csv',\n",
       " 'temp_covar_df_v=multi_effect_score_0.1_her=0.7_cov=0.5.csv',\n",
       " 'temp_covar_df_v=multi_effect_score_0.2_her=0.3_cov=0.7.csv',\n",
       " 'temp_covar_df_v=multi_effect_score_0.2_her=0.3_cov=0.csv',\n",
       " 'temp_covar_df_v=multi_effect_score_0.2_her=0.5_cov=0.3.csv',\n",
       " 'temp_covar_df_v=multi_effect_score_0.2_her=0.7_cov=0.2.csv',\n",
       " 'temp_covar_df_v=multi_effect_score_0.2_her=0.2_cov=0.2.csv',\n",
       " 'temp_covar_df_v=multi_effect_score_0.2_her=0.5_cov=0.5.csv',\n",
       " 'temp_covar_df_v=multi_effect_score_0.2_her=0.2_cov=0.7.csv',\n",
       " 'temp_covar_df_v=multi_effect_score_0.1_her=0.3_cov=0.3.csv',\n",
       " 'temp_covar_df_v=multi_effect_score_0.1_her=0.1_cov=0.7.csv',\n",
       " 'temp_covar_df_v=multi_effect_score_0.2_her=0.1_cov=0.csv',\n",
       " 'temp_covar_df_v=multi_effect_score_0.2_her=0.1_cov=0.7.csv',\n",
       " 'temp_covar_df_v=multi_effect_score_0.2_her=0_cov=0.5.csv',\n",
       " 'temp_covar_df_v=multi_effect_score_0.2_her=0_cov=0.1.csv',\n",
       " 'temp_covar_df_v=multi_effect_score_0.2_her=0.1_cov=0.5.csv',\n",
       " 'temp_covar_df_v=multi_effect_score_0.1_her=0_cov=0.2.csv',\n",
       " 'temp_covar_df_v=multi_effect_score_0.1_her=0.2_cov=0.5.csv',\n",
       " 'temp_covar_df_v=multi_effect_score_0.2_her=0.7_cov=0.5.csv',\n",
       " 'temp_covar_df_v=multi_effect_score_0.1_her=0.3_cov=0.csv',\n",
       " 'temp_covar_df_v=multi_effect_score_0.1_her=0.7_cov=0.1.csv',\n",
       " 'temp_covar_df_v=multi_effect_score_0.2_her=0.5_cov=0.7.csv',\n",
       " 'temp_covar_df_v=multi_effect_score_0.1_her=0.7_cov=0.3.csv',\n",
       " 'temp_covar_df_v=multi_effect_score_0.1_her=0.2_cov=0.1.csv',\n",
       " 'temp_covar_df_v=multi_effect_score_0.1_her=0.5_cov=0.1.csv',\n",
       " 'temp_covar_df_v=multi_effect_score_0.2_her=0.7_cov=0.3.csv',\n",
       " 'temp_covar_df_v=multi_effect_score_0.1_her=0.3_cov=0.5.csv',\n",
       " 'temp_covar_df_v=multi_effect_score_0.1_her=0.5_cov=0.7.csv',\n",
       " 'temp_covar_df_v=multi_effect_score_0.1_her=0.1_cov=0.3.csv',\n",
       " 'temp_covar_df_v=multi_effect_score_0.2_her=0_cov=0.7.csv',\n",
       " 'temp_covar_df_v=multi_effect_score_0.1_her=0.5_cov=0.3.csv',\n",
       " 'temp_covar_df_v=multi_effect_score_0.1_her=0.1_cov=0.csv',\n",
       " 'temp_covar_df_v=multi_effect_score_0.2_her=0.5_cov=0.1.csv',\n",
       " 'temp_covar_df_v=multi_effect_score_0.1_her=0_cov=0.1.csv',\n",
       " 'temp_covar_df_v=multi_effect_score_0.1_her=0_cov=0.csv',\n",
       " 'temp_covar_df_v=multi_effect_score_0.2_her=0_cov=0.2.csv',\n",
       " 'temp_covar_df_v=multi_effect_score_0.2_her=0.1_cov=0.3.csv',\n",
       " 'temp_covar_df_v=multi_effect_score_0.1_her=0.7_cov=0.csv',\n",
       " 'temp_covar_df_v=multi_effect_score_0.2_her=0.7_cov=0.csv',\n",
       " 'temp_covar_df_v=multi_effect_score_0.1_her=0.3_cov=0.7.csv',\n",
       " 'temp_covar_df_v=multi_effect_score_0.2_her=0.2_cov=0.3.csv',\n",
       " 'temp_covar_df_v=multi_effect_score_0.1_her=0.7_cov=0.7.csv',\n",
       " 'temp_covar_df_v=multi_effect_score_0.1_her=0.2_cov=0.2.csv',\n",
       " 'temp_covar_df_v=multi_effect_score_0.2_her=0.7_cov=0.7.csv',\n",
       " 'temp_covar_df_v=multi_effect_score_0.2_her=0.5_cov=0.csv',\n",
       " 'temp_covar_df_v=multi_effect_score_0.1_her=0.3_cov=0.1.csv',\n",
       " 'temp_covar_df_v=multi_effect_score_0.2_her=0.2_cov=0.5.csv']"
      ]
     },
     "execution_count": 37,
     "metadata": {},
     "output_type": "execute_result"
    }
   ],
   "source": [
    "file_list"
   ]
  },
  {
   "cell_type": "code",
   "execution_count": 56,
   "id": "81eba1ff-86d8-44c7-a7e9-f44f4eed3648",
   "metadata": {},
   "outputs": [],
   "source": [
    "regression_results = {}\n",
    "\n",
    "# Loop over each DataFrame in the dictionary.\n",
    "for key, df in dfs.items():\n",
    "    multi_effect_score, her, cov = key\n",
    "    # Check if her + cov is less than 1.\n",
    "    if her + cov <= 1:\n",
    "        # print(key)\n",
    "        # Define predictor column names: PC1, PC2, ..., PC40.\n",
    "        pc_columns = [f\"PC{i}\" for i in range(1, 41)]\n",
    "        # Extract predictors (X) and response (Y).\n",
    "        X = df[pc_columns]\n",
    "        y = df[\"disease_indicator\"]\n",
    "\n",
    "        # Add an intercept (constant) to the model.\n",
    "        X = sm.add_constant(X)\n",
    "\n",
    "        # Fit the linear regression model.\n",
    "        model = sm.OLS(y, X).fit()\n",
    "\n",
    "        # Store the fitted model in the results dictionary.\n",
    "        regression_results[key] = model\n",
    "\n",
    "# Example: Present the regression summary for each file that met the condition.\n"
   ]
  },
  {
   "cell_type": "code",
   "execution_count": 34,
   "id": "2dee9350-51d3-468b-81e2-be59a4c7a92a",
   "metadata": {},
   "outputs": [],
   "source": [
    "# for params, model in regression_results.items():\n",
    "#     print(f\"\\nRegression results for parameters (multi_effect_score, her, cov) = {params}:\\n\")\n",
    "#     print(model.summary())"
   ]
  },
  {
   "cell_type": "code",
   "execution_count": 55,
   "id": "6924facb-1a32-4191-91d5-03fd0cb538dc",
   "metadata": {},
   "outputs": [
    {
     "name": "stdout",
     "output_type": "stream",
     "text": [
      "For parameters (multi_effect_score, her, cov) = (0.2, 0.7, 0.1):\n",
      "R-squared: 0.013\n",
      "expected effect: 0.005399\n",
      "\n",
      "For parameters (multi_effect_score, her, cov) = (0.2, 0.7, 0.2):\n",
      "R-squared: 0.026\n",
      "expected effect: 0.021596\n",
      "\n",
      "For parameters (multi_effect_score, her, cov) = (0.2, 0.7, 0.0):\n",
      "R-squared: 0.000\n",
      "expected effect: 0.000000\n",
      "\n"
     ]
    }
   ],
   "source": [
    "for params, model in regression_results.items():\n",
    "    if params[0] == 0.2 and params[1] == 0.7:\n",
    "        print(f\"For parameters (multi_effect_score, her, cov) = {params}:\")\n",
    "        print(f\"R-squared: {model.rsquared:.3f}\")\n",
    "        print(f\"expected effect: {(RELATIVE_EFFECT_OF_PC * params[2])**2:.6f}\")\n",
    "        print()"
   ]
  }
 ],
 "metadata": {
  "kernelspec": {
   "display_name": "Python 3 (ipykernel)",
   "language": "python",
   "name": "python3"
  },
  "language_info": {
   "codemirror_mode": {
    "name": "ipython",
    "version": 3
   },
   "file_extension": ".py",
   "mimetype": "text/x-python",
   "name": "python",
   "nbconvert_exporter": "python",
   "pygments_lexer": "ipython3",
   "version": "3.11.2"
  }
 },
 "nbformat": 4,
 "nbformat_minor": 5
}
