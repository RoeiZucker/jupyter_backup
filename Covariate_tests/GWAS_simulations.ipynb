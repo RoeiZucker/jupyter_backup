{
 "cells": [
  {
   "cell_type": "code",
   "execution_count": 71,
   "id": "654b867b-a336-4b3a-ab08-b4c443109b26",
   "metadata": {},
   "outputs": [],
   "source": [
    "import numpy as np\n",
    "import pandas as pd\n",
    "import os\n",
    "from pandas_plink import read_plink\n",
    "import pandas_plink as pdp\n",
    "from pandas_plink import get_data_folder\n",
    "import random\n",
    "import json\n",
    "from IPython.display import clear_output\n"
   ]
  },
  {
   "cell_type": "code",
   "execution_count": 2,
   "id": "a69e1b4a-f93b-46fd-ac73-9154e7434f2a",
   "metadata": {},
   "outputs": [],
   "source": [
    "# select variants randomly\n",
    "# select variants by rarity\n",
    "# use linear calculation\n",
    "# use non linear calculation\n",
    "# with/without PC\n",
    "# how rare should the phenotype be - like an existing one\n",
    "# create syntetic covariates"
   ]
  },
  {
   "cell_type": "code",
   "execution_count": 68,
   "id": "a6c841dc-da9a-464c-89a5-ae8e08096172",
   "metadata": {},
   "outputs": [],
   "source": [
    "GENETICS_PATH = \"/sci/nosnap/michall/roeizucker/covar_tests/small_genetics\"\n",
    "COVARS_PATH = \"/sci/archive/michall/roeizucker/covar_tests_non_coding_HADASSA_PLINK\"\n",
    "PLINK_PATH = \"/sci/nosnap/michall/roeizucker/plink2\"\n",
    "TEST_COVAR = \"covariates_sex_year_of_birth_AC_batch_40_PC.txt\"\n",
    "# TEST_CHROM = \"chr22_filtered_mafe-2_hwee-10_geno_02_random_001pct\"\n",
    "TEST_CHROM = \"chr22_filtered_mafe-2_hwee-10_geno_02_random_01pct\"\n",
    "PLINK_RESULT_PATH = \"/sci/archive/michall/roeizucker/covar_tests_non_coding_HADASSA_PLINK/results/chr22_very_reduced_simulation\"\n",
    "PLINK_RESULT_DIR = \"/sci/archive/michall/roeizucker/covar_tests_non_coding_HADASSA_PLINK/results/\"\n",
    "PHENOTYPE_FILE_RESULT_PATH = \"/sci/archive/michall/roeizucker/covar_tests_non_coding_HADASSA_PLINK/phenotypes/generated_phen.txt\"\n",
    "PERSON_BATCH_SIZE = 20\n",
    "\n",
    "VERSION = \"with_yob_1\"\n",
    "INCLUDED_COVARS = [\"sex\",\"year_of_birth\",\"AC\",\"batch\"]\n",
    "AC_VALS = ['AC_stockport_pilot','AC_manchester','AC_oxford','AC_cardiff','AC_glasgow','AC_edinburgh','AC_stoke','AC_reading','AC_bury','AC_newcastle','AC_bristol','AC_barts','AC_nottingham','AC_sheffield','AC_liverpool','AC_middlesborough','AC_hounslow','AC_croydon','AC_birmingham','AC_swansea','AC_wrexham','AC_cheadle_revisit','AC_cheadle_imaging','AC_reading_imaging','AC_newcastle_imaging']\n",
    "BATCH_VALS = ['batch_Batch_b001','batch_Batch_b002','batch_Batch_b003','batch_Batch_b004','batch_Batch_b005','batch_Batch_b006','batch_Batch_b007','batch_Batch_b008','batch_Batch_b009','batch_Batch_b010','batch_Batch_b011','batch_Batch_b012','batch_Batch_b013','batch_Batch_b014','batch_Batch_b015','batch_Batch_b016','batch_Batch_b017','batch_Batch_b018','batch_Batch_b019','batch_Batch_b020','batch_Batch_b021','batch_Batch_b022','batch_Batch_b023','batch_Batch_b024','batch_Batch_b025','batch_Batch_b026','batch_Batch_b027','batch_Batch_b028','batch_Batch_b029','batch_Batch_b030','batch_Batch_b031','batch_Batch_b032','batch_Batch_b033','batch_Batch_b034','batch_Batch_b035','batch_Batch_b036','batch_Batch_b037','batch_Batch_b038','batch_Batch_b039','batch_Batch_b040','batch_Batch_b041','batch_Batch_b042','batch_Batch_b043','batch_Batch_b044','batch_Batch_b045','batch_Batch_b046','batch_Batch_b047','batch_Batch_b048','batch_Batch_b049','batch_Batch_b050','batch_Batch_b051','batch_Batch_b052','batch_Batch_b053','batch_Batch_b054','batch_Batch_b055','batch_Batch_b056','batch_Batch_b057','batch_Batch_b058','batch_Batch_b059','batch_Batch_b060','batch_Batch_b061','batch_Batch_b062','batch_Batch_b063','batch_Batch_b064','batch_Batch_b065','batch_Batch_b066','batch_Batch_b067','batch_Batch_b068','batch_Batch_b069','batch_Batch_b070','batch_Batch_b071','batch_Batch_b072','batch_Batch_b073','batch_Batch_b074','batch_Batch_b075','batch_Batch_b076','batch_Batch_b077','batch_Batch_b078','batch_Batch_b079','batch_Batch_b080','batch_Batch_b081','batch_Batch_b082','batch_Batch_b083','batch_Batch_b084','batch_Batch_b085','batch_Batch_b086','batch_Batch_b087','batch_Batch_b088','batch_Batch_b089','batch_Batch_b090','batch_Batch_b091','batch_Batch_b092','batch_Batch_b093','batch_Batch_b094','batch_Batch_b095','batch_UKBiLEVEAX_b1','batch_UKBiLEVEAX_b10','batch_UKBiLEVEAX_b11','batch_UKBiLEVEAX_b3','batch_UKBiLEVEAX_b4','batch_UKBiLEVEAX_b5','batch_UKBiLEVEAX_b6','batch_UKBiLEVEAX_b7','batch_UKBiLEVEAX_b8','batch_UKBiLEVEAX_b9']\n",
    "ALL_COVARS = INCLUDED_COVARS[:-2] + AC_VALS + BATCH_VALS\n",
    "NUM_PC = 40\n",
    "for i in range(NUM_PC):\n",
    "    ALL_COVARS.append(f\"PC{i+1}\")\n",
    "YOB_SUBTRACTOR = 1880\n",
    "YOB_DEVIDOR = 100\n",
    "\n",
    "\n",
    "# phenotype generation constants\n",
    "TARGET_VARIANCE = 1\n",
    "DISEASE_PREVELANCE = 0.05\n",
    "PHENOTYPE_DIR_RESULT_PATH = \"/sci/archive/michall/roeizucker/covar_tests_non_coding_HADASSA_PLINK/phenotypes/\"\n",
    "INCLUDE_COVAR = True\n",
    "AC_EFFECT_SCORE = 1\n",
    "BATCH_EFFECT_SCORE = 1\n",
    "\n",
    "\n",
    "# do a logistic regression between PC and phenotype, to show that snps \n",
    "# do not effect through population structure\n",
    "SEX_EFFECT = 3\n",
    "YOB_EFFECT = 1\n",
    "PC_EFFECT_MAX = 0.01\n",
    "\n",
    "# COVAR_GENETIC_EFFECT_RATIO = 2\n",
    "HERETEBILITY = 0.2\n",
    "COVAR_EFFECT = 0.5\n",
    "# TODO change the name and function to heretibility to heretibility\n",
    "# heretibility is the variance of the genetics / (var genetcis + var covar)\n",
    "\n",
    "AC_EFFECT = [AC_EFFECT_SCORE]*len(AC_VALS)\n",
    "BATCH_EFFECT = [BATCH_EFFECT_SCORE]*len(BATCH_VALS)\n",
    "# add PC stratagy\n",
    "PC_EFFECT = list(np.arange(PC_EFFECT_MAX,0,-PC_EFFECT_MAX/NUM_PC))\n",
    "COVAR_EFFECTS = [SEX_EFFECT,YOB_EFFECT] + AC_EFFECT + BATCH_EFFECT + PC_EFFECT\n",
    "COVAR_EFFECTS_DEVIDOR = 50 # used to reduce the effect of covaraites, can be avoided if provided covariate effects are smaller\n",
    "\n",
    "# TODO: change to work as beta.\n",
    "# create a function that accepts a vector of Betas and a flag if its binary/continues and add an option for covariates\n",
    "# If its binary, add prevelance considiration\n",
    "# for a person J the score for J is the sum over all betas of SNPS * the number of alleles. \n",
    "# add a noise so that the variance of phenotype will be 1 (adding noise using 1-sigma) call this Yj\n",
    "# to do so calculate overall variance after simulation, and add a noise with 1- the variance (make sure that the genetic + covar variance is below 1)\n",
    "# in continues state, use Yj as phenotype (maybe mul by a constant)\n",
    "# in binary state the same, need to do a logit (sigmuid and then threashold or just threshold) transformation. detarmine the threshold so that X% of the population are sick\n",
    "# another way, in the binary state instead of noise can do a bernuli on the result of the sigmuid (a value between 0 and 1)\n",
    "# the covariats can be treated the same way the betas are used\n",
    "# read about genetic architucture, compare covariates and betas effect.\n",
    "# the aggregative effect of snps should be larger, but the effect of a single snp should be smaller.\n",
    "\n",
    "# look at GWAS catalog, use a table from there for a specific disease and take their betas (find out how to calculate beta from OR)\n",
    "\n",
    "# variant parameter\n",
    "NUMBER_OF_MAJOR_VARIANTS = 10 * 5\n",
    "NUMBER_OF_MEDIUM_VARIANTS = 10 * 5\n",
    "NUMBER_OF_LESSER_VARIANTS = 25 * 5\n",
    "\n",
    "MAJOR_VARIANT_EFFECT = 0.05\n",
    "MEDIUM_VARIANT_EFFECT = 0.015\n",
    "LESSER_VARIANT_EFFECT = 0.005\n",
    "\n",
    "# change to betas\n",
    "MAJOR_VARIANT_DELTA = 1\n",
    "MEDIUM_VARIANT_DELTA = 0.3\n",
    "LESSER_VARIANT_DELTA = 0.01\n",
    "\n",
    "\n",
    "# TODO: implement memory and threads in script\n",
    "MEMORY = 10000\n",
    "THREADS = 10\n",
    "\n",
    "COVAR_GROUPS = [\n",
    "    \"covariates_year_of_birth_0_PC\",\n",
    "    \"covariates_sex_0_PC\",\n",
    "    \"covariates_sex_year_of_birth_0_PC\",\n",
    "    \"covariates_5_PC\",\n",
    "    \"covariates_sex_year_of_birth_40_PC\",\n",
    "    \"covariates_sex_year_of_birth_batch_40_PC\",\n",
    "    \"covariates_sex_year_of_birth_AC_40_PC\",\n",
    "    \"covariates_sex_year_of_birth_AC_batch_40_PC\"\n",
    "]\n"
   ]
  },
  {
   "cell_type": "code",
   "execution_count": 4,
   "id": "13fe45e6-b4a9-4475-b971-8c7bef13619e",
   "metadata": {},
   "outputs": [
    {
     "name": "stderr",
     "output_type": "stream",
     "text": [
      "Mapping files: 100%|████████████████████████████████████████████████████████████████████████████████████████████████████████████████████████████████████████████████████████████████| 3/3 [15:10<00:00, 303.60s/it]\n"
     ]
    }
   ],
   "source": [
    "G = pdp.read_plink1_bin(os.path.join(GENETICS_PATH,TEST_CHROM) + \".bed\",os.path.join(GENETICS_PATH,TEST_CHROM) + \".bim\",os.path.join(GENETICS_PATH,TEST_CHROM) + \".fam\")"
   ]
  },
  {
   "cell_type": "code",
   "execution_count": 21,
   "id": "35fe83dc-76f8-4b18-b117-58e9ca781049",
   "metadata": {},
   "outputs": [],
   "source": []
  },
  {
   "cell_type": "code",
   "execution_count": 24,
   "id": "2a9ca41c-4a52-46b1-825d-859008960d6a",
   "metadata": {},
   "outputs": [],
   "source": []
  },
  {
   "cell_type": "code",
   "execution_count": null,
   "id": "34dc2bd1-c282-40c8-a07c-72c4fe633055",
   "metadata": {},
   "outputs": [],
   "source": []
  },
  {
   "cell_type": "code",
   "execution_count": null,
   "id": "43197c6f-198e-4a08-bf68-c6e30ba544ca",
   "metadata": {},
   "outputs": [],
   "source": [
    "df = G.to_dataframe()"
   ]
  },
  {
   "cell_type": "code",
   "execution_count": null,
   "id": "51d8d3ea-bfb8-4a63-b28e-dd83d8cdcf9c",
   "metadata": {},
   "outputs": [],
   "source": [
    "df"
   ]
  },
  {
   "cell_type": "code",
   "execution_count": 28,
   "id": "e920e5ad-6a42-45b4-90ca-945c45ec5081",
   "metadata": {},
   "outputs": [],
   "source": [
    "df = df.reset_index()"
   ]
  },
  {
   "cell_type": "code",
   "execution_count": 34,
   "id": "89e9edea-0cf8-4163-b1b4-6eb72777b23d",
   "metadata": {},
   "outputs": [],
   "source": [
    "covar_df = pd.read_csv(os.path.join(COVARS_PATH,TEST_COVAR),sep=\"\\t\",header=None)\n"
   ]
  },
  {
   "cell_type": "code",
   "execution_count": 35,
   "id": "587cbdb0-41c3-4bef-9f21-a7e76f7bca55",
   "metadata": {},
   "outputs": [],
   "source": [
    "covar_df = covar_df.set_axis([\"iid\",\"fid\"] + ALL_COVARS, axis=1)"
   ]
  },
  {
   "cell_type": "code",
   "execution_count": null,
   "id": "ad7216d5-09df-48b9-868a-26861b1a576f",
   "metadata": {},
   "outputs": [],
   "source": [
    "legal_iid = set(covar_df[\"iid\"].astype(str))"
   ]
  },
  {
   "cell_type": "code",
   "execution_count": null,
   "id": "f2957b44-0e41-456f-ae5b-4c08e5ae3bc2",
   "metadata": {},
   "outputs": [],
   "source": [
    "df = df[df[\"iid\"].isin(legal_iid)]"
   ]
  },
  {
   "cell_type": "code",
   "execution_count": null,
   "id": "f0c38b1a-5269-4a0f-88d6-090719f6830e",
   "metadata": {},
   "outputs": [],
   "source": [
    "df = df.reset_index()"
   ]
  },
  {
   "cell_type": "code",
   "execution_count": 1,
   "id": "1665d573-eb80-44a6-b834-f06c0de79665",
   "metadata": {},
   "outputs": [
    {
     "name": "stdout",
     "output_type": "stream",
     "text": [
      "A\n"
     ]
    }
   ],
   "source": [
    "print(\"A\")"
   ]
  },
  {
   "cell_type": "code",
   "execution_count": null,
   "id": "6d1f310b-6691-414b-bb61-9e38f3ef816c",
   "metadata": {},
   "outputs": [],
   "source": [
    "# covar_df = covar_df.set_index(\"iid\")\n"
   ]
  },
  {
   "cell_type": "code",
   "execution_count": 64,
   "id": "dc5213db-24b9-463b-b47e-e93e12d83bcc",
   "metadata": {},
   "outputs": [],
   "source": [
    "def get_unique_variants(df):\n",
    "    unique_variants = list(df[\"variant\"].unique())\n",
    "    random.shuffle(unique_variants)\n",
    "    return unique_variants\n",
    "\n",
    "def get_variant_groups(unique_variants):\n",
    "    major_variants = set(unique_variants[0:NUMBER_OF_MAJOR_VARIANTS])\n",
    "    medium_variants = set(unique_variants[NUMBER_OF_MAJOR_VARIANTS:NUMBER_OF_MAJOR_VARIANTS+NUMBER_OF_MEDIUM_VARIANTS])\n",
    "    lesser_variants = set(unique_variants[NUMBER_OF_MAJOR_VARIANTS+NUMBER_OF_MEDIUM_VARIANTS:NUMBER_OF_MAJOR_VARIANTS+NUMBER_OF_MEDIUM_VARIANTS+NUMBER_OF_LESSER_VARIANTS])\n",
    "    return major_variants, medium_variants, lesser_variants\n",
    "\n",
    "def create_effect_dict(included_variants,major_variants,medium_variants,lesser_variants):\n",
    "    effect_dict = {}\n",
    "    for var in included_variants:\n",
    "        if var in major_variants:\n",
    "            effect_dict[var] = MAJOR_VARIANT_DELTA\n",
    "            continue\n",
    "        if var in medium_variants:\n",
    "            effect_dict[var] = MEDIUM_VARIANT_DELTA\n",
    "            continue\n",
    "        effect_dict[var] = LESSER_VARIANT_DELTA\n",
    "    return effect_dict"
   ]
  },
  {
   "cell_type": "code",
   "execution_count": 80,
   "id": "cd8c7aae-908e-4271-ac90-07b68a7f0a82",
   "metadata": {},
   "outputs": [],
   "source": [
    "covar_df = pd.read_csv(os.path.join(COVARS_PATH,TEST_COVAR),sep=\"\\t\",header=None)\n",
    "covar_df = covar_df.set_axis([\"iid\",\"fid\"] + ALL_COVARS, axis=1)\n",
    "legal_iid = set(covar_df[\"iid\"].astype(str))\n",
    "samples_list = G.sample.to_series()\n",
    "test_ids = list(samples_list[:1])\n",
    "G_subset = G.sel(sample=test_ids)\n",
    "sample_df = G_subset.to_dataframe()\n",
    "sample_df = sample_df.reset_index()\n",
    "\n",
    "\n",
    "unique_variants = get_unique_variants(sample_df)\n",
    "major_variants, medium_variants, lesser_variants = get_variant_groups(unique_variants)\n",
    "included_variants = major_variants.union(medium_variants).union(lesser_variants)\n",
    "covar_df['year_of_birth'] = (covar_df['year_of_birth'] - covar_df['year_of_birth'].mean()) / covar_df['year_of_birth'].std()\n",
    "effect_dict = create_effect_dict(included_variants,major_variants,medium_variants,lesser_variants)\n",
    "covar_df[\"covar_effects_chance\"] = None\n",
    "covar_df[\"genetic_chance\"] = None"
   ]
  },
  {
   "cell_type": "code",
   "execution_count": null,
   "id": "34dbc381-22d1-4f0c-a0bc-5b38d1afdcd6",
   "metadata": {},
   "outputs": [],
   "source": []
  },
  {
   "cell_type": "code",
   "execution_count": null,
   "id": "2dddedbd-5302-4ed4-a4cc-05360105e292",
   "metadata": {},
   "outputs": [],
   "source": []
  },
  {
   "cell_type": "code",
   "execution_count": null,
   "id": "c85cc620-7b2e-46d8-bab7-37605602779c",
   "metadata": {},
   "outputs": [
    {
     "name": "stdout",
     "output_type": "stream",
     "text": [
      "122300 25 %\n"
     ]
    }
   ],
   "source": [
    "def get_variant_specific_df(G_subset):\n",
    "    df = G_subset.to_dataframe()\n",
    "    df = df.reset_index()\n",
    "    df = df[df[\"variant\"].isin(included_variants)]\n",
    "    return df\n",
    "\n",
    "def get_genotype_dict(df):\n",
    "    genotype_dict = df[[\"iid\",\"variant\",\"genotype\"]].set_index([\"iid\",\"variant\"]).to_dict(orient=\"index\")\n",
    "    for key in genotype_dict.keys():\n",
    "        genotype_dict[key] = genotype_dict[key][\"genotype\"]\n",
    "\n",
    "    \n",
    "for i in range(0,len(samples_list),PERSON_BATCH_SIZE):\n",
    "    if i % 100 == 0:\n",
    "        clear_output(wait=True)\n",
    "        print(i,int( 100*(i /len(samples_list))),\"%\")\n",
    "\n",
    "    start = i\n",
    "    end = i+PERSON_BATCH_SIZE\n",
    "    test_ids = list(samples_list[start:end])\n",
    "    G_subset = G.sel(sample=test_ids)\n",
    "    df = get_variant_specific_df(G_subset)\n",
    "    genotype_dict = get_genotype_dict(df)\n",
    "    dataframes = []\n",
    "    # calculate effect for each variant for each person TODO: extract to function\n",
    "    df[\"effect\"] = df[\"variant\"].map(effect_dict)\n",
    "    df[\"effect\"] = df[\"effect\"]*df[\"genotype\"]\n",
    "    df = df.reset_index()\n",
    "\n",
    "    covar_df[\"covar_effects_chance\"] = ((np.array(covar_df[covar_df.columns[2:-2]]) @ (np.array(COVAR_EFFECTS)/ COVAR_EFFECTS_DEVIDOR))) \n",
    "    # TODO: change name\n",
    "    disease_chance_dict = (1 - df.groupby(\"iid\")[\"effect\"].sum()).to_dict()\n",
    "    # disease_chance_dict\n",
    "    # TODO: change name, this is not a chance, but a result\n",
    "    covar_df[\"genetic_chance\"] = covar_df[\"iid\"].astype(str).map(disease_chance_dict).fillna(covar_df[\"genetic_chance\"])\n",
    "    # adjust so genetic effect and covar effect match the requested\n",
    "\n",
    "\n",
    "# afterwards\n",
    "gene_var = ((covar_df[\"genetic_chance\"]).var())\n",
    "covar_var = (covar_df[\"covar_effects_chance\"].var())\n",
    "genetic_factor = np.sqrt(HERETEBILITY/gene_var)\n",
    "covar_factor = np.sqrt(COVAR_EFFECT/covar_var)\n",
    "# x = COVAR_GENETIC_EFFECT_RATIO*covar_sum/gene_sum\n",
    "# covar_df[\"genetic_chance\"] = covar_df[\"genetic_chance\"] * x\n",
    "covar_df[\"genetic_chance\"] = covar_df[\"genetic_chance\"] * genetic_factor\n",
    "covar_df[\"covar_effects_chance\"] = covar_df[\"covar_effects_chance\"] * covar_factor\n",
    "covar_df.dropna()"
   ]
  },
  {
   "cell_type": "code",
   "execution_count": null,
   "id": "87228e90-0955-4362-abb5-78e9f110f369",
   "metadata": {},
   "outputs": [],
   "source": []
  },
  {
   "cell_type": "code",
   "execution_count": null,
   "id": "318d5ecd-cf33-41de-98ff-010c509c64e0",
   "metadata": {},
   "outputs": [],
   "source": [
    "# TODO: change so variants are selected from all over the genom, and by prevelance \n",
    "major_variants = set(unique_variants[0:NUMBER_OF_MAJOR_VARIANTS])\n",
    "medium_variants = set(unique_variants[NUMBER_OF_MAJOR_VARIANTS:NUMBER_OF_MAJOR_VARIANTS+NUMBER_OF_MEDIUM_VARIANTS])\n",
    "lesser_variants = set(unique_variants[NUMBER_OF_MAJOR_VARIANTS+NUMBER_OF_MEDIUM_VARIANTS:NUMBER_OF_MAJOR_VARIANTS+NUMBER_OF_MEDIUM_VARIANTS+NUMBER_OF_LESSER_VARIANTS])"
   ]
  },
  {
   "cell_type": "code",
   "execution_count": null,
   "id": "93c3980f-2c5a-4a44-898a-dabe0ba51735",
   "metadata": {},
   "outputs": [],
   "source": [
    "included_variants = major_variants.union(medium_variants).union(lesser_variants)\n",
    "# TODO: add protective variants"
   ]
  },
  {
   "cell_type": "code",
   "execution_count": null,
   "id": "1f34da0a-1eac-4985-b0f8-95fc1d269a14",
   "metadata": {},
   "outputs": [],
   "source": [
    "df = df[df[\"variant\"].isin(included_variants)]"
   ]
  },
  {
   "cell_type": "code",
   "execution_count": null,
   "id": "f7bfdbfb-c626-4f67-b262-2c7cf5fe4984",
   "metadata": {},
   "outputs": [],
   "source": [
    "genotype_dict = df[[\"iid\",\"variant\",\"genotype\"]].set_index([\"iid\",\"variant\"]).to_dict(orient=\"index\")\n",
    "for key in genotype_dict.keys():\n",
    "    genotype_dict[key] = genotype_dict[key][\"genotype\"]"
   ]
  },
  {
   "cell_type": "code",
   "execution_count": null,
   "id": "aa01885c-6ca8-4e18-98a5-fb982cccc2ee",
   "metadata": {},
   "outputs": [],
   "source": [
    "effect_dict = {}\n",
    "for var in included_variants:\n",
    "    if var in major_variants:\n",
    "        effect_dict[var] = MAJOR_VARIANT_DELTA\n",
    "        continue\n",
    "    if var in medium_variants:\n",
    "        effect_dict[var] = MEDIUM_VARIANT_DELTA\n",
    "        continue\n",
    "    effect_dict[var] = LESSER_VARIANT_DELTA"
   ]
  },
  {
   "cell_type": "code",
   "execution_count": null,
   "id": "95cd6380-2e45-4a55-92a7-073acf2a3892",
   "metadata": {},
   "outputs": [],
   "source": [
    "# %%time\n",
    "df[\"effect\"] = df[\"variant\"].map(effect_dict)\n",
    "# df[\"effect\"] = df[\"effect\"]**df[\"genotype\"]\n",
    "\n",
    "# Delta form\n",
    "df[\"effect\"] = df[\"effect\"]*df[\"genotype\"]"
   ]
  },
  {
   "cell_type": "code",
   "execution_count": null,
   "id": "476bf0fb-59b8-49d9-8e6c-f242f55fbd1c",
   "metadata": {},
   "outputs": [],
   "source": [
    "df = df.reset_index()"
   ]
  },
  {
   "cell_type": "code",
   "execution_count": null,
   "id": "7e812c4a-c423-466d-a2de-749775f02ebc",
   "metadata": {},
   "outputs": [],
   "source": [
    "# # TODO: change so that the variance is for the phenotype_scroe\n",
    "# added_variance = TARGET_VARIANCE -df[\"effect\"].var()\n",
    "# mu, sigma = 0, added_variance # mean and standard deviation\n",
    "# noise = np.random.normal(mu, sigma**0.5, len(df))\n",
    "# df[\"fixed_effect\"] = df[\"effect\"] + noise\n",
    "# df[\"fixed_effect\"].var()"
   ]
  },
  {
   "cell_type": "code",
   "execution_count": null,
   "id": "f3df82ea-6765-4fe1-935e-18bb7d03fc11",
   "metadata": {},
   "outputs": [],
   "source": []
  },
  {
   "cell_type": "code",
   "execution_count": null,
   "id": "fcab98a1-06a9-45ef-a453-dea3ae25185e",
   "metadata": {},
   "outputs": [],
   "source": [
    "\n",
    "covar_df['year_of_birth'] = (covar_df['year_of_birth'] - covar_df['year_of_birth'].mean()) / covar_df['year_of_birth'].std()\n",
    "covar_df[\"year_of_birth\"].describe()"
   ]
  },
  {
   "cell_type": "code",
   "execution_count": null,
   "id": "b7e0985a-9447-4e09-8d58-2597b191c3f6",
   "metadata": {},
   "outputs": [],
   "source": []
  },
  {
   "cell_type": "code",
   "execution_count": null,
   "id": "533165b3-75c0-4728-9864-3d7ba471d0f5",
   "metadata": {},
   "outputs": [],
   "source": [
    "covar_df[\"covar_effects_chance\"] = ((np.array(covar_df[covar_df.columns[2:]]) @ (np.array(COVAR_EFFECTS)/ COVAR_EFFECTS_DEVIDOR))) "
   ]
  },
  {
   "cell_type": "code",
   "execution_count": null,
   "id": "6bfedff9-ac04-4438-b782-63853eadf0ac",
   "metadata": {},
   "outputs": [],
   "source": []
  },
  {
   "cell_type": "code",
   "execution_count": null,
   "id": "5a0f73e6-b98f-4d6c-82fb-fb3d3e2125bc",
   "metadata": {},
   "outputs": [],
   "source": [
    "# TODO: change name\n",
    "disease_chance_dict = (1 - df.groupby(\"iid\")[\"effect\"].sum()).to_dict()\n",
    "# disease_chance_dict\n",
    "# TODO: change name, this is not a chance, but a result\n",
    "covar_df[\"genetic_chance\"] = covar_df[\"iid\"].astype(str).map(disease_chance_dict)\n"
   ]
  },
  {
   "cell_type": "code",
   "execution_count": null,
   "id": "92af2829-94fd-4151-8beb-7e4338587227",
   "metadata": {},
   "outputs": [],
   "source": [
    "# HERETEBILITY = var(ax) = a**2*var(x)\n",
    "# HERETEBILITY = a**2*var(x)\n",
    "# a**2 = HERETEBILITY/var(x)\n",
    "# a = sqrt(HERETEBILITY/var(x))"
   ]
  },
  {
   "cell_type": "code",
   "execution_count": null,
   "id": "f7bd380c-af51-49cf-b7aa-a6eb21ce95d7",
   "metadata": {},
   "outputs": [],
   "source": [
    "# adjust so genetic effect and covar effect match the requested\n",
    "gene_var = ((covar_df[\"genetic_chance\"]).var())\n",
    "covar_var = (covar_df[\"covar_effects_chance\"].var())\n",
    "genetic_factor = np.sqrt(HERETEBILITY/gene_var)\n",
    "covar_factor = np.sqrt(COVAR_EFFECT/covar_var)\n",
    "# x = COVAR_GENETIC_EFFECT_RATIO*covar_sum/gene_sum\n",
    "# covar_df[\"genetic_chance\"] = covar_df[\"genetic_chance\"] * x\n",
    "covar_df[\"genetic_chance\"] = covar_df[\"genetic_chance\"] * genetic_factor\n",
    "covar_df[\"covar_effects_chance\"] = covar_df[\"covar_effects_chance\"] * covar_factor"
   ]
  },
  {
   "cell_type": "code",
   "execution_count": null,
   "id": "60173ab8-5ddb-48e2-82f9-e2264c251fc1",
   "metadata": {},
   "outputs": [],
   "source": [
    "covar_df[\"disease_chance\"] = covar_df[\"genetic_chance\"] + covar_df[\"covar_effects_chance\"]"
   ]
  },
  {
   "cell_type": "code",
   "execution_count": null,
   "id": "2ca1f4e6-1041-400d-9211-ba615d9240af",
   "metadata": {},
   "outputs": [],
   "source": [
    "# TODO: change so that the variance is for the phenotype_scroe\n",
    "added_variance = TARGET_VARIANCE -covar_df[\"disease_chance\"].var()\n",
    "\n",
    "mu, sigma = 0, added_variance # mean and standard deviation\n",
    "noise = np.random.normal(mu, sigma**0.5, len(covar_df))\n",
    "covar_df[\"disease_chance\"] = covar_df[\"disease_chance\"] + noise\n",
    "covar_df[\"disease_chance\"].var()\n"
   ]
  },
  {
   "cell_type": "code",
   "execution_count": null,
   "id": "7540a820-d9b8-455d-b399-95538227bc2d",
   "metadata": {},
   "outputs": [],
   "source": []
  },
  {
   "cell_type": "code",
   "execution_count": null,
   "id": "9e4adc02-32b6-4caa-9300-cf47cc83f2c8",
   "metadata": {},
   "outputs": [],
   "source": [
    "quantile = (covar_df[[\"disease_chance\"]].quantile(1 - DISEASE_PREVELANCE, method=\"table\", interpolation=\"nearest\")[\"disease_chance\"])\n",
    "covar_df['disease_indicator'] = (\n",
    "    covar_df['disease_chance'] > quantile\n",
    ").astype(int).astype(float)"
   ]
  },
  {
   "cell_type": "code",
   "execution_count": null,
   "id": "6b72c0b0-d339-4eb1-ad34-d22d99bcfbed",
   "metadata": {},
   "outputs": [],
   "source": [
    "# TODO:\n",
    "# randomly select variants instead of first 100\n",
    "# multiple phenotypes with different heretability/covar/random effects\n",
    "#     for each phenotype, run on each covar file that appeard in the original study\n",
    "# next step - use snp from catalog\n",
    "# when evaluating, finding something close to causal, is not a mistake, should be treated as true positive\n"
   ]
  },
  {
   "cell_type": "code",
   "execution_count": null,
   "id": "c3c1451b-1357-416f-8507-d5a1cc0deff2",
   "metadata": {},
   "outputs": [],
   "source": [
    "# AC_EFFECT_SCORE = 1\n",
    "# BATCH_EFFECT_SCORE = 1\n",
    "# SEX_EFFECT = 3\n",
    "# YOB_EFFECT = 1\n",
    "# PC_EFFECT_MAX = 1\n"
   ]
  },
  {
   "cell_type": "code",
   "execution_count": null,
   "id": "e073bc88-a293-40d3-859c-4892ed5b1346",
   "metadata": {},
   "outputs": [],
   "source": [
    "# phenotype_file_result_name = (\n",
    "#     f\"generated_pehn_result_target_var={TARGET_VARIANCE}_target_prev={DISEASE_PREVELANCE}_\" + \n",
    "#     f\"major_n={NUMBER_OF_MAJOR_VARIANTS}_med_n={NUMBER_OF_MEDIUM_VARIANTS}_less__m={NUMBER_OF_LESSER_VARIANTS}_\" +\n",
    "#     f\"major_d={MAJOR_VARIANT_DELTA}_med_d={MEDIUM_VARIANT_DELTA}_less_d={LESSER_VARIANT_DELTA}_\" \n",
    "#     f\"heretability={HERETEBILITY}_covar_effect={COVAR_EFFECT}\")"
   ]
  },
  {
   "cell_type": "code",
   "execution_count": null,
   "id": "ed735819-4622-43f8-8cf3-efddeae1c7a7",
   "metadata": {},
   "outputs": [],
   "source": [
    "phenotype_file_result_name = (\n",
    "    f\"generated_pehn_result_ver={VERSION}_target_var={TARGET_VARIANCE}_target_prev={DISEASE_PREVELANCE}_\" + \n",
    "    f\"major_n={NUMBER_OF_MAJOR_VARIANTS}_med_n={NUMBER_OF_MEDIUM_VARIANTS}_less__m={NUMBER_OF_LESSER_VARIANTS}_\" +\n",
    "    f\"major_d={MAJOR_VARIANT_DELTA}_med_d={MEDIUM_VARIANT_DELTA}_less_d={LESSER_VARIANT_DELTA}_\" \n",
    "    f\"heretability={HERETEBILITY}_covar_effect={COVAR_EFFECT}\")"
   ]
  },
  {
   "cell_type": "code",
   "execution_count": null,
   "id": "883fda19-9480-40a3-b3a7-56a9c25d1de9",
   "metadata": {},
   "outputs": [],
   "source": [
    "phenotype_file_result_name"
   ]
  },
  {
   "cell_type": "code",
   "execution_count": null,
   "id": "3720647a-fc13-42df-b2da-b307cd0d1b9c",
   "metadata": {},
   "outputs": [],
   "source": [
    "COVAR_EFFECT"
   ]
  },
  {
   "cell_type": "code",
   "execution_count": null,
   "id": "8723ee65-f041-417f-8918-1b9978aeeb36",
   "metadata": {},
   "outputs": [],
   "source": [
    "\n",
    "if INCLUDE_COVAR:\n",
    "    phenotype_file_result_name+= (\n",
    "        f\"_ac={AC_EFFECT_SCORE}_batch={BATCH_EFFECT_SCORE}_sex={SEX_EFFECT}_yob={YOB_EFFECT}_pc_max={PC_EFFECT_MAX}\"\n",
    "    )\n",
    "\n",
    "phenotype_file_result_name = phenotype_file_result_name+\".txt\"\n",
    "phenotype_file_path = os.path.join(PHENOTYPE_DIR_RESULT_PATH,phenotype_file_result_name)\n",
    "covar_df[[\"iid\",\"fid\",\"disease_indicator\"]].to_csv(phenotype_file_path,index=False,header=False,sep=\"\\t\")"
   ]
  },
  {
   "cell_type": "code",
   "execution_count": null,
   "id": "ff0cd516-b024-407a-a9ec-87dabf9a243b",
   "metadata": {},
   "outputs": [],
   "source": [
    "phenotype_file_result_name"
   ]
  },
  {
   "cell_type": "code",
   "execution_count": null,
   "id": "8361aafe-3c85-4e9f-8128-ae959dae372b",
   "metadata": {},
   "outputs": [],
   "source": [
    "chrom_path = os.path.join(GENETICS_PATH,TEST_CHROM)\n",
    "result_path = os.path.join(PLINK_RESULT_DIR,phenotype_file_result_name.replace(\".txt\",\"\"))"
   ]
  },
  {
   "cell_type": "code",
   "execution_count": null,
   "id": "088d4673-0e48-4ba0-b04e-5e419b3674a4",
   "metadata": {},
   "outputs": [],
   "source": [
    "command =f\"{PLINK_PATH} --bed {chrom_path}.bed --bim {chrom_path}.bim --fam {chrom_path}.fam --pheno {phenotype_file_path} --covar {os.path.join(COVARS_PATH,TEST_COVAR)}  --out  {result_path} --glm hide-covar --mac 20 --covar-variance-standardize --freq --threads 30 --memory 30000 --1\""
   ]
  },
  {
   "cell_type": "code",
   "execution_count": null,
   "id": "8dd8c6d4-02b2-4222-98d3-27188aa60cdf",
   "metadata": {},
   "outputs": [],
   "source": [
    "print(command)"
   ]
  },
  {
   "cell_type": "code",
   "execution_count": null,
   "id": "0ecda68e-f158-4c64-8bfa-bc5433e93dfc",
   "metadata": {},
   "outputs": [],
   "source": [
    "participants = set(covar_df[\"fid\"].astype(str))"
   ]
  },
  {
   "cell_type": "code",
   "execution_count": null,
   "id": "1db49326-fcb1-4bb3-9898-5600339f0d50",
   "metadata": {},
   "outputs": [],
   "source": [
    "# reset_df[reset_df[\"sample\"].isin(participants)]"
   ]
  },
  {
   "cell_type": "code",
   "execution_count": null,
   "id": "eb473ac1-352a-4dbd-b276-0b472b942cbc",
   "metadata": {},
   "outputs": [],
   "source": [
    "# included_variants = major_variants.union(medium_variants).union(lesser_variants)\n",
    "major_vars = list(df[df[\"variant\"].isin(major_variants)][\"snp\"].unique())\n",
    "med_vars = list(df[df[\"variant\"].isin(medium_variants)][\"snp\"].unique())\n",
    "lesser_vars = list(df[df[\"variant\"].isin(lesser_variants)][\"snp\"].unique())"
   ]
  },
  {
   "cell_type": "code",
   "execution_count": null,
   "id": "18fc8984-b4b7-4db0-b54a-3214b964139d",
   "metadata": {},
   "outputs": [],
   "source": [
    "variant_dict = {}\n",
    "variant_dict[\"major_vars\"] = major_vars\n",
    "variant_dict[\"med_vars\"] = med_vars\n",
    "variant_dict[\"lesser_vars\"] = lesser_vars\n",
    "json_file_name = phenotype_file_result_name.replace(\".txt\",\"\") + \"variants.json\"\n",
    "with open(json_file_name, 'w', encoding='utf-8') as f:\n",
    "    json.dump(variant_dict, f, ensure_ascii=False, indent=4)"
   ]
  },
  {
   "cell_type": "code",
   "execution_count": null,
   "id": "c73e5dc7-1093-4078-acde-9bf66416f148",
   "metadata": {},
   "outputs": [],
   "source": [
    "len(major_vars)"
   ]
  },
  {
   "cell_type": "code",
   "execution_count": null,
   "id": "f2e90e42-4891-4dc5-b75a-d95427d99dcb",
   "metadata": {},
   "outputs": [],
   "source": [
    "# np.array(covar_df[covar_df.columns[2:-2]])[0]\n",
    "# actual code for mltiple\n",
    "for covar_type in COVAR_GROUPS:\n",
    "    covar_file = os.path.join(COVARS_PATH,covar_type + \".txt\")\n",
    "    result_path = os.path.join(PLINK_RESULT_DIR,phenotype_file_result_name.replace(\".txt\",covar_type))\n",
    "    command =f\"{PLINK_PATH} --bed {chrom_path}.bed --bim {chrom_path}.bim --fam {chrom_path}.fam --pheno {phenotype_file_path} --covar {covar_file}  --out  {result_path} --glm hide-covar --mac 20 --covar-variance-standardize --freq --threads 10 --memory 10000 --1\"\n",
    "    # print(command)\n",
    "    print(f'sbatch --mem=12g -c10 --time=3-0 --requeue --killable --wrap=\"{command}\"')\n",
    "command =f\"{PLINK_PATH} --bed {chrom_path}.bed --bim {chrom_path}.bim --fam {chrom_path}.fam --pheno {phenotype_file_path} --out  {result_path} --glm hide-covar --mac 20 --covar-variance-standardize --freq --threads 10 --memory 10000 --1\"\n",
    "# print(command)\n",
    "result_path = os.path.join(PLINK_RESULT_DIR,phenotype_file_result_name.replace(\".txt\",\"_no_covar\"))\n",
    "print(f'sbatch --mem=12g -c10 --time=3-0 --requeue --killable --wrap=\"{command}\"')\n"
   ]
  },
  {
   "cell_type": "markdown",
   "id": "ec8b13cc-4d8f-4178-aebd-794f0817209b",
   "metadata": {},
   "source": [
    "## GWAS simulation visualisation"
   ]
  },
  {
   "cell_type": "code",
   "execution_count": null,
   "id": "5b478a4e-6009-40a2-ac78-901a9cde73fd",
   "metadata": {},
   "outputs": [],
   "source": [
    "PVAL_THRESHOLD = 5*10**-8"
   ]
  },
  {
   "cell_type": "code",
   "execution_count": null,
   "id": "cb3e7c72-268b-4715-9be3-798b32575fde",
   "metadata": {},
   "outputs": [],
   "source": [
    "json_file_name = phenotype_file_result_name.replace(\".txt\",\"\") + \"variants.json\"\n",
    "with open(json_file_name) as json_file:\n",
    "        variant_data = json.load(json_file)\n"
   ]
  },
  {
   "cell_type": "code",
   "execution_count": null,
   "id": "4d3cc716-8589-46bf-938b-8aa8e29221da",
   "metadata": {},
   "outputs": [],
   "source": [
    "variant_data"
   ]
  },
  {
   "cell_type": "code",
   "execution_count": null,
   "id": "6f54b753-3ba0-460f-a49a-8439e14bf43c",
   "metadata": {},
   "outputs": [],
   "source": [
    "for covar_type in COVAR_GROUPS:\n",
    "    try:\n",
    "        covar_file = os.path.join(COVARS_PATH,covar_type + \".txt\")\n",
    "        result_path = os.path.join(PLINK_RESULT_DIR,phenotype_file_result_name.replace(\".txt\",covar_type) + \".PHENO1.glm.logistic.hybrid\")\n",
    "        df = pd.read_csv(result_path,sep=\"\\t\")\n",
    "        df = df[df[\"P\"] < PVAL_THRESHOLD]\n",
    "        variants = set(df[\"ID\"])\n",
    "        found_major = variants.intersection( variant_data[\"major_vars\"])\n",
    "        found_medium = variants.intersection( variant_data[\"med_vars\"])\n",
    "        found_lesser = variants.intersection( variant_data[\"lesser_vars\"])\n",
    "        print(covar_type)\n",
    "        print(\"found_major\",len(found_major),\"/\",len(variant_data[\"major_vars\"]))\n",
    "        print(\"found_medium\",len(found_medium),\"/\",len(variant_data[\"med_vars\"]))\n",
    "        print(\"found_lesser\",len(found_lesser),\"/\",len(variant_data[\"lesser_vars\"]))\n",
    "        print(\"found_overall\", len(variants))\n",
    "        print(\"found_extra\",len(variants - found_major.union(found_medium).union(found_lesser)))\n",
    "        \n",
    "        # print(variants)\n",
    "    except OSError as exc:\n",
    "        print(covar_file,\"failed\")\n"
   ]
  },
  {
   "cell_type": "code",
   "execution_count": null,
   "id": "41abc003-fdd0-4cef-91df-db7ee4851ecf",
   "metadata": {},
   "outputs": [],
   "source": []
  }
 ],
 "metadata": {
  "kernelspec": {
   "display_name": "Python 3 (ipykernel)",
   "language": "python",
   "name": "python3"
  },
  "language_info": {
   "codemirror_mode": {
    "name": "ipython",
    "version": 3
   },
   "file_extension": ".py",
   "mimetype": "text/x-python",
   "name": "python",
   "nbconvert_exporter": "python",
   "pygments_lexer": "ipython3",
   "version": "3.11.2"
  }
 },
 "nbformat": 4,
 "nbformat_minor": 5
}
