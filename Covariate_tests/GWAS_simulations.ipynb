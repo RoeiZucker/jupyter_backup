{
 "cells": [
  {
   "cell_type": "code",
   "execution_count": 1,
   "id": "654b867b-a336-4b3a-ab08-b4c443109b26",
   "metadata": {},
   "outputs": [],
   "source": [
    "import numpy as np\n",
    "import pandas as pd\n",
    "import os\n",
    "from pandas_plink import read_plink\n",
    "import pandas_plink as pdp\n",
    "from pandas_plink import get_data_folder\n",
    "import random\n",
    "import json"
   ]
  },
  {
   "cell_type": "code",
   "execution_count": 2,
   "id": "a69e1b4a-f93b-46fd-ac73-9154e7434f2a",
   "metadata": {},
   "outputs": [],
   "source": [
    "# select variants randomly\n",
    "# select variants by rarity\n",
    "# use linear calculation\n",
    "# use non linear calculation\n",
    "# with/without PC\n",
    "# how rare should the phenotype be - like an existing one\n",
    "# create syntetic covariates"
   ]
  },
  {
   "cell_type": "code",
   "execution_count": 62,
   "id": "a6c841dc-da9a-464c-89a5-ae8e08096172",
   "metadata": {},
   "outputs": [],
   "source": [
    "GENETICS_PATH = \"/sci/nosnap/michall/roeizucker/covar_tests/small_genetics\"\n",
    "COVARS_PATH = \"/sci/archive/michall/roeizucker/covar_tests_non_coding_HADASSA_PLINK\"\n",
    "PLINK_PATH = \"/sci/nosnap/michall/roeizucker/plink2\"\n",
    "TEST_COVAR = \"covariates_sex_year_of_birth_AC_batch_40_PC.txt\"\n",
    "TEST_CHROM = \"chr22_filtered_mafe-2_hwee-10_geno_02_random_001pct\"\n",
    "PLINK_RESULT_PATH = \"/sci/archive/michall/roeizucker/covar_tests_non_coding_HADASSA_PLINK/results/chr22_very_reduced_simulation\"\n",
    "PLINK_RESULT_DIR = \"/sci/archive/michall/roeizucker/covar_tests_non_coding_HADASSA_PLINK/results/\"\n",
    "PHENOTYPE_FILE_RESULT_PATH = \"/sci/archive/michall/roeizucker/covar_tests_non_coding_HADASSA_PLINK/phenotypes/generated_phen.txt\"\n",
    "INCLUDED_COVARS = [\"sex\",\"year_of_birth\",\"AC\",\"batch\"]\n",
    "AC_VALS = ['AC_stockport_pilot','AC_manchester','AC_oxford','AC_cardiff','AC_glasgow','AC_edinburgh','AC_stoke','AC_reading','AC_bury','AC_newcastle','AC_bristol','AC_barts','AC_nottingham','AC_sheffield','AC_liverpool','AC_middlesborough','AC_hounslow','AC_croydon','AC_birmingham','AC_swansea','AC_wrexham','AC_cheadle_revisit','AC_cheadle_imaging','AC_reading_imaging','AC_newcastle_imaging']\n",
    "BATCH_VALS = ['batch_Batch_b001','batch_Batch_b002','batch_Batch_b003','batch_Batch_b004','batch_Batch_b005','batch_Batch_b006','batch_Batch_b007','batch_Batch_b008','batch_Batch_b009','batch_Batch_b010','batch_Batch_b011','batch_Batch_b012','batch_Batch_b013','batch_Batch_b014','batch_Batch_b015','batch_Batch_b016','batch_Batch_b017','batch_Batch_b018','batch_Batch_b019','batch_Batch_b020','batch_Batch_b021','batch_Batch_b022','batch_Batch_b023','batch_Batch_b024','batch_Batch_b025','batch_Batch_b026','batch_Batch_b027','batch_Batch_b028','batch_Batch_b029','batch_Batch_b030','batch_Batch_b031','batch_Batch_b032','batch_Batch_b033','batch_Batch_b034','batch_Batch_b035','batch_Batch_b036','batch_Batch_b037','batch_Batch_b038','batch_Batch_b039','batch_Batch_b040','batch_Batch_b041','batch_Batch_b042','batch_Batch_b043','batch_Batch_b044','batch_Batch_b045','batch_Batch_b046','batch_Batch_b047','batch_Batch_b048','batch_Batch_b049','batch_Batch_b050','batch_Batch_b051','batch_Batch_b052','batch_Batch_b053','batch_Batch_b054','batch_Batch_b055','batch_Batch_b056','batch_Batch_b057','batch_Batch_b058','batch_Batch_b059','batch_Batch_b060','batch_Batch_b061','batch_Batch_b062','batch_Batch_b063','batch_Batch_b064','batch_Batch_b065','batch_Batch_b066','batch_Batch_b067','batch_Batch_b068','batch_Batch_b069','batch_Batch_b070','batch_Batch_b071','batch_Batch_b072','batch_Batch_b073','batch_Batch_b074','batch_Batch_b075','batch_Batch_b076','batch_Batch_b077','batch_Batch_b078','batch_Batch_b079','batch_Batch_b080','batch_Batch_b081','batch_Batch_b082','batch_Batch_b083','batch_Batch_b084','batch_Batch_b085','batch_Batch_b086','batch_Batch_b087','batch_Batch_b088','batch_Batch_b089','batch_Batch_b090','batch_Batch_b091','batch_Batch_b092','batch_Batch_b093','batch_Batch_b094','batch_Batch_b095','batch_UKBiLEVEAX_b1','batch_UKBiLEVEAX_b10','batch_UKBiLEVEAX_b11','batch_UKBiLEVEAX_b3','batch_UKBiLEVEAX_b4','batch_UKBiLEVEAX_b5','batch_UKBiLEVEAX_b6','batch_UKBiLEVEAX_b7','batch_UKBiLEVEAX_b8','batch_UKBiLEVEAX_b9']\n",
    "ALL_COVARS = INCLUDED_COVARS[:-2] + AC_VALS + BATCH_VALS\n",
    "NUM_PC = 40\n",
    "for i in range(NUM_PC):\n",
    "    ALL_COVARS.append(f\"PC{i+1}\")\n",
    "YOB_SUBTRACTOR = 1880\n",
    "YOB_DEVIDOR = 100\n",
    "\n",
    "\n",
    "# phenotype generation constants\n",
    "TARGET_VARIANCE = 1\n",
    "DISEASE_PREVELANCE = 0.05\n",
    "PHENOTYPE_DIR_RESULT_PATH = \"/sci/archive/michall/roeizucker/covar_tests_non_coding_HADASSA_PLINK/phenotypes/\"\n",
    "INCLUDE_COVAR = True\n",
    "AC_EFFECT_SCORE = 1\n",
    "BATCH_EFFECT_SCORE = 1\n",
    "\n",
    "\n",
    "# TODO: change so that YOB mean is 0 and std is 1\n",
    "# do a logistic regression between PC and phenotype, to show that snps \n",
    "# do not effect through population structure\n",
    "SEX_EFFECT = 3\n",
    "YOB_EFFECT = 1\n",
    "PC_EFFECT_MAX = 0.01\n",
    "\n",
    "# COVAR_GENETIC_EFFECT_RATIO = 2\n",
    "HERETEBILITY = 0.1\n",
    "COVAR_EFFECT = 0.15\n",
    "# TODO change the name and functio nto heretibility to heretibility\n",
    "# heretibility is the variance of the genetics / (var genetcis + var covar)\n",
    "\n",
    "AC_EFFECT = [AC_EFFECT_SCORE]*len(AC_VALS)\n",
    "BATCH_EFFECT = [BATCH_EFFECT_SCORE]*len(BATCH_VALS)\n",
    "# add PC stratagy\n",
    "PC_EFFECT = list(np.arange(PC_EFFECT_MAX,0,-PC_EFFECT_MAX/NUM_PC))\n",
    "COVAR_EFFECTS = [SEX_EFFECT,YOB_EFFECT] + AC_EFFECT + BATCH_EFFECT + PC_EFFECT\n",
    "COVAR_EFFECTS_DEVIDOR = 50 # used to reduce the effect of covaraites, can be avoided if provided covariate effects are smaller\n",
    "\n",
    "# TODO: change to work as beta.\n",
    "# create a function that accepts a vector of Betas and a flag if its binary/continues and add an option for covariates\n",
    "# If its binary, add prevelance considiration\n",
    "# for a person J the score for J is the sum over all betas of SNPS * the number of alleles. \n",
    "# add a noise so that the variance of phenotype will be 1 (adding noise using 1-sigma) call this Yj\n",
    "# to do so calculate overall variance after simulation, and add a noise with 1- the variance (make sure that the genetic + covar variance is below 1)\n",
    "# in continues state, use Yj as phenotype (maybe mul by a constant)\n",
    "# in binary state the same, need to do a logit (sigmuid and then threashold or just threshold) transformation. detarmine the threshold so that X% of the population are sick\n",
    "# another way, in the binary state instead of noise can do a bernuli on the result of the sigmuid (a value between 0 and 1)\n",
    "# the covariats can be treated the same way the betas are used\n",
    "# read about genetic architucture, compare covariates and betas effect.\n",
    "# the aggregative effect of snps should be larger, but the effect of a single snp should be smaller.\n",
    "\n",
    "# look at GWAS catalog, use a table from there for a specific disease and take their betas (find out how to calculate beta from OR)\n",
    "\n",
    "# variant parameter\n",
    "NUMBER_OF_MAJOR_VARIANTS = 10\n",
    "NUMBER_OF_MEDIUM_VARIANTS = 15\n",
    "NUMBER_OF_LESSER_VARIANTS = 25\n",
    "\n",
    "MAJOR_VARIANT_EFFECT = 0.05\n",
    "MEDIUM_VARIANT_EFFECT = 0.015\n",
    "LESSER_VARIANT_EFFECT = 0.005\n",
    "\n",
    "# change to betas\n",
    "MAJOR_VARIANT_DELTA = 1\n",
    "MEDIUM_VARIANT_DELTA = 0.2\n",
    "LESSER_VARIANT_DELTA = 0.01\n",
    "\n",
    "\n",
    "# TODO: implement memory and threads in script\n",
    "MEMORY = 10000\n",
    "THREADS = 10\n",
    "\n",
    "COVAR_GROUPS = [\n",
    "    \"covariates_year_of_birth_0_PC\",\n",
    "    \"covariates_sex_0_PC\",\n",
    "    \"covariates_sex_year_of_birth_0_PC\",\n",
    "    \"covariates_5_PC\",\n",
    "    \"covariates_sex_year_of_birth_40_PC\",\n",
    "    \"covariates_sex_year_of_birth_batch_40_PC\",\n",
    "    \"covariates_sex_year_of_birth_AC_40_PC\",\n",
    "    \"covariates_sex_year_of_birth_AC_batch_40_PC\"\n",
    "]\n"
   ]
  },
  {
   "cell_type": "code",
   "execution_count": 4,
   "id": "3430fc13-c416-429f-be8f-fb4902ab2b89",
   "metadata": {},
   "outputs": [
    {
     "data": {
      "text/plain": [
       "[0.01,\n",
       " 0.00975,\n",
       " 0.0095,\n",
       " 0.00925,\n",
       " 0.009,\n",
       " 0.008749999999999999,\n",
       " 0.008499999999999999,\n",
       " 0.008249999999999999,\n",
       " 0.007999999999999998,\n",
       " 0.007749999999999998,\n",
       " 0.007499999999999998,\n",
       " 0.007249999999999998,\n",
       " 0.0069999999999999975,\n",
       " 0.006749999999999997,\n",
       " 0.006499999999999997,\n",
       " 0.006249999999999997,\n",
       " 0.005999999999999997,\n",
       " 0.005749999999999996,\n",
       " 0.005499999999999996,\n",
       " 0.005249999999999996,\n",
       " 0.004999999999999996,\n",
       " 0.0047499999999999955,\n",
       " 0.004499999999999995,\n",
       " 0.004249999999999995,\n",
       " 0.003999999999999995,\n",
       " 0.0037499999999999947,\n",
       " 0.0034999999999999944,\n",
       " 0.003249999999999994,\n",
       " 0.002999999999999994,\n",
       " 0.0027499999999999938,\n",
       " 0.0024999999999999935,\n",
       " 0.0022499999999999933,\n",
       " 0.001999999999999993,\n",
       " 0.0017499999999999929,\n",
       " 0.0014999999999999927,\n",
       " 0.0012499999999999924,\n",
       " 0.0009999999999999922,\n",
       " 0.000749999999999992,\n",
       " 0.0004999999999999918,\n",
       " 0.00024999999999999155]"
      ]
     },
     "execution_count": 4,
     "metadata": {},
     "output_type": "execute_result"
    }
   ],
   "source": [
    "PC_EFFECT"
   ]
  },
  {
   "cell_type": "code",
   "execution_count": 5,
   "id": "36175674-db1c-4ddf-befb-861e19ce978a",
   "metadata": {},
   "outputs": [],
   "source": [
    "# bim, fam, G = read_plink(os.path.join(GENETICS_PATH,TEST_CHROM),verbose=True)\n",
    "# # try reading only top rows?\n",
    "# print(\"bim shape:\", bim.shape)\n",
    "# print(\"fam shape:\", fam.shape)\n",
    "# print(\"G shape:\", G.shape)\n",
    "# # def select_first_10_variants(bim_df):\n",
    "# #     return bim_df.iloc[:10]  # first 10 rows\n",
    "\n",
    "# # bim, fam, G = read_plink(\n",
    "# #     os.path.join(GENETICS_PATH,TEST_CHROM),\n",
    "# #     select_bim=select_first_10_variants\n",
    "# # )\n",
    "\n",
    "# # print(bim.shape)  # Should show 10 variants\n",
    "# # print(G.shape)  "
   ]
  },
  {
   "cell_type": "code",
   "execution_count": 6,
   "id": "27930875-64ed-4205-bde7-e9c3c2c70d19",
   "metadata": {},
   "outputs": [],
   "source": [
    "# G_copy = G.copy()\n",
    "# bim_copy = bim.copy()\n",
    "# fam_copy = fam.copy()"
   ]
  },
  {
   "cell_type": "code",
   "execution_count": 7,
   "id": "c1b18a9d-4f04-427c-94ee-bbd34d843ed6",
   "metadata": {},
   "outputs": [],
   "source": [
    "# np.random.seed(123)  # for reproducibility\n",
    "\n",
    "# # Add a simulated 'age' covariate\n",
    "# fam['age'] = np.random.normal(loc=50, scale=10, size=len(fam))\n",
    "\n",
    "# # Add a simulated 'PC1' principal component\n",
    "# fam['PC1'] = np.random.normal(loc=0, scale=1, size=len(fam))\n",
    "\n",
    "# # If you want to define your own sex variable\n",
    "# fam['sex_code'] = np.random.choice([0, 1], size=len(fam))  # 0 = Male, 1 = Female\n"
   ]
  },
  {
   "cell_type": "code",
   "execution_count": 8,
   "id": "926377d7-9c00-49e7-8f92-00a2b65c7408",
   "metadata": {},
   "outputs": [],
   "source": [
    "# # # for val in G[0, :]:\n",
    "# # #     print((val.A))\n",
    "# # #     break\n",
    "# # b = G[0, :]\n",
    "# # c = b[0]\n",
    "\n",
    "# def some_func(x,y):\n",
    "#     return x/y\n",
    "    \n",
    "# try:\n",
    "#     x = input()\n",
    "#     y = input()\n",
    "#     print(some_func(x,y))\n",
    "# except Exception:\n",
    "#     print(\"cannot divide by zero\")\n",
    "\n"
   ]
  },
  {
   "cell_type": "code",
   "execution_count": 9,
   "id": "07867b5b-cf8c-46ac-b0cd-3cd0f0e2d133",
   "metadata": {},
   "outputs": [],
   "source": [
    "# for var in bim[\"snp\"]:\n",
    "#     print(var)\n",
    "#     val_loc = list(G[0][\"snp\"].values).index(var)\n",
    "#     specific = G.T[val_loc]\n",
    "#     break"
   ]
  },
  {
   "cell_type": "code",
   "execution_count": 10,
   "id": "e95d226d-6743-4ba0-8899-08e4faaad58d",
   "metadata": {},
   "outputs": [],
   "source": [
    "# # Let's pick the first variant (index 0) as our causal SNP\n"
   ]
  },
  {
   "cell_type": "code",
   "execution_count": 11,
   "id": "13fe45e6-b4a9-4475-b971-8c7bef13619e",
   "metadata": {},
   "outputs": [
    {
     "name": "stderr",
     "output_type": "stream",
     "text": [
      "Mapping files: 100%|█████████████████████████████████████████████████████████████████████████████████████████████████████████████████████████████████████████████████████████████████| 3/3 [00:06<00:00,  2.08s/it]\n"
     ]
    }
   ],
   "source": [
    "G = pdp.read_plink1_bin(os.path.join(GENETICS_PATH,TEST_CHROM) + \".bed\",os.path.join(GENETICS_PATH,TEST_CHROM) + \".bim\",os.path.join(GENETICS_PATH,TEST_CHROM) + \".fam\")"
   ]
  },
  {
   "cell_type": "code",
   "execution_count": 12,
   "id": "43197c6f-198e-4a08-bf68-c6e30ba544ca",
   "metadata": {},
   "outputs": [],
   "source": [
    "df = G.to_dataframe()"
   ]
  },
  {
   "cell_type": "code",
   "execution_count": 13,
   "id": "51d8d3ea-bfb8-4a63-b28e-dd83d8cdcf9c",
   "metadata": {},
   "outputs": [
    {
     "data": {
      "text/html": [
       "<div>\n",
       "<style scoped>\n",
       "    .dataframe tbody tr th:only-of-type {\n",
       "        vertical-align: middle;\n",
       "    }\n",
       "\n",
       "    .dataframe tbody tr th {\n",
       "        vertical-align: top;\n",
       "    }\n",
       "\n",
       "    .dataframe thead th {\n",
       "        text-align: right;\n",
       "    }\n",
       "</style>\n",
       "<table border=\"1\" class=\"dataframe\">\n",
       "  <thead>\n",
       "    <tr style=\"text-align: right;\">\n",
       "      <th></th>\n",
       "      <th></th>\n",
       "      <th>fid</th>\n",
       "      <th>iid</th>\n",
       "      <th>father</th>\n",
       "      <th>mother</th>\n",
       "      <th>gender</th>\n",
       "      <th>trait</th>\n",
       "      <th>chrom</th>\n",
       "      <th>snp</th>\n",
       "      <th>cm</th>\n",
       "      <th>pos</th>\n",
       "      <th>a0</th>\n",
       "      <th>a1</th>\n",
       "      <th>genotype</th>\n",
       "    </tr>\n",
       "    <tr>\n",
       "      <th>sample</th>\n",
       "      <th>variant</th>\n",
       "      <th></th>\n",
       "      <th></th>\n",
       "      <th></th>\n",
       "      <th></th>\n",
       "      <th></th>\n",
       "      <th></th>\n",
       "      <th></th>\n",
       "      <th></th>\n",
       "      <th></th>\n",
       "      <th></th>\n",
       "      <th></th>\n",
       "      <th></th>\n",
       "      <th></th>\n",
       "    </tr>\n",
       "  </thead>\n",
       "  <tbody>\n",
       "    <tr>\n",
       "      <th rowspan=\"5\" valign=\"top\">1688461</th>\n",
       "      <th>variant0</th>\n",
       "      <td>1688461</td>\n",
       "      <td>1688461</td>\n",
       "      <td>0</td>\n",
       "      <td>0</td>\n",
       "      <td>1</td>\n",
       "      <td>-9</td>\n",
       "      <td>22</td>\n",
       "      <td>rs73159809</td>\n",
       "      <td>0.0</td>\n",
       "      <td>17054795</td>\n",
       "      <td>A</td>\n",
       "      <td>G</td>\n",
       "      <td>2.0</td>\n",
       "    </tr>\n",
       "    <tr>\n",
       "      <th>variant1</th>\n",
       "      <td>1688461</td>\n",
       "      <td>1688461</td>\n",
       "      <td>0</td>\n",
       "      <td>0</td>\n",
       "      <td>1</td>\n",
       "      <td>-9</td>\n",
       "      <td>22</td>\n",
       "      <td>rs3859824</td>\n",
       "      <td>0.0</td>\n",
       "      <td>17096707</td>\n",
       "      <td>G</td>\n",
       "      <td>C</td>\n",
       "      <td>0.0</td>\n",
       "    </tr>\n",
       "    <tr>\n",
       "      <th>variant2</th>\n",
       "      <td>1688461</td>\n",
       "      <td>1688461</td>\n",
       "      <td>0</td>\n",
       "      <td>0</td>\n",
       "      <td>1</td>\n",
       "      <td>-9</td>\n",
       "      <td>22</td>\n",
       "      <td>rs56140010</td>\n",
       "      <td>0.0</td>\n",
       "      <td>17101672</td>\n",
       "      <td>G</td>\n",
       "      <td>A</td>\n",
       "      <td>2.0</td>\n",
       "    </tr>\n",
       "    <tr>\n",
       "      <th>variant3</th>\n",
       "      <td>1688461</td>\n",
       "      <td>1688461</td>\n",
       "      <td>0</td>\n",
       "      <td>0</td>\n",
       "      <td>1</td>\n",
       "      <td>-9</td>\n",
       "      <td>22</td>\n",
       "      <td>rs9605005</td>\n",
       "      <td>0.0</td>\n",
       "      <td>17130268</td>\n",
       "      <td>A</td>\n",
       "      <td>G</td>\n",
       "      <td>2.0</td>\n",
       "    </tr>\n",
       "    <tr>\n",
       "      <th>variant4</th>\n",
       "      <td>1688461</td>\n",
       "      <td>1688461</td>\n",
       "      <td>0</td>\n",
       "      <td>0</td>\n",
       "      <td>1</td>\n",
       "      <td>-9</td>\n",
       "      <td>22</td>\n",
       "      <td>rs143380912</td>\n",
       "      <td>0.0</td>\n",
       "      <td>17145480</td>\n",
       "      <td>T</td>\n",
       "      <td>A</td>\n",
       "      <td>2.0</td>\n",
       "    </tr>\n",
       "    <tr>\n",
       "      <th>...</th>\n",
       "      <th>...</th>\n",
       "      <td>...</td>\n",
       "      <td>...</td>\n",
       "      <td>...</td>\n",
       "      <td>...</td>\n",
       "      <td>...</td>\n",
       "      <td>...</td>\n",
       "      <td>...</td>\n",
       "      <td>...</td>\n",
       "      <td>...</td>\n",
       "      <td>...</td>\n",
       "      <td>...</td>\n",
       "      <td>...</td>\n",
       "      <td>...</td>\n",
       "    </tr>\n",
       "    <tr>\n",
       "      <th rowspan=\"5\" valign=\"top\">1409864</th>\n",
       "      <th>variant720</th>\n",
       "      <td>1409864</td>\n",
       "      <td>1409864</td>\n",
       "      <td>0</td>\n",
       "      <td>0</td>\n",
       "      <td>1</td>\n",
       "      <td>-9</td>\n",
       "      <td>22</td>\n",
       "      <td>rs131747</td>\n",
       "      <td>0.0</td>\n",
       "      <td>51025074</td>\n",
       "      <td>T</td>\n",
       "      <td>C</td>\n",
       "      <td>0.0</td>\n",
       "    </tr>\n",
       "    <tr>\n",
       "      <th>variant721</th>\n",
       "      <td>1409864</td>\n",
       "      <td>1409864</td>\n",
       "      <td>0</td>\n",
       "      <td>0</td>\n",
       "      <td>1</td>\n",
       "      <td>-9</td>\n",
       "      <td>22</td>\n",
       "      <td>rs74937467</td>\n",
       "      <td>0.0</td>\n",
       "      <td>51040413</td>\n",
       "      <td>A</td>\n",
       "      <td>T</td>\n",
       "      <td>2.0</td>\n",
       "    </tr>\n",
       "    <tr>\n",
       "      <th>variant722</th>\n",
       "      <td>1409864</td>\n",
       "      <td>1409864</td>\n",
       "      <td>0</td>\n",
       "      <td>0</td>\n",
       "      <td>1</td>\n",
       "      <td>-9</td>\n",
       "      <td>22</td>\n",
       "      <td>rs139905430</td>\n",
       "      <td>0.0</td>\n",
       "      <td>51059434</td>\n",
       "      <td>T</td>\n",
       "      <td>C</td>\n",
       "      <td>2.0</td>\n",
       "    </tr>\n",
       "    <tr>\n",
       "      <th>variant723</th>\n",
       "      <td>1409864</td>\n",
       "      <td>1409864</td>\n",
       "      <td>0</td>\n",
       "      <td>0</td>\n",
       "      <td>1</td>\n",
       "      <td>-9</td>\n",
       "      <td>22</td>\n",
       "      <td>22:51059833_CT_C</td>\n",
       "      <td>0.0</td>\n",
       "      <td>51059833</td>\n",
       "      <td>C</td>\n",
       "      <td>CT</td>\n",
       "      <td>2.0</td>\n",
       "    </tr>\n",
       "    <tr>\n",
       "      <th>variant724</th>\n",
       "      <td>1409864</td>\n",
       "      <td>1409864</td>\n",
       "      <td>0</td>\n",
       "      <td>0</td>\n",
       "      <td>1</td>\n",
       "      <td>-9</td>\n",
       "      <td>22</td>\n",
       "      <td>rs5770964</td>\n",
       "      <td>0.0</td>\n",
       "      <td>51073893</td>\n",
       "      <td>G</td>\n",
       "      <td>C</td>\n",
       "      <td>2.0</td>\n",
       "    </tr>\n",
       "  </tbody>\n",
       "</table>\n",
       "<p>353371525 rows × 13 columns</p>\n",
       "</div>"
      ],
      "text/plain": [
       "                        fid      iid father mother gender trait chrom  \\\n",
       "sample  variant                                                         \n",
       "1688461 variant0    1688461  1688461      0      0      1    -9    22   \n",
       "        variant1    1688461  1688461      0      0      1    -9    22   \n",
       "        variant2    1688461  1688461      0      0      1    -9    22   \n",
       "        variant3    1688461  1688461      0      0      1    -9    22   \n",
       "        variant4    1688461  1688461      0      0      1    -9    22   \n",
       "...                     ...      ...    ...    ...    ...   ...   ...   \n",
       "1409864 variant720  1409864  1409864      0      0      1    -9    22   \n",
       "        variant721  1409864  1409864      0      0      1    -9    22   \n",
       "        variant722  1409864  1409864      0      0      1    -9    22   \n",
       "        variant723  1409864  1409864      0      0      1    -9    22   \n",
       "        variant724  1409864  1409864      0      0      1    -9    22   \n",
       "\n",
       "                                 snp   cm       pos a0  a1  genotype  \n",
       "sample  variant                                                       \n",
       "1688461 variant0          rs73159809  0.0  17054795  A   G       2.0  \n",
       "        variant1           rs3859824  0.0  17096707  G   C       0.0  \n",
       "        variant2          rs56140010  0.0  17101672  G   A       2.0  \n",
       "        variant3           rs9605005  0.0  17130268  A   G       2.0  \n",
       "        variant4         rs143380912  0.0  17145480  T   A       2.0  \n",
       "...                              ...  ...       ... ..  ..       ...  \n",
       "1409864 variant720          rs131747  0.0  51025074  T   C       0.0  \n",
       "        variant721        rs74937467  0.0  51040413  A   T       2.0  \n",
       "        variant722       rs139905430  0.0  51059434  T   C       2.0  \n",
       "        variant723  22:51059833_CT_C  0.0  51059833  C  CT       2.0  \n",
       "        variant724         rs5770964  0.0  51073893  G   C       2.0  \n",
       "\n",
       "[353371525 rows x 13 columns]"
      ]
     },
     "execution_count": 13,
     "metadata": {},
     "output_type": "execute_result"
    }
   ],
   "source": [
    "df"
   ]
  },
  {
   "cell_type": "code",
   "execution_count": 14,
   "id": "e920e5ad-6a42-45b4-90ca-945c45ec5081",
   "metadata": {},
   "outputs": [],
   "source": [
    "df = df.reset_index()"
   ]
  },
  {
   "cell_type": "code",
   "execution_count": 15,
   "id": "89e9edea-0cf8-4163-b1b4-6eb72777b23d",
   "metadata": {},
   "outputs": [],
   "source": [
    "covar_df = pd.read_csv(os.path.join(COVARS_PATH,TEST_COVAR),sep=\"\\t\",header=None)\n"
   ]
  },
  {
   "cell_type": "code",
   "execution_count": 16,
   "id": "587cbdb0-41c3-4bef-9f21-a7e76f7bca55",
   "metadata": {},
   "outputs": [],
   "source": [
    "covar_df = covar_df.set_axis([\"iid\",\"fid\"] + ALL_COVARS, axis=1)"
   ]
  },
  {
   "cell_type": "code",
   "execution_count": 17,
   "id": "ad7216d5-09df-48b9-868a-26861b1a576f",
   "metadata": {},
   "outputs": [],
   "source": [
    "legal_iid = set(covar_df[\"iid\"].astype(str))"
   ]
  },
  {
   "cell_type": "code",
   "execution_count": 18,
   "id": "f2957b44-0e41-456f-ae5b-4c08e5ae3bc2",
   "metadata": {},
   "outputs": [],
   "source": [
    "df = df[df[\"iid\"].isin(legal_iid)]"
   ]
  },
  {
   "cell_type": "code",
   "execution_count": 19,
   "id": "f0c38b1a-5269-4a0f-88d6-090719f6830e",
   "metadata": {},
   "outputs": [],
   "source": [
    "df = df.reset_index()"
   ]
  },
  {
   "cell_type": "code",
   "execution_count": null,
   "id": "1665d573-eb80-44a6-b834-f06c0de79665",
   "metadata": {},
   "outputs": [],
   "source": []
  },
  {
   "cell_type": "code",
   "execution_count": 20,
   "id": "6d1f310b-6691-414b-bb61-9e38f3ef816c",
   "metadata": {},
   "outputs": [],
   "source": [
    "# covar_df = covar_df.set_index(\"iid\")\n"
   ]
  },
  {
   "cell_type": "code",
   "execution_count": 21,
   "id": "dc5213db-24b9-463b-b47e-e93e12d83bcc",
   "metadata": {},
   "outputs": [],
   "source": [
    "unique_variants = list(df[\"variant\"].unique())\n",
    "random.shuffle(unique_variants)"
   ]
  },
  {
   "cell_type": "code",
   "execution_count": null,
   "id": "cd8c7aae-908e-4271-ac90-07b68a7f0a82",
   "metadata": {},
   "outputs": [],
   "source": []
  },
  {
   "cell_type": "code",
   "execution_count": 22,
   "id": "318d5ecd-cf33-41de-98ff-010c509c64e0",
   "metadata": {},
   "outputs": [],
   "source": [
    "# TODO: change so variants are selected from all over the genom, and by prevelance \n",
    "major_variants = set(unique_variants[0:NUMBER_OF_MAJOR_VARIANTS])\n",
    "medium_variants = set(unique_variants[NUMBER_OF_MAJOR_VARIANTS:NUMBER_OF_MAJOR_VARIANTS+NUMBER_OF_MEDIUM_VARIANTS])\n",
    "lesser_variants = set(unique_variants[NUMBER_OF_MAJOR_VARIANTS+NUMBER_OF_MEDIUM_VARIANTS:NUMBER_OF_MAJOR_VARIANTS+NUMBER_OF_MEDIUM_VARIANTS+NUMBER_OF_LESSER_VARIANTS])"
   ]
  },
  {
   "cell_type": "code",
   "execution_count": 23,
   "id": "93c3980f-2c5a-4a44-898a-dabe0ba51735",
   "metadata": {},
   "outputs": [],
   "source": [
    "included_variants = major_variants.union(medium_variants).union(lesser_variants)\n",
    "# TODO: add protective variants"
   ]
  },
  {
   "cell_type": "code",
   "execution_count": 24,
   "id": "1f34da0a-1eac-4985-b0f8-95fc1d269a14",
   "metadata": {},
   "outputs": [],
   "source": [
    "df = df[df[\"variant\"].isin(included_variants)]"
   ]
  },
  {
   "cell_type": "code",
   "execution_count": 25,
   "id": "f7bfdbfb-c626-4f67-b262-2c7cf5fe4984",
   "metadata": {},
   "outputs": [],
   "source": [
    "genotype_dict = df[[\"iid\",\"variant\",\"genotype\"]].set_index([\"iid\",\"variant\"]).to_dict(orient=\"index\")\n",
    "for key in genotype_dict.keys():\n",
    "    genotype_dict[key] = genotype_dict[key][\"genotype\"]"
   ]
  },
  {
   "cell_type": "code",
   "execution_count": 26,
   "id": "aa01885c-6ca8-4e18-98a5-fb982cccc2ee",
   "metadata": {},
   "outputs": [],
   "source": [
    "effect_dict = {}\n",
    "for var in included_variants:\n",
    "    if var in major_variants:\n",
    "        effect_dict[var] = MAJOR_VARIANT_DELTA\n",
    "        continue\n",
    "    if var in medium_variants:\n",
    "        effect_dict[var] = MEDIUM_VARIANT_DELTA\n",
    "        continue\n",
    "    effect_dict[var] = LESSER_VARIANT_DELTA"
   ]
  },
  {
   "cell_type": "code",
   "execution_count": 27,
   "id": "95cd6380-2e45-4a55-92a7-073acf2a3892",
   "metadata": {},
   "outputs": [],
   "source": [
    "# %%time\n",
    "df[\"effect\"] = df[\"variant\"].map(effect_dict)\n",
    "# df[\"effect\"] = df[\"effect\"]**df[\"genotype\"]\n",
    "\n",
    "# Delta form\n",
    "df[\"effect\"] = df[\"effect\"]*df[\"genotype\"]"
   ]
  },
  {
   "cell_type": "code",
   "execution_count": 28,
   "id": "476bf0fb-59b8-49d9-8e6c-f242f55fbd1c",
   "metadata": {},
   "outputs": [],
   "source": [
    "df = df.reset_index()"
   ]
  },
  {
   "cell_type": "code",
   "execution_count": 29,
   "id": "7e812c4a-c423-466d-a2de-749775f02ebc",
   "metadata": {},
   "outputs": [],
   "source": [
    "# # TODO: change so that the variance is for the phenotype_scroe\n",
    "# added_variance = TARGET_VARIANCE -df[\"effect\"].var()\n",
    "# mu, sigma = 0, added_variance # mean and standard deviation\n",
    "# noise = np.random.normal(mu, sigma**0.5, len(df))\n",
    "# df[\"fixed_effect\"] = df[\"effect\"] + noise\n",
    "# df[\"fixed_effect\"].var()"
   ]
  },
  {
   "cell_type": "code",
   "execution_count": null,
   "id": "f3df82ea-6765-4fe1-935e-18bb7d03fc11",
   "metadata": {},
   "outputs": [],
   "source": []
  },
  {
   "cell_type": "code",
   "execution_count": 30,
   "id": "fcab98a1-06a9-45ef-a453-dea3ae25185e",
   "metadata": {},
   "outputs": [
    {
     "data": {
      "text/plain": [
       "count    333371.000000\n",
       "mean          0.288013\n",
       "std           0.079834\n",
       "min           0.100000\n",
       "25%           0.230000\n",
       "50%           0.300000\n",
       "75%           0.350000\n",
       "max           0.440000\n",
       "Name: year_of_birth, dtype: float64"
      ]
     },
     "execution_count": 30,
     "metadata": {},
     "output_type": "execute_result"
    }
   ],
   "source": [
    "\n",
    "covar_df[\"year_of_birth\"] = 1- ((np.array(covar_df[covar_df.columns[2:]])[:,1] - YOB_SUBTRACTOR)/YOB_DEVIDOR)\n",
    "covar_df[\"year_of_birth\"].describe()"
   ]
  },
  {
   "cell_type": "code",
   "execution_count": 31,
   "id": "533165b3-75c0-4728-9864-3d7ba471d0f5",
   "metadata": {},
   "outputs": [],
   "source": [
    "covar_df[\"covar_effects_chance\"] = ((np.array(covar_df[covar_df.columns[2:]]) @ (np.array(COVAR_EFFECTS)/ COVAR_EFFECTS_DEVIDOR))) "
   ]
  },
  {
   "cell_type": "code",
   "execution_count": null,
   "id": "6bfedff9-ac04-4438-b782-63853eadf0ac",
   "metadata": {},
   "outputs": [],
   "source": []
  },
  {
   "cell_type": "code",
   "execution_count": 32,
   "id": "5a0f73e6-b98f-4d6c-82fb-fb3d3e2125bc",
   "metadata": {},
   "outputs": [],
   "source": [
    "# TODO: change name\n",
    "disease_chance_dict = (1 - df.groupby(\"iid\")[\"effect\"].sum()).to_dict()\n",
    "# disease_chance_dict\n",
    "# TODO: change name, this is not a chance, but a result\n",
    "covar_df[\"genetic_chance\"] = covar_df[\"iid\"].astype(str).map(disease_chance_dict)\n"
   ]
  },
  {
   "cell_type": "code",
   "execution_count": 33,
   "id": "92af2829-94fd-4151-8beb-7e4338587227",
   "metadata": {},
   "outputs": [],
   "source": [
    "# HERETEBILITY = var(ax) = a**2*var(x)\n",
    "# HERETEBILITY = a**2*var(x)\n",
    "# a**2 = HERETEBILITY/var(x)\n",
    "# a = sqrt(HERETEBILITY/var(x))"
   ]
  },
  {
   "cell_type": "code",
   "execution_count": 34,
   "id": "f7bd380c-af51-49cf-b7aa-a6eb21ce95d7",
   "metadata": {},
   "outputs": [],
   "source": [
    "# adjust so genetic effect and covar effect match the requested\n",
    "gene_var = ((covar_df[\"genetic_chance\"]).var())\n",
    "covar_var = (covar_df[\"covar_effects_chance\"].var())\n",
    "genetic_factor = np.sqrt(HERETEBILITY/gene_var)\n",
    "covar_factor = np.sqrt(COVAR_EFFECT/covar_var)\n",
    "# x = COVAR_GENETIC_EFFECT_RATIO*covar_sum/gene_sum\n",
    "# covar_df[\"genetic_chance\"] = covar_df[\"genetic_chance\"] * x\n",
    "covar_df[\"genetic_chance\"] = covar_df[\"genetic_chance\"] * genetic_factor\n",
    "covar_df[\"covar_effects_chance\"] = covar_df[\"covar_effects_chance\"] * covar_factor"
   ]
  },
  {
   "cell_type": "code",
   "execution_count": 35,
   "id": "60173ab8-5ddb-48e2-82f9-e2264c251fc1",
   "metadata": {},
   "outputs": [],
   "source": [
    "covar_df[\"disease_chance\"] = covar_df[\"genetic_chance\"] + covar_df[\"covar_effects_chance\"]"
   ]
  },
  {
   "cell_type": "code",
   "execution_count": 36,
   "id": "2ca1f4e6-1041-400d-9211-ba615d9240af",
   "metadata": {},
   "outputs": [
    {
     "data": {
      "text/plain": [
       "1.0000113668871944"
      ]
     },
     "execution_count": 36,
     "metadata": {},
     "output_type": "execute_result"
    }
   ],
   "source": [
    "# TODO: change so that the variance is for the phenotype_scroe\n",
    "added_variance = TARGET_VARIANCE -covar_df[\"disease_chance\"].var()\n",
    "\n",
    "mu, sigma = 0, added_variance # mean and standard deviation\n",
    "noise = np.random.normal(mu, sigma**0.5, len(covar_df))\n",
    "covar_df[\"disease_chance\"] = covar_df[\"disease_chance\"] + noise\n",
    "covar_df[\"disease_chance\"].var()\n"
   ]
  },
  {
   "cell_type": "code",
   "execution_count": null,
   "id": "7540a820-d9b8-455d-b399-95538227bc2d",
   "metadata": {},
   "outputs": [],
   "source": []
  },
  {
   "cell_type": "code",
   "execution_count": 37,
   "id": "9e4adc02-32b6-4caa-9300-cf47cc83f2c8",
   "metadata": {},
   "outputs": [],
   "source": [
    "quantile = (covar_df[[\"disease_chance\"]].quantile(1 - DISEASE_PREVELANCE, method=\"table\", interpolation=\"nearest\")[\"disease_chance\"])\n",
    "covar_df['disease_indicator'] = (\n",
    "    covar_df['disease_chance'] > quantile\n",
    ").astype(int).astype(float)"
   ]
  },
  {
   "cell_type": "code",
   "execution_count": 38,
   "id": "6b72c0b0-d339-4eb1-ad34-d22d99bcfbed",
   "metadata": {},
   "outputs": [],
   "source": [
    "# TODO:\n",
    "# randomly select variants instead of first 100\n",
    "# multiple phenotypes with different heretability/covar/random effects\n",
    "#     for each phenotype, run on each covar file that appeard in the original study\n",
    "# next step - use snp from catalog\n",
    "# when evaluating, finding something close to causal, is not a mistake, should be treated as true positive\n"
   ]
  },
  {
   "cell_type": "code",
   "execution_count": 39,
   "id": "c3c1451b-1357-416f-8507-d5a1cc0deff2",
   "metadata": {},
   "outputs": [],
   "source": [
    "# AC_EFFECT_SCORE = 1\n",
    "# BATCH_EFFECT_SCORE = 1\n",
    "# SEX_EFFECT = 3\n",
    "# YOB_EFFECT = 1\n",
    "# PC_EFFECT_MAX = 1\n"
   ]
  },
  {
   "cell_type": "code",
   "execution_count": 40,
   "id": "e073bc88-a293-40d3-859c-4892ed5b1346",
   "metadata": {},
   "outputs": [],
   "source": [
    "phenotype_file_result_name = (\n",
    "    f\"generated_pehn_result_target_var={TARGET_VARIANCE}_target_prev={DISEASE_PREVELANCE}_\" + \n",
    "    f\"major_n={NUMBER_OF_MAJOR_VARIANTS}_med_n={NUMBER_OF_MEDIUM_VARIANTS}_less__m={NUMBER_OF_LESSER_VARIANTS}_\" +\n",
    "    f\"major_d={MAJOR_VARIANT_DELTA}_med_d={MEDIUM_VARIANT_DELTA}_less_d={LESSER_VARIANT_DELTA}_\" \n",
    "    f\"heretability={HERETEBILITY}_covar_effect={COVAR_EFFECT}\")"
   ]
  },
  {
   "cell_type": "code",
   "execution_count": 41,
   "id": "883fda19-9480-40a3-b3a7-56a9c25d1de9",
   "metadata": {},
   "outputs": [
    {
     "data": {
      "text/plain": [
       "'generated_pehn_result_target_var=1_target_prev=0.05_major_n=10_med_n=15_less__m=25_major_d=1_med_d=0.2_less_d=0.01_heretability=0.1_covar_effect=0.15'"
      ]
     },
     "execution_count": 41,
     "metadata": {},
     "output_type": "execute_result"
    }
   ],
   "source": [
    "phenotype_file_result_name"
   ]
  },
  {
   "cell_type": "code",
   "execution_count": 42,
   "id": "3720647a-fc13-42df-b2da-b307cd0d1b9c",
   "metadata": {},
   "outputs": [
    {
     "data": {
      "text/plain": [
       "0.15"
      ]
     },
     "execution_count": 42,
     "metadata": {},
     "output_type": "execute_result"
    }
   ],
   "source": [
    "COVAR_EFFECT"
   ]
  },
  {
   "cell_type": "code",
   "execution_count": 43,
   "id": "8723ee65-f041-417f-8918-1b9978aeeb36",
   "metadata": {},
   "outputs": [],
   "source": [
    "\n",
    "if INCLUDE_COVAR:\n",
    "    phenotype_file_result_name+= (\n",
    "        f\"_ac={AC_EFFECT_SCORE}_batch={BATCH_EFFECT_SCORE}_sex={SEX_EFFECT}_yob={YOB_EFFECT}_pc_max={PC_EFFECT_MAX}\"\n",
    "    )\n",
    "\n",
    "phenotype_file_result_name = phenotype_file_result_name+\".txt\"\n",
    "phenotype_file_path = os.path.join(PHENOTYPE_DIR_RESULT_PATH,phenotype_file_result_name)\n",
    "covar_df[[\"iid\",\"fid\",\"disease_indicator\"]].to_csv(phenotype_file_path,index=False,header=False,sep=\"\\t\")"
   ]
  },
  {
   "cell_type": "code",
   "execution_count": 44,
   "id": "ff0cd516-b024-407a-a9ec-87dabf9a243b",
   "metadata": {},
   "outputs": [
    {
     "data": {
      "text/plain": [
       "'generated_pehn_result_target_var=1_target_prev=0.05_major_n=10_med_n=15_less__m=25_major_d=1_med_d=0.2_less_d=0.01_heretability=0.1_covar_effect=0.15_ac=1_batch=1_sex=3_yob=1_pc_max=0.01.txt'"
      ]
     },
     "execution_count": 44,
     "metadata": {},
     "output_type": "execute_result"
    }
   ],
   "source": [
    "phenotype_file_result_name"
   ]
  },
  {
   "cell_type": "code",
   "execution_count": 45,
   "id": "8361aafe-3c85-4e9f-8128-ae959dae372b",
   "metadata": {},
   "outputs": [],
   "source": [
    "chrom_path = os.path.join(GENETICS_PATH,TEST_CHROM)\n",
    "result_path = os.path.join(PLINK_RESULT_DIR,phenotype_file_result_name.replace(\".txt\",\"\"))"
   ]
  },
  {
   "cell_type": "code",
   "execution_count": 46,
   "id": "088d4673-0e48-4ba0-b04e-5e419b3674a4",
   "metadata": {},
   "outputs": [],
   "source": [
    "command =f\"{PLINK_PATH} --bed {chrom_path}.bed --bim {chrom_path}.bim --fam {chrom_path}.fam --pheno {phenotype_file_path} --covar {os.path.join(COVARS_PATH,TEST_COVAR)}  --out  {result_path} --glm hide-covar --mac 20 --covar-variance-standardize --freq --threads 30 --memory 30000 --1\""
   ]
  },
  {
   "cell_type": "code",
   "execution_count": 47,
   "id": "8dd8c6d4-02b2-4222-98d3-27188aa60cdf",
   "metadata": {},
   "outputs": [
    {
     "name": "stdout",
     "output_type": "stream",
     "text": [
      "/sci/nosnap/michall/roeizucker/plink2 --bed /sci/nosnap/michall/roeizucker/covar_tests/small_genetics/chr22_filtered_mafe-2_hwee-10_geno_02_random_001pct.bed --bim /sci/nosnap/michall/roeizucker/covar_tests/small_genetics/chr22_filtered_mafe-2_hwee-10_geno_02_random_001pct.bim --fam /sci/nosnap/michall/roeizucker/covar_tests/small_genetics/chr22_filtered_mafe-2_hwee-10_geno_02_random_001pct.fam --pheno /sci/archive/michall/roeizucker/covar_tests_non_coding_HADASSA_PLINK/phenotypes/generated_pehn_result_target_var=1_target_prev=0.05_major_n=10_med_n=15_less__m=25_major_d=1_med_d=0.2_less_d=0.01_heretability=0.1_covar_effect=0.15_ac=1_batch=1_sex=3_yob=1_pc_max=0.01.txt --covar /sci/archive/michall/roeizucker/covar_tests_non_coding_HADASSA_PLINK/covariates_sex_year_of_birth_AC_batch_40_PC.txt  --out  /sci/archive/michall/roeizucker/covar_tests_non_coding_HADASSA_PLINK/results/generated_pehn_result_target_var=1_target_prev=0.05_major_n=10_med_n=15_less__m=25_major_d=1_med_d=0.2_less_d=0.01_heretability=0.1_covar_effect=0.15_ac=1_batch=1_sex=3_yob=1_pc_max=0.01 --glm hide-covar --mac 20 --covar-variance-standardize --freq --threads 30 --memory 30000 --1\n"
     ]
    }
   ],
   "source": [
    "print(command)"
   ]
  },
  {
   "cell_type": "code",
   "execution_count": 48,
   "id": "0ecda68e-f158-4c64-8bfa-bc5433e93dfc",
   "metadata": {},
   "outputs": [],
   "source": [
    "participants = set(covar_df[\"fid\"].astype(str))"
   ]
  },
  {
   "cell_type": "code",
   "execution_count": 49,
   "id": "1db49326-fcb1-4bb3-9898-5600339f0d50",
   "metadata": {},
   "outputs": [],
   "source": [
    "# reset_df[reset_df[\"sample\"].isin(participants)]"
   ]
  },
  {
   "cell_type": "code",
   "execution_count": 50,
   "id": "eb473ac1-352a-4dbd-b276-0b472b942cbc",
   "metadata": {},
   "outputs": [],
   "source": [
    "# included_variants = major_variants.union(medium_variants).union(lesser_variants)\n",
    "major_vars = list(df[df[\"variant\"].isin(major_variants)][\"snp\"].unique())\n",
    "med_vars = list(df[df[\"variant\"].isin(medium_variants)][\"snp\"].unique())\n",
    "lesser_vars = list(df[df[\"variant\"].isin(lesser_variants)][\"snp\"].unique())"
   ]
  },
  {
   "cell_type": "code",
   "execution_count": 51,
   "id": "18fc8984-b4b7-4db0-b54a-3214b964139d",
   "metadata": {},
   "outputs": [],
   "source": [
    "variant_dict = {}\n",
    "variant_dict[\"major_vars\"] = major_vars\n",
    "variant_dict[\"med_vars\"] = med_vars\n",
    "variant_dict[\"lesser_vars\"] = lesser_vars\n",
    "json_file_name = phenotype_file_result_name.replace(\".txt\",\"\") + \"variants.json\"\n",
    "with open(json_file_name, 'w', encoding='utf-8') as f:\n",
    "    json.dump(variant_dict, f, ensure_ascii=False, indent=4)"
   ]
  },
  {
   "cell_type": "code",
   "execution_count": 52,
   "id": "c73e5dc7-1093-4078-acde-9bf66416f148",
   "metadata": {},
   "outputs": [
    {
     "data": {
      "text/plain": [
       "10"
      ]
     },
     "execution_count": 52,
     "metadata": {},
     "output_type": "execute_result"
    }
   ],
   "source": [
    "len(major_vars)"
   ]
  },
  {
   "cell_type": "code",
   "execution_count": 61,
   "id": "f2e90e42-4891-4dc5-b75a-d95427d99dcb",
   "metadata": {},
   "outputs": [
    {
     "name": "stdout",
     "output_type": "stream",
     "text": [
      "sbatch --mem=12g -c10 --time=3-0 --requeue --killable --wrap=\"/sci/nosnap/michall/roeizucker/plink2 --bed /sci/nosnap/michall/roeizucker/covar_tests/small_genetics/chr22_filtered_mafe-2_hwee-10_geno_02_random_001pct.bed --bim /sci/nosnap/michall/roeizucker/covar_tests/small_genetics/chr22_filtered_mafe-2_hwee-10_geno_02_random_001pct.bim --fam /sci/nosnap/michall/roeizucker/covar_tests/small_genetics/chr22_filtered_mafe-2_hwee-10_geno_02_random_001pct.fam --pheno /sci/archive/michall/roeizucker/covar_tests_non_coding_HADASSA_PLINK/phenotypes/generated_pehn_result_target_var=1_target_prev=0.05_major_n=10_med_n=15_less__m=25_major_d=1_med_d=0.2_less_d=0.01_heretability=0.1_covar_effect=0.15_ac=1_batch=1_sex=3_yob=1_pc_max=0.01.txt --covar /sci/archive/michall/roeizucker/covar_tests_non_coding_HADASSA_PLINK/covariates_year_of_birth_0_PC.txt  --out  /sci/archive/michall/roeizucker/covar_tests_non_coding_HADASSA_PLINK/results/generated_pehn_result_target_var=1_target_prev=0.05_major_n=10_med_n=15_less__m=25_major_d=1_med_d=0.2_less_d=0.01_heretability=0.1_covar_effect=0.15_ac=1_batch=1_sex=3_yob=1_pc_max=0.01covariates_year_of_birth_0_PC --glm hide-covar --mac 20 --covar-variance-standardize --freq --threads 10 --memory 10000 --1\"\n",
      "sbatch --mem=12g -c10 --time=3-0 --requeue --killable --wrap=\"/sci/nosnap/michall/roeizucker/plink2 --bed /sci/nosnap/michall/roeizucker/covar_tests/small_genetics/chr22_filtered_mafe-2_hwee-10_geno_02_random_001pct.bed --bim /sci/nosnap/michall/roeizucker/covar_tests/small_genetics/chr22_filtered_mafe-2_hwee-10_geno_02_random_001pct.bim --fam /sci/nosnap/michall/roeizucker/covar_tests/small_genetics/chr22_filtered_mafe-2_hwee-10_geno_02_random_001pct.fam --pheno /sci/archive/michall/roeizucker/covar_tests_non_coding_HADASSA_PLINK/phenotypes/generated_pehn_result_target_var=1_target_prev=0.05_major_n=10_med_n=15_less__m=25_major_d=1_med_d=0.2_less_d=0.01_heretability=0.1_covar_effect=0.15_ac=1_batch=1_sex=3_yob=1_pc_max=0.01.txt --covar /sci/archive/michall/roeizucker/covar_tests_non_coding_HADASSA_PLINK/covariates_sex_0_PC.txt  --out  /sci/archive/michall/roeizucker/covar_tests_non_coding_HADASSA_PLINK/results/generated_pehn_result_target_var=1_target_prev=0.05_major_n=10_med_n=15_less__m=25_major_d=1_med_d=0.2_less_d=0.01_heretability=0.1_covar_effect=0.15_ac=1_batch=1_sex=3_yob=1_pc_max=0.01covariates_sex_0_PC --glm hide-covar --mac 20 --covar-variance-standardize --freq --threads 10 --memory 10000 --1\"\n",
      "sbatch --mem=12g -c10 --time=3-0 --requeue --killable --wrap=\"/sci/nosnap/michall/roeizucker/plink2 --bed /sci/nosnap/michall/roeizucker/covar_tests/small_genetics/chr22_filtered_mafe-2_hwee-10_geno_02_random_001pct.bed --bim /sci/nosnap/michall/roeizucker/covar_tests/small_genetics/chr22_filtered_mafe-2_hwee-10_geno_02_random_001pct.bim --fam /sci/nosnap/michall/roeizucker/covar_tests/small_genetics/chr22_filtered_mafe-2_hwee-10_geno_02_random_001pct.fam --pheno /sci/archive/michall/roeizucker/covar_tests_non_coding_HADASSA_PLINK/phenotypes/generated_pehn_result_target_var=1_target_prev=0.05_major_n=10_med_n=15_less__m=25_major_d=1_med_d=0.2_less_d=0.01_heretability=0.1_covar_effect=0.15_ac=1_batch=1_sex=3_yob=1_pc_max=0.01.txt --covar /sci/archive/michall/roeizucker/covar_tests_non_coding_HADASSA_PLINK/covariates_sex_year_of_birth_0_PC.txt  --out  /sci/archive/michall/roeizucker/covar_tests_non_coding_HADASSA_PLINK/results/generated_pehn_result_target_var=1_target_prev=0.05_major_n=10_med_n=15_less__m=25_major_d=1_med_d=0.2_less_d=0.01_heretability=0.1_covar_effect=0.15_ac=1_batch=1_sex=3_yob=1_pc_max=0.01covariates_sex_year_of_birth_0_PC --glm hide-covar --mac 20 --covar-variance-standardize --freq --threads 10 --memory 10000 --1\"\n",
      "sbatch --mem=12g -c10 --time=3-0 --requeue --killable --wrap=\"/sci/nosnap/michall/roeizucker/plink2 --bed /sci/nosnap/michall/roeizucker/covar_tests/small_genetics/chr22_filtered_mafe-2_hwee-10_geno_02_random_001pct.bed --bim /sci/nosnap/michall/roeizucker/covar_tests/small_genetics/chr22_filtered_mafe-2_hwee-10_geno_02_random_001pct.bim --fam /sci/nosnap/michall/roeizucker/covar_tests/small_genetics/chr22_filtered_mafe-2_hwee-10_geno_02_random_001pct.fam --pheno /sci/archive/michall/roeizucker/covar_tests_non_coding_HADASSA_PLINK/phenotypes/generated_pehn_result_target_var=1_target_prev=0.05_major_n=10_med_n=15_less__m=25_major_d=1_med_d=0.2_less_d=0.01_heretability=0.1_covar_effect=0.15_ac=1_batch=1_sex=3_yob=1_pc_max=0.01.txt --covar /sci/archive/michall/roeizucker/covar_tests_non_coding_HADASSA_PLINK/covariates_5_PC.txt  --out  /sci/archive/michall/roeizucker/covar_tests_non_coding_HADASSA_PLINK/results/generated_pehn_result_target_var=1_target_prev=0.05_major_n=10_med_n=15_less__m=25_major_d=1_med_d=0.2_less_d=0.01_heretability=0.1_covar_effect=0.15_ac=1_batch=1_sex=3_yob=1_pc_max=0.01covariates_5_PC --glm hide-covar --mac 20 --covar-variance-standardize --freq --threads 10 --memory 10000 --1\"\n",
      "sbatch --mem=12g -c10 --time=3-0 --requeue --killable --wrap=\"/sci/nosnap/michall/roeizucker/plink2 --bed /sci/nosnap/michall/roeizucker/covar_tests/small_genetics/chr22_filtered_mafe-2_hwee-10_geno_02_random_001pct.bed --bim /sci/nosnap/michall/roeizucker/covar_tests/small_genetics/chr22_filtered_mafe-2_hwee-10_geno_02_random_001pct.bim --fam /sci/nosnap/michall/roeizucker/covar_tests/small_genetics/chr22_filtered_mafe-2_hwee-10_geno_02_random_001pct.fam --pheno /sci/archive/michall/roeizucker/covar_tests_non_coding_HADASSA_PLINK/phenotypes/generated_pehn_result_target_var=1_target_prev=0.05_major_n=10_med_n=15_less__m=25_major_d=1_med_d=0.2_less_d=0.01_heretability=0.1_covar_effect=0.15_ac=1_batch=1_sex=3_yob=1_pc_max=0.01.txt --covar /sci/archive/michall/roeizucker/covar_tests_non_coding_HADASSA_PLINK/covariates_sex_year_of_birth_40_PC.txt  --out  /sci/archive/michall/roeizucker/covar_tests_non_coding_HADASSA_PLINK/results/generated_pehn_result_target_var=1_target_prev=0.05_major_n=10_med_n=15_less__m=25_major_d=1_med_d=0.2_less_d=0.01_heretability=0.1_covar_effect=0.15_ac=1_batch=1_sex=3_yob=1_pc_max=0.01covariates_sex_year_of_birth_40_PC --glm hide-covar --mac 20 --covar-variance-standardize --freq --threads 10 --memory 10000 --1\"\n",
      "sbatch --mem=12g -c10 --time=3-0 --requeue --killable --wrap=\"/sci/nosnap/michall/roeizucker/plink2 --bed /sci/nosnap/michall/roeizucker/covar_tests/small_genetics/chr22_filtered_mafe-2_hwee-10_geno_02_random_001pct.bed --bim /sci/nosnap/michall/roeizucker/covar_tests/small_genetics/chr22_filtered_mafe-2_hwee-10_geno_02_random_001pct.bim --fam /sci/nosnap/michall/roeizucker/covar_tests/small_genetics/chr22_filtered_mafe-2_hwee-10_geno_02_random_001pct.fam --pheno /sci/archive/michall/roeizucker/covar_tests_non_coding_HADASSA_PLINK/phenotypes/generated_pehn_result_target_var=1_target_prev=0.05_major_n=10_med_n=15_less__m=25_major_d=1_med_d=0.2_less_d=0.01_heretability=0.1_covar_effect=0.15_ac=1_batch=1_sex=3_yob=1_pc_max=0.01.txt --covar /sci/archive/michall/roeizucker/covar_tests_non_coding_HADASSA_PLINK/covariates_sex_year_of_birth_batch_40_PC.txt  --out  /sci/archive/michall/roeizucker/covar_tests_non_coding_HADASSA_PLINK/results/generated_pehn_result_target_var=1_target_prev=0.05_major_n=10_med_n=15_less__m=25_major_d=1_med_d=0.2_less_d=0.01_heretability=0.1_covar_effect=0.15_ac=1_batch=1_sex=3_yob=1_pc_max=0.01covariates_sex_year_of_birth_batch_40_PC --glm hide-covar --mac 20 --covar-variance-standardize --freq --threads 10 --memory 10000 --1\"\n",
      "sbatch --mem=12g -c10 --time=3-0 --requeue --killable --wrap=\"/sci/nosnap/michall/roeizucker/plink2 --bed /sci/nosnap/michall/roeizucker/covar_tests/small_genetics/chr22_filtered_mafe-2_hwee-10_geno_02_random_001pct.bed --bim /sci/nosnap/michall/roeizucker/covar_tests/small_genetics/chr22_filtered_mafe-2_hwee-10_geno_02_random_001pct.bim --fam /sci/nosnap/michall/roeizucker/covar_tests/small_genetics/chr22_filtered_mafe-2_hwee-10_geno_02_random_001pct.fam --pheno /sci/archive/michall/roeizucker/covar_tests_non_coding_HADASSA_PLINK/phenotypes/generated_pehn_result_target_var=1_target_prev=0.05_major_n=10_med_n=15_less__m=25_major_d=1_med_d=0.2_less_d=0.01_heretability=0.1_covar_effect=0.15_ac=1_batch=1_sex=3_yob=1_pc_max=0.01.txt --covar /sci/archive/michall/roeizucker/covar_tests_non_coding_HADASSA_PLINK/covariates_sex_year_of_birth_AC_40_PC.txt  --out  /sci/archive/michall/roeizucker/covar_tests_non_coding_HADASSA_PLINK/results/generated_pehn_result_target_var=1_target_prev=0.05_major_n=10_med_n=15_less__m=25_major_d=1_med_d=0.2_less_d=0.01_heretability=0.1_covar_effect=0.15_ac=1_batch=1_sex=3_yob=1_pc_max=0.01covariates_sex_year_of_birth_AC_40_PC --glm hide-covar --mac 20 --covar-variance-standardize --freq --threads 10 --memory 10000 --1\"\n",
      "sbatch --mem=12g -c10 --time=3-0 --requeue --killable --wrap=\"/sci/nosnap/michall/roeizucker/plink2 --bed /sci/nosnap/michall/roeizucker/covar_tests/small_genetics/chr22_filtered_mafe-2_hwee-10_geno_02_random_001pct.bed --bim /sci/nosnap/michall/roeizucker/covar_tests/small_genetics/chr22_filtered_mafe-2_hwee-10_geno_02_random_001pct.bim --fam /sci/nosnap/michall/roeizucker/covar_tests/small_genetics/chr22_filtered_mafe-2_hwee-10_geno_02_random_001pct.fam --pheno /sci/archive/michall/roeizucker/covar_tests_non_coding_HADASSA_PLINK/phenotypes/generated_pehn_result_target_var=1_target_prev=0.05_major_n=10_med_n=15_less__m=25_major_d=1_med_d=0.2_less_d=0.01_heretability=0.1_covar_effect=0.15_ac=1_batch=1_sex=3_yob=1_pc_max=0.01.txt --covar /sci/archive/michall/roeizucker/covar_tests_non_coding_HADASSA_PLINK/covariates_sex_year_of_birth_AC_batch_40_PC.txt  --out  /sci/archive/michall/roeizucker/covar_tests_non_coding_HADASSA_PLINK/results/generated_pehn_result_target_var=1_target_prev=0.05_major_n=10_med_n=15_less__m=25_major_d=1_med_d=0.2_less_d=0.01_heretability=0.1_covar_effect=0.15_ac=1_batch=1_sex=3_yob=1_pc_max=0.01covariates_sex_year_of_birth_AC_batch_40_PC --glm hide-covar --mac 20 --covar-variance-standardize --freq --threads 10 --memory 10000 --1\"\n",
      "sbatch --mem=12g -c10 --time=3-0 --requeue --killable --wrap=\"/sci/nosnap/michall/roeizucker/plink2 --bed /sci/nosnap/michall/roeizucker/covar_tests/small_genetics/chr22_filtered_mafe-2_hwee-10_geno_02_random_001pct.bed --bim /sci/nosnap/michall/roeizucker/covar_tests/small_genetics/chr22_filtered_mafe-2_hwee-10_geno_02_random_001pct.bim --fam /sci/nosnap/michall/roeizucker/covar_tests/small_genetics/chr22_filtered_mafe-2_hwee-10_geno_02_random_001pct.fam --pheno /sci/archive/michall/roeizucker/covar_tests_non_coding_HADASSA_PLINK/phenotypes/generated_pehn_result_target_var=1_target_prev=0.05_major_n=10_med_n=15_less__m=25_major_d=1_med_d=0.2_less_d=0.01_heretability=0.1_covar_effect=0.15_ac=1_batch=1_sex=3_yob=1_pc_max=0.01.txt--out  /sci/archive/michall/roeizucker/covar_tests_non_coding_HADASSA_PLINK/results/generated_pehn_result_target_var=1_target_prev=0.05_major_n=10_med_n=15_less__m=25_major_d=1_med_d=0.2_less_d=0.01_heretability=0.1_covar_effect=0.15_ac=1_batch=1_sex=3_yob=1_pc_max=0.01covariates_sex_year_of_birth_AC_batch_40_PC --glm hide-covar --mac 20 --covar-variance-standardize --freq --threads 10 --memory 10000 --1\"\n"
     ]
    }
   ],
   "source": [
    "# np.array(covar_df[covar_df.columns[2:-2]])[0]\n",
    "# actual code for mltiple\n",
    "for covar_type in COVAR_GROUPS:\n",
    "    covar_file = os.path.join(COVARS_PATH,covar_type + \".txt\")\n",
    "    result_path = os.path.join(PLINK_RESULT_DIR,phenotype_file_result_name.replace(\".txt\",covar_type))\n",
    "    command =f\"{PLINK_PATH} --bed {chrom_path}.bed --bim {chrom_path}.bim --fam {chrom_path}.fam --pheno {phenotype_file_path} --covar {covar_file}  --out  {result_path} --glm hide-covar --mac 20 --covar-variance-standardize --freq --threads 10 --memory 10000 --1\"\n",
    "    # print(command)\n",
    "    print(f'sbatch --mem=12g -c10 --time=3-0 --requeue --killable --wrap=\"{command}\"')\n",
    "command =f\"{PLINK_PATH} --bed {chrom_path}.bed --bim {chrom_path}.bim --fam {chrom_path}.fam --pheno {phenotype_file_path}--out  {result_path} --glm hide-covar --mac 20 --covar-variance-standardize --freq --threads 10 --memory 10000 --1\"\n",
    "# print(command)\n",
    "result_path = os.path.join(PLINK_RESULT_DIR,phenotype_file_result_name.replace(\".txt\",\"_no_covar\"))\n",
    "print(f'sbatch --mem=12g -c10 --time=3-0 --requeue --killable --wrap=\"{command}\"')\n"
   ]
  },
  {
   "cell_type": "markdown",
   "id": "ec8b13cc-4d8f-4178-aebd-794f0817209b",
   "metadata": {},
   "source": [
    "## GWAS simulation visualisation"
   ]
  },
  {
   "cell_type": "code",
   "execution_count": 56,
   "id": "cb3e7c72-268b-4715-9be3-798b32575fde",
   "metadata": {},
   "outputs": [],
   "source": [
    "json_file_name = phenotype_file_result_name.replace(\".txt\",\"\") + \"variants.json\"\n",
    "with open(json_file_name) as json_file:\n",
    "        data = json.load(json_file)\n"
   ]
  },
  {
   "cell_type": "code",
   "execution_count": 58,
   "id": "6f54b753-3ba0-460f-a49a-8439e14bf43c",
   "metadata": {},
   "outputs": [
    {
     "name": "stdout",
     "output_type": "stream",
     "text": [
      "/sci/archive/michall/roeizucker/covar_tests_non_coding_HADASSA_PLINK/results/generated_pehn_result_target_var=1_target_prev=0.05_major_n=10_med_n=15_less__m=25_major_d=1_med_d=0.2_less_d=0.01_heretability=0.1_covar_effect=0.15_ac=1_batch=1_sex=3_yob=1_pc_max=0.01covariates_year_of_birth_0_PC\n",
      "/sci/archive/michall/roeizucker/covar_tests_non_coding_HADASSA_PLINK/results/generated_pehn_result_target_var=1_target_prev=0.05_major_n=10_med_n=15_less__m=25_major_d=1_med_d=0.2_less_d=0.01_heretability=0.1_covar_effect=0.15_ac=1_batch=1_sex=3_yob=1_pc_max=0.01covariates_sex_0_PC.txt\n",
      "/sci/archive/michall/roeizucker/covar_tests_non_coding_HADASSA_PLINK/results/generated_pehn_result_target_var=1_target_prev=0.05_major_n=10_med_n=15_less__m=25_major_d=1_med_d=0.2_less_d=0.01_heretability=0.1_covar_effect=0.15_ac=1_batch=1_sex=3_yob=1_pc_max=0.01covariates_sex_year_of_birth_0_PC\n",
      "/sci/archive/michall/roeizucker/covar_tests_non_coding_HADASSA_PLINK/results/generated_pehn_result_target_var=1_target_prev=0.05_major_n=10_med_n=15_less__m=25_major_d=1_med_d=0.2_less_d=0.01_heretability=0.1_covar_effect=0.15_ac=1_batch=1_sex=3_yob=1_pc_max=0.01covariates_5_PC\n",
      "/sci/archive/michall/roeizucker/covar_tests_non_coding_HADASSA_PLINK/results/generated_pehn_result_target_var=1_target_prev=0.05_major_n=10_med_n=15_less__m=25_major_d=1_med_d=0.2_less_d=0.01_heretability=0.1_covar_effect=0.15_ac=1_batch=1_sex=3_yob=1_pc_max=0.01covariates_sex_year_of_birth_40_PC\n",
      "/sci/archive/michall/roeizucker/covar_tests_non_coding_HADASSA_PLINK/results/generated_pehn_result_target_var=1_target_prev=0.05_major_n=10_med_n=15_less__m=25_major_d=1_med_d=0.2_less_d=0.01_heretability=0.1_covar_effect=0.15_ac=1_batch=1_sex=3_yob=1_pc_max=0.01covariates_sex_year_of_birth_batch_40_PC\n",
      "/sci/archive/michall/roeizucker/covar_tests_non_coding_HADASSA_PLINK/results/generated_pehn_result_target_var=1_target_prev=0.05_major_n=10_med_n=15_less__m=25_major_d=1_med_d=0.2_less_d=0.01_heretability=0.1_covar_effect=0.15_ac=1_batch=1_sex=3_yob=1_pc_max=0.01covariates_sex_year_of_birth_AC_40_PC\n",
      "/sci/archive/michall/roeizucker/covar_tests_non_coding_HADASSA_PLINK/results/generated_pehn_result_target_var=1_target_prev=0.05_major_n=10_med_n=15_less__m=25_major_d=1_med_d=0.2_less_d=0.01_heretability=0.1_covar_effect=0.15_ac=1_batch=1_sex=3_yob=1_pc_max=0.01covariates_sex_year_of_birth_AC_batch_40_PC\n"
     ]
    }
   ],
   "source": [
    "# for covar_type in COVAR_GROUPS:\n",
    "#     result_path = os.path.join(PLINK_RESULT_DIR,phenotype_file_result_name.replace(\".txt\",covar_type))\n",
    "#     if os.path.exists()"
   ]
  }
 ],
 "metadata": {
  "kernelspec": {
   "display_name": "Python 3 (ipykernel)",
   "language": "python",
   "name": "python3"
  },
  "language_info": {
   "codemirror_mode": {
    "name": "ipython",
    "version": 3
   },
   "file_extension": ".py",
   "mimetype": "text/x-python",
   "name": "python",
   "nbconvert_exporter": "python",
   "pygments_lexer": "ipython3",
   "version": "3.11.2"
  }
 },
 "nbformat": 4,
 "nbformat_minor": 5
}
