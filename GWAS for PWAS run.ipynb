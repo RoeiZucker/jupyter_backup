{
 "cells": [
  {
   "cell_type": "markdown",
   "metadata": {},
   "source": [
    "# Setup"
   ]
  },
  {
   "cell_type": "code",
   "execution_count": 1,
   "metadata": {},
   "outputs": [],
   "source": [
    "import os\n",
    "import os.path"
   ]
  },
  {
   "cell_type": "code",
   "execution_count": 2,
   "metadata": {},
   "outputs": [
    {
     "name": "stdout",
     "output_type": "stream",
     "text": [
      "PLINK v2.00a2.3LM 64-bit Intel (24 Jan 2020)\r\n"
     ]
    }
   ],
   "source": [
    "!/cs/phd/nadavb/third_party/plink2 --version"
   ]
  },
  {
   "cell_type": "code",
   "execution_count": 3,
   "metadata": {},
   "outputs": [],
   "source": [
    "path = '/cs/labs/michall/roeizucker/10krun/runs/0:11'\n",
    "COVARIATE_JSON_PATH = path + \"/ukbb_covariate_columns.json\"\n",
    "GWAS_PATH = path + \"/GWAS_delete_me\"\n",
    "PHEN_PATH = path + \"/ukbb_dataset.csv\"\n",
    "PHEN_PER_DIR = 12\n",
    "PHEN_START = 3\n",
    "MAX_ARRAYS_BEFRE_SUBMITTING = 0\n",
    "MAX_JOBS_BEFORE_SUBMITTING_NEW_ARRAY = 250\n"
   ]
  },
  {
   "cell_type": "code",
   "execution_count": 4,
   "metadata": {},
   "outputs": [
    {
     "name": "stdout",
     "output_type": "stream",
     "text": [
      "['C44', 'C44_F', 'C44_M', 'C50', 'C50_F', 'C50_M', 'D12', 'D12_F', 'D12_M', 'D64', 'D64_F', 'D64_M']\n"
     ]
    }
   ],
   "source": [
    "line = \"\"\n",
    "with open(PHEN_PATH) as phen_file:\n",
    "    line = phen_file.readline()\n",
    "phenotypes = line.split(\",\")[PHEN_START - 1:PHEN_START + PHEN_PER_DIR - 1]\n",
    "print(phenotypes)"
   ]
  },
  {
   "cell_type": "code",
   "execution_count": 5,
   "metadata": {},
   "outputs": [
    {
     "name": "stdout",
     "output_type": "stream",
     "text": [
      "mkdir: cannot create directory ‘/cs/labs/michall/roeizucker/10krun/runs/0:11/GWAS_delete_me’: File exists\n",
      "mkdir: cannot create directory ‘/cs/labs/michall/roeizucker/10krun/runs/0:11/GWAS_delete_me/results’: File exists\n",
      "mkdir: cannot create directory ‘/cs/labs/michall/roeizucker/10krun/runs/0:11/GWAS_delete_me/phenotypes’: File exists\n"
     ]
    }
   ],
   "source": [
    "!mkdir {GWAS_PATH}\n",
    "!mkdir {GWAS_PATH}/results\n",
    "!mkdir {GWAS_PATH}/phenotypes\n",
    "!touch {GWAS_PATH}/pan_cancer.log\n",
    "!touch {GWAS_PATH}/pan_cancer.txt\n",
    "!touch {GWAS_PATH}/covariates.txt\n"
   ]
  },
  {
   "cell_type": "code",
   "execution_count": 6,
   "metadata": {},
   "outputs": [],
   "source": [
    "# !cd /cs/labs/michall/roeizucker/10krun/runs/0:11/GWAS_delete_me\n",
    "# for i in range(len(phenotypes)):\n",
    "#     var = f\"cat {PHEN_PATH} | awk -F , '{{print $2\\\",\\\"$2\\\",\\\"$'{i + PHEN_START}'}}' | grep  '\\.' > {GWAS_PATH}/phenotypes/{phenotypes[i]}.csv\"\n",
    "# #     print(var)\n",
    "#     !{var}"
   ]
  },
  {
   "cell_type": "code",
   "execution_count": 7,
   "metadata": {},
   "outputs": [],
   "source": [
    "PHEN_END = 12\n",
    "WORK_PATH = '/cs/labs/michall/roeizucker/10krun/runs/'\n",
    "PHEN_PER_DIR = 12\n",
    "PHEN_START = 3"
   ]
  },
  {
   "cell_type": "code",
   "execution_count": 8,
   "metadata": {},
   "outputs": [],
   "source": [
    "def create_files(GWAS_PATH,PHEN_PATH,phenotypes):\n",
    "    !mkdir {GWAS_PATH}\n",
    "    !mkdir {GWAS_PATH}/results\n",
    "    !mkdir {GWAS_PATH}/phenotypes\n",
    "    !cp /cs/labs/michall/roeizucker/10krun/runs/0:11/GWAS_delete_me/covariates.txt {GWAS_PATH}/covariates.txt\n",
    "    !cd {GWAS_PATH}\n",
    "    cancer_dataset = pd.read_csv(PHEN_PATH)\n",
    "    cancer_phenotype_cols = phenotypes\n",
    "    for cancer_phenotype_col in cancer_phenotype_cols:\n",
    "        print(cancer_phenotype_col)\n",
    "        cancer_file_name = cancer_phenotype_col.lower().replace(' ', '_').replace('-', '_') + '.txt'\n",
    "        cancer_values = cancer_dataset[['eid', 'eid', cancer_phenotype_col]].dropna()\n",
    "        cancer_values.to_csv(os.path.join(f\"{GWAS_PATH}/phenotypes\", cancer_file_name), \\\n",
    "            header = False, index = False, sep = '\\t')\n",
    "#         var = f\"cat {PHEN_PATH} | awk -F , '{{print $2\\\",\\\"$2\\\",\\\"$'{i + PHEN_START}'}}' | grep  '\\.' > {GWAS_PATH}/phenotypes/{phenotypes[i]}.csv\"\n",
    "#     #     print(var)\n",
    "#         !{var}\n",
    "#     !touch {GWAS_PATH}/covariates.txt"
   ]
  },
  {
   "cell_type": "code",
   "execution_count": 9,
   "metadata": {},
   "outputs": [],
   "source": [
    "def handle_dir(path):\n",
    "    COVARIATE_JSON_PATH = path + \"/ukbb_covariate_columns.json\"\n",
    "    GWAS_PATH = path + \"/GWAS\"\n",
    "    PHEN_PATH = path + \"/ukbb_dataset.csv\"\n",
    "    line = \"\"\n",
    "    with open(PHEN_PATH) as phen_file:\n",
    "        line = phen_file.readline()\n",
    "    phenotypes = line.split(\",\")[PHEN_START - 1:PHEN_START + PHEN_PER_DIR - 1]\n",
    "    create_files(GWAS_PATH,PHEN_PATH,phenotypes)\n",
    "#     print(path)"
   ]
  },
  {
   "cell_type": "code",
   "execution_count": 10,
   "metadata": {},
   "outputs": [],
   "source": [
    "def create_script(path):\n",
    "    COVARIATE_JSON_PATH = path + \"/ukbb_covariate_columns.json\"\n",
    "    GWAS_PATH = path + \"/GWAS\"\n",
    "    PHEN_PATH = path + \"/ukbb_dataset.csv\"\n",
    "    line = \"\"\n",
    "    with open(PHEN_PATH) as phen_file:\n",
    "        line = phen_file.readline()\n",
    "    phenotypes = line.split(\",\")[PHEN_START - 1:PHEN_START + PHEN_PER_DIR - 1]\n",
    "    !rm -f {GWAS_PATH}/gwas_script.sh\n",
    "    with open(f\"{GWAS_PATH}/gwas_script.sh\", 'a') as script_file:\n",
    "        script_file.write(\"#!/bin/sh\\n\")\n",
    "        for i in range(len(phenotypes)):\n",
    "            for j in range(1,23):\n",
    "        #         print(f\"/cs/phd/nadavb/third_party/plink2 --bed /cs/labs/michall/roeizucker/plink_results/reduced_snps2/small_ch{j}.bed --bim /cs/labs/michall/roeizucker/plink_results/reduced_snps2/small_ch{j}.bim --fam /cs/labs/michall/roeizucker/plink_results/reduced_snps2/small_ch{j}.fam --pheno {GWAS_PATH}/phenotypes/{phenotypes[i].lower()}.txt --covar {GWAS_PATH}/covariates.txt --out {GWAS_PATH}/results/{phenotypes[i]}_chr{j} --1 --glm hide-covar --mac 20 --covar-variance-standardize --freq --threads 10 --memory 10000\")\n",
    "                script_file.write(f\"/cs/phd/nadavb/third_party/plink2 --bed /cs/labs/michall/roeizucker/plink_results/reduced_snps2/small_ch{j}.bed --bim /cs/labs/michall/roeizucker/plink_results/reduced_snps2/small_ch{j}.bim --fam /cs/labs/michall/roeizucker/plink_results/reduced_snps2/small_ch{j}.fam --pheno {GWAS_PATH}/phenotypes/{phenotypes[i].lower()}.txt --covar {GWAS_PATH}/covariates.txt --out {GWAS_PATH}/results/{phenotypes[i]}_chr{j} --1 --glm hide-covar --mac 20 --covar-variance-standardize --freq --threads 10 --memory 10000\\n\")\n",
    "    !chmod 744 {GWAS_PATH}/gwas_script.sh\n",
    "#     print(path)"
   ]
  },
  {
   "cell_type": "code",
   "execution_count": 11,
   "metadata": {},
   "outputs": [],
   "source": [
    "def create_slurm_script(path):\n",
    "    COVARIATE_JSON_PATH = path + \"/ukbb_covariate_columns.json\"\n",
    "    GWAS_PATH = path + \"/GWAS\"\n",
    "    PHEN_PATH = path + \"/ukbb_dataset.csv\"\n",
    "    line = \"\"\n",
    "    with open(PHEN_PATH) as phen_file:\n",
    "        line = phen_file.readline()\n",
    "    phenotypes = line.split(\",\")[PHEN_START - 1:PHEN_START + PHEN_PER_DIR - 1]\n",
    "    !rm -f {GWAS_PATH}/slurm_script.sh\n",
    "    with open(f\"{GWAS_PATH}/slurm_script.sh\", 'a') as script_file:\n",
    "        script_file.write(\"#!/bin/bash\\n\\nsmart_wait () {\\nNUM=`squeue | grep roeizuck | wc -l`\\nwhile [ $NUM -gt 1000 ]\\ndo\\n        NUM=`squeue | grep roeizuck | wc -l`\\n        sleep 10\\ndone\\n}\\n\")\n",
    "        for i in range(len(phenotypes)):\n",
    "            for j in range(1,23):\n",
    "                if os.path.exists(f\"{GWAS_PATH}/results/{phenotypes[i]}_chr{j}.PHENO1.glm.logistic\"):\n",
    "                    continue\n",
    "        #         print(f\"/cs/phd/nadavb/third_party/plink2 --bed /cs/labs/michall/roeizucker/plink_results/reduced_snps2/small_ch{j}.bed --bim /cs/labs/michall/roeizucker/plink_results/reduced_snps2/small_ch{j}.bim --fam /cs/labs/michall/roeizucker/plink_results/reduced_snps2/small_ch{j}.fam --pheno {GWAS_PATH}/phenotypes/{phenotypes[i].lower()}.txt --covar {GWAS_PATH}/covariates.txt --out {GWAS_PATH}/results/{phenotypes[i]}_chr{j} --1 --glm hide-covar --mac 20 --covar-variance-standardize --freq --threads 10 --memory 10000\")\n",
    "                script_file.write(f\"echo {GWAS_PATH}/results/{phenotypes[i]}_chr{j}\\n\")\n",
    "                script_file.write(\"sbatch --mem=12g -c10 --time=3-0 --killable --requeue --wrap=\\\"\")\n",
    "                script_file.write(f\"/cs/phd/nadavb/third_party/plink2 --bed /cs/labs/michall/roeizucker/plink_results/reduced_snps2/small_ch{j}.bed --bim /cs/labs/michall/roeizucker/plink_results/reduced_snps2/small_ch{j}.bim --fam /cs/labs/michall/roeizucker/plink_results/reduced_snps2/small_ch{j}.fam --pheno {GWAS_PATH}/phenotypes/{phenotypes[i].lower()}.txt --covar {GWAS_PATH}/covariates.txt --out {GWAS_PATH}/results/{phenotypes[i]}_chr{j} --1 --glm hide-covar --mac 20 --covar-variance-standardize --freq --threads 10 --memory 10000\")\n",
    "                script_file.write(\"\\\"\\n\")\n",
    "                script_file.write(\"sleep 5\\n\")\n",
    "                script_file.write(\"smart_wait\\n\")\n",
    "    !chmod 744 {GWAS_PATH}/slurm_script.sh\n",
    "#     print(path)"
   ]
  },
  {
   "cell_type": "code",
   "execution_count": 12,
   "metadata": {},
   "outputs": [],
   "source": [
    "def create_slurm_array_script(path):\n",
    "    COVARIATE_JSON_PATH = path + \"/ukbb_covariate_columns.json\"\n",
    "    GWAS_PATH = path + \"/GWAS\"\n",
    "    PHEN_PATH = path + \"/ukbb_dataset.csv\"\n",
    "    line = \"\"\n",
    "    with open(PHEN_PATH) as phen_file:\n",
    "        line = phen_file.readline()\n",
    "    phenotypes = line.split(\",\")[PHEN_START - 1:PHEN_START + PHEN_PER_DIR - 1]\n",
    "    !rm -f {GWAS_PATH}/array_slurm_jobs.py\n",
    "    with open(f\"{GWAS_PATH}/array_slurm_jobs.py\", 'a') as script_file:\n",
    "        # import sys library (needed for accepted command line args)\n",
    "        script_file.write(\"import sys\\n\")\n",
    "        script_file.write(\"import os\\n\")\n",
    "        # print arguments\n",
    "#         print( sys.argv)\n",
    "        command = \"os.system(\\\"\"+GWAS_PATH+\"/array_slurm_jobs_\\\"+str(sys.argv[1])+\\\".sh\\\")\\n\"\n",
    "        script_file.write(command)\n",
    "    !rm -f {GWAS_PATH}/array_slurm_jobs_runner.sh\n",
    "    !rm -f {GWAS_PATH}/array_slurm_jobs_runner.py\n",
    "    with open(f\"{GWAS_PATH}/array_slurm_jobs_runner.sh\", 'a') as runner:\n",
    "        # import sys library (needed for accepted command line args)\n",
    "        runner.write(f\"python {GWAS_PATH}/array_slurm_jobs.py $SLURM_ARRAY_TASK_ID $SLURM_ARRAY_TASK_COUNT\\n\")\n",
    "    !chmod 744 {GWAS_PATH}/array_slurm_jobs_runner.sh\n",
    "    print(path)\n",
    "    counter = 0\n",
    "    for i in range(len(phenotypes)):\n",
    "        for j in range(1,23):\n",
    "            !rm -f {GWAS_PATH}/array_slurm_jobs_{counter}.sh\n",
    "            if os.path.exists(f\"{GWAS_PATH}/results/{phenotypes[i]}_chr{j}.PHENO1.glm.logistic\"):\n",
    "                if counter == 250:\n",
    "                    with open(f\"{GWAS_PATH}/array_slurm_jobs_{counter}.sh\", 'a') as script_file:\n",
    "                        script_file.write(\"#!/bin/bash\\n\")\n",
    "                        phen_range = path.split(\"/\")[-1].split(\":\")\n",
    "                        first = int(phen_range[0]) + PHEN_PER_DIR\n",
    "                        last  = int(phen_range[1]) + PHEN_PER_DIR\n",
    "                        script_file.write(\"sbatch --array=0-263 --mem=12g -c10 --time=3-0 --requeue --killable --wrap=\\\"/cs/labs/michall/roeizucker/10krun/runs/\"+str(first)+\":\"+str(last)+\"/GWAS/array_slurm_jobs_runner.sh\\\"\\n\")\n",
    "                    !chmod 744 {GWAS_PATH}/array_slurm_jobs_{counter}.sh\n",
    "                counter+=1\n",
    "                continue\n",
    "    #         print(f\"/cs/phd/nadavb/third_party/plink2 --bed /cs/labs/michall/roeizucker/plink_results/reduced_snps2/small_ch{j}.bed --bim /cs/labs/michall/roeizucker/plink_results/reduced_snps2/small_ch{j}.bim --fam /cs/labs/michall/roeizucker/plink_results/reduced_snps2/small_ch{j}.fam --pheno {GWAS_PATH}/phenotypes/{phenotypes[i].lower()}.txt --covar {GWAS_PATH}/covariates.txt --out {GWAS_PATH}/results/{phenotypes[i]}_chr{j} --1 --glm hide-covar --mac 20 --covar-variance-standardize --freq --threads 10 --memory 10000\")\n",
    "            with open(f\"{GWAS_PATH}/array_slurm_jobs_{counter}.sh\", 'a') as script_file:\n",
    "                if counter == 250:\n",
    "                    script_file.write('''#!/bin/bash\n",
    "\n",
    "smart_wait () {\n",
    "NUM=`squeue -u roeizucker | grep '\\[' | wc -l`\n",
    "while [ $NUM -gt 1 ]\n",
    "do\n",
    "        NUM=`squeue | grep roeizuck | grep '\\[' | wc -l`\n",
    "        sleep 10\n",
    "done\n",
    "}\n",
    "''')\n",
    "                else:\n",
    "                    script_file.write(\"#!/bin/bash\\n\")\n",
    "                if counter == 250:\n",
    "                    phen_range = path.split(\"/\")[-1].split(\":\")\n",
    "                    first = int(phen_range[0]) + PHEN_PER_DIR\n",
    "                    last  = int(phen_range[1]) + PHEN_PER_DIR\n",
    "                    script_file.write(\"smart_wait\\n\")\n",
    "                    script_file.write(\"sbatch --array=0-263 --mem=12g -c10 --time=3-0 --requeue --killable --wrap=\\\"/cs/labs/michall/roeizucker/10krun/runs/\"+str(first)+\":\"+str(last)+\"/GWAS/array_slurm_jobs_runner.sh\\\"\\n\")\n",
    "                script_file.write(f\"/cs/phd/nadavb/third_party/plink2 --bed /cs/labs/michall/roeizucker/plink_results/reduced_snps2/small_ch{j}.bed --bim /cs/labs/michall/roeizucker/plink_results/reduced_snps2/small_ch{j}.bim --fam /cs/labs/michall/roeizucker/plink_results/reduced_snps2/small_ch{j}.fam --pheno {GWAS_PATH}/phenotypes/{phenotypes[i].lower()}.txt --covar {GWAS_PATH}/covariates.txt --out {GWAS_PATH}/results/{phenotypes[i]}_chr{j} --1 --glm hide-covar --mac 20 --covar-variance-standardize --freq --threads 10 --memory 10000\\n\")\n",
    "                !chmod 744 {GWAS_PATH}/array_slurm_jobs_{counter}.sh\n",
    "            counter+=1\n",
    "    print(\"done\")"
   ]
  },
  {
   "cell_type": "markdown",
   "metadata": {},
   "source": [
    "### create script for full genom for a single phenotype"
   ]
  },
  {
   "cell_type": "code",
   "execution_count": 2,
   "metadata": {},
   "outputs": [
    {
     "name": "stdout",
     "output_type": "stream",
     "text": [
      "66\n"
     ]
    }
   ],
   "source": [
    "sex_suffix = [\"\",\"_F\",\"_M\"]\n",
    "phen = \"I10\"\n",
    "GWAS_PATH = \"/cs/labs/michall/roeizucker/10krun/runs/48:59/GWAS\"\n",
    "counter = 0\n",
    "for suf in sex_suffix:\n",
    "    for i in range(1,23):\n",
    "        with open(f\"{GWAS_PATH}/full_genom_scripts/array_slurm_jobs_{counter}.sh\", 'a') as script_file:\n",
    "            script_file.write(f\"/cs/usr/nadavb/third_party/plink2 --bgen /cs/biobank-genetics/EGAD00010001474/ukb_imp_chr{i}_v3.bgen --sample /cs/biobank-genetics/EGAD00010001474/ukb26664_imp_chr{i}_v3.sample --pheno /cs/labs/michall/roeizucker/10krun/runs/48:59/GWAS/phenotypes/{phen}{suf}.csv --covar /cs/labs/michall/roeizucker/10krun/runs/240:251/GWAS/covariates.txt --out /cs/labs/michall/roeizucker/10krun/runs/48:59/GWAS/results_full/I{phen}{suf}_chr{i} --glm hide-covar --mac 20 --covar-variance-standardize --freq --threads 10 --memory 10000\")\n",
    "        counter+=1\n",
    "print(counter)\n",
    "# sbatch --array=0-65 --mem=12g -c10 --time=3-0 --requeue --killable --wrap=\"/cs/labs/michall/roeizucker/10krun/runs/48:59/GWAS/full_genom_scripts/array_slurm_jobs_runner.sh\""
   ]
  },
  {
   "cell_type": "code",
   "execution_count": 13,
   "metadata": {},
   "outputs": [
    {
     "name": "stdout",
     "output_type": "stream",
     "text": [
      "/cs/labs/michall/roeizucker/10krun/runs/0:11\n",
      "done\n",
      "/cs/labs/michall/roeizucker/10krun/runs/228:239\n",
      "done\n",
      "/cs/labs/michall/roeizucker/10krun/runs/24:35\n",
      "done\n",
      "/cs/labs/michall/roeizucker/10krun/runs/240:251\n",
      "done\n",
      "/cs/labs/michall/roeizucker/10krun/runs/48:59\n",
      "done\n",
      "/cs/labs/michall/roeizucker/10krun/runs/60:71\n",
      "done\n",
      "/cs/labs/michall/roeizucker/10krun/runs/96:107\n",
      "done\n",
      "/cs/labs/michall/roeizucker/10krun/runs/108:119\n",
      "done\n",
      "/cs/labs/michall/roeizucker/10krun/runs/84:95\n",
      "done\n",
      "/cs/labs/michall/roeizucker/10krun/runs/288:299\n",
      "done\n",
      "/cs/labs/michall/roeizucker/10krun/runs/204:215\n",
      "done\n",
      "/cs/labs/michall/roeizucker/10krun/runs/156:167\n",
      "done\n",
      "/cs/labs/michall/roeizucker/10krun/runs/12:23\n",
      "done\n",
      "/cs/labs/michall/roeizucker/10krun/runs/120:131\n",
      "done\n",
      "/cs/labs/michall/roeizucker/10krun/runs/216:227\n",
      "done\n",
      "/cs/labs/michall/roeizucker/10krun/runs/132:143\n",
      "done\n",
      "/cs/labs/michall/roeizucker/10krun/runs/72:83\n",
      "done\n",
      "/cs/labs/michall/roeizucker/10krun/runs/144:155\n",
      "done\n",
      "/cs/labs/michall/roeizucker/10krun/runs/36:47\n",
      "done\n",
      "/cs/labs/michall/roeizucker/10krun/runs/252:263\n",
      "done\n",
      "/cs/labs/michall/roeizucker/10krun/runs/180:191\n",
      "done\n",
      "/cs/labs/michall/roeizucker/10krun/runs/264:275\n",
      "done\n",
      "/cs/labs/michall/roeizucker/10krun/runs/276:287\n",
      "done\n",
      "/cs/labs/michall/roeizucker/10krun/runs/168:179\n",
      "done\n",
      "/cs/labs/michall/roeizucker/10krun/runs/192:203\n",
      "done\n"
     ]
    }
   ],
   "source": [
    "import os\n",
    "import pandas as pd\n",
    "for filename in os.listdir(WORK_PATH):\n",
    "    f = os.path.join(WORK_PATH, filename)\n",
    "    # checking if it is a file\n",
    "    if not os.path.isfile(f):\n",
    "        create_slurm_array_script(f)\n",
    "#         handle_dir(f)\n",
    "#         create_script(f)\n",
    "#         create_slurm_script(f)"
   ]
  },
  {
   "cell_type": "code",
   "execution_count": 14,
   "metadata": {},
   "outputs": [
    {
     "ename": "KeyboardInterrupt",
     "evalue": "",
     "output_type": "error",
     "traceback": [
      "\u001b[0;31m---------------------------------------------------------------------------\u001b[0m",
      "\u001b[0;31mKeyboardInterrupt\u001b[0m                         Traceback (most recent call last)",
      "\u001b[0;32m/usr/lib/python3/dist-packages/ipykernel/kernelbase.py\u001b[0m in \u001b[0;36m_input_request\u001b[0;34m(self, prompt, ident, parent, password)\u001b[0m\n\u001b[1;32m    728\u001b[0m             \u001b[0;32mtry\u001b[0m\u001b[0;34m:\u001b[0m\u001b[0;34m\u001b[0m\u001b[0;34m\u001b[0m\u001b[0m\n\u001b[0;32m--> 729\u001b[0;31m                 \u001b[0mident\u001b[0m\u001b[0;34m,\u001b[0m \u001b[0mreply\u001b[0m \u001b[0;34m=\u001b[0m \u001b[0mself\u001b[0m\u001b[0;34m.\u001b[0m\u001b[0msession\u001b[0m\u001b[0;34m.\u001b[0m\u001b[0mrecv\u001b[0m\u001b[0;34m(\u001b[0m\u001b[0mself\u001b[0m\u001b[0;34m.\u001b[0m\u001b[0mstdin_socket\u001b[0m\u001b[0;34m,\u001b[0m \u001b[0;36m0\u001b[0m\u001b[0;34m)\u001b[0m\u001b[0;34m\u001b[0m\u001b[0;34m\u001b[0m\u001b[0m\n\u001b[0m\u001b[1;32m    730\u001b[0m             \u001b[0;32mexcept\u001b[0m \u001b[0mException\u001b[0m\u001b[0;34m:\u001b[0m\u001b[0;34m\u001b[0m\u001b[0;34m\u001b[0m\u001b[0m\n",
      "\u001b[0;32m/usr/lib/python3/dist-packages/jupyter_client/session.py\u001b[0m in \u001b[0;36mrecv\u001b[0;34m(self, socket, mode, content, copy)\u001b[0m\n\u001b[1;32m    802\u001b[0m         \u001b[0;32mtry\u001b[0m\u001b[0;34m:\u001b[0m\u001b[0;34m\u001b[0m\u001b[0;34m\u001b[0m\u001b[0m\n\u001b[0;32m--> 803\u001b[0;31m             \u001b[0mmsg_list\u001b[0m \u001b[0;34m=\u001b[0m \u001b[0msocket\u001b[0m\u001b[0;34m.\u001b[0m\u001b[0mrecv_multipart\u001b[0m\u001b[0;34m(\u001b[0m\u001b[0mmode\u001b[0m\u001b[0;34m,\u001b[0m \u001b[0mcopy\u001b[0m\u001b[0;34m=\u001b[0m\u001b[0mcopy\u001b[0m\u001b[0;34m)\u001b[0m\u001b[0;34m\u001b[0m\u001b[0;34m\u001b[0m\u001b[0m\n\u001b[0m\u001b[1;32m    804\u001b[0m         \u001b[0;32mexcept\u001b[0m \u001b[0mzmq\u001b[0m\u001b[0;34m.\u001b[0m\u001b[0mZMQError\u001b[0m \u001b[0;32mas\u001b[0m \u001b[0me\u001b[0m\u001b[0;34m:\u001b[0m\u001b[0;34m\u001b[0m\u001b[0;34m\u001b[0m\u001b[0m\n",
      "\u001b[0;32m/usr/lib/python3/dist-packages/zmq/sugar/socket.py\u001b[0m in \u001b[0;36mrecv_multipart\u001b[0;34m(self, flags, copy, track)\u001b[0m\n\u001b[1;32m    466\u001b[0m         \"\"\"\n\u001b[0;32m--> 467\u001b[0;31m         \u001b[0mparts\u001b[0m \u001b[0;34m=\u001b[0m \u001b[0;34m[\u001b[0m\u001b[0mself\u001b[0m\u001b[0;34m.\u001b[0m\u001b[0mrecv\u001b[0m\u001b[0;34m(\u001b[0m\u001b[0mflags\u001b[0m\u001b[0;34m,\u001b[0m \u001b[0mcopy\u001b[0m\u001b[0;34m=\u001b[0m\u001b[0mcopy\u001b[0m\u001b[0;34m,\u001b[0m \u001b[0mtrack\u001b[0m\u001b[0;34m=\u001b[0m\u001b[0mtrack\u001b[0m\u001b[0;34m)\u001b[0m\u001b[0;34m]\u001b[0m\u001b[0;34m\u001b[0m\u001b[0;34m\u001b[0m\u001b[0m\n\u001b[0m\u001b[1;32m    468\u001b[0m         \u001b[0;31m# have first part already, only loop while more to receive\u001b[0m\u001b[0;34m\u001b[0m\u001b[0;34m\u001b[0m\u001b[0;34m\u001b[0m\u001b[0m\n",
      "\u001b[0;32mzmq/backend/cython/socket.pyx\u001b[0m in \u001b[0;36mzmq.backend.cython.socket.Socket.recv\u001b[0;34m()\u001b[0m\n",
      "\u001b[0;32mzmq/backend/cython/socket.pyx\u001b[0m in \u001b[0;36mzmq.backend.cython.socket.Socket.recv\u001b[0;34m()\u001b[0m\n",
      "\u001b[0;32mzmq/backend/cython/socket.pyx\u001b[0m in \u001b[0;36mzmq.backend.cython.socket._recv_copy\u001b[0;34m()\u001b[0m\n",
      "\u001b[0;32m/usr/lib/python3/dist-packages/zmq/backend/cython/checkrc.pxd\u001b[0m in \u001b[0;36mzmq.backend.cython.checkrc._check_rc\u001b[0;34m()\u001b[0m\n",
      "\u001b[0;31mKeyboardInterrupt\u001b[0m: ",
      "\nDuring handling of the above exception, another exception occurred:\n",
      "\u001b[0;31mKeyboardInterrupt\u001b[0m                         Traceback (most recent call last)",
      "\u001b[0;32m<ipython-input-14-9c8b639daf2f>\u001b[0m in \u001b[0;36m<module>\u001b[0;34m()\u001b[0m\n\u001b[0;32m----> 1\u001b[0;31m \u001b[0minput\u001b[0m\u001b[0;34m(\u001b[0m\u001b[0;34m)\u001b[0m\u001b[0;34m\u001b[0m\u001b[0;34m\u001b[0m\u001b[0m\n\u001b[0m",
      "\u001b[0;32m/usr/lib/python3/dist-packages/ipykernel/kernelbase.py\u001b[0m in \u001b[0;36mraw_input\u001b[0;34m(self, prompt)\u001b[0m\n\u001b[1;32m    702\u001b[0m             \u001b[0mself\u001b[0m\u001b[0;34m.\u001b[0m\u001b[0m_parent_ident\u001b[0m\u001b[0;34m,\u001b[0m\u001b[0;34m\u001b[0m\u001b[0;34m\u001b[0m\u001b[0m\n\u001b[1;32m    703\u001b[0m             \u001b[0mself\u001b[0m\u001b[0;34m.\u001b[0m\u001b[0m_parent_header\u001b[0m\u001b[0;34m,\u001b[0m\u001b[0;34m\u001b[0m\u001b[0;34m\u001b[0m\u001b[0m\n\u001b[0;32m--> 704\u001b[0;31m             \u001b[0mpassword\u001b[0m\u001b[0;34m=\u001b[0m\u001b[0;32mFalse\u001b[0m\u001b[0;34m,\u001b[0m\u001b[0;34m\u001b[0m\u001b[0;34m\u001b[0m\u001b[0m\n\u001b[0m\u001b[1;32m    705\u001b[0m         )\n\u001b[1;32m    706\u001b[0m \u001b[0;34m\u001b[0m\u001b[0m\n",
      "\u001b[0;32m/usr/lib/python3/dist-packages/ipykernel/kernelbase.py\u001b[0m in \u001b[0;36m_input_request\u001b[0;34m(self, prompt, ident, parent, password)\u001b[0m\n\u001b[1;32m    732\u001b[0m             \u001b[0;32mexcept\u001b[0m \u001b[0mKeyboardInterrupt\u001b[0m\u001b[0;34m:\u001b[0m\u001b[0;34m\u001b[0m\u001b[0;34m\u001b[0m\u001b[0m\n\u001b[1;32m    733\u001b[0m                 \u001b[0;31m# re-raise KeyboardInterrupt, to truncate traceback\u001b[0m\u001b[0;34m\u001b[0m\u001b[0;34m\u001b[0m\u001b[0;34m\u001b[0m\u001b[0m\n\u001b[0;32m--> 734\u001b[0;31m                 \u001b[0;32mraise\u001b[0m \u001b[0mKeyboardInterrupt\u001b[0m\u001b[0;34m\u001b[0m\u001b[0;34m\u001b[0m\u001b[0m\n\u001b[0m\u001b[1;32m    735\u001b[0m             \u001b[0;32melse\u001b[0m\u001b[0;34m:\u001b[0m\u001b[0;34m\u001b[0m\u001b[0;34m\u001b[0m\u001b[0m\n\u001b[1;32m    736\u001b[0m                 \u001b[0;32mbreak\u001b[0m\u001b[0;34m\u001b[0m\u001b[0;34m\u001b[0m\u001b[0m\n",
      "\u001b[0;31mKeyboardInterrupt\u001b[0m: "
     ]
    }
   ],
   "source": [
    "input()"
   ]
  },
  {
   "cell_type": "code",
   "execution_count": null,
   "metadata": {},
   "outputs": [],
   "source": [
    "# i = 0\n",
    "finished = False\n",
    "for i in range(len(phenotypes)):\n",
    "    for j in range(1,23):\n",
    "#         print(f\"/cs/phd/nadavb/third_party/plink2 --bed /cs/labs/michall/roeizucker/plink_results/reduced_snps2/small_ch{j}.bed --bim /cs/labs/michall/roeizucker/plink_results/reduced_snps2/small_ch{j}.bim --fam /cs/labs/michall/roeizucker/plink_results/reduced_snps2/small_ch{j}.fam --pheno {GWAS_PATH}/phenotypes/{phenotypes[i].lower()}.txt --covar {GWAS_PATH}/covariates.txt --out {GWAS_PATH}/results/{phenotypes[i]}_chr{j} --1 --glm hide-covar --mac 20 --covar-variance-standardize --freq --threads 10 --memory 10000\")\n",
    "#         input()\n",
    "        !/cs/phd/nadavb/third_party/plink2 --bed /cs/labs/michall/roeizucker/plink_results/reduced_snps2/small_ch{j}.bed --bim /cs/labs/michall/roeizucker/plink_results/reduced_snps2/small_ch{j}.bim --fam /cs/labs/michall/roeizucker/plink_results/reduced_snps2/small_ch{j}.fam --pheno {GWAS_PATH}/phenotypes/{phenotypes[i].lower()}.txt --covar {GWAS_PATH}/covariates.txt --out {GWAS_PATH}/results/{phenotypes[i]}_chr{j} --1 --glm hide-covar --mac 20 --covar-variance-standardize --freq --threads 10 --memory 10000\n",
    "print(\"done\")\n",
    "finished = True"
   ]
  },
  {
   "cell_type": "code",
   "execution_count": null,
   "metadata": {},
   "outputs": [],
   "source": [
    "!cd {GWAS_PATH}/results/\n",
    "!ls -la"
   ]
  },
  {
   "cell_type": "code",
   "execution_count": null,
   "metadata": {},
   "outputs": [],
   "source": [
    "!/cs/phd/nadavb/third_party/plink2 --bed /cs/labs/michall/roeizucker/plink_results/reduced_snps/reduced_chr8.bed --bim /cs/labs/michall/roeizucker/plink_results/reduced_snps/reduced_chr8.bim --fam /cs/labs/michall/roeizucker/plink_results/reduced_snps/reduced_chr8.fam --pheno /cs/labs/michall/roeizucker/phewas_run/runs1/0:9/plink_run/phenotypes/Phecode_8.0.txt --covar /cs/labs/michall/roeizucker/phewas_run/runs1/0:9/plink_run/covariates.txt --out /cs/labs/michall/roeizucker/phewas_run/runs1/0:9/plink_run/results/Phecode_8.0 --1 --glm hide-covar --mac 20 --covar-variance-standardize --freq --threads 1 --memory 10000"
   ]
  },
  {
   "cell_type": "code",
   "execution_count": null,
   "metadata": {},
   "outputs": [],
   "source": [
    "import os\n",
    "import re\n",
    "import json\n",
    "from datetime import datetime\n",
    "from collections import Counter\n",
    "\n",
    "import numpy as np\n",
    "import pandas as pd\n",
    "\n",
    "from IPython.display import display"
   ]
  },
  {
   "cell_type": "markdown",
   "metadata": {},
   "source": [
    "# Create the dataset"
   ]
  },
  {
   "cell_type": "code",
   "execution_count": null,
   "metadata": {},
   "outputs": [],
   "source": [
    "# with open('/cs/phd/nadavb/pwas_results/cancer_phenotype_columns.json', 'r') as f:\n",
    "#     cancer_phenotype_cols = json.load(f)\n",
    "    \n",
    "with open(COVARIATE_JSON_PATH, 'r') as f:\n",
    "    covariate_cols = json.load(f)\n",
    "\n",
    "cancer_dataset = pd.read_csv(PHEN_PATH)\n",
    "cancer_phenotype_cols = phenotypes\n",
    "print(cancer_phenotype_cols)\n",
    "# print(covariate_cols)\n",
    "# display(cancer_dataset)\n",
    "# print(\"done\")"
   ]
  },
  {
   "cell_type": "code",
   "execution_count": null,
   "metadata": {},
   "outputs": [],
   "source": [
    "for cancer_phenotype_col in cancer_phenotype_cols:\n",
    "    print(cancer_phenotype_col)\n",
    "    cancer_file_name = cancer_phenotype_col.lower().replace(' ', '_').replace('-', '_') + '.txt'\n",
    "    cancer_values = cancer_dataset[['eid', 'eid', cancer_phenotype_col]].dropna()\n",
    "    cancer_values.to_csv(os.path.join(f\"{GWAS_PATH}/phenotypes\", cancer_file_name), \\\n",
    "            header = False, index = False, sep = '\\t')\n",
    "\n",
    "print('Done.')"
   ]
  },
  {
   "cell_type": "code",
   "execution_count": null,
   "metadata": {},
   "outputs": [],
   "source": [
    "covariate_values = cancer_dataset[['eid', 'eid'] + [covariate_col for covariate_col in covariate_cols if \\\n",
    "        covariate_col != 'const']].dropna()\n",
    "covariate_values.to_csv(f\"{GWAS_PATH}/covariates.txt\", header = False, index = False, sep = '\\t')\n",
    "print('Done.')"
   ]
  },
  {
   "cell_type": "markdown",
   "metadata": {},
   "source": [
    "# Test a PLINK command on chrY"
   ]
  },
  {
   "cell_type": "raw",
   "metadata": {},
   "source": [
    "rm -f /cs/phd/nadavb/plink_results/cancer/results/*\n",
    "/cs/phd/nadavb/third_party/plink2 --bed /cs/phd/nadavb/big_data/ukbiobank/genetics/EGAD00010001226/001/ukb_cal_chrY_v2.bed --bim /cs/phd/nadavb/big_data/ukbiobank/genetics/EGAD00010001226/001/ukb_snp_chrY_v2.bim --fam /cs/phd/nadavb/big_data/ukbiobank/genetics/ukb2666_cal_chr1_v2_s488366.fam --pheno /cs/phd/nadavb/plink_results/cancer/phenotypes/pan_cancer.txt --covar /cs/phd/nadavb/plink_results/cancer/covariates.txt --out /cs/phd/nadavb/plink_results/cancer/results/pan_cancer --1 --glm hide-covar --mac 20 --covar-variance-standardize --freq --threads 1 --memory 10000"
   ]
  },
  {
   "cell_type": "code",
   "execution_count": null,
   "metadata": {
    "scrolled": true
   },
   "outputs": [],
   "source": [
    "afreqs = pd.read_csv('/cs/labs/michall/roeizucker/plink_results/cancer/results/pan_cancer.afreq', sep = '\\t')\n",
    "display(afreqs)"
   ]
  },
  {
   "cell_type": "code",
   "execution_count": null,
   "metadata": {},
   "outputs": [],
   "source": [
    "id_to_AF = 1 - afreqs.set_index('ID')['ALT_FREQS']\n",
    "plink_results = pd.read_csv('/cs/labs/michall/roeizucker/plink_results/cancer/results/pan_cancer1.PHENO2.glm.logistic', sep = '\\t')\n",
    "plink_results_AF = plink_results['ID'].map(id_to_AF)\n",
    "plink_results.insert(plink_results.columns.tolist().index('OR'), 'AF', plink_results_AF)\n",
    "display(plink_results)"
   ]
  },
  {
   "cell_type": "markdown",
   "metadata": {},
   "source": [
    "# Running everything on the cluster"
   ]
  },
  {
   "cell_type": "code",
   "execution_count": null,
   "metadata": {},
   "outputs": [],
   "source": [
    "# Original parameters:                          --threads 1 --memory 10000 and -c1 --mem=12g\n",
    "# First re-run parameters (with RERUN = True):  --threads 8 --memory 30000 and -c8 --mem=36g\n",
    "# Second re-run parameters (with RERUN = True): --threads 32 --memory 100000 and -c32 --mem=128g\n",
    "\n",
    "RERUN = False\n",
    "\n",
    "PLINK_CMD_TEMPLATE = '/cs/phd/nadavb/third_party/plink2 --bed %s --bim %s --fam %s --pheno ' + \\\n",
    "        '%s --covar %s --out %s --1 --glm hide-covar no-x-sex --mac 20 --covar-variance-standardize --freq ' + \\\n",
    "        '--threads 32 --memory 100000'\n",
    "SLURM_CMD_TEMPLATE = 'sbatch --output=/cs/labs/michall/roeizucker/plink_results/logs/slurm_jobs/%s --mem=128g -c32 --time=14-0 --wrap=\"%s\"'\n",
    "SH_SCRIPT_FIRST_LINE = '#! /bin/tcsh'\n",
    "\n",
    "OUTPUT_SUBMISSION_SCRIPT_FILE_PATH = '/cs/labs/michall/roeizucker/plink_results/cancer/submit_jobs.sh'\n",
    "LOG_FILE_NAME_TEMPLATE = 'cancer_2020_04_20_%s.out'\n",
    "COVAR_FILE_PATH = '/cs/labs/michall/roeizucker/plink_results/cancer/covariates.txt'\n",
    "PHENOTYPES_DIR = '/cs/labs/michall/roeizucker/plink_results/cancer/phenotypes'\n",
    "RESULTS_DIR = '/cs/labs/michall/roeizucker/plink_results/cancer/results'\n",
    "GENETIC_DATA_DIR = '/cs/icore/idomarg/covarathon/001'\n",
    "\n",
    "genotyping_spec = pd.read_csv('/cs/phd/nadavb/pwas_results/ukbb_raw_marker_genotyping_spec.csv')\n",
    "\n",
    "def convert_genetic_file_path(original_path):\n",
    "    updated_path = os.path.join(GENETIC_DATA_DIR, os.path.basename(original_path))\n",
    "    assert os.path.exists(updated_path)\n",
    "    return updated_path\n",
    "\n",
    "with open(OUTPUT_SUBMISSION_SCRIPT_FILE_PATH, 'w') as f:\n",
    "    \n",
    "    f.write(SH_SCRIPT_FIRST_LINE + '\\n\\n')\n",
    "    \n",
    "    for cancer_phenotype_col in cancer_phenotype_cols:\n",
    "\n",
    "        cancer_simplified_name = cancer_phenotype_col.lower().replace(' ', '_').replace('-', '_')\n",
    "        cancer_phenotype_file_path = os.path.join(PHENOTYPES_DIR, '%s.txt' % cancer_simplified_name)\n",
    "\n",
    "        for _, (chr_name, bed_file_path, bim_file_path, fam_file_path) in genotyping_spec[['name', 'bed_file_path', \\\n",
    "                'bim_file_path', 'fam_file_path']].iterrows():\n",
    "            \n",
    "            if RERUN:\n",
    "                if (results_status['is_done'] & (results_status['chrom'] == chr_name) & \\\n",
    "                        (results_status['phenotype_name'] == cancer_simplified_name)).sum() > 0:\n",
    "                    continue\n",
    "\n",
    "            bed_file_path, bim_file_path, fam_file_path = map(convert_genetic_file_path, [bed_file_path, bim_file_path, \\\n",
    "                    fam_file_path])\n",
    "            task_name = 'chr%s_%s' % (chr_name, cancer_simplified_name)\n",
    "            output_path_prefix = os.path.join(RESULTS_DIR, task_name)\n",
    "            plink_cmd = PLINK_CMD_TEMPLATE % (bed_file_path, bim_file_path, fam_file_path, cancer_phenotype_file_path, \\\n",
    "                    COVAR_FILE_PATH, output_path_prefix)\n",
    "            log_file_name = LOG_FILE_NAME_TEMPLATE % task_name\n",
    "            slurm_cmd = SLURM_CMD_TEMPLATE % (log_file_name, plink_cmd)\n",
    "            f.write(slurm_cmd + '\\n')\n",
    "            \n",
    "print('Submission script is ready: %s' % OUTPUT_SUBMISSION_SCRIPT_FILE_PATH)"
   ]
  },
  {
   "cell_type": "code",
   "execution_count": null,
   "metadata": {},
   "outputs": [],
   "source": [
    "!head /cs/labs/michall/roeizucker/plink_results/cancer/submit_jobs.sh"
   ]
  },
  {
   "cell_type": "markdown",
   "metadata": {},
   "source": [
    "# Validating that it's all finished"
   ]
  },
  {
   "cell_type": "code",
   "execution_count": null,
   "metadata": {},
   "outputs": [],
   "source": [
    "# Viewing the log files to see which jobs have successfully finished.\n",
    "\n",
    "RESULTS_DIR = '/cs/phd/nadavb/plink_results/cancer/results'\n",
    "\n",
    "LOG_FILE_NAME_PATTERN = re.compile(r'chr([\\dXYMT]+)_(\\S+)\\.log')\n",
    "\n",
    "log_file_paths = [os.path.join(RESULTS_DIR, file_name) for file_name in os.listdir(RESULTS_DIR) if \\\n",
    "        file_name.endswith('.log')]\n",
    "\n",
    "results_status = []\n",
    "\n",
    "for log_file_path in log_file_paths:\n",
    "    \n",
    "    (chrom, phenotype_name), = LOG_FILE_NAME_PATTERN.findall(os.path.basename(log_file_path))\n",
    "    \n",
    "    with open(log_file_path, 'r') as f:\n",
    "        is_done = 'done.' in f.read()\n",
    "        \n",
    "    results_status.append((phenotype_name, chrom, is_done, log_file_path))\n",
    "    \n",
    "results_status = pd.DataFrame(results_status, columns = ['phenotype_name', 'chrom', 'is_done', 'log_file'])\\\n",
    "        .sort_values(['phenotype_name', 'chrom'])\n",
    "display(results_status)"
   ]
  },
  {
   "cell_type": "code",
   "execution_count": null,
   "metadata": {},
   "outputs": [],
   "source": [
    "existing_combinatios = [(result['phenotype_name'], result['chrom']) for _, result in results_status.iterrows()]\n",
    "missing_combinatios = 0\n",
    "\n",
    "for phenotype_name in sorted(results_status['phenotype_name'].unique()):\n",
    "    for chrom in sorted(results_status['chrom'].unique()):\n",
    "        \n",
    "        combination = (phenotype_name, chrom)\n",
    "        \n",
    "        if combination not in existing_combinatios:\n",
    "            print(combination)\n",
    "            missing_combinatios += 1\n",
    "            \n",
    "print('There are %d missing log files.' % missing_combinatios)"
   ]
  },
  {
   "cell_type": "code",
   "execution_count": null,
   "metadata": {},
   "outputs": [],
   "source": [
    "results_status['is_done'].value_counts()"
   ]
  },
  {
   "cell_type": "code",
   "execution_count": null,
   "metadata": {},
   "outputs": [],
   "source": [
    "results_status.loc[~results_status['is_done']]"
   ]
  },
  {
   "cell_type": "code",
   "execution_count": null,
   "metadata": {},
   "outputs": [],
   "source": [
    "results_status.loc[~results_status['is_done'], 'log_file'].tolist()"
   ]
  },
  {
   "cell_type": "markdown",
   "metadata": {},
   "source": [
    "# Collecting the results"
   ]
  },
  {
   "cell_type": "code",
   "execution_count": null,
   "metadata": {},
   "outputs": [],
   "source": [
    "EXPECTED_MISSING_RESULTS = {\n",
    "    # cancer_simplified_name, chr_name\n",
    "    ('breast_cancer', 'Y'),\n",
    "    ('epithelial_ovarian_cancer', 'Y'),\n",
    "}\n",
    "\n",
    "COMBINED_RESULTS_DIR = '/cs/phd/nadavb/plink_results/cancer/combined_results'\n",
    "\n",
    "for cancer_phenotype_col in cancer_phenotype_cols:\n",
    "    \n",
    "    cancer_simplified_name = cancer_phenotype_col.lower().replace(' ', '_').replace('-', '_')\n",
    "    cancer_gwas_results = []\n",
    "    \n",
    "    for chr_name in genotyping_spec['name']:\n",
    "        \n",
    "        if (cancer_simplified_name, chr_name) in EXPECTED_MISSING_RESULTS:\n",
    "            continue\n",
    "        \n",
    "        result_path_prefix = os.path.join(RESULTS_DIR, 'chr%s_%s' % (chr_name, cancer_simplified_name))\n",
    "        \n",
    "        chrom_gwas_results = pd.read_csv(result_path_prefix + '.PHENO2.glm.logistic', sep = '\\t')\\\n",
    "                .rename(columns = {'#CHROM': 'CHROM'})\n",
    "        chrom_AF_results = pd.read_csv(result_path_prefix + '.afreq', sep = '\\t').rename(columns = {'#CHROM': 'CHROM'})\n",
    "        snp_id_to_af = 1 - chrom_AF_results.set_index('ID')['ALT_FREQS']\n",
    "        chrom_gwas_results['AF'] = chrom_gwas_results['ID'].map(snp_id_to_af)\n",
    "        cancer_gwas_results.append(chrom_gwas_results)\n",
    "        \n",
    "    cancer_gwas_results = pd.concat(cancer_gwas_results).reset_index(drop = True)\n",
    "    print('%s: %d variant results.' % (cancer_simplified_name, len(cancer_gwas_results)))\n",
    "    cancer_gwas_results.to_csv(os.path.join(COMBINED_RESULTS_DIR, cancer_simplified_name + '.csv'), index = False)\n",
    "\n",
    "print('Done.')"
   ]
  }
 ],
 "metadata": {
  "kernelspec": {
   "display_name": "Python 3",
   "language": "python",
   "name": "python3"
  },
  "language_info": {
   "codemirror_mode": {
    "name": "ipython",
    "version": 3
   },
   "file_extension": ".py",
   "mimetype": "text/x-python",
   "name": "python",
   "nbconvert_exporter": "python",
   "pygments_lexer": "ipython3",
   "version": "3.7.3"
  }
 },
 "nbformat": 4,
 "nbformat_minor": 2
}
