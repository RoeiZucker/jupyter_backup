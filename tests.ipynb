{
 "cells": [
  {
   "cell_type": "code",
   "execution_count": 88,
   "id": "94928a07",
   "metadata": {},
   "outputs": [
    {
     "data": {
      "text/plain": [
       "[['a', 'a', 'b', 'c', 'b'],\n",
       " ['a', 'a', 'bcb'],\n",
       " ['aa', 'b', 'c', 'b'],\n",
       " ['aa', 'bcb']]"
      ]
     },
     "execution_count": 88,
     "metadata": {},
     "output_type": "execute_result"
    }
   ],
   "source": [
    "def is_palindrom(val):\n",
    "    return val == val[::-1]\n",
    "\n",
    "def palindrome_partition(val):\n",
    "    if len(val) == 0:\n",
    "        return [[]]\n",
    "    values = []\n",
    "    for i in range(1,len(val) + 1):\n",
    "        if is_palindrom(val[:i]):\n",
    "            for pal in palindrome_partition(val[i:]):\n",
    "                to_add = [val[:i]]\n",
    "                to_add.extend(pal)\n",
    "                values.append(to_add)\n",
    "    return values\n",
    "\n",
    "palindrome_partition(\"aabcb\")"
   ]
  },
  {
   "cell_type": "code",
   "execution_count": 100,
   "id": "5c561388",
   "metadata": {},
   "outputs": [
    {
     "data": {
      "text/plain": [
       "4"
      ]
     },
     "execution_count": 100,
     "metadata": {},
     "output_type": "execute_result"
    }
   ],
   "source": [
    "class TreeNode:\n",
    "    def __init__(self, val=0, left=None, right=None):\n",
    "        self.val = val\n",
    "        self.left = left\n",
    "        self.right = right\n",
    "\n",
    "        \n",
    "def is_unival(root):\n",
    "    if root == None:\n",
    "        return True\n",
    "    if root.left and root.left.val != root.val:\n",
    "        return False\n",
    "    if root.right and root.right.val != root.val:\n",
    "        return False\n",
    "    return is_unival(root.left) and is_unival(root.right)\n",
    "\n",
    "def count_unival_subtrees(root):\n",
    "    if root == None:\n",
    "        return 0\n",
    "    left_count = count_unival_subtrees(root.left)\n",
    "    right_count = count_unival_subtrees(root.right)\n",
    "    if not is_unival(root.left) or not is_unival(root.left) or \\\n",
    "    (root.left and root.left.val != root.val) or  \\\n",
    "    (root.right and root.right.val != root.val):\n",
    "        return left_count + right_count\n",
    "    return left_count + right_count + 1\n",
    "        \n",
    "    \n",
    "# Example 1\n",
    "root = TreeNode(5)\n",
    "root.left = TreeNode(1)\n",
    "root.right = TreeNode(5)\n",
    "root.left.left = TreeNode(5)\n",
    "root.left.right = TreeNode(5)\n",
    "root.right.right = TreeNode(5)\n",
    "count_unival_subtrees(root)"
   ]
  },
  {
   "cell_type": "code",
   "execution_count": 106,
   "id": "9a672025",
   "metadata": {},
   "outputs": [
    {
     "name": "stdout",
     "output_type": "stream",
     "text": [
      "1\n",
      "2\n",
      "None\n",
      "4\n",
      "1\n",
      "2\n",
      "4\n"
     ]
    }
   ],
   "source": [
    "class Node:\n",
    "    def __init__(self, val=None, next=None, child=None):\n",
    "        self.val = val\n",
    "        self.next = next\n",
    "        self.child = child\n",
    "\n",
    "def remove_na(lst):\n",
    "    while lst.next is not None:\n",
    "        if lst.next.val is None:\n",
    "            lst.next = lst.next.next\n",
    "        lst = lst.next\n",
    "        \n",
    "\n",
    "def print_nodes(lst):\n",
    "    while lst is not None:\n",
    "        print(lst.val)\n",
    "        lst=lst.next\n",
    "    \n",
    "def remove_None(lst):\n",
    "    while ____(1)____:\n",
    "        if ____(2)____ is None:\n",
    "            ____(3)____ = ____(4)____\n",
    "        ____(5)____\n",
    "\n",
    "node10 = Node(10)\n",
    "node8 = Node(8, child=node10)\n",
    "node7 = Node(7, next=node8)\n",
    "\n",
    "node4 = Node(4)\n",
    "node3 = Node(None, next=node4)\n",
    "\n",
    "node2 = Node(2, next=node3, child=node7)\n",
    "node1 = Node(1, next=node2)\n",
    "print_nodes(node1)\n",
    "remove_na(node1)\n",
    "print_nodes(node1)\n"
   ]
  },
  {
   "cell_type": "code",
   "execution_count": 1,
   "id": "cea177ce",
   "metadata": {},
   "outputs": [],
   "source": [
    "import math\n",
    "def f3(n):\n",
    "    s = (n/2) * (n/3) * (n/4) * (n/5)\n",
    "    for i in range (int(s * math.log(n^2))):\n",
    "        if i < math.log(n):\n",
    "            print (n)\n",
    "        else:\n",
    "            break\n",
    "    for j in range(2 * n):\n",
    "        for t in range(j):\n",
    "            print(n)\n"
   ]
  },
  {
   "cell_type": "code",
   "execution_count": 59,
   "id": "76bf7c1e-f4e8-4aea-bb05-a0bf30993b8e",
   "metadata": {},
   "outputs": [
    {
     "name": "stdout",
     "output_type": "stream",
     "text": [
      "iteration 0\n",
      "[[0 0 0 1 0 0]\n",
      " [0 0 0 1 0 0]\n",
      " [0 1 1 0 1 0]\n",
      " [0 0 0 1 0 0]\n",
      " [0 0 0 1 0 0]]\n",
      "\n",
      "iteration 1\n",
      "[[0 0 0 0 0 0]\n",
      " [0 0 1 1 0 0]\n",
      " [0 0 1 0 1 0]\n",
      " [0 0 1 1 0 0]\n",
      " [0 0 0 0 0 0]]\n",
      "\n",
      "iteration 2\n",
      "[[0 0 0 0 0 0]\n",
      " [0 0 0 1 0 0]\n",
      " [0 1 1 1 1 0]\n",
      " [0 0 0 1 0 0]\n",
      " [0 0 0 0 0 0]]\n",
      "\n",
      "iteration 3\n",
      "[[0 0 0 0 0 0]\n",
      " [0 0 1 1 0 0]\n",
      " [0 0 1 0 1 0]\n",
      " [0 0 1 1 0 0]\n",
      " [0 0 0 0 0 0]]\n",
      "\n",
      "iteration 4\n",
      "[[0 0 0 0 0 0]\n",
      " [0 0 0 1 0 0]\n",
      " [0 1 1 1 1 0]\n",
      " [0 0 0 1 0 0]\n",
      " [0 0 0 0 0 0]]\n",
      "\n",
      "iteration 5\n",
      "[[0 0 0 0 0 0]\n",
      " [0 0 1 1 0 0]\n",
      " [0 0 1 0 1 0]\n",
      " [0 0 1 1 0 0]\n",
      " [0 0 0 0 0 0]]\n",
      "\n"
     ]
    }
   ],
   "source": [
    "import numpy as np\n",
    "kernel = np.array([\n",
    "    [1,0,1],\n",
    "    [0,0,0],\n",
    "    [1,0,1]\n",
    "])\n",
    "\n",
    "life_threshold = 2\n",
    "overcrowding_threshold = 4\n",
    "orig_board =np.array( [\n",
    "                [0, 0, 0, 1, 0, 0],\n",
    "            \t[0, 0, 0, 1, 0, 0],\n",
    "\t\t    \t[0, 1, 1, 0, 1, 0],\n",
    "    \t\t\t[0, 0, 0, 1, 0, 0],\n",
    "    \t\t\t[0, 0, 0, 1, 0, 0],])\n",
    "number_of_rounds = 6\n",
    "\n",
    "def run_round(orig_board,kernel,life_threshold,overcrowding_threshold):\n",
    "    board = np.pad(orig_board,1)\n",
    "    height,width =board.shape[0],board.shape[1]\n",
    "    kernel_height,kernel_width = kernel.shape[0],kernel.shape[1]\n",
    "    new_img = np.zeros((height-kernel_height+1,width-kernel_width+1)) \n",
    "    \n",
    "    for i in range(kernel_height//2, height-kernel_height//2-1):\n",
    "        for j in range(kernel_width//2, width-kernel_width//2-1):\n",
    "            window = board[i-kernel_height//2 : i+kernel_height//2+1,j-kernel_width//2 : j+kernel_width//2+1]        \n",
    "            if np.sum(window*kernel) >= life_threshold and np.sum(window*kernel) < overcrowding_threshold:\n",
    "                new_img[i-1, j-1] = 1\n",
    "    return new_img.astype(np.uint8)\n",
    "\n",
    "def game_of_life_advanced(board,kernel,gen,life_threshold=2,overcrowding_threshold=4):\n",
    "    curr_board = board\n",
    "    for i in range(gen):\n",
    "        curr_board = run_round(curr_board,kernel,life_threshold,overcrowding_threshold)\n",
    "    return curr_board\n",
    "for i in range(number_of_rounds):\n",
    "    print(\"iteration\",i)\n",
    "    print(game_of_life_advanced(orig_board,kernel,i))\n",
    "    print()"
   ]
  },
  {
   "cell_type": "code",
   "execution_count": 72,
   "id": "db746605-9f50-4936-ab51-dc58c2506202",
   "metadata": {},
   "outputs": [
    {
     "name": "stdout",
     "output_type": "stream",
     "text": [
      "[[0 0 0 0 0 0]\n",
      " [1 0 0 1 1 0]\n",
      " [0 0 0 0 0 0]\n",
      " [1 1 0 1 0 0]\n",
      " [0 0 0 0 0 0]]\n"
     ]
    }
   ],
   "source": [
    "kernel = np.array([\n",
    "    [1,1,1],\n",
    "    [0,0,0],\n",
    "    [1,1,1]\n",
    "])\n",
    "\n",
    "life_threshold = 2\n",
    "overcrowding_threshold = 5\n",
    "orig_board =np.array( [\n",
    "                [1, 1, 1, 1, 0, 1],\n",
    "            \t[0, 0, 0, 0, 0, 0],\n",
    "\t\t    \t[1, 1, 1, 1, 0, 1],\n",
    "    \t\t\t[0, 0, 0, 0, 0, 0],\n",
    "    \t\t\t[0, 1, 0, 1, 1, 1],])\n",
    "number_of_rounds = 1\n",
    "print(game_of_life_advanced(orig_board,kernel,number_of_rounds,life_threshold,overcrowding_threshold))"
   ]
  },
  {
   "cell_type": "code",
   "execution_count": 113,
   "id": "a8c3820a-e8fd-4050-9cb2-b917351ec227",
   "metadata": {},
   "outputs": [
    {
     "name": "stdout",
     "output_type": "stream",
     "text": [
      "[1.5, 2.8, 3.0, 3.2, 4.1]\n",
      "3.1\n",
      "[1, 200, 300, 500, 1000]\n",
      "250.0\n"
     ]
    }
   ],
   "source": [
    "# print(board)\n",
    "def find_percentile(arr: np.ndarray, p: float) -> float:\n",
    "    sorted_arr = sorted(arr)\n",
    "    print(sorted_arr)\n",
    "    is_integer = ((len(arr) - 1) * p/100).is_integer()\n",
    "    if is_integer:\n",
    "        return sorted_arr[int(((len(arr) - 1) * p/100))]\n",
    "    a = sorted_arr[int(((len(arr) - 1) * p/100))]\n",
    "    b = sorted_arr[int(((len(arr) - 1) * p/100)) + 1]\n",
    "    return (a+b)/2\n",
    "print(find_percentile(np.array([3.2, 1.5, 2.8, 4.1,3.0]),60))\n",
    "print(find_percentile(np.array([1000, 1, 500, 300,200]),40))\n",
    "\n",
    "    "
   ]
  },
  {
   "cell_type": "code",
   "execution_count": 5,
   "id": "ecd5989a-3bb9-4e99-a738-de15c65fbeeb",
   "metadata": {},
   "outputs": [
    {
     "name": "stdout",
     "output_type": "stream",
     "text": [
      "p30600_i0\n",
      "p30600_i1\n",
      "p30610_i0\n",
      "p30610_i1\n",
      "p30620_i0\n",
      "p30620_i1\n",
      "p30630_i0\n",
      "p30630_i1\n",
      "p30640_i0\n",
      "p30640_i1\n",
      "p30650_i0\n",
      "p30650_i1\n",
      "p30660_i0\n",
      "p30660_i1\n",
      "p30670_i0\n",
      "p30670_i1\n",
      "p30680_i0\n",
      "p30680_i1\n",
      "p30690_i0\n",
      "p30690_i1\n",
      "p30700_i0\n",
      "p30700_i1\n",
      "p30710_i0\n",
      "p30710_i1\n",
      "p30720_i0\n",
      "p30720_i1\n",
      "p30730_i0\n",
      "p30730_i1\n",
      "p30740_i0\n",
      "p30740_i1\n",
      "p30750_i0\n",
      "p30750_i1\n",
      "p30760_i0\n",
      "p30760_i1\n",
      "p30770_i0\n",
      "p30770_i1\n",
      "p30780_i0\n",
      "p30780_i1\n",
      "p30790_i0\n",
      "p30790_i1\n",
      "p30800_i0\n",
      "p30800_i1\n",
      "p30810_i0\n",
      "p30810_i1\n",
      "p30820_i0\n",
      "p30820_i1\n",
      "p30830_i0\n",
      "p30830_i1\n",
      "p30840_i0\n",
      "p30840_i1\n",
      "p30850_i0\n",
      "p30850_i1\n",
      "p30860_i0\n",
      "p30860_i1\n",
      "p30870_i0\n",
      "p30870_i1\n",
      "p30880_i0\n",
      "p30880_i1\n",
      "p30890_i0\n",
      "p30890_i1\n"
     ]
    }
   ],
   "source": [
    "for i in range(30600,30900,10):\n",
    "    print(f\"p{i}_i0\")\n",
    "    print(f\"p{i}_i1\")"
   ]
  }
 ],
 "metadata": {
  "kernelspec": {
   "display_name": "Python 3 (ipykernel)",
   "language": "python",
   "name": "python3"
  },
  "language_info": {
   "codemirror_mode": {
    "name": "ipython",
    "version": 3
   },
   "file_extension": ".py",
   "mimetype": "text/x-python",
   "name": "python",
   "nbconvert_exporter": "python",
   "pygments_lexer": "ipython3",
   "version": "3.11.2"
  }
 },
 "nbformat": 4,
 "nbformat_minor": 5
}
