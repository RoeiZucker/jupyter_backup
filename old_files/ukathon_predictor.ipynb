{
 "cells": [
  {
   "cell_type": "code",
   "execution_count": 1,
   "id": "1b9e9670",
   "metadata": {},
   "outputs": [],
   "source": [
    "import pandas as pd\n",
    "import numpy as np"
   ]
  },
  {
   "cell_type": "code",
   "execution_count": 2,
   "id": "47d98f20",
   "metadata": {},
   "outputs": [],
   "source": [
    "files = [\"3222.csv\",\n",
    "\"4056.csv\",\n",
    "\"2702.csv\",\n",
    "\"14200.csv\",\n",
    "\"13465.csv\",\n",
    "\"469.csv\",\n",
    "\"4967.csv\",\n",
    "\"10243.csv\",\n",
    "\"3029.csv\",\n",
    "\"9323.csv\",\n",
    "\"8547.csv\",\n",
    "\"1748.csv\",\n",
    "\"1006.csv\",\n",
    "\"1756.csv\",\n",
    "\"3619.csv\",\n",
    "\"17215.csv\",\n",
    "\"4528.csv\",\n",
    "\"11994.csv\",\n",
    "\"14743.csv\"]"
   ]
  },
  {
   "cell_type": "code",
   "execution_count": 3,
   "id": "12575bf8",
   "metadata": {},
   "outputs": [
    {
     "name": "stdout",
     "output_type": "stream",
     "text": [
      "Empty DataFrame\n",
      "Columns: []\n",
      "Index: [1688461, 5444187, 2676900, 3709342, 3769417, 3643718, 4278638, 3813137, 4992438, 4686631, 2095039, 4953621, 1556925, 2343645, 2324055, 3917348, 3577284, 5530217, 1932749, 4274596, 5613918, 3708261, 5864238, 4904291, 1747215, 4077236, 3427308, 1878573, 5069634, 2457659, 1570348, 5158468, 4555534, 5631928, 4608848, 3582530, 5205852, 5544595, 3480009, 2358092, 3994493, 4567133, 5327521, 5476799, 4466105, 3597015, 1661294, 3861498, 3963360, 2055462, 4114554, 5034937, 5254529, 1661730, 1970464, 2856796, 2957445, 2814481, 3181538, 1541951, 5224917, 1738554, 2207617, 1931048, 5204026, 2251402, 3784526, 3596108, 5227551, 5467196, 4324738, 3922623, 4210245, 2324971, 2986478, 5825753, 3836672, 3315694, 2992942, 3292592, 3027488, 2092782, 4224484, 4499790, 2180606, 4918213, 1604471, 5255506, 5840740, 3968776, 1832628, 4270952, 2514233, 5581931, 3347797, 5572282, 4078033, 4091245, 5178884, 2148454, ...]\n",
      "\n",
      "[487409 rows x 0 columns]\n"
     ]
    }
   ],
   "source": [
    "base_doc = pd.read_csv(\"~/my_storage/virt_env_install_test/ukbb_imputation_gene_effect_scores/3222.csv\")\n",
    "base_doc.set_index('sample_id', inplace=True)\n",
    "# print(base_doc)\n",
    "base_doc = base_doc.drop(['dominant','recessive'],axis=1)\n",
    "print(base_doc)"
   ]
  },
  {
   "cell_type": "code",
   "execution_count": 4,
   "id": "3be6dedd",
   "metadata": {},
   "outputs": [
    {
     "name": "stdout",
     "output_type": "stream",
     "text": [
      "           3222  4056  2702  14200  13465  469  4967  10243  3029  9323  8547  \\\n",
      "sample_id                                                                       \n",
      "1688461     1.0   1.0   1.0    1.0    1.0  1.0   1.0    1.0   1.0   1.0   1.0   \n",
      "5444187     1.0   1.0   1.0    1.0    1.0  1.0   1.0    1.0   1.0   1.0   1.0   \n",
      "2676900     1.0   1.0   1.0    1.0    1.0  1.0   1.0    1.0   1.0   1.0   1.0   \n",
      "3709342     1.0   1.0   1.0    1.0    1.0  1.0   1.0    1.0   1.0   1.0   1.0   \n",
      "3769417     1.0   1.0   1.0    1.0    1.0  1.0   1.0    1.0   1.0   1.0   1.0   \n",
      "...         ...   ...   ...    ...    ...  ...   ...    ...   ...   ...   ...   \n",
      "1022925     1.0   1.0   1.0    1.0    1.0  1.0   1.0    1.0   1.0   1.0   1.0   \n",
      "1298707     1.0   1.0   1.0    1.0    1.0  1.0   1.0    1.0   1.0   1.0   1.0   \n",
      "1169275     1.0   1.0   1.0    1.0    1.0  1.0   1.0    1.0   1.0   1.0   1.0   \n",
      "1164524     1.0   1.0   1.0    1.0    1.0  1.0   1.0    1.0   1.0   1.0   1.0   \n",
      "1409864     1.0   1.0   1.0    1.0    1.0  1.0   1.0    1.0   1.0   1.0   1.0   \n",
      "\n",
      "           1748  1006  1756  3619  17215  4528  11994  14743  \n",
      "sample_id                                                     \n",
      "1688461     1.0   1.0   1.0   1.0    1.0   1.0    1.0    1.0  \n",
      "5444187     1.0   1.0   1.0   1.0    1.0   1.0    1.0    1.0  \n",
      "2676900     1.0   1.0   1.0   1.0    1.0   1.0    1.0    1.0  \n",
      "3709342     1.0   1.0   1.0   1.0    1.0   1.0    1.0    1.0  \n",
      "3769417     1.0   1.0   1.0   1.0    1.0   1.0    1.0    1.0  \n",
      "...         ...   ...   ...   ...    ...   ...    ...    ...  \n",
      "1022925     1.0   1.0   1.0   1.0    1.0   1.0    1.0    1.0  \n",
      "1298707     1.0   1.0   1.0   1.0    1.0   1.0    1.0    1.0  \n",
      "1169275     1.0   1.0   1.0   1.0    1.0   1.0    1.0    1.0  \n",
      "1164524     1.0   1.0   1.0   1.0    1.0   1.0    1.0    1.0  \n",
      "1409864     1.0   1.0   1.0   1.0    1.0   1.0    1.0    1.0  \n",
      "\n",
      "[487409 rows x 19 columns]\n"
     ]
    }
   ],
   "source": [
    "for file in files:\n",
    "    new_doc = pd.read_csv(\"~/my_storage/virt_env_install_test/ukbb_imputation_gene_effect_scores/3222.csv\")\n",
    "    new_doc.set_index('sample_id', inplace=True)\n",
    "    base_doc[file.replace(\".csv\",\"\")] = new_doc[\"dominant\"]\n",
    "print(base_doc)"
   ]
  },
  {
   "cell_type": "code",
   "execution_count": 5,
   "id": "418f818c",
   "metadata": {},
   "outputs": [
    {
     "name": "stdout",
     "output_type": "stream",
     "text": [
      "           sample_index  ostro\n",
      "sample_id                     \n",
      "5895328               0    0.0\n",
      "5764375               1    0.0\n",
      "5503073               2    0.0\n",
      "2563626               3    0.0\n",
      "4980832               4    0.0\n",
      "...                 ...    ...\n",
      "2243883          502513    0.0\n",
      "3570729          502515    0.0\n",
      "1663456          502516    0.0\n",
      "3118989          502517    0.0\n",
      "4573284          502519    0.0\n",
      "\n",
      "[333415 rows x 2 columns]\n"
     ]
    }
   ],
   "source": [
    "col_list = [\"sample_index\",\"eid\",\"ostro\"]\n",
    "df = pd.read_csv(\"/cs/labs/michall/roeizucker/hackton/predictor/ukbb_dataset.csv\", usecols=col_list)\n",
    "df = df.rename(columns = {'eid': 'sample_id'})\n",
    "df.set_index('sample_id', inplace=True)\n",
    "print(df)"
   ]
  },
  {
   "cell_type": "code",
   "execution_count": 6,
   "id": "c3fb8d10",
   "metadata": {},
   "outputs": [
    {
     "ename": "KeyboardInterrupt",
     "evalue": "",
     "output_type": "error",
     "traceback": [
      "\u001b[0;31m---------------------------------------------------------------------------\u001b[0m",
      "\u001b[0;31mKeyboardInterrupt\u001b[0m                         Traceback (most recent call last)",
      "\u001b[0;32m<ipython-input-6-6352e1e9f08b>\u001b[0m in \u001b[0;36m<module>\u001b[0;34m\u001b[0m\n\u001b[1;32m      2\u001b[0m \u001b[0mbase_doc\u001b[0m\u001b[0;34m[\u001b[0m\u001b[0;34m'sick'\u001b[0m\u001b[0;34m]\u001b[0m \u001b[0;34m=\u001b[0m \u001b[0mbase_doc\u001b[0m\u001b[0;34m[\u001b[0m\u001b[0;34m'sick'\u001b[0m\u001b[0;34m]\u001b[0m\u001b[0;34m.\u001b[0m\u001b[0mreplace\u001b[0m\u001b[0;34m(\u001b[0m\u001b[0mnp\u001b[0m\u001b[0;34m.\u001b[0m\u001b[0mnan\u001b[0m\u001b[0;34m,\u001b[0m \u001b[0;36m0\u001b[0m\u001b[0;34m)\u001b[0m\u001b[0;34m\u001b[0m\u001b[0;34m\u001b[0m\u001b[0m\n\u001b[1;32m      3\u001b[0m \u001b[0;34m\u001b[0m\u001b[0m\n\u001b[0;32m----> 4\u001b[0;31m \u001b[0mbase_doc\u001b[0m\u001b[0;34m.\u001b[0m\u001b[0mto_csv\u001b[0m\u001b[0;34m(\u001b[0m\u001b[0;34m\"/cs/labs/michall/roeizucker/pred_matrix.csv\"\u001b[0m\u001b[0;34m)\u001b[0m\u001b[0;34m\u001b[0m\u001b[0;34m\u001b[0m\u001b[0m\n\u001b[0m",
      "\u001b[0;32m~/my_python/lib/python3.7/site-packages/pandas/core/generic.py\u001b[0m in \u001b[0;36mto_csv\u001b[0;34m(self, path_or_buf, sep, na_rep, float_format, columns, header, index, index_label, mode, encoding, compression, quoting, quotechar, line_terminator, chunksize, date_format, doublequote, escapechar, decimal, errors)\u001b[0m\n\u001b[1;32m   3168\u001b[0m             \u001b[0mdecimal\u001b[0m\u001b[0;34m=\u001b[0m\u001b[0mdecimal\u001b[0m\u001b[0;34m,\u001b[0m\u001b[0;34m\u001b[0m\u001b[0;34m\u001b[0m\u001b[0m\n\u001b[1;32m   3169\u001b[0m         )\n\u001b[0;32m-> 3170\u001b[0;31m         \u001b[0mformatter\u001b[0m\u001b[0;34m.\u001b[0m\u001b[0msave\u001b[0m\u001b[0;34m(\u001b[0m\u001b[0;34m)\u001b[0m\u001b[0;34m\u001b[0m\u001b[0;34m\u001b[0m\u001b[0m\n\u001b[0m\u001b[1;32m   3171\u001b[0m \u001b[0;34m\u001b[0m\u001b[0m\n\u001b[1;32m   3172\u001b[0m         \u001b[0;32mif\u001b[0m \u001b[0mpath_or_buf\u001b[0m \u001b[0;32mis\u001b[0m \u001b[0;32mNone\u001b[0m\u001b[0;34m:\u001b[0m\u001b[0;34m\u001b[0m\u001b[0;34m\u001b[0m\u001b[0m\n",
      "\u001b[0;32m~/my_python/lib/python3.7/site-packages/pandas/io/formats/csvs.py\u001b[0m in \u001b[0;36msave\u001b[0;34m(self)\u001b[0m\n\u001b[1;32m    204\u001b[0m             )\n\u001b[1;32m    205\u001b[0m \u001b[0;34m\u001b[0m\u001b[0m\n\u001b[0;32m--> 206\u001b[0;31m             \u001b[0mself\u001b[0m\u001b[0;34m.\u001b[0m\u001b[0m_save\u001b[0m\u001b[0;34m(\u001b[0m\u001b[0;34m)\u001b[0m\u001b[0;34m\u001b[0m\u001b[0;34m\u001b[0m\u001b[0m\n\u001b[0m\u001b[1;32m    207\u001b[0m \u001b[0;34m\u001b[0m\u001b[0m\n\u001b[1;32m    208\u001b[0m         \u001b[0;32mfinally\u001b[0m\u001b[0;34m:\u001b[0m\u001b[0;34m\u001b[0m\u001b[0;34m\u001b[0m\u001b[0m\n",
      "\u001b[0;32m~/my_python/lib/python3.7/site-packages/pandas/io/formats/csvs.py\u001b[0m in \u001b[0;36m_save\u001b[0;34m(self)\u001b[0m\n\u001b[1;32m    326\u001b[0m                 \u001b[0;32mbreak\u001b[0m\u001b[0;34m\u001b[0m\u001b[0;34m\u001b[0m\u001b[0m\n\u001b[1;32m    327\u001b[0m \u001b[0;34m\u001b[0m\u001b[0m\n\u001b[0;32m--> 328\u001b[0;31m             \u001b[0mself\u001b[0m\u001b[0;34m.\u001b[0m\u001b[0m_save_chunk\u001b[0m\u001b[0;34m(\u001b[0m\u001b[0mstart_i\u001b[0m\u001b[0;34m,\u001b[0m \u001b[0mend_i\u001b[0m\u001b[0;34m)\u001b[0m\u001b[0;34m\u001b[0m\u001b[0;34m\u001b[0m\u001b[0m\n\u001b[0m\u001b[1;32m    329\u001b[0m \u001b[0;34m\u001b[0m\u001b[0m\n\u001b[1;32m    330\u001b[0m     \u001b[0;32mdef\u001b[0m \u001b[0m_save_chunk\u001b[0m\u001b[0;34m(\u001b[0m\u001b[0mself\u001b[0m\u001b[0;34m,\u001b[0m \u001b[0mstart_i\u001b[0m\u001b[0;34m:\u001b[0m \u001b[0mint\u001b[0m\u001b[0;34m,\u001b[0m \u001b[0mend_i\u001b[0m\u001b[0;34m:\u001b[0m \u001b[0mint\u001b[0m\u001b[0;34m)\u001b[0m \u001b[0;34m->\u001b[0m \u001b[0;32mNone\u001b[0m\u001b[0;34m:\u001b[0m\u001b[0;34m\u001b[0m\u001b[0;34m\u001b[0m\u001b[0m\n",
      "\u001b[0;32m~/my_python/lib/python3.7/site-packages/pandas/io/formats/csvs.py\u001b[0m in \u001b[0;36m_save_chunk\u001b[0;34m(self, start_i, end_i)\u001b[0m\n\u001b[1;32m    344\u001b[0m                 \u001b[0mdecimal\u001b[0m\u001b[0;34m=\u001b[0m\u001b[0mself\u001b[0m\u001b[0;34m.\u001b[0m\u001b[0mdecimal\u001b[0m\u001b[0;34m,\u001b[0m\u001b[0;34m\u001b[0m\u001b[0;34m\u001b[0m\u001b[0m\n\u001b[1;32m    345\u001b[0m                 \u001b[0mdate_format\u001b[0m\u001b[0;34m=\u001b[0m\u001b[0mself\u001b[0m\u001b[0;34m.\u001b[0m\u001b[0mdate_format\u001b[0m\u001b[0;34m,\u001b[0m\u001b[0;34m\u001b[0m\u001b[0;34m\u001b[0m\u001b[0m\n\u001b[0;32m--> 346\u001b[0;31m                 \u001b[0mquoting\u001b[0m\u001b[0;34m=\u001b[0m\u001b[0mself\u001b[0m\u001b[0;34m.\u001b[0m\u001b[0mquoting\u001b[0m\u001b[0;34m,\u001b[0m\u001b[0;34m\u001b[0m\u001b[0;34m\u001b[0m\u001b[0m\n\u001b[0m\u001b[1;32m    347\u001b[0m             )\n\u001b[1;32m    348\u001b[0m \u001b[0;34m\u001b[0m\u001b[0m\n",
      "\u001b[0;32m~/my_python/lib/python3.7/site-packages/pandas/core/internals/blocks.py\u001b[0m in \u001b[0;36mto_native_types\u001b[0;34m(self, na_rep, float_format, decimal, quoting, **kwargs)\u001b[0m\n\u001b[1;32m   1949\u001b[0m \u001b[0;34m\u001b[0m\u001b[0m\n\u001b[1;32m   1950\u001b[0m             \u001b[0;32mif\u001b[0m \u001b[0;32mnot\u001b[0m \u001b[0mquoting\u001b[0m\u001b[0;34m:\u001b[0m\u001b[0;34m\u001b[0m\u001b[0;34m\u001b[0m\u001b[0m\n\u001b[0;32m-> 1951\u001b[0;31m                 \u001b[0mvalues\u001b[0m \u001b[0;34m=\u001b[0m \u001b[0mvalues\u001b[0m\u001b[0;34m.\u001b[0m\u001b[0mastype\u001b[0m\u001b[0;34m(\u001b[0m\u001b[0mstr\u001b[0m\u001b[0;34m)\u001b[0m\u001b[0;34m\u001b[0m\u001b[0;34m\u001b[0m\u001b[0m\n\u001b[0m\u001b[1;32m   1952\u001b[0m             \u001b[0;32melse\u001b[0m\u001b[0;34m:\u001b[0m\u001b[0;34m\u001b[0m\u001b[0;34m\u001b[0m\u001b[0m\n\u001b[1;32m   1953\u001b[0m                 \u001b[0mvalues\u001b[0m \u001b[0;34m=\u001b[0m \u001b[0mnp\u001b[0m\u001b[0;34m.\u001b[0m\u001b[0marray\u001b[0m\u001b[0;34m(\u001b[0m\u001b[0mvalues\u001b[0m\u001b[0;34m,\u001b[0m \u001b[0mdtype\u001b[0m\u001b[0;34m=\u001b[0m\u001b[0;34m\"object\"\u001b[0m\u001b[0;34m)\u001b[0m\u001b[0;34m\u001b[0m\u001b[0;34m\u001b[0m\u001b[0m\n",
      "\u001b[0;31mKeyboardInterrupt\u001b[0m: "
     ]
    }
   ],
   "source": [
    "base_doc[\"sick\"] = df[\"ostro\"]\n",
    "base_doc['sick'] = base_doc['sick'].replace(np.nan, 0)\n",
    "\n",
    "base_doc.to_csv(\"/cs/labs/michall/roeizucker/pred_matrix.csv\")"
   ]
  },
  {
   "cell_type": "code",
   "execution_count": null,
   "id": "3b91d3bd",
   "metadata": {},
   "outputs": [],
   "source": [
    "# with pd.option_context('display.max_rows', None, 'display.max_columns', None):  # more options can be specified also\n",
    "#     print(df)\n",
    "\n",
    "(base_doc[base_doc[\"sick\"] != 0.0])"
   ]
  },
  {
   "cell_type": "code",
   "execution_count": null,
   "id": "47e34325",
   "metadata": {},
   "outputs": [],
   "source": [
    "import hail as hl\n"
   ]
  },
  {
   "cell_type": "code",
   "execution_count": null,
   "id": "7bde8d93",
   "metadata": {},
   "outputs": [],
   "source": [
    "from hail.plot import show\n",
    "from pprint import pprint\n",
    "hl.plot.output_notebook()\n"
   ]
  },
  {
   "cell_type": "code",
   "execution_count": null,
   "id": "44afd189",
   "metadata": {},
   "outputs": [],
   "source": [
    "hl.utils.get_1kg('data/')\n"
   ]
  },
  {
   "cell_type": "code",
   "execution_count": null,
   "id": "26e60318",
   "metadata": {},
   "outputs": [],
   "source": [
    "hl.import_vcf('data/1kg.vcf.bgz').write('data/1kg.mt', overwrite=True)\n"
   ]
  },
  {
   "cell_type": "code",
   "execution_count": null,
   "id": "c46f545c",
   "metadata": {},
   "outputs": [],
   "source": [
    "mt = hl.read_matrix_table('data/1kg.mt')\n",
    "mt.rows().select().show(5)\n"
   ]
  },
  {
   "cell_type": "code",
   "execution_count": null,
   "id": "2205535f",
   "metadata": {},
   "outputs": [],
   "source": [
    "mt.entry.show(5)\n"
   ]
  },
  {
   "cell_type": "code",
   "execution_count": null,
   "id": "44749107",
   "metadata": {},
   "outputs": [],
   "source": [
    "table = (hl.import_table('data/1kg_annotations.txt', impute=True)\n",
    "         .key_by('Sample'))\n"
   ]
  },
  {
   "cell_type": "code",
   "execution_count": null,
   "id": "c0308e03",
   "metadata": {},
   "outputs": [],
   "source": [
    "table.describe()\n"
   ]
  },
  {
   "cell_type": "code",
   "execution_count": null,
   "id": "0e7727bf",
   "metadata": {},
   "outputs": [],
   "source": [
    "table.show(width=100)\n"
   ]
  },
  {
   "cell_type": "code",
   "execution_count": null,
   "id": "d5f47ba0",
   "metadata": {},
   "outputs": [],
   "source": [
    "print(mt.col.dtype)\n"
   ]
  },
  {
   "cell_type": "code",
   "execution_count": null,
   "id": "e6ebea5f",
   "metadata": {},
   "outputs": [],
   "source": [
    "mt = mt.annotate_cols(pheno = table[mt.s])\n"
   ]
  },
  {
   "cell_type": "code",
   "execution_count": null,
   "id": "1130f8a4",
   "metadata": {},
   "outputs": [],
   "source": [
    "mt.col.describe()\n"
   ]
  },
  {
   "cell_type": "code",
   "execution_count": null,
   "id": "c55050e0",
   "metadata": {},
   "outputs": [],
   "source": [
    "pprint(table.aggregate(hl.agg.counter(table.SuperPopulation)))\n"
   ]
  },
  {
   "cell_type": "code",
   "execution_count": null,
   "id": "0f9d59a4",
   "metadata": {},
   "outputs": [],
   "source": [
    "pprint(table.aggregate(hl.agg.stats(table.CaffeineConsumption)))\n"
   ]
  },
  {
   "cell_type": "code",
   "execution_count": null,
   "id": "3907043b",
   "metadata": {},
   "outputs": [],
   "source": [
    "table.count()\n"
   ]
  },
  {
   "cell_type": "code",
   "execution_count": null,
   "id": "8cdf7580",
   "metadata": {},
   "outputs": [],
   "source": []
  },
  {
   "cell_type": "code",
   "execution_count": null,
   "id": "e6094664",
   "metadata": {},
   "outputs": [],
   "source": [
    "mt.count_cols()\n"
   ]
  },
  {
   "cell_type": "code",
   "execution_count": null,
   "id": "181af4c3",
   "metadata": {},
   "outputs": [],
   "source": [
    "mt.aggregate_cols(hl.agg.counter(mt.pheno.SuperPopulation))\n"
   ]
  },
  {
   "cell_type": "code",
   "execution_count": null,
   "id": "e33d98be",
   "metadata": {},
   "outputs": [],
   "source": [
    "pprint(mt.aggregate_cols(hl.agg.stats(mt.pheno.CaffeineConsumption)))\n"
   ]
  },
  {
   "cell_type": "code",
   "execution_count": null,
   "id": "4c531d21",
   "metadata": {},
   "outputs": [],
   "source": [
    "snp_counts = mt.aggregate_rows(hl.agg.counter(hl.Struct(ref=mt.alleles[0], alt=mt.alleles[1])))\n",
    "pprint(snp_counts)\n"
   ]
  },
  {
   "cell_type": "code",
   "execution_count": null,
   "id": "cb7a9678",
   "metadata": {},
   "outputs": [],
   "source": [
    "from collections import Counter\n",
    "counts = Counter(snp_counts)\n",
    "counts.most_common()\n"
   ]
  },
  {
   "cell_type": "code",
   "execution_count": null,
   "id": "09222ff0",
   "metadata": {},
   "outputs": [],
   "source": [
    "p = hl.plot.histogram(mt.DP, range=(0,30), bins=30, title='DP Histogram', legend='DP')\n",
    "show(p)\n"
   ]
  },
  {
   "cell_type": "code",
   "execution_count": 31,
   "id": "516e7ce3",
   "metadata": {},
   "outputs": [
    {
     "name": "stdout",
     "output_type": "stream",
     "text": [
      "done\n"
     ]
    }
   ],
   "source": [
    "frame = pd.read_csv(\"/cs/labs/michall/roeizucker/hackton/osto_age/ukbb_dataset.csv\")\n",
    "print(\"done\")"
   ]
  },
  {
   "cell_type": "code",
   "execution_count": 32,
   "id": "ec3b3e3a",
   "metadata": {},
   "outputs": [
    {
     "name": "stdout",
     "output_type": "stream",
     "text": [
      "done\n"
     ]
    }
   ],
   "source": [
    "frame[\"date_M80_year_reported\"] = pd.to_numeric(frame[\"Date_M80_first_reported\"].str.split(pat=\"-\",expand=True)[0])\n",
    "frame[\"date_M81_year_reported\"] = pd.to_numeric(frame[\"Date_M81_first_reported\"].str.split(pat=\"-\",expand=True)[0])\n",
    "# str.split(pat=\"/\")\n",
    "print(\"done\")"
   ]
  },
  {
   "cell_type": "code",
   "execution_count": 33,
   "id": "215a7f3c",
   "metadata": {},
   "outputs": [],
   "source": [
    "frame['date_M81_year_reported'] = frame['date_M81_year_reported'].replace(np.nan, 99999)\n",
    "frame['date_M80_year_reported'] = frame['date_M80_year_reported'].replace(np.nan, 99999)\n",
    "frame['min_year_reported'] = frame[['date_M81_year_reported','date_M80_year_reported']].min(axis=1)"
   ]
  },
  {
   "cell_type": "code",
   "execution_count": 38,
   "id": "f1f8b9f7",
   "metadata": {},
   "outputs": [],
   "source": [
    "filtered_frame = frame[frame['min_year_reported'] != 99999]\n"
   ]
  },
  {
   "cell_type": "code",
   "execution_count": 41,
   "id": "2c9923e2",
   "metadata": {},
   "outputs": [
    {
     "ename": "SyntaxError",
     "evalue": "invalid syntax (<ipython-input-41-ec0567b43872>, line 1)",
     "output_type": "error",
     "traceback": [
      "\u001b[0;36m  File \u001b[0;32m\"<ipython-input-41-ec0567b43872>\"\u001b[0;36m, line \u001b[0;32m1\u001b[0m\n\u001b[0;31m    filtered_frame[\"age_osteoporosis_reported\"] = filtered_frame[\"min_year_reportedastype(int) - filtered_frame[\"year_of_birth\"]\u001b[0m\n\u001b[0m                                                                                                                             ^\u001b[0m\n\u001b[0;31mSyntaxError\u001b[0m\u001b[0;31m:\u001b[0m invalid syntax\n"
     ]
    }
   ],
   "source": [
    "filtered_frame[\"age_osteoporosis_reported\"] = filtered_frame[\"min_year_reportedastype(int) - filtered_frame[\"year_of_birth\"]\n"
   ]
  },
  {
   "cell_type": "code",
   "execution_count": 44,
   "id": "d64ad3de",
   "metadata": {},
   "outputs": [],
   "source": [
    "filtered_frame.to_csv('/cs/labs/michall/roeizucker/hackton/osto_age/ukbb_dataset_filtered.csv')"
   ]
  },
  {
   "cell_type": "code",
   "execution_count": 50,
   "id": "22a4723a",
   "metadata": {},
   "outputs": [],
   "source": [
    "filtered_frame_F = filtered_frame[filtered_frame['osteoporosis_F'] == 1]\n",
    "filtered_frame_M = filtered_frame[filtered_frame['osteoporosis_M'] == 1]"
   ]
  },
  {
   "cell_type": "code",
   "execution_count": 51,
   "id": "e538517d",
   "metadata": {},
   "outputs": [],
   "source": [
    "filtered_frame_F.to_csv('/cs/labs/michall/roeizucker/hackton/osto_age/ukbb_dataset_filtered_F.csv')\n",
    "filtered_frame_M.to_csv('/cs/labs/michall/roeizucker/hackton/osto_age/ukbb_dataset_filtered_M.csv')"
   ]
  }
 ],
 "metadata": {
  "kernelspec": {
   "display_name": "myenv",
   "language": "python",
   "name": "myenv"
  },
  "language_info": {
   "codemirror_mode": {
    "name": "ipython",
    "version": 3
   },
   "file_extension": ".py",
   "mimetype": "text/x-python",
   "name": "python",
   "nbconvert_exporter": "python",
   "pygments_lexer": "ipython3",
   "version": "3.7.3"
  }
 },
 "nbformat": 4,
 "nbformat_minor": 5
}
