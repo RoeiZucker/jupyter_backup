{
 "cells": [
  {
   "cell_type": "code",
   "execution_count": 40,
   "id": "6e4d03a6",
   "metadata": {},
   "outputs": [],
   "source": [
    "import sys\n",
    "import pandas as pd\n",
    "import os\n",
    "from os import path\n",
    "from pprint import pprint"
   ]
  },
  {
   "cell_type": "code",
   "execution_count": null,
   "id": "ff7e54fa",
   "metadata": {},
   "outputs": [],
   "source": [
    "!mkdir /cs/labs/michall/roeizucker/phewas_run/runs1/0:9/plink_run/results\n",
    "!mkdir /cs/labs/michall/roeizucker/phewas_run/runs1/0:9/plink_run/phenotypes\n",
    "!touch /cs/labs/michall/roeizucker/phewas_run/runs1/0:9/plink_run/pan_cancer.log\n",
    "!touch /cs/labs/michall/roeizucker/phewas_run/runs1/0:9/plink_run/pan_cancer.txt\n",
    "!touch /cs/labs/michall/roeizucker/phewas_run/runs1/0:9/plink_run/covariates.txt\n",
    "!/cs/phd/nadavb/third_party/plink2 --bed /cs/labs/michall/roeizucker/plink_results/reduced_snps/reduced_chr8.bed --bim /cs/labs/michall/roeizucker/plink_results/reduced_snps/reduced_chr8.bim --fam /cs/labs/michall/roeizucker/plink_results/reduced_snps/reduced_chr8.fam --pheno /cs/labs/michall/roeizucker/phewas_run/runs1/0:9/plink_run/phenotypes/Phecode_8.0.csv --covar /cs/labs/michall/roeizucker/phewas_run/runs1/0:9/plink_run/covariates.txt --out /cs/labs/michall/roeizucker/phewas_run/runs1/0:9/plink_run/results/pan_cancer/Phecode_8.0 --1 --glm hide-covar --mac 20 --covar-variance-standardize --freq --threads 1 --memory 10000"
   ]
  },
  {
   "cell_type": "code",
   "execution_count": 41,
   "id": "cf1f0ef6",
   "metadata": {},
   "outputs": [],
   "source": [
    "PHENOTYPE_FILE_NAME = 'ukbb_dataset.csv'\n",
    "GWAS_DIR_NAME = 'gwas/'\n",
    "GWAS_RESULTS_DIR_NAME = 'results/'\n",
    "GWAS_PHENOTYPES_DIR_NAME = 'phenotypes/'\n",
    "NUMBER_OF_PHENOTYPES_IN_FILE = 10\n",
    "PHENOTYPES_START_POSITION = 2"
   ]
  },
  {
   "cell_type": "code",
   "execution_count": 42,
   "id": "caa1cc8d",
   "metadata": {},
   "outputs": [],
   "source": [
    "def create_path(dir_path):\n",
    "    if not path.exists(dir_path):\n",
    "        os.mkdir(dir_path)"
   ]
  },
  {
   "cell_type": "code",
   "execution_count": 50,
   "id": "2964f279",
   "metadata": {},
   "outputs": [
    {
     "name": "stdout",
     "output_type": "stream",
     "text": [
      "cat /cs/labs/michall/roeizucker/phewas_run/runs1/0:9/ukbb_dataset.csv | awk -F , '{print $2 \"\\t\" $2\"\\t\" $3 }' | tail -n +2 | grep '.0' > /cs/labs/michall/roeizucker/phewas_run/runs1/0:9/gwas/phenotypes/Phecode_8.0.txt\n"
     ]
    }
   ],
   "source": [
    "\n",
    "# single directory:\n",
    "\n",
    "\n",
    "lines = []\n",
    "\n",
    "# find phenotypes\n",
    "dir_path = r'/cs/labs/michall/roeizucker/phewas_run/runs1/0:9/'\n",
    "with open(dir_path + PHENOTYPE_FILE_NAME) as phenotype_file:\n",
    "    first_line = phenotype_file.readline()\n",
    "    phenotypes = first_line.split(\",\")[PHENOTYPES_START_POSITION:PHENOTYPES_START_POSITION+NUMBER_OF_PHENOTYPES_IN_FILE + 2]\n",
    "\n",
    "\n",
    "# create directory structure:\n",
    "gwas_path = dir_path + GWAS_DIR_NAME\n",
    "gwas_results_path = gwas_path + GWAS_RESULTS_DIR_NAME\n",
    "phenotypes_path = gwas_path + GWAS_PHENOTYPES_DIR_NAME\n",
    "create_path(gwas_path)\n",
    "create_path(gwas_results_path)\n",
    "create_path(phenotypes_path)\n",
    "\n",
    "# create txt file for each phenotype\n",
    "\n",
    "for i in range(0,NUMBER_OF_PHENOTYPES_IN_FILE):\n",
    "    lines.append(\"cat \" +dir_path + PHENOTYPE_FILE_NAME + \" | awk -F , '{print $2 \\\"\\\\t\\\" $2\\\"\\\\t\\\" $\" +str(i + PHENOTYPES_START_POSITION + 1) + \\\n",
    "          \" }' | tail -n +2 | grep '\\.0' > \"+phenotypes_path +phenotypes[i] + \".txt\")\n",
    "\n",
    "# create covariates\n",
    "\n",
    "print(lines[0])\n",
    "# create script that can run for the cluster"
   ]
  }
 ],
 "metadata": {
  "kernelspec": {
   "display_name": "myenv",
   "language": "python",
   "name": "myenv"
  },
  "language_info": {
   "codemirror_mode": {
    "name": "ipython",
    "version": 3
   },
   "file_extension": ".py",
   "mimetype": "text/x-python",
   "name": "python",
   "nbconvert_exporter": "python",
   "pygments_lexer": "ipython3",
   "version": "3.7.3"
  }
 },
 "nbformat": 4,
 "nbformat_minor": 5
}
