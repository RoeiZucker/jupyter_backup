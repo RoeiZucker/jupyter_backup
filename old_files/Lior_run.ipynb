{
 "cells": [
  {
   "cell_type": "code",
   "execution_count": 1,
   "id": "e5afd803",
   "metadata": {},
   "outputs": [],
   "source": [
    "import pandas as pd\n",
    "import numpy as np"
   ]
  },
  {
   "cell_type": "code",
   "execution_count": 2,
   "id": "bb5f1d76",
   "metadata": {},
   "outputs": [
    {
     "name": "stdout",
     "output_type": "stream",
     "text": [
      "done\n"
     ]
    }
   ],
   "source": [
    "frame = pd.read_csv(\"/cs/labs/michall/roeizucker/lior_run/ukbb_dataset.csv\")\n",
    "print(\"done\")"
   ]
  },
  {
   "cell_type": "code",
   "execution_count": 3,
   "id": "d2a7ab91",
   "metadata": {},
   "outputs": [
    {
     "name": "stdout",
     "output_type": "stream",
     "text": [
      "        sample_index      eid  parkinson date_G20_first_reported  const  sex  \\\n",
      "0                  0  5895328        0.0                     NaN    1.0  1.0   \n",
      "1                  1  5764375        0.0                     NaN    1.0  0.0   \n",
      "2                  2  5503073        0.0                     NaN    1.0  1.0   \n",
      "3                  3  2563626        0.0                     NaN    1.0  1.0   \n",
      "4                  4  4980832        0.0                     NaN    1.0  1.0   \n",
      "...              ...      ...        ...                     ...    ...  ...   \n",
      "333410        502513  2243883        0.0                     NaN    1.0  1.0   \n",
      "333411        502515  3570729        0.0                     NaN    1.0  1.0   \n",
      "333412        502516  1663456        0.0                     NaN    1.0  1.0   \n",
      "333413        502517  3118989        0.0                     NaN    1.0  0.0   \n",
      "333414        502519  4573284        0.0                     NaN    1.0  0.0   \n",
      "\n",
      "        year_of_birth       PC1       PC2       PC3  ...  batch_UKBiLEVEAX_b1  \\\n",
      "0              1942.0 -12.53270  4.235220  0.179931  ...                    0   \n",
      "1              1951.0 -12.33790  3.061120 -3.053590  ...                    0   \n",
      "2              1944.0 -11.85050  5.194030 -2.353350  ...                    0   \n",
      "3              1950.0 -11.97490  3.477800 -1.490430  ...                    0   \n",
      "4              1948.0  -8.73549  4.980050 -1.685650  ...                    0   \n",
      "...               ...       ...       ...       ...  ...                  ...   \n",
      "333410         1949.0 -13.83960  6.899070 -2.297430  ...                    0   \n",
      "333411         1955.0 -15.15060  5.265920  0.801649  ...                    0   \n",
      "333412         1941.0 -11.59990  2.911470  0.328496  ...                    0   \n",
      "333413         1942.0 -13.72620  0.917067 -4.626790  ...                    0   \n",
      "333414         1950.0 -12.71160  1.226900 -2.919650  ...                    0   \n",
      "\n",
      "        batch_UKBiLEVEAX_b10  batch_UKBiLEVEAX_b11  batch_UKBiLEVEAX_b3  \\\n",
      "0                          0                     0                    0   \n",
      "1                          0                     0                    0   \n",
      "2                          0                     0                    0   \n",
      "3                          0                     0                    0   \n",
      "4                          0                     0                    0   \n",
      "...                      ...                   ...                  ...   \n",
      "333410                     0                     0                    0   \n",
      "333411                     0                     0                    0   \n",
      "333412                     0                     0                    0   \n",
      "333413                     0                     0                    0   \n",
      "333414                     0                     0                    0   \n",
      "\n",
      "        batch_UKBiLEVEAX_b4  batch_UKBiLEVEAX_b5  batch_UKBiLEVEAX_b6  \\\n",
      "0                         0                    0                    0   \n",
      "1                         0                    0                    0   \n",
      "2                         0                    0                    0   \n",
      "3                         0                    0                    0   \n",
      "4                         0                    0                    0   \n",
      "...                     ...                  ...                  ...   \n",
      "333410                    0                    0                    0   \n",
      "333411                    0                    0                    0   \n",
      "333412                    0                    0                    0   \n",
      "333413                    0                    0                    0   \n",
      "333414                    0                    0                    0   \n",
      "\n",
      "        batch_UKBiLEVEAX_b7  batch_UKBiLEVEAX_b8  batch_UKBiLEVEAX_b9  \n",
      "0                         0                    0                    0  \n",
      "1                         0                    0                    0  \n",
      "2                         0                    0                    0  \n",
      "3                         0                    0                    0  \n",
      "4                         0                    0                    0  \n",
      "...                     ...                  ...                  ...  \n",
      "333410                    0                    0                    0  \n",
      "333411                    0                    0                    0  \n",
      "333412                    0                    0                    0  \n",
      "333413                    0                    0                    0  \n",
      "333414                    0                    0                    0  \n",
      "\n",
      "[333415 rows x 177 columns]\n"
     ]
    }
   ],
   "source": [
    "print(frame)"
   ]
  },
  {
   "cell_type": "code",
   "execution_count": 4,
   "id": "8751850f",
   "metadata": {},
   "outputs": [
    {
     "name": "stdout",
     "output_type": "stream",
     "text": [
      "done\n"
     ]
    }
   ],
   "source": [
    "frame[\"date_G20_year_reported\"] = frame[\"date_G20_first_reported\"].str.split(pat=\"-\",expand=True)[0]\n",
    "# str.split(pat=\"/\")\n",
    "print(\"done\")"
   ]
  },
  {
   "cell_type": "code",
   "execution_count": 5,
   "id": "46b65910",
   "metadata": {},
   "outputs": [
    {
     "name": "stdout",
     "output_type": "stream",
     "text": [
      "done\n"
     ]
    }
   ],
   "source": [
    "filtered_frame = frame[frame['date_G20_year_reported'].notna()]\n",
    "filtered_frame = filtered_frame[filtered_frame['parkinson'] == 1.0]\n",
    "# frame[\"year_of_birth.1\"] - frame[\"date_G20_year_reported\"].astype(int)\n",
    "# filtered_frame\n",
    "print(\"done\")"
   ]
  },
  {
   "cell_type": "code",
   "execution_count": 7,
   "id": "d7c6c512",
   "metadata": {},
   "outputs": [],
   "source": [
    "filtered_frame[\"age_G20_reported\"] = filtered_frame[\"date_G20_year_reported\"].astype(int) - filtered_frame[\"year_of_birth\"]\n"
   ]
  },
  {
   "cell_type": "code",
   "execution_count": 8,
   "id": "3b754deb",
   "metadata": {},
   "outputs": [
    {
     "name": "stdout",
     "output_type": "stream",
     "text": [
      "done\n"
     ]
    }
   ],
   "source": [
    "filtered_frame[\"G20_early\"] = (filtered_frame[\"age_G20_reported\"] <= 50).astype(int)\n",
    "print(\"done\")"
   ]
  },
  {
   "cell_type": "code",
   "execution_count": 9,
   "id": "f6c1ddff",
   "metadata": {},
   "outputs": [
    {
     "data": {
      "text/plain": [
       "1220"
      ]
     },
     "execution_count": 9,
     "metadata": {},
     "output_type": "execute_result"
    }
   ],
   "source": [
    "list(filtered_frame[\"G20_early\"]).count(0)"
   ]
  },
  {
   "cell_type": "code",
   "execution_count": 10,
   "id": "9e606a10",
   "metadata": {},
   "outputs": [],
   "source": [
    "filtered_frame[\"arbitrary_group\"] = 0"
   ]
  },
  {
   "cell_type": "code",
   "execution_count": 11,
   "id": "a77cb880",
   "metadata": {},
   "outputs": [],
   "source": [
    "for i in range(len(filtered_frame)):\n",
    "    if i%2 == 0:\n",
    "        filtered_frame.iloc[i, filtered_frame.columns.get_loc('arbitrary_group')] = 1"
   ]
  },
  {
   "cell_type": "code",
   "execution_count": 12,
   "id": "05937e48",
   "metadata": {},
   "outputs": [
    {
     "name": "stdout",
     "output_type": "stream",
     "text": [
      "        sample_index      eid  parkinson date_G20_first_reported  const  sex  \\\n",
      "227              388  2800824        1.0              1999-07-01    1.0  1.0   \n",
      "314              521  1317890        1.0              1993-07-01    1.0  1.0   \n",
      "444              721  5409540        1.0              2012-03-28    1.0  1.0   \n",
      "509              816  1436109        1.0              2004-07-01    1.0  1.0   \n",
      "625              998  1603818        1.0              2016-04-09    1.0  1.0   \n",
      "...              ...      ...        ...                     ...    ...  ...   \n",
      "331980        500379  1265907        1.0              2007-07-01    1.0  1.0   \n",
      "332019        500437  3613227        1.0              2006-07-01    1.0  1.0   \n",
      "332432        501053  2099584        1.0              2015-07-29    1.0  1.0   \n",
      "332583        501269  1844779        1.0              2017-01-16    1.0  0.0   \n",
      "333224        502231  1710633        1.0              2011-05-19    1.0  0.0   \n",
      "\n",
      "        year_of_birth       PC1      PC2       PC3  ...  batch_UKBiLEVEAX_b4  \\\n",
      "227            1944.0 -14.92580  5.91815 -4.074360  ...                    0   \n",
      "314            1948.0 -10.85520  3.53442 -0.298406  ...                    0   \n",
      "444            1938.0 -13.65560  3.89147 -0.797368  ...                    0   \n",
      "509            1954.0  -9.94786  1.45013 -3.218980  ...                    0   \n",
      "625            1944.0 -10.39880  1.62159 -3.039210  ...                    0   \n",
      "...               ...       ...      ...       ...  ...                  ...   \n",
      "331980         1939.0 -11.23950  4.53686 -2.678250  ...                    0   \n",
      "332019         1944.0 -12.19760  2.96393  0.548092  ...                    0   \n",
      "332432         1940.0 -11.40470  4.58010 -2.763330  ...                    0   \n",
      "332583         1939.0 -16.12870  5.36866 -2.113110  ...                    0   \n",
      "333224         1954.0 -13.05210  6.38511 -3.916930  ...                    0   \n",
      "\n",
      "        batch_UKBiLEVEAX_b5  batch_UKBiLEVEAX_b6  batch_UKBiLEVEAX_b7  \\\n",
      "227                       0                    0                    0   \n",
      "314                       0                    0                    0   \n",
      "444                       0                    0                    0   \n",
      "509                       0                    0                    0   \n",
      "625                       0                    0                    0   \n",
      "...                     ...                  ...                  ...   \n",
      "331980                    0                    0                    0   \n",
      "332019                    0                    0                    0   \n",
      "332432                    0                    0                    0   \n",
      "332583                    0                    0                    0   \n",
      "333224                    0                    0                    0   \n",
      "\n",
      "        batch_UKBiLEVEAX_b8  batch_UKBiLEVEAX_b9  date_G20_year_reported  \\\n",
      "227                       0                    0                    1999   \n",
      "314                       0                    0                    1993   \n",
      "444                       0                    0                    2012   \n",
      "509                       0                    0                    2004   \n",
      "625                       0                    0                    2016   \n",
      "...                     ...                  ...                     ...   \n",
      "331980                    0                    0                    2007   \n",
      "332019                    0                    0                    2006   \n",
      "332432                    0                    0                    2015   \n",
      "332583                    0                    0                    2017   \n",
      "333224                    0                    0                    2011   \n",
      "\n",
      "        age_G20_reported  G20_early  arbitrary_group  \n",
      "227                 55.0          0                1  \n",
      "314                 45.0          1                0  \n",
      "444                 74.0          0                1  \n",
      "509                 50.0          1                0  \n",
      "625                 72.0          0                1  \n",
      "...                  ...        ...              ...  \n",
      "331980              68.0          0                1  \n",
      "332019              62.0          0                0  \n",
      "332432              75.0          0                1  \n",
      "332583              78.0          0                0  \n",
      "333224              57.0          0                1  \n",
      "\n",
      "[1333 rows x 181 columns]\n"
     ]
    }
   ],
   "source": [
    "print(filtered_frame)"
   ]
  },
  {
   "cell_type": "code",
   "execution_count": 13,
   "id": "3ac30a51",
   "metadata": {},
   "outputs": [
    {
     "name": "stdout",
     "output_type": "stream",
     "text": [
      "done\n"
     ]
    }
   ],
   "source": [
    "filtered_frame.to_csv(\"/cs/labs/michall/roeizucker/lior_run/ukbb_dataset_filtered.csv\")\n",
    "print(\"done\")"
   ]
  },
  {
   "cell_type": "code",
   "execution_count": 15,
   "id": "4da8f1d6",
   "metadata": {},
   "outputs": [
    {
     "name": "stdout",
     "output_type": "stream",
     "text": [
      "done\n"
     ]
    }
   ],
   "source": [
    "very_filtered_frame = filtered_frame.copy()\n",
    "print(\"done\")"
   ]
  },
  {
   "cell_type": "code",
   "execution_count": 16,
   "id": "086a4706",
   "metadata": {},
   "outputs": [
    {
     "name": "stdout",
     "output_type": "stream",
     "text": [
      "done\n"
     ]
    }
   ],
   "source": [
    "very_filtered_frame[\"keep\"] = filtered_frame[\"G20_early\"]\n",
    "print(\"done\")"
   ]
  },
  {
   "cell_type": "code",
   "execution_count": 17,
   "id": "86cc1bdf",
   "metadata": {},
   "outputs": [
    {
     "name": "stdout",
     "output_type": "stream",
     "text": [
      "done\n"
     ]
    }
   ],
   "source": [
    "ids_to_set = list(very_filtered_frame[very_filtered_frame['keep'] == 0].sample(113)['sample_index'])\n",
    "for i in range(len(very_filtered_frame)):\n",
    "    if (very_filtered_frame.iloc[i,very_filtered_frame.columns.get_loc('sample_index')] in ids_to_set):\n",
    "        very_filtered_frame.iloc[i,very_filtered_frame.columns.get_loc('keep')] = 1\n",
    "print(\"done\")"
   ]
  },
  {
   "cell_type": "code",
   "execution_count": 18,
   "id": "7f016ecb",
   "metadata": {},
   "outputs": [
    {
     "name": "stdout",
     "output_type": "stream",
     "text": [
      "done\n"
     ]
    }
   ],
   "source": [
    "very_filtered_frame = very_filtered_frame[very_filtered_frame['keep'] == 1]\n",
    "print(\"done\")"
   ]
  },
  {
   "cell_type": "code",
   "execution_count": 19,
   "id": "543af4c6",
   "metadata": {},
   "outputs": [
    {
     "name": "stdout",
     "output_type": "stream",
     "text": [
      "done\n"
     ]
    }
   ],
   "source": [
    "very_filtered_frame.to_csv(\"/cs/labs/michall/roeizucker/lior_run/ukbb_dataset_random_late.csv\")\n",
    "print(\"done\")"
   ]
  },
  {
   "cell_type": "code",
   "execution_count": 20,
   "id": "6bebf6d3",
   "metadata": {},
   "outputs": [
    {
     "name": "stdout",
     "output_type": "stream",
     "text": [
      "done\n"
     ]
    }
   ],
   "source": [
    "new_large_frame = frame.copy()\n",
    "print(\"done\")"
   ]
  },
  {
   "cell_type": "code",
   "execution_count": 21,
   "id": "e7b0e2c9",
   "metadata": {},
   "outputs": [
    {
     "name": "stdout",
     "output_type": "stream",
     "text": [
      "        sample_index      eid  parkinson date_G20_first_reported  const  sex  \\\n",
      "0                  0  5895328        0.0                     NaN    1.0  1.0   \n",
      "1                  1  5764375        0.0                     NaN    1.0  0.0   \n",
      "2                  2  5503073        0.0                     NaN    1.0  1.0   \n",
      "3                  3  2563626        0.0                     NaN    1.0  1.0   \n",
      "4                  4  4980832        0.0                     NaN    1.0  1.0   \n",
      "...              ...      ...        ...                     ...    ...  ...   \n",
      "333410        502513  2243883        0.0                     NaN    1.0  1.0   \n",
      "333411        502515  3570729        0.0                     NaN    1.0  1.0   \n",
      "333412        502516  1663456        0.0                     NaN    1.0  1.0   \n",
      "333413        502517  3118989        0.0                     NaN    1.0  0.0   \n",
      "333414        502519  4573284        0.0                     NaN    1.0  0.0   \n",
      "\n",
      "        year_of_birth       PC1       PC2       PC3  ...  \\\n",
      "0              1942.0 -12.53270  4.235220  0.179931  ...   \n",
      "1              1951.0 -12.33790  3.061120 -3.053590  ...   \n",
      "2              1944.0 -11.85050  5.194030 -2.353350  ...   \n",
      "3              1950.0 -11.97490  3.477800 -1.490430  ...   \n",
      "4              1948.0  -8.73549  4.980050 -1.685650  ...   \n",
      "...               ...       ...       ...       ...  ...   \n",
      "333410         1949.0 -13.83960  6.899070 -2.297430  ...   \n",
      "333411         1955.0 -15.15060  5.265920  0.801649  ...   \n",
      "333412         1941.0 -11.59990  2.911470  0.328496  ...   \n",
      "333413         1942.0 -13.72620  0.917067 -4.626790  ...   \n",
      "333414         1950.0 -12.71160  1.226900 -2.919650  ...   \n",
      "\n",
      "        batch_UKBiLEVEAX_b10  batch_UKBiLEVEAX_b11  batch_UKBiLEVEAX_b3  \\\n",
      "0                          0                     0                    0   \n",
      "1                          0                     0                    0   \n",
      "2                          0                     0                    0   \n",
      "3                          0                     0                    0   \n",
      "4                          0                     0                    0   \n",
      "...                      ...                   ...                  ...   \n",
      "333410                     0                     0                    0   \n",
      "333411                     0                     0                    0   \n",
      "333412                     0                     0                    0   \n",
      "333413                     0                     0                    0   \n",
      "333414                     0                     0                    0   \n",
      "\n",
      "        batch_UKBiLEVEAX_b4  batch_UKBiLEVEAX_b5  batch_UKBiLEVEAX_b6  \\\n",
      "0                         0                    0                    0   \n",
      "1                         0                    0                    0   \n",
      "2                         0                    0                    0   \n",
      "3                         0                    0                    0   \n",
      "4                         0                    0                    0   \n",
      "...                     ...                  ...                  ...   \n",
      "333410                    0                    0                    0   \n",
      "333411                    0                    0                    0   \n",
      "333412                    0                    0                    0   \n",
      "333413                    0                    0                    0   \n",
      "333414                    0                    0                    0   \n",
      "\n",
      "        batch_UKBiLEVEAX_b7  batch_UKBiLEVEAX_b8  batch_UKBiLEVEAX_b9  \\\n",
      "0                         0                    0                    0   \n",
      "1                         0                    0                    0   \n",
      "2                         0                    0                    0   \n",
      "3                         0                    0                    0   \n",
      "4                         0                    0                    0   \n",
      "...                     ...                  ...                  ...   \n",
      "333410                    0                    0                    0   \n",
      "333411                    0                    0                    0   \n",
      "333412                    0                    0                    0   \n",
      "333413                    0                    0                    0   \n",
      "333414                    0                    0                    0   \n",
      "\n",
      "        date_G20_year_reported  \n",
      "0                          NaN  \n",
      "1                          NaN  \n",
      "2                          NaN  \n",
      "3                          NaN  \n",
      "4                          NaN  \n",
      "...                        ...  \n",
      "333410                     NaN  \n",
      "333411                     NaN  \n",
      "333412                     NaN  \n",
      "333413                     NaN  \n",
      "333414                     NaN  \n",
      "\n",
      "[333415 rows x 178 columns]\n"
     ]
    }
   ],
   "source": [
    "print(new_large_frame)"
   ]
  },
  {
   "cell_type": "code",
   "execution_count": 22,
   "id": "acb4740c",
   "metadata": {},
   "outputs": [
    {
     "name": "stdout",
     "output_type": "stream",
     "text": [
      "        sample_index      eid  parkinson date_G20_first_reported  const  sex  \\\n",
      "0                  0  5895328        0.0                     NaN    1.0  1.0   \n",
      "1                  1  5764375        0.0                     NaN    1.0  0.0   \n",
      "2                  2  5503073        0.0                     NaN    1.0  1.0   \n",
      "3                  3  2563626        0.0                     NaN    1.0  1.0   \n",
      "4                  4  4980832        0.0                     NaN    1.0  1.0   \n",
      "...              ...      ...        ...                     ...    ...  ...   \n",
      "333410        502513  2243883        0.0                     NaN    1.0  1.0   \n",
      "333411        502515  3570729        0.0                     NaN    1.0  1.0   \n",
      "333412        502516  1663456        0.0                     NaN    1.0  1.0   \n",
      "333413        502517  3118989        0.0                     NaN    1.0  0.0   \n",
      "333414        502519  4573284        0.0                     NaN    1.0  0.0   \n",
      "\n",
      "        year_of_birth       PC1       PC2       PC3  ...  \\\n",
      "0              1942.0 -12.53270  4.235220  0.179931  ...   \n",
      "1              1951.0 -12.33790  3.061120 -3.053590  ...   \n",
      "2              1944.0 -11.85050  5.194030 -2.353350  ...   \n",
      "3              1950.0 -11.97490  3.477800 -1.490430  ...   \n",
      "4              1948.0  -8.73549  4.980050 -1.685650  ...   \n",
      "...               ...       ...       ...       ...  ...   \n",
      "333410         1949.0 -13.83960  6.899070 -2.297430  ...   \n",
      "333411         1955.0 -15.15060  5.265920  0.801649  ...   \n",
      "333412         1941.0 -11.59990  2.911470  0.328496  ...   \n",
      "333413         1942.0 -13.72620  0.917067 -4.626790  ...   \n",
      "333414         1950.0 -12.71160  1.226900 -2.919650  ...   \n",
      "\n",
      "        batch_UKBiLEVEAX_b11  batch_UKBiLEVEAX_b3  batch_UKBiLEVEAX_b4  \\\n",
      "0                          0                    0                    0   \n",
      "1                          0                    0                    0   \n",
      "2                          0                    0                    0   \n",
      "3                          0                    0                    0   \n",
      "4                          0                    0                    0   \n",
      "...                      ...                  ...                  ...   \n",
      "333410                     0                    0                    0   \n",
      "333411                     0                    0                    0   \n",
      "333412                     0                    0                    0   \n",
      "333413                     0                    0                    0   \n",
      "333414                     0                    0                    0   \n",
      "\n",
      "        batch_UKBiLEVEAX_b5  batch_UKBiLEVEAX_b6  batch_UKBiLEVEAX_b7  \\\n",
      "0                         0                    0                    0   \n",
      "1                         0                    0                    0   \n",
      "2                         0                    0                    0   \n",
      "3                         0                    0                    0   \n",
      "4                         0                    0                    0   \n",
      "...                     ...                  ...                  ...   \n",
      "333410                    0                    0                    0   \n",
      "333411                    0                    0                    0   \n",
      "333412                    0                    0                    0   \n",
      "333413                    0                    0                    0   \n",
      "333414                    0                    0                    0   \n",
      "\n",
      "        batch_UKBiLEVEAX_b8  batch_UKBiLEVEAX_b9  date_G20_year_reported  \\\n",
      "0                         0                    0                     NaN   \n",
      "1                         0                    0                     NaN   \n",
      "2                         0                    0                     NaN   \n",
      "3                         0                    0                     NaN   \n",
      "4                         0                    0                     NaN   \n",
      "...                     ...                  ...                     ...   \n",
      "333410                    0                    0                     NaN   \n",
      "333411                    0                    0                     NaN   \n",
      "333412                    0                    0                     NaN   \n",
      "333413                    0                    0                     NaN   \n",
      "333414                    0                    0                     NaN   \n",
      "\n",
      "        G20_early  \n",
      "0                  \n",
      "1                  \n",
      "2                  \n",
      "3                  \n",
      "4                  \n",
      "...           ...  \n",
      "333410             \n",
      "333411             \n",
      "333412             \n",
      "333413             \n",
      "333414             \n",
      "\n",
      "[333415 rows x 179 columns]\n"
     ]
    }
   ],
   "source": [
    "new_large_frame[\"G20_early\"] = \"\"\n",
    "print(new_large_frame)"
   ]
  },
  {
   "cell_type": "code",
   "execution_count": 23,
   "id": "d29f9acb",
   "metadata": {},
   "outputs": [
    {
     "name": "stdout",
     "output_type": "stream",
     "text": [
      "done\n"
     ]
    }
   ],
   "source": [
    "# new_large_frame[\"year_of_birth\"] = filtered_frame[\"G20_early\"]\n",
    "new_large_frame[\"year_of_birth\"] = filtered_frame[\"arbitrary_group\"]\n",
    "# new_large_frame[\"same_sample_size\"] = filtered_frame[\"G20_early\"]\n",
    "new_large_frame.to_csv(\"/cs/labs/michall/roeizucker/lior_run/ukbb_dataset_large_frame.csv\")\n",
    "\n",
    "print(\"done\")"
   ]
  },
  {
   "cell_type": "code",
   "execution_count": 24,
   "id": "44bcb296",
   "metadata": {},
   "outputs": [
    {
     "name": "stdout",
     "output_type": "stream",
     "text": [
      "        sample_index      eid  parkinson date_G20_first_reported  const  sex  \\\n",
      "0                  0  5895328        0.0                     NaN    1.0  1.0   \n",
      "1                  1  5764375        0.0                     NaN    1.0  0.0   \n",
      "2                  2  5503073        0.0                     NaN    1.0  1.0   \n",
      "3                  3  2563626        0.0                     NaN    1.0  1.0   \n",
      "4                  4  4980832        0.0                     NaN    1.0  1.0   \n",
      "...              ...      ...        ...                     ...    ...  ...   \n",
      "333410        502513  2243883        0.0                     NaN    1.0  1.0   \n",
      "333411        502515  3570729        0.0                     NaN    1.0  1.0   \n",
      "333412        502516  1663456        0.0                     NaN    1.0  1.0   \n",
      "333413        502517  3118989        0.0                     NaN    1.0  0.0   \n",
      "333414        502519  4573284        0.0                     NaN    1.0  0.0   \n",
      "\n",
      "        year_of_birth       PC1       PC2       PC3  ...  \\\n",
      "0                 NaN -12.53270  4.235220  0.179931  ...   \n",
      "1                 NaN -12.33790  3.061120 -3.053590  ...   \n",
      "2                 NaN -11.85050  5.194030 -2.353350  ...   \n",
      "3                 NaN -11.97490  3.477800 -1.490430  ...   \n",
      "4                 NaN  -8.73549  4.980050 -1.685650  ...   \n",
      "...               ...       ...       ...       ...  ...   \n",
      "333410            NaN -13.83960  6.899070 -2.297430  ...   \n",
      "333411            NaN -15.15060  5.265920  0.801649  ...   \n",
      "333412            NaN -11.59990  2.911470  0.328496  ...   \n",
      "333413            NaN -13.72620  0.917067 -4.626790  ...   \n",
      "333414            NaN -12.71160  1.226900 -2.919650  ...   \n",
      "\n",
      "        batch_UKBiLEVEAX_b11  batch_UKBiLEVEAX_b3  batch_UKBiLEVEAX_b4  \\\n",
      "0                          0                    0                    0   \n",
      "1                          0                    0                    0   \n",
      "2                          0                    0                    0   \n",
      "3                          0                    0                    0   \n",
      "4                          0                    0                    0   \n",
      "...                      ...                  ...                  ...   \n",
      "333410                     0                    0                    0   \n",
      "333411                     0                    0                    0   \n",
      "333412                     0                    0                    0   \n",
      "333413                     0                    0                    0   \n",
      "333414                     0                    0                    0   \n",
      "\n",
      "        batch_UKBiLEVEAX_b5  batch_UKBiLEVEAX_b6  batch_UKBiLEVEAX_b7  \\\n",
      "0                         0                    0                    0   \n",
      "1                         0                    0                    0   \n",
      "2                         0                    0                    0   \n",
      "3                         0                    0                    0   \n",
      "4                         0                    0                    0   \n",
      "...                     ...                  ...                  ...   \n",
      "333410                    0                    0                    0   \n",
      "333411                    0                    0                    0   \n",
      "333412                    0                    0                    0   \n",
      "333413                    0                    0                    0   \n",
      "333414                    0                    0                    0   \n",
      "\n",
      "        batch_UKBiLEVEAX_b8  batch_UKBiLEVEAX_b9  date_G20_year_reported  \\\n",
      "0                         0                    0                     NaN   \n",
      "1                         0                    0                     NaN   \n",
      "2                         0                    0                     NaN   \n",
      "3                         0                    0                     NaN   \n",
      "4                         0                    0                     NaN   \n",
      "...                     ...                  ...                     ...   \n",
      "333410                    0                    0                     NaN   \n",
      "333411                    0                    0                     NaN   \n",
      "333412                    0                    0                     NaN   \n",
      "333413                    0                    0                     NaN   \n",
      "333414                    0                    0                     NaN   \n",
      "\n",
      "        G20_early  \n",
      "0                  \n",
      "1                  \n",
      "2                  \n",
      "3                  \n",
      "4                  \n",
      "...           ...  \n",
      "333410             \n",
      "333411             \n",
      "333412             \n",
      "333413             \n",
      "333414             \n",
      "\n",
      "[333415 rows x 179 columns]\n"
     ]
    }
   ],
   "source": [
    "print(new_large_frame)"
   ]
  },
  {
   "cell_type": "code",
   "execution_count": null,
   "id": "fbd3c362",
   "metadata": {},
   "outputs": [],
   "source": []
  }
 ],
 "metadata": {
  "kernelspec": {
   "display_name": "myenv",
   "language": "python",
   "name": "myenv"
  },
  "language_info": {
   "codemirror_mode": {
    "name": "ipython",
    "version": 3
   },
   "file_extension": ".py",
   "mimetype": "text/x-python",
   "name": "python",
   "nbconvert_exporter": "python",
   "pygments_lexer": "ipython3",
   "version": "3.7.3"
  }
 },
 "nbformat": 4,
 "nbformat_minor": 5
}
