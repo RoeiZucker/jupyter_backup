{
 "cells": [
  {
   "cell_type": "code",
   "execution_count": 9,
   "id": "f6380199",
   "metadata": {},
   "outputs": [],
   "source": [
    "\n",
    "import matplotlib.pyplot as plt\n",
    "import numpy as np\n",
    "import scipy.stats\n",
    "from sklearn.linear_model import LogisticRegression\n",
    "from sklearn.linear_model import LogisticRegressionCV\n",
    "from sklearn.preprocessing import StandardScaler\n",
    "from sklearn.linear_model import Lasso\n",
    "from sklearn.model_selection import cross_val_score\n",
    "import sklearn\n",
    "import time\n"
   ]
  },
  {
   "cell_type": "code",
   "execution_count": null,
   "id": "0d67aa4d",
   "metadata": {},
   "outputs": [],
   "source": []
  },
  {
   "cell_type": "code",
   "execution_count": 2,
   "id": "c7357534",
   "metadata": {},
   "outputs": [],
   "source": [
    "n = 4601\n",
    "p = 58\n",
    "with open('spam.data') as f:\n",
    "    content = f.read()\n",
    "array = content.split()\n",
    "A = np.reshape(np.array(array),(n,p)).astype(float)\n",
    "with open('spam_ind.traintest') as f:\n",
    "    content = f.read()\n",
    "array = content.split()\n",
    "Train_test = np.array(array).astype(float)\n",
    "X = A[:,:p - 1]\n",
    "y = A[:,-1]\n"
   ]
  },
  {
   "cell_type": "code",
   "execution_count": 3,
   "id": "a49a688e",
   "metadata": {},
   "outputs": [],
   "source": [
    "X_train,X_test, Y_train, Y_test = sklearn.model_selection.train_test_split(X,y,test_size=0.33,random_state=42)"
   ]
  },
  {
   "cell_type": "code",
   "execution_count": 4,
   "id": "50d5ecad",
   "metadata": {},
   "outputs": [],
   "source": [
    "X_train = X[Train_test == 0]\n",
    "X_test =  X[Train_test == 1]\n",
    "Y_train = y[Train_test == 0]\n",
    "Y_test = y[Train_test == 1]"
   ]
  },
  {
   "cell_type": "code",
   "execution_count": 5,
   "id": "cfbf9596",
   "metadata": {},
   "outputs": [
    {
     "name": "stdout",
     "output_type": "stream",
     "text": [
      "4601\n"
     ]
    }
   ],
   "source": [
    "print(len(X))"
   ]
  },
  {
   "cell_type": "code",
   "execution_count": 6,
   "id": "e6c28621",
   "metadata": {},
   "outputs": [],
   "source": [
    "#logisticRegr_en = LogisticRegression(solver = 'saga',l1_ratio = 0.5,penalty='elasticnet',max_iter=1000,C = 0.5)\n",
    "    \n",
    "logisticRegr_lasso = LogisticRegression(solver = 'saga',penalty='l1',max_iter=2000,C = 0.0000001)\n",
    "logisticRegr_l2 = LogisticRegression(penalty='l2',max_iter=1000,C = 0.1)\n",
    "#logisticRegr = LogisticRegression(solver = 'saga',max_iter=1000)\n",
    "#clf_en = logisticRegr_en.fit(X, y)\n",
    "#clf_lasso = logisticRegr_lasso.fit(X, y)\n",
    "clf_l1 = logisticRegr_lasso.fit(X_train, Y_train)\n",
    "\n",
    "\n",
    "\n",
    "\n",
    "##plt.bar(np.arange(0,p),beta_hat)\n"
   ]
  },
  {
   "cell_type": "code",
   "execution_count": null,
   "id": "f752ce40",
   "metadata": {},
   "outputs": [],
   "source": [
    "lambda_list = np.arange(0.01,0.5,0.01)\n",
    "alpha_list = np.arange(0,1,0.1)\n",
    "lamda = 0.28\n",
    "lambdas = []\n",
    "errors = []\n",
    "accuracies = []\n",
    "file_name = \"output.txt\"\n",
    "with open(file_name,'w') as output_file:\n",
    "    output_file.write(\"lam,alpha,accuracy,error\\n\")\n",
    "    output_file.flush()\n",
    "    for lam in lambda_list:\n",
    "        for alpha in alpha_list:\n",
    "            logisticRegr_elastic_net = LogisticRegression(C=lam, solver='saga', penalty='elasticnet', max_iter=60000,\n",
    "                                                          l1_ratio=alpha)\n",
    "            clf_l1 = logisticRegr_elastic_net.fit(X_train,Y_train)\n",
    "        #     print(1-logisticRegr_elastic_net.score(test,test_labels))\n",
    "            y_hat = clf_l1.predict(X_test)\n",
    "            err = np.sum(y_hat != Y_test)/len(Y_test)\n",
    "            errors.append(err)\n",
    "            scores = cross_val_score(clf_l1, X_test, Y_test, cv=5)\n",
    "            accuracy = scores.mean()\n",
    "            accuracies.append(accuracy)\n",
    "            output_file.write(f\"{lam},{alpha},{accuracy},{err}\\n\")\n",
    "            output_file.flush()\n",
    "print(errors)\n"
   ]
  }
 ],
 "metadata": {
  "kernelspec": {
   "display_name": "myenv",
   "language": "python",
   "name": "myenv"
  },
  "language_info": {
   "codemirror_mode": {
    "name": "ipython",
    "version": 3
   },
   "file_extension": ".py",
   "mimetype": "text/x-python",
   "name": "python",
   "nbconvert_exporter": "python",
   "pygments_lexer": "ipython3",
   "version": "3.7.3"
  }
 },
 "nbformat": 4,
 "nbformat_minor": 5
}
