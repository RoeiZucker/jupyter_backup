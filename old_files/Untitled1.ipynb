{
 "cells": [
  {
   "cell_type": "code",
   "execution_count": 1,
   "id": "0245a9f3",
   "metadata": {},
   "outputs": [],
   "source": [
    "import pandas as pd\n",
    "import numpy as np\n",
    "import os\n",
    "from IPython.display import clear_output\n",
    "from sklearn import datasets\n",
    "from sklearn.cluster import KMeans\n",
    "import matplotlib.pyplot as plt\n",
    "from sklearn.decomposition import PCA\n",
    "import seaborn as sns\n",
    "from sklearn.cluster import AgglomerativeClustering\n",
    "from scipy.cluster.hierarchy import dendrogram, linkage\n",
    "from sklearn.model_selection import permutation_test_score"
   ]
  },
  {
   "cell_type": "code",
   "execution_count": 2,
   "id": "d9332fd4",
   "metadata": {},
   "outputs": [],
   "source": [
    "from __future__ import print_function\n",
    "import time\n",
    "import numpy as np\n",
    "import pandas as pd\n",
    "# from sklearn.datasets import fetch_mldata\n",
    "from sklearn.decomposition import PCA\n",
    "from sklearn.manifold import TSNE\n",
    "%matplotlib inline\n",
    "import matplotlib.pyplot as plt\n",
    "from mpl_toolkits.mplot3d import Axes3D\n",
    "import seaborn as sns"
   ]
  },
  {
   "cell_type": "code",
   "execution_count": 3,
   "id": "d21f8f50",
   "metadata": {},
   "outputs": [],
   "source": [
    "\n",
    "# change to get gene_dcit as parameter\n",
    "def create_effect_score_df(path,used_genes,used_ids,gene_dict):\n",
    "    directory = os.fsencode(path)\n",
    "    counter = 0\n",
    "    dfs = []\n",
    "    for file in os.listdir(directory):\n",
    "        filename = os.fsdecode(file)\n",
    "        if filename.endswith(\".csv\"):\n",
    "            counter+=1\n",
    "            if counter%100 == 0:\n",
    "                clear_output(wait=True)\n",
    "                print(counter)\n",
    "            gene_index = filename.replace(\".csv\",\"\")\n",
    "            if gene_dict[int(gene_index)] not in used_genes:\n",
    "                continue\n",
    "            df = pd.read_csv(path + filename)\n",
    "            df = df[df[\"sample_id\"].isin(used_ids)]\n",
    "            df.set_index(\"sample_id\",inplace=True)\n",
    "            dfs.append((gene_dict[int(gene_index)],df))\n",
    "    \n",
    "    values_df = dfs[0][1][[]]\n",
    "    for df in dfs:\n",
    "        values_df[df[0]] = df[1][\"dominant\"]\n",
    "    return values_df\n"
   ]
  },
  {
   "cell_type": "code",
   "execution_count": 4,
   "id": "073152af",
   "metadata": {},
   "outputs": [],
   "source": [
    "MAX_NUMBER_OF_GENES = 70\n",
    "NUMBER_OF_CLUSTERS = 2\n",
    "# path = \"/cs/labs/michall/roeizucker/virt_env_install_test/ukbb_imputation_gene_effect_scores/\"\n",
    "EFFECT_SCORE_PATH = \"/cs/labs/michall/roeizucker/virt_env_install_test/ukbb_imputation_gene_effect_scores/\"\n"
   ]
  },
  {
   "cell_type": "code",
   "execution_count": 5,
   "id": "1a0696cf",
   "metadata": {},
   "outputs": [],
   "source": [
    "ukbb_dataset = pd.read_csv(\"/cs/labs/michall/roeizucker/hypertension_study/clustering_data/ukbb_dataset.csv\")\n",
    "I10_df = pd.read_csv(\"/cs/labs/michall/roeizucker/10krun/results/I10_1.csv\")\n",
    "I10_M_df = pd.read_csv(\"/cs/labs/michall/roeizucker/10krun/results/I10_M.csv\")\n",
    "I10_F_df = pd.read_csv(\"/cs/labs/michall/roeizucker/10krun/results/I10_F.csv\")"
   ]
  },
  {
   "cell_type": "code",
   "execution_count": 10,
   "id": "b74fd3c3",
   "metadata": {},
   "outputs": [],
   "source": [
    "gene_transaltion = I10_df[[\"gene_index\",\"uniprot_id\"]]\n",
    "GENE_DICT = {}\n",
    "for i in gene_transaltion.T.iteritems():\n",
    "    GENE_DICT[i[1][\"gene_index\"]] = i[1][\"uniprot_id\"]\n"
   ]
  },
  {
   "cell_type": "code",
   "execution_count": 12,
   "id": "f7279c33",
   "metadata": {},
   "outputs": [],
   "source": [
    "# list(ukbb_dataset.columns)"
   ]
  },
  {
   "cell_type": "code",
   "execution_count": 13,
   "id": "581a0ce8",
   "metadata": {},
   "outputs": [],
   "source": [
    "# for num in range(len(ukbb_dataset.columns)):\n",
    "#     col = ukbb_dataset.columns[num]\n",
    "# #     print(col)\n",
    "#     length = ukbb_dataset[col].sum()\n",
    "#     if length > 30000:\n",
    "#         print(col, length)"
   ]
  },
  {
   "cell_type": "code",
   "execution_count": 15,
   "id": "628d9262",
   "metadata": {},
   "outputs": [],
   "source": [
    "# used_ids = list(ukbb_dataset.query(\"I10 == 1.0\")[\"eid\"])\n",
    "# used_ids = list(ukbb_dataset.query(\"(I10 == 1.0 or H269 == 1.0) and (I10 != H269)\")[\"eid\"])\n",
    "# used_ids = list(ukbb_dataset.query(\"(I10 == 1.0 or H269 == 1.0 )\")[\"eid\"])\n",
    "used_ids = list(ukbb_dataset.query(\"(I10 == 1.0 or E78 == 1.0 )\")[\"eid\"])\n",
    "# # used_ids = list(ukbb_dataset.query(\"(I10 == 1.0 or E78 == 1.0 ) and E78 != I10\")[\"eid\"])\n",
    "\n",
    "\n",
    "genes_list = list(I10_df.query(\"fdr_significance\")[\"uniprot_id\"])\n",
    "length = min(len(genes_list),MAX_NUMBER_OF_GENES)\n",
    "used_genes = set(list(I10_df.query(\"fdr_significance\")[\"uniprot_id\"])[0:length])\n"
   ]
  },
  {
   "cell_type": "code",
   "execution_count": 16,
   "id": "b3e26d16",
   "metadata": {},
   "outputs": [],
   "source": [
    "\n",
    "# path = \"/cs/labs/michall/roeizucker/virt_env_install_test/ukbb_imputation_gene_effect_scores/\"\n",
    "# directory = os.fsencode(path)\n",
    "# counter = 0\n",
    "# dfs = []\n",
    "# for file in os.listdir(directory):\n",
    "#     filename = os.fsdecode(file)\n",
    "#     if filename.endswith(\".csv\"):\n",
    "#         counter+=1\n",
    "#         if counter%1000 == 0:\n",
    "#             clear_output(wait=True)\n",
    "#             print(counter)\n",
    "#         gene_index = filename.replace(\".csv\",\"\")\n",
    "#         if gene_dict[int(gene_index)] not in used_genes:\n",
    "#             continue\n",
    "#         df = pd.read_csv(path + filename)\n",
    "#         df = df[df[\"sample_id\"].isin(used_ids)]\n",
    "#         df.set_index(\"sample_id\",inplace=True)\n",
    "#         dfs.append((gene_dict[int(gene_index)],df))\n",
    "    \n"
   ]
  },
  {
   "cell_type": "code",
   "execution_count": 17,
   "id": "41383a3e",
   "metadata": {},
   "outputs": [],
   "source": [
    "# values_df = dfs[0][1][[]]\n",
    "# for df in dfs:\n",
    "#     values_df[df[0]] = df[1][\"dominant\"]\n",
    "\n"
   ]
  },
  {
   "cell_type": "code",
   "execution_count": null,
   "id": "5490bdbd",
   "metadata": {},
   "outputs": [
    {
     "name": "stdout",
     "output_type": "stream",
     "text": [
      "6500\n"
     ]
    }
   ],
   "source": [
    "values_df = create_effect_score_df(EFFECT_SCORE_PATH,used_genes,used_ids,GENE_DICT)"
   ]
  },
  {
   "cell_type": "code",
   "execution_count": null,
   "id": "ce74bfaa",
   "metadata": {},
   "outputs": [],
   "source": []
  }
 ],
 "metadata": {
  "kernelspec": {
   "display_name": "Python 3",
   "language": "python",
   "name": "python3"
  },
  "language_info": {
   "codemirror_mode": {
    "name": "ipython",
    "version": 3
   },
   "file_extension": ".py",
   "mimetype": "text/x-python",
   "name": "python",
   "nbconvert_exporter": "python",
   "pygments_lexer": "ipython3",
   "version": "3.7.3"
  }
 },
 "nbformat": 4,
 "nbformat_minor": 5
}
