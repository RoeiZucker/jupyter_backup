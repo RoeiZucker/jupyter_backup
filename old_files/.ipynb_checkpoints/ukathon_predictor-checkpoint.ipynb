{
 "cells": [
  {
   "cell_type": "code",
   "execution_count": 1,
   "id": "1b9e9670",
   "metadata": {},
   "outputs": [],
   "source": [
    "import pandas as pd\n",
    "import numpy as np"
   ]
  },
  {
   "cell_type": "code",
   "execution_count": 2,
   "id": "47d98f20",
   "metadata": {},
   "outputs": [],
   "source": [
    "files = [\"3222.csv\",\n",
    "\"4056.csv\",\n",
    "\"2702.csv\",\n",
    "\"14200.csv\",\n",
    "\"13465.csv\",\n",
    "\"469.csv\",\n",
    "\"4967.csv\",\n",
    "\"10243.csv\",\n",
    "\"3029.csv\",\n",
    "\"9323.csv\",\n",
    "\"8547.csv\",\n",
    "\"1748.csv\",\n",
    "\"1006.csv\",\n",
    "\"1756.csv\",\n",
    "\"3619.csv\",\n",
    "\"17215.csv\",\n",
    "\"4528.csv\",\n",
    "\"11994.csv\",\n",
    "\"14743.csv\"]"
   ]
  },
  {
   "cell_type": "code",
   "execution_count": 3,
   "id": "12575bf8",
   "metadata": {},
   "outputs": [
    {
     "name": "stdout",
     "output_type": "stream",
     "text": [
      "Empty DataFrame\n",
      "Columns: []\n",
      "Index: [1688461, 5444187, 2676900, 3709342, 3769417, 3643718, 4278638, 3813137, 4992438, 4686631, 2095039, 4953621, 1556925, 2343645, 2324055, 3917348, 3577284, 5530217, 1932749, 4274596, 5613918, 3708261, 5864238, 4904291, 1747215, 4077236, 3427308, 1878573, 5069634, 2457659, 1570348, 5158468, 4555534, 5631928, 4608848, 3582530, 5205852, 5544595, 3480009, 2358092, 3994493, 4567133, 5327521, 5476799, 4466105, 3597015, 1661294, 3861498, 3963360, 2055462, 4114554, 5034937, 5254529, 1661730, 1970464, 2856796, 2957445, 2814481, 3181538, 1541951, 5224917, 1738554, 2207617, 1931048, 5204026, 2251402, 3784526, 3596108, 5227551, 5467196, 4324738, 3922623, 4210245, 2324971, 2986478, 5825753, 3836672, 3315694, 2992942, 3292592, 3027488, 2092782, 4224484, 4499790, 2180606, 4918213, 1604471, 5255506, 5840740, 3968776, 1832628, 4270952, 2514233, 5581931, 3347797, 5572282, 4078033, 4091245, 5178884, 2148454, ...]\n",
      "\n",
      "[487409 rows x 0 columns]\n"
     ]
    }
   ],
   "source": [
    "base_doc = pd.read_csv(\"~/my_storage/virt_env_install_test/ukbb_imputation_gene_effect_scores/3222.csv\")\n",
    "base_doc.set_index('sample_id', inplace=True)\n",
    "# print(base_doc)\n",
    "base_doc = base_doc.drop(['dominant','recessive'],axis=1)\n",
    "print(base_doc)"
   ]
  },
  {
   "cell_type": "code",
   "execution_count": 4,
   "id": "3be6dedd",
   "metadata": {},
   "outputs": [
    {
     "name": "stdout",
     "output_type": "stream",
     "text": [
      "           3222  4056  2702  14200  13465  469  4967  10243  3029  9323  8547  \\\n",
      "sample_id                                                                       \n",
      "1688461     1.0   1.0   1.0    1.0    1.0  1.0   1.0    1.0   1.0   1.0   1.0   \n",
      "5444187     1.0   1.0   1.0    1.0    1.0  1.0   1.0    1.0   1.0   1.0   1.0   \n",
      "2676900     1.0   1.0   1.0    1.0    1.0  1.0   1.0    1.0   1.0   1.0   1.0   \n",
      "3709342     1.0   1.0   1.0    1.0    1.0  1.0   1.0    1.0   1.0   1.0   1.0   \n",
      "3769417     1.0   1.0   1.0    1.0    1.0  1.0   1.0    1.0   1.0   1.0   1.0   \n",
      "...         ...   ...   ...    ...    ...  ...   ...    ...   ...   ...   ...   \n",
      "1022925     1.0   1.0   1.0    1.0    1.0  1.0   1.0    1.0   1.0   1.0   1.0   \n",
      "1298707     1.0   1.0   1.0    1.0    1.0  1.0   1.0    1.0   1.0   1.0   1.0   \n",
      "1169275     1.0   1.0   1.0    1.0    1.0  1.0   1.0    1.0   1.0   1.0   1.0   \n",
      "1164524     1.0   1.0   1.0    1.0    1.0  1.0   1.0    1.0   1.0   1.0   1.0   \n",
      "1409864     1.0   1.0   1.0    1.0    1.0  1.0   1.0    1.0   1.0   1.0   1.0   \n",
      "\n",
      "           1748  1006  1756  3619  17215  4528  11994  14743  \n",
      "sample_id                                                     \n",
      "1688461     1.0   1.0   1.0   1.0    1.0   1.0    1.0    1.0  \n",
      "5444187     1.0   1.0   1.0   1.0    1.0   1.0    1.0    1.0  \n",
      "2676900     1.0   1.0   1.0   1.0    1.0   1.0    1.0    1.0  \n",
      "3709342     1.0   1.0   1.0   1.0    1.0   1.0    1.0    1.0  \n",
      "3769417     1.0   1.0   1.0   1.0    1.0   1.0    1.0    1.0  \n",
      "...         ...   ...   ...   ...    ...   ...    ...    ...  \n",
      "1022925     1.0   1.0   1.0   1.0    1.0   1.0    1.0    1.0  \n",
      "1298707     1.0   1.0   1.0   1.0    1.0   1.0    1.0    1.0  \n",
      "1169275     1.0   1.0   1.0   1.0    1.0   1.0    1.0    1.0  \n",
      "1164524     1.0   1.0   1.0   1.0    1.0   1.0    1.0    1.0  \n",
      "1409864     1.0   1.0   1.0   1.0    1.0   1.0    1.0    1.0  \n",
      "\n",
      "[487409 rows x 19 columns]\n"
     ]
    }
   ],
   "source": [
    "for file in files:\n",
    "    new_doc = pd.read_csv(\"~/my_storage/virt_env_install_test/ukbb_imputation_gene_effect_scores/3222.csv\")\n",
    "    new_doc.set_index('sample_id', inplace=True)\n",
    "    base_doc[file.replace(\".csv\",\"\")] = new_doc[\"dominant\"]\n",
    "print(base_doc)"
   ]
  },
  {
   "cell_type": "code",
   "execution_count": 5,
   "id": "418f818c",
   "metadata": {},
   "outputs": [
    {
     "name": "stdout",
     "output_type": "stream",
     "text": [
      "           sample_index  ostro\n",
      "sample_id                     \n",
      "5895328               0    0.0\n",
      "5764375               1    0.0\n",
      "5503073               2    0.0\n",
      "2563626               3    0.0\n",
      "4980832               4    0.0\n",
      "...                 ...    ...\n",
      "2243883          502513    0.0\n",
      "3570729          502515    0.0\n",
      "1663456          502516    0.0\n",
      "3118989          502517    0.0\n",
      "4573284          502519    0.0\n",
      "\n",
      "[333415 rows x 2 columns]\n"
     ]
    }
   ],
   "source": [
    "col_list = [\"sample_index\",\"eid\",\"ostro\"]\n",
    "df = pd.read_csv(\"/cs/labs/michall/roeizucker/hackton/predictor/ukbb_dataset.csv\", usecols=col_list)\n",
    "df = df.rename(columns = {'eid': 'sample_id'})\n",
    "df.set_index('sample_id', inplace=True)\n",
    "print(df)"
   ]
  },
  {
   "cell_type": "code",
   "execution_count": 6,
   "id": "c3fb8d10",
   "metadata": {},
   "outputs": [],
   "source": [
    "base_doc[\"sick\"] = df[\"ostro\"]\n",
    "base_doc['sick'] = base_doc['sick'].replace(np.nan, 0)\n",
    "\n",
    "base_doc.to_csv(\"/cs/labs/michall/roeizucker/pred_matrix.csv\")"
   ]
  },
  {
   "cell_type": "code",
   "execution_count": 15,
   "id": "bf003160",
   "metadata": {},
   "outputs": [
    {
     "ename": "ValueError",
     "evalue": "The truth value of a Series is ambiguous. Use a.empty, a.bool(), a.item(), a.any() or a.all().",
     "output_type": "error",
     "traceback": [
      "\u001b[0;31m---------------------------------------------------------------------------\u001b[0m",
      "\u001b[0;31mValueError\u001b[0m                                Traceback (most recent call last)",
      "\u001b[0;32m<ipython-input-15-e73bf836ef94>\u001b[0m in \u001b[0;36m<module>\u001b[0;34m\u001b[0m\n\u001b[1;32m      2\u001b[0m \u001b[0;31m#     print(df)\u001b[0m\u001b[0;34m\u001b[0m\u001b[0;34m\u001b[0m\u001b[0;34m\u001b[0m\u001b[0m\n\u001b[1;32m      3\u001b[0m \u001b[0;34m\u001b[0m\u001b[0m\n\u001b[0;32m----> 4\u001b[0;31m \u001b[0mprint\u001b[0m\u001b[0;34m(\u001b[0m\u001b[0mbase_doc\u001b[0m\u001b[0;34m[\u001b[0m\u001b[0mbase_doc\u001b[0m\u001b[0;34m[\u001b[0m\u001b[0;34m\"3222\"\u001b[0m\u001b[0;34m]\u001b[0m \u001b[0;34m!=\u001b[0m \u001b[0;36m1.0\u001b[0m \u001b[0;32mand\u001b[0m \u001b[0mbase_doc\u001b[0m\u001b[0;34m[\u001b[0m\u001b[0;34m\"sick\"\u001b[0m \u001b[0;34m]\u001b[0m\u001b[0;34m==\u001b[0m \u001b[0;36m1.0\u001b[0m\u001b[0;34m]\u001b[0m \u001b[0;34m)\u001b[0m\u001b[0;34m\u001b[0m\u001b[0;34m\u001b[0m\u001b[0m\n\u001b[0m",
      "\u001b[0;32m~/my_python/lib/python3.7/site-packages/pandas/core/generic.py\u001b[0m in \u001b[0;36m__nonzero__\u001b[0;34m(self)\u001b[0m\n\u001b[1;32m   1441\u001b[0m     \u001b[0;32mdef\u001b[0m \u001b[0m__nonzero__\u001b[0m\u001b[0;34m(\u001b[0m\u001b[0mself\u001b[0m\u001b[0;34m)\u001b[0m\u001b[0;34m:\u001b[0m\u001b[0;34m\u001b[0m\u001b[0;34m\u001b[0m\u001b[0m\n\u001b[1;32m   1442\u001b[0m         raise ValueError(\n\u001b[0;32m-> 1443\u001b[0;31m             \u001b[0;34mf\"The truth value of a {type(self).__name__} is ambiguous. \"\u001b[0m\u001b[0;34m\u001b[0m\u001b[0;34m\u001b[0m\u001b[0m\n\u001b[0m\u001b[1;32m   1444\u001b[0m             \u001b[0;34m\"Use a.empty, a.bool(), a.item(), a.any() or a.all().\"\u001b[0m\u001b[0;34m\u001b[0m\u001b[0;34m\u001b[0m\u001b[0m\n\u001b[1;32m   1445\u001b[0m         )\n",
      "\u001b[0;31mValueError\u001b[0m: The truth value of a Series is ambiguous. Use a.empty, a.bool(), a.item(), a.any() or a.all()."
     ]
    }
   ],
   "source": [
    "# with pd.option_context('display.max_rows', None, 'display.max_columns', None):  # more options can be specified also\n",
    "#     print(df)\n",
    "\n",
    "print(base_doc[base_doc[\"3222\"] != 1.0] )"
   ]
  }
 ],
 "metadata": {
  "kernelspec": {
   "display_name": "myenv",
   "language": "python",
   "name": "myenv"
  },
  "language_info": {
   "codemirror_mode": {
    "name": "ipython",
    "version": 3
   },
   "file_extension": ".py",
   "mimetype": "text/x-python",
   "name": "python",
   "nbconvert_exporter": "python",
   "pygments_lexer": "ipython3",
   "version": "3.7.3"
  }
 },
 "nbformat": 4,
 "nbformat_minor": 5
}
