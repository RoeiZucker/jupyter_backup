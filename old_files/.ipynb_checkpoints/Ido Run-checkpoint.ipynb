{
 "cells": [
  {
   "cell_type": "code",
   "execution_count": 1,
   "id": "43d26c98",
   "metadata": {},
   "outputs": [],
   "source": [
    "import pandas as pd\n",
    "import numpy as np"
   ]
  },
  {
   "cell_type": "code",
   "execution_count": 5,
   "id": "e8cc074b",
   "metadata": {},
   "outputs": [],
   "source": [
    "endo_dataset = pd.read_csv('/cs/labs/michall/roeizucker/Ido_run/endo_pwas_good.csv')\n",
    "endo_dataset.set_index('eid', inplace=True)\n",
    "\n",
    "ukb_dataset = pd.read_csv('/cs/labs/michall/roeizucker/Ido_run/ukbb_dataset.csv')\n",
    "ukb_dataset.set_index('eid', inplace=True)"
   ]
  },
  {
   "cell_type": "code",
   "execution_count": 12,
   "id": "d83a1be5",
   "metadata": {},
   "outputs": [
    {
     "data": {
      "text/plain": [
       "Index(['Unnamed: 0', 'endo_fer', 'endo_inf', 'cont_fer', 'cont_inf'], dtype='object')"
      ]
     },
     "execution_count": 12,
     "metadata": {},
     "output_type": "execute_result"
    }
   ],
   "source": [
    "endo_dataset.columns"
   ]
  },
  {
   "cell_type": "code",
   "execution_count": 13,
   "id": "0c403685",
   "metadata": {},
   "outputs": [
    {
     "name": "stdout",
     "output_type": "stream",
     "text": [
      "endo_fer\n",
      "endo_inf\n",
      "cont_fer\n",
      "cont_inf\n"
     ]
    }
   ],
   "source": [
    "for col in endo_dataset.columns[1:]:\n",
    "    ukb_dataset[col] = endo_dataset[col]"
   ]
  }
 ],
 "metadata": {
  "kernelspec": {
   "display_name": "myenv",
   "language": "python",
   "name": "myenv"
  },
  "language_info": {
   "codemirror_mode": {
    "name": "ipython",
    "version": 3
   },
   "file_extension": ".py",
   "mimetype": "text/x-python",
   "name": "python",
   "nbconvert_exporter": "python",
   "pygments_lexer": "ipython3",
   "version": "3.7.3"
  }
 },
 "nbformat": 4,
 "nbformat_minor": 5
}
