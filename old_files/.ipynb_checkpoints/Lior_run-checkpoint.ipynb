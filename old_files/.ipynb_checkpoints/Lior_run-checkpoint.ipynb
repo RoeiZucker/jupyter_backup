{
 "cells": [
  {
   "cell_type": "code",
   "execution_count": 2,
   "id": "e5afd803",
   "metadata": {},
   "outputs": [],
   "source": [
    "import pandas as pd\n",
    "import numpy as np"
   ]
  },
  {
   "cell_type": "code",
   "execution_count": 49,
   "id": "bb5f1d76",
   "metadata": {},
   "outputs": [
    {
     "name": "stdout",
     "output_type": "stream",
     "text": [
      "done\n"
     ]
    }
   ],
   "source": [
    "frame = pd.read_csv(\"/cs/labs/michall/roeizucker/lior_run/ukbb_dataset.csv\")\n",
    "print(\"done\")"
   ]
  },
  {
   "cell_type": "code",
   "execution_count": 50,
   "id": "d2a7ab91",
   "metadata": {},
   "outputs": [
    {
     "name": "stdout",
     "output_type": "stream",
     "text": [
      "        sample_index      eid  parkinson date_G20_first_reported  \\\n",
      "0                  0  5895328        0.0                     NaN   \n",
      "1                  1  5764375        0.0                     NaN   \n",
      "2                  2  5503073        0.0                     NaN   \n",
      "3                  3  2563626        0.0                     NaN   \n",
      "4                  4  4980832        0.0                     NaN   \n",
      "...              ...      ...        ...                     ...   \n",
      "333410        502513  2243883        0.0                     NaN   \n",
      "333411        502515  3570729        0.0                     NaN   \n",
      "333412        502516  1663456        0.0                     NaN   \n",
      "333413        502517  3118989        0.0                     NaN   \n",
      "333414        502519  4573284        0.0                     NaN   \n",
      "\n",
      "        year_of_birth  const  sex  year_of_birth.1       PC1       PC2  ...  \\\n",
      "0                 NaN    1.0  1.0           1942.0 -12.53270  4.235220  ...   \n",
      "1                 NaN    1.0  0.0           1951.0 -12.33790  3.061120  ...   \n",
      "2                 NaN    1.0  1.0           1944.0 -11.85050  5.194030  ...   \n",
      "3                 NaN    1.0  1.0           1950.0 -11.97490  3.477800  ...   \n",
      "4                 NaN    1.0  1.0           1948.0  -8.73549  4.980050  ...   \n",
      "...               ...    ...  ...              ...       ...       ...  ...   \n",
      "333410            NaN    1.0  1.0           1949.0 -13.83960  6.899070  ...   \n",
      "333411            NaN    1.0  1.0           1955.0 -15.15060  5.265920  ...   \n",
      "333412            NaN    1.0  1.0           1941.0 -11.59990  2.911470  ...   \n",
      "333413            NaN    1.0  0.0           1942.0 -13.72620  0.917067  ...   \n",
      "333414            NaN    1.0  0.0           1950.0 -12.71160  1.226900  ...   \n",
      "\n",
      "        batch_UKBiLEVEAX_b1  batch_UKBiLEVEAX_b10  batch_UKBiLEVEAX_b11  \\\n",
      "0                         0                     0                     0   \n",
      "1                         0                     0                     0   \n",
      "2                         0                     0                     0   \n",
      "3                         0                     0                     0   \n",
      "4                         0                     0                     0   \n",
      "...                     ...                   ...                   ...   \n",
      "333410                    0                     0                     0   \n",
      "333411                    0                     0                     0   \n",
      "333412                    0                     0                     0   \n",
      "333413                    0                     0                     0   \n",
      "333414                    0                     0                     0   \n",
      "\n",
      "        batch_UKBiLEVEAX_b3  batch_UKBiLEVEAX_b4  batch_UKBiLEVEAX_b5  \\\n",
      "0                         0                    0                    0   \n",
      "1                         0                    0                    0   \n",
      "2                         0                    0                    0   \n",
      "3                         0                    0                    0   \n",
      "4                         0                    0                    0   \n",
      "...                     ...                  ...                  ...   \n",
      "333410                    0                    0                    0   \n",
      "333411                    0                    0                    0   \n",
      "333412                    0                    0                    0   \n",
      "333413                    0                    0                    0   \n",
      "333414                    0                    0                    0   \n",
      "\n",
      "        batch_UKBiLEVEAX_b6  batch_UKBiLEVEAX_b7  batch_UKBiLEVEAX_b8  \\\n",
      "0                         0                    0                    0   \n",
      "1                         0                    0                    0   \n",
      "2                         0                    0                    0   \n",
      "3                         0                    0                    0   \n",
      "4                         0                    0                    0   \n",
      "...                     ...                  ...                  ...   \n",
      "333410                    0                    0                    0   \n",
      "333411                    0                    0                    0   \n",
      "333412                    0                    0                    0   \n",
      "333413                    0                    0                    0   \n",
      "333414                    0                    0                    0   \n",
      "\n",
      "        batch_UKBiLEVEAX_b9  \n",
      "0                         0  \n",
      "1                         0  \n",
      "2                         0  \n",
      "3                         0  \n",
      "4                         0  \n",
      "...                     ...  \n",
      "333410                    0  \n",
      "333411                    0  \n",
      "333412                    0  \n",
      "333413                    0  \n",
      "333414                    0  \n",
      "\n",
      "[333415 rows x 178 columns]\n"
     ]
    }
   ],
   "source": [
    "print(frame)"
   ]
  },
  {
   "cell_type": "code",
   "execution_count": 51,
   "id": "8751850f",
   "metadata": {},
   "outputs": [
    {
     "name": "stdout",
     "output_type": "stream",
     "text": [
      "done\n"
     ]
    }
   ],
   "source": [
    "frame[\"date_G20_year_reported\"] = frame[\"date_G20_first_reported\"].str.split(pat=\"-\",expand=True)[0]\n",
    "# str.split(pat=\"/\")\n",
    "print(\"done\")"
   ]
  },
  {
   "cell_type": "code",
   "execution_count": 29,
   "id": "46b65910",
   "metadata": {},
   "outputs": [
    {
     "name": "stdout",
     "output_type": "stream",
     "text": [
      "done\n"
     ]
    }
   ],
   "source": [
    "filtered_frame = frame[frame['date_G20_year_reported'].notna()]\n",
    "filtered_frame = filtered_frame[filtered_frame['parkinson'] == 1.0]\n",
    "# frame[\"year_of_birth.1\"] - frame[\"date_G20_year_reported\"].astype(int)\n",
    "# filtered_frame\n",
    "print(\"done\")"
   ]
  },
  {
   "cell_type": "code",
   "execution_count": 33,
   "id": "d7c6c512",
   "metadata": {},
   "outputs": [],
   "source": [
    "filtered_frame[\"age_G20_reported\"] = filtered_frame[\"date_G20_year_reported\"].astype(int) - filtered_frame[\"year_of_birth.1\"]\n"
   ]
  },
  {
   "cell_type": "code",
   "execution_count": 43,
   "id": "3b754deb",
   "metadata": {},
   "outputs": [
    {
     "name": "stdout",
     "output_type": "stream",
     "text": [
      "done\n"
     ]
    }
   ],
   "source": [
    "filtered_frame[\"G20_early\"] = (filtered_frame[\"age_G20_reported\"] <= 50).astype(int)\n",
    "print(\"done\")"
   ]
  },
  {
   "cell_type": "code",
   "execution_count": 46,
   "id": "f6c1ddff",
   "metadata": {},
   "outputs": [
    {
     "data": {
      "text/plain": [
       "1220"
      ]
     },
     "execution_count": 46,
     "metadata": {},
     "output_type": "execute_result"
    }
   ],
   "source": [
    "list(filtered_frame[\"G20_early\"]).count(0)"
   ]
  },
  {
   "cell_type": "code",
   "execution_count": 56,
   "id": "9e606a10",
   "metadata": {},
   "outputs": [],
   "source": [
    "filtered_frame[\"arbitrary_group\"] = 0"
   ]
  },
  {
   "cell_type": "code",
   "execution_count": 63,
   "id": "a77cb880",
   "metadata": {},
   "outputs": [],
   "source": [
    "for i in range(len(filtered_frame)):\n",
    "    if i%2 == 0:\n",
    "        filtered_frame.iloc[i, filtered_frame.columns.get_loc('arbitrary_group')] = 1"
   ]
  },
  {
   "cell_type": "code",
   "execution_count": 64,
   "id": "05937e48",
   "metadata": {},
   "outputs": [
    {
     "name": "stdout",
     "output_type": "stream",
     "text": [
      "        sample_index      eid  parkinson date_G20_first_reported  \\\n",
      "227              388  2800824        1.0              1999-07-01   \n",
      "314              521  1317890        1.0              1993-07-01   \n",
      "444              721  5409540        1.0              2012-03-28   \n",
      "509              816  1436109        1.0              2004-07-01   \n",
      "625              998  1603818        1.0              2016-04-09   \n",
      "...              ...      ...        ...                     ...   \n",
      "331980        500379  1265907        1.0              2007-07-01   \n",
      "332019        500437  3613227        1.0              2006-07-01   \n",
      "332432        501053  2099584        1.0              2015-07-29   \n",
      "332583        501269  1844779        1.0              2017-01-16   \n",
      "333224        502231  1710633        1.0              2011-05-19   \n",
      "\n",
      "        year_of_birth  const  sex  year_of_birth.1       PC1      PC2  ...  \\\n",
      "227               NaN    1.0  1.0           1944.0 -14.92580  5.91815  ...   \n",
      "314               NaN    1.0  1.0           1948.0 -10.85520  3.53442  ...   \n",
      "444               NaN    1.0  1.0           1938.0 -13.65560  3.89147  ...   \n",
      "509               NaN    1.0  1.0           1954.0  -9.94786  1.45013  ...   \n",
      "625               NaN    1.0  1.0           1944.0 -10.39880  1.62159  ...   \n",
      "...               ...    ...  ...              ...       ...      ...  ...   \n",
      "331980            NaN    1.0  1.0           1939.0 -11.23950  4.53686  ...   \n",
      "332019            NaN    1.0  1.0           1944.0 -12.19760  2.96393  ...   \n",
      "332432            NaN    1.0  1.0           1940.0 -11.40470  4.58010  ...   \n",
      "332583            NaN    1.0  0.0           1939.0 -16.12870  5.36866  ...   \n",
      "333224            NaN    1.0  0.0           1954.0 -13.05210  6.38511  ...   \n",
      "\n",
      "        batch_UKBiLEVEAX_b4  batch_UKBiLEVEAX_b5  batch_UKBiLEVEAX_b6  \\\n",
      "227                       0                    0                    0   \n",
      "314                       0                    0                    0   \n",
      "444                       0                    0                    0   \n",
      "509                       0                    0                    0   \n",
      "625                       0                    0                    0   \n",
      "...                     ...                  ...                  ...   \n",
      "331980                    0                    0                    0   \n",
      "332019                    0                    0                    0   \n",
      "332432                    0                    0                    0   \n",
      "332583                    0                    0                    0   \n",
      "333224                    0                    0                    0   \n",
      "\n",
      "        batch_UKBiLEVEAX_b7  batch_UKBiLEVEAX_b8  batch_UKBiLEVEAX_b9  \\\n",
      "227                       0                    0                    0   \n",
      "314                       0                    0                    0   \n",
      "444                       0                    0                    0   \n",
      "509                       0                    0                    0   \n",
      "625                       0                    0                    0   \n",
      "...                     ...                  ...                  ...   \n",
      "331980                    0                    0                    0   \n",
      "332019                    0                    0                    0   \n",
      "332432                    0                    0                    0   \n",
      "332583                    0                    0                    0   \n",
      "333224                    0                    0                    0   \n",
      "\n",
      "        date_G20_year_reported  age_G20_reported  G20_early  arbitrary_group  \n",
      "227                       1999              55.0          0                1  \n",
      "314                       1993              45.0          1                0  \n",
      "444                       2012              74.0          0                1  \n",
      "509                       2004              50.0          1                0  \n",
      "625                       2016              72.0          0                1  \n",
      "...                        ...               ...        ...              ...  \n",
      "331980                    2007              68.0          0                1  \n",
      "332019                    2006              62.0          0                0  \n",
      "332432                    2015              75.0          0                1  \n",
      "332583                    2017              78.0          0                0  \n",
      "333224                    2011              57.0          0                1  \n",
      "\n",
      "[1333 rows x 182 columns]\n"
     ]
    }
   ],
   "source": [
    "print(filtered_frame)"
   ]
  },
  {
   "cell_type": "code",
   "execution_count": 65,
   "id": "3ac30a51",
   "metadata": {},
   "outputs": [
    {
     "name": "stdout",
     "output_type": "stream",
     "text": [
      "done\n"
     ]
    }
   ],
   "source": [
    "filtered_frame.to_csv(\"/cs/labs/michall/roeizucker/lior_run/ukbb_dataset_filtered.csv\")\n",
    "print(\"done\")"
   ]
  },
  {
   "cell_type": "code",
   "execution_count": 67,
   "id": "4da8f1d6",
   "metadata": {},
   "outputs": [
    {
     "name": "stdout",
     "output_type": "stream",
     "text": [
      "done\n"
     ]
    }
   ],
   "source": [
    "very_filtered_frame = filtered_frame.copy()\n",
    "print(\"done\")"
   ]
  },
  {
   "cell_type": "code",
   "execution_count": 72,
   "id": "086a4706",
   "metadata": {},
   "outputs": [
    {
     "name": "stdout",
     "output_type": "stream",
     "text": [
      "done\n"
     ]
    }
   ],
   "source": [
    "very_filtered_frame[\"keep\"] = filtered_frame[\"G20_early\"]\n",
    "print(\"done\")"
   ]
  },
  {
   "cell_type": "code",
   "execution_count": 97,
   "id": "86cc1bdf",
   "metadata": {},
   "outputs": [
    {
     "name": "stdout",
     "output_type": "stream",
     "text": [
      "done\n"
     ]
    }
   ],
   "source": [
    "ids_to_set = list(very_filtered_frame[very_filtered_frame['keep'] == 0].sample(113)['sample_index'])\n",
    "for i in range(len(very_filtered_frame)):\n",
    "    if (very_filtered_frame.iloc[i,very_filtered_frame.columns.get_loc('sample_index')] in ids_to_set):\n",
    "        very_filtered_frame.iloc[i,very_filtered_frame.columns.get_loc('keep')] = 1\n",
    "print(\"done\")"
   ]
  },
  {
   "cell_type": "code",
   "execution_count": 99,
   "id": "7f016ecb",
   "metadata": {},
   "outputs": [
    {
     "name": "stdout",
     "output_type": "stream",
     "text": [
      "done\n"
     ]
    }
   ],
   "source": [
    "very_filtered_frame = very_filtered_frame[very_filtered_frame['keep'] == 1]\n",
    "print(\"done\")"
   ]
  },
  {
   "cell_type": "code",
   "execution_count": 102,
   "id": "543af4c6",
   "metadata": {},
   "outputs": [
    {
     "name": "stdout",
     "output_type": "stream",
     "text": [
      "done\n"
     ]
    }
   ],
   "source": [
    "very_filtered_frame.to_csv(\"/cs/labs/michall/roeizucker/lior_run/ukbb_dataset_random_late.csv\")\n",
    "print(\"done\")"
   ]
  },
  {
   "cell_type": "code",
   "execution_count": 104,
   "id": "6bebf6d3",
   "metadata": {},
   "outputs": [
    {
     "name": "stdout",
     "output_type": "stream",
     "text": [
      "done\n"
     ]
    }
   ],
   "source": [
    "new_large_frame = frame.copy()\n",
    "print(\"done\")"
   ]
  },
  {
   "cell_type": "code",
   "execution_count": 105,
   "id": "e7b0e2c9",
   "metadata": {},
   "outputs": [
    {
     "name": "stdout",
     "output_type": "stream",
     "text": [
      "        sample_index      eid  parkinson date_G20_first_reported  \\\n",
      "0                  0  5895328        0.0                     NaN   \n",
      "1                  1  5764375        0.0                     NaN   \n",
      "2                  2  5503073        0.0                     NaN   \n",
      "3                  3  2563626        0.0                     NaN   \n",
      "4                  4  4980832        0.0                     NaN   \n",
      "...              ...      ...        ...                     ...   \n",
      "333410        502513  2243883        0.0                     NaN   \n",
      "333411        502515  3570729        0.0                     NaN   \n",
      "333412        502516  1663456        0.0                     NaN   \n",
      "333413        502517  3118989        0.0                     NaN   \n",
      "333414        502519  4573284        0.0                     NaN   \n",
      "\n",
      "        year_of_birth  const  sex  year_of_birth.1       PC1       PC2  ...  \\\n",
      "0                 NaN    1.0  1.0           1942.0 -12.53270  4.235220  ...   \n",
      "1                 NaN    1.0  0.0           1951.0 -12.33790  3.061120  ...   \n",
      "2                 NaN    1.0  1.0           1944.0 -11.85050  5.194030  ...   \n",
      "3                 NaN    1.0  1.0           1950.0 -11.97490  3.477800  ...   \n",
      "4                 NaN    1.0  1.0           1948.0  -8.73549  4.980050  ...   \n",
      "...               ...    ...  ...              ...       ...       ...  ...   \n",
      "333410            NaN    1.0  1.0           1949.0 -13.83960  6.899070  ...   \n",
      "333411            NaN    1.0  1.0           1955.0 -15.15060  5.265920  ...   \n",
      "333412            NaN    1.0  1.0           1941.0 -11.59990  2.911470  ...   \n",
      "333413            NaN    1.0  0.0           1942.0 -13.72620  0.917067  ...   \n",
      "333414            NaN    1.0  0.0           1950.0 -12.71160  1.226900  ...   \n",
      "\n",
      "        batch_UKBiLEVEAX_b10  batch_UKBiLEVEAX_b11  batch_UKBiLEVEAX_b3  \\\n",
      "0                          0                     0                    0   \n",
      "1                          0                     0                    0   \n",
      "2                          0                     0                    0   \n",
      "3                          0                     0                    0   \n",
      "4                          0                     0                    0   \n",
      "...                      ...                   ...                  ...   \n",
      "333410                     0                     0                    0   \n",
      "333411                     0                     0                    0   \n",
      "333412                     0                     0                    0   \n",
      "333413                     0                     0                    0   \n",
      "333414                     0                     0                    0   \n",
      "\n",
      "        batch_UKBiLEVEAX_b4  batch_UKBiLEVEAX_b5  batch_UKBiLEVEAX_b6  \\\n",
      "0                         0                    0                    0   \n",
      "1                         0                    0                    0   \n",
      "2                         0                    0                    0   \n",
      "3                         0                    0                    0   \n",
      "4                         0                    0                    0   \n",
      "...                     ...                  ...                  ...   \n",
      "333410                    0                    0                    0   \n",
      "333411                    0                    0                    0   \n",
      "333412                    0                    0                    0   \n",
      "333413                    0                    0                    0   \n",
      "333414                    0                    0                    0   \n",
      "\n",
      "        batch_UKBiLEVEAX_b7  batch_UKBiLEVEAX_b8  batch_UKBiLEVEAX_b9  \\\n",
      "0                         0                    0                    0   \n",
      "1                         0                    0                    0   \n",
      "2                         0                    0                    0   \n",
      "3                         0                    0                    0   \n",
      "4                         0                    0                    0   \n",
      "...                     ...                  ...                  ...   \n",
      "333410                    0                    0                    0   \n",
      "333411                    0                    0                    0   \n",
      "333412                    0                    0                    0   \n",
      "333413                    0                    0                    0   \n",
      "333414                    0                    0                    0   \n",
      "\n",
      "        date_G20_year_reported  \n",
      "0                          NaN  \n",
      "1                          NaN  \n",
      "2                          NaN  \n",
      "3                          NaN  \n",
      "4                          NaN  \n",
      "...                        ...  \n",
      "333410                     NaN  \n",
      "333411                     NaN  \n",
      "333412                     NaN  \n",
      "333413                     NaN  \n",
      "333414                     NaN  \n",
      "\n",
      "[333415 rows x 179 columns]\n"
     ]
    }
   ],
   "source": [
    "print(new_large_frame)"
   ]
  },
  {
   "cell_type": "code",
   "execution_count": 106,
   "id": "acb4740c",
   "metadata": {},
   "outputs": [
    {
     "name": "stdout",
     "output_type": "stream",
     "text": [
      "        sample_index      eid  parkinson date_G20_first_reported  \\\n",
      "0                  0  5895328        0.0                     NaN   \n",
      "1                  1  5764375        0.0                     NaN   \n",
      "2                  2  5503073        0.0                     NaN   \n",
      "3                  3  2563626        0.0                     NaN   \n",
      "4                  4  4980832        0.0                     NaN   \n",
      "...              ...      ...        ...                     ...   \n",
      "333410        502513  2243883        0.0                     NaN   \n",
      "333411        502515  3570729        0.0                     NaN   \n",
      "333412        502516  1663456        0.0                     NaN   \n",
      "333413        502517  3118989        0.0                     NaN   \n",
      "333414        502519  4573284        0.0                     NaN   \n",
      "\n",
      "        year_of_birth  const  sex  year_of_birth.1       PC1       PC2  ...  \\\n",
      "0                 NaN    1.0  1.0           1942.0 -12.53270  4.235220  ...   \n",
      "1                 NaN    1.0  0.0           1951.0 -12.33790  3.061120  ...   \n",
      "2                 NaN    1.0  1.0           1944.0 -11.85050  5.194030  ...   \n",
      "3                 NaN    1.0  1.0           1950.0 -11.97490  3.477800  ...   \n",
      "4                 NaN    1.0  1.0           1948.0  -8.73549  4.980050  ...   \n",
      "...               ...    ...  ...              ...       ...       ...  ...   \n",
      "333410            NaN    1.0  1.0           1949.0 -13.83960  6.899070  ...   \n",
      "333411            NaN    1.0  1.0           1955.0 -15.15060  5.265920  ...   \n",
      "333412            NaN    1.0  1.0           1941.0 -11.59990  2.911470  ...   \n",
      "333413            NaN    1.0  0.0           1942.0 -13.72620  0.917067  ...   \n",
      "333414            NaN    1.0  0.0           1950.0 -12.71160  1.226900  ...   \n",
      "\n",
      "        batch_UKBiLEVEAX_b11  batch_UKBiLEVEAX_b3  batch_UKBiLEVEAX_b4  \\\n",
      "0                          0                    0                    0   \n",
      "1                          0                    0                    0   \n",
      "2                          0                    0                    0   \n",
      "3                          0                    0                    0   \n",
      "4                          0                    0                    0   \n",
      "...                      ...                  ...                  ...   \n",
      "333410                     0                    0                    0   \n",
      "333411                     0                    0                    0   \n",
      "333412                     0                    0                    0   \n",
      "333413                     0                    0                    0   \n",
      "333414                     0                    0                    0   \n",
      "\n",
      "        batch_UKBiLEVEAX_b5  batch_UKBiLEVEAX_b6  batch_UKBiLEVEAX_b7  \\\n",
      "0                         0                    0                    0   \n",
      "1                         0                    0                    0   \n",
      "2                         0                    0                    0   \n",
      "3                         0                    0                    0   \n",
      "4                         0                    0                    0   \n",
      "...                     ...                  ...                  ...   \n",
      "333410                    0                    0                    0   \n",
      "333411                    0                    0                    0   \n",
      "333412                    0                    0                    0   \n",
      "333413                    0                    0                    0   \n",
      "333414                    0                    0                    0   \n",
      "\n",
      "        batch_UKBiLEVEAX_b8  batch_UKBiLEVEAX_b9  date_G20_year_reported  \\\n",
      "0                         0                    0                     NaN   \n",
      "1                         0                    0                     NaN   \n",
      "2                         0                    0                     NaN   \n",
      "3                         0                    0                     NaN   \n",
      "4                         0                    0                     NaN   \n",
      "...                     ...                  ...                     ...   \n",
      "333410                    0                    0                     NaN   \n",
      "333411                    0                    0                     NaN   \n",
      "333412                    0                    0                     NaN   \n",
      "333413                    0                    0                     NaN   \n",
      "333414                    0                    0                     NaN   \n",
      "\n",
      "        G20_early  \n",
      "0                  \n",
      "1                  \n",
      "2                  \n",
      "3                  \n",
      "4                  \n",
      "...           ...  \n",
      "333410             \n",
      "333411             \n",
      "333412             \n",
      "333413             \n",
      "333414             \n",
      "\n",
      "[333415 rows x 180 columns]\n"
     ]
    }
   ],
   "source": [
    "new_large_frame[\"G20_early\"] = \"\"\n",
    "print(new_large_frame)"
   ]
  },
  {
   "cell_type": "code",
   "execution_count": 113,
   "id": "d29f9acb",
   "metadata": {},
   "outputs": [
    {
     "name": "stdout",
     "output_type": "stream",
     "text": [
      "done\n"
     ]
    }
   ],
   "source": [
    "# new_large_frame[\"year_of_birth\"] = filtered_frame[\"G20_early\"]\n",
    "new_large_frame[\"year_of_birth\"] = filtered_frame[\"arbitrary_group\"]\n",
    "# new_large_frame[\"same_sample_size\"] = filtered_frame[\"G20_early\"]\n",
    "new_large_frame.to_csv(\"/cs/labs/michall/roeizucker/lior_run/ukbb_dataset_large_frame.csv\")\n",
    "\n",
    "print(\"done\")"
   ]
  },
  {
   "cell_type": "code",
   "execution_count": 109,
   "id": "44bcb296",
   "metadata": {},
   "outputs": [
    {
     "name": "stdout",
     "output_type": "stream",
     "text": [
      "        sample_index      eid  parkinson date_G20_first_reported  \\\n",
      "0                  0  5895328        0.0                     NaN   \n",
      "1                  1  5764375        0.0                     NaN   \n",
      "2                  2  5503073        0.0                     NaN   \n",
      "3                  3  2563626        0.0                     NaN   \n",
      "4                  4  4980832        0.0                     NaN   \n",
      "...              ...      ...        ...                     ...   \n",
      "333410        502513  2243883        0.0                     NaN   \n",
      "333411        502515  3570729        0.0                     NaN   \n",
      "333412        502516  1663456        0.0                     NaN   \n",
      "333413        502517  3118989        0.0                     NaN   \n",
      "333414        502519  4573284        0.0                     NaN   \n",
      "\n",
      "        year_of_birth  const  sex  year_of_birth.1       PC1       PC2  ...  \\\n",
      "0                 NaN    1.0  1.0           1942.0 -12.53270  4.235220  ...   \n",
      "1                 NaN    1.0  0.0           1951.0 -12.33790  3.061120  ...   \n",
      "2                 NaN    1.0  1.0           1944.0 -11.85050  5.194030  ...   \n",
      "3                 NaN    1.0  1.0           1950.0 -11.97490  3.477800  ...   \n",
      "4                 NaN    1.0  1.0           1948.0  -8.73549  4.980050  ...   \n",
      "...               ...    ...  ...              ...       ...       ...  ...   \n",
      "333410            NaN    1.0  1.0           1949.0 -13.83960  6.899070  ...   \n",
      "333411            NaN    1.0  1.0           1955.0 -15.15060  5.265920  ...   \n",
      "333412            NaN    1.0  1.0           1941.0 -11.59990  2.911470  ...   \n",
      "333413            NaN    1.0  0.0           1942.0 -13.72620  0.917067  ...   \n",
      "333414            NaN    1.0  0.0           1950.0 -12.71160  1.226900  ...   \n",
      "\n",
      "        batch_UKBiLEVEAX_b11  batch_UKBiLEVEAX_b3  batch_UKBiLEVEAX_b4  \\\n",
      "0                          0                    0                    0   \n",
      "1                          0                    0                    0   \n",
      "2                          0                    0                    0   \n",
      "3                          0                    0                    0   \n",
      "4                          0                    0                    0   \n",
      "...                      ...                  ...                  ...   \n",
      "333410                     0                    0                    0   \n",
      "333411                     0                    0                    0   \n",
      "333412                     0                    0                    0   \n",
      "333413                     0                    0                    0   \n",
      "333414                     0                    0                    0   \n",
      "\n",
      "        batch_UKBiLEVEAX_b5  batch_UKBiLEVEAX_b6  batch_UKBiLEVEAX_b7  \\\n",
      "0                         0                    0                    0   \n",
      "1                         0                    0                    0   \n",
      "2                         0                    0                    0   \n",
      "3                         0                    0                    0   \n",
      "4                         0                    0                    0   \n",
      "...                     ...                  ...                  ...   \n",
      "333410                    0                    0                    0   \n",
      "333411                    0                    0                    0   \n",
      "333412                    0                    0                    0   \n",
      "333413                    0                    0                    0   \n",
      "333414                    0                    0                    0   \n",
      "\n",
      "        batch_UKBiLEVEAX_b8  batch_UKBiLEVEAX_b9  date_G20_year_reported  \\\n",
      "0                         0                    0                     NaN   \n",
      "1                         0                    0                     NaN   \n",
      "2                         0                    0                     NaN   \n",
      "3                         0                    0                     NaN   \n",
      "4                         0                    0                     NaN   \n",
      "...                     ...                  ...                     ...   \n",
      "333410                    0                    0                     NaN   \n",
      "333411                    0                    0                     NaN   \n",
      "333412                    0                    0                     NaN   \n",
      "333413                    0                    0                     NaN   \n",
      "333414                    0                    0                     NaN   \n",
      "\n",
      "        G20_early  \n",
      "0             NaN  \n",
      "1             NaN  \n",
      "2             NaN  \n",
      "3             NaN  \n",
      "4             NaN  \n",
      "...           ...  \n",
      "333410        NaN  \n",
      "333411        NaN  \n",
      "333412        NaN  \n",
      "333413        NaN  \n",
      "333414        NaN  \n",
      "\n",
      "[333415 rows x 180 columns]\n"
     ]
    }
   ],
   "source": [
    "print(new_large_frame)"
   ]
  },
  {
   "cell_type": "code",
   "execution_count": null,
   "id": "fbd3c362",
   "metadata": {},
   "outputs": [],
   "source": []
  }
 ],
 "metadata": {
  "kernelspec": {
   "display_name": "myenv",
   "language": "python",
   "name": "myenv"
  },
  "language_info": {
   "codemirror_mode": {
    "name": "ipython",
    "version": 3
   },
   "file_extension": ".py",
   "mimetype": "text/x-python",
   "name": "python",
   "nbconvert_exporter": "python",
   "pygments_lexer": "ipython3",
   "version": "3.7.3"
  }
 },
 "nbformat": 4,
 "nbformat_minor": 5
}
