{
 "cells": [
  {
   "cell_type": "code",
   "execution_count": 1,
   "id": "f477ada4",
   "metadata": {},
   "outputs": [],
   "source": [
    "import json\n",
    "import glob, os\n",
    "\n",
    "import pykeen"
   ]
  },
  {
   "cell_type": "markdown",
   "id": "faa2e288",
   "metadata": {},
   "source": [
    "## load diseases"
   ]
  },
  {
   "cell_type": "code",
   "execution_count": 6,
   "id": "531c55b9",
   "metadata": {},
   "outputs": [],
   "source": [
    "def load_dataset_directory(path,key_func):\n",
    "    dic = {}\n",
    "    os.chdir(path)\n",
    "    for file in glob.glob(\"*.json\"):\n",
    "        with open(file) as f:\n",
    "            for line in f:\n",
    "                data = json.loads(line)\n",
    "                dic[data[key_field]] = data\n",
    "    return dic"
   ]
  },
  {
   "cell_type": "code",
   "execution_count": 10,
   "id": "596576c9",
   "metadata": {},
   "outputs": [],
   "source": [
    "# diseases = {}\n",
    "# os.chdir(\"/cs/usr/roeizucker/my_storage/Pandora/openTargetFiles/diseases/\")\n",
    "# for file in glob.glob(\"*.json\"):\n",
    "    \n",
    "#     with open(file) as f:\n",
    "#         for line in f:\n",
    "#             data = json.loads(line)\n",
    "#             diseases[data[\"id\"]] = data\n",
    "def disease_key_func(data):\n",
    "    return data[\"id\"]\n",
    "diseases = load_dataset_directory(\"/cs/usr/roeizucker/my_storage/Pandora/openTargetFiles/diseases/\",disease_key_func)"
   ]
  },
  {
   "cell_type": "code",
   "execution_count": null,
   "id": "f2e48fff",
   "metadata": {},
   "outputs": [],
   "source": []
  },
  {
   "cell_type": "code",
   "execution_count": 9,
   "id": "eb5b06e7",
   "metadata": {},
   "outputs": [
    {
     "name": "stdout",
     "output_type": "stream",
     "text": [
      "18663\n"
     ]
    }
   ],
   "source": [
    "print(len(diseases))"
   ]
  },
  {
   "cell_type": "code",
   "execution_count": 3,
   "id": "0bc107f9",
   "metadata": {},
   "outputs": [
    {
     "data": {
      "text/plain": [
       "True"
      ]
     },
     "execution_count": 3,
     "metadata": {},
     "output_type": "execute_result"
    }
   ],
   "source": [
    "\"Orphanet_84\" in diseases"
   ]
  },
  {
   "cell_type": "code",
   "execution_count": null,
   "id": "5cfc5c5d",
   "metadata": {},
   "outputs": [],
   "source": []
  },
  {
   "cell_type": "markdown",
   "id": "28f0bb85",
   "metadata": {},
   "source": [
    "## load go"
   ]
  },
  {
   "cell_type": "code",
   "execution_count": 3,
   "id": "76d409bb",
   "metadata": {},
   "outputs": [],
   "source": [
    "go = {}\n",
    "os.chdir(\"/cs/usr/roeizucker/my_storage/Pandora/openTargetFiles/go/\")\n",
    "for file in glob.glob(\"*.json\"):\n",
    "    \n",
    "    with open(file) as f:\n",
    "        for line in f:\n",
    "            data = json.loads(line)\n",
    "            go[data[\"id\"]] = data"
   ]
  },
  {
   "cell_type": "markdown",
   "id": "e6e1793e",
   "metadata": {},
   "source": [
    "## load gene2phenotype"
   ]
  },
  {
   "cell_type": "code",
   "execution_count": 5,
   "id": "84272b0d",
   "metadata": {},
   "outputs": [],
   "source": [
    "\n",
    "# /cs/labs/michall/roeizucker/Pandora/openTargetFiles/evidence/sourceId=gene2phenotype"
   ]
  },
  {
   "cell_type": "markdown",
   "id": "776754dd",
   "metadata": {},
   "source": [
    "## load AssociationByDatatypeDirect"
   ]
  },
  {
   "cell_type": "code",
   "execution_count": null,
   "id": "223df540",
   "metadata": {},
   "outputs": [],
   "source": [
    "AssociationByDatatypeDirect = load_dataset_directory(\"/cs/labs/michall/roeizucker/Pandora/openTargetFiles/associationByDatatypeDirect/\",)"
   ]
  }
 ],
 "metadata": {
  "kernelspec": {
   "display_name": "myenv",
   "language": "python",
   "name": "myenv"
  },
  "language_info": {
   "codemirror_mode": {
    "name": "ipython",
    "version": 3
   },
   "file_extension": ".py",
   "mimetype": "text/x-python",
   "name": "python",
   "nbconvert_exporter": "python",
   "pygments_lexer": "ipython3",
   "version": "3.7.3"
  }
 },
 "nbformat": 4,
 "nbformat_minor": 5
}
