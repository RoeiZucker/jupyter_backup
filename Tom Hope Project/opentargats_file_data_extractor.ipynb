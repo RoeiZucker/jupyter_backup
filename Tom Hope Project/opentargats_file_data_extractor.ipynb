{
 "cells": [
  {
   "cell_type": "code",
   "execution_count": 18,
   "id": "f477ada4",
   "metadata": {},
   "outputs": [],
   "source": [
    "import json\n",
    "import glob, os\n",
    "import pykeen\n",
    "# try to use libkge"
   ]
  },
  {
   "cell_type": "markdown",
   "id": "faa2e288",
   "metadata": {},
   "source": [
    "## load diseases"
   ]
  },
  {
   "cell_type": "code",
   "execution_count": 12,
   "id": "8e8f1913",
   "metadata": {},
   "outputs": [],
   "source": [
    "def load_dataset_directory(path,key_func):\n",
    "    dic = {}\n",
    "    os.chdir(path)\n",
    "    for file in glob.glob(\"*.json\"):\n",
    "        with open(file) as f:\n",
    "            for line in f:\n",
    "                data = json.loads(line)\n",
    "                dic[key_func(data)] = data\n",
    "    return dic"
   ]
  },
  {
   "cell_type": "code",
   "execution_count": 13,
   "id": "596576c9",
   "metadata": {},
   "outputs": [],
   "source": [
    "# diseases = {}\n",
    "# os.chdir(\"/cs/usr/roeizucker/my_storage/Pandora/openTargetFiles/diseases/\")\n",
    "# for file in glob.glob(\"*.json\"):\n",
    "    \n",
    "#     with open(file) as f:\n",
    "#         for line in f:\n",
    "#             data = json.loads(line)\n",
    "#             diseases[data[\"id\"]] = data\n",
    "def disease_key_func(data):\n",
    "    return data[\"id\"]\n",
    "diseases = load_dataset_directory(\"/cs/usr/roeizucker/my_storage/Pandora/openTargetFiles/diseases/\",disease_key_func)"
   ]
  },
  {
   "cell_type": "code",
   "execution_count": null,
   "id": "ad1269ba",
   "metadata": {},
   "outputs": [],
   "source": []
  },
  {
   "cell_type": "code",
   "execution_count": 14,
   "id": "eb5b06e7",
   "metadata": {},
   "outputs": [
    {
     "name": "stdout",
     "output_type": "stream",
     "text": [
      "18663\n"
     ]
    }
   ],
   "source": [
    "print(len(diseases))"
   ]
  },
  {
   "cell_type": "code",
   "execution_count": 17,
   "id": "0bc107f9",
   "metadata": {},
   "outputs": [
    {
     "data": {
      "text/plain": [
       "True"
      ]
     },
     "execution_count": 17,
     "metadata": {},
     "output_type": "execute_result"
    }
   ],
   "source": [
    "\"Orphanet_99951\" in diseases"
   ]
  },
  {
   "cell_type": "code",
   "execution_count": null,
   "id": "5cfc5c5d",
   "metadata": {},
   "outputs": [],
   "source": []
  },
  {
   "cell_type": "markdown",
   "id": "28f0bb85",
   "metadata": {},
   "source": [
    "## load go"
   ]
  },
  {
   "cell_type": "code",
   "execution_count": 3,
   "id": "76d409bb",
   "metadata": {},
   "outputs": [],
   "source": [
    "go = {}\n",
    "os.chdir(\"/cs/usr/roeizucker/my_storage/Pandora/openTargetFiles/go/\")\n",
    "for file in glob.glob(\"*.json\"):\n",
    "    \n",
    "    with open(file) as f:\n",
    "        for line in f:\n",
    "            data = json.loads(line)\n",
    "            go[data[\"id\"]] = data"
   ]
  },
  {
   "cell_type": "markdown",
   "id": "b8bdb6be",
   "metadata": {},
   "source": [
    "## load gene2phenotype"
   ]
  },
  {
   "cell_type": "code",
   "execution_count": 5,
   "id": "cb660021",
   "metadata": {},
   "outputs": [],
   "source": [
    "\n",
    "# /cs/labs/michall/roeizucker/Pandora/openTargetFiles/evidence/sourceId=gene2phenotype"
   ]
  },
  {
   "cell_type": "markdown",
   "id": "2d9b5cff",
   "metadata": {},
   "source": [
    "## load AssociationByDatatypeDirect"
   ]
  },
  {
   "cell_type": "code",
   "execution_count": 15,
   "id": "a8d1e91f",
   "metadata": {},
   "outputs": [],
   "source": [
    "def AssociationByDatatypeDirect_key_func(data):\n",
    "    return data[\"diseaseId\"] + \"_\" + data[\"targetId\"] + \"_\" + data[\"datatypeId\"]\n",
    "AssociationByDatatypeDirect = load_dataset_directory(\"/cs/labs/michall/roeizucker/Pandora/openTargetFiles/associationByDatatypeDirect/\",AssociationByDatatypeDirect_key_func)"
   ]
  },
  {
   "cell_type": "code",
   "execution_count": 16,
   "id": "89b8d33c",
   "metadata": {},
   "outputs": [
    {
     "name": "stdout",
     "output_type": "stream",
     "text": [
      "2283303\n"
     ]
    }
   ],
   "source": [
    "print(len(AssociationByDatatypeDirect))"
   ]
  }
 ],
 "metadata": {
  "kernelspec": {
   "display_name": "myenv",
   "language": "python",
   "name": "myenv"
  },
  "language_info": {
   "codemirror_mode": {
    "name": "ipython",
    "version": 3
   },
   "file_extension": ".py",
   "mimetype": "text/x-python",
   "name": "python",
   "nbconvert_exporter": "python",
   "pygments_lexer": "ipython3",
   "version": "3.7.3"
  }
 },
 "nbformat": 4,
 "nbformat_minor": 5
}
