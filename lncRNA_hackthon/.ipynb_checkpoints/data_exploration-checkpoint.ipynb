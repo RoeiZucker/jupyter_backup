{
 "cells": [
  {
   "cell_type": "code",
   "execution_count": 1,
   "id": "fe50902c-fcc1-44dc-870b-6262fb881e3b",
   "metadata": {},
   "outputs": [],
   "source": [
    "import pandas as pd\n",
    "import numpy as np\n",
    "import glob\n",
    "import os\n",
    "import matplotlib.pyplot as plt\n"
   ]
  },
  {
   "cell_type": "code",
   "execution_count": 2,
   "id": "3769d1ce-194c-4c63-a00f-ad16018b6054",
   "metadata": {},
   "outputs": [],
   "source": [
    "df_main = pd.read_excel(\"lncRNAKB_annot.xlsx\")\n",
    "table_browser_refseq = pd.read_csv(\"table_browser_refseq.csv\")\n",
    "mart_export = pd.read_csv(\"mart_export.txt\", sep=\",\", low_memory=False)"
   ]
  },
  {
   "cell_type": "code",
   "execution_count": 3,
   "id": "b3024a4d-ed57-4102-989c-543b3fa28a10",
   "metadata": {},
   "outputs": [],
   "source": [
    "refseq_names = set(table_browser_refseq[\"name2\"])\n",
    "mart_names = set(mart_export[\"Gene stable ID\"])"
   ]
  },
  {
   "cell_type": "code",
   "execution_count": 4,
   "id": "01840a71-9d87-4bae-ad0a-c96e7448a08a",
   "metadata": {},
   "outputs": [],
   "source": [
    "df_filter = df_main[(df_main[\"Ensembl Gene stable ID\"].isin(mart_names)) | (df_main[\"idents\"].isin(refseq_names))]"
   ]
  },
  {
   "cell_type": "code",
   "execution_count": null,
   "id": "2788456c-a378-40ca-be0b-04eae7038a88",
   "metadata": {},
   "outputs": [],
   "source": []
  },
  {
   "cell_type": "code",
   "execution_count": 5,
   "id": "3e135aec-2ef4-48dd-ab25-f64f758fcf46",
   "metadata": {},
   "outputs": [
    {
     "name": "stderr",
     "output_type": "stream",
     "text": [
      "/tmp/ipykernel_3394198/1521912531.py:1: SettingWithCopyWarning: \n",
      "A value is trying to be set on a copy of a slice from a DataFrame.\n",
      "Try using .loc[row_indexer,col_indexer] = value instead\n",
      "\n",
      "See the caveats in the documentation: https://pandas.pydata.org/pandas-docs/stable/user_guide/indexing.html#returning-a-view-versus-a-copy\n",
      "  df_filter[\"strand\"] = \"filler\"\n"
     ]
    }
   ],
   "source": [
    "df_filter[\"strand\"] = \"filler\""
   ]
  },
  {
   "cell_type": "code",
   "execution_count": null,
   "id": "3ac24cce-eb12-48f7-a60b-26e6a8f38aeb",
   "metadata": {},
   "outputs": [],
   "source": []
  },
  {
   "cell_type": "code",
   "execution_count": 6,
   "id": "d6ca194d-fa88-487a-8ad9-58c1c3af294b",
   "metadata": {},
   "outputs": [],
   "source": [
    "mart_export_dict = mart_export[[\"Gene stable ID\",\"Strand\"]].dropna().drop_duplicates(subset=['Gene stable ID']).set_index(\"Gene stable ID\")\n",
    "mart_export_dict = mart_export_dict.to_dict(\"index\")\n"
   ]
  },
  {
   "cell_type": "code",
   "execution_count": 7,
   "id": "04385de8-e172-41fe-a964-343261773574",
   "metadata": {},
   "outputs": [],
   "source": [
    "refseq_dict = table_browser_refseq[[\"name2\",\"strand\"]].dropna().drop_duplicates(subset=['name2']).set_index(\"name2\")\n",
    "refseq_dict = refseq_dict.to_dict(\"index\")"
   ]
  },
  {
   "cell_type": "code",
   "execution_count": 8,
   "id": "cbfb453c-4152-4e08-97de-c174a1c75394",
   "metadata": {},
   "outputs": [],
   "source": [
    "def apply_strand(row):\n",
    "    ensamlbe_id = row[\"Ensembl Gene stable ID\"]\n",
    "    indent = row[\"idents\"]\n",
    "    if ensamlbe_id in mart_export_dict:\n",
    "        if mart_export_dict[ensamlbe_id][\"Strand\"] == 1:\n",
    "            return \"+\"\n",
    "        else:\n",
    "            return \"-\"\n",
    "    if indent in refseq_dict:\n",
    "        return refseq_dict[indent][\"strand\"]\n"
   ]
  },
  {
   "cell_type": "code",
   "execution_count": 9,
   "id": "db4e518b-e1bf-47af-a73b-84f29f04b383",
   "metadata": {},
   "outputs": [
    {
     "name": "stderr",
     "output_type": "stream",
     "text": [
      "/tmp/ipykernel_3394198/1633899744.py:1: SettingWithCopyWarning: \n",
      "A value is trying to be set on a copy of a slice from a DataFrame.\n",
      "Try using .loc[row_indexer,col_indexer] = value instead\n",
      "\n",
      "See the caveats in the documentation: https://pandas.pydata.org/pandas-docs/stable/user_guide/indexing.html#returning-a-view-versus-a-copy\n",
      "  df_filter[\"strand\"] =  df_filter.apply(apply_strand,axis=1)\n"
     ]
    }
   ],
   "source": [
    "df_filter[\"strand\"] =  df_filter.apply(apply_strand,axis=1)"
   ]
  },
  {
   "cell_type": "code",
   "execution_count": null,
   "id": "056e6c7b-c376-467a-bc22-0b93bfcd6888",
   "metadata": {},
   "outputs": [],
   "source": []
  },
  {
   "cell_type": "code",
   "execution_count": null,
   "id": "bfe8004b-65b6-483b-9e58-52170b27074e",
   "metadata": {},
   "outputs": [],
   "source": []
  },
  {
   "cell_type": "code",
   "execution_count": null,
   "id": "a9aae3a4-7e37-46b7-9c86-fc1ccb103489",
   "metadata": {},
   "outputs": [],
   "source": []
  },
  {
   "cell_type": "code",
   "execution_count": null,
   "id": "78ead0bc-1efd-47be-b64a-e1c969fb3629",
   "metadata": {},
   "outputs": [],
   "source": []
  },
  {
   "cell_type": "code",
   "execution_count": 10,
   "id": "56a1b1c6-e415-443c-abf1-09bd463ed0ec",
   "metadata": {},
   "outputs": [],
   "source": [
    "df = pd.read_csv(\"./Bladder_Tissue.gene.TPM.txt\",sep=\" \")"
   ]
  },
  {
   "cell_type": "code",
   "execution_count": 11,
   "id": "73763cc5-d0c8-4d07-bfb3-cc9d8d4eb31b",
   "metadata": {},
   "outputs": [],
   "source": [
    "df = pd.read_csv(\"./Bladder_Tissue.gene.TPM.txt\",sep=\" \")\n",
    "df = df[['chr', 'start', 'end']]"
   ]
  },
  {
   "cell_type": "code",
   "execution_count": null,
   "id": "57bdbf6f-943d-4a02-ba11-b97efc98e883",
   "metadata": {},
   "outputs": [],
   "source": []
  },
  {
   "cell_type": "code",
   "execution_count": 12,
   "id": "0bd75b1b-7479-4734-b56a-19340a854cc5",
   "metadata": {},
   "outputs": [
    {
     "name": "stdout",
     "output_type": "stream",
     "text": [
      "      lnckbID.1 1  lnckbID.1 2\n",
      "0        lnckb.32     lnckb.33\n",
      "1        lnckb.36     lnckb.37\n",
      "2       lnckb.128    lnckb.129\n",
      "3       lnckb.138    lnckb.140\n",
      "4       lnckb.165    lnckb.167\n",
      "...           ...          ...\n",
      "3781  lnckb.59294  lnckb.59295\n",
      "3782  lnckb.59311  lnckb.59312\n",
      "3783  lnckb.59325  lnckb.59326\n",
      "3784  lnckb.59332  lnckb.59333\n",
      "3785  lnckb.77601  lnckb.77602\n",
      "\n",
      "[3786 rows x 2 columns]\n"
     ]
    },
    {
     "data": {
      "text/plain": [
       "lnckbID.1 1\n",
       "lnckb.28496    7\n",
       "lnckb.165      7\n",
       "lnckb.30607    6\n",
       "lnckb.24032    6\n",
       "lnckb.10376    5\n",
       "              ..\n",
       "lnckb.21356    1\n",
       "lnckb.21374    1\n",
       "lnckb.21402    1\n",
       "lnckb.21438    1\n",
       "lnckb.77601    1\n",
       "Name: count, Length: 3345, dtype: int64"
      ]
     },
     "execution_count": 12,
     "metadata": {},
     "output_type": "execute_result"
    }
   ],
   "source": [
    "df = df_filter\n",
    "# df = df[df[\"gene_type\"] == \"lncRNA\"]\n",
    "df = df[[\"lnckbID.1\",'idents','chr', 'start', 'end',\"gene_type\",\"strand\"]]\n",
    "\n",
    "df = df.sort_values(by=['chr', 'start'])\n",
    "\n",
    "# Rename columns to match the new format\n",
    "df.columns = [\"lnckbID.1\",'idents', 'chr', 'start', 'end',\"gene_type\",\"strand\"]\n",
    "\n",
    "# To store results\n",
    "intersected_genes = []\n",
    "\n",
    "# Find overlapping genes\n",
    "for chrom in df['chr'].unique():\n",
    "    # Filter for a specific chromosome\n",
    "    chrom_df = df[df['chr'] == chrom]\n",
    "    chrom_df = chrom_df.reset_index(drop=True)\n",
    "    \n",
    "    # Iterate through the genes to find overlaps\n",
    "    for i in range(len(chrom_df) - 1):\n",
    "        gene1_start = chrom_df.loc[i, 'start']\n",
    "        gene1_end = chrom_df.loc[i, 'end']\n",
    "        gene1_name = chrom_df.loc[i, 'lnckbID.1']\n",
    "        gene1_type = chrom_df.loc[i, 'gene_type']\n",
    "        gene1_strand = chrom_df.loc[i, 'strand']\n",
    "        \n",
    "        for j in range(i + 1, len(chrom_df)):\n",
    "            gene2_start = chrom_df.loc[j, 'start']\n",
    "            gene2_end = chrom_df.loc[j, 'end']\n",
    "            gene2_name = chrom_df.loc[j, 'lnckbID.1']\n",
    "            gene2_type = chrom_df.loc[j, 'gene_type']\n",
    "            gene2_strand = chrom_df.loc[j, 'strand']\n",
    "\n",
    "\n",
    "            # Check for intersection\n",
    "            if (\n",
    "                gene1_end >= gene2_start and\n",
    "                'lncRNA' in [gene1_type, gene2_type] and\n",
    "                gene1_strand != gene2_strand\n",
    "            ):\n",
    "                intersected_genes.append((gene1_name, gene2_name))\n",
    "            else:\n",
    "                # No further intersections are possible beyond this point\n",
    "                break\n",
    "\n",
    "# Display results\n",
    "intersected_df = pd.DataFrame(intersected_genes, columns=['lnckbID.1 1', 'lnckbID.1 2'])\n",
    "print(intersected_df)\n",
    "intersected_df[\"lnckbID.1 1\"].value_counts()\n"
   ]
  },
  {
   "cell_type": "code",
   "execution_count": 13,
   "id": "d6199ba3-b41c-4dc6-8117-e8d8f0bc3819",
   "metadata": {},
   "outputs": [],
   "source": [
    "set1 = set(intersected_df[\"lnckbID.1 1\"])\n",
    "set2 = set(intersected_df[\"lnckbID.1 2\"])\n",
    "set3 = set1.union(set2)\n",
    "list_lncRNA_names = list(set(df_filter[df_filter[\"gene_type\"] == \"lncRNA\"][\"lnckbID.1\"]).intersection(set3))\n"
   ]
  },
  {
   "cell_type": "code",
   "execution_count": 14,
   "id": "0dda7986-9084-4776-b05c-806a79c3d795",
   "metadata": {},
   "outputs": [
    {
     "data": {
      "text/plain": [
       "3937"
      ]
     },
     "execution_count": 14,
     "metadata": {},
     "output_type": "execute_result"
    }
   ],
   "source": [
    "len(list_lncRNA_names)"
   ]
  },
  {
   "cell_type": "code",
   "execution_count": 15,
   "id": "cdd4a2fa-651d-4410-81d7-5c146dc6d9d6",
   "metadata": {},
   "outputs": [],
   "source": [
    "# bladder_df = pd.read_csv(\"./Bladder_Tissue.gene.TPM.txt\",sep=\" \")\n",
    "# most_significant_intersections = list(intersected_df[\"lnckbID.1 1\"].value_counts().head(10).index)\n",
    "# most_significant_intersections\n",
    "# filtered_df = bladder_df.loc[most_significant_intersections]\n"
   ]
  },
  {
   "cell_type": "code",
   "execution_count": 16,
   "id": "a71f0503-3a7d-48be-b0ab-a604ef62c5bb",
   "metadata": {},
   "outputs": [],
   "source": [
    "directory_path = \"/sci/nosnap/michall/roeizucker/jupyter_notebooks/lncRNA_hackthon\"\n",
    "\n",
    "# Dictionary to store DataFrames with filenames as keys\n",
    "dataframes = {}\n",
    "\n",
    "# Iterate over all files ending with \"gene.TPM.txt\" in the directory\n",
    "for file_path in glob.glob(os.path.join(directory_path, \"*.gene.TPM.txt\")):\n",
    "    # Extract the base filename without the directory or file extension\n",
    "    file_name = os.path.basename(file_path).replace(\".gene.TPM.txt\", \"\")\n",
    "    \n",
    "    # Read the file into a DataFrame with space as the separator\n",
    "    df = pd.read_csv(file_path, sep=\" \")\n",
    "    \n",
    "    # Store the DataFrame in the dictionary with the filename as the key\n",
    "    dataframes[file_name] = df\n",
    "\n",
    "# Now you can access each DataFrame by the file's base name\n",
    "# Example: accessing the DataFrame for \"Adipose_Tissue\""
   ]
  },
  {
   "cell_type": "code",
   "execution_count": null,
   "id": "e9234958-7036-4613-9de8-529b11682ecc",
   "metadata": {},
   "outputs": [],
   "source": []
  },
  {
   "cell_type": "code",
   "execution_count": 17,
   "id": "bdcff609-a7b4-4cb7-9cef-9dca8f36aa9a",
   "metadata": {
    "scrolled": true
   },
   "outputs": [
    {
     "name": "stdout",
     "output_type": "stream",
     "text": [
      "Testis_Tissue\n",
      "10.030593309594263\n",
      "10.727150729554602\n",
      "Thyroid_Tissue\n",
      "10.030593309594263\n",
      "8.463374821015298\n",
      "Bladder_Tissue\n",
      "10.030593309594263\n",
      "8.638033872921367\n",
      "Muscle_Tissue\n",
      "10.030593309594261\n",
      "12.172596790344588\n",
      "Uterus_Tissue\n",
      "10.030593309594265\n",
      "9.748413170164287\n",
      "Spleen_Tissue\n",
      "10.030593309594263\n",
      "6.9114646454591755\n",
      "Blood_Vessel_Tissue\n",
      "10.030593309594265\n",
      "9.696073635504133\n",
      "Adipose_Tissue\n",
      "10.030593309594265\n",
      "7.479945923308387\n",
      "Pancreas_Tissue\n",
      "10.030593309594261\n",
      "9.47498271250055\n",
      "Prostate_Tissue\n",
      "10.030593309594263\n",
      "8.658431753015758\n",
      "Esophagus_Tissue\n",
      "10.030593309594263\n",
      "6.947989946669587\n",
      "Heart_Tissue\n",
      "10.030593309594261\n",
      "13.23174401962008\n",
      "Skin_Tissue\n",
      "10.030593309594261\n",
      "6.432706278667427\n",
      "Adrenal_Gland_Tissue\n",
      "10.030593309594263\n",
      "11.911227789037117\n",
      "Liver_Tissue\n",
      "10.030593309594261\n",
      "5.809350193737421\n",
      "Bone_Marrow_Tissue\n",
      "10.030593309594261\n",
      "6.87934573384669\n",
      "Blood_Tissue\n",
      "10.030593309594263\n",
      "3.2047173472611417\n",
      "Nerve_Tissue\n",
      "10.030593309594263\n",
      "8.672607823804103\n",
      "Stomach_Tissue\n",
      "10.030593309594263\n",
      "6.786893187728781\n",
      "Colon_Tissue\n",
      "10.030593309594263\n",
      "7.758410694825087\n",
      "Vagina_Tissue\n",
      "10.030593309594263\n",
      "6.897418428311928\n",
      "Breast_Tissue\n",
      "10.030593309594263\n",
      "7.848589117299724\n",
      "Kidney_Tissue\n",
      "10.030593309594263\n",
      "7.253267122066874\n",
      "Lung_Tissue\n",
      "10.030593309594263\n",
      "7.8036685954191185\n",
      "Pituitary_Tissue\n",
      "10.030593309594261\n",
      "6.726961750799288\n",
      "Salivary_Gland_Tissue\n",
      "10.03059330959426\n",
      "6.462489690872259\n",
      "Brain_Tissue\n",
      "10.030593309594263\n",
      "7.939424501791152\n",
      "Cervix_Uteri_Tissue\n",
      "10.030593309594265\n",
      "7.912448052087006\n",
      "Ovary_Tissue\n",
      "10.030593309594263\n",
      "7.773638011289607\n",
      "Small_Intestine_Tissue\n",
      "10.030593309594263\n",
      "7.545206566094119\n"
     ]
    }
   ],
   "source": [
    "for tissue in dataframes:\n",
    "    print(tissue)\n",
    "    df = dataframes[tissue]\n",
    "    df = df[df.columns[4:]]\n",
    "    print(df.mean().mean())\n",
    "    print(df.loc[list(list_lncRNA_names)].mean().mean())"
   ]
  },
  {
   "cell_type": "code",
   "execution_count": 18,
   "id": "c9028afb-73d0-445a-acfc-1fb9de591147",
   "metadata": {},
   "outputs": [],
   "source": [
    "tissues_list = list(dataframes.keys())\n",
    "full_gene_list = list(df_main[\"lnckbID.1\"])"
   ]
  },
  {
   "cell_type": "code",
   "execution_count": 19,
   "id": "dc25f5f3-960f-4bd3-bf66-ca88a2ed7b47",
   "metadata": {},
   "outputs": [],
   "source": [
    "temp_gene_set = set(full_gene_list)\n",
    "for tissue in tissues_list:\n",
    "    temp_gene_set = temp_gene_set.intersection(set(dataframes[tissue].index))\n",
    "gene_list = sorted(list(temp_gene_set))"
   ]
  },
  {
   "cell_type": "code",
   "execution_count": 20,
   "id": "fdcf2cd4-ec00-4065-ab62-90109397e781",
   "metadata": {},
   "outputs": [
    {
     "data": {
      "text/html": [
       "<div>\n",
       "<style scoped>\n",
       "    .dataframe tbody tr th:only-of-type {\n",
       "        vertical-align: middle;\n",
       "    }\n",
       "\n",
       "    .dataframe tbody tr th {\n",
       "        vertical-align: top;\n",
       "    }\n",
       "\n",
       "    .dataframe thead th {\n",
       "        text-align: right;\n",
       "    }\n",
       "</style>\n",
       "<table border=\"1\" class=\"dataframe\">\n",
       "  <thead>\n",
       "    <tr style=\"text-align: right;\">\n",
       "      <th></th>\n",
       "      <th>chr</th>\n",
       "      <th>start</th>\n",
       "      <th>end</th>\n",
       "      <th>gene_type</th>\n",
       "    </tr>\n",
       "  </thead>\n",
       "  <tbody>\n",
       "    <tr>\n",
       "      <th>lnckb.1</th>\n",
       "      <td>chr1</td>\n",
       "      <td>11874</td>\n",
       "      <td>14409</td>\n",
       "      <td>misc_RNA</td>\n",
       "    </tr>\n",
       "    <tr>\n",
       "      <th>lnckb.10</th>\n",
       "      <td>chr1</td>\n",
       "      <td>184878</td>\n",
       "      <td>199860</td>\n",
       "      <td>misc_RNA</td>\n",
       "    </tr>\n",
       "    <tr>\n",
       "      <th>lnckb.100</th>\n",
       "      <td>chr1</td>\n",
       "      <td>1430157</td>\n",
       "      <td>1434573</td>\n",
       "      <td>lncRNA</td>\n",
       "    </tr>\n",
       "    <tr>\n",
       "      <th>lnckb.10000</th>\n",
       "      <td>chr11</td>\n",
       "      <td>112961247</td>\n",
       "      <td>113280283</td>\n",
       "      <td>protein_coding</td>\n",
       "    </tr>\n",
       "    <tr>\n",
       "      <th>lnckb.100000</th>\n",
       "      <td>chr10</td>\n",
       "      <td>84603029</td>\n",
       "      <td>84613397</td>\n",
       "      <td>lncRNA</td>\n",
       "    </tr>\n",
       "    <tr>\n",
       "      <th>...</th>\n",
       "      <td>...</td>\n",
       "      <td>...</td>\n",
       "      <td>...</td>\n",
       "      <td>...</td>\n",
       "    </tr>\n",
       "    <tr>\n",
       "      <th>lnckb.99995</th>\n",
       "      <td>chr10</td>\n",
       "      <td>83697523</td>\n",
       "      <td>83708684</td>\n",
       "      <td>lncRNA</td>\n",
       "    </tr>\n",
       "    <tr>\n",
       "      <th>lnckb.99996</th>\n",
       "      <td>chr10</td>\n",
       "      <td>83755361</td>\n",
       "      <td>83755825</td>\n",
       "      <td>lncRNA</td>\n",
       "    </tr>\n",
       "    <tr>\n",
       "      <th>lnckb.99997</th>\n",
       "      <td>chr10</td>\n",
       "      <td>83844924</td>\n",
       "      <td>83845245</td>\n",
       "      <td>lncRNA</td>\n",
       "    </tr>\n",
       "    <tr>\n",
       "      <th>lnckb.99998</th>\n",
       "      <td>chr10</td>\n",
       "      <td>84185428</td>\n",
       "      <td>84188600</td>\n",
       "      <td>lncRNA</td>\n",
       "    </tr>\n",
       "    <tr>\n",
       "      <th>lnckb.99999</th>\n",
       "      <td>chr10</td>\n",
       "      <td>84524956</td>\n",
       "      <td>84530718</td>\n",
       "      <td>lncRNA</td>\n",
       "    </tr>\n",
       "  </tbody>\n",
       "</table>\n",
       "<p>99695 rows × 4 columns</p>\n",
       "</div>"
      ],
      "text/plain": [
       "                chr      start        end       gene_type\n",
       "lnckb.1        chr1      11874      14409        misc_RNA\n",
       "lnckb.10       chr1     184878     199860        misc_RNA\n",
       "lnckb.100      chr1    1430157    1434573          lncRNA\n",
       "lnckb.10000   chr11  112961247  113280283  protein_coding\n",
       "lnckb.100000  chr10   84603029   84613397          lncRNA\n",
       "...             ...        ...        ...             ...\n",
       "lnckb.99995   chr10   83697523   83708684          lncRNA\n",
       "lnckb.99996   chr10   83755361   83755825          lncRNA\n",
       "lnckb.99997   chr10   83844924   83845245          lncRNA\n",
       "lnckb.99998   chr10   84185428   84188600          lncRNA\n",
       "lnckb.99999   chr10   84524956   84530718          lncRNA\n",
       "\n",
       "[99695 rows x 4 columns]"
      ]
     },
     "execution_count": 20,
     "metadata": {},
     "output_type": "execute_result"
    }
   ],
   "source": [
    "cols = dataframes[\"Testis_Tissue\"].columns[:4]\n",
    "main_dataframe = dataframes[tissues_list[0]].loc[gene_list][cols]\n",
    "main_dataframe"
   ]
  },
  {
   "cell_type": "code",
   "execution_count": 21,
   "id": "03d4a708-307c-48f8-87c4-e557053b078e",
   "metadata": {},
   "outputs": [],
   "source": [
    "for tissue in tissues_list:\n",
    "    cols = list(dataframes[tissue].columns[4:])\n",
    "    main_dataframe[tissue] = dataframes[tissue][cols].loc[gene_list].median(axis=1)"
   ]
  },
  {
   "cell_type": "code",
   "execution_count": 22,
   "id": "5f67a02d-2cbc-4f27-9113-d3e49831d06f",
   "metadata": {
    "scrolled": true
   },
   "outputs": [
    {
     "name": "stdout",
     "output_type": "stream",
     "text": [
      "Testis_Tissue             9.609925\n",
      "Thyroid_Tissue            9.200009\n",
      "Bladder_Tissue            9.254241\n",
      "Muscle_Tissue             9.039783\n",
      "Uterus_Tissue             9.304974\n",
      "Spleen_Tissue             9.181893\n",
      "Blood_Vessel_Tissue       9.081713\n",
      "Adipose_Tissue            8.956524\n",
      "Pancreas_Tissue           9.125605\n",
      "Prostate_Tissue           8.973288\n",
      "Esophagus_Tissue          7.698324\n",
      "Heart_Tissue              8.197507\n",
      "Skin_Tissue               8.617713\n",
      "Adrenal_Gland_Tissue      9.345530\n",
      "Liver_Tissue              8.750867\n",
      "Bone_Marrow_Tissue        9.988030\n",
      "Blood_Tissue              8.494379\n",
      "Nerve_Tissue              9.457133\n",
      "Stomach_Tissue            8.512882\n",
      "Colon_Tissue              8.745300\n",
      "Vagina_Tissue             8.868829\n",
      "Breast_Tissue             8.954110\n",
      "Kidney_Tissue             8.752375\n",
      "Lung_Tissue               8.901166\n",
      "Pituitary_Tissue          8.989047\n",
      "Salivary_Gland_Tissue     8.185618\n",
      "Brain_Tissue              8.576711\n",
      "Cervix_Uteri_Tissue       8.786806\n",
      "Ovary_Tissue              9.321559\n",
      "Small_Intestine_Tissue    8.645941\n",
      "dtype: float64\n",
      "Testis_Tissue             10.513380\n",
      "Thyroid_Tissue             7.901469\n",
      "Bladder_Tissue             8.019500\n",
      "Muscle_Tissue             10.383587\n",
      "Uterus_Tissue              9.199694\n",
      "Spleen_Tissue              6.567912\n",
      "Blood_Vessel_Tissue        8.905058\n",
      "Adipose_Tissue             6.760912\n",
      "Pancreas_Tissue            8.627114\n",
      "Prostate_Tissue            7.745391\n",
      "Esophagus_Tissue           6.181959\n",
      "Heart_Tissue               9.075878\n",
      "Skin_Tissue                5.248763\n",
      "Adrenal_Gland_Tissue      11.492505\n",
      "Liver_Tissue               5.175967\n",
      "Bone_Marrow_Tissue         6.809871\n",
      "Blood_Tissue               1.646134\n",
      "Nerve_Tissue               8.194595\n",
      "Stomach_Tissue             5.730684\n",
      "Colon_Tissue               6.833231\n",
      "Vagina_Tissue              6.049270\n",
      "Breast_Tissue              7.058459\n",
      "Kidney_Tissue              6.571909\n",
      "Lung_Tissue                7.093703\n",
      "Pituitary_Tissue           6.230012\n",
      "Salivary_Gland_Tissue      5.971389\n",
      "Brain_Tissue               6.815768\n",
      "Cervix_Uteri_Tissue        7.512119\n",
      "Ovary_Tissue               7.256288\n",
      "Small_Intestine_Tissue     6.619235\n",
      "dtype: float64\n"
     ]
    }
   ],
   "source": [
    "print(main_dataframe[main_dataframe.columns[4:]].mean())\n",
    "print(main_dataframe[main_dataframe.columns[4:]].loc[list_lncRNA_names].mean())"
   ]
  },
  {
   "cell_type": "code",
   "execution_count": 23,
   "id": "7da1bff3-2ce4-4406-a0e9-185bb98c9b59",
   "metadata": {},
   "outputs": [],
   "source": [
    "main_dataframe.to_csv(\"median_TPM_per_gene.csv\")"
   ]
  },
  {
   "cell_type": "code",
   "execution_count": 24,
   "id": "516853b1-49ed-4ddf-b84e-8ddb4b80bf27",
   "metadata": {},
   "outputs": [
    {
     "data": {
      "text/plain": [
       "'lnckb.15058'"
      ]
     },
     "execution_count": 24,
     "metadata": {},
     "output_type": "execute_result"
    }
   ],
   "source": [
    "temp_df = main_dataframe[main_dataframe.columns[4:]].loc[list_lncRNA_names].var(axis=1)\n",
    "max_val = temp_df.argmax()\n",
    "temp_df.index[max_val]"
   ]
  },
  {
   "cell_type": "code",
   "execution_count": 25,
   "id": "bb41ab64-0328-4241-9ec4-72aec7bfa9ca",
   "metadata": {},
   "outputs": [
    {
     "data": {
      "text/plain": [
       "'lnckb.18652'"
      ]
     },
     "execution_count": 25,
     "metadata": {},
     "output_type": "execute_result"
    }
   ],
   "source": [
    "temp_df = main_dataframe[main_dataframe.columns[4:]].var(axis=1)\n",
    "max_val = temp_df.argmax()\n",
    "temp_df.index[max_val]"
   ]
  },
  {
   "cell_type": "code",
   "execution_count": 26,
   "id": "c974f1d7-38ea-4b0a-ad6e-3ec24471a5a2",
   "metadata": {},
   "outputs": [],
   "source": [
    "def find_corr(row):\n",
    "    gene_1 = row[\"lnckbID.1 1\"]\n",
    "    gene_2 = row[\"lnckbID.1 2\"]\n",
    "    \n",
    "    return main_dataframe.loc[[gene_1,gene_2]][main_dataframe.columns[4:]].T.corr().loc[gene_1,gene_2]\n",
    "intersected_df[\"corr\"] = intersected_df.apply(find_corr,axis=1)"
   ]
  },
  {
   "cell_type": "code",
   "execution_count": 27,
   "id": "0324bc99-9755-419a-8189-1d8692088e96",
   "metadata": {},
   "outputs": [],
   "source": [
    "intersected_df.to_csv(\"intersected_with_corr.csv\")"
   ]
  },
  {
   "cell_type": "code",
   "execution_count": 28,
   "id": "1767cd09-f32d-46ce-b50f-d93555c60f01",
   "metadata": {},
   "outputs": [
    {
     "data": {
      "text/html": [
       "<div>\n",
       "<style scoped>\n",
       "    .dataframe tbody tr th:only-of-type {\n",
       "        vertical-align: middle;\n",
       "    }\n",
       "\n",
       "    .dataframe tbody tr th {\n",
       "        vertical-align: top;\n",
       "    }\n",
       "\n",
       "    .dataframe thead th {\n",
       "        text-align: right;\n",
       "    }\n",
       "</style>\n",
       "<table border=\"1\" class=\"dataframe\">\n",
       "  <thead>\n",
       "    <tr style=\"text-align: right;\">\n",
       "      <th></th>\n",
       "      <th>corr</th>\n",
       "    </tr>\n",
       "  </thead>\n",
       "  <tbody>\n",
       "    <tr>\n",
       "      <th>count</th>\n",
       "      <td>3496.000000</td>\n",
       "    </tr>\n",
       "    <tr>\n",
       "      <th>mean</th>\n",
       "      <td>0.641366</td>\n",
       "    </tr>\n",
       "    <tr>\n",
       "      <th>std</th>\n",
       "      <td>0.343038</td>\n",
       "    </tr>\n",
       "    <tr>\n",
       "      <th>min</th>\n",
       "      <td>-0.368889</td>\n",
       "    </tr>\n",
       "    <tr>\n",
       "      <th>25%</th>\n",
       "      <td>0.373268</td>\n",
       "    </tr>\n",
       "    <tr>\n",
       "      <th>50%</th>\n",
       "      <td>0.747256</td>\n",
       "    </tr>\n",
       "    <tr>\n",
       "      <th>75%</th>\n",
       "      <td>0.954786</td>\n",
       "    </tr>\n",
       "    <tr>\n",
       "      <th>max</th>\n",
       "      <td>1.000000</td>\n",
       "    </tr>\n",
       "  </tbody>\n",
       "</table>\n",
       "</div>"
      ],
      "text/plain": [
       "              corr\n",
       "count  3496.000000\n",
       "mean      0.641366\n",
       "std       0.343038\n",
       "min      -0.368889\n",
       "25%       0.373268\n",
       "50%       0.747256\n",
       "75%       0.954786\n",
       "max       1.000000"
      ]
     },
     "execution_count": 28,
     "metadata": {},
     "output_type": "execute_result"
    }
   ],
   "source": [
    "intersected_df.describe()"
   ]
  },
  {
   "cell_type": "code",
   "execution_count": 29,
   "id": "1f9da42c-ced6-4bbd-a450-afe3c5573ac9",
   "metadata": {},
   "outputs": [
    {
     "data": {
      "text/plain": [
       "array([[<Axes: title={'center': 'corr'}>]], dtype=object)"
      ]
     },
     "execution_count": 29,
     "metadata": {},
     "output_type": "execute_result"
    },
    {
     "data": {
      "image/png": "[encoded data removed]",
      "text/plain": [
       "<Figure size 640x480 with 1 Axes>"
      ]
     },
     "metadata": {},
     "output_type": "display_data"
    }
   ],
   "source": [
    "intersected_df.hist(bins=100)"
   ]
  },
  {
   "cell_type": "code",
   "execution_count": 43,
   "id": "69724ccf-865e-4eac-9e9a-b924dfbeb179",
   "metadata": {},
   "outputs": [],
   "source": []
  },
  {
   "cell_type": "code",
   "execution_count": 48,
   "id": "54991e71-03d4-4317-bd86-17a00b262317",
   "metadata": {},
   "outputs": [
    {
     "data": {
      "image/png": "[encoded data removed]",
      "text/plain": [
       "<Figure size 640x480 with 1 Axes>"
      ]
     },
     "metadata": {},
     "output_type": "display_data"
    }
   ],
   "source": [
    "mat = np.array(main_dataframe.sample(3000)[main_dataframe.columns[4:]].T.corr())\n",
    "n = mat.shape[0]\n",
    "mat[range(n), range(n)] = None\n",
    "x = mat.ravel()\n",
    "x = x[~np.isnan(x)]\n",
    "plt.hist(x, bins=100)  # arguments are passed to np.histogram\n",
    "plt.title(\"Histogram with 'auto' bins\")\n",
    "plt.show()"
   ]
  }
 ],
 "metadata": {
  "kernelspec": {
   "display_name": "Python 3 (ipykernel)",
   "language": "python",
   "name": "python3"
  },
  "language_info": {
   "codemirror_mode": {
    "name": "ipython",
    "version": 3
   },
   "file_extension": ".py",
   "mimetype": "text/x-python",
   "name": "python",
   "nbconvert_exporter": "python",
   "pygments_lexer": "ipython3",
   "version": "3.11.2"
  }
 },
 "nbformat": 4,
 "nbformat_minor": 5
}
